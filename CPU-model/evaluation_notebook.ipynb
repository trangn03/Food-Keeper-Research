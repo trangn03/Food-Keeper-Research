{
 "cells": [
  {
   "cell_type": "markdown",
   "metadata": {},
   "source": [
    "## Evaluation Notebook"
   ]
  },
  {
   "cell_type": "code",
   "execution_count": 1,
   "metadata": {
    "scrolled": true
   },
   "outputs": [
    {
     "name": "stdout",
     "output_type": "stream",
     "text": [
      "Collecting en-core-web-sm==3.3.0\n",
      "  Downloading https://github.com/explosion/spacy-models/releases/download/en_core_web_sm-3.3.0/en_core_web_sm-3.3.0-py3-none-any.whl (12.8 MB)\n",
      "     --------------------------------------- 12.8/12.8 MB 26.2 MB/s eta 0:00:00\n",
      "Requirement already satisfied: spacy<3.4.0,>=3.3.0.dev0 in c:\\users\\ferna\\anaconda3\\lib\\site-packages (from en-core-web-sm==3.3.0) (3.3.1)\n",
      "Collecting pydantic!=1.8,!=1.8.1,<1.9.0,>=1.7.4\n",
      "  Using cached pydantic-1.8.2-cp39-cp39-win_amd64.whl (1.9 MB)\n",
      "Requirement already satisfied: srsly<3.0.0,>=2.4.3 in c:\\users\\ferna\\anaconda3\\lib\\site-packages (from spacy<3.4.0,>=3.3.0.dev0->en-core-web-sm==3.3.0) (2.4.3)\n",
      "Requirement already satisfied: jinja2 in c:\\users\\ferna\\anaconda3\\lib\\site-packages (from spacy<3.4.0,>=3.3.0.dev0->en-core-web-sm==3.3.0) (2.11.3)\n",
      "Requirement already satisfied: setuptools in c:\\users\\ferna\\anaconda3\\lib\\site-packages (from spacy<3.4.0,>=3.3.0.dev0->en-core-web-sm==3.3.0) (63.4.1)\n",
      "Requirement already satisfied: tqdm<5.0.0,>=4.38.0 in c:\\users\\ferna\\anaconda3\\lib\\site-packages (from spacy<3.4.0,>=3.3.0.dev0->en-core-web-sm==3.3.0) (4.64.1)\n",
      "Requirement already satisfied: typer<0.5.0,>=0.3.0 in c:\\users\\ferna\\anaconda3\\lib\\site-packages (from spacy<3.4.0,>=3.3.0.dev0->en-core-web-sm==3.3.0) (0.4.1)\n",
      "Requirement already satisfied: langcodes<4.0.0,>=3.2.0 in c:\\users\\ferna\\anaconda3\\lib\\site-packages (from spacy<3.4.0,>=3.3.0.dev0->en-core-web-sm==3.3.0) (3.3.0)\n",
      "Requirement already satisfied: packaging>=20.0 in c:\\users\\ferna\\anaconda3\\lib\\site-packages (from spacy<3.4.0,>=3.3.0.dev0->en-core-web-sm==3.3.0) (21.3)\n",
      "Requirement already satisfied: spacy-loggers<2.0.0,>=1.0.0 in c:\\users\\ferna\\anaconda3\\lib\\site-packages (from spacy<3.4.0,>=3.3.0.dev0->en-core-web-sm==3.3.0) (1.0.1)\n",
      "Requirement already satisfied: pathy>=0.3.5 in c:\\users\\ferna\\anaconda3\\lib\\site-packages (from spacy<3.4.0,>=3.3.0.dev0->en-core-web-sm==3.3.0) (0.6.1)\n",
      "Requirement already satisfied: spacy-legacy<3.1.0,>=3.0.9 in c:\\users\\ferna\\anaconda3\\lib\\site-packages (from spacy<3.4.0,>=3.3.0.dev0->en-core-web-sm==3.3.0) (3.0.9)\n",
      "Requirement already satisfied: preshed<3.1.0,>=3.0.2 in c:\\users\\ferna\\anaconda3\\lib\\site-packages (from spacy<3.4.0,>=3.3.0.dev0->en-core-web-sm==3.3.0) (3.0.6)\n",
      "Requirement already satisfied: murmurhash<1.1.0,>=0.28.0 in c:\\users\\ferna\\anaconda3\\lib\\site-packages (from spacy<3.4.0,>=3.3.0.dev0->en-core-web-sm==3.3.0) (1.0.7)\n",
      "Requirement already satisfied: thinc<8.1.0,>=8.0.14 in c:\\users\\ferna\\anaconda3\\lib\\site-packages (from spacy<3.4.0,>=3.3.0.dev0->en-core-web-sm==3.3.0) (8.0.15)\n",
      "Requirement already satisfied: cymem<2.1.0,>=2.0.2 in c:\\users\\ferna\\anaconda3\\lib\\site-packages (from spacy<3.4.0,>=3.3.0.dev0->en-core-web-sm==3.3.0) (2.0.6)\n",
      "Requirement already satisfied: wasabi<1.1.0,>=0.9.1 in c:\\users\\ferna\\anaconda3\\lib\\site-packages (from spacy<3.4.0,>=3.3.0.dev0->en-core-web-sm==3.3.0) (0.9.1)\n",
      "Requirement already satisfied: blis<0.8.0,>=0.4.0 in c:\\users\\ferna\\anaconda3\\lib\\site-packages (from spacy<3.4.0,>=3.3.0.dev0->en-core-web-sm==3.3.0) (0.7.7)\n",
      "Requirement already satisfied: catalogue<2.1.0,>=2.0.6 in c:\\users\\ferna\\anaconda3\\lib\\site-packages (from spacy<3.4.0,>=3.3.0.dev0->en-core-web-sm==3.3.0) (2.0.7)\n",
      "Requirement already satisfied: requests<3.0.0,>=2.13.0 in c:\\users\\ferna\\anaconda3\\lib\\site-packages (from spacy<3.4.0,>=3.3.0.dev0->en-core-web-sm==3.3.0) (2.28.1)\n",
      "Requirement already satisfied: numpy>=1.15.0 in c:\\users\\ferna\\anaconda3\\lib\\site-packages (from spacy<3.4.0,>=3.3.0.dev0->en-core-web-sm==3.3.0) (1.21.5)\n",
      "Requirement already satisfied: pyparsing!=3.0.5,>=2.0.2 in c:\\users\\ferna\\anaconda3\\lib\\site-packages (from packaging>=20.0->spacy<3.4.0,>=3.3.0.dev0->en-core-web-sm==3.3.0) (3.0.9)\n",
      "Requirement already satisfied: smart-open<6.0.0,>=5.0.0 in c:\\users\\ferna\\anaconda3\\lib\\site-packages (from pathy>=0.3.5->spacy<3.4.0,>=3.3.0.dev0->en-core-web-sm==3.3.0) (5.2.1)\n",
      "Requirement already satisfied: typing-extensions>=3.7.4.3 in c:\\users\\ferna\\anaconda3\\lib\\site-packages (from pydantic!=1.8,!=1.8.1,<1.9.0,>=1.7.4->spacy<3.4.0,>=3.3.0.dev0->en-core-web-sm==3.3.0) (4.3.0)\n",
      "Requirement already satisfied: urllib3<1.27,>=1.21.1 in c:\\users\\ferna\\anaconda3\\lib\\site-packages (from requests<3.0.0,>=2.13.0->spacy<3.4.0,>=3.3.0.dev0->en-core-web-sm==3.3.0) (1.26.11)\n",
      "Requirement already satisfied: charset-normalizer<3,>=2 in c:\\users\\ferna\\anaconda3\\lib\\site-packages (from requests<3.0.0,>=2.13.0->spacy<3.4.0,>=3.3.0.dev0->en-core-web-sm==3.3.0) (2.0.4)\n",
      "Requirement already satisfied: certifi>=2017.4.17 in c:\\users\\ferna\\anaconda3\\lib\\site-packages (from requests<3.0.0,>=2.13.0->spacy<3.4.0,>=3.3.0.dev0->en-core-web-sm==3.3.0) (2022.9.14)\n",
      "Requirement already satisfied: idna<4,>=2.5 in c:\\users\\ferna\\anaconda3\\lib\\site-packages (from requests<3.0.0,>=2.13.0->spacy<3.4.0,>=3.3.0.dev0->en-core-web-sm==3.3.0) (3.3)\n",
      "Requirement already satisfied: colorama in c:\\users\\ferna\\anaconda3\\lib\\site-packages (from tqdm<5.0.0,>=4.38.0->spacy<3.4.0,>=3.3.0.dev0->en-core-web-sm==3.3.0) (0.4.5)\n",
      "Requirement already satisfied: click<9.0.0,>=7.1.1 in c:\\users\\ferna\\anaconda3\\lib\\site-packages (from typer<0.5.0,>=0.3.0->spacy<3.4.0,>=3.3.0.dev0->en-core-web-sm==3.3.0) (8.0.4)\n",
      "Requirement already satisfied: MarkupSafe>=0.23 in c:\\users\\ferna\\anaconda3\\lib\\site-packages (from jinja2->spacy<3.4.0,>=3.3.0.dev0->en-core-web-sm==3.3.0) (2.0.1)\n",
      "Installing collected packages: pydantic, en-core-web-sm\n",
      "  Attempting uninstall: pydantic\n",
      "    Found existing installation: pydantic 1.10.2\n",
      "    Uninstalling pydantic-1.10.2:\n",
      "      Successfully uninstalled pydantic-1.10.2\n",
      "Successfully installed en-core-web-sm-3.3.0 pydantic-1.8.2\n",
      "[+] Download and installation successful\n",
      "You can now load the package via spacy.load('en_core_web_sm')\n"
     ]
    }
   ],
   "source": [
    "# !python -m spacy download en_core_web_sm\n",
    "\n"
   ]
  },
  {
   "cell_type": "code",
   "execution_count": 6,
   "metadata": {},
   "outputs": [
    {
     "name": "stdout",
     "output_type": "stream",
     "text": [
      "Requirement already satisfied: spacy in c:\\users\\apanangadan\\appdata\\local\\anaconda3\\lib\\site-packages (3.5.3)\n",
      "Requirement already satisfied: requests<3.0.0,>=2.13.0 in c:\\users\\apanangadan\\appdata\\local\\anaconda3\\lib\\site-packages (from spacy) (2.28.1)\n",
      "Requirement already satisfied: catalogue<2.1.0,>=2.0.6 in c:\\users\\apanangadan\\appdata\\local\\anaconda3\\lib\\site-packages (from spacy) (2.0.8)\n",
      "Requirement already satisfied: spacy-legacy<3.1.0,>=3.0.11 in c:\\users\\apanangadan\\appdata\\local\\anaconda3\\lib\\site-packages (from spacy) (3.0.12)\n",
      "Requirement already satisfied: numpy>=1.15.0 in c:\\users\\apanangadan\\appdata\\local\\anaconda3\\lib\\site-packages (from spacy) (1.23.5)\n",
      "Requirement already satisfied: thinc<8.2.0,>=8.1.8 in c:\\users\\apanangadan\\appdata\\local\\anaconda3\\lib\\site-packages (from spacy) (8.1.10)\n",
      "Requirement already satisfied: preshed<3.1.0,>=3.0.2 in c:\\users\\apanangadan\\appdata\\local\\anaconda3\\lib\\site-packages (from spacy) (3.0.8)\n",
      "Requirement already satisfied: pydantic!=1.8,!=1.8.1,<1.11.0,>=1.7.4 in c:\\users\\apanangadan\\appdata\\local\\anaconda3\\lib\\site-packages (from spacy) (1.10.8)\n",
      "Requirement already satisfied: tqdm<5.0.0,>=4.38.0 in c:\\users\\apanangadan\\appdata\\local\\anaconda3\\lib\\site-packages (from spacy) (4.64.1)\n",
      "Requirement already satisfied: murmurhash<1.1.0,>=0.28.0 in c:\\users\\apanangadan\\appdata\\local\\anaconda3\\lib\\site-packages (from spacy) (1.0.9)\n",
      "Requirement already satisfied: jinja2 in c:\\users\\apanangadan\\appdata\\local\\anaconda3\\lib\\site-packages (from spacy) (3.1.2)\n",
      "Requirement already satisfied: langcodes<4.0.0,>=3.2.0 in c:\\users\\apanangadan\\appdata\\local\\anaconda3\\lib\\site-packages (from spacy) (3.3.0)\n",
      "Requirement already satisfied: pathy>=0.10.0 in c:\\users\\apanangadan\\appdata\\local\\anaconda3\\lib\\site-packages (from spacy) (0.10.1)\n",
      "Requirement already satisfied: wasabi<1.2.0,>=0.9.1 in c:\\users\\apanangadan\\appdata\\local\\anaconda3\\lib\\site-packages (from spacy) (1.1.1)\n",
      "Requirement already satisfied: srsly<3.0.0,>=2.4.3 in c:\\users\\apanangadan\\appdata\\local\\anaconda3\\lib\\site-packages (from spacy) (2.4.6)\n",
      "Requirement already satisfied: packaging>=20.0 in c:\\users\\apanangadan\\appdata\\local\\anaconda3\\lib\\site-packages (from spacy) (22.0)\n",
      "Requirement already satisfied: typer<0.8.0,>=0.3.0 in c:\\users\\apanangadan\\appdata\\local\\anaconda3\\lib\\site-packages (from spacy) (0.7.0)\n",
      "Requirement already satisfied: spacy-loggers<2.0.0,>=1.0.0 in c:\\users\\apanangadan\\appdata\\local\\anaconda3\\lib\\site-packages (from spacy) (1.0.4)\n",
      "Requirement already satisfied: smart-open<7.0.0,>=5.2.1 in c:\\users\\apanangadan\\appdata\\local\\anaconda3\\lib\\site-packages (from spacy) (5.2.1)\n",
      "Requirement already satisfied: cymem<2.1.0,>=2.0.2 in c:\\users\\apanangadan\\appdata\\local\\anaconda3\\lib\\site-packages (from spacy) (2.0.7)\n",
      "Requirement already satisfied: setuptools in c:\\users\\apanangadan\\appdata\\local\\anaconda3\\lib\\site-packages (from spacy) (65.6.3)\n",
      "Requirement already satisfied: typing-extensions>=4.2.0 in c:\\users\\apanangadan\\appdata\\local\\anaconda3\\lib\\site-packages (from pydantic!=1.8,!=1.8.1,<1.11.0,>=1.7.4->spacy) (4.4.0)\n",
      "Requirement already satisfied: certifi>=2017.4.17 in c:\\users\\apanangadan\\appdata\\local\\anaconda3\\lib\\site-packages (from requests<3.0.0,>=2.13.0->spacy) (2022.12.7)\n",
      "Requirement already satisfied: urllib3<1.27,>=1.21.1 in c:\\users\\apanangadan\\appdata\\local\\anaconda3\\lib\\site-packages (from requests<3.0.0,>=2.13.0->spacy) (1.26.14)\n",
      "Requirement already satisfied: idna<4,>=2.5 in c:\\users\\apanangadan\\appdata\\local\\anaconda3\\lib\\site-packages (from requests<3.0.0,>=2.13.0->spacy) (3.4)\n",
      "Requirement already satisfied: charset-normalizer<3,>=2 in c:\\users\\apanangadan\\appdata\\local\\anaconda3\\lib\\site-packages (from requests<3.0.0,>=2.13.0->spacy) (2.0.4)\n",
      "Requirement already satisfied: confection<1.0.0,>=0.0.1 in c:\\users\\apanangadan\\appdata\\local\\anaconda3\\lib\\site-packages (from thinc<8.2.0,>=8.1.8->spacy) (0.0.4)\n",
      "Requirement already satisfied: blis<0.8.0,>=0.7.8 in c:\\users\\apanangadan\\appdata\\local\\anaconda3\\lib\\site-packages (from thinc<8.2.0,>=8.1.8->spacy) (0.7.9)\n",
      "Requirement already satisfied: colorama in c:\\users\\apanangadan\\appdata\\local\\anaconda3\\lib\\site-packages (from tqdm<5.0.0,>=4.38.0->spacy) (0.4.6)\n",
      "Requirement already satisfied: click<9.0.0,>=7.1.1 in c:\\users\\apanangadan\\appdata\\local\\anaconda3\\lib\\site-packages (from typer<0.8.0,>=0.3.0->spacy) (8.0.4)\n",
      "Requirement already satisfied: MarkupSafe>=2.0 in c:\\users\\apanangadan\\appdata\\local\\anaconda3\\lib\\site-packages (from jinja2->spacy) (2.1.1)\n",
      "Note: you may need to restart the kernel to use updated packages.\n"
     ]
    }
   ],
   "source": [
    "pip install spacy\n"
   ]
  },
  {
   "cell_type": "code",
   "execution_count": 7,
   "metadata": {
    "scrolled": true
   },
   "outputs": [
    {
     "ename": "ImportError",
     "evalue": "cannot import name 'plot_confusion_matrix' from 'sklearn.metrics' (C:\\Users\\apanangadan\\AppData\\Local\\anaconda3\\lib\\site-packages\\sklearn\\metrics\\__init__.py)",
     "output_type": "error",
     "traceback": [
      "\u001b[1;31m---------------------------------------------------------------------------\u001b[0m",
      "\u001b[1;31mImportError\u001b[0m                               Traceback (most recent call last)",
      "Cell \u001b[1;32mIn[7], line 9\u001b[0m\n\u001b[0;32m      7\u001b[0m \u001b[38;5;28;01mfrom\u001b[39;00m \u001b[38;5;21;01mspacy\u001b[39;00m \u001b[38;5;28;01mimport\u001b[39;00m displacy\n\u001b[0;32m      8\u001b[0m \u001b[38;5;28;01mfrom\u001b[39;00m \u001b[38;5;21;01msklearn\u001b[39;00m \u001b[38;5;28;01mimport\u001b[39;00m metrics\n\u001b[1;32m----> 9\u001b[0m \u001b[38;5;28;01mfrom\u001b[39;00m \u001b[38;5;21;01msklearn\u001b[39;00m\u001b[38;5;21;01m.\u001b[39;00m\u001b[38;5;21;01mmetrics\u001b[39;00m \u001b[38;5;28;01mimport\u001b[39;00m plot_confusion_matrix\n\u001b[0;32m     11\u001b[0m \u001b[38;5;28;01mfrom\u001b[39;00m \u001b[38;5;21;01mspacy\u001b[39;00m\u001b[38;5;21;01m.\u001b[39;00m\u001b[38;5;21;01mutil\u001b[39;00m \u001b[38;5;28;01mimport\u001b[39;00m filter_spans\n\u001b[0;32m     16\u001b[0m FOODKEEPER_PATH \u001b[38;5;241m=\u001b[39m \u001b[38;5;124m\"\u001b[39m\u001b[38;5;124mdatasets/FoodKeeper-Data.xls\u001b[39m\u001b[38;5;124m\"\u001b[39m\n",
      "\u001b[1;31mImportError\u001b[0m: cannot import name 'plot_confusion_matrix' from 'sklearn.metrics' (C:\\Users\\apanangadan\\AppData\\Local\\anaconda3\\lib\\site-packages\\sklearn\\metrics\\__init__.py)"
     ]
    }
   ],
   "source": [
    "import pandas as pd\n",
    "from tqdm import tqdm\n",
    "import spacy\n",
    "from spacy.tokens import DocBin\n",
    "import re\n",
    "import os\n",
    "from spacy import displacy\n",
    "from sklearn import metrics\n",
    "from sklearn.metrics import plot_confusion_matrix\n",
    "\n",
    "from spacy.util import filter_spans\n",
    " \n",
    "\n",
    "\n",
    "\n",
    "FOODKEEPER_PATH = \"datasets/FoodKeeper-Data.xls\"\n",
    "TRAINING_DATA_PATH = \"datasets/data.csv\"\n",
    "MODEL_PATH = \"output/model-last\"\n",
    "TEST_DATA_PATH = \"datasets/test_data.csv\"\n",
    "REAL_TWITTER_DATA_PATH = \"datasets/data.csv\"\n",
    "#STARTING_KEYWORD_COUNT = 10\n",
    "#TRAINING_LOOP_ITERATIONS = 3\n",
    "#REQUIRED_KEYWORDS = 3\n",
    "\n",
    "pd.options.mode.chained_assignment = None\n",
    "\n",
    "#nlp = spacy.load(MODEL_PATH)\n",
    "nlp = spacy.blank(\"en\")\n",
    "food_data = pd.read_excel(FOODKEEPER_PATH, sheet_name = \"Product\")\n",
    "training_data = pd.read_csv(TRAINING_DATA_PATH,index_col = False, header = None)\n",
    "test_data = pd.read_csv(TEST_DATA_PATH)\n",
    "live_tweets = pd.read_csv(REAL_TWITTER_DATA_PATH, header = None)\n",
    "\n",
    "\n",
    "#loop through and count the specific entities\n",
    "keywords = [] #'chicken', 'milk', 'butter', 'cheese'\n",
    "sampleData = []\n",
    "\n",
    "\n",
    "    \n",
    "#update rank tweet to take the counter as a parameter and condense both rankings\n",
    "def rankTweet(tweet, model):\n",
    "#     model = spacy.load(MODEL_PATH)\n",
    "#     tweetKeywords = []\n",
    "    doc = model(tweet)\n",
    "    return len(doc.ents)\n",
    "       \n",
    "    \n",
    "def findNewKeywords(tweet, keywords):\n",
    "    foodkeeperKeys = foodKeeperInfo()\n",
    "    x = tweet.split()\n",
    "    word = \"\"\n",
    "    i = 0\n",
    "    while i < len(x):\n",
    "    #for i in range(len(x)):\n",
    "        z = 1\n",
    "        if x[i] in foodkeeperKeys:\n",
    "            word = x[i]\n",
    "        try:\n",
    "            foundBiWord = x[i] + \" \" + x[i+1]\n",
    "            if foundBiWord in foodkeeperKeys: #keywords\n",
    "                word = foundBiWord\n",
    "                z = 2\n",
    "        except:\n",
    "            pass\n",
    "        \n",
    "        try:\n",
    "            foundTriWord = x[i] + \" \" + x[i+1] + \" \" + x[i+2]\n",
    "            if foundTriWord in foodkeeperKeys: #keywords:\n",
    "                word = foundTriWord\n",
    "                z = 3\n",
    "        except:\n",
    "            pass\n",
    "        i += z\n",
    "        \n",
    "        if word not in keywords and word != \"\":\n",
    "            keywords.append(word)\n",
    "    return keywords\n",
    "    \n",
    "\n",
    "#Function to find the most common verbs in the tweets\n",
    "def getCommonVerbs(data):\n",
    "    import en_core_web_sm\n",
    "    nlp2 = spacy.load(\"en_core_web_sm\")\n",
    "    count = 0\n",
    "    myVerbs = {}\n",
    "    for i in range(len(data[0])):\n",
    "        doc = nlp2(data[0][i])\n",
    "        for token in doc:\n",
    "            if token.pos_ == \"VERB\":\n",
    "                if token.text in myVerbs:\n",
    "                    myVerbs[token.text] = myVerbs[token.text] + 1\n",
    "                else:\n",
    "                    if token.text not in nlp2.Defaults.stop_words:\n",
    "                        myVerbs[token.text] = 1\n",
    "        \n",
    "\n",
    "    topVerbs = dict(sorted(myVerbs.items(), key = lambda item: item[1], reverse=True)[:10])\n",
    "    return [key for key in topVerbs]\n",
    "    \n",
    "\n",
    "    \n",
    "def convertToTrainingFormat(tweet, keywords):\n",
    "    foodKeeperKeywordsTest = foodKeeperInfo()\n",
    "    x = tweet.split()\n",
    "    myEnts = {'entities':[]}\n",
    "    found = False\n",
    "    i = 0\n",
    "    foundWords = []\n",
    "    while i < len(x):\n",
    "        z = 1\n",
    "        newWord = \"\"\n",
    "        if x[i] in keywords:\n",
    "            pos = tweet.find(x[i])\n",
    "            y = (pos, pos + len(x[i]), 'FOOD')\n",
    "            found = True\n",
    "        if x[i] in foodKeeperKeywordsTest:\n",
    "            newWord = x[i]\n",
    "            \n",
    "        try:\n",
    "            foundBiWord = x[i] + \" \" + x[i+1]\n",
    "            if foundBiWord in keywords:\n",
    "                pos = tweet.find(x[i])\n",
    "                y = (pos, pos + len(x[i])+len(x[i+1]) + 1, 'FOOD')\n",
    "                found = True\n",
    "                z = 2\n",
    "            if foundBiWord in foodKeeperKeywordsTest:\n",
    "                newWord = foundBiWord\n",
    "        except:\n",
    "            pass\n",
    "        \n",
    "        try:\n",
    "            foundTriWord = x[i] + \" \" + x[i+1] + \" \" + x[i+2]\n",
    "            if foundTriWord in keywords:\n",
    "                pos = tweet.find(x[i])\n",
    "                y = (pos, pos + len(x[i])+len(x[i+1])+len(x[i+2]) + 2, 'FOOD')\n",
    "                found = True\n",
    "                z = 3\n",
    "            if foundTriWord in foodKeeperKeywordsTest:\n",
    "                newWord = foundTriWord\n",
    "        except:\n",
    "            pass\n",
    "        \n",
    "        try:\n",
    "            if y not in myEnts['entities']:\n",
    "                myEnts['entities'].append(y)    \n",
    "        except:\n",
    "            pass\n",
    "\n",
    "        if newWord != \"\" and newWord not in keywordRanker:\n",
    "            keywordRanker[newWord] = 1\n",
    "        elif newWord != \"\" and newWord in keywordRanker:\n",
    "            keywordRanker[newWord] += 1\n",
    "        #print(z)\n",
    "        i += z\n",
    "        #print(i)\n",
    "    formatted = (tweet, myEnts)\n",
    "    #print(formatted)\n",
    "    if found:\n",
    "        return formatted\n",
    "    else: \n",
    "        return ()\n",
    "     \n",
    "#Gathers all the keywords from the FoodKeeper database\n",
    "def foodKeeperInfo():              \n",
    "    keywords = []\n",
    "    for word in food_data['Name']:\n",
    "        word = word.replace(\" or \", \" \")\n",
    "        word = re.sub('[/,]', ' ', word)\n",
    "        word = word.lstrip()\n",
    "        word = word.rstrip()\n",
    "\n",
    "        if word.lower() not in keywords: \n",
    "            keywords.append(word.lower())\n",
    "\n",
    "    #print(\"Total foodkeeper food names: \" + str(len(keywords)))        \n",
    "    #for element in sorted(keywords):\n",
    "        #print(element)\n",
    "        \n",
    "    return keywords\n",
    "\n",
    "foodKeeperKeywordsTest = foodKeeperInfo()\n",
    "\n",
    "\n",
    "def preProcess(tweet):\n",
    "    #Converts a tweet to lowercase, replaces anyusername w/ <USERNAME> and URLS with <URL>\n",
    "    tweet = tweet.lower()\n",
    "    tweet = re.sub('@[a-zA-z0-9]*', '', tweet)              # <USERNAME>\n",
    "    tweet = re.sub('http[a-zA-z0-9./:]*', '', tweet)       # <URL>\n",
    "    tweet = re.sub('[.,-]*', '', tweet)\n",
    "    tweet = re.sub('&amp;', 'and', tweet)\n",
    "    \n",
    "    return tweet\n",
    "\n",
    "\n",
    "noEntity= []\n",
    "\n",
    "keywordRanker = {}\n",
    "\n",
    "def trainModel(data):\n",
    "    #Initialize all the variables\n",
    "    keywords = [] #foodKeeperInfo()\n",
    "    oldKeywords = []\n",
    "    newKeywords = []\n",
    "    \n",
    "      \n",
    "    \n",
    "    commonVerbs = getCommonVerbs(data) \n",
    "    print(commonVerbs)\n",
    "    print(\"Common Verbs gathered...\", '\\n')\n",
    "    \n",
    "    #entityCheckCount controls how many entities are required to \n",
    "    #add a Tweet to be trained\n",
    "    \n",
    "    entityCheckCount = 3\n",
    "    \n",
    "    counter = 0\n",
    "    trainingLoop = True\n",
    "    \n",
    "    while trainingLoop:\n",
    "        counterText = \"~~~~~~~~~~~~~~~~~\"+str(counter)+\"~~~~~~~~~~~~~~~~~\"\n",
    "        print(counterText)\n",
    "        \n",
    "        nlp = spacy.blank(\"en\") # load a new spacy model\n",
    "        try:\n",
    "            model = spacy.load(MODEL_PATH)\n",
    "            print('Model loaded...')\n",
    "        except:\n",
    "            print('No model...')\n",
    "        \n",
    "        db = DocBin() # create a DocBin object\n",
    "        \n",
    "        myTweets = []\n",
    "        \n",
    "        #Loop through all the tweets\n",
    "        #This loop is necessary to get the most common keywords \n",
    "        #in the convertToTrainingFormat function\n",
    "        \n",
    "        for i in range(len(data[0])): #len(data[0])\n",
    "            #useless if?\n",
    "#             if i % 500 == 0:\n",
    "#                 print(i)\n",
    "\n",
    "            if counter == 0:\n",
    "                x = convertToTrainingFormat(preProcess(data[0][i]), keywords)\n",
    "                \n",
    "            #If counter is 1 then there is no model to check so \n",
    "            #a word count is performed\n",
    "            elif counter == 1:\n",
    "                x = convertToTrainingFormat(preProcess(data[0][i]), keywords)\n",
    "                if x!= ():\n",
    "                    if len(x[1]['entities']) > entityCheckCount:\n",
    "                        #print(\"Found tweet\", x[0])\n",
    "                        myTweets.append(x)  \n",
    "            else:\n",
    "                #Convert each tweet into spacy training format\n",
    "                x = convertToTrainingFormat(preProcess(data[0][i]), keywords)\n",
    "                checkPassed = False\n",
    "                if x != ():\n",
    "                    #Check the ranking of the tweet\n",
    "                    if rankTweet(x[0], model) > entityCheckCount:\n",
    "                        checkTweet = x[0].split()\n",
    "                        \n",
    "                        #Check to see if tweet has one of the common verbs\n",
    "                        for word in checkTweet:\n",
    "                            if word in commonVerbs:\n",
    "                                checkPassed = True\n",
    "                                \n",
    "                        if True: #checkPassed:\n",
    "                            #print(\"Checking rank...\")\n",
    "                            myTweets.append(x)\n",
    "        \n",
    "                        \n",
    "#         Initialize the keywords\n",
    "       \n",
    "        \n",
    "        if counter == 0:  \n",
    "            # Set keywords to be all keywords found in foodkeeper\n",
    "#            keywords = foodKeeperInfo()\n",
    "            sortedKeywords =  sorted(keywordRanker, key=keywordRanker.get, reverse=True)\n",
    "\n",
    "            for i in range(15): #sortedKeywords\n",
    "                keywords.append(sortedKeywords[i])\n",
    "            #print(sortedKeywords[i], keywordRanker[sortedKeywords[i]])\n",
    "            \n",
    "\n",
    "        elif counter > 0:\n",
    "            for text, annot in tqdm(myTweets): # data in previous format\n",
    "                doc = nlp.make_doc(text) # create doc object from text\n",
    "                ents = []\n",
    "                for start, end, label in annot[\"entities\"]: # add character indexes\n",
    "                    span = doc.char_span(start, end, label=label, alignment_mode=\"contract\")\n",
    "                    \n",
    "                    if span is None:\n",
    "                        print(\"Skipping entity\")\n",
    "                    elif ents == []: ents.append(span) \n",
    "                    else:\n",
    "                        #Check to see if any entities are overlapping i.e rice and rice cakes\n",
    "                        ents.append(span)\n",
    "                        \n",
    "                        \n",
    "#                         for ent in ents:\n",
    "#                             if ent is not None:\n",
    "#                                 entLength = ent.end - ent.start\n",
    "#                                 if span.start == ent.start or span.end == ent.end:\n",
    "#                                     if entLength > (span.end - span.start):\n",
    "#                                         continue\n",
    "#                                     else:\n",
    "#                                         ents.remove(ent)\n",
    "#                                         ents.append(span)\n",
    "#                                 else:\n",
    "#                                     ents.append(span)\n",
    "                    #if span not in ents: ents.append(span)\n",
    "                            \n",
    "                                #print(span.start, span.end, ents)\n",
    "                    #put into for loop\n",
    "#                 foundEnts = []\n",
    "#                 newEnts = []\n",
    "#                 for ent in ents:\n",
    "#                     if ent.text not in foundEnts:\n",
    "#                         foundEnts.append(ent.text)\n",
    "#                         newEnts.append(ent)\n",
    "                        \n",
    "                newEnts = filter_spans(ents)              \n",
    "                #try:\n",
    "                doc.ents = newEnts # label the text with the ents\n",
    "                    #print(doc)\n",
    "                db.add(doc)\n",
    "                #except:\n",
    "                    #print(\"Error 10: \", doc)\n",
    "\n",
    "            db.to_disk(\"./train.spacy\") # save the docbin object\n",
    "                \n",
    "            #If problems are occuring with the models not appearing\n",
    "            #ensure that the command is valid, specifically python is the correct\n",
    "            #PATH variable name on your machine\n",
    "            #--paths.train should be where the docbin object is saved\n",
    "            stream = os.popen('python -m spacy train config.cfg --output ./output --paths.train ./train.spacy --paths.dev ./train.spacy')\n",
    "            print(stream.read())\n",
    "            print(\"Total keywords: \", str(len(keywords)))\n",
    "            print(\"List of Keywords:\\n\\n\",keywords,\"\\n\\n\")\n",
    "            oldKeywords = len(keywords)\n",
    "            \n",
    "            \n",
    "            #Look for new keywords\n",
    "            for element in myTweets:\n",
    "                keywords = findNewKeywords(element[0], keywords)\n",
    "                \n",
    "            \n",
    "            #No new keywords are found\n",
    "            if (oldKeywords == len(keywords)) and counter > 1 and entityCheckCount != 1:\n",
    "                entityCheckCount -= 1\n",
    "                print(\"Decreasing entityCheckCount variable by 1\")\n",
    "                print(\"entityCheckCount = \", entityCheckCount)\n",
    "                \n",
    "\n",
    "            #New keywords are found and entity rank check == 1\n",
    "            elif (oldKeywords == len(keywords)) and counter > 1 and entityCheckCount == 1:\n",
    "                trainingLoop = False\n",
    "            \n",
    "            eval_model()\n",
    "            \n",
    "        \n",
    "\n",
    "        #for element in myTweets:\n",
    "            #findNewKeywords(element[0], keywords)\n",
    "\n",
    "        print(\"Total keywords: \", str(len(keywords)))\n",
    "        print(\"Total Tweets: \", str(len(myTweets)))\n",
    "        print(\"List of Keywords:\\n\\n\",keywords,\"\\n\\n\")\n",
    "        counter += 1\n",
    "        \n",
    "    print('Training Done...')\n",
    "        \n",
    "        \n",
    "        \n",
    "\n",
    "def information(data):\n",
    "    myData = {}\n",
    "    totalEnt=0\n",
    "    \n",
    "    for i in range(len(data[0])):\n",
    "        doc = nlp(preProcess(data[0][i]))\n",
    "        if len(doc.ents) == 0:\n",
    "            noEntity.append(preProcess(data[0][i]))\n",
    "            \n",
    "        #print(len(doc.ents))\n",
    "        if(len(doc.ents) == 4):\n",
    "            print(doc)\n",
    "            \n",
    "        for entity in doc.ents: \n",
    "        #print(entity.label_)\n",
    "            totalEnt+=1\n",
    "            if(entity.label_ == 'FOOD'):\n",
    "                if entity.text in myData:\n",
    "                    myData[entity.text] += 1\n",
    "                else:\n",
    "                    myData[entity.text] = 1\n",
    "                    \n",
    "    print(\"Number of entities found: \" + str(len(myData)))\n",
    "    print(totalEnt)\n",
    "    for i in sorted(myData, key = myData.get):\n",
    "        print(\"Entity: \" + i, \"Count: \" + str(myData[i]), \"Density: \" + str(format(myData[i]/totalEnt, '.2f')), end = \"\\n\")\n",
    "    \n",
    "    \n",
    "    return myData\n",
    "\n",
    "\n",
    "\n",
    "\n",
    "for i in range(len(test_data['tweet'])):\n",
    "    test_data['tweet'][i] = preProcess(test_data['tweet'][i])\n",
    "\n",
    "y = test_data['food'].tolist()\n",
    "# print(test_data)\n",
    "print(nlp.pipe_names)\n",
    "    \n",
    "def ent_recognize(text):\n",
    "    doc = nlp(text)\n",
    "    displacy.render(doc,style = \"ent\")\n",
    "    \n",
    "def predict(tweet):\n",
    "    doc = nlp(str(tweet))\n",
    "    if doc.ents:\n",
    "        displacy.render(doc,style = \"ent\")\n",
    "\n",
    "def returnPrediction(tweet):\n",
    "    nlp = spacy.load(MODEL_PATH)\n",
    "    doc = nlp(str(tweet))\n",
    "    if doc.ents:\n",
    "        return 1\n",
    "    else:\n",
    "        return 0\n",
    "    \n",
    "def get_predictions():\n",
    "    predictions = []\n",
    "    for tweet in test_data['tweet'].tolist():\n",
    "        predictions.append(returnPrediction(tweet))\n",
    "    return predictions\n",
    "    \n",
    "def eval_model():\n",
    "    nlp = spacy.load(MODEL_PATH)\n",
    "    predictions = get_predictions()\n",
    "    print(metrics.confusion_matrix(y,predictions, labels = [1,0]))\n",
    "    print(metrics.classification_report(y,predictions, labels = [1,0]))\n",
    "    \n",
    "def show_tp():\n",
    "    counter = 0\n",
    "    tweets = test_data['tweet'].tolist()\n",
    "    predictions = get_predictions()\n",
    "    for i in range(len(y)):\n",
    "        if predictions[i] == 1 and y[i] == 1:\n",
    "            print(\"True positives:\", tweets[i], \"\\n\")\n",
    "            counter += 1\n",
    "    print(counter)\n",
    "    \n",
    "def show_tn():\n",
    "    counter = 0\n",
    "    predictions = get_predictions()\n",
    "    tweets = test_data['tweet'].tolist()\n",
    "    for i in range(len(y)):\n",
    "        if predictions[i] == 0 and y[i] == 0:\n",
    "            print(\"True Negative:\", tweets[i], \"\\n\")\n",
    "            counter += 1\n",
    "    print(counter)\n",
    "    \n",
    "def show_fn():\n",
    "    predictions = get_predictions()\n",
    "    tweets = test_data['tweet']\n",
    "    counter = 0\n",
    "    for i in range(len(y)):\n",
    "        if predictions[i] == 0 and y[i] == 1:\n",
    "            print(\"False Negative:\", tweets[i], \"\\n\")\n",
    "            counter += 1\n",
    "    print(counter)\n",
    "    \n",
    "def show_fp():\n",
    "    predictions = get_predictions()\n",
    "    tweets = test_data['tweet'].tolist()\n",
    "    for i in range(len(y)):\n",
    "        if predictions[i] == 1 and y[i] == 0:\n",
    "            print(\"False Positive:\")\n",
    "            doc = nlp(str(tweets[i]))\n",
    "            if doc.ents:\n",
    "                displacy.render(doc,style = \"ent\")"
   ]
  },
  {
   "cell_type": "markdown",
   "metadata": {},
   "source": [
    "# Checking for overlapping words"
   ]
  },
  {
   "cell_type": "code",
   "execution_count": 2,
   "metadata": {
    "scrolled": true
   },
   "outputs": [],
   "source": [
    "# rankTweet(\"chicken\", None)\n",
    "# def checkForOverlaps(data):\n",
    "    \n",
    "#     print(data)\n",
    "# keywords = foodKeeperInfo()\n",
    "# testdata = convertToTrainingFormat(\"My rice cakes is tasty \", keywords)\n",
    "\n",
    "# # for word in keywords:\n",
    "# #     for word2 in wordsInFoodkeeper:\n",
    "# #         if word in word2 and word != word2:\n",
    "# #             print(word,word2)\n",
    "\n"
   ]
  },
  {
   "cell_type": "markdown",
   "metadata": {},
   "source": [
    "## Use the function below to check individual sentences"
   ]
  },
  {
   "cell_type": "code",
   "execution_count": 3,
   "metadata": {},
   "outputs": [],
   "source": [
    "# nlp = spacy.load(\"en_core_web_sm\")\n",
    "# ent_recognize(\"my friend is chicken because he is scared\")\n",
    "# print(live_tweets)\n",
    "# testTweets = live_tweets[5]\n",
    "# for tweet in testTweets[:500]:\n",
    "#     if nlp(preProcess(tweet)).ents:\n",
    "#         ent_recognize(preProcess(tweet))\n"
   ]
  },
  {
   "cell_type": "markdown",
   "metadata": {},
   "source": [
    "## Use the function below to check model performance on the entire test set"
   ]
  },
  {
   "cell_type": "code",
   "execution_count": 3,
   "metadata": {
    "scrolled": true
   },
   "outputs": [
    {
     "name": "stdout",
     "output_type": "stream",
     "text": [
      "[[38  6]\n",
      " [ 4 35]]\n",
      "              precision    recall  f1-score   support\n",
      "\n",
      "           1       0.90      0.86      0.88        44\n",
      "           0       0.85      0.90      0.88        39\n",
      "\n",
      "    accuracy                           0.88        83\n",
      "   macro avg       0.88      0.88      0.88        83\n",
      "weighted avg       0.88      0.88      0.88        83\n",
      "\n"
     ]
    }
   ],
   "source": [
    "eval_model()"
   ]
  },
  {
   "cell_type": "markdown",
   "metadata": {},
   "source": [
    "## Use the functions below to see TP, TN, FP, FN respectively"
   ]
  },
  {
   "cell_type": "code",
   "execution_count": 49,
   "metadata": {},
   "outputs": [],
   "source": [
    "# show_tp()\n",
    "# show_tn()\n",
    "# show_fp()\n",
    "#show_fn()"
   ]
  },
  {
   "cell_type": "code",
   "execution_count": 50,
   "metadata": {
    "scrolled": true
   },
   "outputs": [
    {
     "name": "stdout",
     "output_type": "stream",
     "text": [
      "()\n"
     ]
    }
   ],
   "source": [
    "# foodkeeper = foodKeeperInfo()\n",
    "# print(foodkeeper)\n",
    "# sortedKeywords =  sorted(keywordRanker, key=keywordRanker.get, reverse=True)\n",
    "\n",
    "# for i in range(15): #sortedKeywords\n",
    "#     keywords.append(sortedKeywords[i])\n",
    "# print(keywords)\n",
    "# keywords.append(\"chicken\")\n",
    "# #keywords.append(\"cream cheese\")\n",
    "\n",
    "# abc = convertToTrainingFormat(\"I like to eat cream and cheese with chicken test\", keywords)\n",
    "# print(abc)\n"
   ]
  },
  {
   "cell_type": "markdown",
   "metadata": {},
   "source": [
    "# Find the most common words"
   ]
  },
  {
   "cell_type": "code",
   "execution_count": 51,
   "metadata": {},
   "outputs": [],
   "source": [
    "# commonVerbs = getCommonVerbs(training_data) \n",
    "#commonVerbs = ['eat', 'know', 'think', 'want', 'got', 'like', 'love', 'use', 'need', 'add']"
   ]
  },
  {
   "cell_type": "markdown",
   "metadata": {},
   "source": [
    "# Training Loop"
   ]
  },
  {
   "cell_type": "code",
   "execution_count": 5,
   "metadata": {
    "scrolled": true
   },
   "outputs": [
    {
     "name": "stdout",
     "output_type": "stream",
     "text": [
      "['eat', 'know', 'think', 'want', 'got', 'like', 'love', 'use', 'need', 'add']\n",
      "Common Verbs gathered... \n",
      "\n",
      "~~~~~~~~~~~~~~~~~0~~~~~~~~~~~~~~~~~\n",
      "Model loaded...\n",
      "Total keywords:  15\n",
      "Total Tweets:  0\n",
      "List of Keywords:\n",
      "\n",
      " ['cheese', 'chicken', 'milk', 'butter', 'cream', 'fruit', 'rice', 'water', 'garlic', 'bread', 'sugar', 'salt', 'chocolate', 'fish', 'beef'] \n",
      "\n",
      "\n",
      "~~~~~~~~~~~~~~~~~1~~~~~~~~~~~~~~~~~\n",
      "Model loaded...\n"
     ]
    },
    {
     "name": "stderr",
     "output_type": "stream",
     "text": [
      "100%|██████████| 194/194 [00:00<00:00, 2545.05it/s]\n"
     ]
    },
    {
     "name": "stdout",
     "output_type": "stream",
     "text": [
      "Skipping entity\n",
      "Skipping entity\n",
      "Skipping entity\n",
      "[i] Saving to output directory: output\n",
      "[i] Using CPU\n",
      "\u001b[1m\n",
      "=========================== Initializing pipeline ===========================\u001b[0m\n",
      "[+] Initialized pipeline\n",
      "\u001b[1m\n",
      "============================= Training pipeline =============================\u001b[0m\n",
      "[i] Pipeline: ['tok2vec', 'ner']\n",
      "[i] Initial learn rate: 0.001\n",
      "E    #       LOSS TOK2VEC  LOSS NER  ENTS_F  ENTS_P  ENTS_R  SCORE \n",
      "---  ------  ------------  --------  ------  ------  ------  ------\n",
      "  0       0          0.00     40.50    0.00    0.00    0.00    0.00\n",
      "  2     200         54.36   1148.80   97.98   96.86   99.13    0.98\n",
      "  4     400        136.43    159.72   99.32   98.78   99.88    0.99\n",
      "  8     600        154.84    106.89   99.81   99.75   99.88    1.00\n",
      " 12     800         81.31     37.85  100.00  100.00  100.00    1.00\n",
      " 17    1000         39.90     10.64  100.00  100.00  100.00    1.00\n",
      " 24    1200         65.72     17.81  100.00  100.00  100.00    1.00\n",
      " 32    1400        109.73     23.85  100.00  100.00  100.00    1.00\n",
      " 42    1600        123.47     24.43  100.00  100.00  100.00    1.00\n",
      " 55    1800        136.49     18.88   99.94   99.88  100.00    1.00\n",
      " 70    2000        106.05     17.69  100.00  100.00  100.00    1.00\n",
      " 89    2200         69.26     12.79  100.00  100.00  100.00    1.00\n",
      "111    2400         20.85      3.75  100.00  100.00  100.00    1.00\n",
      "[+] Saved pipeline to output directory\n",
      "output\\model-last\n",
      "\n",
      "Total keywords:  15\n",
      "List of Keywords:\n",
      "\n",
      " ['cheese', 'chicken', 'milk', 'butter', 'cream', 'fruit', 'rice', 'water', 'garlic', 'bread', 'sugar', 'salt', 'chocolate', 'fish', 'beef'] \n",
      "\n",
      "\n",
      "[[17 27]\n",
      " [ 2 37]]\n",
      "              precision    recall  f1-score   support\n",
      "\n",
      "           1       0.89      0.39      0.54        44\n",
      "           0       0.58      0.95      0.72        39\n",
      "\n",
      "    accuracy                           0.65        83\n",
      "   macro avg       0.74      0.67      0.63        83\n",
      "weighted avg       0.75      0.65      0.62        83\n",
      "\n",
      "Total keywords:  187\n",
      "Total Tweets:  194\n",
      "List of Keywords:\n",
      "\n",
      " ['cheese', 'chicken', 'milk', 'butter', 'cream', 'fruit', 'rice', 'water', 'garlic', 'bread', 'sugar', 'salt', 'chocolate', 'fish', 'beef', 'yogurt', 'almond milk', 'greens', 'granola', 'nuts', 'chia seeds', 'onions', 'apples', 'peanut butter', 'squash', 'soda', 'flour', 'garlic powder', 'buttermilk', 'potatoes', 'cottage cheese', 'sour cream', 'turkey', 'beans', 'cream cheese', 'bagel', 'pretzels', 'celery', 'white wine', 'margarine', 'whipped cream', 'ice cream', 'pineapple', 'whipped topping', 'plantains', 'veal', 'mustard', 'corned beef', 'rye', 'fried chicken', 'gravy', 'tuna', 'vegetables', 'eggs', 'rotisserie chicken', 'hot dogs', 'crackers', 'dips', 'meats', 'frozen entrees', 'bacon', 'pasta', 'pizza', 'potato chips', 'avocados', 'pork', 'sunflower seeds', 'lentils', 'lean fish', 'cauliflower', 'asparagus', 'almonds', 'cooked fish', 'honey', 'kimchi', 'herbs', 'dates', 'scallops', 'yuzu', 'corn syrup', 'baking soda', 'molasses', 'yeast', 'cornmeal', 'vinegar', 'parsley', 'worcestershire sauce', 'mushrooms', 'broth', 'peppers', 'oats', 'guava', 'coconut', 'cheesecake', 'cinnamon', 'muffin', 'pies', 'tomato sauce', 'pickles', 'goat', 'lamb', 'seafood', 'olives', 'baking powder', 'sesame seeds', 'raspberries', 'cornstarch', 'hot sauce', 'grits', 'chives', 'coconut milk', 'tamarind', 'tomatoes', 'cumin', 'chili powder', 'onion powder', 'black pepper', 'pie crust', 'cooked rice', 'nutmeg', 'peas', 'refried beans', 'bananas', 'okra', 'cabbage', 'syrup', 'juice concentrates', 'basil', 'fruits', 'horseradish', 'lettuce', 'pesto', 'soy milk', 'hoisin sauce', 'sesame oil', 'peanuts', 'ham', 'bacon bits', 'chutney', 'sun dried tomatoes', 'sausage', 'coffee', 'pasta salad', 'cereal', 'grapes', 'cashews', 'tea', 'pudding', 'coconut cream', 'coconut water', 'apple juice', 'fruit cocktail', 'walnuts', 'dough', 'roasted red peppers', 'whole wheat bread', 'thyme', 'mayonnaise', 'oregano', 'leftovers', 'strawberries', 'berries', 'coleslaw', 'cilantro', 'guacamole', 'tomato paste', 'canola oil', 'mung bean', 'lemon juice', 'ghee', 'avocado oil', 'almond oil', 'grapeseed oil', 'spelt', 'lime juice', 'pure vanilla extract', 'butter flavor', 'string cheese', 'salsa', 'puff pastry', 'biscuits', 'orange juice', 'vegetable soup', 'caviar', 'pine nuts', 'coconut oil', 'quail'] \n",
      "\n",
      "\n",
      "~~~~~~~~~~~~~~~~~2~~~~~~~~~~~~~~~~~\n",
      "Model loaded...\n"
     ]
    },
    {
     "name": "stderr",
     "output_type": "stream",
     "text": [
      "100%|██████████| 512/512 [00:00<00:00, 2512.08it/s]"
     ]
    },
    {
     "name": "stdout",
     "output_type": "stream",
     "text": [
      "Skipping entity\n",
      "Skipping entity\n",
      "Skipping entity\n",
      "Skipping entity\n",
      "Skipping entity\n",
      "Skipping entity\n",
      "Skipping entity\n",
      "Skipping entity\n",
      "Skipping entity\n",
      "Skipping entity\n",
      "Skipping entity\n",
      "Skipping entity\n",
      "Skipping entity\n",
      "Skipping entity\n",
      "Skipping entity\n",
      "Skipping entity\n",
      "Skipping entity\n",
      "Skipping entity\n",
      "Skipping entity\n",
      "Skipping entity\n",
      "Skipping entity\n",
      "Skipping entity\n"
     ]
    },
    {
     "name": "stderr",
     "output_type": "stream",
     "text": [
      "\n"
     ]
    },
    {
     "name": "stdout",
     "output_type": "stream",
     "text": [
      "[i] Saving to output directory: output\n",
      "[i] Using CPU\n",
      "\u001b[1m\n",
      "=========================== Initializing pipeline ===========================\u001b[0m\n",
      "[+] Initialized pipeline\n",
      "\u001b[1m\n",
      "============================= Training pipeline =============================\u001b[0m\n",
      "[i] Pipeline: ['tok2vec', 'ner']\n",
      "[i] Initial learn rate: 0.001\n",
      "E    #       LOSS TOK2VEC  LOSS NER  ENTS_F  ENTS_P  ENTS_R  SCORE \n",
      "---  ------  ------------  --------  ------  ------  ------  ------\n",
      "  0       0          0.00     40.67    0.00    0.00    0.00    0.00\n",
      "  0     200         77.58   2734.03   84.27   79.72   89.38    0.84\n",
      "  1     400        105.43   1399.69   92.27   89.58   95.12    0.92\n",
      "  3     600        165.66   1085.43   94.66   91.67   97.86    0.95\n",
      "  4     800        179.58    801.95   95.67   92.47   99.10    0.96\n",
      "  6    1000        246.21    558.21   98.84   98.22   99.47    0.99\n",
      "  9    1200        298.11    450.98   99.14   98.48   99.81    0.99\n",
      " 12    1400        310.65    383.93   99.89   99.85   99.92    1.00\n",
      " 16    1600        415.85    318.60   99.89   99.89   99.89    1.00\n",
      " 21    1800        550.45    237.89   99.91   99.85   99.96    1.00\n",
      " 27    2000        596.73    239.91   99.93   99.85  100.00    1.00\n",
      " 34    2200        704.83    234.54   99.96  100.00   99.92    1.00\n",
      " 43    2400        846.20    218.66   99.98   99.96  100.00    1.00\n",
      " 52    2600        630.71    155.97   99.98   99.96  100.00    1.00\n",
      " 61    2800        560.81    112.11   99.98   99.96  100.00    1.00\n",
      " 70    3000        767.32    128.09   99.92   99.89   99.96    1.00\n",
      " 79    3200        733.12    130.78   99.98   99.96  100.00    1.00\n",
      " 89    3400        794.34    140.26  100.00  100.00  100.00    1.00\n",
      " 98    3600        638.89    103.78  100.00  100.00  100.00    1.00\n",
      "107    3800        714.32    106.75  100.00  100.00  100.00    1.00\n",
      "116    4000        561.23     76.15  100.00  100.00  100.00    1.00\n",
      "125    4200        720.39     81.35  100.00  100.00  100.00    1.00\n",
      "134    4400        925.95    116.79  100.00  100.00  100.00    1.00\n",
      "143    4600        660.99     90.04  100.00  100.00  100.00    1.00\n",
      "152    4800        644.96     72.57   99.98  100.00   99.96    1.00\n",
      "161    5000        735.94     67.85  100.00  100.00  100.00    1.00\n",
      "[+] Saved pipeline to output directory\n",
      "output\\model-last\n",
      "\n",
      "Total keywords:  187\n",
      "List of Keywords:\n",
      "\n",
      " ['cheese', 'chicken', 'milk', 'butter', 'cream', 'fruit', 'rice', 'water', 'garlic', 'bread', 'sugar', 'salt', 'chocolate', 'fish', 'beef', 'yogurt', 'almond milk', 'greens', 'granola', 'nuts', 'chia seeds', 'onions', 'apples', 'peanut butter', 'squash', 'soda', 'flour', 'garlic powder', 'buttermilk', 'potatoes', 'cottage cheese', 'sour cream', 'turkey', 'beans', 'cream cheese', 'bagel', 'pretzels', 'celery', 'white wine', 'margarine', 'whipped cream', 'ice cream', 'pineapple', 'whipped topping', 'plantains', 'veal', 'mustard', 'corned beef', 'rye', 'fried chicken', 'gravy', 'tuna', 'vegetables', 'eggs', 'rotisserie chicken', 'hot dogs', 'crackers', 'dips', 'meats', 'frozen entrees', 'bacon', 'pasta', 'pizza', 'potato chips', 'avocados', 'pork', 'sunflower seeds', 'lentils', 'lean fish', 'cauliflower', 'asparagus', 'almonds', 'cooked fish', 'honey', 'kimchi', 'herbs', 'dates', 'scallops', 'yuzu', 'corn syrup', 'baking soda', 'molasses', 'yeast', 'cornmeal', 'vinegar', 'parsley', 'worcestershire sauce', 'mushrooms', 'broth', 'peppers', 'oats', 'guava', 'coconut', 'cheesecake', 'cinnamon', 'muffin', 'pies', 'tomato sauce', 'pickles', 'goat', 'lamb', 'seafood', 'olives', 'baking powder', 'sesame seeds', 'raspberries', 'cornstarch', 'hot sauce', 'grits', 'chives', 'coconut milk', 'tamarind', 'tomatoes', 'cumin', 'chili powder', 'onion powder', 'black pepper', 'pie crust', 'cooked rice', 'nutmeg', 'peas', 'refried beans', 'bananas', 'okra', 'cabbage', 'syrup', 'juice concentrates', 'basil', 'fruits', 'horseradish', 'lettuce', 'pesto', 'soy milk', 'hoisin sauce', 'sesame oil', 'peanuts', 'ham', 'bacon bits', 'chutney', 'sun dried tomatoes', 'sausage', 'coffee', 'pasta salad', 'cereal', 'grapes', 'cashews', 'tea', 'pudding', 'coconut cream', 'coconut water', 'apple juice', 'fruit cocktail', 'walnuts', 'dough', 'roasted red peppers', 'whole wheat bread', 'thyme', 'mayonnaise', 'oregano', 'leftovers', 'strawberries', 'berries', 'coleslaw', 'cilantro', 'guacamole', 'tomato paste', 'canola oil', 'mung bean', 'lemon juice', 'ghee', 'avocado oil', 'almond oil', 'grapeseed oil', 'spelt', 'lime juice', 'pure vanilla extract', 'butter flavor', 'string cheese', 'salsa', 'puff pastry', 'biscuits', 'orange juice', 'vegetable soup', 'caviar', 'pine nuts', 'coconut oil', 'quail'] \n",
      "\n",
      "\n",
      "[[22 22]\n",
      " [ 4 35]]\n",
      "              precision    recall  f1-score   support\n",
      "\n",
      "           1       0.85      0.50      0.63        44\n",
      "           0       0.61      0.90      0.73        39\n",
      "\n",
      "    accuracy                           0.69        83\n",
      "   macro avg       0.73      0.70      0.68        83\n",
      "weighted avg       0.74      0.69      0.68        83\n",
      "\n",
      "Total keywords:  249\n",
      "Total Tweets:  512\n",
      "List of Keywords:\n",
      "\n",
      " ['cheese', 'chicken', 'milk', 'butter', 'cream', 'fruit', 'rice', 'water', 'garlic', 'bread', 'sugar', 'salt', 'chocolate', 'fish', 'beef', 'yogurt', 'almond milk', 'greens', 'granola', 'nuts', 'chia seeds', 'onions', 'apples', 'peanut butter', 'squash', 'soda', 'flour', 'garlic powder', 'buttermilk', 'potatoes', 'cottage cheese', 'sour cream', 'turkey', 'beans', 'cream cheese', 'bagel', 'pretzels', 'celery', 'white wine', 'margarine', 'whipped cream', 'ice cream', 'pineapple', 'whipped topping', 'plantains', 'veal', 'mustard', 'corned beef', 'rye', 'fried chicken', 'gravy', 'tuna', 'vegetables', 'eggs', 'rotisserie chicken', 'hot dogs', 'crackers', 'dips', 'meats', 'frozen entrees', 'bacon', 'pasta', 'pizza', 'potato chips', 'avocados', 'pork', 'sunflower seeds', 'lentils', 'lean fish', 'cauliflower', 'asparagus', 'almonds', 'cooked fish', 'honey', 'kimchi', 'herbs', 'dates', 'scallops', 'yuzu', 'corn syrup', 'baking soda', 'molasses', 'yeast', 'cornmeal', 'vinegar', 'parsley', 'worcestershire sauce', 'mushrooms', 'broth', 'peppers', 'oats', 'guava', 'coconut', 'cheesecake', 'cinnamon', 'muffin', 'pies', 'tomato sauce', 'pickles', 'goat', 'lamb', 'seafood', 'olives', 'baking powder', 'sesame seeds', 'raspberries', 'cornstarch', 'hot sauce', 'grits', 'chives', 'coconut milk', 'tamarind', 'tomatoes', 'cumin', 'chili powder', 'onion powder', 'black pepper', 'pie crust', 'cooked rice', 'nutmeg', 'peas', 'refried beans', 'bananas', 'okra', 'cabbage', 'syrup', 'juice concentrates', 'basil', 'fruits', 'horseradish', 'lettuce', 'pesto', 'soy milk', 'hoisin sauce', 'sesame oil', 'peanuts', 'ham', 'bacon bits', 'chutney', 'sun dried tomatoes', 'sausage', 'coffee', 'pasta salad', 'cereal', 'grapes', 'cashews', 'tea', 'pudding', 'coconut cream', 'coconut water', 'apple juice', 'fruit cocktail', 'walnuts', 'dough', 'roasted red peppers', 'whole wheat bread', 'thyme', 'mayonnaise', 'oregano', 'leftovers', 'strawberries', 'berries', 'coleslaw', 'cilantro', 'guacamole', 'tomato paste', 'canola oil', 'mung bean', 'lemon juice', 'ghee', 'avocado oil', 'almond oil', 'grapeseed oil', 'spelt', 'lime juice', 'pure vanilla extract', 'butter flavor', 'string cheese', 'salsa', 'puff pastry', 'biscuits', 'orange juice', 'vegetable soup', 'caviar', 'pine nuts', 'coconut oil', 'quail', 'kefir', 'cookie dough', 'base', 'meat products', 'chicken parts', 'cornish hens', 'canned chicken', 'fatty fish', 'miso', 'barley', 'whole wheat flour', 'cream pies', 'quiche', 'sugar substitutes', 'cookies', 'potato salad', 'brussels sprouts', 'cherry tomatoes', 'taro', 'aioli', 'salami', 'prosciutto', 'chocolate syrup', 'pectin', 'tortillas', 'rice milk', 'coconuts', 'turkey bacon', 'black bean sauce', 'tofu', 'oyster sauce', 'rosemary', 'powdered milk', 'popcorn', 'almond butter', 'cashew butter', 'hummus', 'jerky', 'kohlrabi', 'cantaloupe', 'farro', 'lemongrass', 'canadian bacon', 'pecans', 'mint', 'hot peppers', 'swiss chard', 'cranberry sauce', 'pate', 'buckwheat', 'cheese curds', 'bratwurst', 'bulgur', 'eggplant', 'coconut flour', 'kale', 'zucchini', 'cherries', 'polenta', 'balsamic vinegar', 'anchovies', 'arugula'] \n",
      "\n",
      "\n",
      "~~~~~~~~~~~~~~~~~3~~~~~~~~~~~~~~~~~\n"
     ]
    },
    {
     "name": "stdout",
     "output_type": "stream",
     "text": [
      "Model loaded...\n"
     ]
    },
    {
     "name": "stderr",
     "output_type": "stream",
     "text": [
      " 37%|███▋      | 733/2004 [00:00<00:00, 2584.83it/s]"
     ]
    },
    {
     "name": "stdout",
     "output_type": "stream",
     "text": [
      "Skipping entity\n",
      "Skipping entity\n",
      "Skipping entity\n",
      "Skipping entity\n",
      "Skipping entity\n",
      "Skipping entity\n",
      "Skipping entity\n",
      "Skipping entity\n",
      "Skipping entity\n",
      "Skipping entity\n",
      "Skipping entity\n",
      "Skipping entity\n",
      "Skipping entity\n",
      "Skipping entity\n",
      "Skipping entity\n",
      "Skipping entity\n",
      "Skipping entity\n",
      "Skipping entity\n",
      "Skipping entity\n",
      "Skipping entity\n",
      "Skipping entity\n",
      "Skipping entity\n",
      "Skipping entity\n",
      "Skipping entity\n",
      "Skipping entity\n",
      "Skipping entity\n",
      "Skipping entity\n"
     ]
    },
    {
     "name": "stderr",
     "output_type": "stream",
     "text": [
      " 94%|█████████▍| 1886/2004 [00:00<00:00, 3547.18it/s]"
     ]
    },
    {
     "name": "stdout",
     "output_type": "stream",
     "text": [
      "Skipping entity\n",
      "Skipping entity\n",
      "Skipping entity\n",
      "Skipping entity\n",
      "Skipping entity\n",
      "Skipping entity\n",
      "Skipping entity\n",
      "Skipping entity\n",
      "Skipping entity\n",
      "Skipping entity\n",
      "Skipping entity\n",
      "Skipping entity\n",
      "Skipping entity\n",
      "Skipping entity\n",
      "Skipping entity\n",
      "Skipping entity\n",
      "Skipping entity\n",
      "Skipping entity\n",
      "Skipping entity\n",
      "Skipping entity\n",
      "Skipping entity\n",
      "Skipping entity\n",
      "Skipping entity\n",
      "Skipping entity\n",
      "Skipping entity\n",
      "Skipping entity\n",
      "Skipping entity\n",
      "Skipping entity\n",
      "Skipping entity\n",
      "Skipping entity\n",
      "Skipping entity\n",
      "Skipping entity\n",
      "Skipping entity\n",
      "Skipping entity\n",
      "Skipping entity\n",
      "Skipping entity\n",
      "Skipping entity\n",
      "Skipping entity\n",
      "Skipping entity\n",
      "Skipping entity\n",
      "Skipping entity\n",
      "Skipping entity\n",
      "Skipping entity\n",
      "Skipping entity\n",
      "Skipping entity\n"
     ]
    },
    {
     "name": "stderr",
     "output_type": "stream",
     "text": [
      "100%|██████████| 2004/2004 [00:00<00:00, 3164.01it/s]\n"
     ]
    },
    {
     "name": "stdout",
     "output_type": "stream",
     "text": [
      "Skipping entity\n",
      "Skipping entity\n",
      "Skipping entity\n",
      "Skipping entity\n",
      "Skipping entity\n",
      "[i] Saving to output directory: output\n",
      "[i] Using CPU\n",
      "\u001b[1m\n",
      "=========================== Initializing pipeline ===========================\u001b[0m\n",
      "[+] Initialized pipeline\n",
      "\u001b[1m\n",
      "============================= Training pipeline =============================\u001b[0m\n",
      "[i] Pipeline: ['tok2vec', 'ner']\n",
      "[i] Initial learn rate: 0.001\n",
      "E    #       LOSS TOK2VEC  LOSS NER  ENTS_F  ENTS_P  ENTS_R  SCORE \n",
      "---  ------  ------------  --------  ------  ------  ------  ------\n",
      "  0       0          0.00     31.50    0.06    2.86    0.03    0.00\n",
      "  0     200         95.78   2700.34   81.45   74.61   89.67    0.81\n",
      "  0     400         75.00   1258.96   88.90   82.63   96.20    0.89\n",
      "  0     600         84.04   1333.61   91.46   86.88   96.54    0.91\n",
      "  1     800         97.48   1418.21   93.22   90.68   95.89    0.93\n",
      "  1    1000        241.27   1463.35   94.29   91.70   97.03    0.94\n",
      "  2    1200        142.78   1344.49   96.62   95.39   97.88    0.97\n",
      "  3    1400        180.29   1262.98   97.47   96.15   98.82    0.97\n",
      "  4    1600        261.42   1185.83   98.29   98.15   98.42    0.98\n",
      "  5    1800        299.60   1167.61   98.91   98.39   99.44    0.99\n",
      "  7    2000        407.51    966.81   99.33   99.17   99.50    0.99\n",
      "  9    2200        446.14    846.60   99.60   99.41   99.78    1.00\n",
      " 11    2400        505.63    778.15   99.69   99.69   99.70    1.00\n",
      " 14    2600        469.71    651.79   99.79   99.80   99.78    1.00\n",
      " 16    2800        494.04    596.37   99.81   99.94   99.69    1.00\n",
      " 19    3000        514.20    472.77   99.84   99.78   99.89    1.00\n",
      " 21    3200        540.41    457.70   99.78   99.76   99.81    1.00\n",
      " 24    3400        469.69    473.10   99.88   99.87   99.89    1.00\n",
      " 26    3600        514.41    461.79   99.84   99.98   99.71    1.00\n",
      " 29    3800        486.45    374.41   99.90   99.90   99.89    1.00\n",
      " 31    4000        563.15    357.00   99.81   99.69   99.94    1.00\n",
      " 34    4200        603.81    340.67   99.91   99.92   99.90    1.00\n",
      " 36    4400        707.97    355.66   99.89   99.97   99.80    1.00\n",
      " 39    4600        739.55    353.76   99.90   99.91   99.89    1.00\n",
      " 41    4800        675.41    326.19   99.92   99.89   99.95    1.00\n",
      " 43    5000        669.30    272.54   99.89   99.87   99.91    1.00\n",
      " 46    5200        931.93    290.98   99.93   99.92   99.93    1.00\n",
      " 48    5400        731.01    282.18   99.92   99.90   99.93    1.00\n",
      " 51    5600        733.37    275.85   99.90   99.92   99.87    1.00\n",
      " 53    5800        736.20    244.27   99.92   99.88   99.95    1.00\n",
      " 56    6000       1010.77    266.87   99.89   99.85   99.93    1.00\n",
      " 58    6200        849.23    268.73   99.86   99.82   99.89    1.00\n",
      " 61    6400        996.06    254.19   99.87   99.76   99.98    1.00\n",
      " 63    6600        833.48    244.65   99.92   99.86   99.98    1.00\n",
      " 66    6800       1066.45    252.15   99.92   99.95   99.89    1.00\n",
      "[+] Saved pipeline to output directory\n",
      "output\\model-last\n",
      "\n",
      "Total keywords:  249\n",
      "List of Keywords:\n",
      "\n",
      " ['cheese', 'chicken', 'milk', 'butter', 'cream', 'fruit', 'rice', 'water', 'garlic', 'bread', 'sugar', 'salt', 'chocolate', 'fish', 'beef', 'yogurt', 'almond milk', 'greens', 'granola', 'nuts', 'chia seeds', 'onions', 'apples', 'peanut butter', 'squash', 'soda', 'flour', 'garlic powder', 'buttermilk', 'potatoes', 'cottage cheese', 'sour cream', 'turkey', 'beans', 'cream cheese', 'bagel', 'pretzels', 'celery', 'white wine', 'margarine', 'whipped cream', 'ice cream', 'pineapple', 'whipped topping', 'plantains', 'veal', 'mustard', 'corned beef', 'rye', 'fried chicken', 'gravy', 'tuna', 'vegetables', 'eggs', 'rotisserie chicken', 'hot dogs', 'crackers', 'dips', 'meats', 'frozen entrees', 'bacon', 'pasta', 'pizza', 'potato chips', 'avocados', 'pork', 'sunflower seeds', 'lentils', 'lean fish', 'cauliflower', 'asparagus', 'almonds', 'cooked fish', 'honey', 'kimchi', 'herbs', 'dates', 'scallops', 'yuzu', 'corn syrup', 'baking soda', 'molasses', 'yeast', 'cornmeal', 'vinegar', 'parsley', 'worcestershire sauce', 'mushrooms', 'broth', 'peppers', 'oats', 'guava', 'coconut', 'cheesecake', 'cinnamon', 'muffin', 'pies', 'tomato sauce', 'pickles', 'goat', 'lamb', 'seafood', 'olives', 'baking powder', 'sesame seeds', 'raspberries', 'cornstarch', 'hot sauce', 'grits', 'chives', 'coconut milk', 'tamarind', 'tomatoes', 'cumin', 'chili powder', 'onion powder', 'black pepper', 'pie crust', 'cooked rice', 'nutmeg', 'peas', 'refried beans', 'bananas', 'okra', 'cabbage', 'syrup', 'juice concentrates', 'basil', 'fruits', 'horseradish', 'lettuce', 'pesto', 'soy milk', 'hoisin sauce', 'sesame oil', 'peanuts', 'ham', 'bacon bits', 'chutney', 'sun dried tomatoes', 'sausage', 'coffee', 'pasta salad', 'cereal', 'grapes', 'cashews', 'tea', 'pudding', 'coconut cream', 'coconut water', 'apple juice', 'fruit cocktail', 'walnuts', 'dough', 'roasted red peppers', 'whole wheat bread', 'thyme', 'mayonnaise', 'oregano', 'leftovers', 'strawberries', 'berries', 'coleslaw', 'cilantro', 'guacamole', 'tomato paste', 'canola oil', 'mung bean', 'lemon juice', 'ghee', 'avocado oil', 'almond oil', 'grapeseed oil', 'spelt', 'lime juice', 'pure vanilla extract', 'butter flavor', 'string cheese', 'salsa', 'puff pastry', 'biscuits', 'orange juice', 'vegetable soup', 'caviar', 'pine nuts', 'coconut oil', 'quail', 'kefir', 'cookie dough', 'base', 'meat products', 'chicken parts', 'cornish hens', 'canned chicken', 'fatty fish', 'miso', 'barley', 'whole wheat flour', 'cream pies', 'quiche', 'sugar substitutes', 'cookies', 'potato salad', 'brussels sprouts', 'cherry tomatoes', 'taro', 'aioli', 'salami', 'prosciutto', 'chocolate syrup', 'pectin', 'tortillas', 'rice milk', 'coconuts', 'turkey bacon', 'black bean sauce', 'tofu', 'oyster sauce', 'rosemary', 'powdered milk', 'popcorn', 'almond butter', 'cashew butter', 'hummus', 'jerky', 'kohlrabi', 'cantaloupe', 'farro', 'lemongrass', 'canadian bacon', 'pecans', 'mint', 'hot peppers', 'swiss chard', 'cranberry sauce', 'pate', 'buckwheat', 'cheese curds', 'bratwurst', 'bulgur', 'eggplant', 'coconut flour', 'kale', 'zucchini', 'cherries', 'polenta', 'balsamic vinegar', 'anchovies', 'arugula'] \n",
      "\n",
      "\n",
      "[[30 14]\n",
      " [ 3 36]]\n",
      "              precision    recall  f1-score   support\n",
      "\n",
      "           1       0.91      0.68      0.78        44\n",
      "           0       0.72      0.92      0.81        39\n",
      "\n",
      "    accuracy                           0.80        83\n",
      "   macro avg       0.81      0.80      0.79        83\n",
      "weighted avg       0.82      0.80      0.79        83\n",
      "\n",
      "Total keywords:  335\n",
      "Total Tweets:  2004\n",
      "List of Keywords:\n",
      "\n",
      " ['cheese', 'chicken', 'milk', 'butter', 'cream', 'fruit', 'rice', 'water', 'garlic', 'bread', 'sugar', 'salt', 'chocolate', 'fish', 'beef', 'yogurt', 'almond milk', 'greens', 'granola', 'nuts', 'chia seeds', 'onions', 'apples', 'peanut butter', 'squash', 'soda', 'flour', 'garlic powder', 'buttermilk', 'potatoes', 'cottage cheese', 'sour cream', 'turkey', 'beans', 'cream cheese', 'bagel', 'pretzels', 'celery', 'white wine', 'margarine', 'whipped cream', 'ice cream', 'pineapple', 'whipped topping', 'plantains', 'veal', 'mustard', 'corned beef', 'rye', 'fried chicken', 'gravy', 'tuna', 'vegetables', 'eggs', 'rotisserie chicken', 'hot dogs', 'crackers', 'dips', 'meats', 'frozen entrees', 'bacon', 'pasta', 'pizza', 'potato chips', 'avocados', 'pork', 'sunflower seeds', 'lentils', 'lean fish', 'cauliflower', 'asparagus', 'almonds', 'cooked fish', 'honey', 'kimchi', 'herbs', 'dates', 'scallops', 'yuzu', 'corn syrup', 'baking soda', 'molasses', 'yeast', 'cornmeal', 'vinegar', 'parsley', 'worcestershire sauce', 'mushrooms', 'broth', 'peppers', 'oats', 'guava', 'coconut', 'cheesecake', 'cinnamon', 'muffin', 'pies', 'tomato sauce', 'pickles', 'goat', 'lamb', 'seafood', 'olives', 'baking powder', 'sesame seeds', 'raspberries', 'cornstarch', 'hot sauce', 'grits', 'chives', 'coconut milk', 'tamarind', 'tomatoes', 'cumin', 'chili powder', 'onion powder', 'black pepper', 'pie crust', 'cooked rice', 'nutmeg', 'peas', 'refried beans', 'bananas', 'okra', 'cabbage', 'syrup', 'juice concentrates', 'basil', 'fruits', 'horseradish', 'lettuce', 'pesto', 'soy milk', 'hoisin sauce', 'sesame oil', 'peanuts', 'ham', 'bacon bits', 'chutney', 'sun dried tomatoes', 'sausage', 'coffee', 'pasta salad', 'cereal', 'grapes', 'cashews', 'tea', 'pudding', 'coconut cream', 'coconut water', 'apple juice', 'fruit cocktail', 'walnuts', 'dough', 'roasted red peppers', 'whole wheat bread', 'thyme', 'mayonnaise', 'oregano', 'leftovers', 'strawberries', 'berries', 'coleslaw', 'cilantro', 'guacamole', 'tomato paste', 'canola oil', 'mung bean', 'lemon juice', 'ghee', 'avocado oil', 'almond oil', 'grapeseed oil', 'spelt', 'lime juice', 'pure vanilla extract', 'butter flavor', 'string cheese', 'salsa', 'puff pastry', 'biscuits', 'orange juice', 'vegetable soup', 'caviar', 'pine nuts', 'coconut oil', 'quail', 'kefir', 'cookie dough', 'base', 'meat products', 'chicken parts', 'cornish hens', 'canned chicken', 'fatty fish', 'miso', 'barley', 'whole wheat flour', 'cream pies', 'quiche', 'sugar substitutes', 'cookies', 'potato salad', 'brussels sprouts', 'cherry tomatoes', 'taro', 'aioli', 'salami', 'prosciutto', 'chocolate syrup', 'pectin', 'tortillas', 'rice milk', 'coconuts', 'turkey bacon', 'black bean sauce', 'tofu', 'oyster sauce', 'rosemary', 'powdered milk', 'popcorn', 'almond butter', 'cashew butter', 'hummus', 'jerky', 'kohlrabi', 'cantaloupe', 'farro', 'lemongrass', 'canadian bacon', 'pecans', 'mint', 'hot peppers', 'swiss chard', 'cranberry sauce', 'pate', 'buckwheat', 'cheese curds', 'bratwurst', 'bulgur', 'eggplant', 'coconut flour', 'kale', 'zucchini', 'cherries', 'polenta', 'balsamic vinegar', 'anchovies', 'arugula', 'oils', 'pumpkin seeds', 'flaxseed', 'herring', 'coffee creamer', 'apple cider vinegar', 'ricotta', 'pistachios', 'beets', 'sausages', 'venison', 'leeks', 'rabbit', 'pastrami', 'chicken salad', 'dinners', 'goose', 'applesauce', 'capon', 'blueberries', 'quinoa', 'cucumbers', 'red wine', 'canned goods', 'croutons', 'soy flour', 'cooked pasta', 'edamame', 'casseroles', 'fruit pies', 'tamarind paste', 'nectar', 'duck fat', 'apricots', 'pomegranate', 'cranberries', 'cherimoya', 'kiwi fruit', 'honeydew', 'tapenade', 'bamboo shoots', 'millet', 'beans and peas', 'radishes', 'rhubarb', 'bok choy', 'jicama', 'turnips', 'melons', 'pork rinds', 'squid', 'tempeh', 'marinades', 'capers', 'barbecue sauce', 'chorizo', 'apple cider', 'tahini', 'egg salad', 'cinnamon rolls', 'ham salad', 'nacho cheese', 'pork roll', 'macadamias', 'bacon grease', 'baby carrots', 'celery root', 'spaghetti sauce', 'sunflower oil', 'almond extract', 'lemon extract', 'carrot juice', 'bean sprouts', 'macaroons', 'spaghetti squash', 'vegetable juice', 'marinated vegetables', 'teff', 'garam masala', 'fresh pasta', 'ginger root', 'breadcrumbs', 'pimento cheese', 'cooking wine', 'yuzu juice', 'radicchio'] \n",
      "\n",
      "\n",
      "~~~~~~~~~~~~~~~~~4~~~~~~~~~~~~~~~~~\n"
     ]
    },
    {
     "name": "stdout",
     "output_type": "stream",
     "text": [
      "Model loaded...\n"
     ]
    },
    {
     "name": "stderr",
     "output_type": "stream",
     "text": [
      " 33%|███▎      | 959/2923 [00:00<00:00, 3327.70it/s]"
     ]
    },
    {
     "name": "stdout",
     "output_type": "stream",
     "text": [
      "Skipping entity\n",
      "Skipping entity\n",
      "Skipping entity\n",
      "Skipping entity\n",
      "Skipping entity\n",
      "Skipping entity\n",
      "Skipping entity\n",
      "Skipping entity\n",
      "Skipping entity\n",
      "Skipping entity\n",
      "Skipping entity\n",
      "Skipping entity\n",
      "Skipping entity\n",
      "Skipping entity\n",
      "Skipping entity\n",
      "Skipping entity\n",
      "Skipping entity\n",
      "Skipping entity\n",
      "Skipping entity\n",
      "Skipping entity\n",
      "Skipping entity\n",
      "Skipping entity\n",
      "Skipping entity\n",
      "Skipping entity\n"
     ]
    },
    {
     "name": "stderr",
     "output_type": "stream",
     "text": [
      " 61%|██████▏   | 1797/2923 [00:00<00:00, 3853.11it/s]"
     ]
    },
    {
     "name": "stdout",
     "output_type": "stream",
     "text": [
      "Skipping entity\n",
      "Skipping entity\n",
      "Skipping entity\n",
      "Skipping entity\n",
      "Skipping entity\n",
      "Skipping entity\n",
      "Skipping entity\n",
      "Skipping entity\n",
      "Skipping entity\n",
      "Skipping entity\n",
      "Skipping entity\n",
      "Skipping entity\n",
      "Skipping entity\n",
      "Skipping entity\n",
      "Skipping entity\n",
      "Skipping entity\n",
      "Skipping entity\n",
      "Skipping entity\n",
      "Skipping entity\n",
      "Skipping entity\n",
      "Skipping entity\n",
      "Skipping entity\n",
      "Skipping entity\n",
      "Skipping entity\n",
      "Skipping entity\n",
      "Skipping entity\n",
      "Skipping entity\n",
      "Skipping entity\n",
      "Skipping entity\n",
      "Skipping entity\n",
      "Skipping entity\n"
     ]
    },
    {
     "name": "stderr",
     "output_type": "stream",
     "text": [
      "100%|██████████| 2923/2923 [00:00<00:00, 3824.21it/s]\n"
     ]
    },
    {
     "name": "stdout",
     "output_type": "stream",
     "text": [
      "Skipping entity\n",
      "Skipping entity\n",
      "Skipping entity\n",
      "Skipping entity\n",
      "Skipping entity\n",
      "Skipping entity\n",
      "Skipping entity\n",
      "Skipping entity\n",
      "Skipping entity\n",
      "Skipping entity\n",
      "Skipping entity\n",
      "Skipping entity\n",
      "Skipping entity\n",
      "Skipping entity\n",
      "Skipping entity\n",
      "Skipping entity\n",
      "Skipping entity\n",
      "Skipping entity\n",
      "Skipping entity\n",
      "Skipping entity\n",
      "Skipping entity\n",
      "Skipping entity\n",
      "[i] Saving to output directory: output\n",
      "[i] Using CPU\n",
      "\u001b[1m\n",
      "=========================== Initializing pipeline ===========================\u001b[0m\n",
      "[+] Initialized pipeline\n",
      "\u001b[1m\n",
      "============================= Training pipeline =============================\u001b[0m\n",
      "[i] Pipeline: ['tok2vec', 'ner']\n",
      "[i] Initial learn rate: 0.001\n",
      "E    #       LOSS TOK2VEC  LOSS NER  ENTS_F  ENTS_P  ENTS_R  SCORE \n",
      "---  ------  ------------  --------  ------  ------  ------  ------\n",
      "  0       0          0.00     38.83    0.00    0.00    0.00    0.00\n",
      "  0     200        101.58   2674.06   83.01   81.21   84.89    0.83\n",
      "  0     400         88.64   1482.91   85.89   85.79   85.98    0.86\n",
      "  0     600        101.59   1468.01   90.26   85.51   95.57    0.90\n",
      "  0     800        103.72   1728.55   91.52   86.75   96.85    0.92\n",
      "  1    1000        114.53   1640.66   93.34   89.25   97.81    0.93\n",
      "  1    1200        159.35   1808.17   94.18   90.56   98.10    0.94\n",
      "  2    1400        199.41   1751.57   95.58   94.50   96.68    0.96\n",
      "  3    1600        235.71   1919.52   96.54   94.22   98.98    0.97\n",
      "  4    1800        324.77   1745.34   97.89   97.07   98.73    0.98\n",
      "  5    2000        430.17   1637.22   98.35   97.67   99.03    0.98\n",
      "  6    2200        603.92   1571.80   98.92   98.49   99.36    0.99\n",
      "  8    2400        622.27   1410.47   99.20   98.68   99.73    0.99\n",
      " 10    2600        667.75   1148.32   99.52   99.31   99.72    1.00\n",
      " 11    2800        605.76    932.84   99.69   99.62   99.77    1.00\n",
      " 13    3000        581.50    811.39   99.79   99.78   99.80    1.00\n",
      " 15    3200        548.10    707.04   99.75   99.63   99.88    1.00\n",
      " 16    3400        589.21    657.40   99.83   99.74   99.91    1.00\n",
      " 18    3600        557.48    590.42   99.76   99.88   99.64    1.00\n",
      " 20    3800        595.53    546.64   99.72   99.53   99.91    1.00\n",
      " 22    4000        632.88    556.27   99.86   99.84   99.88    1.00\n",
      " 23    4200        647.81    506.01   99.83   99.74   99.92    1.00\n",
      " 25    4400        711.22    491.72   99.84   99.78   99.91    1.00\n",
      " 27    4600        671.30    457.39   99.89   99.84   99.94    1.00\n",
      " 29    4800        665.86    437.27   99.80   99.74   99.86    1.00\n",
      " 30    5000        656.40    422.88   99.94   99.94   99.93    1.00\n",
      " 32    5200        561.39    408.50   99.90   99.93   99.88    1.00\n",
      " 34    5400        722.32    379.76   99.92   99.89   99.96    1.00\n",
      " 35    5600        696.74    358.88   99.93   99.91   99.96    1.00\n",
      " 37    5800        765.18    379.63   99.92   99.97   99.87    1.00\n",
      " 39    6000        684.27    319.10   99.96   99.95   99.96    1.00\n",
      " 41    6200        746.71    346.95   99.96   99.95   99.97    1.00\n",
      " 42    6400        647.67    323.90   99.96   99.97   99.95    1.00\n",
      " 44    6600        744.10    299.89   99.92   99.95   99.89    1.00\n",
      " 46    6800        906.99    252.76   99.90   99.90   99.91    1.00\n",
      " 48    7000        877.01    292.65   99.93   99.88   99.98    1.00\n",
      " 49    7200        897.84    315.06   99.97   99.95  100.00    1.00\n",
      " 51    7400        808.52    275.49   99.93   99.87   99.98    1.00\n",
      " 53    7600       1100.88    267.20   99.94   99.93   99.96    1.00\n",
      " 54    7800       1025.97    244.80   99.96   99.94   99.99    1.00\n",
      " 56    8000       1087.90    276.02   99.95   99.91   99.98    1.00\n",
      " 58    8200        797.45    239.45   99.96   99.95   99.96    1.00\n",
      " 60    8400       1222.68    308.25   99.95   99.91   99.98    1.00\n",
      " 61    8600        918.29    219.80   99.96   99.94   99.99    1.00\n",
      " 63    8800       1168.09    244.44   99.96   99.93   99.98    1.00\n",
      "[+] Saved pipeline to output directory\n",
      "output\\model-last\n",
      "\n",
      "Total keywords:  335\n",
      "List of Keywords:\n",
      "\n",
      " ['cheese', 'chicken', 'milk', 'butter', 'cream', 'fruit', 'rice', 'water', 'garlic', 'bread', 'sugar', 'salt', 'chocolate', 'fish', 'beef', 'yogurt', 'almond milk', 'greens', 'granola', 'nuts', 'chia seeds', 'onions', 'apples', 'peanut butter', 'squash', 'soda', 'flour', 'garlic powder', 'buttermilk', 'potatoes', 'cottage cheese', 'sour cream', 'turkey', 'beans', 'cream cheese', 'bagel', 'pretzels', 'celery', 'white wine', 'margarine', 'whipped cream', 'ice cream', 'pineapple', 'whipped topping', 'plantains', 'veal', 'mustard', 'corned beef', 'rye', 'fried chicken', 'gravy', 'tuna', 'vegetables', 'eggs', 'rotisserie chicken', 'hot dogs', 'crackers', 'dips', 'meats', 'frozen entrees', 'bacon', 'pasta', 'pizza', 'potato chips', 'avocados', 'pork', 'sunflower seeds', 'lentils', 'lean fish', 'cauliflower', 'asparagus', 'almonds', 'cooked fish', 'honey', 'kimchi', 'herbs', 'dates', 'scallops', 'yuzu', 'corn syrup', 'baking soda', 'molasses', 'yeast', 'cornmeal', 'vinegar', 'parsley', 'worcestershire sauce', 'mushrooms', 'broth', 'peppers', 'oats', 'guava', 'coconut', 'cheesecake', 'cinnamon', 'muffin', 'pies', 'tomato sauce', 'pickles', 'goat', 'lamb', 'seafood', 'olives', 'baking powder', 'sesame seeds', 'raspberries', 'cornstarch', 'hot sauce', 'grits', 'chives', 'coconut milk', 'tamarind', 'tomatoes', 'cumin', 'chili powder', 'onion powder', 'black pepper', 'pie crust', 'cooked rice', 'nutmeg', 'peas', 'refried beans', 'bananas', 'okra', 'cabbage', 'syrup', 'juice concentrates', 'basil', 'fruits', 'horseradish', 'lettuce', 'pesto', 'soy milk', 'hoisin sauce', 'sesame oil', 'peanuts', 'ham', 'bacon bits', 'chutney', 'sun dried tomatoes', 'sausage', 'coffee', 'pasta salad', 'cereal', 'grapes', 'cashews', 'tea', 'pudding', 'coconut cream', 'coconut water', 'apple juice', 'fruit cocktail', 'walnuts', 'dough', 'roasted red peppers', 'whole wheat bread', 'thyme', 'mayonnaise', 'oregano', 'leftovers', 'strawberries', 'berries', 'coleslaw', 'cilantro', 'guacamole', 'tomato paste', 'canola oil', 'mung bean', 'lemon juice', 'ghee', 'avocado oil', 'almond oil', 'grapeseed oil', 'spelt', 'lime juice', 'pure vanilla extract', 'butter flavor', 'string cheese', 'salsa', 'puff pastry', 'biscuits', 'orange juice', 'vegetable soup', 'caviar', 'pine nuts', 'coconut oil', 'quail', 'kefir', 'cookie dough', 'base', 'meat products', 'chicken parts', 'cornish hens', 'canned chicken', 'fatty fish', 'miso', 'barley', 'whole wheat flour', 'cream pies', 'quiche', 'sugar substitutes', 'cookies', 'potato salad', 'brussels sprouts', 'cherry tomatoes', 'taro', 'aioli', 'salami', 'prosciutto', 'chocolate syrup', 'pectin', 'tortillas', 'rice milk', 'coconuts', 'turkey bacon', 'black bean sauce', 'tofu', 'oyster sauce', 'rosemary', 'powdered milk', 'popcorn', 'almond butter', 'cashew butter', 'hummus', 'jerky', 'kohlrabi', 'cantaloupe', 'farro', 'lemongrass', 'canadian bacon', 'pecans', 'mint', 'hot peppers', 'swiss chard', 'cranberry sauce', 'pate', 'buckwheat', 'cheese curds', 'bratwurst', 'bulgur', 'eggplant', 'coconut flour', 'kale', 'zucchini', 'cherries', 'polenta', 'balsamic vinegar', 'anchovies', 'arugula', 'oils', 'pumpkin seeds', 'flaxseed', 'herring', 'coffee creamer', 'apple cider vinegar', 'ricotta', 'pistachios', 'beets', 'sausages', 'venison', 'leeks', 'rabbit', 'pastrami', 'chicken salad', 'dinners', 'goose', 'applesauce', 'capon', 'blueberries', 'quinoa', 'cucumbers', 'red wine', 'canned goods', 'croutons', 'soy flour', 'cooked pasta', 'edamame', 'casseroles', 'fruit pies', 'tamarind paste', 'nectar', 'duck fat', 'apricots', 'pomegranate', 'cranberries', 'cherimoya', 'kiwi fruit', 'honeydew', 'tapenade', 'bamboo shoots', 'millet', 'beans and peas', 'radishes', 'rhubarb', 'bok choy', 'jicama', 'turnips', 'melons', 'pork rinds', 'squid', 'tempeh', 'marinades', 'capers', 'barbecue sauce', 'chorizo', 'apple cider', 'tahini', 'egg salad', 'cinnamon rolls', 'ham salad', 'nacho cheese', 'pork roll', 'macadamias', 'bacon grease', 'baby carrots', 'celery root', 'spaghetti sauce', 'sunflower oil', 'almond extract', 'lemon extract', 'carrot juice', 'bean sprouts', 'macaroons', 'spaghetti squash', 'vegetable juice', 'marinated vegetables', 'teff', 'garam masala', 'fresh pasta', 'ginger root', 'breadcrumbs', 'pimento cheese', 'cooking wine', 'yuzu juice', 'radicchio'] \n",
      "\n",
      "\n"
     ]
    },
    {
     "name": "stdout",
     "output_type": "stream",
     "text": [
      "[[31 13]\n",
      " [ 7 32]]\n",
      "              precision    recall  f1-score   support\n",
      "\n",
      "           1       0.82      0.70      0.76        44\n",
      "           0       0.71      0.82      0.76        39\n",
      "\n",
      "    accuracy                           0.76        83\n",
      "   macro avg       0.76      0.76      0.76        83\n",
      "weighted avg       0.77      0.76      0.76        83\n",
      "\n",
      "Total keywords:  349\n",
      "Total Tweets:  2923\n",
      "List of Keywords:\n",
      "\n",
      " ['cheese', 'chicken', 'milk', 'butter', 'cream', 'fruit', 'rice', 'water', 'garlic', 'bread', 'sugar', 'salt', 'chocolate', 'fish', 'beef', 'yogurt', 'almond milk', 'greens', 'granola', 'nuts', 'chia seeds', 'onions', 'apples', 'peanut butter', 'squash', 'soda', 'flour', 'garlic powder', 'buttermilk', 'potatoes', 'cottage cheese', 'sour cream', 'turkey', 'beans', 'cream cheese', 'bagel', 'pretzels', 'celery', 'white wine', 'margarine', 'whipped cream', 'ice cream', 'pineapple', 'whipped topping', 'plantains', 'veal', 'mustard', 'corned beef', 'rye', 'fried chicken', 'gravy', 'tuna', 'vegetables', 'eggs', 'rotisserie chicken', 'hot dogs', 'crackers', 'dips', 'meats', 'frozen entrees', 'bacon', 'pasta', 'pizza', 'potato chips', 'avocados', 'pork', 'sunflower seeds', 'lentils', 'lean fish', 'cauliflower', 'asparagus', 'almonds', 'cooked fish', 'honey', 'kimchi', 'herbs', 'dates', 'scallops', 'yuzu', 'corn syrup', 'baking soda', 'molasses', 'yeast', 'cornmeal', 'vinegar', 'parsley', 'worcestershire sauce', 'mushrooms', 'broth', 'peppers', 'oats', 'guava', 'coconut', 'cheesecake', 'cinnamon', 'muffin', 'pies', 'tomato sauce', 'pickles', 'goat', 'lamb', 'seafood', 'olives', 'baking powder', 'sesame seeds', 'raspberries', 'cornstarch', 'hot sauce', 'grits', 'chives', 'coconut milk', 'tamarind', 'tomatoes', 'cumin', 'chili powder', 'onion powder', 'black pepper', 'pie crust', 'cooked rice', 'nutmeg', 'peas', 'refried beans', 'bananas', 'okra', 'cabbage', 'syrup', 'juice concentrates', 'basil', 'fruits', 'horseradish', 'lettuce', 'pesto', 'soy milk', 'hoisin sauce', 'sesame oil', 'peanuts', 'ham', 'bacon bits', 'chutney', 'sun dried tomatoes', 'sausage', 'coffee', 'pasta salad', 'cereal', 'grapes', 'cashews', 'tea', 'pudding', 'coconut cream', 'coconut water', 'apple juice', 'fruit cocktail', 'walnuts', 'dough', 'roasted red peppers', 'whole wheat bread', 'thyme', 'mayonnaise', 'oregano', 'leftovers', 'strawberries', 'berries', 'coleslaw', 'cilantro', 'guacamole', 'tomato paste', 'canola oil', 'mung bean', 'lemon juice', 'ghee', 'avocado oil', 'almond oil', 'grapeseed oil', 'spelt', 'lime juice', 'pure vanilla extract', 'butter flavor', 'string cheese', 'salsa', 'puff pastry', 'biscuits', 'orange juice', 'vegetable soup', 'caviar', 'pine nuts', 'coconut oil', 'quail', 'kefir', 'cookie dough', 'base', 'meat products', 'chicken parts', 'cornish hens', 'canned chicken', 'fatty fish', 'miso', 'barley', 'whole wheat flour', 'cream pies', 'quiche', 'sugar substitutes', 'cookies', 'potato salad', 'brussels sprouts', 'cherry tomatoes', 'taro', 'aioli', 'salami', 'prosciutto', 'chocolate syrup', 'pectin', 'tortillas', 'rice milk', 'coconuts', 'turkey bacon', 'black bean sauce', 'tofu', 'oyster sauce', 'rosemary', 'powdered milk', 'popcorn', 'almond butter', 'cashew butter', 'hummus', 'jerky', 'kohlrabi', 'cantaloupe', 'farro', 'lemongrass', 'canadian bacon', 'pecans', 'mint', 'hot peppers', 'swiss chard', 'cranberry sauce', 'pate', 'buckwheat', 'cheese curds', 'bratwurst', 'bulgur', 'eggplant', 'coconut flour', 'kale', 'zucchini', 'cherries', 'polenta', 'balsamic vinegar', 'anchovies', 'arugula', 'oils', 'pumpkin seeds', 'flaxseed', 'herring', 'coffee creamer', 'apple cider vinegar', 'ricotta', 'pistachios', 'beets', 'sausages', 'venison', 'leeks', 'rabbit', 'pastrami', 'chicken salad', 'dinners', 'goose', 'applesauce', 'capon', 'blueberries', 'quinoa', 'cucumbers', 'red wine', 'canned goods', 'croutons', 'soy flour', 'cooked pasta', 'edamame', 'casseroles', 'fruit pies', 'tamarind paste', 'nectar', 'duck fat', 'apricots', 'pomegranate', 'cranberries', 'cherimoya', 'kiwi fruit', 'honeydew', 'tapenade', 'bamboo shoots', 'millet', 'beans and peas', 'radishes', 'rhubarb', 'bok choy', 'jicama', 'turnips', 'melons', 'pork rinds', 'squid', 'tempeh', 'marinades', 'capers', 'barbecue sauce', 'chorizo', 'apple cider', 'tahini', 'egg salad', 'cinnamon rolls', 'ham salad', 'nacho cheese', 'pork roll', 'macadamias', 'bacon grease', 'baby carrots', 'celery root', 'spaghetti sauce', 'sunflower oil', 'almond extract', 'lemon extract', 'carrot juice', 'bean sprouts', 'macaroons', 'spaghetti squash', 'vegetable juice', 'marinated vegetables', 'teff', 'garam masala', 'fresh pasta', 'ginger root', 'breadcrumbs', 'pimento cheese', 'cooking wine', 'yuzu juice', 'radicchio', 'egg dishes', 'lobster tails', 'fruit cake', 'citrus fruit', 'watermelon', 'rutabagas', 'marshmallows', 'seafood salads', 'amaranth', 'kumquats', 'relish', 'prickly pear', 'cinnamon extract', 'crab legs'] \n",
      "\n",
      "\n",
      "~~~~~~~~~~~~~~~~~5~~~~~~~~~~~~~~~~~\n",
      "Model loaded...\n"
     ]
    },
    {
     "name": "stderr",
     "output_type": "stream",
     "text": [
      " 29%|██▉       | 963/3344 [00:00<00:00, 3334.62it/s]"
     ]
    },
    {
     "name": "stdout",
     "output_type": "stream",
     "text": [
      "Skipping entity\n",
      "Skipping entity\n",
      "Skipping entity\n",
      "Skipping entity\n",
      "Skipping entity\n",
      "Skipping entity\n",
      "Skipping entity\n",
      "Skipping entity\n",
      "Skipping entity\n",
      "Skipping entity\n",
      "Skipping entity\n",
      "Skipping entity\n",
      "Skipping entity\n",
      "Skipping entity\n",
      "Skipping entity\n",
      "Skipping entity\n",
      "Skipping entity\n",
      "Skipping entity\n",
      "Skipping entity\n",
      "Skipping entity\n",
      "Skipping entity\n",
      "Skipping entity\n",
      "Skipping entity\n",
      "Skipping entity\n",
      "Skipping entity\n",
      "Skipping entity\n",
      "Skipping entity\n",
      "Skipping entity\n",
      "Skipping entity\n",
      "Skipping entity\n",
      "Skipping entity\n"
     ]
    },
    {
     "name": "stderr",
     "output_type": "stream",
     "text": [
      " 66%|██████▌   | 2201/3344 [00:00<00:00, 3956.25it/s]"
     ]
    },
    {
     "name": "stdout",
     "output_type": "stream",
     "text": [
      "Skipping entity\n",
      "Skipping entity\n",
      "Skipping entity\n",
      "Skipping entity\n",
      "Skipping entity\n",
      "Skipping entity\n",
      "Skipping entity\n",
      "Skipping entity\n",
      "Skipping entity\n",
      "Skipping entity\n",
      "Skipping entity\n",
      "Skipping entity\n",
      "Skipping entity\n",
      "Skipping entity\n",
      "Skipping entity\n",
      "Skipping entity\n",
      "Skipping entity\n",
      "Skipping entity\n",
      "Skipping entity\n",
      "Skipping entity\n",
      "Skipping entity\n",
      "Skipping entity\n",
      "Skipping entity\n",
      "Skipping entity\n",
      "Skipping entity\n",
      "Skipping entity\n",
      "Skipping entity\n",
      "Skipping entity\n",
      "Skipping entity\n",
      "Skipping entity\n",
      "Skipping entity\n",
      "Skipping entity\n",
      "Skipping entity\n",
      "Skipping entity\n",
      "Skipping entity\n",
      "Skipping entity\n"
     ]
    },
    {
     "name": "stderr",
     "output_type": "stream",
     "text": [
      "100%|██████████| 3344/3344 [00:00<00:00, 3870.61it/s]"
     ]
    },
    {
     "name": "stdout",
     "output_type": "stream",
     "text": [
      "Skipping entity\n",
      "Skipping entity\n",
      "Skipping entity\n",
      "Skipping entity\n",
      "Skipping entity\n",
      "Skipping entity\n",
      "Skipping entity\n",
      "Skipping entity\n",
      "Skipping entity\n",
      "Skipping entity\n",
      "Skipping entity\n",
      "Skipping entity\n",
      "Skipping entity\n",
      "Skipping entity\n",
      "Skipping entity\n",
      "Skipping entity\n",
      "Skipping entity\n",
      "Skipping entity\n",
      "Skipping entity\n",
      "Skipping entity\n",
      "Skipping entity\n",
      "Skipping entity\n",
      "Skipping entity\n",
      "Skipping entity\n",
      "Skipping entity\n",
      "Skipping entity\n",
      "Skipping entity\n",
      "Skipping entity\n",
      "Skipping entity\n",
      "Skipping entity\n",
      "Skipping entity\n",
      "Skipping entity\n",
      "Skipping entity\n",
      "Skipping entity\n",
      "Skipping entity\n"
     ]
    },
    {
     "name": "stderr",
     "output_type": "stream",
     "text": [
      "\n"
     ]
    },
    {
     "name": "stdout",
     "output_type": "stream",
     "text": [
      "[i] Saving to output directory: output\n",
      "[i] Using CPU\n",
      "\u001b[1m\n",
      "=========================== Initializing pipeline ===========================\u001b[0m\n",
      "[+] Initialized pipeline\n",
      "\u001b[1m\n",
      "============================= Training pipeline =============================\u001b[0m\n",
      "[i] Pipeline: ['tok2vec', 'ner']\n",
      "[i] Initial learn rate: 0.001\n",
      "E    #       LOSS TOK2VEC  LOSS NER  ENTS_F  ENTS_P  ENTS_R  SCORE \n",
      "---  ------  ------------  --------  ------  ------  ------  ------\n",
      "  0       0          0.00     38.33    0.00    0.00    0.00    0.00\n",
      "  0     200        110.68   2743.56   81.51   79.88   83.21    0.82\n",
      "  0     400         79.19   1395.62   87.96   83.58   92.83    0.88\n",
      "  0     600         82.18   1606.36   89.26   87.44   91.16    0.89\n",
      "  0     800         81.57   1576.54   91.59   87.69   95.84    0.92\n",
      "  1    1000         97.37   1491.33   93.10   89.18   97.38    0.93\n",
      "  1    1200        135.58   1795.41   93.90   92.94   94.87    0.94\n",
      "  2    1400        153.75   1970.09   95.26   93.36   97.24    0.95\n",
      "  2    1600        222.98   2076.27   96.05   94.54   97.62    0.96\n",
      "  3    1800        273.07   1893.90   97.37   96.40   98.36    0.97\n",
      "  4    2000        380.87   1901.79   98.22   97.42   99.02    0.98\n",
      "  5    2200        471.88   1792.84   98.85   98.43   99.29    0.99\n",
      "  7    2400        618.69   1560.71   99.10   98.81   99.39    0.99\n",
      "  8    2600        655.49   1448.81   99.55   99.43   99.66    1.00\n",
      " 10    2800        593.44   1099.05   99.51   99.49   99.54    1.00\n",
      " 12    3000        627.27   1063.72   99.62   99.60   99.64    1.00\n",
      " 13    3200        592.98    873.64   99.64   99.76   99.53    1.00\n",
      " 15    3400        668.69    838.52   99.75   99.80   99.69    1.00\n",
      " 16    3600        654.22    761.34   99.72   99.63   99.81    1.00\n",
      " 18    3800        625.11    718.61   99.80   99.68   99.92    1.00\n",
      " 19    4000        634.97    659.96   99.81   99.76   99.86    1.00\n",
      " 21    4200        575.15    560.25   99.82   99.78   99.86    1.00\n",
      " 22    4400        679.94    575.95   99.82   99.77   99.87    1.00\n",
      " 24    4600        579.75    548.88   99.86   99.83   99.89    1.00\n",
      " 25    4800        682.42    538.83   99.85   99.78   99.91    1.00\n",
      " 27    5000        611.10    474.04   99.86   99.84   99.88    1.00\n",
      " 28    5200        738.44    504.75   99.87   99.81   99.93    1.00\n",
      " 30    5400        770.49    455.31   99.84   99.71   99.96    1.00\n",
      " 32    5600        666.66    483.28   99.87   99.83   99.92    1.00\n",
      " 33    5800        657.29    435.43   99.91   99.92   99.89    1.00\n",
      " 35    6000        653.27    396.63   99.86   99.87   99.84    1.00\n",
      " 36    6200        769.23    428.27   99.82   99.86   99.78    1.00\n",
      " 38    6400        748.91    359.16   99.89   99.92   99.86    1.00\n",
      " 39    6600        816.60    397.49   99.94   99.96   99.92    1.00\n",
      " 41    6800        700.13    381.15   99.95   99.92   99.97    1.00\n",
      " 42    7000        855.11    366.46   99.87   99.89   99.85    1.00\n",
      " 44    7200        953.92    382.04   99.89   99.80   99.97    1.00\n",
      " 45    7400        981.16    353.44   99.85   99.71   99.99    1.00\n",
      " 47    7600        666.84    327.68   99.90   99.85   99.96    1.00\n",
      " 48    7800        802.33    342.56   99.94   99.93   99.94    1.00\n",
      " 50    8000        745.26    287.93   99.86   99.85   99.86    1.00\n",
      " 52    8200       1037.25    313.08   99.90   99.84   99.96    1.00\n",
      " 53    8400       1022.25    296.09   99.90   99.90   99.90    1.00\n",
      "[+] Saved pipeline to output directory\n",
      "output\\model-last\n",
      "\n",
      "Total keywords:  349\n",
      "List of Keywords:\n",
      "\n",
      " ['cheese', 'chicken', 'milk', 'butter', 'cream', 'fruit', 'rice', 'water', 'garlic', 'bread', 'sugar', 'salt', 'chocolate', 'fish', 'beef', 'yogurt', 'almond milk', 'greens', 'granola', 'nuts', 'chia seeds', 'onions', 'apples', 'peanut butter', 'squash', 'soda', 'flour', 'garlic powder', 'buttermilk', 'potatoes', 'cottage cheese', 'sour cream', 'turkey', 'beans', 'cream cheese', 'bagel', 'pretzels', 'celery', 'white wine', 'margarine', 'whipped cream', 'ice cream', 'pineapple', 'whipped topping', 'plantains', 'veal', 'mustard', 'corned beef', 'rye', 'fried chicken', 'gravy', 'tuna', 'vegetables', 'eggs', 'rotisserie chicken', 'hot dogs', 'crackers', 'dips', 'meats', 'frozen entrees', 'bacon', 'pasta', 'pizza', 'potato chips', 'avocados', 'pork', 'sunflower seeds', 'lentils', 'lean fish', 'cauliflower', 'asparagus', 'almonds', 'cooked fish', 'honey', 'kimchi', 'herbs', 'dates', 'scallops', 'yuzu', 'corn syrup', 'baking soda', 'molasses', 'yeast', 'cornmeal', 'vinegar', 'parsley', 'worcestershire sauce', 'mushrooms', 'broth', 'peppers', 'oats', 'guava', 'coconut', 'cheesecake', 'cinnamon', 'muffin', 'pies', 'tomato sauce', 'pickles', 'goat', 'lamb', 'seafood', 'olives', 'baking powder', 'sesame seeds', 'raspberries', 'cornstarch', 'hot sauce', 'grits', 'chives', 'coconut milk', 'tamarind', 'tomatoes', 'cumin', 'chili powder', 'onion powder', 'black pepper', 'pie crust', 'cooked rice', 'nutmeg', 'peas', 'refried beans', 'bananas', 'okra', 'cabbage', 'syrup', 'juice concentrates', 'basil', 'fruits', 'horseradish', 'lettuce', 'pesto', 'soy milk', 'hoisin sauce', 'sesame oil', 'peanuts', 'ham', 'bacon bits', 'chutney', 'sun dried tomatoes', 'sausage', 'coffee', 'pasta salad', 'cereal', 'grapes', 'cashews', 'tea', 'pudding', 'coconut cream', 'coconut water', 'apple juice', 'fruit cocktail', 'walnuts', 'dough', 'roasted red peppers', 'whole wheat bread', 'thyme', 'mayonnaise', 'oregano', 'leftovers', 'strawberries', 'berries', 'coleslaw', 'cilantro', 'guacamole', 'tomato paste', 'canola oil', 'mung bean', 'lemon juice', 'ghee', 'avocado oil', 'almond oil', 'grapeseed oil', 'spelt', 'lime juice', 'pure vanilla extract', 'butter flavor', 'string cheese', 'salsa', 'puff pastry', 'biscuits', 'orange juice', 'vegetable soup', 'caviar', 'pine nuts', 'coconut oil', 'quail', 'kefir', 'cookie dough', 'base', 'meat products', 'chicken parts', 'cornish hens', 'canned chicken', 'fatty fish', 'miso', 'barley', 'whole wheat flour', 'cream pies', 'quiche', 'sugar substitutes', 'cookies', 'potato salad', 'brussels sprouts', 'cherry tomatoes', 'taro', 'aioli', 'salami', 'prosciutto', 'chocolate syrup', 'pectin', 'tortillas', 'rice milk', 'coconuts', 'turkey bacon', 'black bean sauce', 'tofu', 'oyster sauce', 'rosemary', 'powdered milk', 'popcorn', 'almond butter', 'cashew butter', 'hummus', 'jerky', 'kohlrabi', 'cantaloupe', 'farro', 'lemongrass', 'canadian bacon', 'pecans', 'mint', 'hot peppers', 'swiss chard', 'cranberry sauce', 'pate', 'buckwheat', 'cheese curds', 'bratwurst', 'bulgur', 'eggplant', 'coconut flour', 'kale', 'zucchini', 'cherries', 'polenta', 'balsamic vinegar', 'anchovies', 'arugula', 'oils', 'pumpkin seeds', 'flaxseed', 'herring', 'coffee creamer', 'apple cider vinegar', 'ricotta', 'pistachios', 'beets', 'sausages', 'venison', 'leeks', 'rabbit', 'pastrami', 'chicken salad', 'dinners', 'goose', 'applesauce', 'capon', 'blueberries', 'quinoa', 'cucumbers', 'red wine', 'canned goods', 'croutons', 'soy flour', 'cooked pasta', 'edamame', 'casseroles', 'fruit pies', 'tamarind paste', 'nectar', 'duck fat', 'apricots', 'pomegranate', 'cranberries', 'cherimoya', 'kiwi fruit', 'honeydew', 'tapenade', 'bamboo shoots', 'millet', 'beans and peas', 'radishes', 'rhubarb', 'bok choy', 'jicama', 'turnips', 'melons', 'pork rinds', 'squid', 'tempeh', 'marinades', 'capers', 'barbecue sauce', 'chorizo', 'apple cider', 'tahini', 'egg salad', 'cinnamon rolls', 'ham salad', 'nacho cheese', 'pork roll', 'macadamias', 'bacon grease', 'baby carrots', 'celery root', 'spaghetti sauce', 'sunflower oil', 'almond extract', 'lemon extract', 'carrot juice', 'bean sprouts', 'macaroons', 'spaghetti squash', 'vegetable juice', 'marinated vegetables', 'teff', 'garam masala', 'fresh pasta', 'ginger root', 'breadcrumbs', 'pimento cheese', 'cooking wine', 'yuzu juice', 'radicchio', 'egg dishes', 'lobster tails', 'fruit cake', 'citrus fruit', 'watermelon', 'rutabagas', 'marshmallows', 'seafood salads', 'amaranth', 'kumquats', 'relish', 'prickly pear', 'cinnamon extract', 'crab legs'] \n",
      "\n",
      "\n",
      "[[34 10]\n",
      " [ 4 35]]\n",
      "              precision    recall  f1-score   support\n",
      "\n",
      "           1       0.89      0.77      0.83        44\n",
      "           0       0.78      0.90      0.83        39\n",
      "\n",
      "    accuracy                           0.83        83\n",
      "   macro avg       0.84      0.84      0.83        83\n",
      "weighted avg       0.84      0.83      0.83        83\n",
      "\n",
      "Total keywords:  358\n",
      "Total Tweets:  3344\n",
      "List of Keywords:\n",
      "\n",
      " ['cheese', 'chicken', 'milk', 'butter', 'cream', 'fruit', 'rice', 'water', 'garlic', 'bread', 'sugar', 'salt', 'chocolate', 'fish', 'beef', 'yogurt', 'almond milk', 'greens', 'granola', 'nuts', 'chia seeds', 'onions', 'apples', 'peanut butter', 'squash', 'soda', 'flour', 'garlic powder', 'buttermilk', 'potatoes', 'cottage cheese', 'sour cream', 'turkey', 'beans', 'cream cheese', 'bagel', 'pretzels', 'celery', 'white wine', 'margarine', 'whipped cream', 'ice cream', 'pineapple', 'whipped topping', 'plantains', 'veal', 'mustard', 'corned beef', 'rye', 'fried chicken', 'gravy', 'tuna', 'vegetables', 'eggs', 'rotisserie chicken', 'hot dogs', 'crackers', 'dips', 'meats', 'frozen entrees', 'bacon', 'pasta', 'pizza', 'potato chips', 'avocados', 'pork', 'sunflower seeds', 'lentils', 'lean fish', 'cauliflower', 'asparagus', 'almonds', 'cooked fish', 'honey', 'kimchi', 'herbs', 'dates', 'scallops', 'yuzu', 'corn syrup', 'baking soda', 'molasses', 'yeast', 'cornmeal', 'vinegar', 'parsley', 'worcestershire sauce', 'mushrooms', 'broth', 'peppers', 'oats', 'guava', 'coconut', 'cheesecake', 'cinnamon', 'muffin', 'pies', 'tomato sauce', 'pickles', 'goat', 'lamb', 'seafood', 'olives', 'baking powder', 'sesame seeds', 'raspberries', 'cornstarch', 'hot sauce', 'grits', 'chives', 'coconut milk', 'tamarind', 'tomatoes', 'cumin', 'chili powder', 'onion powder', 'black pepper', 'pie crust', 'cooked rice', 'nutmeg', 'peas', 'refried beans', 'bananas', 'okra', 'cabbage', 'syrup', 'juice concentrates', 'basil', 'fruits', 'horseradish', 'lettuce', 'pesto', 'soy milk', 'hoisin sauce', 'sesame oil', 'peanuts', 'ham', 'bacon bits', 'chutney', 'sun dried tomatoes', 'sausage', 'coffee', 'pasta salad', 'cereal', 'grapes', 'cashews', 'tea', 'pudding', 'coconut cream', 'coconut water', 'apple juice', 'fruit cocktail', 'walnuts', 'dough', 'roasted red peppers', 'whole wheat bread', 'thyme', 'mayonnaise', 'oregano', 'leftovers', 'strawberries', 'berries', 'coleslaw', 'cilantro', 'guacamole', 'tomato paste', 'canola oil', 'mung bean', 'lemon juice', 'ghee', 'avocado oil', 'almond oil', 'grapeseed oil', 'spelt', 'lime juice', 'pure vanilla extract', 'butter flavor', 'string cheese', 'salsa', 'puff pastry', 'biscuits', 'orange juice', 'vegetable soup', 'caviar', 'pine nuts', 'coconut oil', 'quail', 'kefir', 'cookie dough', 'base', 'meat products', 'chicken parts', 'cornish hens', 'canned chicken', 'fatty fish', 'miso', 'barley', 'whole wheat flour', 'cream pies', 'quiche', 'sugar substitutes', 'cookies', 'potato salad', 'brussels sprouts', 'cherry tomatoes', 'taro', 'aioli', 'salami', 'prosciutto', 'chocolate syrup', 'pectin', 'tortillas', 'rice milk', 'coconuts', 'turkey bacon', 'black bean sauce', 'tofu', 'oyster sauce', 'rosemary', 'powdered milk', 'popcorn', 'almond butter', 'cashew butter', 'hummus', 'jerky', 'kohlrabi', 'cantaloupe', 'farro', 'lemongrass', 'canadian bacon', 'pecans', 'mint', 'hot peppers', 'swiss chard', 'cranberry sauce', 'pate', 'buckwheat', 'cheese curds', 'bratwurst', 'bulgur', 'eggplant', 'coconut flour', 'kale', 'zucchini', 'cherries', 'polenta', 'balsamic vinegar', 'anchovies', 'arugula', 'oils', 'pumpkin seeds', 'flaxseed', 'herring', 'coffee creamer', 'apple cider vinegar', 'ricotta', 'pistachios', 'beets', 'sausages', 'venison', 'leeks', 'rabbit', 'pastrami', 'chicken salad', 'dinners', 'goose', 'applesauce', 'capon', 'blueberries', 'quinoa', 'cucumbers', 'red wine', 'canned goods', 'croutons', 'soy flour', 'cooked pasta', 'edamame', 'casseroles', 'fruit pies', 'tamarind paste', 'nectar', 'duck fat', 'apricots', 'pomegranate', 'cranberries', 'cherimoya', 'kiwi fruit', 'honeydew', 'tapenade', 'bamboo shoots', 'millet', 'beans and peas', 'radishes', 'rhubarb', 'bok choy', 'jicama', 'turnips', 'melons', 'pork rinds', 'squid', 'tempeh', 'marinades', 'capers', 'barbecue sauce', 'chorizo', 'apple cider', 'tahini', 'egg salad', 'cinnamon rolls', 'ham salad', 'nacho cheese', 'pork roll', 'macadamias', 'bacon grease', 'baby carrots', 'celery root', 'spaghetti sauce', 'sunflower oil', 'almond extract', 'lemon extract', 'carrot juice', 'bean sprouts', 'macaroons', 'spaghetti squash', 'vegetable juice', 'marinated vegetables', 'teff', 'garam masala', 'fresh pasta', 'ginger root', 'breadcrumbs', 'pimento cheese', 'cooking wine', 'yuzu juice', 'radicchio', 'egg dishes', 'lobster tails', 'fruit cake', 'citrus fruit', 'watermelon', 'rutabagas', 'marshmallows', 'seafood salads', 'amaranth', 'kumquats', 'relish', 'prickly pear', 'cinnamon extract', 'crab legs', 'gelatin', 'duckling', 'nut oils', 'pumpkins', 'salad dressings', 'formula', 'soup mixes', 'bison', 'coconut flavor'] \n",
      "\n",
      "\n",
      "~~~~~~~~~~~~~~~~~6~~~~~~~~~~~~~~~~~\n"
     ]
    },
    {
     "name": "stdout",
     "output_type": "stream",
     "text": [
      "Model loaded...\n"
     ]
    },
    {
     "name": "stderr",
     "output_type": "stream",
     "text": [
      " 26%|██▌       | 900/3488 [00:00<00:00, 3143.04it/s]"
     ]
    },
    {
     "name": "stdout",
     "output_type": "stream",
     "text": [
      "Skipping entity\n",
      "Skipping entity\n",
      "Skipping entity\n",
      "Skipping entity\n",
      "Skipping entity\n",
      "Skipping entity\n",
      "Skipping entity\n",
      "Skipping entity\n",
      "Skipping entity\n",
      "Skipping entity\n",
      "Skipping entity\n",
      "Skipping entity\n",
      "Skipping entity\n",
      "Skipping entity\n",
      "Skipping entity\n",
      "Skipping entity\n",
      "Skipping entity\n",
      "Skipping entity\n",
      "Skipping entity\n",
      "Skipping entity\n",
      "Skipping entity\n",
      "Skipping entity\n",
      "Skipping entity\n",
      "Skipping entity\n",
      "Skipping entity\n",
      "Skipping entity\n",
      "Skipping entity\n"
     ]
    },
    {
     "name": "stderr",
     "output_type": "stream",
     "text": [
      " 62%|██████▏   | 2171/3488 [00:00<00:00, 3970.83it/s]"
     ]
    },
    {
     "name": "stdout",
     "output_type": "stream",
     "text": [
      "Skipping entity\n",
      "Skipping entity\n",
      "Skipping entity\n",
      "Skipping entity\n",
      "Skipping entity\n",
      "Skipping entity\n",
      "Skipping entity\n",
      "Skipping entity\n",
      "Skipping entity\n",
      "Skipping entity\n",
      "Skipping entity\n",
      "Skipping entity\n",
      "Skipping entity\n",
      "Skipping entity\n",
      "Skipping entity\n",
      "Skipping entity\n",
      "Skipping entity\n",
      "Skipping entity\n",
      "Skipping entity\n",
      "Skipping entity\n",
      "Skipping entity\n",
      "Skipping entity\n",
      "Skipping entity\n",
      "Skipping entity\n",
      "Skipping entity\n",
      "Skipping entity\n",
      "Skipping entity\n",
      "Skipping entity\n",
      "Skipping entity\n",
      "Skipping entity\n",
      "Skipping entity\n",
      "Skipping entity\n",
      "Skipping entity\n"
     ]
    },
    {
     "name": "stderr",
     "output_type": "stream",
     "text": [
      " 88%|████████▊ | 3064/3488 [00:00<00:00, 4213.75it/s]"
     ]
    },
    {
     "name": "stdout",
     "output_type": "stream",
     "text": [
      "Skipping entity\n",
      "Skipping entity\n",
      "Skipping entity\n",
      "Skipping entity\n",
      "Skipping entity\n",
      "Skipping entity\n",
      "Skipping entity\n",
      "Skipping entity\n",
      "Skipping entity\n",
      "Skipping entity\n",
      "Skipping entity\n",
      "Skipping entity\n",
      "Skipping entity\n",
      "Skipping entity\n",
      "Skipping entity\n",
      "Skipping entity\n",
      "Skipping entity\n",
      "Skipping entity\n",
      "Skipping entity\n",
      "Skipping entity\n",
      "Skipping entity\n",
      "Skipping entity\n",
      "Skipping entity\n",
      "Skipping entity\n",
      "Skipping entity\n",
      "Skipping entity\n"
     ]
    },
    {
     "name": "stderr",
     "output_type": "stream",
     "text": [
      "100%|██████████| 3488/3488 [00:00<00:00, 3883.02it/s]\n"
     ]
    },
    {
     "name": "stdout",
     "output_type": "stream",
     "text": [
      "[i] Saving to output directory: output\n",
      "[i] Using CPU\n",
      "\u001b[1m\n",
      "=========================== Initializing pipeline ===========================\u001b[0m\n",
      "[+] Initialized pipeline\n",
      "\u001b[1m\n",
      "============================= Training pipeline =============================\u001b[0m\n",
      "[i] Pipeline: ['tok2vec', 'ner']\n",
      "[i] Initial learn rate: 0.001\n",
      "E    #       LOSS TOK2VEC  LOSS NER  ENTS_F  ENTS_P  ENTS_R  SCORE \n",
      "---  ------  ------------  --------  ------  ------  ------  ------\n",
      "  0       0          0.00     27.00    0.00    0.00    0.00    0.00\n",
      "  0     200         81.25   2735.76   80.82   78.13   83.71    0.81\n",
      "  0     400         68.47   1412.99   88.20   83.42   93.57    0.88\n",
      "  0     600         84.95   1466.95   90.30   85.72   95.40    0.90\n",
      "  0     800         80.41   1667.62   90.58   88.37   92.90    0.91\n",
      "  1    1000         95.85   1797.97   92.34   88.42   96.62    0.92\n",
      "  1    1200        119.88   1815.78   93.87   91.06   96.85    0.94\n",
      "  2    1400        135.40   2053.10   95.00   92.16   98.03    0.95\n",
      "  2    1600        206.65   2021.02   96.37   95.11   97.66    0.96\n",
      "  3    1800        274.96   2070.77   97.21   96.00   98.45    0.97\n",
      "  4    2000        355.76   2015.29   97.72   97.89   97.54    0.98\n",
      "  5    2200        465.94   1951.31   98.65   98.02   99.28    0.99\n",
      "  7    2400        540.86   1779.41   98.96   98.39   99.55    0.99\n",
      "  8    2600        561.30   1400.52   99.39   99.24   99.55    0.99\n",
      " 10    2800        626.25   1267.51   99.56   99.63   99.50    1.00\n",
      " 11    3000        587.06    964.44   99.56   99.47   99.65    1.00\n",
      " 12    3200        582.89    967.30   99.72   99.59   99.85    1.00\n",
      " 14    3400        597.97    820.31   99.65   99.75   99.55    1.00\n",
      " 15    3600        620.23    845.00   99.73   99.87   99.59    1.00\n",
      " 17    3800        634.11    722.82   99.76   99.77   99.75    1.00\n",
      " 18    4000        592.25    651.53   99.75   99.81   99.68    1.00\n",
      " 20    4200        536.11    587.19   99.80   99.77   99.84    1.00\n",
      " 21    4400        604.95    631.94   99.80   99.81   99.80    1.00\n",
      " 23    4600        590.96    566.09   99.81   99.77   99.84    1.00\n",
      " 24    4800        572.05    525.85   99.87   99.85   99.88    1.00\n",
      " 26    5000        524.29    462.69   99.85   99.73   99.97    1.00\n",
      " 27    5200        668.19    473.35   99.84   99.84   99.84    1.00\n",
      " 29    5400        617.06    494.56   99.86   99.84   99.88    1.00\n",
      " 30    5600        656.76    403.52   99.88   99.85   99.91    1.00\n",
      " 32    5800        655.92    469.43   99.89   99.90   99.88    1.00\n",
      " 33    6000        592.50    408.48   99.92   99.90   99.93    1.00\n",
      " 35    6200        770.19    409.31   99.92   99.90   99.95    1.00\n",
      " 36    6400        629.85    350.24   99.88   99.85   99.91    1.00\n",
      " 37    6600        730.59    407.44   99.88   99.81   99.94    1.00\n",
      " 39    6800        731.77    354.24   99.90   99.90   99.90    1.00\n",
      " 40    7000        766.21    349.13   99.92   99.92   99.91    1.00\n",
      " 42    7200        898.57    400.31   99.91   99.85   99.96    1.00\n",
      " 43    7400        864.00    340.90   99.87   99.82   99.92    1.00\n",
      " 45    7600        851.18    351.66   99.93   99.92   99.95    1.00\n",
      " 46    7800        997.89    329.99   99.91   99.88   99.94    1.00\n",
      " 48    8000        976.73    337.78   99.90   99.84   99.95    1.00\n",
      " 49    8200        951.19    309.45   99.91   99.88   99.94    1.00\n",
      " 51    8400       1030.03    323.61   99.87   99.81   99.92    1.00\n",
      " 52    8600        906.92    296.01   99.90   99.84   99.95    1.00\n",
      " 54    8800        990.12    314.08   99.94   99.93   99.95    1.00\n",
      " 55    9000        964.79    288.09   99.91   99.93   99.90    1.00\n",
      " 57    9200       1118.71    287.54   99.91   99.92   99.90    1.00\n",
      " 58    9400        994.54    292.20   99.92   99.90   99.95    1.00\n",
      " 60    9600       1025.76    236.88   99.90   99.92   99.87    1.00\n",
      " 61    9800       1300.15    288.43   99.94   99.93   99.95    1.00\n",
      " 62   10000       1387.82    282.16   99.94   99.93   99.96    1.00\n",
      " 64   10200        918.43    289.59   99.93   99.91   99.95    1.00\n",
      " 65   10400       1140.64    237.37   99.95   99.94   99.95    1.00\n",
      " 67   10600       1367.23    236.59   99.94   99.90   99.99    1.00\n",
      " 68   10800       1306.96    210.16   99.94   99.94   99.95    1.00\n",
      " 70   11000       1539.41    242.28   99.94   99.97   99.91    1.00\n",
      " 71   11200       1473.35    260.34   99.94   99.92   99.96    1.00\n",
      " 73   11400       1341.45    263.44   99.94   99.92   99.95    1.00\n",
      " 74   11600       1142.36    249.16   99.94   99.97   99.91    1.00\n",
      " 76   11800       1260.95    222.59   99.93   99.94   99.92    1.00\n",
      " 77   12000       1320.09    225.33   99.94   99.92   99.95    1.00\n",
      "[+] Saved pipeline to output directory\n",
      "output\\model-last\n",
      "\n",
      "Total keywords:  358\n",
      "List of Keywords:\n",
      "\n",
      " ['cheese', 'chicken', 'milk', 'butter', 'cream', 'fruit', 'rice', 'water', 'garlic', 'bread', 'sugar', 'salt', 'chocolate', 'fish', 'beef', 'yogurt', 'almond milk', 'greens', 'granola', 'nuts', 'chia seeds', 'onions', 'apples', 'peanut butter', 'squash', 'soda', 'flour', 'garlic powder', 'buttermilk', 'potatoes', 'cottage cheese', 'sour cream', 'turkey', 'beans', 'cream cheese', 'bagel', 'pretzels', 'celery', 'white wine', 'margarine', 'whipped cream', 'ice cream', 'pineapple', 'whipped topping', 'plantains', 'veal', 'mustard', 'corned beef', 'rye', 'fried chicken', 'gravy', 'tuna', 'vegetables', 'eggs', 'rotisserie chicken', 'hot dogs', 'crackers', 'dips', 'meats', 'frozen entrees', 'bacon', 'pasta', 'pizza', 'potato chips', 'avocados', 'pork', 'sunflower seeds', 'lentils', 'lean fish', 'cauliflower', 'asparagus', 'almonds', 'cooked fish', 'honey', 'kimchi', 'herbs', 'dates', 'scallops', 'yuzu', 'corn syrup', 'baking soda', 'molasses', 'yeast', 'cornmeal', 'vinegar', 'parsley', 'worcestershire sauce', 'mushrooms', 'broth', 'peppers', 'oats', 'guava', 'coconut', 'cheesecake', 'cinnamon', 'muffin', 'pies', 'tomato sauce', 'pickles', 'goat', 'lamb', 'seafood', 'olives', 'baking powder', 'sesame seeds', 'raspberries', 'cornstarch', 'hot sauce', 'grits', 'chives', 'coconut milk', 'tamarind', 'tomatoes', 'cumin', 'chili powder', 'onion powder', 'black pepper', 'pie crust', 'cooked rice', 'nutmeg', 'peas', 'refried beans', 'bananas', 'okra', 'cabbage', 'syrup', 'juice concentrates', 'basil', 'fruits', 'horseradish', 'lettuce', 'pesto', 'soy milk', 'hoisin sauce', 'sesame oil', 'peanuts', 'ham', 'bacon bits', 'chutney', 'sun dried tomatoes', 'sausage', 'coffee', 'pasta salad', 'cereal', 'grapes', 'cashews', 'tea', 'pudding', 'coconut cream', 'coconut water', 'apple juice', 'fruit cocktail', 'walnuts', 'dough', 'roasted red peppers', 'whole wheat bread', 'thyme', 'mayonnaise', 'oregano', 'leftovers', 'strawberries', 'berries', 'coleslaw', 'cilantro', 'guacamole', 'tomato paste', 'canola oil', 'mung bean', 'lemon juice', 'ghee', 'avocado oil', 'almond oil', 'grapeseed oil', 'spelt', 'lime juice', 'pure vanilla extract', 'butter flavor', 'string cheese', 'salsa', 'puff pastry', 'biscuits', 'orange juice', 'vegetable soup', 'caviar', 'pine nuts', 'coconut oil', 'quail', 'kefir', 'cookie dough', 'base', 'meat products', 'chicken parts', 'cornish hens', 'canned chicken', 'fatty fish', 'miso', 'barley', 'whole wheat flour', 'cream pies', 'quiche', 'sugar substitutes', 'cookies', 'potato salad', 'brussels sprouts', 'cherry tomatoes', 'taro', 'aioli', 'salami', 'prosciutto', 'chocolate syrup', 'pectin', 'tortillas', 'rice milk', 'coconuts', 'turkey bacon', 'black bean sauce', 'tofu', 'oyster sauce', 'rosemary', 'powdered milk', 'popcorn', 'almond butter', 'cashew butter', 'hummus', 'jerky', 'kohlrabi', 'cantaloupe', 'farro', 'lemongrass', 'canadian bacon', 'pecans', 'mint', 'hot peppers', 'swiss chard', 'cranberry sauce', 'pate', 'buckwheat', 'cheese curds', 'bratwurst', 'bulgur', 'eggplant', 'coconut flour', 'kale', 'zucchini', 'cherries', 'polenta', 'balsamic vinegar', 'anchovies', 'arugula', 'oils', 'pumpkin seeds', 'flaxseed', 'herring', 'coffee creamer', 'apple cider vinegar', 'ricotta', 'pistachios', 'beets', 'sausages', 'venison', 'leeks', 'rabbit', 'pastrami', 'chicken salad', 'dinners', 'goose', 'applesauce', 'capon', 'blueberries', 'quinoa', 'cucumbers', 'red wine', 'canned goods', 'croutons', 'soy flour', 'cooked pasta', 'edamame', 'casseroles', 'fruit pies', 'tamarind paste', 'nectar', 'duck fat', 'apricots', 'pomegranate', 'cranberries', 'cherimoya', 'kiwi fruit', 'honeydew', 'tapenade', 'bamboo shoots', 'millet', 'beans and peas', 'radishes', 'rhubarb', 'bok choy', 'jicama', 'turnips', 'melons', 'pork rinds', 'squid', 'tempeh', 'marinades', 'capers', 'barbecue sauce', 'chorizo', 'apple cider', 'tahini', 'egg salad', 'cinnamon rolls', 'ham salad', 'nacho cheese', 'pork roll', 'macadamias', 'bacon grease', 'baby carrots', 'celery root', 'spaghetti sauce', 'sunflower oil', 'almond extract', 'lemon extract', 'carrot juice', 'bean sprouts', 'macaroons', 'spaghetti squash', 'vegetable juice', 'marinated vegetables', 'teff', 'garam masala', 'fresh pasta', 'ginger root', 'breadcrumbs', 'pimento cheese', 'cooking wine', 'yuzu juice', 'radicchio', 'egg dishes', 'lobster tails', 'fruit cake', 'citrus fruit', 'watermelon', 'rutabagas', 'marshmallows', 'seafood salads', 'amaranth', 'kumquats', 'relish', 'prickly pear', 'cinnamon extract', 'crab legs', 'gelatin', 'duckling', 'nut oils', 'pumpkins', 'salad dressings', 'formula', 'soup mixes', 'bison', 'coconut flavor'] \n",
      "\n",
      "\n"
     ]
    },
    {
     "name": "stdout",
     "output_type": "stream",
     "text": [
      "[[31 13]\n",
      " [ 7 32]]\n",
      "              precision    recall  f1-score   support\n",
      "\n",
      "           1       0.82      0.70      0.76        44\n",
      "           0       0.71      0.82      0.76        39\n",
      "\n",
      "    accuracy                           0.76        83\n",
      "   macro avg       0.76      0.76      0.76        83\n",
      "weighted avg       0.77      0.76      0.76        83\n",
      "\n",
      "Total keywords:  361\n",
      "Total Tweets:  3488\n",
      "List of Keywords:\n",
      "\n",
      " ['cheese', 'chicken', 'milk', 'butter', 'cream', 'fruit', 'rice', 'water', 'garlic', 'bread', 'sugar', 'salt', 'chocolate', 'fish', 'beef', 'yogurt', 'almond milk', 'greens', 'granola', 'nuts', 'chia seeds', 'onions', 'apples', 'peanut butter', 'squash', 'soda', 'flour', 'garlic powder', 'buttermilk', 'potatoes', 'cottage cheese', 'sour cream', 'turkey', 'beans', 'cream cheese', 'bagel', 'pretzels', 'celery', 'white wine', 'margarine', 'whipped cream', 'ice cream', 'pineapple', 'whipped topping', 'plantains', 'veal', 'mustard', 'corned beef', 'rye', 'fried chicken', 'gravy', 'tuna', 'vegetables', 'eggs', 'rotisserie chicken', 'hot dogs', 'crackers', 'dips', 'meats', 'frozen entrees', 'bacon', 'pasta', 'pizza', 'potato chips', 'avocados', 'pork', 'sunflower seeds', 'lentils', 'lean fish', 'cauliflower', 'asparagus', 'almonds', 'cooked fish', 'honey', 'kimchi', 'herbs', 'dates', 'scallops', 'yuzu', 'corn syrup', 'baking soda', 'molasses', 'yeast', 'cornmeal', 'vinegar', 'parsley', 'worcestershire sauce', 'mushrooms', 'broth', 'peppers', 'oats', 'guava', 'coconut', 'cheesecake', 'cinnamon', 'muffin', 'pies', 'tomato sauce', 'pickles', 'goat', 'lamb', 'seafood', 'olives', 'baking powder', 'sesame seeds', 'raspberries', 'cornstarch', 'hot sauce', 'grits', 'chives', 'coconut milk', 'tamarind', 'tomatoes', 'cumin', 'chili powder', 'onion powder', 'black pepper', 'pie crust', 'cooked rice', 'nutmeg', 'peas', 'refried beans', 'bananas', 'okra', 'cabbage', 'syrup', 'juice concentrates', 'basil', 'fruits', 'horseradish', 'lettuce', 'pesto', 'soy milk', 'hoisin sauce', 'sesame oil', 'peanuts', 'ham', 'bacon bits', 'chutney', 'sun dried tomatoes', 'sausage', 'coffee', 'pasta salad', 'cereal', 'grapes', 'cashews', 'tea', 'pudding', 'coconut cream', 'coconut water', 'apple juice', 'fruit cocktail', 'walnuts', 'dough', 'roasted red peppers', 'whole wheat bread', 'thyme', 'mayonnaise', 'oregano', 'leftovers', 'strawberries', 'berries', 'coleslaw', 'cilantro', 'guacamole', 'tomato paste', 'canola oil', 'mung bean', 'lemon juice', 'ghee', 'avocado oil', 'almond oil', 'grapeseed oil', 'spelt', 'lime juice', 'pure vanilla extract', 'butter flavor', 'string cheese', 'salsa', 'puff pastry', 'biscuits', 'orange juice', 'vegetable soup', 'caviar', 'pine nuts', 'coconut oil', 'quail', 'kefir', 'cookie dough', 'base', 'meat products', 'chicken parts', 'cornish hens', 'canned chicken', 'fatty fish', 'miso', 'barley', 'whole wheat flour', 'cream pies', 'quiche', 'sugar substitutes', 'cookies', 'potato salad', 'brussels sprouts', 'cherry tomatoes', 'taro', 'aioli', 'salami', 'prosciutto', 'chocolate syrup', 'pectin', 'tortillas', 'rice milk', 'coconuts', 'turkey bacon', 'black bean sauce', 'tofu', 'oyster sauce', 'rosemary', 'powdered milk', 'popcorn', 'almond butter', 'cashew butter', 'hummus', 'jerky', 'kohlrabi', 'cantaloupe', 'farro', 'lemongrass', 'canadian bacon', 'pecans', 'mint', 'hot peppers', 'swiss chard', 'cranberry sauce', 'pate', 'buckwheat', 'cheese curds', 'bratwurst', 'bulgur', 'eggplant', 'coconut flour', 'kale', 'zucchini', 'cherries', 'polenta', 'balsamic vinegar', 'anchovies', 'arugula', 'oils', 'pumpkin seeds', 'flaxseed', 'herring', 'coffee creamer', 'apple cider vinegar', 'ricotta', 'pistachios', 'beets', 'sausages', 'venison', 'leeks', 'rabbit', 'pastrami', 'chicken salad', 'dinners', 'goose', 'applesauce', 'capon', 'blueberries', 'quinoa', 'cucumbers', 'red wine', 'canned goods', 'croutons', 'soy flour', 'cooked pasta', 'edamame', 'casseroles', 'fruit pies', 'tamarind paste', 'nectar', 'duck fat', 'apricots', 'pomegranate', 'cranberries', 'cherimoya', 'kiwi fruit', 'honeydew', 'tapenade', 'bamboo shoots', 'millet', 'beans and peas', 'radishes', 'rhubarb', 'bok choy', 'jicama', 'turnips', 'melons', 'pork rinds', 'squid', 'tempeh', 'marinades', 'capers', 'barbecue sauce', 'chorizo', 'apple cider', 'tahini', 'egg salad', 'cinnamon rolls', 'ham salad', 'nacho cheese', 'pork roll', 'macadamias', 'bacon grease', 'baby carrots', 'celery root', 'spaghetti sauce', 'sunflower oil', 'almond extract', 'lemon extract', 'carrot juice', 'bean sprouts', 'macaroons', 'spaghetti squash', 'vegetable juice', 'marinated vegetables', 'teff', 'garam masala', 'fresh pasta', 'ginger root', 'breadcrumbs', 'pimento cheese', 'cooking wine', 'yuzu juice', 'radicchio', 'egg dishes', 'lobster tails', 'fruit cake', 'citrus fruit', 'watermelon', 'rutabagas', 'marshmallows', 'seafood salads', 'amaranth', 'kumquats', 'relish', 'prickly pear', 'cinnamon extract', 'crab legs', 'gelatin', 'duckling', 'nut oils', 'pumpkins', 'salad dressings', 'formula', 'soup mixes', 'bison', 'coconut flavor', 'star fruit', 'sorghum', 'doughnuts'] \n",
      "\n",
      "\n",
      "~~~~~~~~~~~~~~~~~7~~~~~~~~~~~~~~~~~\n",
      "Model loaded...\n"
     ]
    },
    {
     "name": "stderr",
     "output_type": "stream",
     "text": [
      " 16%|█▋        | 571/3509 [00:00<00:01, 2885.04it/s]"
     ]
    },
    {
     "name": "stdout",
     "output_type": "stream",
     "text": [
      "Skipping entity\n",
      "Skipping entity\n",
      "Skipping entity\n",
      "Skipping entity\n",
      "Skipping entity\n",
      "Skipping entity\n",
      "Skipping entity\n",
      "Skipping entity\n",
      "Skipping entity\n",
      "Skipping entity\n",
      "Skipping entity\n",
      "Skipping entity\n",
      "Skipping entity\n",
      "Skipping entity\n",
      "Skipping entity\n",
      "Skipping entity\n",
      "Skipping entity\n",
      "Skipping entity\n",
      "Skipping entity\n",
      "Skipping entity\n",
      "Skipping entity\n",
      "Skipping entity\n",
      "Skipping entity\n",
      "Skipping entity\n",
      "Skipping entity\n",
      "Skipping entity\n",
      "Skipping entity\n",
      "Skipping entity\n",
      "Skipping entity\n",
      "Skipping entity\n"
     ]
    },
    {
     "name": "stderr",
     "output_type": "stream",
     "text": [
      " 51%|█████     | 1795/3509 [00:00<00:00, 3862.30it/s]"
     ]
    },
    {
     "name": "stdout",
     "output_type": "stream",
     "text": [
      "Skipping entity\n",
      "Skipping entity\n",
      "Skipping entity\n",
      "Skipping entity\n",
      "Skipping entity\n",
      "Skipping entity\n",
      "Skipping entity\n",
      "Skipping entity\n",
      "Skipping entity\n",
      "Skipping entity\n",
      "Skipping entity\n",
      "Skipping entity\n",
      "Skipping entity\n",
      "Skipping entity\n",
      "Skipping entity\n",
      "Skipping entity\n",
      "Skipping entity\n",
      "Skipping entity\n",
      "Skipping entity\n",
      "Skipping entity\n",
      "Skipping entity\n",
      "Skipping entity\n",
      "Skipping entity\n",
      "Skipping entity\n",
      "Skipping entity\n",
      "Skipping entity\n",
      "Skipping entity\n",
      "Skipping entity\n",
      "Skipping entity\n",
      "Skipping entity\n",
      "Skipping entity\n",
      "Skipping entity\n",
      "Skipping entity\n",
      "Skipping entity\n",
      "Skipping entity\n",
      "Skipping entity\n",
      "Skipping entity\n",
      "Skipping entity\n",
      "Skipping entity\n",
      "Skipping entity\n",
      "Skipping entity\n",
      "Skipping entity\n"
     ]
    },
    {
     "name": "stderr",
     "output_type": "stream",
     "text": [
      " 89%|████████▉ | 3121/3509 [00:00<00:00, 4218.19it/s]"
     ]
    },
    {
     "name": "stdout",
     "output_type": "stream",
     "text": [
      "Skipping entity\n",
      "Skipping entity\n",
      "Skipping entity\n",
      "Skipping entity\n",
      "Skipping entity\n",
      "Skipping entity\n",
      "Skipping entity\n",
      "Skipping entity\n",
      "Skipping entity\n",
      "Skipping entity\n",
      "Skipping entity\n",
      "Skipping entity\n",
      "Skipping entity\n",
      "Skipping entity\n",
      "Skipping entity\n",
      "Skipping entity\n",
      "Skipping entity\n",
      "Skipping entity\n",
      "Skipping entity\n",
      "Skipping entity\n",
      "Skipping entity\n",
      "Skipping entity\n",
      "Skipping entity\n",
      "Skipping entity\n",
      "Skipping entity\n",
      "Skipping entity\n",
      "Skipping entity\n",
      "Skipping entity\n",
      "Skipping entity\n",
      "Skipping entity\n",
      "Skipping entity\n",
      "Skipping entity\n",
      "Skipping entity\n",
      "Skipping entity\n"
     ]
    },
    {
     "name": "stderr",
     "output_type": "stream",
     "text": [
      "100%|██████████| 3509/3509 [00:00<00:00, 3934.27it/s]\n"
     ]
    },
    {
     "name": "stdout",
     "output_type": "stream",
     "text": [
      "[i] Saving to output directory: output\n",
      "[i] Using CPU\n",
      "\u001b[1m\n",
      "=========================== Initializing pipeline ===========================\u001b[0m\n",
      "[+] Initialized pipeline\n",
      "\u001b[1m\n",
      "============================= Training pipeline =============================\u001b[0m\n",
      "[i] Pipeline: ['tok2vec', 'ner']\n",
      "[i] Initial learn rate: 0.001\n",
      "E    #       LOSS TOK2VEC  LOSS NER  ENTS_F  ENTS_P  ENTS_R  SCORE \n",
      "---  ------  ------------  --------  ------  ------  ------  ------\n",
      "  0       0          0.00     28.67    0.00    0.00    0.00    0.00\n",
      "  0     200         97.46   2808.28   81.54   78.24   85.14    0.82\n",
      "  0     400         85.06   1515.82   87.57   84.31   91.09    0.88\n",
      "  0     600        102.28   1465.25   89.10   85.67   92.81    0.89\n",
      "  0     800         84.54   1628.01   91.69   87.74   96.01    0.92\n",
      "  1    1000         93.49   1634.11   92.16   88.42   96.23    0.92\n",
      "  1    1200        113.37   1779.25   93.99   91.47   96.65    0.94\n",
      "  2    1400        145.19   2044.28   94.88   92.23   97.68    0.95\n",
      "  2    1600        229.65   1984.22   96.36   94.84   97.94    0.96\n",
      "  3    1800        284.38   2038.56   97.19   95.70   98.73    0.97\n",
      "  4    2000        364.08   1935.21   97.80   97.06   98.56    0.98\n",
      "  5    2200        506.96   1957.89   98.61   98.49   98.74    0.99\n",
      "  7    2400        587.71   1825.29   99.06   98.59   99.53    0.99\n",
      "  8    2600        652.67   1365.85   99.29   99.04   99.55    0.99\n",
      "  9    2800        696.06   1267.89   99.37   99.56   99.19    0.99\n",
      " 11    3000        633.07    979.54   99.37   99.15   99.60    0.99\n",
      " 12    3200        722.23    966.80   99.73   99.65   99.81    1.00\n",
      " 14    3400        649.58    858.99   99.72   99.70   99.75    1.00\n",
      " 15    3600        682.66    789.75   99.79   99.85   99.72    1.00\n",
      " 17    3800        588.53    645.85   99.75   99.70   99.81    1.00\n",
      " 18    4000        631.77    606.37   99.79   99.87   99.71    1.00\n",
      " 20    4200        635.70    623.87   99.78   99.68   99.89    1.00\n",
      " 21    4400        658.57    591.51   99.80   99.70   99.89    1.00\n",
      " 23    4600        602.93    584.90   99.81   99.86   99.76    1.00\n",
      " 24    4800        580.53    486.28   99.88   99.85   99.91    1.00\n",
      " 26    5000        741.57    503.83   99.88   99.87   99.88    1.00\n",
      " 27    5200        567.63    432.50   99.85   99.76   99.94    1.00\n",
      " 28    5400        667.82    514.27   99.81   99.95   99.66    1.00\n",
      " 30    5600        608.83    416.22   99.85   99.75   99.95    1.00\n",
      " 31    5800        579.13    404.05   99.85   99.79   99.91    1.00\n",
      " 33    6000        719.85    444.67   99.88   99.86   99.90    1.00\n",
      " 34    6200        747.45    388.05   99.88   99.83   99.93    1.00\n",
      " 36    6400        874.18    396.72   99.92   99.91   99.94    1.00\n",
      " 37    6600        729.58    362.42   99.91   99.94   99.88    1.00\n",
      " 39    6800        819.96    381.23   99.90   99.88   99.93    1.00\n",
      " 40    7000        922.07    356.74   99.91   99.87   99.95    1.00\n",
      " 42    7200        868.44    377.89   99.90   99.91   99.89    1.00\n",
      " 43    7400        882.91    377.07   99.89   99.92   99.86    1.00\n",
      " 45    7600        830.87    336.75   99.93   99.95   99.92    1.00\n",
      " 46    7800        815.29    325.32   99.88   99.96   99.81    1.00\n",
      " 47    8000       1002.24    365.83   99.92   99.87   99.97    1.00\n",
      " 49    8200        830.60    293.95   99.91   99.89   99.93    1.00\n",
      " 50    8400        815.07    324.18   99.94   99.94   99.95    1.00\n",
      " 52    8600        782.83    245.35   99.92   99.88   99.95    1.00\n",
      " 53    8800       1120.98    310.52   99.93   99.90   99.96    1.00\n",
      " 55    9000       1183.79    292.71   99.92   99.94   99.90    1.00\n",
      " 56    9200       1231.57    290.28   99.94   99.92   99.96    1.00\n",
      " 58    9400       1006.82    269.38   99.95   99.92   99.97    1.00\n",
      " 59    9600        969.96    272.49   99.93   99.95   99.91    1.00\n",
      " 61    9800       1181.10    288.19   99.92   99.86   99.98    1.00\n",
      " 62   10000       1210.67    286.16   99.93   99.91   99.96    1.00\n",
      " 64   10200       1376.88    294.50   99.92   99.94   99.90    1.00\n",
      " 65   10400       1348.47    279.02   99.89   99.84   99.95    1.00\n",
      " 66   10600       1154.49    246.01   99.88   99.86   99.90    1.00\n",
      " 68   10800       1312.36    275.65   99.91   99.90   99.92    1.00\n",
      " 69   11000       1163.07    243.22   99.94   99.98   99.90    1.00\n",
      "[+] Saved pipeline to output directory\n",
      "output\\model-last\n",
      "\n",
      "Total keywords:  361\n",
      "List of Keywords:\n",
      "\n",
      " ['cheese', 'chicken', 'milk', 'butter', 'cream', 'fruit', 'rice', 'water', 'garlic', 'bread', 'sugar', 'salt', 'chocolate', 'fish', 'beef', 'yogurt', 'almond milk', 'greens', 'granola', 'nuts', 'chia seeds', 'onions', 'apples', 'peanut butter', 'squash', 'soda', 'flour', 'garlic powder', 'buttermilk', 'potatoes', 'cottage cheese', 'sour cream', 'turkey', 'beans', 'cream cheese', 'bagel', 'pretzels', 'celery', 'white wine', 'margarine', 'whipped cream', 'ice cream', 'pineapple', 'whipped topping', 'plantains', 'veal', 'mustard', 'corned beef', 'rye', 'fried chicken', 'gravy', 'tuna', 'vegetables', 'eggs', 'rotisserie chicken', 'hot dogs', 'crackers', 'dips', 'meats', 'frozen entrees', 'bacon', 'pasta', 'pizza', 'potato chips', 'avocados', 'pork', 'sunflower seeds', 'lentils', 'lean fish', 'cauliflower', 'asparagus', 'almonds', 'cooked fish', 'honey', 'kimchi', 'herbs', 'dates', 'scallops', 'yuzu', 'corn syrup', 'baking soda', 'molasses', 'yeast', 'cornmeal', 'vinegar', 'parsley', 'worcestershire sauce', 'mushrooms', 'broth', 'peppers', 'oats', 'guava', 'coconut', 'cheesecake', 'cinnamon', 'muffin', 'pies', 'tomato sauce', 'pickles', 'goat', 'lamb', 'seafood', 'olives', 'baking powder', 'sesame seeds', 'raspberries', 'cornstarch', 'hot sauce', 'grits', 'chives', 'coconut milk', 'tamarind', 'tomatoes', 'cumin', 'chili powder', 'onion powder', 'black pepper', 'pie crust', 'cooked rice', 'nutmeg', 'peas', 'refried beans', 'bananas', 'okra', 'cabbage', 'syrup', 'juice concentrates', 'basil', 'fruits', 'horseradish', 'lettuce', 'pesto', 'soy milk', 'hoisin sauce', 'sesame oil', 'peanuts', 'ham', 'bacon bits', 'chutney', 'sun dried tomatoes', 'sausage', 'coffee', 'pasta salad', 'cereal', 'grapes', 'cashews', 'tea', 'pudding', 'coconut cream', 'coconut water', 'apple juice', 'fruit cocktail', 'walnuts', 'dough', 'roasted red peppers', 'whole wheat bread', 'thyme', 'mayonnaise', 'oregano', 'leftovers', 'strawberries', 'berries', 'coleslaw', 'cilantro', 'guacamole', 'tomato paste', 'canola oil', 'mung bean', 'lemon juice', 'ghee', 'avocado oil', 'almond oil', 'grapeseed oil', 'spelt', 'lime juice', 'pure vanilla extract', 'butter flavor', 'string cheese', 'salsa', 'puff pastry', 'biscuits', 'orange juice', 'vegetable soup', 'caviar', 'pine nuts', 'coconut oil', 'quail', 'kefir', 'cookie dough', 'base', 'meat products', 'chicken parts', 'cornish hens', 'canned chicken', 'fatty fish', 'miso', 'barley', 'whole wheat flour', 'cream pies', 'quiche', 'sugar substitutes', 'cookies', 'potato salad', 'brussels sprouts', 'cherry tomatoes', 'taro', 'aioli', 'salami', 'prosciutto', 'chocolate syrup', 'pectin', 'tortillas', 'rice milk', 'coconuts', 'turkey bacon', 'black bean sauce', 'tofu', 'oyster sauce', 'rosemary', 'powdered milk', 'popcorn', 'almond butter', 'cashew butter', 'hummus', 'jerky', 'kohlrabi', 'cantaloupe', 'farro', 'lemongrass', 'canadian bacon', 'pecans', 'mint', 'hot peppers', 'swiss chard', 'cranberry sauce', 'pate', 'buckwheat', 'cheese curds', 'bratwurst', 'bulgur', 'eggplant', 'coconut flour', 'kale', 'zucchini', 'cherries', 'polenta', 'balsamic vinegar', 'anchovies', 'arugula', 'oils', 'pumpkin seeds', 'flaxseed', 'herring', 'coffee creamer', 'apple cider vinegar', 'ricotta', 'pistachios', 'beets', 'sausages', 'venison', 'leeks', 'rabbit', 'pastrami', 'chicken salad', 'dinners', 'goose', 'applesauce', 'capon', 'blueberries', 'quinoa', 'cucumbers', 'red wine', 'canned goods', 'croutons', 'soy flour', 'cooked pasta', 'edamame', 'casseroles', 'fruit pies', 'tamarind paste', 'nectar', 'duck fat', 'apricots', 'pomegranate', 'cranberries', 'cherimoya', 'kiwi fruit', 'honeydew', 'tapenade', 'bamboo shoots', 'millet', 'beans and peas', 'radishes', 'rhubarb', 'bok choy', 'jicama', 'turnips', 'melons', 'pork rinds', 'squid', 'tempeh', 'marinades', 'capers', 'barbecue sauce', 'chorizo', 'apple cider', 'tahini', 'egg salad', 'cinnamon rolls', 'ham salad', 'nacho cheese', 'pork roll', 'macadamias', 'bacon grease', 'baby carrots', 'celery root', 'spaghetti sauce', 'sunflower oil', 'almond extract', 'lemon extract', 'carrot juice', 'bean sprouts', 'macaroons', 'spaghetti squash', 'vegetable juice', 'marinated vegetables', 'teff', 'garam masala', 'fresh pasta', 'ginger root', 'breadcrumbs', 'pimento cheese', 'cooking wine', 'yuzu juice', 'radicchio', 'egg dishes', 'lobster tails', 'fruit cake', 'citrus fruit', 'watermelon', 'rutabagas', 'marshmallows', 'seafood salads', 'amaranth', 'kumquats', 'relish', 'prickly pear', 'cinnamon extract', 'crab legs', 'gelatin', 'duckling', 'nut oils', 'pumpkins', 'salad dressings', 'formula', 'soup mixes', 'bison', 'coconut flavor', 'star fruit', 'sorghum', 'doughnuts'] \n",
      "\n",
      "\n"
     ]
    },
    {
     "name": "stdout",
     "output_type": "stream",
     "text": [
      "[[32 12]\n",
      " [ 7 32]]\n",
      "              precision    recall  f1-score   support\n",
      "\n",
      "           1       0.82      0.73      0.77        44\n",
      "           0       0.73      0.82      0.77        39\n",
      "\n",
      "    accuracy                           0.77        83\n",
      "   macro avg       0.77      0.77      0.77        83\n",
      "weighted avg       0.78      0.77      0.77        83\n",
      "\n",
      "Total keywords:  362\n",
      "Total Tweets:  3509\n",
      "List of Keywords:\n",
      "\n",
      " ['cheese', 'chicken', 'milk', 'butter', 'cream', 'fruit', 'rice', 'water', 'garlic', 'bread', 'sugar', 'salt', 'chocolate', 'fish', 'beef', 'yogurt', 'almond milk', 'greens', 'granola', 'nuts', 'chia seeds', 'onions', 'apples', 'peanut butter', 'squash', 'soda', 'flour', 'garlic powder', 'buttermilk', 'potatoes', 'cottage cheese', 'sour cream', 'turkey', 'beans', 'cream cheese', 'bagel', 'pretzels', 'celery', 'white wine', 'margarine', 'whipped cream', 'ice cream', 'pineapple', 'whipped topping', 'plantains', 'veal', 'mustard', 'corned beef', 'rye', 'fried chicken', 'gravy', 'tuna', 'vegetables', 'eggs', 'rotisserie chicken', 'hot dogs', 'crackers', 'dips', 'meats', 'frozen entrees', 'bacon', 'pasta', 'pizza', 'potato chips', 'avocados', 'pork', 'sunflower seeds', 'lentils', 'lean fish', 'cauliflower', 'asparagus', 'almonds', 'cooked fish', 'honey', 'kimchi', 'herbs', 'dates', 'scallops', 'yuzu', 'corn syrup', 'baking soda', 'molasses', 'yeast', 'cornmeal', 'vinegar', 'parsley', 'worcestershire sauce', 'mushrooms', 'broth', 'peppers', 'oats', 'guava', 'coconut', 'cheesecake', 'cinnamon', 'muffin', 'pies', 'tomato sauce', 'pickles', 'goat', 'lamb', 'seafood', 'olives', 'baking powder', 'sesame seeds', 'raspberries', 'cornstarch', 'hot sauce', 'grits', 'chives', 'coconut milk', 'tamarind', 'tomatoes', 'cumin', 'chili powder', 'onion powder', 'black pepper', 'pie crust', 'cooked rice', 'nutmeg', 'peas', 'refried beans', 'bananas', 'okra', 'cabbage', 'syrup', 'juice concentrates', 'basil', 'fruits', 'horseradish', 'lettuce', 'pesto', 'soy milk', 'hoisin sauce', 'sesame oil', 'peanuts', 'ham', 'bacon bits', 'chutney', 'sun dried tomatoes', 'sausage', 'coffee', 'pasta salad', 'cereal', 'grapes', 'cashews', 'tea', 'pudding', 'coconut cream', 'coconut water', 'apple juice', 'fruit cocktail', 'walnuts', 'dough', 'roasted red peppers', 'whole wheat bread', 'thyme', 'mayonnaise', 'oregano', 'leftovers', 'strawberries', 'berries', 'coleslaw', 'cilantro', 'guacamole', 'tomato paste', 'canola oil', 'mung bean', 'lemon juice', 'ghee', 'avocado oil', 'almond oil', 'grapeseed oil', 'spelt', 'lime juice', 'pure vanilla extract', 'butter flavor', 'string cheese', 'salsa', 'puff pastry', 'biscuits', 'orange juice', 'vegetable soup', 'caviar', 'pine nuts', 'coconut oil', 'quail', 'kefir', 'cookie dough', 'base', 'meat products', 'chicken parts', 'cornish hens', 'canned chicken', 'fatty fish', 'miso', 'barley', 'whole wheat flour', 'cream pies', 'quiche', 'sugar substitutes', 'cookies', 'potato salad', 'brussels sprouts', 'cherry tomatoes', 'taro', 'aioli', 'salami', 'prosciutto', 'chocolate syrup', 'pectin', 'tortillas', 'rice milk', 'coconuts', 'turkey bacon', 'black bean sauce', 'tofu', 'oyster sauce', 'rosemary', 'powdered milk', 'popcorn', 'almond butter', 'cashew butter', 'hummus', 'jerky', 'kohlrabi', 'cantaloupe', 'farro', 'lemongrass', 'canadian bacon', 'pecans', 'mint', 'hot peppers', 'swiss chard', 'cranberry sauce', 'pate', 'buckwheat', 'cheese curds', 'bratwurst', 'bulgur', 'eggplant', 'coconut flour', 'kale', 'zucchini', 'cherries', 'polenta', 'balsamic vinegar', 'anchovies', 'arugula', 'oils', 'pumpkin seeds', 'flaxseed', 'herring', 'coffee creamer', 'apple cider vinegar', 'ricotta', 'pistachios', 'beets', 'sausages', 'venison', 'leeks', 'rabbit', 'pastrami', 'chicken salad', 'dinners', 'goose', 'applesauce', 'capon', 'blueberries', 'quinoa', 'cucumbers', 'red wine', 'canned goods', 'croutons', 'soy flour', 'cooked pasta', 'edamame', 'casseroles', 'fruit pies', 'tamarind paste', 'nectar', 'duck fat', 'apricots', 'pomegranate', 'cranberries', 'cherimoya', 'kiwi fruit', 'honeydew', 'tapenade', 'bamboo shoots', 'millet', 'beans and peas', 'radishes', 'rhubarb', 'bok choy', 'jicama', 'turnips', 'melons', 'pork rinds', 'squid', 'tempeh', 'marinades', 'capers', 'barbecue sauce', 'chorizo', 'apple cider', 'tahini', 'egg salad', 'cinnamon rolls', 'ham salad', 'nacho cheese', 'pork roll', 'macadamias', 'bacon grease', 'baby carrots', 'celery root', 'spaghetti sauce', 'sunflower oil', 'almond extract', 'lemon extract', 'carrot juice', 'bean sprouts', 'macaroons', 'spaghetti squash', 'vegetable juice', 'marinated vegetables', 'teff', 'garam masala', 'fresh pasta', 'ginger root', 'breadcrumbs', 'pimento cheese', 'cooking wine', 'yuzu juice', 'radicchio', 'egg dishes', 'lobster tails', 'fruit cake', 'citrus fruit', 'watermelon', 'rutabagas', 'marshmallows', 'seafood salads', 'amaranth', 'kumquats', 'relish', 'prickly pear', 'cinnamon extract', 'crab legs', 'gelatin', 'duckling', 'nut oils', 'pumpkins', 'salad dressings', 'formula', 'soup mixes', 'bison', 'coconut flavor', 'star fruit', 'sorghum', 'doughnuts', 'pheasant'] \n",
      "\n",
      "\n",
      "~~~~~~~~~~~~~~~~~8~~~~~~~~~~~~~~~~~\n",
      "Model loaded...\n"
     ]
    },
    {
     "name": "stderr",
     "output_type": "stream",
     "text": [
      " 27%|██▋       | 933/3513 [00:00<00:00, 3234.91it/s]"
     ]
    },
    {
     "name": "stdout",
     "output_type": "stream",
     "text": [
      "Skipping entity\n",
      "Skipping entity\n",
      "Skipping entity\n",
      "Skipping entity\n",
      "Skipping entity\n",
      "Skipping entity\n",
      "Skipping entity\n",
      "Skipping entity\n",
      "Skipping entity\n",
      "Skipping entity\n",
      "Skipping entity\n",
      "Skipping entity\n",
      "Skipping entity\n",
      "Skipping entity\n",
      "Skipping entity\n",
      "Skipping entity\n",
      "Skipping entity\n",
      "Skipping entity\n",
      "Skipping entity\n",
      "Skipping entity\n",
      "Skipping entity\n",
      "Skipping entity\n",
      "Skipping entity\n",
      "Skipping entity\n",
      "Skipping entity\n"
     ]
    },
    {
     "name": "stderr",
     "output_type": "stream",
     "text": [
      " 62%|██████▏   | 2169/3513 [00:00<00:00, 3923.14it/s]"
     ]
    },
    {
     "name": "stdout",
     "output_type": "stream",
     "text": [
      "Skipping entity\n",
      "Skipping entity\n",
      "Skipping entity\n",
      "Skipping entity\n",
      "Skipping entity\n",
      "Skipping entity\n",
      "Skipping entity\n",
      "Skipping entity\n",
      "Skipping entity\n",
      "Skipping entity\n",
      "Skipping entity\n",
      "Skipping entity\n",
      "Skipping entity\n",
      "Skipping entity\n",
      "Skipping entity\n",
      "Skipping entity\n",
      "Skipping entity\n",
      "Skipping entity\n",
      "Skipping entity\n",
      "Skipping entity\n",
      "Skipping entity\n",
      "Skipping entity\n",
      "Skipping entity\n",
      "Skipping entity\n",
      "Skipping entity\n",
      "Skipping entity\n",
      "Skipping entity\n",
      "Skipping entity\n",
      "Skipping entity\n",
      "Skipping entity\n",
      "Skipping entity\n",
      "Skipping entity\n",
      "Skipping entity\n"
     ]
    },
    {
     "name": "stderr",
     "output_type": "stream",
     "text": [
      " 99%|█████████▉| 3483/3513 [00:00<00:00, 4235.82it/s]"
     ]
    },
    {
     "name": "stdout",
     "output_type": "stream",
     "text": [
      "Skipping entity\n",
      "Skipping entity\n",
      "Skipping entity\n",
      "Skipping entity\n",
      "Skipping entity\n",
      "Skipping entity\n",
      "Skipping entity\n",
      "Skipping entity\n",
      "Skipping entity\n",
      "Skipping entity\n",
      "Skipping entity\n",
      "Skipping entity\n",
      "Skipping entity\n",
      "Skipping entity\n",
      "Skipping entity\n",
      "Skipping entity\n",
      "Skipping entity\n",
      "Skipping entity\n",
      "Skipping entity\n",
      "Skipping entity\n",
      "Skipping entity\n",
      "Skipping entity\n",
      "Skipping entity\n",
      "Skipping entity\n",
      "Skipping entity\n",
      "Skipping entity\n",
      "Skipping entity\n"
     ]
    },
    {
     "name": "stderr",
     "output_type": "stream",
     "text": [
      "100%|██████████| 3513/3513 [00:00<00:00, 3854.35it/s]\n"
     ]
    },
    {
     "name": "stdout",
     "output_type": "stream",
     "text": [
      "Skipping entity\n",
      "Skipping entity\n",
      "[i] Saving to output directory: output\n",
      "[i] Using CPU\n",
      "\u001b[1m\n",
      "=========================== Initializing pipeline ===========================\u001b[0m\n",
      "[+] Initialized pipeline\n",
      "\u001b[1m\n",
      "============================= Training pipeline =============================\u001b[0m\n",
      "[i] Pipeline: ['tok2vec', 'ner']\n",
      "[i] Initial learn rate: 0.001\n",
      "E    #       LOSS TOK2VEC  LOSS NER  ENTS_F  ENTS_P  ENTS_R  SCORE \n",
      "---  ------  ------------  --------  ------  ------  ------  ------\n",
      "  0       0          0.00     31.33    0.23    0.78    0.13    0.00\n",
      "  0     200         83.63   2648.01   80.03   76.36   84.08    0.80\n",
      "  0     400         93.86   1419.53   85.76   80.21   92.13    0.86\n",
      "  0     600         94.05   1516.47   89.96   86.12   94.17    0.90\n",
      "  0     800         86.14   1691.96   91.37   86.30   97.08    0.91\n",
      "  1    1000        105.08   1575.57   92.89   89.49   96.57    0.93\n",
      "  1    1200        132.94   1825.23   94.07   92.60   95.59    0.94\n",
      "  2    1400        149.54   2024.45   94.78   91.78   97.97    0.95\n",
      "  2    1600        203.88   1985.45   96.28   95.47   97.10    0.96\n",
      "  3    1800        268.98   2057.62   97.17   96.88   97.46    0.97\n",
      "  4    2000        323.96   2004.96   98.15   97.30   99.01    0.98\n",
      "  5    2200        450.75   1863.84   98.71   98.05   99.38    0.99\n",
      "  7    2400        586.20   1702.28   99.22   98.90   99.53    0.99\n",
      "  8    2600        605.12   1334.75   99.44   99.41   99.46    0.99\n",
      " 10    2800        631.99   1172.73   99.57   99.55   99.59    1.00\n",
      " 11    3000        598.00    929.76   99.56   99.61   99.51    1.00\n",
      " 12    3200        663.17    960.75   99.73   99.61   99.86    1.00\n",
      " 14    3400        673.73    782.77   99.71   99.56   99.86    1.00\n",
      " 15    3600        643.82    781.08   99.68   99.60   99.77    1.00\n",
      " 17    3800        566.60    659.21   99.83   99.80   99.86    1.00\n",
      " 18    4000        617.89    664.10   99.87   99.85   99.88    1.00\n",
      " 20    4200        568.64    571.31   99.87   99.86   99.88    1.00\n",
      " 21    4400        649.94    546.92   99.80   99.67   99.93    1.00\n",
      " 23    4600        654.34    545.12   99.86   99.82   99.91    1.00\n",
      " 24    4800        667.01    563.45   99.86   99.84   99.88    1.00\n",
      " 26    5000        646.84    501.59   99.86   99.83   99.89    1.00\n",
      " 27    5200        552.88    422.69   99.89   99.84   99.94    1.00\n",
      " 29    5400        684.97    444.67   99.88   99.84   99.92    1.00\n",
      " 30    5600        688.58    416.01   99.90   99.88   99.92    1.00\n",
      " 31    5800        612.94    399.41   99.89   99.80   99.97    1.00\n",
      " 33    6000        649.29    401.88   99.92   99.88   99.95    1.00\n",
      " 34    6200        662.55    407.38   99.95   99.97   99.93    1.00\n",
      " 36    6400        625.33    363.08   99.90   99.89   99.91    1.00\n",
      " 37    6600        804.40    385.64   99.91   99.86   99.97    1.00\n",
      " 39    6800        791.76    340.37   99.95   99.95   99.96    1.00\n",
      " 40    7000        810.64    350.35   99.90   99.95   99.85    1.00\n",
      " 42    7200        738.49    325.80   99.92   99.97   99.87    1.00\n",
      " 43    7400        744.02    293.93   99.92   99.94   99.90    1.00\n",
      " 45    7600        952.02    357.33   99.82   99.80   99.84    1.00\n",
      " 46    7800        823.44    345.03   99.90   99.90   99.91    1.00\n",
      " 48    8000        926.17    335.28   99.66   99.69   99.63    1.00\n",
      " 49    8200        986.36    284.87   99.94   99.98   99.90    1.00\n",
      " 51    8400       1081.84    281.86   99.95   99.92   99.98    1.00\n",
      " 52    8600        862.44    269.51   99.90   99.85   99.95    1.00\n",
      " 53    8800        894.80    285.77   99.93   99.97   99.90    1.00\n",
      " 55    9000        878.86    236.01   99.95   99.90   99.99    1.00\n",
      " 56    9200       1065.66    248.74   99.95   99.98   99.91    1.00\n",
      " 58    9400        981.94    252.17   99.97   99.94   99.99    1.00\n",
      " 59    9600       1191.81    294.50   99.95   99.95   99.96    1.00\n",
      " 61    9800       1192.84    251.36   99.97   99.98   99.96    1.00\n",
      " 62   10000       1197.77    245.46   99.95   99.93   99.97    1.00\n",
      " 64   10200       1149.36    237.75   99.93   99.88   99.98    1.00\n",
      " 65   10400       1485.88    257.58   99.97   99.98   99.97    1.00\n",
      " 67   10600       1389.49    228.27   99.94   99.93   99.95    1.00\n",
      " 68   10800       1296.37    230.14   99.96   99.95   99.97    1.00\n",
      " 70   11000       1768.30    264.93   99.97   99.96   99.98    1.00\n",
      " 71   11200       1712.78    201.00   99.94   99.93   99.95    1.00\n",
      " 72   11400       1302.35    208.53   99.96   99.95   99.96    1.00\n",
      " 74   11600       1538.08    241.83   99.96   99.94   99.98    1.00\n",
      " 75   11800       1391.08    230.67   99.96   99.95   99.97    1.00\n",
      " 77   12000       1787.24    228.69   99.95   99.92   99.97    1.00\n",
      "[+] Saved pipeline to output directory\n",
      "output\\model-last\n",
      "\n",
      "Total keywords:  362\n",
      "List of Keywords:\n",
      "\n",
      " ['cheese', 'chicken', 'milk', 'butter', 'cream', 'fruit', 'rice', 'water', 'garlic', 'bread', 'sugar', 'salt', 'chocolate', 'fish', 'beef', 'yogurt', 'almond milk', 'greens', 'granola', 'nuts', 'chia seeds', 'onions', 'apples', 'peanut butter', 'squash', 'soda', 'flour', 'garlic powder', 'buttermilk', 'potatoes', 'cottage cheese', 'sour cream', 'turkey', 'beans', 'cream cheese', 'bagel', 'pretzels', 'celery', 'white wine', 'margarine', 'whipped cream', 'ice cream', 'pineapple', 'whipped topping', 'plantains', 'veal', 'mustard', 'corned beef', 'rye', 'fried chicken', 'gravy', 'tuna', 'vegetables', 'eggs', 'rotisserie chicken', 'hot dogs', 'crackers', 'dips', 'meats', 'frozen entrees', 'bacon', 'pasta', 'pizza', 'potato chips', 'avocados', 'pork', 'sunflower seeds', 'lentils', 'lean fish', 'cauliflower', 'asparagus', 'almonds', 'cooked fish', 'honey', 'kimchi', 'herbs', 'dates', 'scallops', 'yuzu', 'corn syrup', 'baking soda', 'molasses', 'yeast', 'cornmeal', 'vinegar', 'parsley', 'worcestershire sauce', 'mushrooms', 'broth', 'peppers', 'oats', 'guava', 'coconut', 'cheesecake', 'cinnamon', 'muffin', 'pies', 'tomato sauce', 'pickles', 'goat', 'lamb', 'seafood', 'olives', 'baking powder', 'sesame seeds', 'raspberries', 'cornstarch', 'hot sauce', 'grits', 'chives', 'coconut milk', 'tamarind', 'tomatoes', 'cumin', 'chili powder', 'onion powder', 'black pepper', 'pie crust', 'cooked rice', 'nutmeg', 'peas', 'refried beans', 'bananas', 'okra', 'cabbage', 'syrup', 'juice concentrates', 'basil', 'fruits', 'horseradish', 'lettuce', 'pesto', 'soy milk', 'hoisin sauce', 'sesame oil', 'peanuts', 'ham', 'bacon bits', 'chutney', 'sun dried tomatoes', 'sausage', 'coffee', 'pasta salad', 'cereal', 'grapes', 'cashews', 'tea', 'pudding', 'coconut cream', 'coconut water', 'apple juice', 'fruit cocktail', 'walnuts', 'dough', 'roasted red peppers', 'whole wheat bread', 'thyme', 'mayonnaise', 'oregano', 'leftovers', 'strawberries', 'berries', 'coleslaw', 'cilantro', 'guacamole', 'tomato paste', 'canola oil', 'mung bean', 'lemon juice', 'ghee', 'avocado oil', 'almond oil', 'grapeseed oil', 'spelt', 'lime juice', 'pure vanilla extract', 'butter flavor', 'string cheese', 'salsa', 'puff pastry', 'biscuits', 'orange juice', 'vegetable soup', 'caviar', 'pine nuts', 'coconut oil', 'quail', 'kefir', 'cookie dough', 'base', 'meat products', 'chicken parts', 'cornish hens', 'canned chicken', 'fatty fish', 'miso', 'barley', 'whole wheat flour', 'cream pies', 'quiche', 'sugar substitutes', 'cookies', 'potato salad', 'brussels sprouts', 'cherry tomatoes', 'taro', 'aioli', 'salami', 'prosciutto', 'chocolate syrup', 'pectin', 'tortillas', 'rice milk', 'coconuts', 'turkey bacon', 'black bean sauce', 'tofu', 'oyster sauce', 'rosemary', 'powdered milk', 'popcorn', 'almond butter', 'cashew butter', 'hummus', 'jerky', 'kohlrabi', 'cantaloupe', 'farro', 'lemongrass', 'canadian bacon', 'pecans', 'mint', 'hot peppers', 'swiss chard', 'cranberry sauce', 'pate', 'buckwheat', 'cheese curds', 'bratwurst', 'bulgur', 'eggplant', 'coconut flour', 'kale', 'zucchini', 'cherries', 'polenta', 'balsamic vinegar', 'anchovies', 'arugula', 'oils', 'pumpkin seeds', 'flaxseed', 'herring', 'coffee creamer', 'apple cider vinegar', 'ricotta', 'pistachios', 'beets', 'sausages', 'venison', 'leeks', 'rabbit', 'pastrami', 'chicken salad', 'dinners', 'goose', 'applesauce', 'capon', 'blueberries', 'quinoa', 'cucumbers', 'red wine', 'canned goods', 'croutons', 'soy flour', 'cooked pasta', 'edamame', 'casseroles', 'fruit pies', 'tamarind paste', 'nectar', 'duck fat', 'apricots', 'pomegranate', 'cranberries', 'cherimoya', 'kiwi fruit', 'honeydew', 'tapenade', 'bamboo shoots', 'millet', 'beans and peas', 'radishes', 'rhubarb', 'bok choy', 'jicama', 'turnips', 'melons', 'pork rinds', 'squid', 'tempeh', 'marinades', 'capers', 'barbecue sauce', 'chorizo', 'apple cider', 'tahini', 'egg salad', 'cinnamon rolls', 'ham salad', 'nacho cheese', 'pork roll', 'macadamias', 'bacon grease', 'baby carrots', 'celery root', 'spaghetti sauce', 'sunflower oil', 'almond extract', 'lemon extract', 'carrot juice', 'bean sprouts', 'macaroons', 'spaghetti squash', 'vegetable juice', 'marinated vegetables', 'teff', 'garam masala', 'fresh pasta', 'ginger root', 'breadcrumbs', 'pimento cheese', 'cooking wine', 'yuzu juice', 'radicchio', 'egg dishes', 'lobster tails', 'fruit cake', 'citrus fruit', 'watermelon', 'rutabagas', 'marshmallows', 'seafood salads', 'amaranth', 'kumquats', 'relish', 'prickly pear', 'cinnamon extract', 'crab legs', 'gelatin', 'duckling', 'nut oils', 'pumpkins', 'salad dressings', 'formula', 'soup mixes', 'bison', 'coconut flavor', 'star fruit', 'sorghum', 'doughnuts', 'pheasant'] \n",
      "\n",
      "\n"
     ]
    },
    {
     "name": "stdout",
     "output_type": "stream",
     "text": [
      "Decreasing entityCheckCount variable by 1\n",
      "entityCheckCount =  2\n",
      "[[34 10]\n",
      " [ 4 35]]\n",
      "              precision    recall  f1-score   support\n",
      "\n",
      "           1       0.89      0.77      0.83        44\n",
      "           0       0.78      0.90      0.83        39\n",
      "\n",
      "    accuracy                           0.83        83\n",
      "   macro avg       0.84      0.84      0.83        83\n",
      "weighted avg       0.84      0.83      0.83        83\n",
      "\n",
      "Total keywords:  362\n",
      "Total Tweets:  3513\n",
      "List of Keywords:\n",
      "\n",
      " ['cheese', 'chicken', 'milk', 'butter', 'cream', 'fruit', 'rice', 'water', 'garlic', 'bread', 'sugar', 'salt', 'chocolate', 'fish', 'beef', 'yogurt', 'almond milk', 'greens', 'granola', 'nuts', 'chia seeds', 'onions', 'apples', 'peanut butter', 'squash', 'soda', 'flour', 'garlic powder', 'buttermilk', 'potatoes', 'cottage cheese', 'sour cream', 'turkey', 'beans', 'cream cheese', 'bagel', 'pretzels', 'celery', 'white wine', 'margarine', 'whipped cream', 'ice cream', 'pineapple', 'whipped topping', 'plantains', 'veal', 'mustard', 'corned beef', 'rye', 'fried chicken', 'gravy', 'tuna', 'vegetables', 'eggs', 'rotisserie chicken', 'hot dogs', 'crackers', 'dips', 'meats', 'frozen entrees', 'bacon', 'pasta', 'pizza', 'potato chips', 'avocados', 'pork', 'sunflower seeds', 'lentils', 'lean fish', 'cauliflower', 'asparagus', 'almonds', 'cooked fish', 'honey', 'kimchi', 'herbs', 'dates', 'scallops', 'yuzu', 'corn syrup', 'baking soda', 'molasses', 'yeast', 'cornmeal', 'vinegar', 'parsley', 'worcestershire sauce', 'mushrooms', 'broth', 'peppers', 'oats', 'guava', 'coconut', 'cheesecake', 'cinnamon', 'muffin', 'pies', 'tomato sauce', 'pickles', 'goat', 'lamb', 'seafood', 'olives', 'baking powder', 'sesame seeds', 'raspberries', 'cornstarch', 'hot sauce', 'grits', 'chives', 'coconut milk', 'tamarind', 'tomatoes', 'cumin', 'chili powder', 'onion powder', 'black pepper', 'pie crust', 'cooked rice', 'nutmeg', 'peas', 'refried beans', 'bananas', 'okra', 'cabbage', 'syrup', 'juice concentrates', 'basil', 'fruits', 'horseradish', 'lettuce', 'pesto', 'soy milk', 'hoisin sauce', 'sesame oil', 'peanuts', 'ham', 'bacon bits', 'chutney', 'sun dried tomatoes', 'sausage', 'coffee', 'pasta salad', 'cereal', 'grapes', 'cashews', 'tea', 'pudding', 'coconut cream', 'coconut water', 'apple juice', 'fruit cocktail', 'walnuts', 'dough', 'roasted red peppers', 'whole wheat bread', 'thyme', 'mayonnaise', 'oregano', 'leftovers', 'strawberries', 'berries', 'coleslaw', 'cilantro', 'guacamole', 'tomato paste', 'canola oil', 'mung bean', 'lemon juice', 'ghee', 'avocado oil', 'almond oil', 'grapeseed oil', 'spelt', 'lime juice', 'pure vanilla extract', 'butter flavor', 'string cheese', 'salsa', 'puff pastry', 'biscuits', 'orange juice', 'vegetable soup', 'caviar', 'pine nuts', 'coconut oil', 'quail', 'kefir', 'cookie dough', 'base', 'meat products', 'chicken parts', 'cornish hens', 'canned chicken', 'fatty fish', 'miso', 'barley', 'whole wheat flour', 'cream pies', 'quiche', 'sugar substitutes', 'cookies', 'potato salad', 'brussels sprouts', 'cherry tomatoes', 'taro', 'aioli', 'salami', 'prosciutto', 'chocolate syrup', 'pectin', 'tortillas', 'rice milk', 'coconuts', 'turkey bacon', 'black bean sauce', 'tofu', 'oyster sauce', 'rosemary', 'powdered milk', 'popcorn', 'almond butter', 'cashew butter', 'hummus', 'jerky', 'kohlrabi', 'cantaloupe', 'farro', 'lemongrass', 'canadian bacon', 'pecans', 'mint', 'hot peppers', 'swiss chard', 'cranberry sauce', 'pate', 'buckwheat', 'cheese curds', 'bratwurst', 'bulgur', 'eggplant', 'coconut flour', 'kale', 'zucchini', 'cherries', 'polenta', 'balsamic vinegar', 'anchovies', 'arugula', 'oils', 'pumpkin seeds', 'flaxseed', 'herring', 'coffee creamer', 'apple cider vinegar', 'ricotta', 'pistachios', 'beets', 'sausages', 'venison', 'leeks', 'rabbit', 'pastrami', 'chicken salad', 'dinners', 'goose', 'applesauce', 'capon', 'blueberries', 'quinoa', 'cucumbers', 'red wine', 'canned goods', 'croutons', 'soy flour', 'cooked pasta', 'edamame', 'casseroles', 'fruit pies', 'tamarind paste', 'nectar', 'duck fat', 'apricots', 'pomegranate', 'cranberries', 'cherimoya', 'kiwi fruit', 'honeydew', 'tapenade', 'bamboo shoots', 'millet', 'beans and peas', 'radishes', 'rhubarb', 'bok choy', 'jicama', 'turnips', 'melons', 'pork rinds', 'squid', 'tempeh', 'marinades', 'capers', 'barbecue sauce', 'chorizo', 'apple cider', 'tahini', 'egg salad', 'cinnamon rolls', 'ham salad', 'nacho cheese', 'pork roll', 'macadamias', 'bacon grease', 'baby carrots', 'celery root', 'spaghetti sauce', 'sunflower oil', 'almond extract', 'lemon extract', 'carrot juice', 'bean sprouts', 'macaroons', 'spaghetti squash', 'vegetable juice', 'marinated vegetables', 'teff', 'garam masala', 'fresh pasta', 'ginger root', 'breadcrumbs', 'pimento cheese', 'cooking wine', 'yuzu juice', 'radicchio', 'egg dishes', 'lobster tails', 'fruit cake', 'citrus fruit', 'watermelon', 'rutabagas', 'marshmallows', 'seafood salads', 'amaranth', 'kumquats', 'relish', 'prickly pear', 'cinnamon extract', 'crab legs', 'gelatin', 'duckling', 'nut oils', 'pumpkins', 'salad dressings', 'formula', 'soup mixes', 'bison', 'coconut flavor', 'star fruit', 'sorghum', 'doughnuts', 'pheasant'] \n",
      "\n",
      "\n",
      "~~~~~~~~~~~~~~~~~9~~~~~~~~~~~~~~~~~\n",
      "Model loaded...\n"
     ]
    },
    {
     "name": "stderr",
     "output_type": "stream",
     "text": [
      " 15%|█▍        | 914/6286 [00:00<00:01, 3121.46it/s]"
     ]
    },
    {
     "name": "stdout",
     "output_type": "stream",
     "text": [
      "Skipping entity\n",
      "Skipping entity\n",
      "Skipping entity\n",
      "Skipping entity\n",
      "Skipping entity\n",
      "Skipping entity\n",
      "Skipping entity\n",
      "Skipping entity\n",
      "Skipping entity\n",
      "Skipping entity\n",
      "Skipping entity\n",
      "Skipping entity\n",
      "Skipping entity\n",
      "Skipping entity\n",
      "Skipping entity\n",
      "Skipping entity\n",
      "Skipping entity\n",
      "Skipping entity\n",
      "Skipping entity\n",
      "Skipping entity\n",
      "Skipping entity\n",
      "Skipping entity\n",
      "Skipping entity\n"
     ]
    },
    {
     "name": "stderr",
     "output_type": "stream",
     "text": [
      " 27%|██▋       | 1685/6286 [00:00<00:01, 3563.37it/s]"
     ]
    },
    {
     "name": "stdout",
     "output_type": "stream",
     "text": [
      "Skipping entity\n",
      "Skipping entity\n",
      "Skipping entity\n",
      "Skipping entity\n",
      "Skipping entity\n",
      "Skipping entity\n",
      "Skipping entity\n",
      "Skipping entity\n",
      "Skipping entity\n",
      "Skipping entity\n",
      "Skipping entity\n",
      "Skipping entity\n",
      "Skipping entity\n",
      "Skipping entity\n",
      "Skipping entity\n",
      "Skipping entity\n",
      "Skipping entity\n",
      "Skipping entity\n",
      "Skipping entity\n",
      "Skipping entity\n",
      "Skipping entity\n",
      "Skipping entity\n",
      "Skipping entity\n",
      "Skipping entity\n",
      "Skipping entity\n",
      "Skipping entity\n",
      "Skipping entity\n",
      "Skipping entity\n"
     ]
    },
    {
     "name": "stderr",
     "output_type": "stream",
     "text": [
      " 55%|█████▌    | 3471/6286 [00:00<00:00, 4297.02it/s]"
     ]
    },
    {
     "name": "stdout",
     "output_type": "stream",
     "text": [
      "Skipping entity\n",
      "Skipping entity\n",
      "Skipping entity\n",
      "Skipping entity\n",
      "Skipping entity\n",
      "Skipping entity\n",
      "Skipping entity\n",
      "Skipping entity\n",
      "Skipping entity\n",
      "Skipping entity\n",
      "Skipping entity\n",
      "Skipping entity\n",
      "Skipping entity\n",
      "Skipping entity\n",
      "Skipping entity\n",
      "Skipping entity\n",
      "Skipping entity\n",
      "Skipping entity\n",
      "Skipping entity\n",
      "Skipping entity\n",
      "Skipping entity\n",
      "Skipping entity\n",
      "Skipping entity\n",
      "Skipping entity\n",
      "Skipping entity\n",
      "Skipping entity\n",
      "Skipping entity\n",
      "Skipping entity\n",
      "Skipping entity\n",
      "Skipping entity\n",
      "Skipping entity\n",
      "Skipping entity\n",
      "Skipping entity\n",
      "Skipping entity\n",
      "Skipping entity\n",
      "Skipping entity\n",
      "Skipping entity\n",
      "Skipping entity\n",
      "Skipping entity\n",
      "Skipping entity\n"
     ]
    },
    {
     "name": "stderr",
     "output_type": "stream",
     "text": [
      " 78%|███████▊  | 4890/6286 [00:01<00:00, 4533.54it/s]"
     ]
    },
    {
     "name": "stdout",
     "output_type": "stream",
     "text": [
      "Skipping entity\n",
      "Skipping entity\n",
      "Skipping entity\n",
      "Skipping entity\n",
      "Skipping entity\n",
      "Skipping entity\n",
      "Skipping entity\n",
      "Skipping entity\n",
      "Skipping entity\n",
      "Skipping entity\n",
      "Skipping entity\n",
      "Skipping entity\n",
      "Skipping entity\n",
      "Skipping entity\n",
      "Skipping entity\n",
      "Skipping entity\n",
      "Skipping entity\n",
      "Skipping entity\n",
      "Skipping entity\n",
      "Skipping entity\n",
      "Skipping entity\n",
      "Skipping entity\n",
      "Skipping entity\n",
      "Skipping entity\n",
      "Skipping entity\n",
      "Skipping entity\n",
      "Skipping entity\n",
      "Skipping entity\n",
      "Skipping entity\n"
     ]
    },
    {
     "name": "stderr",
     "output_type": "stream",
     "text": [
      "100%|██████████| 6286/6286 [00:01<00:00, 4171.14it/s]"
     ]
    },
    {
     "name": "stdout",
     "output_type": "stream",
     "text": [
      "Skipping entity\n",
      "Skipping entity\n",
      "Skipping entity\n",
      "Skipping entity\n",
      "Skipping entity\n",
      "Skipping entity\n",
      "Skipping entity\n",
      "Skipping entity\n",
      "Skipping entity\n",
      "Skipping entity\n",
      "Skipping entity\n",
      "Skipping entity\n",
      "Skipping entity\n",
      "Skipping entity\n",
      "Skipping entity\n",
      "Skipping entity\n",
      "Skipping entity\n",
      "Skipping entity\n",
      "Skipping entity\n",
      "Skipping entity\n",
      "Skipping entity\n",
      "Skipping entity\n",
      "Skipping entity\n",
      "Skipping entity\n",
      "Skipping entity\n",
      "Skipping entity\n",
      "Skipping entity\n",
      "Skipping entity\n",
      "Skipping entity\n",
      "Skipping entity\n",
      "Skipping entity\n",
      "Skipping entity\n",
      "Skipping entity\n",
      "Skipping entity\n"
     ]
    },
    {
     "name": "stderr",
     "output_type": "stream",
     "text": [
      "\n"
     ]
    },
    {
     "name": "stdout",
     "output_type": "stream",
     "text": [
      "[i] Saving to output directory: output\n",
      "[i] Using CPU\n",
      "\u001b[1m\n",
      "=========================== Initializing pipeline ===========================\u001b[0m\n",
      "[+] Initialized pipeline\n",
      "\u001b[1m\n",
      "============================= Training pipeline =============================\u001b[0m\n",
      "[i] Pipeline: ['tok2vec', 'ner']\n",
      "[i] Initial learn rate: 0.001\n",
      "E    #       LOSS TOK2VEC  LOSS NER  ENTS_F  ENTS_P  ENTS_R  SCORE \n",
      "---  ------  ------------  --------  ------  ------  ------  ------\n",
      "  0       0          0.00     17.67    0.77    0.75    0.79    0.01\n",
      "  0     200         90.11   2571.37   75.26   78.14   72.58    0.75\n",
      "  0     400         79.92   1449.29   85.90   80.55   92.00    0.86\n",
      "  0     600         74.54   1337.83   88.23   83.58   93.43    0.88\n",
      "  0     800         90.84   1561.81   89.13   83.79   95.20    0.89\n",
      "  0    1000         97.38   1832.50   91.00   87.39   94.91    0.91\n",
      "  0    1200        103.82   1962.63   91.71   86.56   97.51    0.92\n",
      "  1    1400        132.77   2009.11   92.19   89.79   94.73    0.92\n",
      "  1    1600        157.51   2434.89   93.04   89.20   97.23    0.93\n",
      "  2    1800        213.81   2868.53   94.47   91.96   97.12    0.94\n",
      "  2    2000        287.68   2799.16   95.41   92.95   98.01    0.95\n",
      "  3    2200        389.47   2940.39   96.13   95.41   96.87    0.96\n",
      "  4    2400        510.85   3237.70   97.14   96.10   98.20    0.97\n",
      "  5    2600        552.49   2731.06   97.64   96.96   98.33    0.98\n",
      "  5    2800        616.05   2395.67   98.07   98.24   97.90    0.98\n",
      "  6    3000        625.57   2125.60   98.54   97.89   99.19    0.99\n",
      "  7    3200        675.16   1857.23   98.45   97.52   99.40    0.98\n",
      "  8    3400        734.71   1679.30   98.88   98.20   99.57    0.99\n",
      "  9    3600        789.75   1540.41   98.90   98.21   99.59    0.99\n",
      " 10    3800        667.38   1445.54   99.00   98.61   99.38    0.99\n",
      " 11    4000        690.46   1332.74   99.31   99.33   99.30    0.99\n",
      " 12    4200        913.46   1209.90   99.47   99.40   99.54    0.99\n",
      " 12    4400        767.84   1112.84   99.52   99.31   99.73    1.00\n",
      " 13    4600        764.43   1034.95   99.55   99.43   99.66    1.00\n",
      " 14    4800        775.15    980.77   99.65   99.56   99.74    1.00\n",
      " 15    5000        649.71    908.09   99.62   99.47   99.77    1.00\n",
      " 16    5200        705.92    858.30   99.56   99.34   99.78    1.00\n",
      " 17    5400        805.37    882.27   99.66   99.47   99.85    1.00\n",
      " 18    5600        674.66    822.63   99.69   99.60   99.79    1.00\n",
      " 19    5800        737.33    751.32   99.64   99.53   99.75    1.00\n",
      " 19    6000        805.65    766.17   99.74   99.72   99.76    1.00\n",
      " 20    6200        679.79    701.72   99.75   99.64   99.86    1.00\n",
      " 21    6400        725.86    639.63   99.79   99.79   99.80    1.00\n",
      " 22    6600        766.72    679.29   99.65   99.64   99.65    1.00\n",
      " 23    6800        753.60    594.47   99.73   99.81   99.65    1.00\n",
      " 24    7000        822.48    618.76   99.76   99.83   99.70    1.00\n",
      " 25    7200        699.40    587.46   99.74   99.59   99.90    1.00\n",
      " 26    7400        850.17    556.29   99.82   99.81   99.84    1.00\n",
      " 26    7600        822.73    542.23   99.82   99.75   99.89    1.00\n",
      " 27    7800        771.08    520.26   99.82   99.76   99.89    1.00\n",
      " 28    8000        733.98    512.18   99.83   99.84   99.81    1.00\n",
      " 29    8200        748.53    489.65   99.81   99.81   99.82    1.00\n",
      " 30    8400        846.85    566.35   99.83   99.77   99.89    1.00\n",
      " 31    8600        803.85    519.39   99.84   99.87   99.81    1.00\n",
      " 32    8800        810.42    511.71   99.85   99.81   99.90    1.00\n",
      " 33    9000        900.35    499.58   99.89   99.88   99.91    1.00\n",
      " 33    9200        759.22    431.53   99.86   99.85   99.87    1.00\n",
      " 34    9400        910.89    442.10   99.87   99.85   99.89    1.00\n",
      " 35    9600        794.39    443.27   99.88   99.83   99.94    1.00\n",
      " 36    9800        994.57    435.62   99.90   99.89   99.91    1.00\n",
      " 37   10000        866.84    418.72   99.82   99.71   99.93    1.00\n",
      " 38   10200        787.75    455.05   99.82   99.70   99.94    1.00\n",
      " 39   10400        945.43    376.18   99.89   99.89   99.89    1.00\n",
      " 40   10600        930.13    423.02   99.88   99.84   99.93    1.00\n",
      " 40   10800        800.32    350.61   99.87   99.94   99.81    1.00\n",
      " 41   11000        992.13    394.41   99.90   99.95   99.86    1.00\n",
      " 42   11200       1102.59    396.34   99.87   99.85   99.89    1.00\n",
      " 43   11400       1004.61    363.77   99.88   99.81   99.96    1.00\n",
      " 44   11600       1042.43    385.80   99.82   99.68   99.96    1.00\n",
      " 45   11800       1179.69    396.49   99.88   99.92   99.84    1.00\n",
      " 46   12000       1171.31    392.06   99.90   99.92   99.88    1.00\n",
      " 47   12200       1070.99    404.32   99.88   99.80   99.97    1.00\n",
      " 47   12400       1304.64    338.13   99.85   99.84   99.85    1.00\n",
      " 48   12600       1453.43    352.45   99.90   99.86   99.95    1.00\n",
      "[+] Saved pipeline to output directory\n",
      "output\\model-last\n",
      "\n",
      "Total keywords:  362\n",
      "List of Keywords:\n",
      "\n",
      " ['cheese', 'chicken', 'milk', 'butter', 'cream', 'fruit', 'rice', 'water', 'garlic', 'bread', 'sugar', 'salt', 'chocolate', 'fish', 'beef', 'yogurt', 'almond milk', 'greens', 'granola', 'nuts', 'chia seeds', 'onions', 'apples', 'peanut butter', 'squash', 'soda', 'flour', 'garlic powder', 'buttermilk', 'potatoes', 'cottage cheese', 'sour cream', 'turkey', 'beans', 'cream cheese', 'bagel', 'pretzels', 'celery', 'white wine', 'margarine', 'whipped cream', 'ice cream', 'pineapple', 'whipped topping', 'plantains', 'veal', 'mustard', 'corned beef', 'rye', 'fried chicken', 'gravy', 'tuna', 'vegetables', 'eggs', 'rotisserie chicken', 'hot dogs', 'crackers', 'dips', 'meats', 'frozen entrees', 'bacon', 'pasta', 'pizza', 'potato chips', 'avocados', 'pork', 'sunflower seeds', 'lentils', 'lean fish', 'cauliflower', 'asparagus', 'almonds', 'cooked fish', 'honey', 'kimchi', 'herbs', 'dates', 'scallops', 'yuzu', 'corn syrup', 'baking soda', 'molasses', 'yeast', 'cornmeal', 'vinegar', 'parsley', 'worcestershire sauce', 'mushrooms', 'broth', 'peppers', 'oats', 'guava', 'coconut', 'cheesecake', 'cinnamon', 'muffin', 'pies', 'tomato sauce', 'pickles', 'goat', 'lamb', 'seafood', 'olives', 'baking powder', 'sesame seeds', 'raspberries', 'cornstarch', 'hot sauce', 'grits', 'chives', 'coconut milk', 'tamarind', 'tomatoes', 'cumin', 'chili powder', 'onion powder', 'black pepper', 'pie crust', 'cooked rice', 'nutmeg', 'peas', 'refried beans', 'bananas', 'okra', 'cabbage', 'syrup', 'juice concentrates', 'basil', 'fruits', 'horseradish', 'lettuce', 'pesto', 'soy milk', 'hoisin sauce', 'sesame oil', 'peanuts', 'ham', 'bacon bits', 'chutney', 'sun dried tomatoes', 'sausage', 'coffee', 'pasta salad', 'cereal', 'grapes', 'cashews', 'tea', 'pudding', 'coconut cream', 'coconut water', 'apple juice', 'fruit cocktail', 'walnuts', 'dough', 'roasted red peppers', 'whole wheat bread', 'thyme', 'mayonnaise', 'oregano', 'leftovers', 'strawberries', 'berries', 'coleslaw', 'cilantro', 'guacamole', 'tomato paste', 'canola oil', 'mung bean', 'lemon juice', 'ghee', 'avocado oil', 'almond oil', 'grapeseed oil', 'spelt', 'lime juice', 'pure vanilla extract', 'butter flavor', 'string cheese', 'salsa', 'puff pastry', 'biscuits', 'orange juice', 'vegetable soup', 'caviar', 'pine nuts', 'coconut oil', 'quail', 'kefir', 'cookie dough', 'base', 'meat products', 'chicken parts', 'cornish hens', 'canned chicken', 'fatty fish', 'miso', 'barley', 'whole wheat flour', 'cream pies', 'quiche', 'sugar substitutes', 'cookies', 'potato salad', 'brussels sprouts', 'cherry tomatoes', 'taro', 'aioli', 'salami', 'prosciutto', 'chocolate syrup', 'pectin', 'tortillas', 'rice milk', 'coconuts', 'turkey bacon', 'black bean sauce', 'tofu', 'oyster sauce', 'rosemary', 'powdered milk', 'popcorn', 'almond butter', 'cashew butter', 'hummus', 'jerky', 'kohlrabi', 'cantaloupe', 'farro', 'lemongrass', 'canadian bacon', 'pecans', 'mint', 'hot peppers', 'swiss chard', 'cranberry sauce', 'pate', 'buckwheat', 'cheese curds', 'bratwurst', 'bulgur', 'eggplant', 'coconut flour', 'kale', 'zucchini', 'cherries', 'polenta', 'balsamic vinegar', 'anchovies', 'arugula', 'oils', 'pumpkin seeds', 'flaxseed', 'herring', 'coffee creamer', 'apple cider vinegar', 'ricotta', 'pistachios', 'beets', 'sausages', 'venison', 'leeks', 'rabbit', 'pastrami', 'chicken salad', 'dinners', 'goose', 'applesauce', 'capon', 'blueberries', 'quinoa', 'cucumbers', 'red wine', 'canned goods', 'croutons', 'soy flour', 'cooked pasta', 'edamame', 'casseroles', 'fruit pies', 'tamarind paste', 'nectar', 'duck fat', 'apricots', 'pomegranate', 'cranberries', 'cherimoya', 'kiwi fruit', 'honeydew', 'tapenade', 'bamboo shoots', 'millet', 'beans and peas', 'radishes', 'rhubarb', 'bok choy', 'jicama', 'turnips', 'melons', 'pork rinds', 'squid', 'tempeh', 'marinades', 'capers', 'barbecue sauce', 'chorizo', 'apple cider', 'tahini', 'egg salad', 'cinnamon rolls', 'ham salad', 'nacho cheese', 'pork roll', 'macadamias', 'bacon grease', 'baby carrots', 'celery root', 'spaghetti sauce', 'sunflower oil', 'almond extract', 'lemon extract', 'carrot juice', 'bean sprouts', 'macaroons', 'spaghetti squash', 'vegetable juice', 'marinated vegetables', 'teff', 'garam masala', 'fresh pasta', 'ginger root', 'breadcrumbs', 'pimento cheese', 'cooking wine', 'yuzu juice', 'radicchio', 'egg dishes', 'lobster tails', 'fruit cake', 'citrus fruit', 'watermelon', 'rutabagas', 'marshmallows', 'seafood salads', 'amaranth', 'kumquats', 'relish', 'prickly pear', 'cinnamon extract', 'crab legs', 'gelatin', 'duckling', 'nut oils', 'pumpkins', 'salad dressings', 'formula', 'soup mixes', 'bison', 'coconut flavor', 'star fruit', 'sorghum', 'doughnuts', 'pheasant'] \n",
      "\n",
      "\n"
     ]
    },
    {
     "name": "stdout",
     "output_type": "stream",
     "text": [
      "[[34 10]\n",
      " [ 6 33]]\n",
      "              precision    recall  f1-score   support\n",
      "\n",
      "           1       0.85      0.77      0.81        44\n",
      "           0       0.77      0.85      0.80        39\n",
      "\n",
      "    accuracy                           0.81        83\n",
      "   macro avg       0.81      0.81      0.81        83\n",
      "weighted avg       0.81      0.81      0.81        83\n",
      "\n",
      "Total keywords:  370\n",
      "Total Tweets:  6286\n",
      "List of Keywords:\n",
      "\n",
      " ['cheese', 'chicken', 'milk', 'butter', 'cream', 'fruit', 'rice', 'water', 'garlic', 'bread', 'sugar', 'salt', 'chocolate', 'fish', 'beef', 'yogurt', 'almond milk', 'greens', 'granola', 'nuts', 'chia seeds', 'onions', 'apples', 'peanut butter', 'squash', 'soda', 'flour', 'garlic powder', 'buttermilk', 'potatoes', 'cottage cheese', 'sour cream', 'turkey', 'beans', 'cream cheese', 'bagel', 'pretzels', 'celery', 'white wine', 'margarine', 'whipped cream', 'ice cream', 'pineapple', 'whipped topping', 'plantains', 'veal', 'mustard', 'corned beef', 'rye', 'fried chicken', 'gravy', 'tuna', 'vegetables', 'eggs', 'rotisserie chicken', 'hot dogs', 'crackers', 'dips', 'meats', 'frozen entrees', 'bacon', 'pasta', 'pizza', 'potato chips', 'avocados', 'pork', 'sunflower seeds', 'lentils', 'lean fish', 'cauliflower', 'asparagus', 'almonds', 'cooked fish', 'honey', 'kimchi', 'herbs', 'dates', 'scallops', 'yuzu', 'corn syrup', 'baking soda', 'molasses', 'yeast', 'cornmeal', 'vinegar', 'parsley', 'worcestershire sauce', 'mushrooms', 'broth', 'peppers', 'oats', 'guava', 'coconut', 'cheesecake', 'cinnamon', 'muffin', 'pies', 'tomato sauce', 'pickles', 'goat', 'lamb', 'seafood', 'olives', 'baking powder', 'sesame seeds', 'raspberries', 'cornstarch', 'hot sauce', 'grits', 'chives', 'coconut milk', 'tamarind', 'tomatoes', 'cumin', 'chili powder', 'onion powder', 'black pepper', 'pie crust', 'cooked rice', 'nutmeg', 'peas', 'refried beans', 'bananas', 'okra', 'cabbage', 'syrup', 'juice concentrates', 'basil', 'fruits', 'horseradish', 'lettuce', 'pesto', 'soy milk', 'hoisin sauce', 'sesame oil', 'peanuts', 'ham', 'bacon bits', 'chutney', 'sun dried tomatoes', 'sausage', 'coffee', 'pasta salad', 'cereal', 'grapes', 'cashews', 'tea', 'pudding', 'coconut cream', 'coconut water', 'apple juice', 'fruit cocktail', 'walnuts', 'dough', 'roasted red peppers', 'whole wheat bread', 'thyme', 'mayonnaise', 'oregano', 'leftovers', 'strawberries', 'berries', 'coleslaw', 'cilantro', 'guacamole', 'tomato paste', 'canola oil', 'mung bean', 'lemon juice', 'ghee', 'avocado oil', 'almond oil', 'grapeseed oil', 'spelt', 'lime juice', 'pure vanilla extract', 'butter flavor', 'string cheese', 'salsa', 'puff pastry', 'biscuits', 'orange juice', 'vegetable soup', 'caviar', 'pine nuts', 'coconut oil', 'quail', 'kefir', 'cookie dough', 'base', 'meat products', 'chicken parts', 'cornish hens', 'canned chicken', 'fatty fish', 'miso', 'barley', 'whole wheat flour', 'cream pies', 'quiche', 'sugar substitutes', 'cookies', 'potato salad', 'brussels sprouts', 'cherry tomatoes', 'taro', 'aioli', 'salami', 'prosciutto', 'chocolate syrup', 'pectin', 'tortillas', 'rice milk', 'coconuts', 'turkey bacon', 'black bean sauce', 'tofu', 'oyster sauce', 'rosemary', 'powdered milk', 'popcorn', 'almond butter', 'cashew butter', 'hummus', 'jerky', 'kohlrabi', 'cantaloupe', 'farro', 'lemongrass', 'canadian bacon', 'pecans', 'mint', 'hot peppers', 'swiss chard', 'cranberry sauce', 'pate', 'buckwheat', 'cheese curds', 'bratwurst', 'bulgur', 'eggplant', 'coconut flour', 'kale', 'zucchini', 'cherries', 'polenta', 'balsamic vinegar', 'anchovies', 'arugula', 'oils', 'pumpkin seeds', 'flaxseed', 'herring', 'coffee creamer', 'apple cider vinegar', 'ricotta', 'pistachios', 'beets', 'sausages', 'venison', 'leeks', 'rabbit', 'pastrami', 'chicken salad', 'dinners', 'goose', 'applesauce', 'capon', 'blueberries', 'quinoa', 'cucumbers', 'red wine', 'canned goods', 'croutons', 'soy flour', 'cooked pasta', 'edamame', 'casseroles', 'fruit pies', 'tamarind paste', 'nectar', 'duck fat', 'apricots', 'pomegranate', 'cranberries', 'cherimoya', 'kiwi fruit', 'honeydew', 'tapenade', 'bamboo shoots', 'millet', 'beans and peas', 'radishes', 'rhubarb', 'bok choy', 'jicama', 'turnips', 'melons', 'pork rinds', 'squid', 'tempeh', 'marinades', 'capers', 'barbecue sauce', 'chorizo', 'apple cider', 'tahini', 'egg salad', 'cinnamon rolls', 'ham salad', 'nacho cheese', 'pork roll', 'macadamias', 'bacon grease', 'baby carrots', 'celery root', 'spaghetti sauce', 'sunflower oil', 'almond extract', 'lemon extract', 'carrot juice', 'bean sprouts', 'macaroons', 'spaghetti squash', 'vegetable juice', 'marinated vegetables', 'teff', 'garam masala', 'fresh pasta', 'ginger root', 'breadcrumbs', 'pimento cheese', 'cooking wine', 'yuzu juice', 'radicchio', 'egg dishes', 'lobster tails', 'fruit cake', 'citrus fruit', 'watermelon', 'rutabagas', 'marshmallows', 'seafood salads', 'amaranth', 'kumquats', 'relish', 'prickly pear', 'cinnamon extract', 'crab legs', 'gelatin', 'duckling', 'nut oils', 'pumpkins', 'salad dressings', 'formula', 'soup mixes', 'bison', 'coconut flavor', 'star fruit', 'sorghum', 'doughnuts', 'pheasant', 'giblets', 'turducken', 'crab meat', 'shortening', 'ice pops', 'salad dressing', 'quark', 'hard liquors'] \n",
      "\n",
      "\n",
      "~~~~~~~~~~~~~~~~~10~~~~~~~~~~~~~~~~~\n",
      "Model loaded...\n"
     ]
    },
    {
     "name": "stderr",
     "output_type": "stream",
     "text": [
      " 10%|█         | 610/5956 [00:00<00:01, 3080.34it/s]"
     ]
    },
    {
     "name": "stdout",
     "output_type": "stream",
     "text": [
      "Skipping entity\n",
      "Skipping entity\n",
      "Skipping entity\n",
      "Skipping entity\n",
      "Skipping entity\n",
      "Skipping entity\n",
      "Skipping entity\n",
      "Skipping entity\n",
      "Skipping entity\n",
      "Skipping entity\n",
      "Skipping entity\n",
      "Skipping entity\n",
      "Skipping entity\n",
      "Skipping entity\n",
      "Skipping entity\n",
      "Skipping entity\n",
      "Skipping entity\n",
      "Skipping entity\n"
     ]
    },
    {
     "name": "stderr",
     "output_type": "stream",
     "text": [
      " 30%|███       | 1787/5956 [00:00<00:01, 3807.02it/s]"
     ]
    },
    {
     "name": "stdout",
     "output_type": "stream",
     "text": [
      "Skipping entity\n",
      "Skipping entity\n",
      "Skipping entity\n",
      "Skipping entity\n",
      "Skipping entity\n",
      "Skipping entity\n",
      "Skipping entity\n",
      "Skipping entity\n",
      "Skipping entity\n",
      "Skipping entity\n",
      "Skipping entity\n",
      "Skipping entity\n",
      "Skipping entity\n",
      "Skipping entity\n",
      "Skipping entity\n",
      "Skipping entity\n",
      "Skipping entity\n",
      "Skipping entity\n",
      "Skipping entity\n",
      "Skipping entity\n"
     ]
    },
    {
     "name": "stderr",
     "output_type": "stream",
     "text": [
      " 53%|█████▎    | 3151/5956 [00:00<00:00, 4349.64it/s]"
     ]
    },
    {
     "name": "stdout",
     "output_type": "stream",
     "text": [
      "Skipping entity\n",
      "Skipping entity\n",
      "Skipping entity\n",
      "Skipping entity\n",
      "Skipping entity\n",
      "Skipping entity\n",
      "Skipping entity\n",
      "Skipping entity\n",
      "Skipping entity\n",
      "Skipping entity\n",
      "Skipping entity\n",
      "Skipping entity\n",
      "Skipping entity\n",
      "Skipping entity\n",
      "Skipping entity\n",
      "Skipping entity\n",
      "Skipping entity\n",
      "Skipping entity\n",
      "Skipping entity\n",
      "Skipping entity\n",
      "Skipping entity\n"
     ]
    },
    {
     "name": "stderr",
     "output_type": "stream",
     "text": [
      " 69%|██████▉   | 4108/5956 [00:01<00:00, 4571.94it/s]"
     ]
    },
    {
     "name": "stdout",
     "output_type": "stream",
     "text": [
      "Skipping entity\n",
      "Skipping entity\n",
      "Skipping entity\n",
      "Skipping entity\n",
      "Skipping entity\n",
      "Skipping entity\n",
      "Skipping entity\n",
      "Skipping entity\n",
      "Skipping entity\n",
      "Skipping entity\n",
      "Skipping entity\n",
      "Skipping entity\n",
      "Skipping entity\n",
      "Skipping entity\n",
      "Skipping entity\n",
      "Skipping entity\n",
      "Skipping entity\n",
      "Skipping entity\n",
      "Skipping entity\n",
      "Skipping entity\n",
      "Skipping entity\n",
      "Skipping entity\n",
      "Skipping entity\n",
      "Skipping entity\n",
      "Skipping entity\n",
      "Skipping entity\n"
     ]
    },
    {
     "name": "stderr",
     "output_type": "stream",
     "text": [
      "100%|██████████| 5956/5956 [00:01<00:00, 4222.68it/s]"
     ]
    },
    {
     "name": "stdout",
     "output_type": "stream",
     "text": [
      "Skipping entity\n",
      "Skipping entity\n",
      "Skipping entity\n",
      "Skipping entity\n",
      "Skipping entity\n",
      "Skipping entity\n",
      "Skipping entity\n",
      "Skipping entity\n",
      "Skipping entity\n",
      "Skipping entity\n",
      "Skipping entity\n",
      "Skipping entity\n",
      "Skipping entity\n",
      "Skipping entity\n",
      "Skipping entity\n",
      "Skipping entity\n",
      "Skipping entity\n",
      "Skipping entity\n",
      "Skipping entity\n",
      "Skipping entity\n",
      "Skipping entity\n",
      "Skipping entity\n",
      "Skipping entity\n",
      "Skipping entity\n",
      "Skipping entity\n",
      "Skipping entity\n",
      "Skipping entity\n",
      "Skipping entity\n",
      "Skipping entity\n"
     ]
    },
    {
     "name": "stderr",
     "output_type": "stream",
     "text": [
      "\n"
     ]
    },
    {
     "name": "stdout",
     "output_type": "stream",
     "text": [
      "[i] Saving to output directory: output\n",
      "[i] Using CPU\n",
      "\u001b[1m\n",
      "=========================== Initializing pipeline ===========================\u001b[0m\n",
      "[+] Initialized pipeline\n",
      "\u001b[1m\n",
      "============================= Training pipeline =============================\u001b[0m\n",
      "[i] Pipeline: ['tok2vec', 'ner']\n",
      "[i] Initial learn rate: 0.001\n",
      "E    #       LOSS TOK2VEC  LOSS NER  ENTS_F  ENTS_P  ENTS_R  SCORE \n",
      "---  ------  ------------  --------  ------  ------  ------  ------\n",
      "  0       0          0.00     37.17    0.15    1.00    0.08    0.00\n",
      "  0     200         86.57   2654.16   81.23   80.01   82.48    0.81\n",
      "  0     400         73.82   1344.28   87.75   84.59   91.16    0.88\n",
      "  0     600         65.42   1321.66   88.79   83.69   94.56    0.89\n",
      "  0     800         90.29   1431.64   91.16   87.22   95.48    0.91\n",
      "  0    1000        124.08   1700.62   91.34   86.96   96.19    0.91\n",
      "  0    1200        407.63   1910.31   92.56   88.30   97.24    0.93\n",
      "  1    1400        308.91   1987.98   93.60   90.00   97.50    0.94\n",
      "  1    1600        140.61   2335.63   94.64   91.57   97.92    0.95\n",
      "  2    1800        162.99   2293.72   95.49   93.73   97.31    0.95\n",
      "  2    2000        251.76   2625.58   96.42   94.52   98.39    0.96\n",
      "  3    2200        326.88   2613.59   97.05   95.75   98.37    0.97\n",
      "  4    2400        808.77   2660.94   97.70   96.24   99.19    0.98\n",
      "  5    2600        472.34   2358.94   98.20   98.00   98.41    0.98\n",
      "  6    2800        660.77   2009.56   98.56   97.71   99.43    0.99\n",
      "  7    3000        705.35   1778.38   98.66   97.70   99.64    0.99\n",
      "  8    3200        507.97   1576.52   99.13   98.84   99.43    0.99\n",
      "  9    3400        574.02   1402.15   99.13   98.93   99.33    0.99\n",
      " 10    3600        559.54   1245.04   99.08   98.44   99.72    0.99\n",
      " 10    3800        604.95   1136.98   99.29   98.84   99.75    0.99\n",
      " 11    4000        533.72   1025.60   99.32   99.00   99.65    0.99\n",
      " 12    4200        572.70    986.15   99.58   99.37   99.78    1.00\n",
      " 13    4400        619.04    910.25   99.45   99.04   99.86    0.99\n",
      " 14    4600        740.89    911.01   99.55   99.38   99.72    1.00\n",
      " 15    4800        601.17    846.15   99.63   99.43   99.82    1.00\n",
      " 16    5000        559.48    763.19   99.73   99.64   99.82    1.00\n",
      " 17    5200        615.45    729.90   99.68   99.49   99.87    1.00\n",
      " 18    5400        562.62    677.44   99.68   99.56   99.80    1.00\n",
      " 19    5600        686.73    666.19   99.71   99.57   99.86    1.00\n",
      " 20    5800        626.51    658.22   99.79   99.76   99.82    1.00\n",
      " 21    6000        677.76    647.02   99.84   99.78   99.91    1.00\n",
      " 22    6200        605.16    596.37   99.78   99.74   99.82    1.00\n",
      " 22    6400        581.74    569.75   99.82   99.83   99.82    1.00\n",
      " 23    6600        833.54    576.08   99.83   99.87   99.79    1.00\n",
      " 24    6800        572.85    511.45   99.84   99.78   99.90    1.00\n",
      " 25    7000        672.33    482.52   99.86   99.86   99.85    1.00\n",
      " 26    7200        731.67    510.43   99.82   99.73   99.91    1.00\n",
      " 27    7400        708.78    472.48   99.79   99.67   99.90    1.00\n",
      " 28    7600        735.13    531.13   99.84   99.73   99.96    1.00\n",
      " 29    7800        618.72    431.23   99.88   99.84   99.91    1.00\n",
      " 30    8000        751.02    476.08   99.86   99.80   99.93    1.00\n",
      " 31    8200       1117.54    464.31   99.82   99.77   99.86    1.00\n",
      " 32    8400        688.68    442.32   99.89   99.89   99.89    1.00\n",
      " 33    8600        872.43    432.91   99.88   99.82   99.93    1.00\n",
      " 33    8800        896.99    428.49   99.90   99.87   99.94    1.00\n",
      " 34    9000        850.32    428.58   99.92   99.92   99.91    1.00\n",
      " 35    9200        764.10    362.55   99.89   99.81   99.96    1.00\n",
      " 36    9400        984.30    398.13   99.88   99.80   99.95    1.00\n",
      " 37    9600        680.63    359.80   99.90   99.88   99.91    1.00\n",
      " 38    9800        841.11    378.91   99.90   99.89   99.92    1.00\n",
      " 39   10000        984.72    355.54   99.89   99.87   99.90    1.00\n",
      " 40   10200        937.51    349.38   99.86   99.75   99.97    1.00\n",
      " 41   10400       1025.97    370.47   99.90   99.85   99.95    1.00\n",
      " 42   10600       1105.26    416.66   99.89   99.81   99.98    1.00\n",
      "[+] Saved pipeline to output directory\n",
      "output\\model-last\n",
      "\n",
      "Total keywords:  370\n",
      "List of Keywords:\n",
      "\n",
      " ['cheese', 'chicken', 'milk', 'butter', 'cream', 'fruit', 'rice', 'water', 'garlic', 'bread', 'sugar', 'salt', 'chocolate', 'fish', 'beef', 'yogurt', 'almond milk', 'greens', 'granola', 'nuts', 'chia seeds', 'onions', 'apples', 'peanut butter', 'squash', 'soda', 'flour', 'garlic powder', 'buttermilk', 'potatoes', 'cottage cheese', 'sour cream', 'turkey', 'beans', 'cream cheese', 'bagel', 'pretzels', 'celery', 'white wine', 'margarine', 'whipped cream', 'ice cream', 'pineapple', 'whipped topping', 'plantains', 'veal', 'mustard', 'corned beef', 'rye', 'fried chicken', 'gravy', 'tuna', 'vegetables', 'eggs', 'rotisserie chicken', 'hot dogs', 'crackers', 'dips', 'meats', 'frozen entrees', 'bacon', 'pasta', 'pizza', 'potato chips', 'avocados', 'pork', 'sunflower seeds', 'lentils', 'lean fish', 'cauliflower', 'asparagus', 'almonds', 'cooked fish', 'honey', 'kimchi', 'herbs', 'dates', 'scallops', 'yuzu', 'corn syrup', 'baking soda', 'molasses', 'yeast', 'cornmeal', 'vinegar', 'parsley', 'worcestershire sauce', 'mushrooms', 'broth', 'peppers', 'oats', 'guava', 'coconut', 'cheesecake', 'cinnamon', 'muffin', 'pies', 'tomato sauce', 'pickles', 'goat', 'lamb', 'seafood', 'olives', 'baking powder', 'sesame seeds', 'raspberries', 'cornstarch', 'hot sauce', 'grits', 'chives', 'coconut milk', 'tamarind', 'tomatoes', 'cumin', 'chili powder', 'onion powder', 'black pepper', 'pie crust', 'cooked rice', 'nutmeg', 'peas', 'refried beans', 'bananas', 'okra', 'cabbage', 'syrup', 'juice concentrates', 'basil', 'fruits', 'horseradish', 'lettuce', 'pesto', 'soy milk', 'hoisin sauce', 'sesame oil', 'peanuts', 'ham', 'bacon bits', 'chutney', 'sun dried tomatoes', 'sausage', 'coffee', 'pasta salad', 'cereal', 'grapes', 'cashews', 'tea', 'pudding', 'coconut cream', 'coconut water', 'apple juice', 'fruit cocktail', 'walnuts', 'dough', 'roasted red peppers', 'whole wheat bread', 'thyme', 'mayonnaise', 'oregano', 'leftovers', 'strawberries', 'berries', 'coleslaw', 'cilantro', 'guacamole', 'tomato paste', 'canola oil', 'mung bean', 'lemon juice', 'ghee', 'avocado oil', 'almond oil', 'grapeseed oil', 'spelt', 'lime juice', 'pure vanilla extract', 'butter flavor', 'string cheese', 'salsa', 'puff pastry', 'biscuits', 'orange juice', 'vegetable soup', 'caviar', 'pine nuts', 'coconut oil', 'quail', 'kefir', 'cookie dough', 'base', 'meat products', 'chicken parts', 'cornish hens', 'canned chicken', 'fatty fish', 'miso', 'barley', 'whole wheat flour', 'cream pies', 'quiche', 'sugar substitutes', 'cookies', 'potato salad', 'brussels sprouts', 'cherry tomatoes', 'taro', 'aioli', 'salami', 'prosciutto', 'chocolate syrup', 'pectin', 'tortillas', 'rice milk', 'coconuts', 'turkey bacon', 'black bean sauce', 'tofu', 'oyster sauce', 'rosemary', 'powdered milk', 'popcorn', 'almond butter', 'cashew butter', 'hummus', 'jerky', 'kohlrabi', 'cantaloupe', 'farro', 'lemongrass', 'canadian bacon', 'pecans', 'mint', 'hot peppers', 'swiss chard', 'cranberry sauce', 'pate', 'buckwheat', 'cheese curds', 'bratwurst', 'bulgur', 'eggplant', 'coconut flour', 'kale', 'zucchini', 'cherries', 'polenta', 'balsamic vinegar', 'anchovies', 'arugula', 'oils', 'pumpkin seeds', 'flaxseed', 'herring', 'coffee creamer', 'apple cider vinegar', 'ricotta', 'pistachios', 'beets', 'sausages', 'venison', 'leeks', 'rabbit', 'pastrami', 'chicken salad', 'dinners', 'goose', 'applesauce', 'capon', 'blueberries', 'quinoa', 'cucumbers', 'red wine', 'canned goods', 'croutons', 'soy flour', 'cooked pasta', 'edamame', 'casseroles', 'fruit pies', 'tamarind paste', 'nectar', 'duck fat', 'apricots', 'pomegranate', 'cranberries', 'cherimoya', 'kiwi fruit', 'honeydew', 'tapenade', 'bamboo shoots', 'millet', 'beans and peas', 'radishes', 'rhubarb', 'bok choy', 'jicama', 'turnips', 'melons', 'pork rinds', 'squid', 'tempeh', 'marinades', 'capers', 'barbecue sauce', 'chorizo', 'apple cider', 'tahini', 'egg salad', 'cinnamon rolls', 'ham salad', 'nacho cheese', 'pork roll', 'macadamias', 'bacon grease', 'baby carrots', 'celery root', 'spaghetti sauce', 'sunflower oil', 'almond extract', 'lemon extract', 'carrot juice', 'bean sprouts', 'macaroons', 'spaghetti squash', 'vegetable juice', 'marinated vegetables', 'teff', 'garam masala', 'fresh pasta', 'ginger root', 'breadcrumbs', 'pimento cheese', 'cooking wine', 'yuzu juice', 'radicchio', 'egg dishes', 'lobster tails', 'fruit cake', 'citrus fruit', 'watermelon', 'rutabagas', 'marshmallows', 'seafood salads', 'amaranth', 'kumquats', 'relish', 'prickly pear', 'cinnamon extract', 'crab legs', 'gelatin', 'duckling', 'nut oils', 'pumpkins', 'salad dressings', 'formula', 'soup mixes', 'bison', 'coconut flavor', 'star fruit', 'sorghum', 'doughnuts', 'pheasant', 'giblets', 'turducken', 'crab meat', 'shortening', 'ice pops', 'salad dressing', 'quark', 'hard liquors'] \n",
      "\n",
      "\n"
     ]
    },
    {
     "name": "stdout",
     "output_type": "stream",
     "text": [
      "[[37  7]\n",
      " [ 5 34]]\n",
      "              precision    recall  f1-score   support\n",
      "\n",
      "           1       0.88      0.84      0.86        44\n",
      "           0       0.83      0.87      0.85        39\n",
      "\n",
      "    accuracy                           0.86        83\n",
      "   macro avg       0.86      0.86      0.86        83\n",
      "weighted avg       0.86      0.86      0.86        83\n",
      "\n",
      "Total keywords:  373\n",
      "Total Tweets:  5956\n",
      "List of Keywords:\n",
      "\n",
      " ['cheese', 'chicken', 'milk', 'butter', 'cream', 'fruit', 'rice', 'water', 'garlic', 'bread', 'sugar', 'salt', 'chocolate', 'fish', 'beef', 'yogurt', 'almond milk', 'greens', 'granola', 'nuts', 'chia seeds', 'onions', 'apples', 'peanut butter', 'squash', 'soda', 'flour', 'garlic powder', 'buttermilk', 'potatoes', 'cottage cheese', 'sour cream', 'turkey', 'beans', 'cream cheese', 'bagel', 'pretzels', 'celery', 'white wine', 'margarine', 'whipped cream', 'ice cream', 'pineapple', 'whipped topping', 'plantains', 'veal', 'mustard', 'corned beef', 'rye', 'fried chicken', 'gravy', 'tuna', 'vegetables', 'eggs', 'rotisserie chicken', 'hot dogs', 'crackers', 'dips', 'meats', 'frozen entrees', 'bacon', 'pasta', 'pizza', 'potato chips', 'avocados', 'pork', 'sunflower seeds', 'lentils', 'lean fish', 'cauliflower', 'asparagus', 'almonds', 'cooked fish', 'honey', 'kimchi', 'herbs', 'dates', 'scallops', 'yuzu', 'corn syrup', 'baking soda', 'molasses', 'yeast', 'cornmeal', 'vinegar', 'parsley', 'worcestershire sauce', 'mushrooms', 'broth', 'peppers', 'oats', 'guava', 'coconut', 'cheesecake', 'cinnamon', 'muffin', 'pies', 'tomato sauce', 'pickles', 'goat', 'lamb', 'seafood', 'olives', 'baking powder', 'sesame seeds', 'raspberries', 'cornstarch', 'hot sauce', 'grits', 'chives', 'coconut milk', 'tamarind', 'tomatoes', 'cumin', 'chili powder', 'onion powder', 'black pepper', 'pie crust', 'cooked rice', 'nutmeg', 'peas', 'refried beans', 'bananas', 'okra', 'cabbage', 'syrup', 'juice concentrates', 'basil', 'fruits', 'horseradish', 'lettuce', 'pesto', 'soy milk', 'hoisin sauce', 'sesame oil', 'peanuts', 'ham', 'bacon bits', 'chutney', 'sun dried tomatoes', 'sausage', 'coffee', 'pasta salad', 'cereal', 'grapes', 'cashews', 'tea', 'pudding', 'coconut cream', 'coconut water', 'apple juice', 'fruit cocktail', 'walnuts', 'dough', 'roasted red peppers', 'whole wheat bread', 'thyme', 'mayonnaise', 'oregano', 'leftovers', 'strawberries', 'berries', 'coleslaw', 'cilantro', 'guacamole', 'tomato paste', 'canola oil', 'mung bean', 'lemon juice', 'ghee', 'avocado oil', 'almond oil', 'grapeseed oil', 'spelt', 'lime juice', 'pure vanilla extract', 'butter flavor', 'string cheese', 'salsa', 'puff pastry', 'biscuits', 'orange juice', 'vegetable soup', 'caviar', 'pine nuts', 'coconut oil', 'quail', 'kefir', 'cookie dough', 'base', 'meat products', 'chicken parts', 'cornish hens', 'canned chicken', 'fatty fish', 'miso', 'barley', 'whole wheat flour', 'cream pies', 'quiche', 'sugar substitutes', 'cookies', 'potato salad', 'brussels sprouts', 'cherry tomatoes', 'taro', 'aioli', 'salami', 'prosciutto', 'chocolate syrup', 'pectin', 'tortillas', 'rice milk', 'coconuts', 'turkey bacon', 'black bean sauce', 'tofu', 'oyster sauce', 'rosemary', 'powdered milk', 'popcorn', 'almond butter', 'cashew butter', 'hummus', 'jerky', 'kohlrabi', 'cantaloupe', 'farro', 'lemongrass', 'canadian bacon', 'pecans', 'mint', 'hot peppers', 'swiss chard', 'cranberry sauce', 'pate', 'buckwheat', 'cheese curds', 'bratwurst', 'bulgur', 'eggplant', 'coconut flour', 'kale', 'zucchini', 'cherries', 'polenta', 'balsamic vinegar', 'anchovies', 'arugula', 'oils', 'pumpkin seeds', 'flaxseed', 'herring', 'coffee creamer', 'apple cider vinegar', 'ricotta', 'pistachios', 'beets', 'sausages', 'venison', 'leeks', 'rabbit', 'pastrami', 'chicken salad', 'dinners', 'goose', 'applesauce', 'capon', 'blueberries', 'quinoa', 'cucumbers', 'red wine', 'canned goods', 'croutons', 'soy flour', 'cooked pasta', 'edamame', 'casseroles', 'fruit pies', 'tamarind paste', 'nectar', 'duck fat', 'apricots', 'pomegranate', 'cranberries', 'cherimoya', 'kiwi fruit', 'honeydew', 'tapenade', 'bamboo shoots', 'millet', 'beans and peas', 'radishes', 'rhubarb', 'bok choy', 'jicama', 'turnips', 'melons', 'pork rinds', 'squid', 'tempeh', 'marinades', 'capers', 'barbecue sauce', 'chorizo', 'apple cider', 'tahini', 'egg salad', 'cinnamon rolls', 'ham salad', 'nacho cheese', 'pork roll', 'macadamias', 'bacon grease', 'baby carrots', 'celery root', 'spaghetti sauce', 'sunflower oil', 'almond extract', 'lemon extract', 'carrot juice', 'bean sprouts', 'macaroons', 'spaghetti squash', 'vegetable juice', 'marinated vegetables', 'teff', 'garam masala', 'fresh pasta', 'ginger root', 'breadcrumbs', 'pimento cheese', 'cooking wine', 'yuzu juice', 'radicchio', 'egg dishes', 'lobster tails', 'fruit cake', 'citrus fruit', 'watermelon', 'rutabagas', 'marshmallows', 'seafood salads', 'amaranth', 'kumquats', 'relish', 'prickly pear', 'cinnamon extract', 'crab legs', 'gelatin', 'duckling', 'nut oils', 'pumpkins', 'salad dressings', 'formula', 'soup mixes', 'bison', 'coconut flavor', 'star fruit', 'sorghum', 'doughnuts', 'pheasant', 'giblets', 'turducken', 'crab meat', 'shortening', 'ice pops', 'salad dressing', 'quark', 'hard liquors', 'egg substitutes', 'dry egg noodles', 'toaster pastries'] \n",
      "\n",
      "\n",
      "~~~~~~~~~~~~~~~~~11~~~~~~~~~~~~~~~~~\n",
      "Model loaded...\n"
     ]
    },
    {
     "name": "stderr",
     "output_type": "stream",
     "text": [
      "  9%|▉         | 601/6580 [00:00<00:01, 3038.64it/s]"
     ]
    },
    {
     "name": "stdout",
     "output_type": "stream",
     "text": [
      "Skipping entity\n",
      "Skipping entity\n",
      "Skipping entity\n",
      "Skipping entity\n",
      "Skipping entity\n",
      "Skipping entity\n",
      "Skipping entity\n",
      "Skipping entity\n",
      "Skipping entity\n",
      "Skipping entity\n",
      "Skipping entity\n",
      "Skipping entity\n",
      "Skipping entity\n",
      "Skipping entity\n",
      "Skipping entity\n",
      "Skipping entity\n",
      "Skipping entity\n",
      "Skipping entity\n",
      "Skipping entity\n",
      "Skipping entity\n",
      "Skipping entity\n",
      "Skipping entity\n",
      "Skipping entity\n",
      "Skipping entity\n"
     ]
    },
    {
     "name": "stderr",
     "output_type": "stream",
     "text": [
      " 33%|███▎      | 2199/6580 [00:00<00:01, 3965.52it/s]"
     ]
    },
    {
     "name": "stdout",
     "output_type": "stream",
     "text": [
      "Skipping entity\n",
      "Skipping entity\n",
      "Skipping entity\n",
      "Skipping entity\n",
      "Skipping entity\n",
      "Skipping entity\n",
      "Skipping entity\n",
      "Skipping entity\n",
      "Skipping entity\n",
      "Skipping entity\n",
      "Skipping entity\n",
      "Skipping entity\n",
      "Skipping entity\n",
      "Skipping entity\n",
      "Skipping entity\n",
      "Skipping entity\n",
      "Skipping entity\n",
      "Skipping entity\n",
      "Skipping entity\n",
      "Skipping entity\n",
      "Skipping entity\n",
      "Skipping entity\n",
      "Skipping entity\n",
      "Skipping entity\n",
      "Skipping entity\n"
     ]
    },
    {
     "name": "stderr",
     "output_type": "stream",
     "text": [
      " 47%|████▋     | 3119/6580 [00:00<00:00, 4315.54it/s]"
     ]
    },
    {
     "name": "stdout",
     "output_type": "stream",
     "text": [
      "Skipping entity\n",
      "Skipping entity\n",
      "Skipping entity\n",
      "Skipping entity\n",
      "Skipping entity\n",
      "Skipping entity\n",
      "Skipping entity\n",
      "Skipping entity\n",
      "Skipping entity\n",
      "Skipping entity\n",
      "Skipping entity\n",
      "Skipping entity\n",
      "Skipping entity\n",
      "Skipping entity\n",
      "Skipping entity\n",
      "Skipping entity\n",
      "Skipping entity\n",
      "Skipping entity\n",
      "Skipping entity\n",
      "Skipping entity\n",
      "Skipping entity\n",
      "Skipping entity\n",
      "Skipping entity\n",
      "Skipping entity\n",
      "Skipping entity\n",
      "Skipping entity\n",
      "Skipping entity\n",
      "Skipping entity\n",
      "Skipping entity\n",
      "Skipping entity\n",
      "Skipping entity\n",
      "Skipping entity\n",
      "Skipping entity\n",
      "Skipping entity\n",
      "Skipping entity\n",
      "Skipping entity\n"
     ]
    },
    {
     "name": "stderr",
     "output_type": "stream",
     "text": [
      " 69%|██████▉   | 4561/6580 [00:01<00:00, 4645.96it/s]"
     ]
    },
    {
     "name": "stdout",
     "output_type": "stream",
     "text": [
      "Skipping entity\n",
      "Skipping entity\n",
      "Skipping entity\n",
      "Skipping entity\n",
      "Skipping entity\n",
      "Skipping entity\n",
      "Skipping entity\n",
      "Skipping entity\n",
      "Skipping entity\n",
      "Skipping entity\n",
      "Skipping entity\n",
      "Skipping entity\n",
      "Skipping entity\n",
      "Skipping entity\n",
      "Skipping entity\n",
      "Skipping entity\n",
      "Skipping entity\n",
      "Skipping entity\n",
      "Skipping entity\n",
      "Skipping entity\n",
      "Skipping entity\n",
      "Skipping entity\n",
      "Skipping entity\n",
      "Skipping entity\n",
      "Skipping entity\n",
      "Skipping entity\n",
      "Skipping entity\n"
     ]
    },
    {
     "name": "stderr",
     "output_type": "stream",
     "text": [
      " 91%|█████████ | 5983/6580 [00:01<00:00, 4701.99it/s]"
     ]
    },
    {
     "name": "stdout",
     "output_type": "stream",
     "text": [
      "Skipping entity\n",
      "Skipping entity\n",
      "Skipping entity\n",
      "Skipping entity\n",
      "Skipping entity\n",
      "Skipping entity\n",
      "Skipping entity\n",
      "Skipping entity\n",
      "Skipping entity\n",
      "Skipping entity\n",
      "Skipping entity\n",
      "Skipping entity\n",
      "Skipping entity\n",
      "Skipping entity\n",
      "Skipping entity\n",
      "Skipping entity\n",
      "Skipping entity\n",
      "Skipping entity\n",
      "Skipping entity\n",
      "Skipping entity\n",
      "Skipping entity\n",
      "Skipping entity\n",
      "Skipping entity\n",
      "Skipping entity\n",
      "Skipping entity\n",
      "Skipping entity\n",
      "Skipping entity\n",
      "Skipping entity\n",
      "Skipping entity\n"
     ]
    },
    {
     "name": "stderr",
     "output_type": "stream",
     "text": [
      "100%|██████████| 6580/6580 [00:01<00:00, 4302.70it/s]\n"
     ]
    },
    {
     "name": "stdout",
     "output_type": "stream",
     "text": [
      "Skipping entity\n",
      "Skipping entity\n",
      "Skipping entity\n",
      "Skipping entity\n",
      "Skipping entity\n",
      "Skipping entity\n",
      "Skipping entity\n",
      "Skipping entity\n",
      "[i] Saving to output directory: output\n",
      "[i] Using CPU\n",
      "\u001b[1m\n",
      "=========================== Initializing pipeline ===========================\u001b[0m\n",
      "[+] Initialized pipeline\n",
      "\u001b[1m\n",
      "============================= Training pipeline =============================\u001b[0m\n",
      "[i] Pipeline: ['tok2vec', 'ner']\n",
      "[i] Initial learn rate: 0.001\n",
      "E    #       LOSS TOK2VEC  LOSS NER  ENTS_F  ENTS_P  ENTS_R  SCORE \n",
      "---  ------  ------------  --------  ------  ------  ------  ------\n",
      "  0       0          0.00     41.50    0.00    0.00    0.00    0.00\n",
      "  0     200         76.50   2455.72   79.16   76.04   82.55    0.79\n",
      "  0     400         78.09   1414.87   85.38   79.18   92.63    0.85\n",
      "  0     600         73.82   1344.33   88.09   85.17   91.23    0.88\n",
      "  0     800         92.90   1538.68   89.77   84.99   95.12    0.90\n",
      "  0    1000         91.11   1620.63   90.58   85.23   96.65    0.91\n",
      "  0    1200         98.04   1974.11   91.89   88.24   95.87    0.92\n",
      "  1    1400        125.08   2158.46   92.77   90.28   95.40    0.93\n",
      "  1    1600        134.51   2367.97   93.48   90.35   96.82    0.93\n",
      "  1    1800        171.84   2695.21   94.37   92.03   96.84    0.94\n",
      "  2    2000        233.91   2611.45   95.27   92.66   98.03    0.95\n",
      "  3    2200        292.34   3343.68   96.09   94.55   97.68    0.96\n",
      "  4    2400        385.76   3209.87   96.79   94.79   98.87    0.97\n",
      "  4    2600        456.31   2812.36   97.29   96.28   98.32    0.97\n",
      "  5    2800        498.97   2466.84   97.88   96.88   98.89    0.98\n",
      "  6    3000        490.32   2190.44   98.21   97.26   99.18    0.98\n",
      "  7    3200        557.80   1979.22   98.48   97.98   99.00    0.98\n",
      "  8    3400        577.33   1800.24   98.70   98.78   98.61    0.99\n",
      "  9    3600        613.34   1744.15   98.84   98.13   99.56    0.99\n",
      "  9    3800        568.22   1498.93   99.18   98.75   99.62    0.99\n",
      " 10    4000        597.28   1373.46   99.17   98.68   99.66    0.99\n",
      " 11    4200        632.14   1261.96   99.36   99.11   99.62    0.99\n",
      " 12    4400        621.96   1272.07   99.40   99.27   99.54    0.99\n",
      " 13    4600        582.16   1115.83   99.48   99.43   99.52    0.99\n",
      " 14    4800        585.54   1033.87   99.61   99.54   99.69    1.00\n",
      " 14    5000        595.60    985.60   99.57   99.61   99.53    1.00\n",
      " 15    5200        637.07    900.64   99.58   99.65   99.52    1.00\n",
      " 16    5400        613.49    859.32   99.61   99.44   99.79    1.00\n",
      " 17    5600        593.50    810.51   99.58   99.60   99.56    1.00\n",
      " 18    5800        621.28    883.18   99.68   99.72   99.65    1.00\n",
      " 19    6000        612.42    813.02   99.44   99.03   99.85    0.99\n",
      " 19    6200        647.70    784.62   99.72   99.66   99.79    1.00\n",
      " 20    6400        575.08    670.35   99.71   99.61   99.81    1.00\n",
      " 21    6600        591.23    639.48   99.76   99.73   99.79    1.00\n",
      " 22    6800        618.36    660.36   99.72   99.57   99.86    1.00\n",
      " 23    7000        585.29    668.82   99.76   99.67   99.84    1.00\n",
      " 24    7200        724.48    666.27   99.79   99.77   99.80    1.00\n",
      " 24    7400        591.15    578.73   99.81   99.70   99.91    1.00\n",
      " 25    7600        685.62    574.34   99.80   99.77   99.82    1.00\n",
      " 26    7800        718.43    553.26   99.83   99.76   99.89    1.00\n",
      " 27    8000        615.52    577.11   99.84   99.81   99.87    1.00\n",
      " 28    8200        663.45    519.68   99.85   99.84   99.86    1.00\n",
      " 29    8400        760.93    562.32   99.85   99.85   99.85    1.00\n",
      " 29    8600        719.00    515.43   99.90   99.88   99.93    1.00\n",
      " 30    8800        672.12    488.10   99.87   99.88   99.86    1.00\n",
      " 31    9000        668.22    440.77   99.76   99.70   99.82    1.00\n",
      " 32    9200        710.74    481.88   99.84   99.89   99.80    1.00\n",
      " 33    9400        680.62    491.58   99.77   99.62   99.93    1.00\n",
      " 34    9600        686.50    447.90   99.83   99.74   99.93    1.00\n",
      " 34    9800        959.88    480.55   99.85   99.85   99.86    1.00\n",
      " 35   10000        667.08    409.28   99.90   99.91   99.89    1.00\n",
      " 36   10200        714.59    428.10   99.86   99.79   99.93    1.00\n",
      "[+] Saved pipeline to output directory\n",
      "output\\model-last\n",
      "\n",
      "Total keywords:  373\n",
      "List of Keywords:\n",
      "\n",
      " ['cheese', 'chicken', 'milk', 'butter', 'cream', 'fruit', 'rice', 'water', 'garlic', 'bread', 'sugar', 'salt', 'chocolate', 'fish', 'beef', 'yogurt', 'almond milk', 'greens', 'granola', 'nuts', 'chia seeds', 'onions', 'apples', 'peanut butter', 'squash', 'soda', 'flour', 'garlic powder', 'buttermilk', 'potatoes', 'cottage cheese', 'sour cream', 'turkey', 'beans', 'cream cheese', 'bagel', 'pretzels', 'celery', 'white wine', 'margarine', 'whipped cream', 'ice cream', 'pineapple', 'whipped topping', 'plantains', 'veal', 'mustard', 'corned beef', 'rye', 'fried chicken', 'gravy', 'tuna', 'vegetables', 'eggs', 'rotisserie chicken', 'hot dogs', 'crackers', 'dips', 'meats', 'frozen entrees', 'bacon', 'pasta', 'pizza', 'potato chips', 'avocados', 'pork', 'sunflower seeds', 'lentils', 'lean fish', 'cauliflower', 'asparagus', 'almonds', 'cooked fish', 'honey', 'kimchi', 'herbs', 'dates', 'scallops', 'yuzu', 'corn syrup', 'baking soda', 'molasses', 'yeast', 'cornmeal', 'vinegar', 'parsley', 'worcestershire sauce', 'mushrooms', 'broth', 'peppers', 'oats', 'guava', 'coconut', 'cheesecake', 'cinnamon', 'muffin', 'pies', 'tomato sauce', 'pickles', 'goat', 'lamb', 'seafood', 'olives', 'baking powder', 'sesame seeds', 'raspberries', 'cornstarch', 'hot sauce', 'grits', 'chives', 'coconut milk', 'tamarind', 'tomatoes', 'cumin', 'chili powder', 'onion powder', 'black pepper', 'pie crust', 'cooked rice', 'nutmeg', 'peas', 'refried beans', 'bananas', 'okra', 'cabbage', 'syrup', 'juice concentrates', 'basil', 'fruits', 'horseradish', 'lettuce', 'pesto', 'soy milk', 'hoisin sauce', 'sesame oil', 'peanuts', 'ham', 'bacon bits', 'chutney', 'sun dried tomatoes', 'sausage', 'coffee', 'pasta salad', 'cereal', 'grapes', 'cashews', 'tea', 'pudding', 'coconut cream', 'coconut water', 'apple juice', 'fruit cocktail', 'walnuts', 'dough', 'roasted red peppers', 'whole wheat bread', 'thyme', 'mayonnaise', 'oregano', 'leftovers', 'strawberries', 'berries', 'coleslaw', 'cilantro', 'guacamole', 'tomato paste', 'canola oil', 'mung bean', 'lemon juice', 'ghee', 'avocado oil', 'almond oil', 'grapeseed oil', 'spelt', 'lime juice', 'pure vanilla extract', 'butter flavor', 'string cheese', 'salsa', 'puff pastry', 'biscuits', 'orange juice', 'vegetable soup', 'caviar', 'pine nuts', 'coconut oil', 'quail', 'kefir', 'cookie dough', 'base', 'meat products', 'chicken parts', 'cornish hens', 'canned chicken', 'fatty fish', 'miso', 'barley', 'whole wheat flour', 'cream pies', 'quiche', 'sugar substitutes', 'cookies', 'potato salad', 'brussels sprouts', 'cherry tomatoes', 'taro', 'aioli', 'salami', 'prosciutto', 'chocolate syrup', 'pectin', 'tortillas', 'rice milk', 'coconuts', 'turkey bacon', 'black bean sauce', 'tofu', 'oyster sauce', 'rosemary', 'powdered milk', 'popcorn', 'almond butter', 'cashew butter', 'hummus', 'jerky', 'kohlrabi', 'cantaloupe', 'farro', 'lemongrass', 'canadian bacon', 'pecans', 'mint', 'hot peppers', 'swiss chard', 'cranberry sauce', 'pate', 'buckwheat', 'cheese curds', 'bratwurst', 'bulgur', 'eggplant', 'coconut flour', 'kale', 'zucchini', 'cherries', 'polenta', 'balsamic vinegar', 'anchovies', 'arugula', 'oils', 'pumpkin seeds', 'flaxseed', 'herring', 'coffee creamer', 'apple cider vinegar', 'ricotta', 'pistachios', 'beets', 'sausages', 'venison', 'leeks', 'rabbit', 'pastrami', 'chicken salad', 'dinners', 'goose', 'applesauce', 'capon', 'blueberries', 'quinoa', 'cucumbers', 'red wine', 'canned goods', 'croutons', 'soy flour', 'cooked pasta', 'edamame', 'casseroles', 'fruit pies', 'tamarind paste', 'nectar', 'duck fat', 'apricots', 'pomegranate', 'cranberries', 'cherimoya', 'kiwi fruit', 'honeydew', 'tapenade', 'bamboo shoots', 'millet', 'beans and peas', 'radishes', 'rhubarb', 'bok choy', 'jicama', 'turnips', 'melons', 'pork rinds', 'squid', 'tempeh', 'marinades', 'capers', 'barbecue sauce', 'chorizo', 'apple cider', 'tahini', 'egg salad', 'cinnamon rolls', 'ham salad', 'nacho cheese', 'pork roll', 'macadamias', 'bacon grease', 'baby carrots', 'celery root', 'spaghetti sauce', 'sunflower oil', 'almond extract', 'lemon extract', 'carrot juice', 'bean sprouts', 'macaroons', 'spaghetti squash', 'vegetable juice', 'marinated vegetables', 'teff', 'garam masala', 'fresh pasta', 'ginger root', 'breadcrumbs', 'pimento cheese', 'cooking wine', 'yuzu juice', 'radicchio', 'egg dishes', 'lobster tails', 'fruit cake', 'citrus fruit', 'watermelon', 'rutabagas', 'marshmallows', 'seafood salads', 'amaranth', 'kumquats', 'relish', 'prickly pear', 'cinnamon extract', 'crab legs', 'gelatin', 'duckling', 'nut oils', 'pumpkins', 'salad dressings', 'formula', 'soup mixes', 'bison', 'coconut flavor', 'star fruit', 'sorghum', 'doughnuts', 'pheasant', 'giblets', 'turducken', 'crab meat', 'shortening', 'ice pops', 'salad dressing', 'quark', 'hard liquors', 'egg substitutes', 'dry egg noodles', 'toaster pastries'] \n",
      "\n",
      "\n"
     ]
    },
    {
     "name": "stdout",
     "output_type": "stream",
     "text": [
      "[[36  8]\n",
      " [ 6 33]]\n",
      "              precision    recall  f1-score   support\n",
      "\n",
      "           1       0.86      0.82      0.84        44\n",
      "           0       0.80      0.85      0.83        39\n",
      "\n",
      "    accuracy                           0.83        83\n",
      "   macro avg       0.83      0.83      0.83        83\n",
      "weighted avg       0.83      0.83      0.83        83\n",
      "\n",
      "Total keywords:  375\n",
      "Total Tweets:  6580\n",
      "List of Keywords:\n",
      "\n",
      " ['cheese', 'chicken', 'milk', 'butter', 'cream', 'fruit', 'rice', 'water', 'garlic', 'bread', 'sugar', 'salt', 'chocolate', 'fish', 'beef', 'yogurt', 'almond milk', 'greens', 'granola', 'nuts', 'chia seeds', 'onions', 'apples', 'peanut butter', 'squash', 'soda', 'flour', 'garlic powder', 'buttermilk', 'potatoes', 'cottage cheese', 'sour cream', 'turkey', 'beans', 'cream cheese', 'bagel', 'pretzels', 'celery', 'white wine', 'margarine', 'whipped cream', 'ice cream', 'pineapple', 'whipped topping', 'plantains', 'veal', 'mustard', 'corned beef', 'rye', 'fried chicken', 'gravy', 'tuna', 'vegetables', 'eggs', 'rotisserie chicken', 'hot dogs', 'crackers', 'dips', 'meats', 'frozen entrees', 'bacon', 'pasta', 'pizza', 'potato chips', 'avocados', 'pork', 'sunflower seeds', 'lentils', 'lean fish', 'cauliflower', 'asparagus', 'almonds', 'cooked fish', 'honey', 'kimchi', 'herbs', 'dates', 'scallops', 'yuzu', 'corn syrup', 'baking soda', 'molasses', 'yeast', 'cornmeal', 'vinegar', 'parsley', 'worcestershire sauce', 'mushrooms', 'broth', 'peppers', 'oats', 'guava', 'coconut', 'cheesecake', 'cinnamon', 'muffin', 'pies', 'tomato sauce', 'pickles', 'goat', 'lamb', 'seafood', 'olives', 'baking powder', 'sesame seeds', 'raspberries', 'cornstarch', 'hot sauce', 'grits', 'chives', 'coconut milk', 'tamarind', 'tomatoes', 'cumin', 'chili powder', 'onion powder', 'black pepper', 'pie crust', 'cooked rice', 'nutmeg', 'peas', 'refried beans', 'bananas', 'okra', 'cabbage', 'syrup', 'juice concentrates', 'basil', 'fruits', 'horseradish', 'lettuce', 'pesto', 'soy milk', 'hoisin sauce', 'sesame oil', 'peanuts', 'ham', 'bacon bits', 'chutney', 'sun dried tomatoes', 'sausage', 'coffee', 'pasta salad', 'cereal', 'grapes', 'cashews', 'tea', 'pudding', 'coconut cream', 'coconut water', 'apple juice', 'fruit cocktail', 'walnuts', 'dough', 'roasted red peppers', 'whole wheat bread', 'thyme', 'mayonnaise', 'oregano', 'leftovers', 'strawberries', 'berries', 'coleslaw', 'cilantro', 'guacamole', 'tomato paste', 'canola oil', 'mung bean', 'lemon juice', 'ghee', 'avocado oil', 'almond oil', 'grapeseed oil', 'spelt', 'lime juice', 'pure vanilla extract', 'butter flavor', 'string cheese', 'salsa', 'puff pastry', 'biscuits', 'orange juice', 'vegetable soup', 'caviar', 'pine nuts', 'coconut oil', 'quail', 'kefir', 'cookie dough', 'base', 'meat products', 'chicken parts', 'cornish hens', 'canned chicken', 'fatty fish', 'miso', 'barley', 'whole wheat flour', 'cream pies', 'quiche', 'sugar substitutes', 'cookies', 'potato salad', 'brussels sprouts', 'cherry tomatoes', 'taro', 'aioli', 'salami', 'prosciutto', 'chocolate syrup', 'pectin', 'tortillas', 'rice milk', 'coconuts', 'turkey bacon', 'black bean sauce', 'tofu', 'oyster sauce', 'rosemary', 'powdered milk', 'popcorn', 'almond butter', 'cashew butter', 'hummus', 'jerky', 'kohlrabi', 'cantaloupe', 'farro', 'lemongrass', 'canadian bacon', 'pecans', 'mint', 'hot peppers', 'swiss chard', 'cranberry sauce', 'pate', 'buckwheat', 'cheese curds', 'bratwurst', 'bulgur', 'eggplant', 'coconut flour', 'kale', 'zucchini', 'cherries', 'polenta', 'balsamic vinegar', 'anchovies', 'arugula', 'oils', 'pumpkin seeds', 'flaxseed', 'herring', 'coffee creamer', 'apple cider vinegar', 'ricotta', 'pistachios', 'beets', 'sausages', 'venison', 'leeks', 'rabbit', 'pastrami', 'chicken salad', 'dinners', 'goose', 'applesauce', 'capon', 'blueberries', 'quinoa', 'cucumbers', 'red wine', 'canned goods', 'croutons', 'soy flour', 'cooked pasta', 'edamame', 'casseroles', 'fruit pies', 'tamarind paste', 'nectar', 'duck fat', 'apricots', 'pomegranate', 'cranberries', 'cherimoya', 'kiwi fruit', 'honeydew', 'tapenade', 'bamboo shoots', 'millet', 'beans and peas', 'radishes', 'rhubarb', 'bok choy', 'jicama', 'turnips', 'melons', 'pork rinds', 'squid', 'tempeh', 'marinades', 'capers', 'barbecue sauce', 'chorizo', 'apple cider', 'tahini', 'egg salad', 'cinnamon rolls', 'ham salad', 'nacho cheese', 'pork roll', 'macadamias', 'bacon grease', 'baby carrots', 'celery root', 'spaghetti sauce', 'sunflower oil', 'almond extract', 'lemon extract', 'carrot juice', 'bean sprouts', 'macaroons', 'spaghetti squash', 'vegetable juice', 'marinated vegetables', 'teff', 'garam masala', 'fresh pasta', 'ginger root', 'breadcrumbs', 'pimento cheese', 'cooking wine', 'yuzu juice', 'radicchio', 'egg dishes', 'lobster tails', 'fruit cake', 'citrus fruit', 'watermelon', 'rutabagas', 'marshmallows', 'seafood salads', 'amaranth', 'kumquats', 'relish', 'prickly pear', 'cinnamon extract', 'crab legs', 'gelatin', 'duckling', 'nut oils', 'pumpkins', 'salad dressings', 'formula', 'soup mixes', 'bison', 'coconut flavor', 'star fruit', 'sorghum', 'doughnuts', 'pheasant', 'giblets', 'turducken', 'crab meat', 'shortening', 'ice pops', 'salad dressing', 'quark', 'hard liquors', 'egg substitutes', 'dry egg noodles', 'toaster pastries', 'seasoning blends', 'frying oil'] \n",
      "\n",
      "\n",
      "~~~~~~~~~~~~~~~~~12~~~~~~~~~~~~~~~~~\n",
      "Model loaded...\n"
     ]
    },
    {
     "name": "stderr",
     "output_type": "stream",
     "text": [
      " 10%|▉         | 611/6289 [00:00<00:01, 3100.57it/s]"
     ]
    },
    {
     "name": "stdout",
     "output_type": "stream",
     "text": [
      "Skipping entity\n",
      "Skipping entity\n",
      "Skipping entity\n",
      "Skipping entity\n",
      "Skipping entity\n",
      "Skipping entity\n",
      "Skipping entity\n",
      "Skipping entity\n",
      "Skipping entity\n",
      "Skipping entity\n",
      "Skipping entity\n",
      "Skipping entity\n",
      "Skipping entity\n",
      "Skipping entity\n",
      "Skipping entity\n",
      "Skipping entity\n",
      "Skipping entity\n",
      "Skipping entity\n"
     ]
    },
    {
     "name": "stderr",
     "output_type": "stream",
     "text": [
      " 36%|███▌      | 2247/6289 [00:00<00:00, 4058.14it/s]"
     ]
    },
    {
     "name": "stdout",
     "output_type": "stream",
     "text": [
      "Skipping entity\n",
      "Skipping entity\n",
      "Skipping entity\n",
      "Skipping entity\n",
      "Skipping entity\n",
      "Skipping entity\n",
      "Skipping entity\n",
      "Skipping entity\n",
      "Skipping entity\n",
      "Skipping entity\n",
      "Skipping entity\n",
      "Skipping entity\n",
      "Skipping entity\n",
      "Skipping entity\n",
      "Skipping entity\n",
      "Skipping entity\n",
      "Skipping entity\n",
      "Skipping entity\n",
      "Skipping entity\n",
      "Skipping entity\n",
      "Skipping entity\n"
     ]
    },
    {
     "name": "stderr",
     "output_type": "stream",
     "text": [
      " 58%|█████▊    | 3631/6289 [00:00<00:00, 4469.59it/s]"
     ]
    },
    {
     "name": "stdout",
     "output_type": "stream",
     "text": [
      "Skipping entity\n",
      "Skipping entity\n",
      "Skipping entity\n",
      "Skipping entity\n",
      "Skipping entity\n",
      "Skipping entity\n",
      "Skipping entity\n",
      "Skipping entity\n",
      "Skipping entity\n",
      "Skipping entity\n",
      "Skipping entity\n",
      "Skipping entity\n",
      "Skipping entity\n",
      "Skipping entity\n",
      "Skipping entity\n",
      "Skipping entity\n",
      "Skipping entity\n",
      "Skipping entity\n",
      "Skipping entity\n",
      "Skipping entity\n",
      "Skipping entity\n",
      "Skipping entity\n",
      "Skipping entity\n",
      "Skipping entity\n",
      "Skipping entity\n",
      "Skipping entity\n",
      "Skipping entity\n",
      "Skipping entity\n",
      "Skipping entity\n"
     ]
    },
    {
     "name": "stderr",
     "output_type": "stream",
     "text": [
      " 80%|███████▉  | 5029/6289 [00:01<00:00, 4415.81it/s]"
     ]
    },
    {
     "name": "stdout",
     "output_type": "stream",
     "text": [
      "Skipping entity\n",
      "Skipping entity\n",
      "Skipping entity\n",
      "Skipping entity\n",
      "Skipping entity\n",
      "Skipping entity\n",
      "Skipping entity\n",
      "Skipping entity\n",
      "Skipping entity\n",
      "Skipping entity\n",
      "Skipping entity\n",
      "Skipping entity\n",
      "Skipping entity\n",
      "Skipping entity\n",
      "Skipping entity\n",
      "Skipping entity\n",
      "Skipping entity\n",
      "Skipping entity\n",
      "Skipping entity\n",
      "Skipping entity\n",
      "Skipping entity\n",
      "Skipping entity\n",
      "Skipping entity\n",
      "Skipping entity\n",
      "Skipping entity\n"
     ]
    },
    {
     "name": "stderr",
     "output_type": "stream",
     "text": [
      " 94%|█████████▍| 5912/6289 [00:01<00:00, 4381.42it/s]"
     ]
    },
    {
     "name": "stdout",
     "output_type": "stream",
     "text": [
      "Skipping entity\n",
      "Skipping entity\n",
      "Skipping entity\n",
      "Skipping entity\n",
      "Skipping entity\n",
      "Skipping entity\n",
      "Skipping entity\n",
      "Skipping entity\n",
      "Skipping entity\n",
      "Skipping entity\n",
      "Skipping entity\n",
      "Skipping entity\n",
      "Skipping entity\n",
      "Skipping entity\n",
      "Skipping entity\n",
      "Skipping entity\n",
      "Skipping entity\n",
      "Skipping entity\n",
      "Skipping entity\n",
      "Skipping entity\n",
      "Skipping entity\n",
      "Skipping entity\n",
      "Skipping entity\n",
      "Skipping entity\n",
      "Skipping entity\n",
      "Skipping entity\n",
      "Skipping entity\n"
     ]
    },
    {
     "name": "stderr",
     "output_type": "stream",
     "text": [
      "100%|██████████| 6289/6289 [00:01<00:00, 4208.47it/s]\n"
     ]
    },
    {
     "name": "stdout",
     "output_type": "stream",
     "text": [
      "[i] Saving to output directory: output\n",
      "[i] Using CPU\n",
      "\u001b[1m\n",
      "=========================== Initializing pipeline ===========================\u001b[0m\n",
      "[+] Initialized pipeline\n",
      "\u001b[1m\n",
      "============================= Training pipeline =============================\u001b[0m\n",
      "[i] Pipeline: ['tok2vec', 'ner']\n",
      "[i] Initial learn rate: 0.001\n",
      "E    #       LOSS TOK2VEC  LOSS NER  ENTS_F  ENTS_P  ENTS_R  SCORE \n",
      "---  ------  ------------  --------  ------  ------  ------  ------\n",
      "  0       0          0.00     33.00    0.67    1.73    0.41    0.01\n",
      "  0     200         79.56   2551.88   76.85   79.08   74.74    0.77\n",
      "  0     400         68.77   1357.91   84.85   80.70   89.46    0.85\n",
      "  0     600         62.17   1357.26   89.17   85.95   92.65    0.89\n",
      "  0     800         74.72   1462.79   89.61   84.09   95.91    0.90\n",
      "  0    1000         86.86   1620.86   91.67   87.72   95.99    0.92\n",
      "  0    1200         97.23   1967.74   92.84   88.37   97.78    0.93\n",
      "  1    1400        120.71   1857.27   93.01   88.52   97.97    0.93\n",
      "  1    1600        169.74   2196.41   94.19   90.74   97.92    0.94\n",
      "  2    1800        179.17   2573.46   95.21   93.01   97.52    0.95\n",
      "  2    2000        259.79   2591.28   95.85   93.60   98.20    0.96\n",
      "  3    2200        325.57   2795.92   96.87   95.96   97.80    0.97\n",
      "  4    2400        404.31   2792.77   97.60   96.77   98.44    0.98\n",
      "  5    2600        474.35   2529.46   97.85   96.37   99.37    0.98\n",
      "  5    2800        503.84   2139.90   98.21   96.83   99.64    0.98\n",
      "  6    3000        558.34   1804.93   98.79   98.23   99.36    0.99\n",
      "  7    3200        540.02   1622.84   98.54   97.55   99.56    0.99\n",
      "  8    3400        583.35   1566.15   98.91   98.23   99.60    0.99\n",
      "  9    3600        567.10   1305.27   99.12   98.66   99.58    0.99\n",
      " 10    3800        622.37   1250.45   99.26   98.83   99.69    0.99\n",
      " 11    4000        640.88   1170.40   99.43   99.34   99.52    0.99\n",
      " 12    4200        624.47   1127.43   99.50   99.35   99.66    1.00\n",
      " 12    4400        675.74    991.62   99.51   99.30   99.71    1.00\n",
      " 13    4600        628.36    904.68   99.55   99.50   99.60    1.00\n",
      " 14    4800        610.55    819.77   99.65   99.58   99.73    1.00\n",
      " 15    5000        659.37    820.67   99.62   99.55   99.70    1.00\n",
      " 16    5200        607.19    787.35   99.63   99.41   99.86    1.00\n",
      " 17    5400        571.85    820.07   99.56   99.23   99.89    1.00\n",
      " 18    5600        602.80    724.99   99.76   99.78   99.73    1.00\n",
      " 19    5800        619.88    683.81   99.76   99.71   99.81    1.00\n",
      " 19    6000        644.07    688.60   99.80   99.75   99.85    1.00\n",
      " 20    6200        621.33    609.21   99.78   99.76   99.81    1.00\n",
      " 21    6400        759.64    664.21   99.75   99.64   99.86    1.00\n",
      " 22    6600        583.31    556.15   99.80   99.76   99.83    1.00\n",
      " 23    6800        775.31    603.02   99.81   99.85   99.76    1.00\n",
      " 24    7000        597.28    547.84   99.84   99.82   99.86    1.00\n",
      " 25    7200        712.55    516.19   99.82   99.80   99.84    1.00\n",
      " 26    7400        694.63    517.83   99.87   99.83   99.92    1.00\n",
      " 26    7600        827.01    547.94   99.86   99.83   99.88    1.00\n",
      " 27    7800        775.36    492.69   99.87   99.83   99.90    1.00\n",
      " 28    8000        683.31    489.70   99.86   99.82   99.91    1.00\n",
      " 29    8200        655.15    467.34   99.82   99.72   99.91    1.00\n",
      " 30    8400        988.98    494.62   99.82   99.75   99.88    1.00\n",
      " 31    8600        967.89    480.52   99.84   99.82   99.86    1.00\n",
      " 32    8800        833.72    419.16   99.82   99.69   99.95    1.00\n",
      " 33    9000        889.38    458.67   99.88   99.90   99.86    1.00\n",
      " 33    9200        715.21    424.58   99.80   99.72   99.87    1.00\n",
      " 34    9400        823.20    409.72   99.88   99.94   99.82    1.00\n",
      " 35    9600        785.53    425.26   99.90   99.90   99.89    1.00\n",
      " 36    9800        739.53    356.83   99.89   99.87   99.91    1.00\n",
      " 37   10000        815.97    415.47   99.87   99.87   99.88    1.00\n",
      " 38   10200        898.56    397.74   99.88   99.88   99.88    1.00\n",
      " 39   10400        991.42    405.53   99.88   99.79   99.98    1.00\n",
      " 40   10600        960.57    453.50   99.91   99.87   99.95    1.00\n",
      " 40   10800        962.11    406.98   99.87   99.85   99.88    1.00\n",
      " 41   11000        951.87    376.16   99.92   99.92   99.92    1.00\n",
      " 42   11200        854.41    337.36   99.86   99.75   99.97    1.00\n",
      " 43   11400        818.08    295.01   99.90   99.89   99.90    1.00\n",
      " 44   11600       1250.42    337.08   99.87   99.84   99.90    1.00\n",
      " 45   11800       1196.80    355.92   99.92   99.86   99.97    1.00\n",
      " 46   12000       1274.50    348.04   99.91   99.94   99.88    1.00\n",
      " 47   12200       1102.05    341.52   99.92   99.90   99.94    1.00\n",
      " 47   12400       1047.79    345.62   99.89   99.89   99.88    1.00\n",
      " 48   12600       1273.38    359.69   99.92   99.91   99.94    1.00\n",
      " 49   12800       1291.30    320.07   99.90   99.87   99.93    1.00\n",
      " 50   13000       1088.78    305.58   99.91   99.92   99.90    1.00\n",
      " 51   13200       1455.95    318.15   99.87   99.81   99.93    1.00\n",
      " 52   13400       1313.75    331.07   99.91   99.89   99.94    1.00\n",
      " 53   13600       1188.22    307.69   99.91   99.89   99.93    1.00\n",
      " 54   13800       1319.10    302.43   99.92   99.86   99.98    1.00\n",
      " 54   14000       1202.60    274.10   99.89   99.96   99.82    1.00\n",
      " 55   14200       1427.15    291.25   99.93   99.88   99.98    1.00\n",
      " 56   14400       1556.95    310.32   99.90   99.92   99.88    1.00\n",
      " 57   14600       1379.05    282.25   99.94   99.91   99.97    1.00\n",
      " 58   14800       1627.62    285.70   99.89   99.93   99.84    1.00\n",
      " 59   15000       1420.67    280.79   99.91   99.86   99.96    1.00\n",
      " 60   15200       1477.54    277.74   99.90   99.92   99.88    1.00\n",
      " 61   15400       1453.66    259.91   99.93   99.93   99.94    1.00\n",
      " 61   15600       1742.02    247.18   99.92   99.89   99.94    1.00\n",
      " 62   15800       1662.80    286.02   99.93   99.92   99.95    1.00\n",
      " 63   16000       1758.78    294.50   99.90   99.84   99.97    1.00\n",
      " 64   16200       1579.64    255.23   99.88   99.84   99.92    1.00\n",
      "[+] Saved pipeline to output directory\n",
      "output\\model-last\n",
      "\n",
      "Total keywords:  375\n",
      "List of Keywords:\n",
      "\n",
      " ['cheese', 'chicken', 'milk', 'butter', 'cream', 'fruit', 'rice', 'water', 'garlic', 'bread', 'sugar', 'salt', 'chocolate', 'fish', 'beef', 'yogurt', 'almond milk', 'greens', 'granola', 'nuts', 'chia seeds', 'onions', 'apples', 'peanut butter', 'squash', 'soda', 'flour', 'garlic powder', 'buttermilk', 'potatoes', 'cottage cheese', 'sour cream', 'turkey', 'beans', 'cream cheese', 'bagel', 'pretzels', 'celery', 'white wine', 'margarine', 'whipped cream', 'ice cream', 'pineapple', 'whipped topping', 'plantains', 'veal', 'mustard', 'corned beef', 'rye', 'fried chicken', 'gravy', 'tuna', 'vegetables', 'eggs', 'rotisserie chicken', 'hot dogs', 'crackers', 'dips', 'meats', 'frozen entrees', 'bacon', 'pasta', 'pizza', 'potato chips', 'avocados', 'pork', 'sunflower seeds', 'lentils', 'lean fish', 'cauliflower', 'asparagus', 'almonds', 'cooked fish', 'honey', 'kimchi', 'herbs', 'dates', 'scallops', 'yuzu', 'corn syrup', 'baking soda', 'molasses', 'yeast', 'cornmeal', 'vinegar', 'parsley', 'worcestershire sauce', 'mushrooms', 'broth', 'peppers', 'oats', 'guava', 'coconut', 'cheesecake', 'cinnamon', 'muffin', 'pies', 'tomato sauce', 'pickles', 'goat', 'lamb', 'seafood', 'olives', 'baking powder', 'sesame seeds', 'raspberries', 'cornstarch', 'hot sauce', 'grits', 'chives', 'coconut milk', 'tamarind', 'tomatoes', 'cumin', 'chili powder', 'onion powder', 'black pepper', 'pie crust', 'cooked rice', 'nutmeg', 'peas', 'refried beans', 'bananas', 'okra', 'cabbage', 'syrup', 'juice concentrates', 'basil', 'fruits', 'horseradish', 'lettuce', 'pesto', 'soy milk', 'hoisin sauce', 'sesame oil', 'peanuts', 'ham', 'bacon bits', 'chutney', 'sun dried tomatoes', 'sausage', 'coffee', 'pasta salad', 'cereal', 'grapes', 'cashews', 'tea', 'pudding', 'coconut cream', 'coconut water', 'apple juice', 'fruit cocktail', 'walnuts', 'dough', 'roasted red peppers', 'whole wheat bread', 'thyme', 'mayonnaise', 'oregano', 'leftovers', 'strawberries', 'berries', 'coleslaw', 'cilantro', 'guacamole', 'tomato paste', 'canola oil', 'mung bean', 'lemon juice', 'ghee', 'avocado oil', 'almond oil', 'grapeseed oil', 'spelt', 'lime juice', 'pure vanilla extract', 'butter flavor', 'string cheese', 'salsa', 'puff pastry', 'biscuits', 'orange juice', 'vegetable soup', 'caviar', 'pine nuts', 'coconut oil', 'quail', 'kefir', 'cookie dough', 'base', 'meat products', 'chicken parts', 'cornish hens', 'canned chicken', 'fatty fish', 'miso', 'barley', 'whole wheat flour', 'cream pies', 'quiche', 'sugar substitutes', 'cookies', 'potato salad', 'brussels sprouts', 'cherry tomatoes', 'taro', 'aioli', 'salami', 'prosciutto', 'chocolate syrup', 'pectin', 'tortillas', 'rice milk', 'coconuts', 'turkey bacon', 'black bean sauce', 'tofu', 'oyster sauce', 'rosemary', 'powdered milk', 'popcorn', 'almond butter', 'cashew butter', 'hummus', 'jerky', 'kohlrabi', 'cantaloupe', 'farro', 'lemongrass', 'canadian bacon', 'pecans', 'mint', 'hot peppers', 'swiss chard', 'cranberry sauce', 'pate', 'buckwheat', 'cheese curds', 'bratwurst', 'bulgur', 'eggplant', 'coconut flour', 'kale', 'zucchini', 'cherries', 'polenta', 'balsamic vinegar', 'anchovies', 'arugula', 'oils', 'pumpkin seeds', 'flaxseed', 'herring', 'coffee creamer', 'apple cider vinegar', 'ricotta', 'pistachios', 'beets', 'sausages', 'venison', 'leeks', 'rabbit', 'pastrami', 'chicken salad', 'dinners', 'goose', 'applesauce', 'capon', 'blueberries', 'quinoa', 'cucumbers', 'red wine', 'canned goods', 'croutons', 'soy flour', 'cooked pasta', 'edamame', 'casseroles', 'fruit pies', 'tamarind paste', 'nectar', 'duck fat', 'apricots', 'pomegranate', 'cranberries', 'cherimoya', 'kiwi fruit', 'honeydew', 'tapenade', 'bamboo shoots', 'millet', 'beans and peas', 'radishes', 'rhubarb', 'bok choy', 'jicama', 'turnips', 'melons', 'pork rinds', 'squid', 'tempeh', 'marinades', 'capers', 'barbecue sauce', 'chorizo', 'apple cider', 'tahini', 'egg salad', 'cinnamon rolls', 'ham salad', 'nacho cheese', 'pork roll', 'macadamias', 'bacon grease', 'baby carrots', 'celery root', 'spaghetti sauce', 'sunflower oil', 'almond extract', 'lemon extract', 'carrot juice', 'bean sprouts', 'macaroons', 'spaghetti squash', 'vegetable juice', 'marinated vegetables', 'teff', 'garam masala', 'fresh pasta', 'ginger root', 'breadcrumbs', 'pimento cheese', 'cooking wine', 'yuzu juice', 'radicchio', 'egg dishes', 'lobster tails', 'fruit cake', 'citrus fruit', 'watermelon', 'rutabagas', 'marshmallows', 'seafood salads', 'amaranth', 'kumquats', 'relish', 'prickly pear', 'cinnamon extract', 'crab legs', 'gelatin', 'duckling', 'nut oils', 'pumpkins', 'salad dressings', 'formula', 'soup mixes', 'bison', 'coconut flavor', 'star fruit', 'sorghum', 'doughnuts', 'pheasant', 'giblets', 'turducken', 'crab meat', 'shortening', 'ice pops', 'salad dressing', 'quark', 'hard liquors', 'egg substitutes', 'dry egg noodles', 'toaster pastries', 'seasoning blends', 'frying oil'] \n",
      "\n",
      "\n"
     ]
    },
    {
     "name": "stdout",
     "output_type": "stream",
     "text": [
      "Decreasing entityCheckCount variable by 1\n",
      "entityCheckCount =  1\n",
      "[[37  7]\n",
      " [ 4 35]]\n",
      "              precision    recall  f1-score   support\n",
      "\n",
      "           1       0.90      0.84      0.87        44\n",
      "           0       0.83      0.90      0.86        39\n",
      "\n",
      "    accuracy                           0.87        83\n",
      "   macro avg       0.87      0.87      0.87        83\n",
      "weighted avg       0.87      0.87      0.87        83\n",
      "\n",
      "Total keywords:  375\n",
      "Total Tweets:  6289\n",
      "List of Keywords:\n",
      "\n",
      " ['cheese', 'chicken', 'milk', 'butter', 'cream', 'fruit', 'rice', 'water', 'garlic', 'bread', 'sugar', 'salt', 'chocolate', 'fish', 'beef', 'yogurt', 'almond milk', 'greens', 'granola', 'nuts', 'chia seeds', 'onions', 'apples', 'peanut butter', 'squash', 'soda', 'flour', 'garlic powder', 'buttermilk', 'potatoes', 'cottage cheese', 'sour cream', 'turkey', 'beans', 'cream cheese', 'bagel', 'pretzels', 'celery', 'white wine', 'margarine', 'whipped cream', 'ice cream', 'pineapple', 'whipped topping', 'plantains', 'veal', 'mustard', 'corned beef', 'rye', 'fried chicken', 'gravy', 'tuna', 'vegetables', 'eggs', 'rotisserie chicken', 'hot dogs', 'crackers', 'dips', 'meats', 'frozen entrees', 'bacon', 'pasta', 'pizza', 'potato chips', 'avocados', 'pork', 'sunflower seeds', 'lentils', 'lean fish', 'cauliflower', 'asparagus', 'almonds', 'cooked fish', 'honey', 'kimchi', 'herbs', 'dates', 'scallops', 'yuzu', 'corn syrup', 'baking soda', 'molasses', 'yeast', 'cornmeal', 'vinegar', 'parsley', 'worcestershire sauce', 'mushrooms', 'broth', 'peppers', 'oats', 'guava', 'coconut', 'cheesecake', 'cinnamon', 'muffin', 'pies', 'tomato sauce', 'pickles', 'goat', 'lamb', 'seafood', 'olives', 'baking powder', 'sesame seeds', 'raspberries', 'cornstarch', 'hot sauce', 'grits', 'chives', 'coconut milk', 'tamarind', 'tomatoes', 'cumin', 'chili powder', 'onion powder', 'black pepper', 'pie crust', 'cooked rice', 'nutmeg', 'peas', 'refried beans', 'bananas', 'okra', 'cabbage', 'syrup', 'juice concentrates', 'basil', 'fruits', 'horseradish', 'lettuce', 'pesto', 'soy milk', 'hoisin sauce', 'sesame oil', 'peanuts', 'ham', 'bacon bits', 'chutney', 'sun dried tomatoes', 'sausage', 'coffee', 'pasta salad', 'cereal', 'grapes', 'cashews', 'tea', 'pudding', 'coconut cream', 'coconut water', 'apple juice', 'fruit cocktail', 'walnuts', 'dough', 'roasted red peppers', 'whole wheat bread', 'thyme', 'mayonnaise', 'oregano', 'leftovers', 'strawberries', 'berries', 'coleslaw', 'cilantro', 'guacamole', 'tomato paste', 'canola oil', 'mung bean', 'lemon juice', 'ghee', 'avocado oil', 'almond oil', 'grapeseed oil', 'spelt', 'lime juice', 'pure vanilla extract', 'butter flavor', 'string cheese', 'salsa', 'puff pastry', 'biscuits', 'orange juice', 'vegetable soup', 'caviar', 'pine nuts', 'coconut oil', 'quail', 'kefir', 'cookie dough', 'base', 'meat products', 'chicken parts', 'cornish hens', 'canned chicken', 'fatty fish', 'miso', 'barley', 'whole wheat flour', 'cream pies', 'quiche', 'sugar substitutes', 'cookies', 'potato salad', 'brussels sprouts', 'cherry tomatoes', 'taro', 'aioli', 'salami', 'prosciutto', 'chocolate syrup', 'pectin', 'tortillas', 'rice milk', 'coconuts', 'turkey bacon', 'black bean sauce', 'tofu', 'oyster sauce', 'rosemary', 'powdered milk', 'popcorn', 'almond butter', 'cashew butter', 'hummus', 'jerky', 'kohlrabi', 'cantaloupe', 'farro', 'lemongrass', 'canadian bacon', 'pecans', 'mint', 'hot peppers', 'swiss chard', 'cranberry sauce', 'pate', 'buckwheat', 'cheese curds', 'bratwurst', 'bulgur', 'eggplant', 'coconut flour', 'kale', 'zucchini', 'cherries', 'polenta', 'balsamic vinegar', 'anchovies', 'arugula', 'oils', 'pumpkin seeds', 'flaxseed', 'herring', 'coffee creamer', 'apple cider vinegar', 'ricotta', 'pistachios', 'beets', 'sausages', 'venison', 'leeks', 'rabbit', 'pastrami', 'chicken salad', 'dinners', 'goose', 'applesauce', 'capon', 'blueberries', 'quinoa', 'cucumbers', 'red wine', 'canned goods', 'croutons', 'soy flour', 'cooked pasta', 'edamame', 'casseroles', 'fruit pies', 'tamarind paste', 'nectar', 'duck fat', 'apricots', 'pomegranate', 'cranberries', 'cherimoya', 'kiwi fruit', 'honeydew', 'tapenade', 'bamboo shoots', 'millet', 'beans and peas', 'radishes', 'rhubarb', 'bok choy', 'jicama', 'turnips', 'melons', 'pork rinds', 'squid', 'tempeh', 'marinades', 'capers', 'barbecue sauce', 'chorizo', 'apple cider', 'tahini', 'egg salad', 'cinnamon rolls', 'ham salad', 'nacho cheese', 'pork roll', 'macadamias', 'bacon grease', 'baby carrots', 'celery root', 'spaghetti sauce', 'sunflower oil', 'almond extract', 'lemon extract', 'carrot juice', 'bean sprouts', 'macaroons', 'spaghetti squash', 'vegetable juice', 'marinated vegetables', 'teff', 'garam masala', 'fresh pasta', 'ginger root', 'breadcrumbs', 'pimento cheese', 'cooking wine', 'yuzu juice', 'radicchio', 'egg dishes', 'lobster tails', 'fruit cake', 'citrus fruit', 'watermelon', 'rutabagas', 'marshmallows', 'seafood salads', 'amaranth', 'kumquats', 'relish', 'prickly pear', 'cinnamon extract', 'crab legs', 'gelatin', 'duckling', 'nut oils', 'pumpkins', 'salad dressings', 'formula', 'soup mixes', 'bison', 'coconut flavor', 'star fruit', 'sorghum', 'doughnuts', 'pheasant', 'giblets', 'turducken', 'crab meat', 'shortening', 'ice pops', 'salad dressing', 'quark', 'hard liquors', 'egg substitutes', 'dry egg noodles', 'toaster pastries', 'seasoning blends', 'frying oil'] \n",
      "\n",
      "\n",
      "~~~~~~~~~~~~~~~~~13~~~~~~~~~~~~~~~~~\n",
      "Model loaded...\n"
     ]
    },
    {
     "name": "stderr",
     "output_type": "stream",
     "text": [
      "  9%|▉         | 1127/12783 [00:00<00:03, 3811.57it/s]"
     ]
    },
    {
     "name": "stdout",
     "output_type": "stream",
     "text": [
      "Skipping entity\n",
      "Skipping entity\n",
      "Skipping entity\n",
      "Skipping entity\n",
      "Skipping entity\n",
      "Skipping entity\n",
      "Skipping entity\n",
      "Skipping entity\n",
      "Skipping entity\n",
      "Skipping entity\n",
      "Skipping entity\n",
      "Skipping entity\n",
      "Skipping entity\n",
      "Skipping entity\n",
      "Skipping entity\n",
      "Skipping entity\n"
     ]
    },
    {
     "name": "stderr",
     "output_type": "stream",
     "text": [
      " 18%|█▊        | 2359/12783 [00:00<00:02, 4044.59it/s]"
     ]
    },
    {
     "name": "stdout",
     "output_type": "stream",
     "text": [
      "Skipping entity\n",
      "Skipping entity\n",
      "Skipping entity\n",
      "Skipping entity\n",
      "Skipping entity\n",
      "Skipping entity\n",
      "Skipping entity\n",
      "Skipping entity\n",
      "Skipping entity\n",
      "Skipping entity\n",
      "Skipping entity\n",
      "Skipping entity\n",
      "Skipping entity\n",
      "Skipping entity\n",
      "Skipping entity\n",
      "Skipping entity\n",
      "Skipping entity\n",
      "Skipping entity\n",
      "Skipping entity\n",
      "Skipping entity\n"
     ]
    },
    {
     "name": "stderr",
     "output_type": "stream",
     "text": [
      " 26%|██▌       | 3274/12783 [00:00<00:02, 4312.92it/s]"
     ]
    },
    {
     "name": "stdout",
     "output_type": "stream",
     "text": [
      "Skipping entity\n",
      "Skipping entity\n",
      "Skipping entity\n",
      "Skipping entity\n",
      "Skipping entity\n",
      "Skipping entity\n",
      "Skipping entity\n",
      "Skipping entity\n",
      "Skipping entity\n",
      "Skipping entity\n",
      "Skipping entity\n",
      "Skipping entity\n",
      "Skipping entity\n",
      "Skipping entity\n",
      "Skipping entity\n",
      "Skipping entity\n",
      "Skipping entity\n",
      "Skipping entity\n",
      "Skipping entity\n",
      "Skipping entity\n",
      "Skipping entity\n",
      "Skipping entity\n",
      "Skipping entity\n"
     ]
    },
    {
     "name": "stderr",
     "output_type": "stream",
     "text": [
      " 37%|███▋      | 4715/12783 [00:01<00:01, 4608.29it/s]"
     ]
    },
    {
     "name": "stdout",
     "output_type": "stream",
     "text": [
      "Skipping entity\n",
      "Skipping entity\n",
      "Skipping entity\n",
      "Skipping entity\n",
      "Skipping entity\n",
      "Skipping entity\n",
      "Skipping entity\n",
      "Skipping entity\n",
      "Skipping entity\n",
      "Skipping entity\n",
      "Skipping entity\n",
      "Skipping entity\n",
      "Skipping entity\n",
      "Skipping entity\n",
      "Skipping entity\n",
      "Skipping entity\n",
      "Skipping entity\n",
      "Skipping entity\n",
      "Skipping entity\n",
      "Skipping entity\n",
      "Skipping entity\n",
      "Skipping entity\n"
     ]
    },
    {
     "name": "stderr",
     "output_type": "stream",
     "text": [
      " 54%|█████▎    | 6842/12783 [00:01<00:01, 5162.73it/s]"
     ]
    },
    {
     "name": "stdout",
     "output_type": "stream",
     "text": [
      "Skipping entity\n",
      "Skipping entity\n",
      "Skipping entity\n",
      "Skipping entity\n",
      "Skipping entity\n",
      "Skipping entity\n",
      "Skipping entity\n",
      "Skipping entity\n",
      "Skipping entity\n",
      "Skipping entity\n",
      "Skipping entity\n",
      "Skipping entity\n",
      "Skipping entity\n",
      "Skipping entity\n",
      "Skipping entity\n",
      "Skipping entity\n",
      "Skipping entity\n",
      "Skipping entity\n",
      "Skipping entity\n",
      "Skipping entity\n",
      "Skipping entity\n",
      "Skipping entity\n",
      "Skipping entity\n",
      "Skipping entity\n",
      "Skipping entity\n",
      "Skipping entity\n"
     ]
    },
    {
     "name": "stderr",
     "output_type": "stream",
     "text": [
      " 62%|██████▏   | 7988/12783 [00:01<00:00, 5449.26it/s]"
     ]
    },
    {
     "name": "stdout",
     "output_type": "stream",
     "text": [
      "Skipping entity\n",
      "Skipping entity\n",
      "Skipping entity\n",
      "Skipping entity\n",
      "Skipping entity\n",
      "Skipping entity\n",
      "Skipping entity\n",
      "Skipping entity\n",
      "Skipping entity\n",
      "Skipping entity\n",
      "Skipping entity\n",
      "Skipping entity\n",
      "Skipping entity\n",
      "Skipping entity\n",
      "Skipping entity\n",
      "Skipping entity\n",
      "Skipping entity\n",
      "Skipping entity\n",
      "Skipping entity\n",
      "Skipping entity\n",
      "Skipping entity\n",
      "Skipping entity\n",
      "Skipping entity\n",
      "Skipping entity\n",
      "Skipping entity\n",
      "Skipping entity\n",
      "Skipping entity\n",
      "Skipping entity\n"
     ]
    },
    {
     "name": "stderr",
     "output_type": "stream",
     "text": [
      " 79%|███████▉  | 10159/12783 [00:02<00:00, 5307.46it/s]"
     ]
    },
    {
     "name": "stdout",
     "output_type": "stream",
     "text": [
      "Skipping entity\n",
      "Skipping entity\n",
      "Skipping entity\n",
      "Skipping entity\n",
      "Skipping entity\n",
      "Skipping entity\n",
      "Skipping entity\n",
      "Skipping entity\n",
      "Skipping entity\n",
      "Skipping entity\n",
      "Skipping entity\n",
      "Skipping entity\n",
      "Skipping entity\n",
      "Skipping entity\n",
      "Skipping entity\n",
      "Skipping entity\n",
      "Skipping entity\n",
      "Skipping entity\n",
      "Skipping entity\n"
     ]
    },
    {
     "name": "stderr",
     "output_type": "stream",
     "text": [
      " 92%|█████████▏| 11760/12783 [00:02<00:00, 5286.74it/s]"
     ]
    },
    {
     "name": "stdout",
     "output_type": "stream",
     "text": [
      "Skipping entity\n",
      "Skipping entity\n",
      "Skipping entity\n",
      "Skipping entity\n",
      "Skipping entity\n",
      "Skipping entity\n",
      "Skipping entity\n",
      "Skipping entity\n",
      "Skipping entity\n",
      "Skipping entity\n",
      "Skipping entity\n",
      "Skipping entity\n",
      "Skipping entity\n",
      "Skipping entity\n",
      "Skipping entity\n",
      "Skipping entity\n",
      "Skipping entity\n",
      "Skipping entity\n",
      "Skipping entity\n",
      "Skipping entity\n",
      "Skipping entity\n"
     ]
    },
    {
     "name": "stderr",
     "output_type": "stream",
     "text": [
      "100%|██████████| 12783/12783 [00:02<00:00, 4883.78it/s]"
     ]
    },
    {
     "name": "stdout",
     "output_type": "stream",
     "text": [
      "Skipping entity\n",
      "Skipping entity\n",
      "Skipping entity\n",
      "Skipping entity\n",
      "Skipping entity\n",
      "Skipping entity\n",
      "Skipping entity\n",
      "Skipping entity\n",
      "Skipping entity\n",
      "Skipping entity\n",
      "Skipping entity\n",
      "Skipping entity\n",
      "Skipping entity\n",
      "Skipping entity\n",
      "Skipping entity\n",
      "Skipping entity\n",
      "Skipping entity\n",
      "Skipping entity\n",
      "Skipping entity\n",
      "Skipping entity\n",
      "Skipping entity\n",
      "Skipping entity\n"
     ]
    },
    {
     "name": "stderr",
     "output_type": "stream",
     "text": [
      "\n"
     ]
    },
    {
     "name": "stdout",
     "output_type": "stream",
     "text": [
      "[i] Saving to output directory: output\n",
      "[i] Using CPU\n",
      "\u001b[1m\n",
      "=========================== Initializing pipeline ===========================\u001b[0m\n",
      "[+] Initialized pipeline\n",
      "\u001b[1m\n",
      "============================= Training pipeline =============================\u001b[0m\n",
      "[i] Pipeline: ['tok2vec', 'ner']\n",
      "[i] Initial learn rate: 0.001\n",
      "E    #       LOSS TOK2VEC  LOSS NER  ENTS_F  ENTS_P  ENTS_R  SCORE \n",
      "---  ------  ------------  --------  ------  ------  ------  ------\n",
      "  0       0          0.00     30.33    0.00    0.00    0.00    0.00\n",
      "  0     200         82.57   2399.29   72.75   81.02   66.02    0.73\n",
      "  0     400         70.26   1252.15   84.67   80.48   89.31    0.85\n",
      "  0     600         67.85   1249.39   87.50   82.34   93.36    0.88\n",
      "  0     800         77.50   1357.19   88.66   83.07   95.05    0.89\n",
      "  0    1000         78.73   1593.03   90.27   85.48   95.63    0.90\n",
      "  0    1200         87.31   1657.41   91.23   87.40   95.41    0.91\n",
      "  0    1400        106.24   1984.89   92.21   87.83   97.05    0.92\n",
      "  0    1600        120.91   2306.28   92.28   87.68   97.39    0.92\n",
      "  1    1800        132.43   2571.55   92.95   88.57   97.78    0.93\n",
      "  1    2000        191.49   2965.04   93.69   90.48   97.14    0.94\n",
      "  1    2200        193.99   3481.58   94.22   91.32   97.30    0.94\n",
      "  2    2400        269.95   3510.77   94.48   91.17   98.05    0.94\n",
      "  2    2600        303.68   3647.88   95.52   93.56   97.57    0.96\n",
      "  3    2800        365.85   3183.69   95.68   92.94   98.59    0.96\n",
      "  3    3000        330.40   3043.20   95.90   93.21   98.75    0.96\n",
      "  4    3200        384.49   2736.39   96.63   95.08   98.23    0.97\n",
      "  4    3400        473.00   2735.89   96.73   94.95   98.58    0.97\n",
      "  5    3600        379.31   2359.73   97.15   95.89   98.44    0.97\n",
      "  5    3800        450.76   2438.79   97.27   95.57   99.04    0.97\n",
      "  6    4000        464.35   2158.45   97.69   96.87   98.54    0.98\n",
      "  6    4200        495.17   2126.60   97.76   96.69   98.86    0.98\n",
      "  7    4400        531.73   1857.60   97.87   96.63   99.14    0.98\n",
      "  7    4600        544.22   1925.42   98.13   97.67   98.61    0.98\n",
      "  8    4800        735.80   1652.66   98.16   97.26   99.09    0.98\n",
      "  8    5000        791.54   1703.68   98.54   97.94   99.15    0.99\n",
      "  9    5200        565.64   1567.36   98.60   98.04   99.17    0.99\n",
      "  9    5400        578.31   1577.25   98.72   98.10   99.35    0.99\n",
      " 10    5600        598.08   1420.64   98.51   97.43   99.63    0.99\n",
      " 10    5800        582.69   1397.03   98.85   98.30   99.40    0.99\n",
      " 11    6000        606.17   1290.09   98.89   98.36   99.43    0.99\n",
      " 11    6200        631.45   1291.78   99.08   98.85   99.32    0.99\n",
      " 12    6400        666.81   1238.94   99.00   98.52   99.48    0.99\n",
      " 12    6600        603.01   1160.35   99.14   99.16   99.13    0.99\n",
      " 13    6800        686.82   1136.64   99.21   98.94   99.48    0.99\n",
      " 13    7000        663.18   1113.05   99.25   99.35   99.15    0.99\n",
      " 14    7200        652.95   1040.49   99.42   99.16   99.68    0.99\n",
      " 14    7400        691.09   1047.12   99.25   98.79   99.72    0.99\n",
      " 15    7600        677.61    954.26   99.33   98.90   99.76    0.99\n",
      " 15    7800        683.17    919.07   99.46   99.26   99.66    0.99\n",
      " 16    8000        744.18    910.36   99.39   99.04   99.74    0.99\n",
      " 16    8200        758.41    874.98   99.29   98.81   99.79    0.99\n",
      " 17    8400        649.73    854.38   99.55   99.49   99.61    1.00\n",
      " 17    8600        701.60    819.40   99.54   99.35   99.74    1.00\n",
      " 18    8800        737.90    828.76   99.59   99.40   99.77    1.00\n",
      " 18    9000        687.72    780.85   99.42   99.03   99.82    0.99\n",
      " 19    9200        745.41    792.68   99.47   99.18   99.76    0.99\n",
      " 19    9400        721.39    759.22   99.54   99.29   99.78    1.00\n",
      " 20    9600        719.42    727.95   99.39   99.06   99.71    0.99\n",
      " 20    9800        882.78    767.07   99.66   99.65   99.67    1.00\n",
      " 21   10000        728.99    731.64   99.56   99.41   99.72    1.00\n",
      " 21   10200        819.72    672.25   99.66   99.64   99.68    1.00\n",
      " 22   10400        792.30    690.25   99.70   99.72   99.67    1.00\n",
      " 22   10600        786.07    633.17   99.63   99.40   99.86    1.00\n",
      " 23   10800        693.78    665.72   99.67   99.53   99.81    1.00\n",
      " 23   11000        853.01    662.30   99.65   99.41   99.89    1.00\n",
      " 24   11200        793.61    645.68   99.66   99.45   99.86    1.00\n",
      " 24   11400        856.17    615.63   99.72   99.63   99.80    1.00\n",
      " 25   11600        884.06    626.87   99.73   99.71   99.75    1.00\n",
      " 25   11800        920.81    584.69   99.75   99.81   99.70    1.00\n",
      " 26   12000        824.19    630.49   99.72   99.79   99.65    1.00\n",
      " 26   12200        865.75    564.96   99.72   99.63   99.82    1.00\n",
      " 27   12400       1034.85    632.18   99.72   99.76   99.68    1.00\n",
      " 27   12600        869.25    601.42   99.78   99.75   99.81    1.00\n",
      " 28   12800        805.87    543.87   99.75   99.62   99.89    1.00\n",
      " 28   13000        861.20    523.84   99.74   99.58   99.90    1.00\n",
      " 29   13200        861.37    579.30   99.76   99.66   99.86    1.00\n",
      " 29   13400        947.56    551.80   99.76   99.66   99.86    1.00\n",
      " 30   13600        890.70    552.44   99.68   99.79   99.58    1.00\n",
      " 30   13800        803.67    478.31   99.77   99.81   99.73    1.00\n",
      " 31   14000        828.60    508.30   99.80   99.84   99.76    1.00\n",
      " 31   14200        954.97    492.78   99.75   99.73   99.77    1.00\n",
      " 32   14400       1099.48    508.33   99.74   99.58   99.90    1.00\n",
      " 32   14600       1137.62    446.56   99.79   99.83   99.76    1.00\n",
      " 33   14800        997.67    569.29   99.82   99.69   99.94    1.00\n",
      " 33   15000        924.76    460.08   99.81   99.76   99.86    1.00\n",
      " 34   15200       1082.53    526.58   99.79   99.83   99.74    1.00\n",
      " 34   15400        935.14    462.58   99.81   99.76   99.86    1.00\n",
      " 35   15600        945.89    488.25   99.85   99.80   99.90    1.00\n",
      " 35   15800        952.64    425.03   99.79   99.75   99.84    1.00\n",
      " 36   16000        988.03    524.23   99.88   99.83   99.92    1.00\n",
      " 36   16200        908.53    425.36   99.77   99.70   99.85    1.00\n",
      " 37   16400       1101.73    471.43   99.87   99.82   99.93    1.00\n",
      " 37   16600       1078.06    420.31   99.82   99.79   99.85    1.00\n",
      " 37   16800       1012.28    445.48   99.82   99.66   99.98    1.00\n",
      " 38   17000       1197.22    387.59   99.78   99.68   99.89    1.00\n",
      " 38   17200       1507.46    476.19   99.87   99.81   99.92    1.00\n",
      " 39   17400       1175.64    439.56   99.81   99.67   99.94    1.00\n",
      " 39   17600       1157.47    437.52   99.80   99.65   99.95    1.00\n",
      "[+] Saved pipeline to output directory\n",
      "output\\model-last\n",
      "\n",
      "Total keywords:  375\n",
      "List of Keywords:\n",
      "\n",
      " ['cheese', 'chicken', 'milk', 'butter', 'cream', 'fruit', 'rice', 'water', 'garlic', 'bread', 'sugar', 'salt', 'chocolate', 'fish', 'beef', 'yogurt', 'almond milk', 'greens', 'granola', 'nuts', 'chia seeds', 'onions', 'apples', 'peanut butter', 'squash', 'soda', 'flour', 'garlic powder', 'buttermilk', 'potatoes', 'cottage cheese', 'sour cream', 'turkey', 'beans', 'cream cheese', 'bagel', 'pretzels', 'celery', 'white wine', 'margarine', 'whipped cream', 'ice cream', 'pineapple', 'whipped topping', 'plantains', 'veal', 'mustard', 'corned beef', 'rye', 'fried chicken', 'gravy', 'tuna', 'vegetables', 'eggs', 'rotisserie chicken', 'hot dogs', 'crackers', 'dips', 'meats', 'frozen entrees', 'bacon', 'pasta', 'pizza', 'potato chips', 'avocados', 'pork', 'sunflower seeds', 'lentils', 'lean fish', 'cauliflower', 'asparagus', 'almonds', 'cooked fish', 'honey', 'kimchi', 'herbs', 'dates', 'scallops', 'yuzu', 'corn syrup', 'baking soda', 'molasses', 'yeast', 'cornmeal', 'vinegar', 'parsley', 'worcestershire sauce', 'mushrooms', 'broth', 'peppers', 'oats', 'guava', 'coconut', 'cheesecake', 'cinnamon', 'muffin', 'pies', 'tomato sauce', 'pickles', 'goat', 'lamb', 'seafood', 'olives', 'baking powder', 'sesame seeds', 'raspberries', 'cornstarch', 'hot sauce', 'grits', 'chives', 'coconut milk', 'tamarind', 'tomatoes', 'cumin', 'chili powder', 'onion powder', 'black pepper', 'pie crust', 'cooked rice', 'nutmeg', 'peas', 'refried beans', 'bananas', 'okra', 'cabbage', 'syrup', 'juice concentrates', 'basil', 'fruits', 'horseradish', 'lettuce', 'pesto', 'soy milk', 'hoisin sauce', 'sesame oil', 'peanuts', 'ham', 'bacon bits', 'chutney', 'sun dried tomatoes', 'sausage', 'coffee', 'pasta salad', 'cereal', 'grapes', 'cashews', 'tea', 'pudding', 'coconut cream', 'coconut water', 'apple juice', 'fruit cocktail', 'walnuts', 'dough', 'roasted red peppers', 'whole wheat bread', 'thyme', 'mayonnaise', 'oregano', 'leftovers', 'strawberries', 'berries', 'coleslaw', 'cilantro', 'guacamole', 'tomato paste', 'canola oil', 'mung bean', 'lemon juice', 'ghee', 'avocado oil', 'almond oil', 'grapeseed oil', 'spelt', 'lime juice', 'pure vanilla extract', 'butter flavor', 'string cheese', 'salsa', 'puff pastry', 'biscuits', 'orange juice', 'vegetable soup', 'caviar', 'pine nuts', 'coconut oil', 'quail', 'kefir', 'cookie dough', 'base', 'meat products', 'chicken parts', 'cornish hens', 'canned chicken', 'fatty fish', 'miso', 'barley', 'whole wheat flour', 'cream pies', 'quiche', 'sugar substitutes', 'cookies', 'potato salad', 'brussels sprouts', 'cherry tomatoes', 'taro', 'aioli', 'salami', 'prosciutto', 'chocolate syrup', 'pectin', 'tortillas', 'rice milk', 'coconuts', 'turkey bacon', 'black bean sauce', 'tofu', 'oyster sauce', 'rosemary', 'powdered milk', 'popcorn', 'almond butter', 'cashew butter', 'hummus', 'jerky', 'kohlrabi', 'cantaloupe', 'farro', 'lemongrass', 'canadian bacon', 'pecans', 'mint', 'hot peppers', 'swiss chard', 'cranberry sauce', 'pate', 'buckwheat', 'cheese curds', 'bratwurst', 'bulgur', 'eggplant', 'coconut flour', 'kale', 'zucchini', 'cherries', 'polenta', 'balsamic vinegar', 'anchovies', 'arugula', 'oils', 'pumpkin seeds', 'flaxseed', 'herring', 'coffee creamer', 'apple cider vinegar', 'ricotta', 'pistachios', 'beets', 'sausages', 'venison', 'leeks', 'rabbit', 'pastrami', 'chicken salad', 'dinners', 'goose', 'applesauce', 'capon', 'blueberries', 'quinoa', 'cucumbers', 'red wine', 'canned goods', 'croutons', 'soy flour', 'cooked pasta', 'edamame', 'casseroles', 'fruit pies', 'tamarind paste', 'nectar', 'duck fat', 'apricots', 'pomegranate', 'cranberries', 'cherimoya', 'kiwi fruit', 'honeydew', 'tapenade', 'bamboo shoots', 'millet', 'beans and peas', 'radishes', 'rhubarb', 'bok choy', 'jicama', 'turnips', 'melons', 'pork rinds', 'squid', 'tempeh', 'marinades', 'capers', 'barbecue sauce', 'chorizo', 'apple cider', 'tahini', 'egg salad', 'cinnamon rolls', 'ham salad', 'nacho cheese', 'pork roll', 'macadamias', 'bacon grease', 'baby carrots', 'celery root', 'spaghetti sauce', 'sunflower oil', 'almond extract', 'lemon extract', 'carrot juice', 'bean sprouts', 'macaroons', 'spaghetti squash', 'vegetable juice', 'marinated vegetables', 'teff', 'garam masala', 'fresh pasta', 'ginger root', 'breadcrumbs', 'pimento cheese', 'cooking wine', 'yuzu juice', 'radicchio', 'egg dishes', 'lobster tails', 'fruit cake', 'citrus fruit', 'watermelon', 'rutabagas', 'marshmallows', 'seafood salads', 'amaranth', 'kumquats', 'relish', 'prickly pear', 'cinnamon extract', 'crab legs', 'gelatin', 'duckling', 'nut oils', 'pumpkins', 'salad dressings', 'formula', 'soup mixes', 'bison', 'coconut flavor', 'star fruit', 'sorghum', 'doughnuts', 'pheasant', 'giblets', 'turducken', 'crab meat', 'shortening', 'ice pops', 'salad dressing', 'quark', 'hard liquors', 'egg substitutes', 'dry egg noodles', 'toaster pastries', 'seasoning blends', 'frying oil'] \n",
      "\n",
      "\n"
     ]
    },
    {
     "name": "stdout",
     "output_type": "stream",
     "text": [
      "[[37  7]\n",
      " [ 3 36]]\n",
      "              precision    recall  f1-score   support\n",
      "\n",
      "           1       0.93      0.84      0.88        44\n",
      "           0       0.84      0.92      0.88        39\n",
      "\n",
      "    accuracy                           0.88        83\n",
      "   macro avg       0.88      0.88      0.88        83\n",
      "weighted avg       0.88      0.88      0.88        83\n",
      "\n",
      "Total keywords:  385\n",
      "Total Tweets:  12783\n",
      "List of Keywords:\n",
      "\n",
      " ['cheese', 'chicken', 'milk', 'butter', 'cream', 'fruit', 'rice', 'water', 'garlic', 'bread', 'sugar', 'salt', 'chocolate', 'fish', 'beef', 'yogurt', 'almond milk', 'greens', 'granola', 'nuts', 'chia seeds', 'onions', 'apples', 'peanut butter', 'squash', 'soda', 'flour', 'garlic powder', 'buttermilk', 'potatoes', 'cottage cheese', 'sour cream', 'turkey', 'beans', 'cream cheese', 'bagel', 'pretzels', 'celery', 'white wine', 'margarine', 'whipped cream', 'ice cream', 'pineapple', 'whipped topping', 'plantains', 'veal', 'mustard', 'corned beef', 'rye', 'fried chicken', 'gravy', 'tuna', 'vegetables', 'eggs', 'rotisserie chicken', 'hot dogs', 'crackers', 'dips', 'meats', 'frozen entrees', 'bacon', 'pasta', 'pizza', 'potato chips', 'avocados', 'pork', 'sunflower seeds', 'lentils', 'lean fish', 'cauliflower', 'asparagus', 'almonds', 'cooked fish', 'honey', 'kimchi', 'herbs', 'dates', 'scallops', 'yuzu', 'corn syrup', 'baking soda', 'molasses', 'yeast', 'cornmeal', 'vinegar', 'parsley', 'worcestershire sauce', 'mushrooms', 'broth', 'peppers', 'oats', 'guava', 'coconut', 'cheesecake', 'cinnamon', 'muffin', 'pies', 'tomato sauce', 'pickles', 'goat', 'lamb', 'seafood', 'olives', 'baking powder', 'sesame seeds', 'raspberries', 'cornstarch', 'hot sauce', 'grits', 'chives', 'coconut milk', 'tamarind', 'tomatoes', 'cumin', 'chili powder', 'onion powder', 'black pepper', 'pie crust', 'cooked rice', 'nutmeg', 'peas', 'refried beans', 'bananas', 'okra', 'cabbage', 'syrup', 'juice concentrates', 'basil', 'fruits', 'horseradish', 'lettuce', 'pesto', 'soy milk', 'hoisin sauce', 'sesame oil', 'peanuts', 'ham', 'bacon bits', 'chutney', 'sun dried tomatoes', 'sausage', 'coffee', 'pasta salad', 'cereal', 'grapes', 'cashews', 'tea', 'pudding', 'coconut cream', 'coconut water', 'apple juice', 'fruit cocktail', 'walnuts', 'dough', 'roasted red peppers', 'whole wheat bread', 'thyme', 'mayonnaise', 'oregano', 'leftovers', 'strawberries', 'berries', 'coleslaw', 'cilantro', 'guacamole', 'tomato paste', 'canola oil', 'mung bean', 'lemon juice', 'ghee', 'avocado oil', 'almond oil', 'grapeseed oil', 'spelt', 'lime juice', 'pure vanilla extract', 'butter flavor', 'string cheese', 'salsa', 'puff pastry', 'biscuits', 'orange juice', 'vegetable soup', 'caviar', 'pine nuts', 'coconut oil', 'quail', 'kefir', 'cookie dough', 'base', 'meat products', 'chicken parts', 'cornish hens', 'canned chicken', 'fatty fish', 'miso', 'barley', 'whole wheat flour', 'cream pies', 'quiche', 'sugar substitutes', 'cookies', 'potato salad', 'brussels sprouts', 'cherry tomatoes', 'taro', 'aioli', 'salami', 'prosciutto', 'chocolate syrup', 'pectin', 'tortillas', 'rice milk', 'coconuts', 'turkey bacon', 'black bean sauce', 'tofu', 'oyster sauce', 'rosemary', 'powdered milk', 'popcorn', 'almond butter', 'cashew butter', 'hummus', 'jerky', 'kohlrabi', 'cantaloupe', 'farro', 'lemongrass', 'canadian bacon', 'pecans', 'mint', 'hot peppers', 'swiss chard', 'cranberry sauce', 'pate', 'buckwheat', 'cheese curds', 'bratwurst', 'bulgur', 'eggplant', 'coconut flour', 'kale', 'zucchini', 'cherries', 'polenta', 'balsamic vinegar', 'anchovies', 'arugula', 'oils', 'pumpkin seeds', 'flaxseed', 'herring', 'coffee creamer', 'apple cider vinegar', 'ricotta', 'pistachios', 'beets', 'sausages', 'venison', 'leeks', 'rabbit', 'pastrami', 'chicken salad', 'dinners', 'goose', 'applesauce', 'capon', 'blueberries', 'quinoa', 'cucumbers', 'red wine', 'canned goods', 'croutons', 'soy flour', 'cooked pasta', 'edamame', 'casseroles', 'fruit pies', 'tamarind paste', 'nectar', 'duck fat', 'apricots', 'pomegranate', 'cranberries', 'cherimoya', 'kiwi fruit', 'honeydew', 'tapenade', 'bamboo shoots', 'millet', 'beans and peas', 'radishes', 'rhubarb', 'bok choy', 'jicama', 'turnips', 'melons', 'pork rinds', 'squid', 'tempeh', 'marinades', 'capers', 'barbecue sauce', 'chorizo', 'apple cider', 'tahini', 'egg salad', 'cinnamon rolls', 'ham salad', 'nacho cheese', 'pork roll', 'macadamias', 'bacon grease', 'baby carrots', 'celery root', 'spaghetti sauce', 'sunflower oil', 'almond extract', 'lemon extract', 'carrot juice', 'bean sprouts', 'macaroons', 'spaghetti squash', 'vegetable juice', 'marinated vegetables', 'teff', 'garam masala', 'fresh pasta', 'ginger root', 'breadcrumbs', 'pimento cheese', 'cooking wine', 'yuzu juice', 'radicchio', 'egg dishes', 'lobster tails', 'fruit cake', 'citrus fruit', 'watermelon', 'rutabagas', 'marshmallows', 'seafood salads', 'amaranth', 'kumquats', 'relish', 'prickly pear', 'cinnamon extract', 'crab legs', 'gelatin', 'duckling', 'nut oils', 'pumpkins', 'salad dressings', 'formula', 'soup mixes', 'bison', 'coconut flavor', 'star fruit', 'sorghum', 'doughnuts', 'pheasant', 'giblets', 'turducken', 'crab meat', 'shortening', 'ice pops', 'salad dressing', 'quark', 'hard liquors', 'egg substitutes', 'dry egg noodles', 'toaster pastries', 'seasoning blends', 'frying oil', 'eggnog', 'variety meats', 'tapiocas', 'frozen potato products', 'frozen pretzels', 'sauce mixes', 'pudding mixes', 'bagged greens', 'vegan cheddar cheese', 'kugel'] \n",
      "\n",
      "\n",
      "~~~~~~~~~~~~~~~~~14~~~~~~~~~~~~~~~~~\n",
      "Model loaded...\n"
     ]
    },
    {
     "name": "stderr",
     "output_type": "stream",
     "text": [
      "  9%|▉         | 1145/12355 [00:00<00:02, 3886.79it/s]"
     ]
    },
    {
     "name": "stdout",
     "output_type": "stream",
     "text": [
      "Skipping entity\n",
      "Skipping entity\n",
      "Skipping entity\n",
      "Skipping entity\n",
      "Skipping entity\n",
      "Skipping entity\n",
      "Skipping entity\n",
      "Skipping entity\n",
      "Skipping entity\n",
      "Skipping entity\n",
      "Skipping entity\n"
     ]
    },
    {
     "name": "stderr",
     "output_type": "stream",
     "text": [
      " 16%|█▌        | 1982/12355 [00:00<00:02, 4081.29it/s]"
     ]
    },
    {
     "name": "stdout",
     "output_type": "stream",
     "text": [
      "Skipping entity\n",
      "Skipping entity\n",
      "Skipping entity\n",
      "Skipping entity\n",
      "Skipping entity\n",
      "Skipping entity\n",
      "Skipping entity\n",
      "Skipping entity\n",
      "Skipping entity\n",
      "Skipping entity\n",
      "Skipping entity\n",
      "Skipping entity\n",
      "Skipping entity\n",
      "Skipping entity\n",
      "Skipping entity\n",
      "Skipping entity\n"
     ]
    },
    {
     "name": "stderr",
     "output_type": "stream",
     "text": [
      " 27%|██▋       | 3354/12355 [00:00<00:02, 4405.16it/s]"
     ]
    },
    {
     "name": "stdout",
     "output_type": "stream",
     "text": [
      "Skipping entity\n",
      "Skipping entity\n",
      "Skipping entity\n",
      "Skipping entity\n",
      "Skipping entity\n",
      "Skipping entity\n",
      "Skipping entity\n",
      "Skipping entity\n",
      "Skipping entity\n",
      "Skipping entity\n",
      "Skipping entity\n",
      "Skipping entity\n",
      "Skipping entity\n",
      "Skipping entity\n",
      "Skipping entity\n",
      "Skipping entity\n",
      "Skipping entity\n",
      "Skipping entity\n"
     ]
    },
    {
     "name": "stderr",
     "output_type": "stream",
     "text": [
      " 43%|████▎     | 5360/12355 [00:01<00:01, 4874.56it/s]"
     ]
    },
    {
     "name": "stdout",
     "output_type": "stream",
     "text": [
      "Skipping entity\n",
      "Skipping entity\n",
      "Skipping entity\n",
      "Skipping entity\n",
      "Skipping entity\n",
      "Skipping entity\n",
      "Skipping entity\n",
      "Skipping entity\n",
      "Skipping entity\n",
      "Skipping entity\n",
      "Skipping entity\n",
      "Skipping entity\n",
      "Skipping entity\n",
      "Skipping entity\n",
      "Skipping entity\n",
      "Skipping entity\n",
      "Skipping entity\n",
      "Skipping entity\n"
     ]
    },
    {
     "name": "stderr",
     "output_type": "stream",
     "text": [
      " 57%|█████▋    | 6982/12355 [00:01<00:01, 5233.03it/s]"
     ]
    },
    {
     "name": "stdout",
     "output_type": "stream",
     "text": [
      "Skipping entity\n",
      "Skipping entity\n",
      "Skipping entity\n",
      "Skipping entity\n",
      "Skipping entity\n",
      "Skipping entity\n",
      "Skipping entity\n",
      "Skipping entity\n",
      "Skipping entity\n",
      "Skipping entity\n",
      "Skipping entity\n",
      "Skipping entity\n",
      "Skipping entity\n",
      "Skipping entity\n",
      "Skipping entity\n",
      "Skipping entity\n",
      "Skipping entity\n",
      "Skipping entity\n",
      "Skipping entity\n",
      "Skipping entity\n",
      "Skipping entity\n",
      "Skipping entity\n",
      "Skipping entity\n",
      "Skipping entity\n",
      "Skipping entity\n",
      "Skipping entity\n",
      "Skipping entity\n"
     ]
    },
    {
     "name": "stderr",
     "output_type": "stream",
     "text": [
      " 66%|██████▌   | 8133/12355 [00:01<00:00, 5468.52it/s]"
     ]
    },
    {
     "name": "stdout",
     "output_type": "stream",
     "text": [
      "Skipping entity\n",
      "Skipping entity\n",
      "Skipping entity\n",
      "Skipping entity\n",
      "Skipping entity\n",
      "Skipping entity\n",
      "Skipping entity\n",
      "Skipping entity\n",
      "Skipping entity\n",
      "Skipping entity\n",
      "Skipping entity\n",
      "Skipping entity\n",
      "Skipping entity\n",
      "Skipping entity\n",
      "Skipping entity\n",
      "Skipping entity\n"
     ]
    },
    {
     "name": "stderr",
     "output_type": "stream",
     "text": [
      " 79%|███████▉  | 9780/12355 [00:02<00:00, 5287.28it/s]"
     ]
    },
    {
     "name": "stdout",
     "output_type": "stream",
     "text": [
      "Skipping entity\n",
      "Skipping entity\n",
      "Skipping entity\n",
      "Skipping entity\n",
      "Skipping entity\n",
      "Skipping entity\n",
      "Skipping entity\n",
      "Skipping entity\n",
      "Skipping entity\n",
      "Skipping entity\n",
      "Skipping entity\n",
      "Skipping entity\n",
      "Skipping entity\n",
      "Skipping entity\n",
      "Skipping entity\n",
      "Skipping entity\n",
      "Skipping entity\n",
      "Skipping entity\n",
      "Skipping entity\n"
     ]
    },
    {
     "name": "stderr",
     "output_type": "stream",
     "text": [
      " 92%|█████████▏| 11391/12355 [00:02<00:00, 5323.60it/s]"
     ]
    },
    {
     "name": "stdout",
     "output_type": "stream",
     "text": [
      "Skipping entity\n",
      "Skipping entity\n",
      "Skipping entity\n",
      "Skipping entity\n",
      "Skipping entity\n",
      "Skipping entity\n",
      "Skipping entity\n",
      "Skipping entity\n",
      "Skipping entity\n",
      "Skipping entity\n",
      "Skipping entity\n",
      "Skipping entity\n",
      "Skipping entity\n",
      "Skipping entity\n",
      "Skipping entity\n"
     ]
    },
    {
     "name": "stderr",
     "output_type": "stream",
     "text": [
      "100%|██████████| 12355/12355 [00:02<00:00, 4929.57it/s]"
     ]
    },
    {
     "name": "stdout",
     "output_type": "stream",
     "text": [
      "Skipping entity\n",
      "Skipping entity\n",
      "Skipping entity\n",
      "Skipping entity\n",
      "Skipping entity\n",
      "Skipping entity\n",
      "Skipping entity\n",
      "Skipping entity\n",
      "Skipping entity\n",
      "Skipping entity\n",
      "Skipping entity\n",
      "Skipping entity\n",
      "Skipping entity\n",
      "Skipping entity\n",
      "Skipping entity\n",
      "Skipping entity\n",
      "Skipping entity\n"
     ]
    },
    {
     "name": "stderr",
     "output_type": "stream",
     "text": [
      "\n"
     ]
    },
    {
     "name": "stdout",
     "output_type": "stream",
     "text": [
      "[i] Saving to output directory: output\n",
      "[i] Using CPU\n",
      "\u001b[1m\n",
      "=========================== Initializing pipeline ===========================\u001b[0m\n",
      "[+] Initialized pipeline\n",
      "\u001b[1m\n",
      "============================= Training pipeline =============================\u001b[0m\n",
      "[i] Pipeline: ['tok2vec', 'ner']\n",
      "[i] Initial learn rate: 0.001\n",
      "E    #       LOSS TOK2VEC  LOSS NER  ENTS_F  ENTS_P  ENTS_R  SCORE \n",
      "---  ------  ------------  --------  ------  ------  ------  ------\n",
      "  0       0          0.00     38.50    0.00    0.00    0.00    0.00\n",
      "  0     200         72.30   2485.37   74.89   76.97   72.93    0.75\n",
      "  0     400         66.15   1302.31   85.83   81.75   90.33    0.86\n",
      "  0     600         69.20   1264.43   87.27   82.45   92.68    0.87\n",
      "  0     800         78.99   1260.53   90.43   85.88   95.49    0.90\n",
      "  0    1000         80.60   1535.29   91.60   87.46   96.15    0.92\n",
      "  0    1200         76.54   1666.45   92.43   87.77   97.61    0.92\n",
      "  0    1400        104.16   1734.92   93.20   89.37   97.37    0.93\n",
      "  0    1600        128.96   2145.18   93.43   89.80   97.36    0.93\n",
      "  1    1800        142.32   2336.02   93.93   90.34   97.81    0.94\n",
      "  1    2000        151.82   2614.16   94.12   90.88   97.60    0.94\n",
      "  1    2200        191.91   3315.25   94.81   91.92   97.89    0.95\n",
      "  2    2400        269.52   3309.21   95.59   92.97   98.36    0.96\n",
      "  2    2600        291.52   3282.03   96.08   93.96   98.29    0.96\n",
      "  3    2800        336.49   2677.65   96.54   94.79   98.35    0.97\n",
      "  4    3000        343.09   3002.83   96.71   94.69   98.81    0.97\n",
      "  4    3200        402.31   2555.07   97.10   95.54   98.70    0.97\n",
      "  5    3400        354.78   2380.56   97.40   96.10   98.74    0.97\n",
      "  5    3600        429.67   2065.89   97.43   96.04   98.86    0.97\n",
      "  6    3800        417.55   2203.55   97.70   96.18   99.27    0.98\n",
      "  6    4000        494.68   1911.23   97.82   97.68   97.96    0.98\n",
      "  7    4200        491.90   1932.41   98.08   97.48   98.69    0.98\n",
      "  7    4400        514.06   1638.35   98.37   97.68   99.06    0.98\n",
      "  8    4600        492.49   1653.13   98.55   97.78   99.33    0.99\n",
      "  8    4800        535.43   1461.93   98.67   97.99   99.35    0.99\n",
      "  9    5000        543.21   1530.54   98.74   97.96   99.52    0.99\n",
      "  9    5200        593.26   1341.56   98.96   98.47   99.46    0.99\n",
      " 10    5400        621.69   1285.94   98.96   98.53   99.40    0.99\n",
      " 10    5600        588.83   1209.95   99.02   98.81   99.24    0.99\n",
      " 11    5800        628.88   1247.44   99.10   98.93   99.27    0.99\n",
      " 11    6000        622.36   1213.35   99.12   98.54   99.70    0.99\n",
      " 12    6200        622.40   1069.22   99.18   98.66   99.71    0.99\n",
      " 12    6400        604.82   1046.28   99.27   98.95   99.60    0.99\n",
      " 13    6600        696.16   1060.41   99.28   98.88   99.68    0.99\n",
      " 13    6800        661.23   1005.91   99.41   99.31   99.52    0.99\n",
      " 14    7000        640.06    956.04   99.30   98.97   99.64    0.99\n",
      " 14    7200        643.28    958.38   99.37   99.15   99.60    0.99\n",
      " 15    7400        608.48    896.39   99.44   99.20   99.68    0.99\n",
      " 15    7600        673.39    955.07   99.40   98.97   99.83    0.99\n",
      " 16    7800        590.05    773.40   99.56   99.49   99.64    1.00\n",
      " 16    8000        633.93    835.82   99.62   99.60   99.64    1.00\n",
      " 17    8200        660.81    739.94   99.61   99.48   99.74    1.00\n",
      " 17    8400        651.37    803.31   99.64   99.46   99.81    1.00\n",
      " 18    8600        651.74    693.58   99.52   99.20   99.85    1.00\n",
      " 18    8800        645.89    798.69   99.57   99.73   99.41    1.00\n",
      " 19    9000        655.96    618.28   99.63   99.41   99.86    1.00\n",
      " 19    9200        676.95    733.44   99.66   99.60   99.72    1.00\n",
      " 20    9400        722.93    607.71   99.62   99.72   99.52    1.00\n",
      " 20    9600        751.21    739.50   99.70   99.66   99.75    1.00\n",
      " 21    9800        663.03    623.56   99.68   99.66   99.69    1.00\n",
      " 21   10000        778.34    674.06   99.79   99.75   99.83    1.00\n",
      " 22   10200        806.72    579.64   99.64   99.44   99.85    1.00\n",
      " 22   10400        660.35    636.58   99.74   99.79   99.68    1.00\n",
      " 23   10600        731.27    628.62   99.71   99.55   99.88    1.00\n",
      " 24   10800        666.53    611.93   99.68   99.58   99.78    1.00\n",
      " 24   11000        715.25    541.74   99.71   99.65   99.77    1.00\n",
      " 25   11200        717.62    637.55   99.78   99.65   99.91    1.00\n",
      " 25   11400        882.45    517.02   99.79   99.72   99.85    1.00\n",
      " 26   11600        788.48    598.87   99.71   99.56   99.86    1.00\n",
      "[+] Saved pipeline to output directory\n",
      "output\\model-last\n",
      "\n",
      "Total keywords:  385\n",
      "List of Keywords:\n",
      "\n",
      " ['cheese', 'chicken', 'milk', 'butter', 'cream', 'fruit', 'rice', 'water', 'garlic', 'bread', 'sugar', 'salt', 'chocolate', 'fish', 'beef', 'yogurt', 'almond milk', 'greens', 'granola', 'nuts', 'chia seeds', 'onions', 'apples', 'peanut butter', 'squash', 'soda', 'flour', 'garlic powder', 'buttermilk', 'potatoes', 'cottage cheese', 'sour cream', 'turkey', 'beans', 'cream cheese', 'bagel', 'pretzels', 'celery', 'white wine', 'margarine', 'whipped cream', 'ice cream', 'pineapple', 'whipped topping', 'plantains', 'veal', 'mustard', 'corned beef', 'rye', 'fried chicken', 'gravy', 'tuna', 'vegetables', 'eggs', 'rotisserie chicken', 'hot dogs', 'crackers', 'dips', 'meats', 'frozen entrees', 'bacon', 'pasta', 'pizza', 'potato chips', 'avocados', 'pork', 'sunflower seeds', 'lentils', 'lean fish', 'cauliflower', 'asparagus', 'almonds', 'cooked fish', 'honey', 'kimchi', 'herbs', 'dates', 'scallops', 'yuzu', 'corn syrup', 'baking soda', 'molasses', 'yeast', 'cornmeal', 'vinegar', 'parsley', 'worcestershire sauce', 'mushrooms', 'broth', 'peppers', 'oats', 'guava', 'coconut', 'cheesecake', 'cinnamon', 'muffin', 'pies', 'tomato sauce', 'pickles', 'goat', 'lamb', 'seafood', 'olives', 'baking powder', 'sesame seeds', 'raspberries', 'cornstarch', 'hot sauce', 'grits', 'chives', 'coconut milk', 'tamarind', 'tomatoes', 'cumin', 'chili powder', 'onion powder', 'black pepper', 'pie crust', 'cooked rice', 'nutmeg', 'peas', 'refried beans', 'bananas', 'okra', 'cabbage', 'syrup', 'juice concentrates', 'basil', 'fruits', 'horseradish', 'lettuce', 'pesto', 'soy milk', 'hoisin sauce', 'sesame oil', 'peanuts', 'ham', 'bacon bits', 'chutney', 'sun dried tomatoes', 'sausage', 'coffee', 'pasta salad', 'cereal', 'grapes', 'cashews', 'tea', 'pudding', 'coconut cream', 'coconut water', 'apple juice', 'fruit cocktail', 'walnuts', 'dough', 'roasted red peppers', 'whole wheat bread', 'thyme', 'mayonnaise', 'oregano', 'leftovers', 'strawberries', 'berries', 'coleslaw', 'cilantro', 'guacamole', 'tomato paste', 'canola oil', 'mung bean', 'lemon juice', 'ghee', 'avocado oil', 'almond oil', 'grapeseed oil', 'spelt', 'lime juice', 'pure vanilla extract', 'butter flavor', 'string cheese', 'salsa', 'puff pastry', 'biscuits', 'orange juice', 'vegetable soup', 'caviar', 'pine nuts', 'coconut oil', 'quail', 'kefir', 'cookie dough', 'base', 'meat products', 'chicken parts', 'cornish hens', 'canned chicken', 'fatty fish', 'miso', 'barley', 'whole wheat flour', 'cream pies', 'quiche', 'sugar substitutes', 'cookies', 'potato salad', 'brussels sprouts', 'cherry tomatoes', 'taro', 'aioli', 'salami', 'prosciutto', 'chocolate syrup', 'pectin', 'tortillas', 'rice milk', 'coconuts', 'turkey bacon', 'black bean sauce', 'tofu', 'oyster sauce', 'rosemary', 'powdered milk', 'popcorn', 'almond butter', 'cashew butter', 'hummus', 'jerky', 'kohlrabi', 'cantaloupe', 'farro', 'lemongrass', 'canadian bacon', 'pecans', 'mint', 'hot peppers', 'swiss chard', 'cranberry sauce', 'pate', 'buckwheat', 'cheese curds', 'bratwurst', 'bulgur', 'eggplant', 'coconut flour', 'kale', 'zucchini', 'cherries', 'polenta', 'balsamic vinegar', 'anchovies', 'arugula', 'oils', 'pumpkin seeds', 'flaxseed', 'herring', 'coffee creamer', 'apple cider vinegar', 'ricotta', 'pistachios', 'beets', 'sausages', 'venison', 'leeks', 'rabbit', 'pastrami', 'chicken salad', 'dinners', 'goose', 'applesauce', 'capon', 'blueberries', 'quinoa', 'cucumbers', 'red wine', 'canned goods', 'croutons', 'soy flour', 'cooked pasta', 'edamame', 'casseroles', 'fruit pies', 'tamarind paste', 'nectar', 'duck fat', 'apricots', 'pomegranate', 'cranberries', 'cherimoya', 'kiwi fruit', 'honeydew', 'tapenade', 'bamboo shoots', 'millet', 'beans and peas', 'radishes', 'rhubarb', 'bok choy', 'jicama', 'turnips', 'melons', 'pork rinds', 'squid', 'tempeh', 'marinades', 'capers', 'barbecue sauce', 'chorizo', 'apple cider', 'tahini', 'egg salad', 'cinnamon rolls', 'ham salad', 'nacho cheese', 'pork roll', 'macadamias', 'bacon grease', 'baby carrots', 'celery root', 'spaghetti sauce', 'sunflower oil', 'almond extract', 'lemon extract', 'carrot juice', 'bean sprouts', 'macaroons', 'spaghetti squash', 'vegetable juice', 'marinated vegetables', 'teff', 'garam masala', 'fresh pasta', 'ginger root', 'breadcrumbs', 'pimento cheese', 'cooking wine', 'yuzu juice', 'radicchio', 'egg dishes', 'lobster tails', 'fruit cake', 'citrus fruit', 'watermelon', 'rutabagas', 'marshmallows', 'seafood salads', 'amaranth', 'kumquats', 'relish', 'prickly pear', 'cinnamon extract', 'crab legs', 'gelatin', 'duckling', 'nut oils', 'pumpkins', 'salad dressings', 'formula', 'soup mixes', 'bison', 'coconut flavor', 'star fruit', 'sorghum', 'doughnuts', 'pheasant', 'giblets', 'turducken', 'crab meat', 'shortening', 'ice pops', 'salad dressing', 'quark', 'hard liquors', 'egg substitutes', 'dry egg noodles', 'toaster pastries', 'seasoning blends', 'frying oil', 'eggnog', 'variety meats', 'tapiocas', 'frozen potato products', 'frozen pretzels', 'sauce mixes', 'pudding mixes', 'bagged greens', 'vegan cheddar cheese', 'kugel'] \n",
      "\n",
      "\n"
     ]
    },
    {
     "name": "stdout",
     "output_type": "stream",
     "text": [
      "[[38  6]\n",
      " [ 4 35]]\n",
      "              precision    recall  f1-score   support\n",
      "\n",
      "           1       0.90      0.86      0.88        44\n",
      "           0       0.85      0.90      0.88        39\n",
      "\n",
      "    accuracy                           0.88        83\n",
      "   macro avg       0.88      0.88      0.88        83\n",
      "weighted avg       0.88      0.88      0.88        83\n",
      "\n",
      "Total keywords:  385\n",
      "Total Tweets:  12355\n",
      "List of Keywords:\n",
      "\n",
      " ['cheese', 'chicken', 'milk', 'butter', 'cream', 'fruit', 'rice', 'water', 'garlic', 'bread', 'sugar', 'salt', 'chocolate', 'fish', 'beef', 'yogurt', 'almond milk', 'greens', 'granola', 'nuts', 'chia seeds', 'onions', 'apples', 'peanut butter', 'squash', 'soda', 'flour', 'garlic powder', 'buttermilk', 'potatoes', 'cottage cheese', 'sour cream', 'turkey', 'beans', 'cream cheese', 'bagel', 'pretzels', 'celery', 'white wine', 'margarine', 'whipped cream', 'ice cream', 'pineapple', 'whipped topping', 'plantains', 'veal', 'mustard', 'corned beef', 'rye', 'fried chicken', 'gravy', 'tuna', 'vegetables', 'eggs', 'rotisserie chicken', 'hot dogs', 'crackers', 'dips', 'meats', 'frozen entrees', 'bacon', 'pasta', 'pizza', 'potato chips', 'avocados', 'pork', 'sunflower seeds', 'lentils', 'lean fish', 'cauliflower', 'asparagus', 'almonds', 'cooked fish', 'honey', 'kimchi', 'herbs', 'dates', 'scallops', 'yuzu', 'corn syrup', 'baking soda', 'molasses', 'yeast', 'cornmeal', 'vinegar', 'parsley', 'worcestershire sauce', 'mushrooms', 'broth', 'peppers', 'oats', 'guava', 'coconut', 'cheesecake', 'cinnamon', 'muffin', 'pies', 'tomato sauce', 'pickles', 'goat', 'lamb', 'seafood', 'olives', 'baking powder', 'sesame seeds', 'raspberries', 'cornstarch', 'hot sauce', 'grits', 'chives', 'coconut milk', 'tamarind', 'tomatoes', 'cumin', 'chili powder', 'onion powder', 'black pepper', 'pie crust', 'cooked rice', 'nutmeg', 'peas', 'refried beans', 'bananas', 'okra', 'cabbage', 'syrup', 'juice concentrates', 'basil', 'fruits', 'horseradish', 'lettuce', 'pesto', 'soy milk', 'hoisin sauce', 'sesame oil', 'peanuts', 'ham', 'bacon bits', 'chutney', 'sun dried tomatoes', 'sausage', 'coffee', 'pasta salad', 'cereal', 'grapes', 'cashews', 'tea', 'pudding', 'coconut cream', 'coconut water', 'apple juice', 'fruit cocktail', 'walnuts', 'dough', 'roasted red peppers', 'whole wheat bread', 'thyme', 'mayonnaise', 'oregano', 'leftovers', 'strawberries', 'berries', 'coleslaw', 'cilantro', 'guacamole', 'tomato paste', 'canola oil', 'mung bean', 'lemon juice', 'ghee', 'avocado oil', 'almond oil', 'grapeseed oil', 'spelt', 'lime juice', 'pure vanilla extract', 'butter flavor', 'string cheese', 'salsa', 'puff pastry', 'biscuits', 'orange juice', 'vegetable soup', 'caviar', 'pine nuts', 'coconut oil', 'quail', 'kefir', 'cookie dough', 'base', 'meat products', 'chicken parts', 'cornish hens', 'canned chicken', 'fatty fish', 'miso', 'barley', 'whole wheat flour', 'cream pies', 'quiche', 'sugar substitutes', 'cookies', 'potato salad', 'brussels sprouts', 'cherry tomatoes', 'taro', 'aioli', 'salami', 'prosciutto', 'chocolate syrup', 'pectin', 'tortillas', 'rice milk', 'coconuts', 'turkey bacon', 'black bean sauce', 'tofu', 'oyster sauce', 'rosemary', 'powdered milk', 'popcorn', 'almond butter', 'cashew butter', 'hummus', 'jerky', 'kohlrabi', 'cantaloupe', 'farro', 'lemongrass', 'canadian bacon', 'pecans', 'mint', 'hot peppers', 'swiss chard', 'cranberry sauce', 'pate', 'buckwheat', 'cheese curds', 'bratwurst', 'bulgur', 'eggplant', 'coconut flour', 'kale', 'zucchini', 'cherries', 'polenta', 'balsamic vinegar', 'anchovies', 'arugula', 'oils', 'pumpkin seeds', 'flaxseed', 'herring', 'coffee creamer', 'apple cider vinegar', 'ricotta', 'pistachios', 'beets', 'sausages', 'venison', 'leeks', 'rabbit', 'pastrami', 'chicken salad', 'dinners', 'goose', 'applesauce', 'capon', 'blueberries', 'quinoa', 'cucumbers', 'red wine', 'canned goods', 'croutons', 'soy flour', 'cooked pasta', 'edamame', 'casseroles', 'fruit pies', 'tamarind paste', 'nectar', 'duck fat', 'apricots', 'pomegranate', 'cranberries', 'cherimoya', 'kiwi fruit', 'honeydew', 'tapenade', 'bamboo shoots', 'millet', 'beans and peas', 'radishes', 'rhubarb', 'bok choy', 'jicama', 'turnips', 'melons', 'pork rinds', 'squid', 'tempeh', 'marinades', 'capers', 'barbecue sauce', 'chorizo', 'apple cider', 'tahini', 'egg salad', 'cinnamon rolls', 'ham salad', 'nacho cheese', 'pork roll', 'macadamias', 'bacon grease', 'baby carrots', 'celery root', 'spaghetti sauce', 'sunflower oil', 'almond extract', 'lemon extract', 'carrot juice', 'bean sprouts', 'macaroons', 'spaghetti squash', 'vegetable juice', 'marinated vegetables', 'teff', 'garam masala', 'fresh pasta', 'ginger root', 'breadcrumbs', 'pimento cheese', 'cooking wine', 'yuzu juice', 'radicchio', 'egg dishes', 'lobster tails', 'fruit cake', 'citrus fruit', 'watermelon', 'rutabagas', 'marshmallows', 'seafood salads', 'amaranth', 'kumquats', 'relish', 'prickly pear', 'cinnamon extract', 'crab legs', 'gelatin', 'duckling', 'nut oils', 'pumpkins', 'salad dressings', 'formula', 'soup mixes', 'bison', 'coconut flavor', 'star fruit', 'sorghum', 'doughnuts', 'pheasant', 'giblets', 'turducken', 'crab meat', 'shortening', 'ice pops', 'salad dressing', 'quark', 'hard liquors', 'egg substitutes', 'dry egg noodles', 'toaster pastries', 'seasoning blends', 'frying oil', 'eggnog', 'variety meats', 'tapiocas', 'frozen potato products', 'frozen pretzels', 'sauce mixes', 'pudding mixes', 'bagged greens', 'vegan cheddar cheese', 'kugel'] \n",
      "\n",
      "\n",
      "Training Done...\n"
     ]
    }
   ],
   "source": [
    " trainModel(training_data)\n",
    "# print(keywords)  \n"
   ]
  },
  {
   "cell_type": "code",
   "execution_count": 3,
   "metadata": {},
   "outputs": [],
   "source": [
    "def getCommonVerbs():\n",
    "    import en_core_web_sm\n",
    "    nlp2 = spacy.load(\"en_core_web_sm\")\n",
    "    count = 0\n",
    "    myVerbs = {}\n",
    "    for i in range(10): #(len(training_data)):\n",
    "        doc = nlp2(training_data[0][i])\n",
    "        for token in doc:\n",
    "            print(token, token.pos_)\n",
    "            if token.pos_ == \"VERB\":\n",
    "                if token.text in myVerbs:\n",
    "                    myVerbs[token.text] = myVerbs[token.text] + 1\n",
    "                else:\n",
    "                    if token.text not in nlp2.Defaults.stop_words:\n",
    "                        myVerbs[token.text] = 1\n",
    "        \n",
    "    print(count)\n",
    "    topVerbs = dict(sorted(myVerbs.items(), key = lambda item: item[1], reverse=True)[:10])\n",
    "    return [key for key in topVerbs]\n",
    "# print(getCommonVerbs())"
   ]
  },
  {
   "cell_type": "code",
   "execution_count": 19,
   "metadata": {},
   "outputs": [
    {
     "name": "stdout",
     "output_type": "stream",
     "text": [
      "(eggs, ham, bacon bits, cream cheese, honey)\n"
     ]
    }
   ],
   "source": [
    "# nlp = spacy.load(MODEL_PATH)\n",
    "# # myTweet = \"My chicken is tasty\"\n",
    "# myTweet = test_data['tweet'][5]\n",
    "# # ent_recognize(\"chicken curry with coconut cream rice cake made with coconut water topped with salted egg sweet bean and candied baby coconut dessert topped with fresh shaved ice leche flan made with duck eggs and lime zest pastillas de leche made with carabao milk\")\n",
    "# x = nlp(myTweet)\n",
    "# splitSent = myTweet.split()\n",
    "# for i in range(len(x.ents)):\n",
    "#     if str(x.ents[i]) in splitSent:\n",
    "#         print(splitSent.index(str(x.ents[i])))\n",
    "        \n",
    "# print(x.doc.ents)\n",
    "# print(splitSent)"
   ]
  },
  {
   "cell_type": "code",
   "execution_count": 4,
   "metadata": {},
   "outputs": [],
   "source": [
    "#def findPreviousNextWord(tweets, keywords):\n",
    "foodKeeperKeywords = foodKeeperInfo()\n",
    "commonWords = {}\n",
    "commonPairWords = {}\n",
    "nlp2 = spacy.load(\"en_core_web_sm\")\n",
    "for i in range(len(training_data)):\n",
    "    #Preprocess and remove stop words from each tweet\n",
    "    myTweet = preProcess(training_data[0][i]).split()\n",
    "    myTweet = [word for word in myTweet if not word in nlp2.Defaults.stop_words]\n",
    "    \n",
    "    for i in range(len(myTweet)):\n",
    "        if myTweet[i] in foodKeeperKeywords:\n",
    "            try:\n",
    "                leftWord = myTweet[i-1]\n",
    "                if leftWord in commonWords:\n",
    "                    commonWords[leftWord] += 1\n",
    "                else:\n",
    "                    commonWords[leftWord] = 1\n",
    "            except:\n",
    "                pass\n",
    "            try: \n",
    "                rightWord = myTweet[i+1]\n",
    "                if rightWord in commonWords:\n",
    "                    commonWords[rightWord] += 1\n",
    "                else:\n",
    "                    commonWords[rightWord] = 1\n",
    "            except:\n",
    "                pass\n",
    "            try:\n",
    "                if (leftWord, rightWord) in commonPairWords:\n",
    "                    commonPairWords[(leftWord,rightWord)] += 1\n",
    "                else:\n",
    "                    commonPairWords[(leftWord,rightWord)] = 1\n",
    "            except:\n",
    "                pass\n",
    "\n",
    "#commonWords are words that occur before and after a keyword\n",
    "commonWords = dict(sorted(commonWords.items(), key = lambda item: item[1], reverse=True))\n",
    "commonWords = [key for key in commonWords]\n",
    "\n",
    "#commonPairWords are pairs or words that occur before and after a keyword\n",
    "commonPairWords = dict(sorted(commonPairWords.items(), key = lambda item: item[1], reverse=True))\n",
    "# print(training_data[0][1000])\n",
    "# print(foodKeeperKeywords)"
   ]
  },
  {
   "cell_type": "code",
   "execution_count": 15,
   "metadata": {},
   "outputs": [
    {
     "name": "stdout",
     "output_type": "stream",
     "text": [
      "['like', 'cheese', 'milk', 'coconut', 'salad', 'cream', 'ice', 'fried', 'oil', 'almond', 'chicken', 'rice', 'peanut', 'sauce', 'garlic', 'fresh', 'red', 'butter', 'eat', 'green', 'good', 'dried', 'sweet', 'roasted', 'add']\n"
     ]
    }
   ],
   "source": [
    "# print(commonWords[:25])\n",
    "# myIter= iter(commonPairWords)\n",
    "# for iter1 in iter(commonPairWords):\n",
    "#     print(iter1, commonPairWords[iter1])"
   ]
  },
  {
   "cell_type": "code",
   "execution_count": 5,
   "metadata": {},
   "outputs": [],
   "source": [
    "import re\n",
    "#count all words and adjacent\n",
    "def findAdjacentWords(data,keywords):\n",
    "    allWords = {}\n",
    "    count = 0\n",
    "    for tweet in data[0][:10]:\n",
    "        splitTweet = preProcess(tweet).split()\n",
    "        for i in range(len(splitTweet)):\n",
    "            word = splitTweet[i]\n",
    "            try:\n",
    "                biword = word + \" \" + splitTweet[i + 1]\n",
    "                if biword in keywords:\n",
    "                    print(\"Biword:\", biword)\n",
    "                    continue\n",
    "            except:\n",
    "                pass\n",
    "            try:\n",
    "                triword = word + \" \" + splitTweet[i + 1] + \" \" + splitTweet[i + 2]\n",
    "                if triword in keywords:\n",
    "                    print(\"Triword:\", triword)\n",
    "                    continue\n",
    "            except:\n",
    "                pass\n",
    "            \n",
    "        \n",
    "    \n",
    "    '''mySent = \"I am eating chicken for breakfast lunch and dinner tonight.\"\n",
    "    mySearch = re.search('chicken', mySent)\n",
    "    mySpan = mySearch.span()\n",
    "    print(mySent[mySpan[0]:mySpan[1]])\n",
    "    '''\n",
    "# findAdjacentWords(training_data, foodKeeperKeywords)"
   ]
  },
  {
   "cell_type": "markdown",
   "metadata": {},
   "source": [
    "# Test Data with 1.6 Million Tweet Dataset"
   ]
  },
  {
   "cell_type": "code",
   "execution_count": 17,
   "metadata": {},
   "outputs": [
    {
     "name": "stdout",
     "output_type": "stream",
     "text": [
      "mashed hard boiled eggs + farmer's ham scraps + hickory bacon bits + cream cheese + honey dijon dressing = my delectable breakfast\n"
     ]
    }
   ],
   "source": [
    "# print(live_tweets[5][:10])\n",
    "# print(test_data['tweet'][5])"
   ]
  },
  {
   "cell_type": "markdown",
   "metadata": {},
   "source": [
    "# See what keywords are found by the created model"
   ]
  },
  {
   "cell_type": "code",
   "execution_count": null,
   "metadata": {},
   "outputs": [],
   "source": [
    "# keywordsFound = []\n",
    "# nlp = spacy.load(MODEL_PATH)\n",
    "# print(nlp.pipeline)\n",
    "# for tweet in live_tweets[5]: #test_data['tweet']:\n",
    "#     modeledTweet = nlp(preProcess(tweet))\n",
    "#     for token in modeledTweet.doc.ents:\n",
    "#         if str(token) in keywordsFound: continue\n",
    "#         keywordsFound.append(str(token))"
   ]
  },
  {
   "cell_type": "markdown",
   "metadata": {},
   "source": [
    "# If the model finds food keywords print the Tweet\n",
    "To help visualize which keywords are being found this loop iterates through the Tweets testing the model to see what keywords it finds. If it finds a keyword in the Tweet it will print the Tweet and highlight the keyword"
   ]
  },
  {
   "cell_type": "code",
   "execution_count": 21,
   "metadata": {},
   "outputs": [
    {
     "data": {
      "text/html": [
       "<span class=\"tex2jax_ignore\"><div class=\"entities\" style=\"line-height: 2.5; direction: ltr\">just microwaved a kashi \n",
       "<mark class=\"entity\" style=\"background: #ddd; padding: 0.45em 0.6em; margin: 0 0.25em; line-height: 1; border-radius: 0.35em;\">\n",
       "    chicken\n",
       "    <span style=\"font-size: 0.8em; font-weight: bold; line-height: 1; border-radius: 0.35em; vertical-align: middle; margin-left: 0.5rem\">FOOD</span>\n",
       "</mark>\n",
       " and spinach thing and put in the \n",
       "<mark class=\"entity\" style=\"background: #ddd; padding: 0.45em 0.6em; margin: 0 0.25em; line-height: 1; border-radius: 0.35em;\">\n",
       "    milk\n",
       "    <span style=\"font-size: 0.8em; font-weight: bold; line-height: 1; border-radius: 0.35em; vertical-align: middle; margin-left: 0.5rem\">FOOD</span>\n",
       "</mark>\n",
       " dvd anyone seen it? i bet it's good i still havent seen slumdog</div></span>"
      ],
      "text/plain": [
       "<IPython.core.display.HTML object>"
      ]
     },
     "metadata": {},
     "output_type": "display_data"
    },
    {
     "data": {
      "text/html": [
       "<span class=\"tex2jax_ignore\"><div class=\"entities\" style=\"line-height: 2.5; direction: ltr\"> thats really sad i wolud hate that! but i had choco \n",
       "<mark class=\"entity\" style=\"background: #ddd; padding: 0.45em 0.6em; margin: 0 0.25em; line-height: 1; border-radius: 0.35em;\">\n",
       "    milk\n",
       "    <span style=\"font-size: 0.8em; font-weight: bold; line-height: 1; border-radius: 0.35em; vertical-align: middle; margin-left: 0.5rem\">FOOD</span>\n",
       "</mark>\n",
       " earlier =d lol</div></span>"
      ],
      "text/plain": [
       "<IPython.core.display.HTML object>"
      ]
     },
     "metadata": {},
     "output_type": "display_data"
    },
    {
     "name": "stderr",
     "output_type": "stream",
     "text": [
      "C:\\ProgramData\\Anaconda3\\lib\\site-packages\\spacy\\displacy\\__init__.py:200: UserWarning: [W006] No entities to visualize found in Doc object. If this is surprising to you, make sure the Doc was processed using a model that supports named entity recognition, and check the `doc.ents` property manually if necessary.\n",
      "  warnings.warn(Warnings.W006)\n"
     ]
    },
    {
     "data": {
      "text/html": [
       "<span class=\"tex2jax_ignore\"><div class=\"entities\" style=\"line-height: 2.5; direction: ltr\"> and it took me my entire walk to the train station to undo it</div></span>"
      ],
      "text/plain": [
       "<IPython.core.display.HTML object>"
      ]
     },
     "metadata": {},
     "output_type": "display_data"
    },
    {
     "data": {
      "text/html": [
       "<span class=\"tex2jax_ignore\"><div class=\"entities\" style=\"line-height: 2.5; direction: ltr\">just finished cooking spag bol from scratch in other words been cooking for the past 4 hours! i'm not hungry anymore</div></span>"
      ],
      "text/plain": [
       "<IPython.core.display.HTML object>"
      ]
     },
     "metadata": {},
     "output_type": "display_data"
    },
    {
     "data": {
      "text/html": [
       "<span class=\"tex2jax_ignore\"><div class=\"entities\" style=\"line-height: 2.5; direction: ltr\">oh noooooo kath is back from annual leave!!!!! du du duuuuuuuu!</div></span>"
      ],
      "text/plain": [
       "<IPython.core.display.HTML object>"
      ]
     },
     "metadata": {},
     "output_type": "display_data"
    },
    {
     "data": {
      "text/html": [
       "<span class=\"tex2jax_ignore\"><div class=\"entities\" style=\"line-height: 2.5; direction: ltr\">mashed hard boiled \n",
       "<mark class=\"entity\" style=\"background: #ddd; padding: 0.45em 0.6em; margin: 0 0.25em; line-height: 1; border-radius: 0.35em;\">\n",
       "    eggs\n",
       "    <span style=\"font-size: 0.8em; font-weight: bold; line-height: 1; border-radius: 0.35em; vertical-align: middle; margin-left: 0.5rem\">FOOD</span>\n",
       "</mark>\n",
       " + farmer's \n",
       "<mark class=\"entity\" style=\"background: #ddd; padding: 0.45em 0.6em; margin: 0 0.25em; line-height: 1; border-radius: 0.35em;\">\n",
       "    ham\n",
       "    <span style=\"font-size: 0.8em; font-weight: bold; line-height: 1; border-radius: 0.35em; vertical-align: middle; margin-left: 0.5rem\">FOOD</span>\n",
       "</mark>\n",
       " scraps + hickory \n",
       "<mark class=\"entity\" style=\"background: #ddd; padding: 0.45em 0.6em; margin: 0 0.25em; line-height: 1; border-radius: 0.35em;\">\n",
       "    bacon bits\n",
       "    <span style=\"font-size: 0.8em; font-weight: bold; line-height: 1; border-radius: 0.35em; vertical-align: middle; margin-left: 0.5rem\">FOOD</span>\n",
       "</mark>\n",
       " + \n",
       "<mark class=\"entity\" style=\"background: #ddd; padding: 0.45em 0.6em; margin: 0 0.25em; line-height: 1; border-radius: 0.35em;\">\n",
       "    cream cheese\n",
       "    <span style=\"font-size: 0.8em; font-weight: bold; line-height: 1; border-radius: 0.35em; vertical-align: middle; margin-left: 0.5rem\">FOOD</span>\n",
       "</mark>\n",
       " + \n",
       "<mark class=\"entity\" style=\"background: #ddd; padding: 0.45em 0.6em; margin: 0 0.25em; line-height: 1; border-radius: 0.35em;\">\n",
       "    honey\n",
       "    <span style=\"font-size: 0.8em; font-weight: bold; line-height: 1; border-radius: 0.35em; vertical-align: middle; margin-left: 0.5rem\">FOOD</span>\n",
       "</mark>\n",
       " dijon dressing = my delectable breakfast</div></span>"
      ],
      "text/plain": [
       "<IPython.core.display.HTML object>"
      ]
     },
     "metadata": {},
     "output_type": "display_data"
    },
    {
     "data": {
      "text/html": [
       "<span class=\"tex2jax_ignore\"><div class=\"entities\" style=\"line-height: 2.5; direction: ltr\">i made twice baked \n",
       "<mark class=\"entity\" style=\"background: #ddd; padding: 0.45em 0.6em; margin: 0 0.25em; line-height: 1; border-radius: 0.35em;\">\n",
       "    potatoes\n",
       "    <span style=\"font-size: 0.8em; font-weight: bold; line-height: 1; border-radius: 0.35em; vertical-align: middle; margin-left: 0.5rem\">FOOD</span>\n",
       "</mark>\n",
       " broccoli and \n",
       "<mark class=\"entity\" style=\"background: #ddd; padding: 0.45em 0.6em; margin: 0 0.25em; line-height: 1; border-radius: 0.35em;\">\n",
       "    tomato salad\n",
       "    <span style=\"font-size: 0.8em; font-weight: bold; line-height: 1; border-radius: 0.35em; vertical-align: middle; margin-left: 0.5rem\">FOOD</span>\n",
       "</mark>\n",
       " with my blue \n",
       "<mark class=\"entity\" style=\"background: #ddd; padding: 0.45em 0.6em; margin: 0 0.25em; line-height: 1; border-radius: 0.35em;\">\n",
       "    cheese\n",
       "    <span style=\"font-size: 0.8em; font-weight: bold; line-height: 1; border-radius: 0.35em; vertical-align: middle; margin-left: 0.5rem\">FOOD</span>\n",
       "</mark>\n",
       " dressing and \n",
       "<mark class=\"entity\" style=\"background: #ddd; padding: 0.45em 0.6em; margin: 0 0.25em; line-height: 1; border-radius: 0.35em;\">\n",
       "    lamb\n",
       "    <span style=\"font-size: 0.8em; font-weight: bold; line-height: 1; border-radius: 0.35em; vertical-align: middle; margin-left: 0.5rem\">FOOD</span>\n",
       "</mark>\n",
       " chops for dinner damn i'm good</div></span>"
      ],
      "text/plain": [
       "<IPython.core.display.HTML object>"
      ]
     },
     "metadata": {},
     "output_type": "display_data"
    },
    {
     "data": {
      "text/html": [
       "<span class=\"tex2jax_ignore\"><div class=\"entities\" style=\"line-height: 2.5; direction: ltr\"> hahahaha why do you love it so much again? oh right i remember now ha</div></span>"
      ],
      "text/plain": [
       "<IPython.core.display.HTML object>"
      ]
     },
     "metadata": {},
     "output_type": "display_data"
    },
    {
     "data": {
      "text/html": [
       "<span class=\"tex2jax_ignore\"><div class=\"entities\" style=\"line-height: 2.5; direction: ltr\">decided on having #cornflakes for breakfast and sparing the #marshmallows for making #smores at the next #bbq</div></span>"
      ],
      "text/plain": [
       "<IPython.core.display.HTML object>"
      ]
     },
     "metadata": {},
     "output_type": "display_data"
    },
    {
     "data": {
      "text/html": [
       "<span class=\"tex2jax_ignore\"><div class=\"entities\" style=\"line-height: 2.5; direction: ltr\"> alone at home too ;) eating cereals and watching videoclips on tv atm: coldplay's life in technicolor ii yeah</div></span>"
      ],
      "text/plain": [
       "<IPython.core.display.HTML object>"
      ]
     },
     "metadata": {},
     "output_type": "display_data"
    },
    {
     "data": {
      "text/html": [
       "<span class=\"tex2jax_ignore\"><div class=\"entities\" style=\"line-height: 2.5; direction: ltr\">i love sitting around jess' room just singing talking and laughing</div></span>"
      ],
      "text/plain": [
       "<IPython.core.display.HTML object>"
      ]
     },
     "metadata": {},
     "output_type": "display_data"
    },
    {
     "data": {
      "text/html": [
       "<span class=\"tex2jax_ignore\"><div class=\"entities\" style=\"line-height: 2.5; direction: ltr\">i love how my energy affects other people</div></span>"
      ],
      "text/plain": [
       "<IPython.core.display.HTML object>"
      ]
     },
     "metadata": {},
     "output_type": "display_data"
    },
    {
     "data": {
      "text/html": [
       "<span class=\"tex2jax_ignore\"><div class=\"entities\" style=\"line-height: 2.5; direction: ltr\"> of course dannytotally different everyone knows a good malbec pairs quite well with a med to hot \n",
       "<mark class=\"entity\" style=\"background: #ddd; padding: 0.45em 0.6em; margin: 0 0.25em; line-height: 1; border-radius: 0.35em;\">\n",
       "    salsa\n",
       "    <span style=\"font-size: 0.8em; font-weight: bold; line-height: 1; border-radius: 0.35em; vertical-align: middle; margin-left: 0.5rem\">FOOD</span>\n",
       "</mark>\n",
       "</div></span>"
      ],
      "text/plain": [
       "<IPython.core.display.HTML object>"
      ]
     },
     "metadata": {},
     "output_type": "display_data"
    },
    {
     "data": {
      "text/html": [
       "<span class=\"tex2jax_ignore\"><div class=\"entities\" style=\"line-height: 2.5; direction: ltr\"> im so jealousi want \n",
       "<mark class=\"entity\" style=\"background: #ddd; padding: 0.45em 0.6em; margin: 0 0.25em; line-height: 1; border-radius: 0.35em;\">\n",
       "    salsa\n",
       "    <span style=\"font-size: 0.8em; font-weight: bold; line-height: 1; border-radius: 0.35em; vertical-align: middle; margin-left: 0.5rem\">FOOD</span>\n",
       "</mark>\n",
       " but the \n",
       "<mark class=\"entity\" style=\"background: #ddd; padding: 0.45em 0.6em; margin: 0 0.25em; line-height: 1; border-radius: 0.35em;\">\n",
       "    cookies\n",
       "    <span style=\"font-size: 0.8em; font-weight: bold; line-height: 1; border-radius: 0.35em; vertical-align: middle; margin-left: 0.5rem\">FOOD</span>\n",
       "</mark>\n",
       " were amazing!</div></span>"
      ],
      "text/plain": [
       "<IPython.core.display.HTML object>"
      ]
     },
     "metadata": {},
     "output_type": "display_data"
    },
    {
     "data": {
      "text/html": [
       "<span class=\"tex2jax_ignore\"><div class=\"entities\" style=\"line-height: 2.5; direction: ltr\">rain ruined the malaysian gp  not much fun neither any money from it </div></span>"
      ],
      "text/plain": [
       "<IPython.core.display.HTML object>"
      ]
     },
     "metadata": {},
     "output_type": "display_data"
    },
    {
     "data": {
      "text/html": [
       "<span class=\"tex2jax_ignore\"><div class=\"entities\" style=\"line-height: 2.5; direction: ltr\">\n",
       "<mark class=\"entity\" style=\"background: #ddd; padding: 0.45em 0.6em; margin: 0 0.25em; line-height: 1; border-radius: 0.35em;\">\n",
       "    bananas\n",
       "    <span style=\"font-size: 0.8em; font-weight: bold; line-height: 1; border-radius: 0.35em; vertical-align: middle; margin-left: 0.5rem\">FOOD</span>\n",
       "</mark>\n",
       " \n",
       "<mark class=\"entity\" style=\"background: #ddd; padding: 0.45em 0.6em; margin: 0 0.25em; line-height: 1; border-radius: 0.35em;\">\n",
       "    rice\n",
       "    <span style=\"font-size: 0.8em; font-weight: bold; line-height: 1; border-radius: 0.35em; vertical-align: middle; margin-left: 0.5rem\">FOOD</span>\n",
       "</mark>\n",
       " \n",
       "<mark class=\"entity\" style=\"background: #ddd; padding: 0.45em 0.6em; margin: 0 0.25em; line-height: 1; border-radius: 0.35em;\">\n",
       "    applesauce\n",
       "    <span style=\"font-size: 0.8em; font-weight: bold; line-height: 1; border-radius: 0.35em; vertical-align: middle; margin-left: 0.5rem\">FOOD</span>\n",
       "</mark>\n",
       " toast</div></span>"
      ],
      "text/plain": [
       "<IPython.core.display.HTML object>"
      ]
     },
     "metadata": {},
     "output_type": "display_data"
    },
    {
     "data": {
      "text/html": [
       "<span class=\"tex2jax_ignore\"><div class=\"entities\" style=\"line-height: 2.5; direction: ltr\">still living on \n",
       "<mark class=\"entity\" style=\"background: #ddd; padding: 0.45em 0.6em; margin: 0 0.25em; line-height: 1; border-radius: 0.35em;\">\n",
       "    ice cream\n",
       "    <span style=\"font-size: 0.8em; font-weight: bold; line-height: 1; border-radius: 0.35em; vertical-align: middle; margin-left: 0.5rem\">FOOD</span>\n",
       "</mark>\n",
       " sherbet \n",
       "<mark class=\"entity\" style=\"background: #ddd; padding: 0.45em 0.6em; margin: 0 0.25em; line-height: 1; border-radius: 0.35em;\">\n",
       "    applesauce\n",
       "    <span style=\"font-size: 0.8em; font-weight: bold; line-height: 1; border-radius: 0.35em; vertical-align: middle; margin-left: 0.5rem\">FOOD</span>\n",
       "</mark>\n",
       " \n",
       "<mark class=\"entity\" style=\"background: #ddd; padding: 0.45em 0.6em; margin: 0 0.25em; line-height: 1; border-radius: 0.35em;\">\n",
       "    pudding\n",
       "    <span style=\"font-size: 0.8em; font-weight: bold; line-height: 1; border-radius: 0.35em; vertical-align: middle; margin-left: 0.5rem\">FOOD</span>\n",
       "</mark>\n",
       " and jello brian left today still cant talk yet only wispering</div></span>"
      ],
      "text/plain": [
       "<IPython.core.display.HTML object>"
      ]
     },
     "metadata": {},
     "output_type": "display_data"
    },
    {
     "data": {
      "text/html": [
       "<span class=\"tex2jax_ignore\"><div class=\"entities\" style=\"line-height: 2.5; direction: ltr\"> oh honey!</div></span>"
      ],
      "text/plain": [
       "<IPython.core.display.HTML object>"
      ]
     },
     "metadata": {},
     "output_type": "display_data"
    },
    {
     "data": {
      "text/html": [
       "<span class=\"tex2jax_ignore\"><div class=\"entities\" style=\"line-height: 2.5; direction: ltr\">just found out my brother is moving from hong kong to singapore in june and i didn't get a chance to visit him in hong kong yet!</div></span>"
      ],
      "text/plain": [
       "<IPython.core.display.HTML object>"
      ]
     },
     "metadata": {},
     "output_type": "display_data"
    },
    {
     "data": {
      "text/html": [
       "<span class=\"tex2jax_ignore\"><div class=\"entities\" style=\"line-height: 2.5; direction: ltr\"> thats so exciting! u are coming to south america in a few hours! but not to colombia hope u have fun here! we love u!!</div></span>"
      ],
      "text/plain": [
       "<IPython.core.display.HTML object>"
      ]
     },
     "metadata": {},
     "output_type": "display_data"
    },
    {
     "data": {
      "text/html": [
       "<span class=\"tex2jax_ignore\"><div class=\"entities\" style=\"line-height: 2.5; direction: ltr\">haha *squid!* oooo but ya im ganna try and get it figured out tomorrow im like freakin dieing without a phone</div></span>"
      ],
      "text/plain": [
       "<IPython.core.display.HTML object>"
      ]
     },
     "metadata": {},
     "output_type": "display_data"
    },
    {
     "data": {
      "text/html": [
       "<span class=\"tex2jax_ignore\"><div class=\"entities\" style=\"line-height: 2.5; direction: ltr\">we can't get the dog i'm seriously sad now</div></span>"
      ],
      "text/plain": [
       "<IPython.core.display.HTML object>"
      ]
     },
     "metadata": {},
     "output_type": "display_data"
    },
    {
     "data": {
      "text/html": [
       "<span class=\"tex2jax_ignore\"><div class=\"entities\" style=\"line-height: 2.5; direction: ltr\"> i found out that there's sushi with fake \n",
       "<mark class=\"entity\" style=\"background: #ddd; padding: 0.45em 0.6em; margin: 0 0.25em; line-height: 1; border-radius: 0.35em;\">\n",
       "    crab meat\n",
       "    <span style=\"font-size: 0.8em; font-weight: bold; line-height: 1; border-radius: 0.35em; vertical-align: middle; margin-left: 0.5rem\">FOOD</span>\n",
       "</mark>\n",
       " and it's not good for you</div></span>"
      ],
      "text/plain": [
       "<IPython.core.display.HTML object>"
      ]
     },
     "metadata": {},
     "output_type": "display_data"
    },
    {
     "data": {
      "text/html": [
       "<span class=\"tex2jax_ignore\"><div class=\"entities\" style=\"line-height: 2.5; direction: ltr\">spilled \n",
       "<mark class=\"entity\" style=\"background: #ddd; padding: 0.45em 0.6em; margin: 0 0.25em; line-height: 1; border-radius: 0.35em;\">\n",
       "    butter\n",
       "    <span style=\"font-size: 0.8em; font-weight: bold; line-height: 1; border-radius: 0.35em; vertical-align: middle; margin-left: 0.5rem\">FOOD</span>\n",
       "</mark>\n",
       " oil all over my blackberry while eating \n",
       "<mark class=\"entity\" style=\"background: #ddd; padding: 0.45em 0.6em; margin: 0 0.25em; line-height: 1; border-radius: 0.35em;\">\n",
       "    crab legs\n",
       "    <span style=\"font-size: 0.8em; font-weight: bold; line-height: 1; border-radius: 0.35em; vertical-align: middle; margin-left: 0.5rem\">FOOD</span>\n",
       "</mark>\n",
       "  its all messed up now</div></span>"
      ],
      "text/plain": [
       "<IPython.core.display.HTML object>"
      ]
     },
     "metadata": {},
     "output_type": "display_data"
    },
    {
     "data": {
      "text/html": [
       "<span class=\"tex2jax_ignore\"><div class=\"entities\" style=\"line-height: 2.5; direction: ltr\">ah beer and \n",
       "<mark class=\"entity\" style=\"background: #ddd; padding: 0.45em 0.6em; margin: 0 0.25em; line-height: 1; border-radius: 0.35em;\">\n",
       "    crab legs\n",
       "    <span style=\"font-size: 0.8em; font-weight: bold; line-height: 1; border-radius: 0.35em; vertical-align: middle; margin-left: 0.5rem\">FOOD</span>\n",
       "</mark>\n",
       " oh man tomorrow is gonna suck</div></span>"
      ],
      "text/plain": [
       "<IPython.core.display.HTML object>"
      ]
     },
     "metadata": {},
     "output_type": "display_data"
    },
    {
     "data": {
      "text/html": [
       "<span class=\"tex2jax_ignore\"><div class=\"entities\" style=\"line-height: 2.5; direction: ltr\"> totally jealous of the \n",
       "<mark class=\"entity\" style=\"background: #ddd; padding: 0.45em 0.6em; margin: 0 0.25em; line-height: 1; border-radius: 0.35em;\">\n",
       "    crab legs\n",
       "    <span style=\"font-size: 0.8em; font-weight: bold; line-height: 1; border-radius: 0.35em; vertical-align: middle; margin-left: 0.5rem\">FOOD</span>\n",
       "</mark>\n",
       "</div></span>"
      ],
      "text/plain": [
       "<IPython.core.display.HTML object>"
      ]
     },
     "metadata": {},
     "output_type": "display_data"
    },
    {
     "data": {
      "text/html": [
       "<span class=\"tex2jax_ignore\"><div class=\"entities\" style=\"line-height: 2.5; direction: ltr\"> \n",
       "<mark class=\"entity\" style=\"background: #ddd; padding: 0.45em 0.6em; margin: 0 0.25em; line-height: 1; border-radius: 0.35em;\">\n",
       "    crab legs\n",
       "    <span style=\"font-size: 0.8em; font-weight: bold; line-height: 1; border-radius: 0.35em; vertical-align: middle; margin-left: 0.5rem\">FOOD</span>\n",
       "</mark>\n",
       " huh?never had them allergic to shellfish here</div></span>"
      ],
      "text/plain": [
       "<IPython.core.display.HTML object>"
      ]
     },
     "metadata": {},
     "output_type": "display_data"
    },
    {
     "data": {
      "text/html": [
       "<span class=\"tex2jax_ignore\"><div class=\"entities\" style=\"line-height: 2.5; direction: ltr\">i just had a shot of \n",
       "<mark class=\"entity\" style=\"background: #ddd; padding: 0.45em 0.6em; margin: 0 0.25em; line-height: 1; border-radius: 0.35em;\">\n",
       "    quail\n",
       "    <span style=\"font-size: 0.8em; font-weight: bold; line-height: 1; border-radius: 0.35em; vertical-align: middle; margin-left: 0.5rem\">FOOD</span>\n",
       "</mark>\n",
       " egg chopped salmon and masago at cabin sushi plus it was all you can eat!</div></span>"
      ],
      "text/plain": [
       "<IPython.core.display.HTML object>"
      ]
     },
     "metadata": {},
     "output_type": "display_data"
    },
    {
     "data": {
      "text/html": [
       "<span class=\"tex2jax_ignore\"><div class=\"entities\" style=\"line-height: 2.5; direction: ltr\">just saw fast and furious movie! got 2 love fast cars wat u all thk? muscle vs import?</div></span>"
      ],
      "text/plain": [
       "<IPython.core.display.HTML object>"
      ]
     },
     "metadata": {},
     "output_type": "display_data"
    },
    {
     "data": {
      "text/html": [
       "<span class=\"tex2jax_ignore\"><div class=\"entities\" style=\"line-height: 2.5; direction: ltr\">gr8t day! love how god hears and answers my whispers love him cause he rescued me</div></span>"
      ],
      "text/plain": [
       "<IPython.core.display.HTML object>"
      ]
     },
     "metadata": {},
     "output_type": "display_data"
    },
    {
     "data": {
      "text/html": [
       "<span class=\"tex2jax_ignore\"><div class=\"entities\" style=\"line-height: 2.5; direction: ltr\">thought adventure land was good not as good as superbad</div></span>"
      ],
      "text/plain": [
       "<IPython.core.display.HTML object>"
      ]
     },
     "metadata": {},
     "output_type": "display_data"
    },
    {
     "data": {
      "text/html": [
       "<span class=\"tex2jax_ignore\"><div class=\"entities\" style=\"line-height: 2.5; direction: ltr\">mo jobs no money how in the hell is min wage here 4 f'n clams an hour?</div></span>"
      ],
      "text/plain": [
       "<IPython.core.display.HTML object>"
      ]
     },
     "metadata": {},
     "output_type": "display_data"
    },
    {
     "data": {
      "text/html": [
       "<span class=\"tex2jax_ignore\"><div class=\"entities\" style=\"line-height: 2.5; direction: ltr\"> yes missed my candy and \n",
       "<mark class=\"entity\" style=\"background: #ddd; padding: 0.45em 0.6em; margin: 0 0.25em; line-height: 1; border-radius: 0.35em;\">\n",
       "    pastrami\n",
       "    <span style=\"font-size: 0.8em; font-weight: bold; line-height: 1; border-radius: 0.35em; vertical-align: middle; margin-left: 0.5rem\">FOOD</span>\n",
       "</mark>\n",
       " too</div></span>"
      ],
      "text/plain": [
       "<IPython.core.display.HTML object>"
      ]
     },
     "metadata": {},
     "output_type": "display_data"
    },
    {
     "data": {
      "text/html": [
       "<span class=\"tex2jax_ignore\"><div class=\"entities\" style=\"line-height: 2.5; direction: ltr\">at work ima bout to make me somethinq to eat i would qo qet me a \n",
       "<mark class=\"entity\" style=\"background: #ddd; padding: 0.45em 0.6em; margin: 0 0.25em; line-height: 1; border-radius: 0.35em;\">\n",
       "    pastrami\n",
       "    <span style=\"font-size: 0.8em; font-weight: bold; line-height: 1; border-radius: 0.35em; vertical-align: middle; margin-left: 0.5rem\">FOOD</span>\n",
       "</mark>\n",
       " sandwich but its nasty out</div></span>"
      ],
      "text/plain": [
       "<IPython.core.display.HTML object>"
      ]
     },
     "metadata": {},
     "output_type": "display_data"
    },
    {
     "data": {
      "text/html": [
       "<span class=\"tex2jax_ignore\"><div class=\"entities\" style=\"line-height: 2.5; direction: ltr\">well my \n",
       "<mark class=\"entity\" style=\"background: #ddd; padding: 0.45em 0.6em; margin: 0 0.25em; line-height: 1; border-radius: 0.35em;\">\n",
       "    parsley\n",
       "    <span style=\"font-size: 0.8em; font-weight: bold; line-height: 1; border-radius: 0.35em; vertical-align: middle; margin-left: 0.5rem\">FOOD</span>\n",
       "</mark>\n",
       " is no longer organic!</div></span>"
      ],
      "text/plain": [
       "<IPython.core.display.HTML object>"
      ]
     },
     "metadata": {},
     "output_type": "display_data"
    },
    {
     "data": {
      "text/html": [
       "<span class=\"tex2jax_ignore\"><div class=\"entities\" style=\"line-height: 2.5; direction: ltr\"> some things they just never get old  i miss maya</div></span>"
      ],
      "text/plain": [
       "<IPython.core.display.HTML object>"
      ]
     },
     "metadata": {},
     "output_type": "display_data"
    },
    {
     "data": {
      "text/html": [
       "<span class=\"tex2jax_ignore\"><div class=\"entities\" style=\"line-height: 2.5; direction: ltr\">spring is finally here! cherry blossoms galore! such a shame they are so temporary</div></span>"
      ],
      "text/plain": [
       "<IPython.core.display.HTML object>"
      ]
     },
     "metadata": {},
     "output_type": "display_data"
    },
    {
     "data": {
      "text/html": [
       "<span class=\"tex2jax_ignore\"><div class=\"entities\" style=\"line-height: 2.5; direction: ltr\">i didn't see that many cherry blossoms this year</div></span>"
      ],
      "text/plain": [
       "<IPython.core.display.HTML object>"
      ]
     },
     "metadata": {},
     "output_type": "display_data"
    },
    {
     "data": {
      "text/html": [
       "<span class=\"tex2jax_ignore\"><div class=\"entities\" style=\"line-height: 2.5; direction: ltr\">mourning over my amaretto sourstained prada with cherry inside</div></span>"
      ],
      "text/plain": [
       "<IPython.core.display.HTML object>"
      ]
     },
     "metadata": {},
     "output_type": "display_data"
    },
    {
     "data": {
      "text/html": [
       "<span class=\"tex2jax_ignore\"><div class=\"entities\" style=\"line-height: 2.5; direction: ltr\"> great! now i want \n",
       "<mark class=\"entity\" style=\"background: #ddd; padding: 0.45em 0.6em; margin: 0 0.25em; line-height: 1; border-radius: 0.35em;\">\n",
       "    chocolate\n",
       "    <span style=\"font-size: 0.8em; font-weight: bold; line-height: 1; border-radius: 0.35em; vertical-align: middle; margin-left: 0.5rem\">FOOD</span>\n",
       "</mark>\n",
       "</div></span>"
      ],
      "text/plain": [
       "<IPython.core.display.HTML object>"
      ]
     },
     "metadata": {},
     "output_type": "display_data"
    },
    {
     "data": {
      "text/html": [
       "<span class=\"tex2jax_ignore\"><div class=\"entities\" style=\"line-height: 2.5; direction: ltr\">ew one more day till school</div></span>"
      ],
      "text/plain": [
       "<IPython.core.display.HTML object>"
      ]
     },
     "metadata": {},
     "output_type": "display_data"
    },
    {
     "data": {
      "text/html": [
       "<span class=\"tex2jax_ignore\"><div class=\"entities\" style=\"line-height: 2.5; direction: ltr\"> aiyooooo maybe \n",
       "<mark class=\"entity\" style=\"background: #ddd; padding: 0.45em 0.6em; margin: 0 0.25em; line-height: 1; border-radius: 0.35em;\">\n",
       "    chocolate\n",
       "    <span style=\"font-size: 0.8em; font-weight: bold; line-height: 1; border-radius: 0.35em; vertical-align: middle; margin-left: 0.5rem\">FOOD</span>\n",
       "</mark>\n",
       " will help? \n",
       "<mark class=\"entity\" style=\"background: #ddd; padding: 0.45em 0.6em; margin: 0 0.25em; line-height: 1; border-radius: 0.35em;\">\n",
       "    chocolate\n",
       "    <span style=\"font-size: 0.8em; font-weight: bold; line-height: 1; border-radius: 0.35em; vertical-align: middle; margin-left: 0.5rem\">FOOD</span>\n",
       "</mark>\n",
       " helps in most situations</div></span>"
      ],
      "text/plain": [
       "<IPython.core.display.HTML object>"
      ]
     },
     "metadata": {},
     "output_type": "display_data"
    },
    {
     "data": {
      "text/html": [
       "<span class=\"tex2jax_ignore\"><div class=\"entities\" style=\"line-height: 2.5; direction: ltr\">now that i'm trying to stay off \n",
       "<mark class=\"entity\" style=\"background: #ddd; padding: 0.45em 0.6em; margin: 0 0.25em; line-height: 1; border-radius: 0.35em;\">\n",
       "    chocolate\n",
       "    <span style=\"font-size: 0.8em; font-weight: bold; line-height: 1; border-radius: 0.35em; vertical-align: middle; margin-left: 0.5rem\">FOOD</span>\n",
       "</mark>\n",
       " it's everywhere</div></span>"
      ],
      "text/plain": [
       "<IPython.core.display.HTML object>"
      ]
     },
     "metadata": {},
     "output_type": "display_data"
    },
    {
     "data": {
      "text/html": [
       "<span class=\"tex2jax_ignore\"><div class=\"entities\" style=\"line-height: 2.5; direction: ltr\"> if ur home wednesday ill come or this weekend dude i really dont wanna go back to school tomorrow</div></span>"
      ],
      "text/plain": [
       "<IPython.core.display.HTML object>"
      ]
     },
     "metadata": {},
     "output_type": "display_data"
    },
    {
     "data": {
      "text/html": [
       "<span class=\"tex2jax_ignore\"><div class=\"entities\" style=\"line-height: 2.5; direction: ltr\"> it's still up for me but no 2010</div></span>"
      ],
      "text/plain": [
       "<IPython.core.display.HTML object>"
      ]
     },
     "metadata": {},
     "output_type": "display_data"
    },
    {
     "data": {
      "text/html": [
       "<span class=\"tex2jax_ignore\"><div class=\"entities\" style=\"line-height: 2.5; direction: ltr\">feels like family is getting closer i like it ps need flourrrr! i have an itch to bake something </div></span>"
      ],
      "text/plain": [
       "<IPython.core.display.HTML object>"
      ]
     },
     "metadata": {},
     "output_type": "display_data"
    },
    {
     "data": {
      "text/html": [
       "<span class=\"tex2jax_ignore\"><div class=\"entities\" style=\"line-height: 2.5; direction: ltr\"> not so good i think that's my fault though  didn't use \n",
       "<mark class=\"entity\" style=\"background: #ddd; padding: 0.45em 0.6em; margin: 0 0.25em; line-height: 1; border-radius: 0.35em;\">\n",
       "    buttermilk\n",
       "    <span style=\"font-size: 0.8em; font-weight: bold; line-height: 1; border-radius: 0.35em; vertical-align: middle; margin-left: 0.5rem\">FOOD</span>\n",
       "</mark>\n",
       " recipe was on back of the \n",
       "<mark class=\"entity\" style=\"background: #ddd; padding: 0.45em 0.6em; margin: 0 0.25em; line-height: 1; border-radius: 0.35em;\">\n",
       "    flour\n",
       "    <span style=\"font-size: 0.8em; font-weight: bold; line-height: 1; border-radius: 0.35em; vertical-align: middle; margin-left: 0.5rem\">FOOD</span>\n",
       "</mark>\n",
       "</div></span>"
      ],
      "text/plain": [
       "<IPython.core.display.HTML object>"
      ]
     },
     "metadata": {},
     "output_type": "display_data"
    },
    {
     "data": {
      "text/html": [
       "<span class=\"tex2jax_ignore\"><div class=\"entities\" style=\"line-height: 2.5; direction: ltr\"> i have \n",
       "<mark class=\"entity\" style=\"background: #ddd; padding: 0.45em 0.6em; margin: 0 0.25em; line-height: 1; border-radius: 0.35em;\">\n",
       "    popcorn\n",
       "    <span style=\"font-size: 0.8em; font-weight: bold; line-height: 1; border-radius: 0.35em; vertical-align: middle; margin-left: 0.5rem\">FOOD</span>\n",
       "</mark>\n",
       " and fruitcake nowbut it's just not the same as \n",
       "<mark class=\"entity\" style=\"background: #ddd; padding: 0.45em 0.6em; margin: 0 0.25em; line-height: 1; border-radius: 0.35em;\">\n",
       "    chocolate\n",
       "    <span style=\"font-size: 0.8em; font-weight: bold; line-height: 1; border-radius: 0.35em; vertical-align: middle; margin-left: 0.5rem\">FOOD</span>\n",
       "</mark>\n",
       "</div></span>"
      ],
      "text/plain": [
       "<IPython.core.display.HTML object>"
      ]
     },
     "metadata": {},
     "output_type": "display_data"
    },
    {
     "data": {
      "text/html": [
       "<span class=\"tex2jax_ignore\"><div class=\"entities\" style=\"line-height: 2.5; direction: ltr\">garden going well almost all the corn and \n",
       "<mark class=\"entity\" style=\"background: #ddd; padding: 0.45em 0.6em; margin: 0 0.25em; line-height: 1; border-radius: 0.35em;\">\n",
       "    peas\n",
       "    <span style=\"font-size: 0.8em; font-weight: bold; line-height: 1; border-radius: 0.35em; vertical-align: middle; margin-left: 0.5rem\">FOOD</span>\n",
       "</mark>\n",
       " are up no \n",
       "<mark class=\"entity\" style=\"background: #ddd; padding: 0.45em 0.6em; margin: 0 0.25em; line-height: 1; border-radius: 0.35em;\">\n",
       "    onions\n",
       "    <span style=\"font-size: 0.8em; font-weight: bold; line-height: 1; border-radius: 0.35em; vertical-align: middle; margin-left: 0.5rem\">FOOD</span>\n",
       "</mark>\n",
       " or \n",
       "<mark class=\"entity\" style=\"background: #ddd; padding: 0.45em 0.6em; margin: 0 0.25em; line-height: 1; border-radius: 0.35em;\">\n",
       "    beets\n",
       "    <span style=\"font-size: 0.8em; font-weight: bold; line-height: 1; border-radius: 0.35em; vertical-align: middle; margin-left: 0.5rem\">FOOD</span>\n",
       "</mark>\n",
       " up yet though</div></span>"
      ],
      "text/plain": [
       "<IPython.core.display.HTML object>"
      ]
     },
     "metadata": {},
     "output_type": "display_data"
    },
    {
     "data": {
      "text/html": [
       "<span class=\"tex2jax_ignore\"><div class=\"entities\" style=\"line-height: 2.5; direction: ltr\"> he steals my stuff buries them under fence embarassing when it's the man returning them! not much i can do about frogs</div></span>"
      ],
      "text/plain": [
       "<IPython.core.display.HTML object>"
      ]
     },
     "metadata": {},
     "output_type": "display_data"
    },
    {
     "data": {
      "text/html": [
       "<span class=\"tex2jax_ignore\"><div class=\"entities\" style=\"line-height: 2.5; direction: ltr\"> is competition around the corner? if not take it slow for at least a week twisted my ankle back in jc awfully painful</div></span>"
      ],
      "text/plain": [
       "<IPython.core.display.HTML object>"
      ]
     },
     "metadata": {},
     "output_type": "display_data"
    },
    {
     "data": {
      "text/html": [
       "<span class=\"tex2jax_ignore\"><div class=\"entities\" style=\"line-height: 2.5; direction: ltr\"> i know! but it does nothing for the gelatinous state of my belly</div></span>"
      ],
      "text/plain": [
       "<IPython.core.display.HTML object>"
      ]
     },
     "metadata": {},
     "output_type": "display_data"
    },
    {
     "data": {
      "text/html": [
       "<span class=\"tex2jax_ignore\"><div class=\"entities\" style=\"line-height: 2.5; direction: ltr\">did u know percy pigs are actually made of real pigs?! ingredients list \n",
       "<mark class=\"entity\" style=\"background: #ddd; padding: 0.45em 0.6em; margin: 0 0.25em; line-height: 1; border-radius: 0.35em;\">\n",
       "    pork\n",
       "    <span style=\"font-size: 0.8em; font-weight: bold; line-height: 1; border-radius: 0.35em; vertical-align: middle; margin-left: 0.5rem\">FOOD</span>\n",
       "</mark>\n",
       " gelatine</div></span>"
      ],
      "text/plain": [
       "<IPython.core.display.HTML object>"
      ]
     },
     "metadata": {},
     "output_type": "display_data"
    },
    {
     "data": {
      "text/html": [
       "<span class=\"tex2jax_ignore\"><div class=\"entities\" style=\"line-height: 2.5; direction: ltr\"> still an aftertaste from the gelatine thingick haven't found a good cupcake in bj yet would make some if i had an oven!</div></span>"
      ],
      "text/plain": [
       "<IPython.core.display.HTML object>"
      ]
     },
     "metadata": {},
     "output_type": "display_data"
    },
    {
     "data": {
      "text/html": [
       "<span class=\"tex2jax_ignore\"><div class=\"entities\" style=\"line-height: 2.5; direction: ltr\">road trip to florida with my sis been driving for 5 hrs in pouring rain! \n",
       "<mark class=\"entity\" style=\"background: #ddd; padding: 0.45em 0.6em; margin: 0 0.25em; line-height: 1; border-radius: 0.35em;\">\n",
       "    stopping\n",
       "    <span style=\"font-size: 0.8em; font-weight: bold; line-height: 1; border-radius: 0.35em; vertical-align: middle; margin-left: 0.5rem\">FOOD</span>\n",
       "</mark>\n",
       " for the night12 hours left to drive</div></span>"
      ],
      "text/plain": [
       "<IPython.core.display.HTML object>"
      ]
     },
     "metadata": {},
     "output_type": "display_data"
    },
    {
     "data": {
      "text/html": [
       "<span class=\"tex2jax_ignore\"><div class=\"entities\" style=\"line-height: 2.5; direction: ltr\">throat is closing up and i had some \n",
       "<mark class=\"entity\" style=\"background: #ddd; padding: 0.45em 0.6em; margin: 0 0.25em; line-height: 1; border-radius: 0.35em;\">\n",
       "    string cheese\n",
       "    <span style=\"font-size: 0.8em; font-weight: bold; line-height: 1; border-radius: 0.35em; vertical-align: middle; margin-left: 0.5rem\">FOOD</span>\n",
       "</mark>\n",
       " not a good idea</div></span>"
      ],
      "text/plain": [
       "<IPython.core.display.HTML object>"
      ]
     },
     "metadata": {},
     "output_type": "display_data"
    },
    {
     "data": {
      "text/html": [
       "<span class=\"tex2jax_ignore\"><div class=\"entities\" style=\"line-height: 2.5; direction: ltr\"> haaaaa i want mac and \n",
       "<mark class=\"entity\" style=\"background: #ddd; padding: 0.45em 0.6em; margin: 0 0.25em; line-height: 1; border-radius: 0.35em;\">\n",
       "    cheese\n",
       "    <span style=\"font-size: 0.8em; font-weight: bold; line-height: 1; border-radius: 0.35em; vertical-align: middle; margin-left: 0.5rem\">FOOD</span>\n",
       "</mark>\n",
       " toooooo!!! hahahaha heyi still got the one u left herei guess im making that today oo lol</div></span>"
      ],
      "text/plain": [
       "<IPython.core.display.HTML object>"
      ]
     },
     "metadata": {},
     "output_type": "display_data"
    },
    {
     "data": {
      "text/html": [
       "<span class=\"tex2jax_ignore\"><div class=\"entities\" style=\"line-height: 2.5; direction: ltr\">plug on train once again doesnt work</div></span>"
      ],
      "text/plain": [
       "<IPython.core.display.HTML object>"
      ]
     },
     "metadata": {},
     "output_type": "display_data"
    },
    {
     "data": {
      "text/html": [
       "<span class=\"tex2jax_ignore\"><div class=\"entities\" style=\"line-height: 2.5; direction: ltr\"> they have diff camps gahh they're all rural though woga woga and \n",
       "<mark class=\"entity\" style=\"background: #ddd; padding: 0.45em 0.6em; margin: 0 0.25em; line-height: 1; border-radius: 0.35em;\">\n",
       "    bathurst\n",
       "    <span style=\"font-size: 0.8em; font-weight: bold; line-height: 1; border-radius: 0.35em; vertical-align: middle; margin-left: 0.5rem\">FOOD</span>\n",
       "</mark>\n",
       " but they're the best 4 advertising</div></span>"
      ],
      "text/plain": [
       "<IPython.core.display.HTML object>"
      ]
     },
     "metadata": {},
     "output_type": "display_data"
    },
    {
     "data": {
      "text/html": [
       "<span class=\"tex2jax_ignore\"><div class=\"entities\" style=\"line-height: 2.5; direction: ltr\">\n",
       "<mark class=\"entity\" style=\"background: #ddd; padding: 0.45em 0.6em; margin: 0 0.25em; line-height: 1; border-radius: 0.35em;\">\n",
       "    chocolate\n",
       "    <span style=\"font-size: 0.8em; font-weight: bold; line-height: 1; border-radius: 0.35em; vertical-align: middle; margin-left: 0.5rem\">FOOD</span>\n",
       "</mark>\n",
       " covered \n",
       "<mark class=\"entity\" style=\"background: #ddd; padding: 0.45em 0.6em; margin: 0 0.25em; line-height: 1; border-radius: 0.35em;\">\n",
       "    strawberries\n",
       "    <span style=\"font-size: 0.8em; font-weight: bold; line-height: 1; border-radius: 0.35em; vertical-align: middle; margin-left: 0.5rem\">FOOD</span>\n",
       "</mark>\n",
       " and \n",
       "<mark class=\"entity\" style=\"background: #ddd; padding: 0.45em 0.6em; margin: 0 0.25em; line-height: 1; border-radius: 0.35em;\">\n",
       "    cottage cheese\n",
       "    <span style=\"font-size: 0.8em; font-weight: bold; line-height: 1; border-radius: 0.35em; vertical-align: middle; margin-left: 0.5rem\">FOOD</span>\n",
       "</mark>\n",
       " you have defeated me</div></span>"
      ],
      "text/plain": [
       "<IPython.core.display.HTML object>"
      ]
     },
     "metadata": {},
     "output_type": "display_data"
    },
    {
     "data": {
      "text/html": [
       "<span class=\"tex2jax_ignore\"><div class=\"entities\" style=\"line-height: 2.5; direction: ltr\">man i shouldn't have put \n",
       "<mark class=\"entity\" style=\"background: #ddd; padding: 0.45em 0.6em; margin: 0 0.25em; line-height: 1; border-radius: 0.35em;\">\n",
       "    cheese\n",
       "    <span style=\"font-size: 0.8em; font-weight: bold; line-height: 1; border-radius: 0.35em; vertical-align: middle; margin-left: 0.5rem\">FOOD</span>\n",
       "</mark>\n",
       " on that \n",
       "<mark class=\"entity\" style=\"background: #ddd; padding: 0.45em 0.6em; margin: 0 0.25em; line-height: 1; border-radius: 0.35em;\">\n",
       "    crab salad\n",
       "    <span style=\"font-size: 0.8em; font-weight: bold; line-height: 1; border-radius: 0.35em; vertical-align: middle; margin-left: 0.5rem\">FOOD</span>\n",
       "</mark>\n",
       " sandwich</div></span>"
      ],
      "text/plain": [
       "<IPython.core.display.HTML object>"
      ]
     },
     "metadata": {},
     "output_type": "display_data"
    },
    {
     "data": {
      "text/html": [
       "<span class=\"tex2jax_ignore\"><div class=\"entities\" style=\"line-height: 2.5; direction: ltr\">i thought  would be all about twitter in tooting i'm disappointed</div></span>"
      ],
      "text/plain": [
       "<IPython.core.display.HTML object>"
      ]
     },
     "metadata": {},
     "output_type": "display_data"
    },
    {
     "data": {
      "text/html": [
       "<span class=\"tex2jax_ignore\"><div class=\"entities\" style=\"line-height: 2.5; direction: ltr\">just woken up finally got to sleep last night alone on the couch watching one tree hill eating \n",
       "<mark class=\"entity\" style=\"background: #ddd; padding: 0.45em 0.6em; margin: 0 0.25em; line-height: 1; border-radius: 0.35em;\">\n",
       "    cheese\n",
       "    <span style=\"font-size: 0.8em; font-weight: bold; line-height: 1; border-radius: 0.35em; vertical-align: middle; margin-left: 0.5rem\">FOOD</span>\n",
       "</mark>\n",
       " and crackers!</div></span>"
      ],
      "text/plain": [
       "<IPython.core.display.HTML object>"
      ]
     },
     "metadata": {},
     "output_type": "display_data"
    },
    {
     "data": {
      "text/html": [
       "<span class=\"tex2jax_ignore\"><div class=\"entities\" style=\"line-height: 2.5; direction: ltr\">just woke upp [: \n",
       "<mark class=\"entity\" style=\"background: #ddd; padding: 0.45em 0.6em; margin: 0 0.25em; line-height: 1; border-radius: 0.35em;\">\n",
       "    cheese\n",
       "    <span style=\"font-size: 0.8em; font-weight: bold; line-height: 1; border-radius: 0.35em; vertical-align: middle; margin-left: 0.5rem\">FOOD</span>\n",
       "</mark>\n",
       " on toast yummmm i want to wear my spongebob teeshirt but i cant find it</div></span>"
      ],
      "text/plain": [
       "<IPython.core.display.HTML object>"
      ]
     },
     "metadata": {},
     "output_type": "display_data"
    },
    {
     "data": {
      "text/html": [
       "<span class=\"tex2jax_ignore\"><div class=\"entities\" style=\"line-height: 2.5; direction: ltr\">all smoked my \n",
       "<mark class=\"entity\" style=\"background: #ddd; padding: 0.45em 0.6em; margin: 0 0.25em; line-height: 1; border-radius: 0.35em;\">\n",
       "    rabbit\n",
       "    <span style=\"font-size: 0.8em; font-weight: bold; line-height: 1; border-radius: 0.35em; vertical-align: middle; margin-left: 0.5rem\">FOOD</span>\n",
       "</mark>\n",
       " is so cute but he hates me</div></span>"
      ],
      "text/plain": [
       "<IPython.core.display.HTML object>"
      ]
     },
     "metadata": {},
     "output_type": "display_data"
    },
    {
     "data": {
      "text/html": [
       "<span class=\"tex2jax_ignore\"><div class=\"entities\" style=\"line-height: 2.5; direction: ltr\">not wanting to get rid of her rabbits this is going to be a great day</div></span>"
      ],
      "text/plain": [
       "<IPython.core.display.HTML object>"
      ]
     },
     "metadata": {},
     "output_type": "display_data"
    },
    {
     "data": {
      "text/html": [
       "<span class=\"tex2jax_ignore\"><div class=\"entities\" style=\"line-height: 2.5; direction: ltr\">\n",
       "<mark class=\"entity\" style=\"background: #ddd; padding: 0.45em 0.6em; margin: 0 0.25em; line-height: 1; border-radius: 0.35em;\">\n",
       "    rabbit\n",
       "    <span style=\"font-size: 0.8em; font-weight: bold; line-height: 1; border-radius: 0.35em; vertical-align: middle; margin-left: 0.5rem\">FOOD</span>\n",
       "</mark>\n",
       " ran in front of my car</div></span>"
      ],
      "text/plain": [
       "<IPython.core.display.HTML object>"
      ]
     },
     "metadata": {},
     "output_type": "display_data"
    },
    {
     "data": {
      "text/html": [
       "<span class=\"tex2jax_ignore\"><div class=\"entities\" style=\"line-height: 2.5; direction: ltr\">does not want to write this history paper</div></span>"
      ],
      "text/plain": [
       "<IPython.core.display.HTML object>"
      ]
     },
     "metadata": {},
     "output_type": "display_data"
    },
    {
     "data": {
      "text/html": [
       "<span class=\"tex2jax_ignore\"><div class=\"entities\" style=\"line-height: 2.5; direction: ltr\">eww i skanky this morn dang that yucky 9 hour old \n",
       "<mark class=\"entity\" style=\"background: #ddd; padding: 0.45em 0.6em; margin: 0 0.25em; line-height: 1; border-radius: 0.35em;\">\n",
       "    pizza\n",
       "    <span style=\"font-size: 0.8em; font-weight: bold; line-height: 1; border-radius: 0.35em; vertical-align: middle; margin-left: 0.5rem\">FOOD</span>\n",
       "</mark>\n",
       " i ate lastnight before passing out i feel awful</div></span>"
      ],
      "text/plain": [
       "<IPython.core.display.HTML object>"
      ]
     },
     "metadata": {},
     "output_type": "display_data"
    },
    {
     "data": {
      "text/html": [
       "<span class=\"tex2jax_ignore\"><div class=\"entities\" style=\"line-height: 2.5; direction: ltr\">zzzzzpacking and cleaning all day \n",
       "<mark class=\"entity\" style=\"background: #ddd; padding: 0.45em 0.6em; margin: 0 0.25em; line-height: 1; border-radius: 0.35em;\">\n",
       "    pizza\n",
       "    <span style=\"font-size: 0.8em; font-weight: bold; line-height: 1; border-radius: 0.35em; vertical-align: middle; margin-left: 0.5rem\">FOOD</span>\n",
       "</mark>\n",
       " and glasses of red winenowpaint the 4th roomggrrrrr don't want to but i must</div></span>"
      ],
      "text/plain": [
       "<IPython.core.display.HTML object>"
      ]
     },
     "metadata": {},
     "output_type": "display_data"
    },
    {
     "data": {
      "text/html": [
       "<span class=\"tex2jax_ignore\"><div class=\"entities\" style=\"line-height: 2.5; direction: ltr\">school tomorrow (n) we(rhys amanda grant) we went ta glasgow and ran out of \n",
       "<mark class=\"entity\" style=\"background: #ddd; padding: 0.45em 0.6em; margin: 0 0.25em; line-height: 1; border-radius: 0.35em;\">\n",
       "    pizza\n",
       "    <span style=\"font-size: 0.8em; font-weight: bold; line-height: 1; border-radius: 0.35em; vertical-align: middle; margin-left: 0.5rem\">FOOD</span>\n",
       "</mark>\n",
       " hut then grant decides not to run so we have to scrape</div></span>"
      ],
      "text/plain": [
       "<IPython.core.display.HTML object>"
      ]
     },
     "metadata": {},
     "output_type": "display_data"
    },
    {
     "data": {
      "text/html": [
       "<span class=\"tex2jax_ignore\"><div class=\"entities\" style=\"line-height: 2.5; direction: ltr\">i just burnt my \n",
       "<mark class=\"entity\" style=\"background: #ddd; padding: 0.45em 0.6em; margin: 0 0.25em; line-height: 1; border-radius: 0.35em;\">\n",
       "    pizza\n",
       "    <span style=\"font-size: 0.8em; font-weight: bold; line-height: 1; border-radius: 0.35em; vertical-align: middle; margin-left: 0.5rem\">FOOD</span>\n",
       "</mark>\n",
       " and my left eye won't stop watering wtf plus i have work again tonight</div></span>"
      ],
      "text/plain": [
       "<IPython.core.display.HTML object>"
      ]
     },
     "metadata": {},
     "output_type": "display_data"
    },
    {
     "data": {
      "text/html": [
       "<span class=\"tex2jax_ignore\"><div class=\"entities\" style=\"line-height: 2.5; direction: ltr\">kfc + \n",
       "<mark class=\"entity\" style=\"background: #ddd; padding: 0.45em 0.6em; margin: 0 0.25em; line-height: 1; border-radius: 0.35em;\">\n",
       "    pizza\n",
       "    <span style=\"font-size: 0.8em; font-weight: bold; line-height: 1; border-radius: 0.35em; vertical-align: middle; margin-left: 0.5rem\">FOOD</span>\n",
       "</mark>\n",
       " hut =&amp;gt; deadly combi too full to sleep</div></span>"
      ],
      "text/plain": [
       "<IPython.core.display.HTML object>"
      ]
     },
     "metadata": {},
     "output_type": "display_data"
    },
    {
     "data": {
      "text/html": [
       "<span class=\"tex2jax_ignore\"><div class=\"entities\" style=\"line-height: 2.5; direction: ltr\"> i have too much veggies and \n",
       "<mark class=\"entity\" style=\"background: #ddd; padding: 0.45em 0.6em; margin: 0 0.25em; line-height: 1; border-radius: 0.35em;\">\n",
       "    rice\n",
       "    <span style=\"font-size: 0.8em; font-weight: bold; line-height: 1; border-radius: 0.35em; vertical-align: middle; margin-left: 0.5rem\">FOOD</span>\n",
       "</mark>\n",
       " i want \n",
       "<mark class=\"entity\" style=\"background: #ddd; padding: 0.45em 0.6em; margin: 0 0.25em; line-height: 1; border-radius: 0.35em;\">\n",
       "    pizza\n",
       "    <span style=\"font-size: 0.8em; font-weight: bold; line-height: 1; border-radius: 0.35em; vertical-align: middle; margin-left: 0.5rem\">FOOD</span>\n",
       "</mark>\n",
       " but no recession</div></span>"
      ],
      "text/plain": [
       "<IPython.core.display.HTML object>"
      ]
     },
     "metadata": {},
     "output_type": "display_data"
    },
    {
     "data": {
      "text/html": [
       "<span class=\"tex2jax_ignore\"><div class=\"entities\" style=\"line-height: 2.5; direction: ltr\"> sorry sweets i only use the pencil kind</div></span>"
      ],
      "text/plain": [
       "<IPython.core.display.HTML object>"
      ]
     },
     "metadata": {},
     "output_type": "display_data"
    },
    {
     "data": {
      "text/html": [
       "<span class=\"tex2jax_ignore\"><div class=\"entities\" style=\"line-height: 2.5; direction: ltr\">back twitterverse! what's the magic number? approx $1k and it's body corp insurance not landlords that covers the garage ;)</div></span>"
      ],
      "text/plain": [
       "<IPython.core.display.HTML object>"
      ]
     },
     "metadata": {},
     "output_type": "display_data"
    },
    {
     "data": {
      "text/html": [
       "<span class=\"tex2jax_ignore\"><div class=\"entities\" style=\"line-height: 2.5; direction: ltr\"> not really just upset got dressed to go out somewhere then got back into bed for no reason im being a bit of a sook</div></span>"
      ],
      "text/plain": [
       "<IPython.core.display.HTML object>"
      ]
     },
     "metadata": {},
     "output_type": "display_data"
    },
    {
     "data": {
      "text/html": [
       "<span class=\"tex2jax_ignore\"><div class=\"entities\" style=\"line-height: 2.5; direction: ltr\">its raining and its cold outside winter coats again</div></span>"
      ],
      "text/plain": [
       "<IPython.core.display.HTML object>"
      ]
     },
     "metadata": {},
     "output_type": "display_data"
    },
    {
     "data": {
      "text/html": [
       "<span class=\"tex2jax_ignore\"><div class=\"entities\" style=\"line-height: 2.5; direction: ltr\">sick roomie gave me her cold my throats sore (hurts to swallow my cereal) super tired 24/7 now damn colds</div></span>"
      ],
      "text/plain": [
       "<IPython.core.display.HTML object>"
      ]
     },
     "metadata": {},
     "output_type": "display_data"
    },
    {
     "data": {
      "text/html": [
       "<span class=\"tex2jax_ignore\"><div class=\"entities\" style=\"line-height: 2.5; direction: ltr\">no flying to ponca city today for breakfast oatmeal at home here i come \n",
       "<mark class=\"entity\" style=\"background: #ddd; padding: 0.45em 0.6em; margin: 0 0.25em; line-height: 1; border-radius: 0.35em;\">\n",
       "    oats\n",
       "    <span style=\"font-size: 0.8em; font-weight: bold; line-height: 1; border-radius: 0.35em; vertical-align: middle; margin-left: 0.5rem\">FOOD</span>\n",
       "</mark>\n",
       " ftw !</div></span>"
      ],
      "text/plain": [
       "<IPython.core.display.HTML object>"
      ]
     },
     "metadata": {},
     "output_type": "display_data"
    },
    {
     "data": {
      "text/html": [
       "<span class=\"tex2jax_ignore\"><div class=\"entities\" style=\"line-height: 2.5; direction: ltr\">just walked by marksandspencers food n didn't get her beloved \n",
       "<mark class=\"entity\" style=\"background: #ddd; padding: 0.45em 0.6em; margin: 0 0.25em; line-height: 1; border-radius: 0.35em;\">\n",
       "    honey\n",
       "    <span style=\"font-size: 0.8em; font-weight: bold; line-height: 1; border-radius: 0.35em; vertical-align: middle; margin-left: 0.5rem\">FOOD</span>\n",
       "</mark>\n",
       " n \n",
       "<mark class=\"entity\" style=\"background: #ddd; padding: 0.45em 0.6em; margin: 0 0.25em; line-height: 1; border-radius: 0.35em;\">\n",
       "    oats\n",
       "    <span style=\"font-size: 0.8em; font-weight: bold; line-height: 1; border-radius: 0.35em; vertical-align: middle; margin-left: 0.5rem\">FOOD</span>\n",
       "</mark>\n",
       " flapjack *poverty sucks*</div></span>"
      ],
      "text/plain": [
       "<IPython.core.display.HTML object>"
      ]
     },
     "metadata": {},
     "output_type": "display_data"
    },
    {
     "data": {
      "text/html": [
       "<span class=\"tex2jax_ignore\"><div class=\"entities\" style=\"line-height: 2.5; direction: ltr\">if lucas till and taylor swift start dating i will start barfing goats all over the placeeeeeeeeeeeeeeeeee +o(</div></span>"
      ],
      "text/plain": [
       "<IPython.core.display.HTML object>"
      ]
     },
     "metadata": {},
     "output_type": "display_data"
    },
    {
     "data": {
      "text/html": [
       "<span class=\"tex2jax_ignore\"><div class=\"entities\" style=\"line-height: 2.5; direction: ltr\">bed time back to reality</div></span>"
      ],
      "text/plain": [
       "<IPython.core.display.HTML object>"
      ]
     },
     "metadata": {},
     "output_type": "display_data"
    }
   ],
   "source": [
    "# for tweet in test_data['tweet'][:500]:\n",
    "#     ents = nlp(preProcess(tweet))\n",
    "#     #if ents.doc.ents:\n",
    "#     ent_recognize(preProcess(tweet))"
   ]
  },
  {
   "cell_type": "markdown",
   "metadata": {},
   "source": [
    "# Old Results (Don't Change Unless on Purpose!)"
   ]
  },
  {
   "cell_type": "code",
   "execution_count": null,
   "metadata": {},
   "outputs": [],
   "source": [
    "# foodK1 = foodKeeperInfo()\n",
    "# notInFoodKeeper = []\n",
    "# inFoodKeeper = []\n",
    "# for keyword in keywordsFound:\n",
    "#     if keyword not in foodK1 and keyword not in notInFoodKeeper: notInFoodKeeper.append(keyword)\n",
    "#     elif keyword in foodK1 and keyword not in inFoodKeeper: inFoodKeeper.append(keyword)\n",
    "        \n",
    "# # print(len(notInFoodKeeper), len(inFoodKeeper))\n",
    "# # print(inFoodKeeper)\n",
    "# #Normal Process"
   ]
  },
  {
   "cell_type": "code",
   "execution_count": null,
   "metadata": {},
   "outputs": [],
   "source": [
    "# foodK1 = foodKeeperInfo()\n",
    "# notInFoodKeeper = []\n",
    "# inFoodKeeper = []\n",
    "# for keyword in keywordsFound:\n",
    "#     if keyword not in foodK1 and keyword not in notInFoodKeeper: notInFoodKeeper.append(keyword)\n",
    "#     elif keyword in foodK1 and keyword not in inFoodKeeper: inFoodKeeper.append(keyword)\n",
    "        \n",
    "# print(len(notInFoodKeeper), len(inFoodKeeper))"
   ]
  }
 ],
 "metadata": {
  "kernelspec": {
   "display_name": "Python 3 (ipykernel)",
   "language": "python",
   "name": "python3"
  },
  "language_info": {
   "codemirror_mode": {
    "name": "ipython",
    "version": 3
   },
   "file_extension": ".py",
   "mimetype": "text/x-python",
   "name": "python",
   "nbconvert_exporter": "python",
   "pygments_lexer": "ipython3",
   "version": "3.10.9"
  }
 },
 "nbformat": 4,
 "nbformat_minor": 4
}
