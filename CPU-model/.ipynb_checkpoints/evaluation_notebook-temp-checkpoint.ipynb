{
 "cells": [
  {
   "cell_type": "markdown",
   "metadata": {},
   "source": [
    "## Evaluation Notebook"
   ]
  },
  {
   "cell_type": "code",
   "execution_count": 7,
   "metadata": {
    "scrolled": true
   },
   "outputs": [
    {
     "name": "stdout",
     "output_type": "stream",
     "text": [
      "Collecting en-core-web-sm==3.4.1\n",
      "  Using cached https://github.com/explosion/spacy-models/releases/download/en_core_web_sm-3.4.1/en_core_web_sm-3.4.1-py3-none-any.whl (12.8 MB)\n",
      "Requirement already satisfied: spacy<3.5.0,>=3.4.0 in c:\\users\\ferna\\anaconda3\\lib\\site-packages (from en-core-web-sm==3.4.1) (3.4.3)\n",
      "Requirement already satisfied: tqdm<5.0.0,>=4.38.0 in c:\\users\\ferna\\anaconda3\\lib\\site-packages (from spacy<3.5.0,>=3.4.0->en-core-web-sm==3.4.1) (4.64.1)\n",
      "Requirement already satisfied: requests<3.0.0,>=2.13.0 in c:\\users\\ferna\\anaconda3\\lib\\site-packages (from spacy<3.5.0,>=3.4.0->en-core-web-sm==3.4.1) (2.28.1)\n",
      "Requirement already satisfied: cymem<2.1.0,>=2.0.2 in c:\\users\\ferna\\anaconda3\\lib\\site-packages (from spacy<3.5.0,>=3.4.0->en-core-web-sm==3.4.1) (2.0.7)\n",
      "Requirement already satisfied: typer<0.8.0,>=0.3.0 in c:\\users\\ferna\\anaconda3\\lib\\site-packages (from spacy<3.5.0,>=3.4.0->en-core-web-sm==3.4.1) (0.7.0)\n",
      "Requirement already satisfied: packaging>=20.0 in c:\\users\\ferna\\anaconda3\\lib\\site-packages (from spacy<3.5.0,>=3.4.0->en-core-web-sm==3.4.1) (21.3)\n",
      "Requirement already satisfied: thinc<8.2.0,>=8.1.0 in c:\\users\\ferna\\anaconda3\\lib\\site-packages (from spacy<3.5.0,>=3.4.0->en-core-web-sm==3.4.1) (8.1.5)\n",
      "Requirement already satisfied: setuptools in c:\\users\\ferna\\anaconda3\\lib\\site-packages (from spacy<3.5.0,>=3.4.0->en-core-web-sm==3.4.1) (63.4.1)\n",
      "Requirement already satisfied: jinja2 in c:\\users\\ferna\\anaconda3\\lib\\site-packages (from spacy<3.5.0,>=3.4.0->en-core-web-sm==3.4.1) (2.11.3)\n",
      "Requirement already satisfied: pathy>=0.3.5 in c:\\users\\ferna\\anaconda3\\lib\\site-packages (from spacy<3.5.0,>=3.4.0->en-core-web-sm==3.4.1) (0.10.0)\n",
      "Requirement already satisfied: pydantic!=1.8,!=1.8.1,<1.11.0,>=1.7.4 in c:\\users\\ferna\\anaconda3\\lib\\site-packages (from spacy<3.5.0,>=3.4.0->en-core-web-sm==3.4.1) (1.10.2)\n",
      "Requirement already satisfied: preshed<3.1.0,>=3.0.2 in c:\\users\\ferna\\anaconda3\\lib\\site-packages (from spacy<3.5.0,>=3.4.0->en-core-web-sm==3.4.1) (3.0.8)\n",
      "Requirement already satisfied: murmurhash<1.1.0,>=0.28.0 in c:\\users\\ferna\\anaconda3\\lib\\site-packages (from spacy<3.5.0,>=3.4.0->en-core-web-sm==3.4.1) (1.0.9)\n",
      "Requirement already satisfied: numpy>=1.15.0 in c:\\users\\ferna\\anaconda3\\lib\\site-packages (from spacy<3.5.0,>=3.4.0->en-core-web-sm==3.4.1) (1.21.5)\n",
      "Requirement already satisfied: srsly<3.0.0,>=2.4.3 in c:\\users\\ferna\\anaconda3\\lib\\site-packages (from spacy<3.5.0,>=3.4.0->en-core-web-sm==3.4.1) (2.4.5)\n",
      "Requirement already satisfied: spacy-loggers<2.0.0,>=1.0.0 in c:\\users\\ferna\\anaconda3\\lib\\site-packages (from spacy<3.5.0,>=3.4.0->en-core-web-sm==3.4.1) (1.0.3)\n",
      "Requirement already satisfied: langcodes<4.0.0,>=3.2.0 in c:\\users\\ferna\\anaconda3\\lib\\site-packages (from spacy<3.5.0,>=3.4.0->en-core-web-sm==3.4.1) (3.3.0)\n",
      "Requirement already satisfied: spacy-legacy<3.1.0,>=3.0.10 in c:\\users\\ferna\\anaconda3\\lib\\site-packages (from spacy<3.5.0,>=3.4.0->en-core-web-sm==3.4.1) (3.0.10)\n",
      "Requirement already satisfied: catalogue<2.1.0,>=2.0.6 in c:\\users\\ferna\\anaconda3\\lib\\site-packages (from spacy<3.5.0,>=3.4.0->en-core-web-sm==3.4.1) (2.0.8)\n",
      "Requirement already satisfied: wasabi<1.1.0,>=0.9.1 in c:\\users\\ferna\\anaconda3\\lib\\site-packages (from spacy<3.5.0,>=3.4.0->en-core-web-sm==3.4.1) (0.10.1)\n",
      "Requirement already satisfied: pyparsing!=3.0.5,>=2.0.2 in c:\\users\\ferna\\anaconda3\\lib\\site-packages (from packaging>=20.0->spacy<3.5.0,>=3.4.0->en-core-web-sm==3.4.1) (3.0.9)\n",
      "Requirement already satisfied: smart-open<6.0.0,>=5.2.1 in c:\\users\\ferna\\anaconda3\\lib\\site-packages (from pathy>=0.3.5->spacy<3.5.0,>=3.4.0->en-core-web-sm==3.4.1) (5.2.1)\n",
      "Requirement already satisfied: typing-extensions>=4.1.0 in c:\\users\\ferna\\anaconda3\\lib\\site-packages (from pydantic!=1.8,!=1.8.1,<1.11.0,>=1.7.4->spacy<3.5.0,>=3.4.0->en-core-web-sm==3.4.1) (4.3.0)\n",
      "Requirement already satisfied: idna<4,>=2.5 in c:\\users\\ferna\\anaconda3\\lib\\site-packages (from requests<3.0.0,>=2.13.0->spacy<3.5.0,>=3.4.0->en-core-web-sm==3.4.1) (3.3)\n",
      "Requirement already satisfied: urllib3<1.27,>=1.21.1 in c:\\users\\ferna\\anaconda3\\lib\\site-packages (from requests<3.0.0,>=2.13.0->spacy<3.5.0,>=3.4.0->en-core-web-sm==3.4.1) (1.26.11)\n",
      "Requirement already satisfied: charset-normalizer<3,>=2 in c:\\users\\ferna\\anaconda3\\lib\\site-packages (from requests<3.0.0,>=2.13.0->spacy<3.5.0,>=3.4.0->en-core-web-sm==3.4.1) (2.0.4)\n",
      "Requirement already satisfied: certifi>=2017.4.17 in c:\\users\\ferna\\anaconda3\\lib\\site-packages (from requests<3.0.0,>=2.13.0->spacy<3.5.0,>=3.4.0->en-core-web-sm==3.4.1) (2022.9.14)\n",
      "Requirement already satisfied: confection<1.0.0,>=0.0.1 in c:\\users\\ferna\\anaconda3\\lib\\site-packages (from thinc<8.2.0,>=8.1.0->spacy<3.5.0,>=3.4.0->en-core-web-sm==3.4.1) (0.0.3)\n",
      "Requirement already satisfied: blis<0.8.0,>=0.7.8 in c:\\users\\ferna\\anaconda3\\lib\\site-packages (from thinc<8.2.0,>=8.1.0->spacy<3.5.0,>=3.4.0->en-core-web-sm==3.4.1) (0.7.9)\n",
      "Requirement already satisfied: colorama in c:\\users\\ferna\\anaconda3\\lib\\site-packages (from tqdm<5.0.0,>=4.38.0->spacy<3.5.0,>=3.4.0->en-core-web-sm==3.4.1) (0.4.5)\n",
      "Requirement already satisfied: click<9.0.0,>=7.1.1 in c:\\users\\ferna\\anaconda3\\lib\\site-packages (from typer<0.8.0,>=0.3.0->spacy<3.5.0,>=3.4.0->en-core-web-sm==3.4.1) (8.0.4)\n",
      "Requirement already satisfied: MarkupSafe>=0.23 in c:\\users\\ferna\\anaconda3\\lib\\site-packages (from jinja2->spacy<3.5.0,>=3.4.0->en-core-web-sm==3.4.1) (2.0.1)\n",
      "[+] Download and installation successful\n",
      "You can now load the package via spacy.load('en_core_web_sm')\n"
     ]
    }
   ],
   "source": [
    "!python -m spacy download en_core_web_sm\n",
    "\n"
   ]
  },
  {
   "cell_type": "code",
   "execution_count": 2,
   "metadata": {},
   "outputs": [],
   "source": [
    "# pip install spacy\n",
    "# pip install xlrd"
   ]
  },
  {
   "cell_type": "code",
   "execution_count": 8,
   "metadata": {},
   "outputs": [],
   "source": [
    "import pandas as pd\n",
    "from tqdm import tqdm\n",
    "import spacy\n",
    "from spacy.tokens import DocBin\n",
    "import re\n",
    "import os\n",
    "from spacy import displacy\n",
    "from sklearn import metrics\n",
    "from sklearn.metrics import plot_confusion_matrix\n",
    "\n",
    "from spacy.util import filter_spans\n",
    "\n",
    "FOODKEEPER_PATH = \"datasets/FoodKeeper-Data.xls\"\n",
    "TRAINING_DATA_PATH = \"datasets/data.csv\"\n",
    "MODEL_PATH = \"output/model-last\"\n",
    "TEST_DATA_PATH = \"datasets/test_data.csv\"\n",
    "REAL_TWITTER_DATA_PATH = \"datasets/data.csv\"\n",
    "#STARTING_KEYWORD_COUNT = 10\n",
    "#TRAINING_LOOP_ITERATIONS = 3\n",
    "#REQUIRED_KEYWORDS = 3\n",
    "\n",
    "pd.options.mode.chained_assignment = None\n",
    "\n",
    "#nlp = spacy.load(MODEL_PATH)\n",
    "nlp = spacy.blank(\"en\")\n",
    "food_data = pd.read_excel(FOODKEEPER_PATH, sheet_name = \"Product\")\n",
    "training_data = pd.read_csv(TRAINING_DATA_PATH,index_col = False, header = None)\n",
    "# training_data.head()"
   ]
  },
  {
   "cell_type": "code",
   "execution_count": 6,
   "metadata": {},
   "outputs": [],
   "source": [
    "test_data = pd.read_csv(TEST_DATA_PATH)\n",
    "# test_data.head()"
   ]
  },
  {
   "cell_type": "code",
   "execution_count": null,
   "metadata": {},
   "outputs": [
    {
     "data": {
      "text/plain": [
       "['butter',\n",
       " 'buttermilk',\n",
       " 'cheese',\n",
       " 'coffee creamer',\n",
       " 'cottage cheese',\n",
       " 'cream cheese',\n",
       " 'cream',\n",
       " 'dips',\n",
       " 'egg substitutes',\n",
       " 'eggnog',\n",
       " 'eggs',\n",
       " 'egg dishes',\n",
       " 'kefir',\n",
       " 'margarine',\n",
       " 'milk',\n",
       " 'pudding',\n",
       " 'sour cream',\n",
       " 'whipped cream',\n",
       " 'whipped topping',\n",
       " 'yogurt',\n",
       " 'beef',\n",
       " 'lamb',\n",
       " 'veal',\n",
       " 'pork',\n",
       " 'goat',\n",
       " 'venison',\n",
       " 'variety meats',\n",
       " 'bacon',\n",
       " 'corned beef',\n",
       " 'ham',\n",
       " 'hot dogs',\n",
       " 'sausage',\n",
       " 'stuffed  raw pork chops',\n",
       " 'raw kabobs with vegetables',\n",
       " 'jerky',\n",
       " 'meat products',\n",
       " 'retort pouches boxes',\n",
       " 'chicken',\n",
       " 'turkey',\n",
       " 'ground turkey chicken',\n",
       " 'chicken parts',\n",
       " 'turkey parts',\n",
       " 'duckling',\n",
       " 'goose',\n",
       " 'pheasant',\n",
       " 'quail',\n",
       " 'capon',\n",
       " 'cornish hens',\n",
       " 'giblets',\n",
       " 'stuffed  raw chicken breasts',\n",
       " 'turducken',\n",
       " 'chicken nuggets  patties',\n",
       " 'cooked poultry dishes',\n",
       " 'fried chicken',\n",
       " 'poultry pieces',\n",
       " 'rotisserie chicken',\n",
       " 'canned chicken',\n",
       " 'lean fish',\n",
       " 'fatty fish',\n",
       " 'caviar',\n",
       " 'cooked fish',\n",
       " 'surimi seafood',\n",
       " 'scallops',\n",
       " 'shrimp  crayfish',\n",
       " 'squid',\n",
       " 'shucked clams  mussels  and oysters',\n",
       " 'crab meat',\n",
       " 'crab legs',\n",
       " 'live clams  mussels  crab  and oysters',\n",
       " 'fresh whole lobster',\n",
       " 'fresh lobster tails',\n",
       " 'fresh clams  mussels  oysters',\n",
       " 'cooked shellfish',\n",
       " 'herring',\n",
       " 'fish',\n",
       " 'tofu',\n",
       " 'miso',\n",
       " 'soy flour',\n",
       " 'textured soy protein',\n",
       " 're-hydrated textured soy protein',\n",
       " 'leftovers',\n",
       " 'commercial brand vacuum-packed dinners',\n",
       " 'cooked pasta',\n",
       " 'cooked rice',\n",
       " 'fruit  cut',\n",
       " 'guacamole',\n",
       " 'hummus',\n",
       " 'luncheon meat poultry',\n",
       " 'main dishes meals',\n",
       " 'meats',\n",
       " 'olives',\n",
       " 'pate',\n",
       " 'soup  stews',\n",
       " 'casseroles',\n",
       " 'commercial bread products',\n",
       " 'tortillas',\n",
       " 'commercial cakes and muffins',\n",
       " 'cheesecake',\n",
       " 'cookies',\n",
       " 'dairy filled eclairs',\n",
       " 'doughnuts',\n",
       " 'fruit cake',\n",
       " 'pastries  danish',\n",
       " 'cream pies',\n",
       " 'chiffon pies',\n",
       " 'fruit pies',\n",
       " 'pies',\n",
       " 'quiche',\n",
       " 'baking powder',\n",
       " 'baking soda',\n",
       " 'biscuit pancake mix',\n",
       " 'cake  brownie  bread mixes',\n",
       " 'chocolate',\n",
       " 'cocoa and cocoa mixes',\n",
       " 'cornmeal',\n",
       " 'cornstarch',\n",
       " 'flour',\n",
       " 'frosting icing',\n",
       " 'gelatin',\n",
       " 'oils',\n",
       " 'nut oils',\n",
       " 'vegetable oil sprays',\n",
       " 'shortening',\n",
       " 'tamarind paste',\n",
       " 'chili powder',\n",
       " 'seasoning blends',\n",
       " 'flavored herb mixes',\n",
       " 'garlic',\n",
       " 'herbs',\n",
       " 'spice spices',\n",
       " 'sugar',\n",
       " 'sugar substitutes',\n",
       " 'tapiocas',\n",
       " 'tube cans',\n",
       " 'ready-to-bake pie crust',\n",
       " 'cookie dough',\n",
       " 'apples',\n",
       " 'apricots',\n",
       " 'avocados',\n",
       " 'bananas',\n",
       " 'berries',\n",
       " 'blueberries',\n",
       " 'cherimoya',\n",
       " 'citrus fruit',\n",
       " 'coconut',\n",
       " 'coconuts',\n",
       " 'cranberries',\n",
       " 'dates',\n",
       " 'grapes',\n",
       " 'guava',\n",
       " 'kiwi fruit',\n",
       " 'melons',\n",
       " 'papaya  mango  feijoa  passionfruit  casaha melon',\n",
       " 'peaches  nectarines  plums  pears  sapote',\n",
       " 'pineapple',\n",
       " 'plantains',\n",
       " 'pomegranate',\n",
       " 'artichokes  whole',\n",
       " 'asparagus',\n",
       " 'bamboo shoots',\n",
       " 'beans and peas',\n",
       " 'beets',\n",
       " 'bok choy',\n",
       " 'broccoli and broccoli raab (rapini)',\n",
       " 'brussels sprouts',\n",
       " 'cabbage',\n",
       " 'carrots  parsnips',\n",
       " 'cauliflower',\n",
       " 'celery',\n",
       " 'corn on the cob',\n",
       " 'cucumbers',\n",
       " 'eggplant',\n",
       " 'ginger root',\n",
       " 'greens',\n",
       " 'leeks',\n",
       " 'lettuce',\n",
       " 'mushrooms',\n",
       " 'okra',\n",
       " 'onions',\n",
       " 'peppers',\n",
       " 'potatoes',\n",
       " 'pumpkins',\n",
       " 'radishes',\n",
       " 'rhubarb',\n",
       " 'rutabagas',\n",
       " 'squash',\n",
       " 'tamarind',\n",
       " 'taro',\n",
       " 'tomatoes',\n",
       " 'turnips',\n",
       " 'yuca cassava',\n",
       " 'dough',\n",
       " 'frozen potato products',\n",
       " 'frozen pretzels',\n",
       " 'fruits',\n",
       " 'ice cream',\n",
       " 'ice pops',\n",
       " 'juice concentrates',\n",
       " 'lobster tails',\n",
       " 'pancakes  waffles',\n",
       " 'sausages',\n",
       " 'sherbet  sorbet',\n",
       " 'shrimp  shellfish',\n",
       " 'soy crumbles and hot dogs',\n",
       " 'soy meat substitutes',\n",
       " 'tempeh',\n",
       " 'frozen entrees',\n",
       " 'vegetables',\n",
       " 'fresh pasta',\n",
       " 'beans',\n",
       " 'lentils',\n",
       " 'pasta',\n",
       " 'dry egg noodles',\n",
       " 'peas',\n",
       " 'rice',\n",
       " 'barbecue sauce',\n",
       " 'chutney',\n",
       " 'cream sauces  milk solids',\n",
       " 'dry gravy mixes',\n",
       " 'gravy',\n",
       " 'honey',\n",
       " 'horseradish',\n",
       " 'jams  jellies  and preserves',\n",
       " 'ketchup  cocktail  chili sauce',\n",
       " 'marinades',\n",
       " 'mayonnaise',\n",
       " 'mustard',\n",
       " 'pickles',\n",
       " 'pesto',\n",
       " 'salad dressings',\n",
       " 'salsa',\n",
       " 'sauce mixes',\n",
       " 'spaghetti sauce',\n",
       " 'soy sauce teriyaki sauce',\n",
       " 'vinegar',\n",
       " 'worcestershire sauce',\n",
       " 'jars pouches',\n",
       " 'fruit',\n",
       " 'dinners',\n",
       " 'cereal  dry mixes',\n",
       " 'formula',\n",
       " 'liquid concentrate ready-to-feed formula',\n",
       " 'applesauce',\n",
       " 'bacon bits',\n",
       " 'canned goods',\n",
       " 'cereal',\n",
       " 'chocolate syrup',\n",
       " 'crackers',\n",
       " 'graham cracker animal cracker',\n",
       " 'fruits  dried',\n",
       " 'gummy (fruit) snacks',\n",
       " 'marshmallows',\n",
       " 'marshmallow crème',\n",
       " 'molasses',\n",
       " 'nuts',\n",
       " 'peanut butter',\n",
       " 'pectin',\n",
       " 'popcorn',\n",
       " 'potato chips',\n",
       " 'pretzels',\n",
       " 'pudding mixes',\n",
       " 'soup mixes',\n",
       " 'sun dried tomatoes',\n",
       " 'syrup',\n",
       " 'toaster pastries',\n",
       " 'coffee',\n",
       " 'diet powder mixes and drink mixes',\n",
       " 'fruit juice in cartons  fruit drinks  punch',\n",
       " 'juice  boxes',\n",
       " 'nectar',\n",
       " 'soda',\n",
       " 'soy rice beverage',\n",
       " 'tea',\n",
       " 'water',\n",
       " 'kumquats',\n",
       " 'bagged greens',\n",
       " 'tahini',\n",
       " 'egg salad',\n",
       " 'potato salad',\n",
       " 'seafood salads',\n",
       " 'chicken salad',\n",
       " 'ham salad',\n",
       " 'pasta salad',\n",
       " 'soy milk',\n",
       " 'yams sweet potatoes',\n",
       " 'kale',\n",
       " 'quinoa',\n",
       " 'almond milk',\n",
       " 'rice milk',\n",
       " 'coconut milk',\n",
       " 'turkey bacon',\n",
       " 'fruit cocktail',\n",
       " 'black bean sauce',\n",
       " 'oyster sauce',\n",
       " 'hoisin sauce',\n",
       " 'pork roll',\n",
       " 'almonds',\n",
       " 'cashews',\n",
       " 'macadamias',\n",
       " 'peanuts',\n",
       " 'pecans',\n",
       " 'pistachios',\n",
       " 'walnuts',\n",
       " 'lime juice',\n",
       " 'lemon juice',\n",
       " 'bagel',\n",
       " 'muffin',\n",
       " 'coconut oil',\n",
       " 'orange juice',\n",
       " 'roasted red peppers',\n",
       " 'whole wheat flour',\n",
       " 'whole wheat bread',\n",
       " 'red wine',\n",
       " 'white wine',\n",
       " 'dry stuffing mix',\n",
       " 'powdered milk',\n",
       " 'almond butter',\n",
       " 'cashew butter',\n",
       " 'salt',\n",
       " 'black pepper',\n",
       " 'cajun seasoning blend',\n",
       " 'cinnamon',\n",
       " 'cumin',\n",
       " 'garlic powder',\n",
       " 'onion powder',\n",
       " 'nutmeg',\n",
       " 'nacho cheese',\n",
       " 'star fruit',\n",
       " 'prickly pear',\n",
       " 'pitaya dragon fruit',\n",
       " 'strawberries',\n",
       " 'raspberries',\n",
       " 'cherries',\n",
       " 'broth',\n",
       " 'beef broth stock consommé',\n",
       " 'chicken broth stock consommé',\n",
       " 'vegetable stock broth',\n",
       " 'ricotta',\n",
       " 'baby carrots',\n",
       " 'jicama',\n",
       " 'kimchi',\n",
       " 'kohlrabi',\n",
       " 'watermelon',\n",
       " 'cantaloupe',\n",
       " 'honeydew',\n",
       " 'refried beans',\n",
       " 'relish',\n",
       " 'tomato paste',\n",
       " 'tapenade',\n",
       " 'flaxseed',\n",
       " 'lemongrass',\n",
       " 'cilantro',\n",
       " 'mint',\n",
       " 'basil',\n",
       " 'oregano',\n",
       " 'rosemary',\n",
       " 'chives',\n",
       " 'thyme',\n",
       " 'salami',\n",
       " 'canadian bacon',\n",
       " 'canola oil',\n",
       " 'almond oil',\n",
       " 'sunflower oil',\n",
       " 'grapeseed oil',\n",
       " 'duck fat',\n",
       " 'bacon grease',\n",
       " 'frying oil',\n",
       " 'almond extract',\n",
       " 'cinnamon extract',\n",
       " 'lemon extract',\n",
       " 'pure vanilla extract',\n",
       " 'butter flavor',\n",
       " 'coconut flavor',\n",
       " '\"genuine\" maple syrup',\n",
       " 'apple juice',\n",
       " 'carrot juice',\n",
       " 'hard liquors',\n",
       " 'cream liquors',\n",
       " 'macaroons',\n",
       " 'string cheese',\n",
       " 'vegan cheddar cheese',\n",
       " 'quark',\n",
       " 'zucchini',\n",
       " 'hot peppers',\n",
       " 'bean sprouts',\n",
       " 'swiss chard',\n",
       " 'puff pastry',\n",
       " 'biscuits',\n",
       " 'pie crust',\n",
       " 'granola',\n",
       " 'pork rinds',\n",
       " 'apple cider vinegar',\n",
       " 'nutrition supplement drinks',\n",
       " 'hot sauce',\n",
       " 'thai red curry paste',\n",
       " 'yeast',\n",
       " 'cranberry sauce',\n",
       " 'vegetable juice',\n",
       " 'marinated vegetables',\n",
       " 'pizza',\n",
       " 'chia seeds',\n",
       " 'bread',\n",
       " 'amaranth',\n",
       " 'barley',\n",
       " 'buckwheat',\n",
       " 'farro',\n",
       " 'millet',\n",
       " 'oats',\n",
       " 'rye',\n",
       " 'sorghum',\n",
       " 'spelt',\n",
       " 'teff',\n",
       " 'rabbit',\n",
       " 'spaghetti squash',\n",
       " 'garam masala',\n",
       " 'tomato sauce',\n",
       " 'cherry tomatoes',\n",
       " 'coconut cream',\n",
       " 'coleslaw',\n",
       " 'pumpkin seeds',\n",
       " 'sunflower seeds',\n",
       " 'parsley',\n",
       " 'sesame oil',\n",
       " 'sesame seeds',\n",
       " 'capers',\n",
       " 'chocolate hazlenut spread',\n",
       " 'roasted nuts (peanuts  cashews  almonds)',\n",
       " 'tuna',\n",
       " 'seafood',\n",
       " 'pimento cheese',\n",
       " 'bison',\n",
       " 'salad dressing',\n",
       " 'grits',\n",
       " 'cheese curds',\n",
       " 'vegetable soup',\n",
       " 'chorizo',\n",
       " 'cinnamon rolls',\n",
       " 'cooking wine',\n",
       " 'bulgur',\n",
       " 'bratwurst',\n",
       " 'edamame',\n",
       " 'breadcrumbs',\n",
       " 'ghee',\n",
       " 'corn syrup',\n",
       " 'instant breakfast drinks',\n",
       " 'pine nuts',\n",
       " 'coconut flour',\n",
       " 'polenta',\n",
       " 'cereal granola bars',\n",
       " 'coconut water',\n",
       " 'celery root',\n",
       " 'apple cider',\n",
       " 'yuzu juice',\n",
       " 'yuzu',\n",
       " 'pastrami',\n",
       " 'kugel',\n",
       " 'avocado oil',\n",
       " 'balsamic vinegar',\n",
       " 'aioli',\n",
       " 'base',\n",
       " 'anchovies',\n",
       " 'radicchio',\n",
       " 'prosciutto',\n",
       " 'arugula',\n",
       " 'mung bean',\n",
       " 'croutons']"
      ]
     },
     "execution_count": 42,
     "metadata": {},
     "output_type": "execute_result"
    }
   ],
   "source": [
    "# live_tweets = pd.read_csv(REAL_TWITTER_DATA_PATH, header = None)\n",
    "# live_tweets.head()\n",
    "\n",
    "\n",
    "\n",
    "#Gathers all the keywords from the FoodKeeper database\n",
    "def foodKeeperInfo():              \n",
    "    keywords = []\n",
    "    for word in food_data['Name']:\n",
    "        word = word.replace(\" or \", \" \")\n",
    "        word = re.sub('[/,]', ' ', word)\n",
    "        word = word.lstrip()\n",
    "        word = word.rstrip()\n",
    "\n",
    "        if word.lower() not in keywords: \n",
    "            keywords.append(word.lower())\n",
    "\n",
    "    #print(\"Total foodkeeper food names: \" + str(len(keywords)))        \n",
    "    #for element in sorted(keywords):\n",
    "        #print(element)\n",
    "        \n",
    "    return keywords\n",
    "\n",
    "foodKeeperKeywordsTest = foodKeeperInfo()\n",
    "foodKeeperKeywordsTest"
   ]
  },
  {
   "cell_type": "code",
   "execution_count": null,
   "metadata": {},
   "outputs": [
    {
     "name": "stdout",
     "output_type": "stream",
     "text": [
      "('  for that cake 6 egs 6 oz of butter 6 oz of four 6 oz of sugar 😉😉 milk bakeoff', {'entities': [(30, 36, 'FOOD')]})\n",
      "['butter', 'sugar', 'milk']\n"
     ]
    }
   ],
   "source": [
    "%run foodKeeperFunctions.ipynb\n",
    "\n",
    "def findNewKeywords(tweet, keywords):\n",
    "    foodkeeperKeys = foodKeeperInfo()\n",
    "    x = tweet.split()\n",
    "    word = \"\"\n",
    "    i = 0\n",
    "    while i < len(x):\n",
    "    #for i in range(len(x)):\n",
    "        z = 1\n",
    "        if x[i] in foodkeeperKeys:\n",
    "            word = x[i]\n",
    "        try:\n",
    "            foundBiWord = x[i] + \" \" + x[i+1]\n",
    "            if foundBiWord in foodkeeperKeys: #keywords\n",
    "                word = foundBiWord\n",
    "                z = 2\n",
    "        except:\n",
    "            pass\n",
    "        \n",
    "        try:\n",
    "            foundTriWord = x[i] + \" \" + x[i+1] + \" \" + x[i+2]\n",
    "            if foundTriWord in foodkeeperKeys: #keywords:\n",
    "                word = foundTriWord\n",
    "                z = 3\n",
    "        except:\n",
    "            pass\n",
    "        i += z\n",
    "        \n",
    "        if word not in keywords and word != \"\":\n",
    "            keywords.append(word)\n",
    "    return keywords\n",
    "\n",
    "test = []\n",
    "keywordRanker = {}\n",
    "myTweets = []\n",
    "keywords = ['yogurt', 'shrimp', 'butter']\n",
    "x = convertToTrainingFormat(preProcess(training_data[0][10]), keywords)\n",
    "myTweets.append(x)\n",
    "for elem in myTweets:\n",
    "    print(elem)\n",
    "    findNewKeywords(elem[0], test)\n",
    "print(test)\n",
    " "
   ]
  },
  {
   "cell_type": "code",
   "execution_count": null,
   "metadata": {
    "scrolled": true
   },
   "outputs": [
    {
     "name": "stdout",
     "output_type": "stream",
     "text": [
      "[]\n"
     ]
    }
   ],
   "source": [
    "import pandas as pd\n",
    "from tqdm import tqdm\n",
    "import spacy\n",
    "from spacy.tokens import DocBin\n",
    "import re\n",
    "import os\n",
    "from spacy import displacy\n",
    "from sklearn import metrics\n",
    "from sklearn.metrics import plot_confusion_matrix\n",
    "\n",
    "from spacy.util import filter_spans\n",
    " \n",
    "\n",
    "\n",
    "\n",
    "FOODKEEPER_PATH = \"datasets/FoodKeeper-Data.xls\"\n",
    "TRAINING_DATA_PATH = \"datasets/data.csv\"\n",
    "MODEL_PATH = \"output/model-last\"\n",
    "TEST_DATA_PATH = \"datasets/test_data.csv\"\n",
    "REAL_TWITTER_DATA_PATH = \"datasets/data.csv\"\n",
    "#STARTING_KEYWORD_COUNT = 10\n",
    "#TRAINING_LOOP_ITERATIONS = 3\n",
    "#REQUIRED_KEYWORDS = 3\n",
    "\n",
    "pd.options.mode.chained_assignment = None\n",
    "\n",
    "#nlp = spacy.load(MODEL_PATH)\n",
    "nlp = spacy.blank(\"en\")\n",
    "food_data = pd.read_excel(FOODKEEPER_PATH, sheet_name = \"Product\")\n",
    "training_data = pd.read_csv(TRAINING_DATA_PATH,index_col = False, header = None)\n",
    "test_data = pd.read_csv(TEST_DATA_PATH)\n",
    "live_tweets = pd.read_csv(REAL_TWITTER_DATA_PATH, header = None)\n",
    "\n",
    "\n",
    "#loop through and count the specific entities\n",
    "keywords = [] #'chicken', 'milk', 'butter', 'cheese'\n",
    "sampleData = []\n",
    "\n",
    "\n",
    "    \n",
    "#update rank tweet to take the counter as a parameter and condense both rankings\n",
    "def rankTweet(tweet, model):\n",
    "#     model = spacy.load(MODEL_PATH)\n",
    "#     tweetKeywords = []\n",
    "    doc = model(tweet)\n",
    "    return len(doc.ents)\n",
    "       \n",
    "    \n",
    "def findNewKeywords(tweet, keywords):\n",
    "    foodkeeperKeys = foodKeeperInfo()\n",
    "    x = tweet.split()\n",
    "    word = \"\"\n",
    "    i = 0\n",
    "    while i < len(x):\n",
    "    #for i in range(len(x)):\n",
    "        z = 1\n",
    "        if x[i] in foodkeeperKeys:\n",
    "            word = x[i]\n",
    "        try:\n",
    "            foundBiWord = x[i] + \" \" + x[i+1]\n",
    "            if foundBiWord in foodkeeperKeys: #keywords\n",
    "                word = foundBiWord\n",
    "                z = 2\n",
    "        except:\n",
    "            pass\n",
    "        \n",
    "        try:\n",
    "            foundTriWord = x[i] + \" \" + x[i+1] + \" \" + x[i+2]\n",
    "            if foundTriWord in foodkeeperKeys: #keywords:\n",
    "                word = foundTriWord\n",
    "                z = 3\n",
    "        except:\n",
    "            pass\n",
    "        i += z\n",
    "        \n",
    "        if word not in keywords and word != \"\":\n",
    "            keywords.append(word)\n",
    "    return keywords\n",
    "    \n",
    "\n",
    "#Function to find the most common verbs in the tweets\n",
    "def getCommonVerbs(data):\n",
    "    import en_core_web_sm\n",
    "    nlp2 = spacy.load(\"en_core_web_sm\")\n",
    "    count = 0\n",
    "    myVerbs = {}\n",
    "    for i in range(len(data[0])):\n",
    "        doc = nlp2(data[0][i])\n",
    "        for token in doc:\n",
    "            if token.pos_ == \"VERB\":\n",
    "                if token.text in myVerbs:\n",
    "                    myVerbs[token.text] = myVerbs[token.text] + 1\n",
    "                else:\n",
    "                    if token.text not in nlp2.Defaults.stop_words:\n",
    "                        myVerbs[token.text] = 1\n",
    "        \n",
    "\n",
    "    topVerbs = dict(sorted(myVerbs.items(), key = lambda item: item[1], reverse=True)[:10])\n",
    "    return [key for key in topVerbs]\n",
    "    \n",
    "\n",
    "    \n",
    "def convertToTrainingFormat(tweet, keywords):\n",
    "    foodKeeperKeywordsTest = foodKeeperInfo()\n",
    "    x = tweet.split()\n",
    "    myEnts = {'entities':[]}\n",
    "    found = False\n",
    "    i = 0\n",
    "    foundWords = []\n",
    "    while i < len(x):\n",
    "        z = 1\n",
    "        newWord = \"\"\n",
    "        if x[i] in keywords:\n",
    "            pos = tweet.find(x[i])\n",
    "            y = (pos, pos + len(x[i]), 'FOOD')\n",
    "            found = True\n",
    "        if x[i] in foodKeeperKeywordsTest:\n",
    "            newWord = x[i]\n",
    "            \n",
    "        try:\n",
    "            foundBiWord = x[i] + \" \" + x[i+1]\n",
    "            if foundBiWord in keywords:\n",
    "                pos = tweet.find(x[i])\n",
    "                y = (pos, pos + len(x[i])+len(x[i+1]) + 1, 'FOOD')\n",
    "                found = True\n",
    "                z = 2\n",
    "            if foundBiWord in foodKeeperKeywordsTest:\n",
    "                newWord = foundBiWord\n",
    "        except:\n",
    "            pass\n",
    "        \n",
    "        try:\n",
    "            foundTriWord = x[i] + \" \" + x[i+1] + \" \" + x[i+2]\n",
    "            if foundTriWord in keywords:\n",
    "                pos = tweet.find(x[i])\n",
    "                y = (pos, pos + len(x[i])+len(x[i+1])+len(x[i+2]) + 2, 'FOOD')\n",
    "                found = True\n",
    "                z = 3\n",
    "            if foundTriWord in foodKeeperKeywordsTest:\n",
    "                newWord = foundTriWord\n",
    "        except:\n",
    "            pass\n",
    "        \n",
    "        try:\n",
    "            if y not in myEnts['entities']:\n",
    "                myEnts['entities'].append(y)    \n",
    "        except:\n",
    "            pass\n",
    "\n",
    "        if newWord != \"\" and newWord not in keywordRanker:\n",
    "            keywordRanker[newWord] = 1\n",
    "        elif newWord != \"\" and newWord in keywordRanker:\n",
    "            keywordRanker[newWord] += 1\n",
    "        #print(z)\n",
    "        i += z\n",
    "        #print(i)\n",
    "    formatted = (tweet, myEnts)\n",
    "    #print(formatted)\n",
    "    if found:\n",
    "        return formatted\n",
    "    else: \n",
    "        return ()\n",
    "     \n",
    "#Gathers all the keywords from the FoodKeeper database\n",
    "def foodKeeperInfo():              \n",
    "    keywords = []\n",
    "    for word in food_data['Name']:\n",
    "        word = word.replace(\" or \", \" \")\n",
    "        word = re.sub('[/,]', ' ', word)\n",
    "        word = word.lstrip()\n",
    "        word = word.rstrip()\n",
    "\n",
    "        if word.lower() not in keywords: \n",
    "            keywords.append(word.lower())\n",
    "\n",
    "    #print(\"Total foodkeeper food names: \" + str(len(keywords)))        \n",
    "    #for element in sorted(keywords):\n",
    "        #print(element)\n",
    "        \n",
    "    return keywords\n",
    "\n",
    "foodKeeperKeywordsTest = foodKeeperInfo()\n",
    "\n",
    "\n",
    "def preProcess(tweet):\n",
    "    #Converts a tweet to lowercase, replaces anyusername w/ <USERNAME> and URLS with <URL>\n",
    "    tweet = tweet.lower()\n",
    "    tweet = re.sub('@[a-zA-z0-9]*', '', tweet)              # <USERNAME>\n",
    "    tweet = re.sub('http[a-zA-z0-9./:]*', '', tweet)       # <URL>\n",
    "    tweet = re.sub('[.,-]*', '', tweet)\n",
    "    tweet = re.sub('&amp;', 'and', tweet)\n",
    "    \n",
    "    return tweet\n",
    "\n",
    "\n",
    "noEntity= []\n",
    "\n",
    "keywordRanker = {}\n",
    "\n",
    "def trainModel(data):\n",
    "    #Initialize all the variables\n",
    "    keywords = [] #foodKeeperInfo()\n",
    "    oldKeywords = []\n",
    "    newKeywords = []\n",
    "    \n",
    "      \n",
    "    \n",
    "    #commonVerbs = getCommonVerbs(data) \n",
    "    print(commonVerbs)\n",
    "    print(\"Common Verbs gathered...\", '\\n')\n",
    "    \n",
    "    #entityCheckCount controls how many entities are required to \n",
    "    #add a Tweet to be trained\n",
    "    \n",
    "    entityCheckCount = 3\n",
    "    \n",
    "    counter = 0\n",
    "    trainingLoop = True\n",
    "    \n",
    "    while trainingLoop:\n",
    "        counterText = \"~~~~~~~~~~~~~~~~~\"+str(counter)+\"~~~~~~~~~~~~~~~~~\"\n",
    "        print(counterText)\n",
    "        \n",
    "        nlp = spacy.blank(\"en\") # load a new spacy model\n",
    "        try:\n",
    "            model = spacy.load(MODEL_PATH)\n",
    "            print('Model loaded...')\n",
    "        except:\n",
    "            print('No model...')\n",
    "        \n",
    "        db = DocBin() # create a DocBin object\n",
    "        \n",
    "        myTweets = []\n",
    "        \n",
    "        #Loop through all the tweets\n",
    "        #This loop is necessary to get the most common keywords \n",
    "        #in the convertToTrainingFormat function\n",
    "        \n",
    "        for i in range(len(data[0])): #len(data[0])\n",
    "            #useless if?\n",
    "#             if i % 500 == 0:\n",
    "#                 print(i)\n",
    "\n",
    "            if counter == 0:\n",
    "                x = convertToTrainingFormat(preProcess(data[0][i]), keywords)\n",
    "                \n",
    "            #If counter is 1 then there is no model to check so \n",
    "            #a word count is performed\n",
    "            elif counter == 1:\n",
    "                x = convertToTrainingFormat(preProcess(data[0][i]), keywords)\n",
    "                if x!= ():\n",
    "                    if len(x[1]['entities']) > entityCheckCount:\n",
    "                        #print(\"Found tweet\", x[0])\n",
    "                        myTweets.append(x)  \n",
    "            else:\n",
    "                #Convert each tweet into spacy training format\n",
    "                x = convertToTrainingFormat(preProcess(data[0][i]), keywords)\n",
    "                checkPassed = False\n",
    "                if x != ():\n",
    "                    #Check the ranking of the tweet\n",
    "                    if rankTweet(x[0], model) > entityCheckCount:\n",
    "                        checkTweet = x[0].split()\n",
    "                        \n",
    "                        #Check to see if tweet has one of the common verbs\n",
    "                        for word in checkTweet:\n",
    "                            if word in commonVerbs:\n",
    "                                checkPassed = True\n",
    "                                \n",
    "                        if True: #checkPassed:\n",
    "                            #print(\"Checking rank...\")\n",
    "                            myTweets.append(x)\n",
    "        \n",
    "                        \n",
    "#         Initialize the keywords\n",
    "       \n",
    "        \n",
    "        if counter == 0:  \n",
    "            # Set keywords to be all keywords found in foodkeeper\n",
    "#            keywords = foodKeeperInfo()\n",
    "            sortedKeywords =  sorted(keywordRanker, key=keywordRanker.get, reverse=True)\n",
    "\n",
    "            for i in range(15): #sortedKeywords\n",
    "                keywords.append(sortedKeywords[i])\n",
    "            #print(sortedKeywords[i], keywordRanker[sortedKeywords[i]])\n",
    "            \n",
    "\n",
    "        elif counter > 0:\n",
    "            for text, annot in tqdm(myTweets): # data in previous format\n",
    "                doc = nlp.make_doc(text) # create doc object from text\n",
    "                ents = []\n",
    "                for start, end, label in annot[\"entities\"]: # add character indexes\n",
    "                    span = doc.char_span(start, end, label=label, alignment_mode=\"contract\")\n",
    "                    \n",
    "                    if span is None:\n",
    "                        print(\"Skipping entity\")\n",
    "                    elif ents == []: ents.append(span) \n",
    "                    else:\n",
    "                        #Check to see if any entities are overlapping i.e rice and rice cakes\n",
    "                        ents.append(span)\n",
    "                        \n",
    "                        \n",
    "#                         for ent in ents:\n",
    "#                             if ent is not None:\n",
    "#                                 entLength = ent.end - ent.start\n",
    "#                                 if span.start == ent.start or span.end == ent.end:\n",
    "#                                     if entLength > (span.end - span.start):\n",
    "#                                         continue\n",
    "#                                     else:\n",
    "#                                         ents.remove(ent)\n",
    "#                                         ents.append(span)\n",
    "#                                 else:\n",
    "#                                     ents.append(span)\n",
    "                    #if span not in ents: ents.append(span)\n",
    "                            \n",
    "                                #print(span.start, span.end, ents)\n",
    "                    #put into for loop\n",
    "#                 foundEnts = []\n",
    "#                 newEnts = []\n",
    "#                 for ent in ents:\n",
    "#                     if ent.text not in foundEnts:\n",
    "#                         foundEnts.append(ent.text)\n",
    "#                         newEnts.append(ent)\n",
    "                        \n",
    "                newEnts = filter_spans(ents)              \n",
    "                #try:\n",
    "                doc.ents = newEnts # label the text with the ents\n",
    "                    #print(doc)\n",
    "                db.add(doc)\n",
    "                #except:\n",
    "                    #print(\"Error 10: \", doc)\n",
    "\n",
    "            db.to_disk(\"./train.spacy\") # save the docbin object\n",
    "                \n",
    "            #If problems are occuring with the models not appearing\n",
    "            #ensure that the command is valid, specifically python is the correct\n",
    "            #PATH variable name on your machine\n",
    "            #--paths.train should be where the docbin object is saved\n",
    "            stream = os.popen('python -m spacy train config.cfg --output ./output --paths.train ./train.spacy --paths.dev ./train.spacy')\n",
    "            print(stream.read())\n",
    "            print(\"Total keywords: \", str(len(keywords)))\n",
    "            print(\"List of Keywords:\\n\\n\",keywords,\"\\n\\n\")\n",
    "            oldKeywords = len(keywords)\n",
    "            \n",
    "            \n",
    "            #Look for new keywords\n",
    "            for element in myTweets:\n",
    "                keywords = findNewKeywords(element[0], keywords)\n",
    "                \n",
    "            \n",
    "            #No new keywords are found\n",
    "            if (oldKeywords == len(keywords)) and counter > 1 and entityCheckCount != 1:\n",
    "                entityCheckCount -= 1\n",
    "                print(\"Decreasing entityCheckCount variable by 1\")\n",
    "                print(\"entityCheckCount = \", entityCheckCount)\n",
    "                \n",
    "\n",
    "            #New keywords are found and entity rank check == 1\n",
    "            elif (oldKeywords == len(keywords)) and counter > 1 and entityCheckCount == 1:\n",
    "                trainingLoop = False\n",
    "            \n",
    "            eval_model()\n",
    "            \n",
    "        \n",
    "\n",
    "        #for element in myTweets:\n",
    "            #findNewKeywords(element[0], keywords)\n",
    "\n",
    "        print(\"Total keywords: \", str(len(keywords)))\n",
    "        print(\"Total Tweets: \", str(len(myTweets)))\n",
    "        print(\"List of Keywords:\\n\\n\",keywords,\"\\n\\n\")\n",
    "        counter += 1\n",
    "        \n",
    "    print('Training Done...')\n",
    "        \n",
    "        \n",
    "        \n",
    "\n",
    "def information(data):\n",
    "    myData = {}\n",
    "    totalEnt=0\n",
    "    \n",
    "    for i in range(len(data[0])):\n",
    "        doc = nlp(preProcess(data[0][i]))\n",
    "        if len(doc.ents) == 0:\n",
    "            noEntity.append(preProcess(data[0][i]))\n",
    "            \n",
    "        #print(len(doc.ents))\n",
    "        if(len(doc.ents) == 4):\n",
    "            print(doc)\n",
    "            \n",
    "        for entity in doc.ents: \n",
    "        #print(entity.label_)\n",
    "            totalEnt+=1\n",
    "            if(entity.label_ == 'FOOD'):\n",
    "                if entity.text in myData:\n",
    "                    myData[entity.text] += 1\n",
    "                else:\n",
    "                    myData[entity.text] = 1\n",
    "                    \n",
    "    print(\"Number of entities found: \" + str(len(myData)))\n",
    "    print(totalEnt)\n",
    "    for i in sorted(myData, key = myData.get):\n",
    "        print(\"Entity: \" + i, \"Count: \" + str(myData[i]), \"Density: \" + str(format(myData[i]/totalEnt, '.2f')), end = \"\\n\")\n",
    "    \n",
    "    \n",
    "    return myData\n",
    "\n",
    "\n",
    "\n",
    "\n",
    "for i in range(len(test_data['tweet'])):\n",
    "    test_data['tweet'][i] = preProcess(test_data['tweet'][i])\n",
    "\n",
    "\n",
    "\n",
    "y = test_data['food'].tolist()\n",
    "print(nlp.pipe_names)\n",
    "    \n",
    "def ent_recognize(text):\n",
    "    doc = nlp(text)\n",
    "    displacy.render(doc,style = \"ent\")\n",
    "    \n",
    "def predict(tweet):\n",
    "    doc = nlp(str(tweet))\n",
    "    if doc.ents:\n",
    "        displacy.render(doc,style = \"ent\")\n",
    "\n",
    "def returnPrediction(tweet):\n",
    "    nlp = spacy.load(MODEL_PATH)\n",
    "    doc = nlp(str(tweet))\n",
    "    if doc.ents:\n",
    "        return 1\n",
    "    else:\n",
    "        return 0\n",
    "    \n",
    "def get_predictions():\n",
    "    predictions = []\n",
    "    for tweet in test_data['tweet'].tolist():\n",
    "        predictions.append(returnPrediction(tweet))\n",
    "    return predictions\n",
    "    \n",
    "def eval_model():\n",
    "    nlp = spacy.load(MODEL_PATH)\n",
    "    predictions = get_predictions()\n",
    "    print(metrics.confusion_matrix(y,predictions, labels = [1,0]))\n",
    "    print(metrics.classification_report(y,predictions, labels = [1,0]))\n",
    "    \n",
    "def show_tp():\n",
    "    counter = 0\n",
    "    tweets = test_data['tweet'].tolist()\n",
    "    predictions = get_predictions()\n",
    "    for i in range(len(y)):\n",
    "        if predictions[i] == 1 and y[i] == 1:\n",
    "            print(\"True positives:\", tweets[i], \"\\n\")\n",
    "            counter += 1\n",
    "    print(counter)\n",
    "    \n",
    "def show_tn():\n",
    "    counter = 0\n",
    "    predictions = get_predictions()\n",
    "    tweets = test_data['tweet'].tolist()\n",
    "    for i in range(len(y)):\n",
    "        if predictions[i] == 0 and y[i] == 0:\n",
    "            print(\"True Negative:\", tweets[i], \"\\n\")\n",
    "            counter += 1\n",
    "    print(counter)\n",
    "    \n",
    "def show_fn():\n",
    "    predictions = get_predictions()\n",
    "    tweets = test_data['tweet']\n",
    "    counter = 0\n",
    "    for i in range(len(y)):\n",
    "        if predictions[i] == 0 and y[i] == 1:\n",
    "            print(\"False Negative:\", tweets[i], \"\\n\")\n",
    "            counter += 1\n",
    "    print(counter)\n",
    "    \n",
    "def show_fp():\n",
    "    predictions = get_predictions()\n",
    "    tweets = test_data['tweet'].tolist()\n",
    "    for i in range(len(y)):\n",
    "        if predictions[i] == 1 and y[i] == 0:\n",
    "            print(\"False Positive:\")\n",
    "            doc = nlp(str(tweets[i]))\n",
    "            if doc.ents:\n",
    "                displacy.render(doc,style = \"ent\")"
   ]
  },
  {
   "cell_type": "markdown",
   "metadata": {},
   "source": [
    "# Checking for overlapping words"
   ]
  },
  {
   "cell_type": "code",
   "execution_count": null,
   "metadata": {
    "scrolled": true
   },
   "outputs": [
    {
     "data": {
      "text/plain": [
       "0"
      ]
     },
     "execution_count": 4,
     "metadata": {},
     "output_type": "execute_result"
    }
   ],
   "source": [
    "rankTweet(\"chicken\", None)\n",
    "# def checkForOverlaps(data):\n",
    "    \n",
    "#     print(data)\n",
    "# keywords = foodKeeperInfo()\n",
    "# testdata = convertToTrainingFormat(\"My rice cakes is tasty \", keywords)\n",
    "\n",
    "# # for word in keywords:\n",
    "# #     for word2 in wordsInFoodkeeper:\n",
    "# #         if word in word2 and word != word2:\n",
    "# #             print(word,word2)\n",
    "\n"
   ]
  },
  {
   "cell_type": "markdown",
   "metadata": {},
   "source": [
    "## Use the function below to check individual sentences"
   ]
  },
  {
   "cell_type": "code",
   "execution_count": null,
   "metadata": {},
   "outputs": [
    {
     "data": {
      "text/html": [
       "<span class=\"tex2jax_ignore\"><div class=\"entities\" style=\"line-height: 2.5; direction: ltr\">my friend is \n",
       "<mark class=\"entity\" style=\"background: #ddd; padding: 0.45em 0.6em; margin: 0 0.25em; line-height: 1; border-radius: 0.35em;\">\n",
       "    chicken\n",
       "    <span style=\"font-size: 0.8em; font-weight: bold; line-height: 1; border-radius: 0.35em; vertical-align: middle; margin-left: 0.5rem\">FOOD</span>\n",
       "</mark>\n",
       " because he is scared</div></span>"
      ],
      "text/plain": [
       "<IPython.core.display.HTML object>"
      ]
     },
     "metadata": {},
     "output_type": "display_data"
    },
    {
     "data": {
      "text/html": [
       "<span class=\"tex2jax_ignore\"><div class=\"entities\" style=\"line-height: 2.5; direction: ltr\">is strangely sad about lilo and \n",
       "<mark class=\"entity\" style=\"background: #ddd; padding: 0.45em 0.6em; margin: 0 0.25em; line-height: 1; border-radius: 0.35em;\">\n",
       "    samro\n",
       "    <span style=\"font-size: 0.8em; font-weight: bold; line-height: 1; border-radius: 0.35em; vertical-align: middle; margin-left: 0.5rem\">FOOD</span>\n",
       "</mark>\n",
       " breaking up </div></span>"
      ],
      "text/plain": [
       "<IPython.core.display.HTML object>"
      ]
     },
     "metadata": {},
     "output_type": "display_data"
    },
    {
     "data": {
      "text/html": [
       "<span class=\"tex2jax_ignore\"><div class=\"entities\" style=\"line-height: 2.5; direction: ltr\">our duck and \n",
       "<mark class=\"entity\" style=\"background: #ddd; padding: 0.45em 0.6em; margin: 0 0.25em; line-height: 1; border-radius: 0.35em;\">\n",
       "    chicken\n",
       "    <span style=\"font-size: 0.8em; font-weight: bold; line-height: 1; border-radius: 0.35em; vertical-align: middle; margin-left: 0.5rem\">FOOD</span>\n",
       "</mark>\n",
       " are taking wayyy too long to hatch </div></span>"
      ],
      "text/plain": [
       "<IPython.core.display.HTML object>"
      ]
     },
     "metadata": {},
     "output_type": "display_data"
    },
    {
     "data": {
      "text/html": [
       "<span class=\"tex2jax_ignore\"><div class=\"entities\" style=\"line-height: 2.5; direction: ltr\">gym attire today was: puma singlet \n",
       "<mark class=\"entity\" style=\"background: #ddd; padding: 0.45em 0.6em; margin: 0 0.25em; line-height: 1; border-radius: 0.35em;\">\n",
       "    adidas\n",
       "    <span style=\"font-size: 0.8em; font-weight: bold; line-height: 1; border-radius: 0.35em; vertical-align: middle; margin-left: 0.5rem\">FOOD</span>\n",
       "</mark>\n",
       " shortsand black business socks and leather shoes  lucky did not run into any cute girls</div></span>"
      ],
      "text/plain": [
       "<IPython.core.display.HTML object>"
      ]
     },
     "metadata": {},
     "output_type": "display_data"
    },
    {
     "data": {
      "text/html": [
       "<span class=\"tex2jax_ignore\"><div class=\"entities\" style=\"line-height: 2.5; direction: ltr\"> yeah aw but i know i \n",
       "<mark class=\"entity\" style=\"background: #ddd; padding: 0.45em 0.6em; margin: 0 0.25em; line-height: 1; border-radius: 0.35em;\">\n",
       "    wudnt\n",
       "    <span style=\"font-size: 0.8em; font-weight: bold; line-height: 1; border-radius: 0.35em; vertical-align: middle; margin-left: 0.5rem\">FOOD</span>\n",
       "</mark>\n",
       " stand a chance </div></span>"
      ],
      "text/plain": [
       "<IPython.core.display.HTML object>"
      ]
     },
     "metadata": {},
     "output_type": "display_data"
    },
    {
     "data": {
      "text/html": [
       "<span class=\"tex2jax_ignore\"><div class=\"entities\" style=\"line-height: 2.5; direction: ltr\">getting sick  time for some hot \n",
       "<mark class=\"entity\" style=\"background: #ddd; padding: 0.45em 0.6em; margin: 0 0.25em; line-height: 1; border-radius: 0.35em;\">\n",
       "    tea\n",
       "    <span style=\"font-size: 0.8em; font-weight: bold; line-height: 1; border-radius: 0.35em; vertical-align: middle; margin-left: 0.5rem\">FOOD</span>\n",
       "</mark>\n",
       " studying and then sleeeep</div></span>"
      ],
      "text/plain": [
       "<IPython.core.display.HTML object>"
      ]
     },
     "metadata": {},
     "output_type": "display_data"
    },
    {
     "data": {
      "text/html": [
       "<span class=\"tex2jax_ignore\"><div class=\"entities\" style=\"line-height: 2.5; direction: ltr\">i miss you twitter my phone broke now i'm using a stupid nokia phone \n",
       "<mark class=\"entity\" style=\"background: #ddd; padding: 0.45em 0.6em; margin: 0 0.25em; line-height: 1; border-radius: 0.35em;\">\n",
       "    ughhh\n",
       "    <span style=\"font-size: 0.8em; font-weight: bold; line-height: 1; border-radius: 0.35em; vertical-align: middle; margin-left: 0.5rem\">FOOD</span>\n",
       "</mark>\n",
       " i miss my advance phone </div></span>"
      ],
      "text/plain": [
       "<IPython.core.display.HTML object>"
      ]
     },
     "metadata": {},
     "output_type": "display_data"
    },
    {
     "data": {
      "text/html": [
       "<span class=\"tex2jax_ignore\"><div class=\"entities\" style=\"line-height: 2.5; direction: ltr\">tuesday�ll start with reflection �n then a lecture in stress reducing techniques that sure \n",
       "<mark class=\"entity\" style=\"background: #ddd; padding: 0.45em 0.6em; margin: 0 0.25em; line-height: 1; border-radius: 0.35em;\">\n",
       "    might become\n",
       "    <span style=\"font-size: 0.8em; font-weight: bold; line-height: 1; border-radius: 0.35em; vertical-align: middle; margin-left: 0.5rem\">FOOD</span>\n",
       "</mark>\n",
       " very useful for us accompaniers </div></span>"
      ],
      "text/plain": [
       "<IPython.core.display.HTML object>"
      ]
     },
     "metadata": {},
     "output_type": "display_data"
    },
    {
     "data": {
      "text/html": [
       "<span class=\"tex2jax_ignore\"><div class=\"entities\" style=\"line-height: 2.5; direction: ltr\"> poor john  this is what happens when you play with \n",
       "<mark class=\"entity\" style=\"background: #ddd; padding: 0.45em 0.6em; margin: 0 0.25em; line-height: 1; border-radius: 0.35em;\">\n",
       "    fruit\n",
       "    <span style=\"font-size: 0.8em; font-weight: bold; line-height: 1; border-radius: 0.35em; vertical-align: middle; margin-left: 0.5rem\">FOOD</span>\n",
       "</mark>\n",
       " and a microwave! seriously though have you seen a doctor?? xxx</div></span>"
      ],
      "text/plain": [
       "<IPython.core.display.HTML object>"
      ]
     },
     "metadata": {},
     "output_type": "display_data"
    },
    {
     "data": {
      "text/html": [
       "<span class=\"tex2jax_ignore\"><div class=\"entities\" style=\"line-height: 2.5; direction: ltr\"> \n",
       "<mark class=\"entity\" style=\"background: #ddd; padding: 0.45em 0.6em; margin: 0 0.25em; line-height: 1; border-radius: 0.35em;\">\n",
       "    yoyoyo\n",
       "    <span style=\"font-size: 0.8em; font-weight: bold; line-height: 1; border-radius: 0.35em; vertical-align: middle; margin-left: 0.5rem\">FOOD</span>\n",
       "</mark>\n",
       " my internet has been rude tonight it just reconnected and i'm about to go to bed </div></span>"
      ],
      "text/plain": [
       "<IPython.core.display.HTML object>"
      ]
     },
     "metadata": {},
     "output_type": "display_data"
    },
    {
     "data": {
      "text/html": [
       "<span class=\"tex2jax_ignore\"><div class=\"entities\" style=\"line-height: 2.5; direction: ltr\">\n",
       "<mark class=\"entity\" style=\"background: #ddd; padding: 0.45em 0.6em; margin: 0 0.25em; line-height: 1; border-radius: 0.35em;\">\n",
       "    dierks\n",
       "    <span style=\"font-size: 0.8em; font-weight: bold; line-height: 1; border-radius: 0.35em; vertical-align: middle; margin-left: 0.5rem\">FOOD</span>\n",
       "</mark>\n",
       " bentley is comin' to columbus oh!! i wanna go so bad </div></span>"
      ],
      "text/plain": [
       "<IPython.core.display.HTML object>"
      ]
     },
     "metadata": {},
     "output_type": "display_data"
    },
    {
     "data": {
      "text/html": [
       "<span class=\"tex2jax_ignore\"><div class=\"entities\" style=\"line-height: 2.5; direction: ltr\">throat is closing up and i had some \n",
       "<mark class=\"entity\" style=\"background: #ddd; padding: 0.45em 0.6em; margin: 0 0.25em; line-height: 1; border-radius: 0.35em;\">\n",
       "    string cheese\n",
       "    <span style=\"font-size: 0.8em; font-weight: bold; line-height: 1; border-radius: 0.35em; vertical-align: middle; margin-left: 0.5rem\">FOOD</span>\n",
       "</mark>\n",
       " not a good idea </div></span>"
      ],
      "text/plain": [
       "<IPython.core.display.HTML object>"
      ]
     },
     "metadata": {},
     "output_type": "display_data"
    },
    {
     "data": {
      "text/html": [
       "<span class=\"tex2jax_ignore\"><div class=\"entities\" style=\"line-height: 2.5; direction: ltr\">and of course i have access to my halo 3 mythic map pack redownload but bad news not the \n",
       "<mark class=\"entity\" style=\"background: #ddd; padding: 0.45em 0.6em; margin: 0 0.25em; line-height: 1; border-radius: 0.35em;\">\n",
       "    legendary\n",
       "    <span style=\"font-size: 0.8em; font-weight: bold; line-height: 1; border-radius: 0.35em; vertical-align: middle; margin-left: 0.5rem\">FOOD</span>\n",
       "</mark>\n",
       " map pack ugh 600ms </div></span>"
      ],
      "text/plain": [
       "<IPython.core.display.HTML object>"
      ]
     },
     "metadata": {},
     "output_type": "display_data"
    },
    {
     "data": {
      "text/html": [
       "<span class=\"tex2jax_ignore\"><div class=\"entities\" style=\"line-height: 2.5; direction: ltr\">scratch that: du in heif (two in a half) \n",
       "<mark class=\"entity\" style=\"background: #ddd; padding: 0.45em 0.6em; margin: 0 0.25em; line-height: 1; border-radius: 0.35em;\">\n",
       "    cookies\n",
       "    <span style=\"font-size: 0.8em; font-weight: bold; line-height: 1; border-radius: 0.35em; vertical-align: middle; margin-left: 0.5rem\">FOOD</span>\n",
       "</mark>\n",
       " my tum just can't take anymore shoog poots </div></span>"
      ],
      "text/plain": [
       "<IPython.core.display.HTML object>"
      ]
     },
     "metadata": {},
     "output_type": "display_data"
    },
    {
     "data": {
      "text/html": [
       "<span class=\"tex2jax_ignore\"><div class=\"entities\" style=\"line-height: 2.5; direction: ltr\">pepperoni rolls in la?: i called valentino's  they said that they had \n",
       "<mark class=\"entity\" style=\"background: #ddd; padding: 0.45em 0.6em; margin: 0 0.25em; line-height: 1; border-radius: 0.35em;\">\n",
       "    sausage\n",
       "    <span style=\"font-size: 0.8em; font-weight: bold; line-height: 1; border-radius: 0.35em; vertical-align: middle; margin-left: 0.5rem\">FOOD</span>\n",
       "</mark>\n",
       " rolls but no pepperoni rolls  </div></span>"
      ],
      "text/plain": [
       "<IPython.core.display.HTML object>"
      ]
     },
     "metadata": {},
     "output_type": "display_data"
    },
    {
     "data": {
      "text/html": [
       "<span class=\"tex2jax_ignore\"><div class=\"entities\" style=\"line-height: 2.5; direction: ltr\"> once upon a time hundred islands was the pride of philippine tourism but coral/clam/rare \n",
       "<mark class=\"entity\" style=\"background: #ddd; padding: 0.45em 0.6em; margin: 0 0.25em; line-height: 1; border-radius: 0.35em;\">\n",
       "    fish\n",
       "    <span style=\"font-size: 0.8em; font-weight: bold; line-height: 1; border-radius: 0.35em; vertical-align: middle; margin-left: 0.5rem\">FOOD</span>\n",
       "</mark>\n",
       " poaching did it in kinda sad </div></span>"
      ],
      "text/plain": [
       "<IPython.core.display.HTML object>"
      ]
     },
     "metadata": {},
     "output_type": "display_data"
    },
    {
     "data": {
      "text/html": [
       "<span class=\"tex2jax_ignore\"><div class=\"entities\" style=\"line-height: 2.5; direction: ltr\">this \n",
       "<mark class=\"entity\" style=\"background: #ddd; padding: 0.45em 0.6em; margin: 0 0.25em; line-height: 1; border-radius: 0.35em;\">\n",
       "    trolley\n",
       "    <span style=\"font-size: 0.8em; font-weight: bold; line-height: 1; border-radius: 0.35em; vertical-align: middle; margin-left: 0.5rem\">FOOD</span>\n",
       "</mark>\n",
       " has up packed in like sardines! padre game and they remove a car?! good call mts </div></span>"
      ],
      "text/plain": [
       "<IPython.core.display.HTML object>"
      ]
     },
     "metadata": {},
     "output_type": "display_data"
    },
    {
     "data": {
      "text/html": [
       "<span class=\"tex2jax_ignore\"><div class=\"entities\" style=\"line-height: 2.5; direction: ltr\"> i did it was the only one left but i got tempted and ate it soon as i got home  i had a \n",
       "<mark class=\"entity\" style=\"background: #ddd; padding: 0.45em 0.6em; margin: 0 0.25em; line-height: 1; border-radius: 0.35em;\">\n",
       "    chocolate\n",
       "    <span style=\"font-size: 0.8em; font-weight: bold; line-height: 1; border-radius: 0.35em; vertical-align: middle; margin-left: 0.5rem\">FOOD</span>\n",
       "</mark>\n",
       " velvet and ate d mocha</div></span>"
      ],
      "text/plain": [
       "<IPython.core.display.HTML object>"
      ]
     },
     "metadata": {},
     "output_type": "display_data"
    },
    {
     "data": {
      "text/html": [
       "<span class=\"tex2jax_ignore\"><div class=\"entities\" style=\"line-height: 2.5; direction: ltr\">watching who framed roger \n",
       "<mark class=\"entity\" style=\"background: #ddd; padding: 0.45em 0.6em; margin: 0 0.25em; line-height: 1; border-radius: 0.35em;\">\n",
       "    rabbit\n",
       "    <span style=\"font-size: 0.8em; font-weight: bold; line-height: 1; border-radius: 0.35em; vertical-align: middle; margin-left: 0.5rem\">FOOD</span>\n",
       "</mark>\n",
       " makes me miss toon town </div></span>"
      ],
      "text/plain": [
       "<IPython.core.display.HTML object>"
      ]
     },
     "metadata": {},
     "output_type": "display_data"
    },
    {
     "data": {
      "text/html": [
       "<span class=\"tex2jax_ignore\"><div class=\"entities\" style=\"line-height: 2.5; direction: ltr\"> \n",
       "<mark class=\"entity\" style=\"background: #ddd; padding: 0.45em 0.6em; margin: 0 0.25em; line-height: 1; border-radius: 0.35em;\">\n",
       "    renting\n",
       "    <span style=\"font-size: 0.8em; font-weight: bold; line-height: 1; border-radius: 0.35em; vertical-align: middle; margin-left: 0.5rem\">FOOD</span>\n",
       "</mark>\n",
       " but very cheap renting and awesome house we had 3 buying attempts fall through </div></span>"
      ],
      "text/plain": [
       "<IPython.core.display.HTML object>"
      ]
     },
     "metadata": {},
     "output_type": "display_data"
    },
    {
     "data": {
      "text/html": [
       "<span class=\"tex2jax_ignore\"><div class=\"entities\" style=\"line-height: 2.5; direction: ltr\">\n",
       "<mark class=\"entity\" style=\"background: #ddd; padding: 0.45em 0.6em; margin: 0 0.25em; line-height: 1; border-radius: 0.35em;\">\n",
       "    duckling\n",
       "    <span style=\"font-size: 0.8em; font-weight: bold; line-height: 1; border-radius: 0.35em; vertical-align: middle; margin-left: 0.5rem\">FOOD</span>\n",
       "</mark>\n",
       " in famous children's book stolen from boston's public garden  the boston globe  via  oh no!! </div></span>"
      ],
      "text/plain": [
       "<IPython.core.display.HTML object>"
      ]
     },
     "metadata": {},
     "output_type": "display_data"
    },
    {
     "data": {
      "text/html": [
       "<span class=\"tex2jax_ignore\"><div class=\"entities\" style=\"line-height: 2.5; direction: ltr\">have watched that considering today yaknow shawnna tomomorrow;i need my \n",
       "<mark class=\"entity\" style=\"background: #ddd; padding: 0.45em 0.6em; margin: 0 0.25em; line-height: 1; border-radius: 0.35em;\">\n",
       "    bestfriend\n",
       "    <span style=\"font-size: 0.8em; font-weight: bold; line-height: 1; border-radius: 0.35em; vertical-align: middle; margin-left: 0.5rem\">FOOD</span>\n",
       "</mark>\n",
       " </div></span>"
      ],
      "text/plain": [
       "<IPython.core.display.HTML object>"
      ]
     },
     "metadata": {},
     "output_type": "display_data"
    }
   ],
   "source": [
    "nlp = spacy.load(MODEL_PATH)\n",
    "ent_recognize(\"my friend is chicken because he is scared\")\n",
    "\n",
    "testTweets = live_tweets[5]\n",
    "for tweet in testTweets[:500]:\n",
    "    if nlp(preProcess(tweet)).ents:\n",
    "        ent_recognize(preProcess(tweet))\n"
   ]
  },
  {
   "cell_type": "markdown",
   "metadata": {},
   "source": [
    "## Use the function below to check model performance on the entire test set"
   ]
  },
  {
   "cell_type": "code",
   "execution_count": null,
   "metadata": {
    "scrolled": true
   },
   "outputs": [],
   "source": [
    "#eval_model()"
   ]
  },
  {
   "cell_type": "markdown",
   "metadata": {},
   "source": [
    "## Use the functions below to see TP, TN, FP, FN respectively"
   ]
  },
  {
   "cell_type": "code",
   "execution_count": null,
   "metadata": {},
   "outputs": [],
   "source": [
    "# show_tp()\n",
    "# show_tn()\n",
    "# show_fp()\n",
    "#show_fn()"
   ]
  },
  {
   "cell_type": "code",
   "execution_count": null,
   "metadata": {
    "scrolled": true
   },
   "outputs": [],
   "source": [
    "# foodkeeper = foodKeeperInfo()\n",
    "# print(foodkeeper)\n",
    "# sortedKeywords =  sorted(keywordRanker, key=keywordRanker.get, reverse=True)\n",
    "\n",
    "# for i in range(15): #sortedKeywords\n",
    "#     keywords.append(sortedKeywords[i])\n",
    "# print(keywords)\n",
    "# keywords.append(\"chicken\")\n",
    "# #keywords.append(\"cream cheese\")\n",
    "\n",
    "# abc = convertToTrainingFormat(\"I like to eat cream and cheese with chicken test\", keywords)\n",
    "# print(abc)\n"
   ]
  },
  {
   "cell_type": "markdown",
   "metadata": {},
   "source": [
    "# Find the most common words"
   ]
  },
  {
   "cell_type": "code",
   "execution_count": null,
   "metadata": {},
   "outputs": [],
   "source": [
    "commonVerbs = getCommonVerbs(training_data) \n",
    "#commonVerbs = ['eat', 'know', 'think', 'want', 'got', 'like', 'love', 'use', 'need', 'add']"
   ]
  },
  {
   "cell_type": "markdown",
   "metadata": {},
   "source": [
    "# Training Loop"
   ]
  },
  {
   "cell_type": "code",
   "execution_count": null,
   "metadata": {
    "scrolled": true
   },
   "outputs": [
    {
     "name": "stdout",
     "output_type": "stream",
     "text": [
      "['eat', 'know', 'think', 'want', 'got', 'like', 'love', 'use', 'need', 'add']\n",
      "Common Verbs gathered... \n",
      "\n",
      "~~~~~~~~~~~~~~~~~0~~~~~~~~~~~~~~~~~\n",
      "Model loaded...\n",
      "Total keywords:  15\n",
      "Total Tweets:  0\n",
      "List of Keywords:\n",
      "\n",
      " ['cheese', 'chicken', 'milk', 'butter', 'cream', 'fruit', 'rice', 'water', 'garlic', 'bread', 'sugar', 'salt', 'chocolate', 'fish', 'beef'] \n",
      "\n",
      "\n",
      "~~~~~~~~~~~~~~~~~1~~~~~~~~~~~~~~~~~\n",
      "Model loaded...\n"
     ]
    },
    {
     "name": "stderr",
     "output_type": "stream",
     "text": [
      "100%|███████████████████████████████████████████████████████████████████████████████████████████| 194/194 [00:00<00:00, 1283.66it/s]\n"
     ]
    },
    {
     "name": "stdout",
     "output_type": "stream",
     "text": [
      "Skipping entity\n",
      "Skipping entity\n",
      "Skipping entity\n",
      "[i] Saving to output directory: output\n",
      "[i] Using CPU\n",
      "\u001b[1m\n",
      "=========================== Initializing pipeline ===========================\u001b[0m\n",
      "[+] Initialized pipeline\n",
      "\u001b[1m\n",
      "============================= Training pipeline =============================\u001b[0m\n",
      "[i] Pipeline: ['tok2vec', 'ner']\n",
      "[i] Initial learn rate: 0.001\n",
      "E    #       LOSS TOK2VEC  LOSS NER  ENTS_F  ENTS_P  ENTS_R  SCORE \n",
      "---  ------  ------------  --------  ------  ------  ------  ------\n",
      "  0       0          0.00     40.50    0.00    0.00    0.00    0.00\n",
      "  2     200         54.36   1148.80   97.98   96.86   99.13    0.98\n",
      "  4     400        136.43    159.72   99.32   98.78   99.88    0.99\n",
      "  8     600        154.84    106.89   99.81   99.75   99.88    1.00\n",
      " 12     800         81.31     37.85  100.00  100.00  100.00    1.00\n",
      " 17    1000         39.90     10.64  100.00  100.00  100.00    1.00\n",
      " 24    1200         65.72     17.81  100.00  100.00  100.00    1.00\n",
      " 32    1400        109.73     23.85  100.00  100.00  100.00    1.00\n",
      " 42    1600        123.47     24.43  100.00  100.00  100.00    1.00\n",
      " 55    1800        136.49     18.88   99.94   99.88  100.00    1.00\n",
      " 70    2000        106.05     17.69  100.00  100.00  100.00    1.00\n",
      " 89    2200         69.26     12.79  100.00  100.00  100.00    1.00\n",
      "111    2400         20.85      3.75  100.00  100.00  100.00    1.00\n",
      "[+] Saved pipeline to output directory\n",
      "output\\model-last\n",
      "\n",
      "Total keywords:  15\n",
      "List of Keywords:\n",
      "\n",
      " ['cheese', 'chicken', 'milk', 'butter', 'cream', 'fruit', 'rice', 'water', 'garlic', 'bread', 'sugar', 'salt', 'chocolate', 'fish', 'beef'] \n",
      "\n",
      "\n",
      "[[17 27]\n",
      " [ 2 37]]\n",
      "              precision    recall  f1-score   support\n",
      "\n",
      "           1       0.89      0.39      0.54        44\n",
      "           0       0.58      0.95      0.72        39\n",
      "\n",
      "    accuracy                           0.65        83\n",
      "   macro avg       0.74      0.67      0.63        83\n",
      "weighted avg       0.75      0.65      0.62        83\n",
      "\n",
      "Total keywords:  187\n",
      "Total Tweets:  194\n",
      "List of Keywords:\n",
      "\n",
      " ['cheese', 'chicken', 'milk', 'butter', 'cream', 'fruit', 'rice', 'water', 'garlic', 'bread', 'sugar', 'salt', 'chocolate', 'fish', 'beef', 'yogurt', 'almond milk', 'greens', 'granola', 'nuts', 'chia seeds', 'onions', 'apples', 'peanut butter', 'squash', 'soda', 'flour', 'garlic powder', 'buttermilk', 'potatoes', 'cottage cheese', 'sour cream', 'turkey', 'beans', 'cream cheese', 'bagel', 'pretzels', 'celery', 'white wine', 'margarine', 'whipped cream', 'ice cream', 'pineapple', 'whipped topping', 'plantains', 'veal', 'mustard', 'corned beef', 'rye', 'fried chicken', 'gravy', 'tuna', 'vegetables', 'eggs', 'rotisserie chicken', 'hot dogs', 'crackers', 'dips', 'meats', 'frozen entrees', 'bacon', 'pasta', 'pizza', 'potato chips', 'avocados', 'pork', 'sunflower seeds', 'lentils', 'lean fish', 'cauliflower', 'asparagus', 'almonds', 'cooked fish', 'honey', 'kimchi', 'herbs', 'dates', 'scallops', 'yuzu', 'corn syrup', 'baking soda', 'molasses', 'yeast', 'cornmeal', 'vinegar', 'parsley', 'worcestershire sauce', 'mushrooms', 'broth', 'peppers', 'oats', 'guava', 'coconut', 'cheesecake', 'cinnamon', 'muffin', 'pies', 'tomato sauce', 'pickles', 'goat', 'lamb', 'seafood', 'olives', 'baking powder', 'sesame seeds', 'raspberries', 'cornstarch', 'hot sauce', 'grits', 'chives', 'coconut milk', 'tamarind', 'tomatoes', 'cumin', 'chili powder', 'onion powder', 'black pepper', 'pie crust', 'cooked rice', 'nutmeg', 'peas', 'refried beans', 'bananas', 'okra', 'cabbage', 'syrup', 'juice concentrates', 'basil', 'fruits', 'horseradish', 'lettuce', 'pesto', 'soy milk', 'hoisin sauce', 'sesame oil', 'peanuts', 'ham', 'bacon bits', 'chutney', 'sun dried tomatoes', 'sausage', 'coffee', 'pasta salad', 'cereal', 'grapes', 'cashews', 'tea', 'pudding', 'coconut cream', 'coconut water', 'apple juice', 'fruit cocktail', 'walnuts', 'dough', 'roasted red peppers', 'whole wheat bread', 'thyme', 'mayonnaise', 'oregano', 'leftovers', 'strawberries', 'berries', 'coleslaw', 'cilantro', 'guacamole', 'tomato paste', 'canola oil', 'mung bean', 'lemon juice', 'ghee', 'avocado oil', 'almond oil', 'grapeseed oil', 'spelt', 'lime juice', 'pure vanilla extract', 'butter flavor', 'string cheese', 'salsa', 'puff pastry', 'biscuits', 'orange juice', 'vegetable soup', 'caviar', 'pine nuts', 'coconut oil', 'quail'] \n",
      "\n",
      "\n",
      "~~~~~~~~~~~~~~~~~2~~~~~~~~~~~~~~~~~\n",
      "Model loaded...\n"
     ]
    },
    {
     "name": "stderr",
     "output_type": "stream",
     "text": [
      " 85%|█████████████████████████████████████████████████████████████████████████████▏             | 434/512 [00:00<00:00, 1485.15it/s]"
     ]
    },
    {
     "name": "stdout",
     "output_type": "stream",
     "text": [
      "Skipping entity\n",
      "Skipping entity\n",
      "Skipping entity\n",
      "Skipping entity\n",
      "Skipping entity\n",
      "Skipping entity\n",
      "Skipping entity\n",
      "Skipping entity\n",
      "Skipping entity\n",
      "Skipping entity\n",
      "Skipping entity\n",
      "Skipping entity\n",
      "Skipping entity\n",
      "Skipping entity\n",
      "Skipping entity\n",
      "Skipping entity\n",
      "Skipping entity\n",
      "Skipping entity\n",
      "Skipping entity\n"
     ]
    },
    {
     "name": "stderr",
     "output_type": "stream",
     "text": [
      "100%|███████████████████████████████████████████████████████████████████████████████████████████| 512/512 [00:00<00:00, 1451.24it/s]\n"
     ]
    },
    {
     "name": "stdout",
     "output_type": "stream",
     "text": [
      "Skipping entity\n",
      "Skipping entity\n",
      "Skipping entity\n",
      "[i] Saving to output directory: output\n",
      "[i] Using CPU\n",
      "\u001b[1m\n",
      "=========================== Initializing pipeline ===========================\u001b[0m\n",
      "[+] Initialized pipeline\n",
      "\u001b[1m\n",
      "============================= Training pipeline =============================\u001b[0m\n",
      "[i] Pipeline: ['tok2vec', 'ner']\n",
      "[i] Initial learn rate: 0.001\n",
      "E    #       LOSS TOK2VEC  LOSS NER  ENTS_F  ENTS_P  ENTS_R  SCORE \n",
      "---  ------  ------------  --------  ------  ------  ------  ------\n",
      "  0       0          0.00     40.67    0.00    0.00    0.00    0.00\n",
      "  0     200         77.58   2734.03   84.27   79.72   89.38    0.84\n",
      "  1     400        105.43   1399.69   92.27   89.58   95.12    0.92\n",
      "  3     600        165.66   1085.43   94.66   91.67   97.86    0.95\n",
      "  4     800        179.58    801.95   95.67   92.47   99.10    0.96\n",
      "  6    1000        246.21    558.21   98.84   98.22   99.47    0.99\n",
      "  9    1200        298.11    450.98   99.14   98.48   99.81    0.99\n",
      " 12    1400        310.65    383.93   99.89   99.85   99.92    1.00\n",
      " 16    1600        415.85    318.60   99.89   99.89   99.89    1.00\n",
      " 21    1800        550.45    237.89   99.91   99.85   99.96    1.00\n",
      " 27    2000        596.73    239.91   99.93   99.85  100.00    1.00\n",
      " 34    2200        704.83    234.54   99.96  100.00   99.92    1.00\n",
      " 43    2400        846.20    218.66   99.98   99.96  100.00    1.00\n",
      " 52    2600        630.71    155.97   99.98   99.96  100.00    1.00\n",
      " 61    2800        560.81    112.11   99.98   99.96  100.00    1.00\n",
      " 70    3000        767.32    128.09   99.92   99.89   99.96    1.00\n",
      " 79    3200        733.12    130.78   99.98   99.96  100.00    1.00\n",
      " 89    3400        794.34    140.26  100.00  100.00  100.00    1.00\n",
      " 98    3600        638.89    103.78  100.00  100.00  100.00    1.00\n",
      "107    3800        714.32    106.75  100.00  100.00  100.00    1.00\n",
      "116    4000        561.23     76.15  100.00  100.00  100.00    1.00\n",
      "125    4200        720.39     81.35  100.00  100.00  100.00    1.00\n",
      "134    4400        925.95    116.79  100.00  100.00  100.00    1.00\n",
      "143    4600        660.99     90.04  100.00  100.00  100.00    1.00\n",
      "152    4800        644.96     72.57   99.98  100.00   99.96    1.00\n",
      "161    5000        735.94     67.85  100.00  100.00  100.00    1.00\n",
      "[+] Saved pipeline to output directory\n",
      "output\\model-last\n",
      "\n",
      "Total keywords:  187\n",
      "List of Keywords:\n",
      "\n",
      " ['cheese', 'chicken', 'milk', 'butter', 'cream', 'fruit', 'rice', 'water', 'garlic', 'bread', 'sugar', 'salt', 'chocolate', 'fish', 'beef', 'yogurt', 'almond milk', 'greens', 'granola', 'nuts', 'chia seeds', 'onions', 'apples', 'peanut butter', 'squash', 'soda', 'flour', 'garlic powder', 'buttermilk', 'potatoes', 'cottage cheese', 'sour cream', 'turkey', 'beans', 'cream cheese', 'bagel', 'pretzels', 'celery', 'white wine', 'margarine', 'whipped cream', 'ice cream', 'pineapple', 'whipped topping', 'plantains', 'veal', 'mustard', 'corned beef', 'rye', 'fried chicken', 'gravy', 'tuna', 'vegetables', 'eggs', 'rotisserie chicken', 'hot dogs', 'crackers', 'dips', 'meats', 'frozen entrees', 'bacon', 'pasta', 'pizza', 'potato chips', 'avocados', 'pork', 'sunflower seeds', 'lentils', 'lean fish', 'cauliflower', 'asparagus', 'almonds', 'cooked fish', 'honey', 'kimchi', 'herbs', 'dates', 'scallops', 'yuzu', 'corn syrup', 'baking soda', 'molasses', 'yeast', 'cornmeal', 'vinegar', 'parsley', 'worcestershire sauce', 'mushrooms', 'broth', 'peppers', 'oats', 'guava', 'coconut', 'cheesecake', 'cinnamon', 'muffin', 'pies', 'tomato sauce', 'pickles', 'goat', 'lamb', 'seafood', 'olives', 'baking powder', 'sesame seeds', 'raspberries', 'cornstarch', 'hot sauce', 'grits', 'chives', 'coconut milk', 'tamarind', 'tomatoes', 'cumin', 'chili powder', 'onion powder', 'black pepper', 'pie crust', 'cooked rice', 'nutmeg', 'peas', 'refried beans', 'bananas', 'okra', 'cabbage', 'syrup', 'juice concentrates', 'basil', 'fruits', 'horseradish', 'lettuce', 'pesto', 'soy milk', 'hoisin sauce', 'sesame oil', 'peanuts', 'ham', 'bacon bits', 'chutney', 'sun dried tomatoes', 'sausage', 'coffee', 'pasta salad', 'cereal', 'grapes', 'cashews', 'tea', 'pudding', 'coconut cream', 'coconut water', 'apple juice', 'fruit cocktail', 'walnuts', 'dough', 'roasted red peppers', 'whole wheat bread', 'thyme', 'mayonnaise', 'oregano', 'leftovers', 'strawberries', 'berries', 'coleslaw', 'cilantro', 'guacamole', 'tomato paste', 'canola oil', 'mung bean', 'lemon juice', 'ghee', 'avocado oil', 'almond oil', 'grapeseed oil', 'spelt', 'lime juice', 'pure vanilla extract', 'butter flavor', 'string cheese', 'salsa', 'puff pastry', 'biscuits', 'orange juice', 'vegetable soup', 'caviar', 'pine nuts', 'coconut oil', 'quail'] \n",
      "\n",
      "\n",
      "[[22 22]\n",
      " [ 4 35]]\n",
      "              precision    recall  f1-score   support\n",
      "\n",
      "           1       0.85      0.50      0.63        44\n",
      "           0       0.61      0.90      0.73        39\n",
      "\n",
      "    accuracy                           0.69        83\n",
      "   macro avg       0.73      0.70      0.68        83\n",
      "weighted avg       0.74      0.69      0.68        83\n",
      "\n",
      "Total keywords:  249\n",
      "Total Tweets:  512\n",
      "List of Keywords:\n",
      "\n",
      " ['cheese', 'chicken', 'milk', 'butter', 'cream', 'fruit', 'rice', 'water', 'garlic', 'bread', 'sugar', 'salt', 'chocolate', 'fish', 'beef', 'yogurt', 'almond milk', 'greens', 'granola', 'nuts', 'chia seeds', 'onions', 'apples', 'peanut butter', 'squash', 'soda', 'flour', 'garlic powder', 'buttermilk', 'potatoes', 'cottage cheese', 'sour cream', 'turkey', 'beans', 'cream cheese', 'bagel', 'pretzels', 'celery', 'white wine', 'margarine', 'whipped cream', 'ice cream', 'pineapple', 'whipped topping', 'plantains', 'veal', 'mustard', 'corned beef', 'rye', 'fried chicken', 'gravy', 'tuna', 'vegetables', 'eggs', 'rotisserie chicken', 'hot dogs', 'crackers', 'dips', 'meats', 'frozen entrees', 'bacon', 'pasta', 'pizza', 'potato chips', 'avocados', 'pork', 'sunflower seeds', 'lentils', 'lean fish', 'cauliflower', 'asparagus', 'almonds', 'cooked fish', 'honey', 'kimchi', 'herbs', 'dates', 'scallops', 'yuzu', 'corn syrup', 'baking soda', 'molasses', 'yeast', 'cornmeal', 'vinegar', 'parsley', 'worcestershire sauce', 'mushrooms', 'broth', 'peppers', 'oats', 'guava', 'coconut', 'cheesecake', 'cinnamon', 'muffin', 'pies', 'tomato sauce', 'pickles', 'goat', 'lamb', 'seafood', 'olives', 'baking powder', 'sesame seeds', 'raspberries', 'cornstarch', 'hot sauce', 'grits', 'chives', 'coconut milk', 'tamarind', 'tomatoes', 'cumin', 'chili powder', 'onion powder', 'black pepper', 'pie crust', 'cooked rice', 'nutmeg', 'peas', 'refried beans', 'bananas', 'okra', 'cabbage', 'syrup', 'juice concentrates', 'basil', 'fruits', 'horseradish', 'lettuce', 'pesto', 'soy milk', 'hoisin sauce', 'sesame oil', 'peanuts', 'ham', 'bacon bits', 'chutney', 'sun dried tomatoes', 'sausage', 'coffee', 'pasta salad', 'cereal', 'grapes', 'cashews', 'tea', 'pudding', 'coconut cream', 'coconut water', 'apple juice', 'fruit cocktail', 'walnuts', 'dough', 'roasted red peppers', 'whole wheat bread', 'thyme', 'mayonnaise', 'oregano', 'leftovers', 'strawberries', 'berries', 'coleslaw', 'cilantro', 'guacamole', 'tomato paste', 'canola oil', 'mung bean', 'lemon juice', 'ghee', 'avocado oil', 'almond oil', 'grapeseed oil', 'spelt', 'lime juice', 'pure vanilla extract', 'butter flavor', 'string cheese', 'salsa', 'puff pastry', 'biscuits', 'orange juice', 'vegetable soup', 'caviar', 'pine nuts', 'coconut oil', 'quail', 'kefir', 'cookie dough', 'base', 'meat products', 'chicken parts', 'cornish hens', 'canned chicken', 'fatty fish', 'miso', 'barley', 'whole wheat flour', 'cream pies', 'quiche', 'sugar substitutes', 'cookies', 'potato salad', 'brussels sprouts', 'cherry tomatoes', 'taro', 'aioli', 'salami', 'prosciutto', 'chocolate syrup', 'pectin', 'tortillas', 'rice milk', 'coconuts', 'turkey bacon', 'black bean sauce', 'tofu', 'oyster sauce', 'rosemary', 'powdered milk', 'popcorn', 'almond butter', 'cashew butter', 'hummus', 'jerky', 'kohlrabi', 'cantaloupe', 'farro', 'lemongrass', 'canadian bacon', 'pecans', 'mint', 'hot peppers', 'swiss chard', 'cranberry sauce', 'pate', 'buckwheat', 'cheese curds', 'bratwurst', 'bulgur', 'eggplant', 'coconut flour', 'kale', 'zucchini', 'cherries', 'polenta', 'balsamic vinegar', 'anchovies', 'arugula'] \n",
      "\n",
      "\n",
      "~~~~~~~~~~~~~~~~~3~~~~~~~~~~~~~~~~~\n"
     ]
    },
    {
     "name": "stdout",
     "output_type": "stream",
     "text": [
      "Model loaded...\n"
     ]
    },
    {
     "name": "stderr",
     "output_type": "stream",
     "text": [
      " 21%|██████████████████▊                                                                       | 418/2004 [00:00<00:01, 1413.76it/s]"
     ]
    },
    {
     "name": "stdout",
     "output_type": "stream",
     "text": [
      "Skipping entity\n",
      "Skipping entity\n",
      "Skipping entity\n",
      "Skipping entity\n",
      "Skipping entity\n",
      "Skipping entity\n",
      "Skipping entity\n",
      "Skipping entity\n",
      "Skipping entity\n",
      "Skipping entity\n",
      "Skipping entity\n",
      "Skipping entity\n",
      "Skipping entity\n",
      "Skipping entity\n",
      "Skipping entity\n",
      "Skipping entity\n"
     ]
    },
    {
     "name": "stderr",
     "output_type": "stream",
     "text": [
      " 37%|████████████████████████████████▉                                                         | 734/2004 [00:00<00:00, 1511.49it/s]"
     ]
    },
    {
     "name": "stdout",
     "output_type": "stream",
     "text": [
      "Skipping entity\n",
      "Skipping entity\n",
      "Skipping entity\n",
      "Skipping entity\n",
      "Skipping entity\n",
      "Skipping entity\n",
      "Skipping entity\n",
      "Skipping entity\n",
      "Skipping entity\n",
      "Skipping entity\n",
      "Skipping entity\n",
      "Skipping entity\n",
      "Skipping entity\n",
      "Skipping entity\n",
      "Skipping entity\n",
      "Skipping entity\n",
      "Skipping entity\n",
      "Skipping entity\n",
      "Skipping entity"
     ]
    },
    {
     "name": "stderr",
     "output_type": "stream",
     "text": [
      " 62%|███████████████████████████████████████████████████████▏                                 | 1242/2004 [00:00<00:00, 1647.57it/s]"
     ]
    },
    {
     "name": "stdout",
     "output_type": "stream",
     "text": [
      "\n",
      "Skipping entity\n",
      "Skipping entity\n",
      "Skipping entity\n",
      "Skipping entity\n",
      "Skipping entity\n",
      "Skipping entity\n",
      "Skipping entity\n",
      "Skipping entity\n",
      "Skipping entity\n",
      "Skipping entity\n",
      "Skipping entity\n",
      "Skipping entity\n",
      "Skipping entity\n",
      "Skipping entity\n",
      "Skipping entity\n",
      "Skipping entity\n"
     ]
    },
    {
     "name": "stderr",
     "output_type": "stream",
     "text": [
      " 88%|██████████████████████████████████████████████████████████████████████████████           | 1759/2004 [00:01<00:00, 1694.78it/s]"
     ]
    },
    {
     "name": "stdout",
     "output_type": "stream",
     "text": [
      "Skipping entity\n",
      "Skipping entity\n",
      "Skipping entity\n",
      "Skipping entity\n",
      "Skipping entity\n",
      "Skipping entity\n",
      "Skipping entity\n",
      "Skipping entity\n",
      "Skipping entity\n",
      "Skipping entity\n",
      "Skipping entity\n",
      "Skipping entity\n",
      "Skipping entity\n",
      "Skipping entity\n",
      "Skipping entity\n",
      "Skipping entity\n",
      "Skipping entity\n"
     ]
    },
    {
     "name": "stderr",
     "output_type": "stream",
     "text": [
      "100%|█████████████████████████████████████████████████████████████████████████████████████████| 2004/2004 [00:01<00:00, 1611.49it/s]\n"
     ]
    },
    {
     "name": "stdout",
     "output_type": "stream",
     "text": [
      "Skipping entity\n",
      "Skipping entity\n",
      "Skipping entity\n",
      "Skipping entity\n",
      "Skipping entity\n",
      "Skipping entity\n",
      "Skipping entity\n",
      "Skipping entity\n",
      "Skipping entity\n",
      "[i] Saving to output directory: output\n",
      "[i] Using CPU\n",
      "\u001b[1m\n",
      "=========================== Initializing pipeline ===========================\u001b[0m\n",
      "[+] Initialized pipeline\n",
      "\u001b[1m\n",
      "============================= Training pipeline =============================\u001b[0m\n",
      "[i] Pipeline: ['tok2vec', 'ner']\n",
      "[i] Initial learn rate: 0.001\n",
      "E    #       LOSS TOK2VEC  LOSS NER  ENTS_F  ENTS_P  ENTS_R  SCORE \n",
      "---  ------  ------------  --------  ------  ------  ------  ------\n",
      "  0       0          0.00     31.50    0.06    2.86    0.03    0.00\n",
      "  0     200         95.78   2700.34   81.45   74.61   89.67    0.81\n",
      "  0     400         75.00   1258.96   88.90   82.63   96.20    0.89\n",
      "  0     600         84.04   1333.61   91.46   86.88   96.54    0.91\n",
      "  1     800         97.48   1418.21   93.22   90.68   95.89    0.93\n",
      "  1    1000        241.27   1463.35   94.29   91.70   97.03    0.94\n",
      "  2    1200        142.78   1344.49   96.62   95.39   97.88    0.97\n",
      "  3    1400        180.29   1262.98   97.47   96.15   98.82    0.97\n",
      "  4    1600        261.42   1185.83   98.29   98.15   98.42    0.98\n",
      "  5    1800        299.60   1167.61   98.91   98.39   99.44    0.99\n",
      "  7    2000        407.51    966.81   99.33   99.17   99.50    0.99\n",
      "  9    2200        446.14    846.60   99.60   99.41   99.78    1.00\n",
      " 11    2400        505.63    778.15   99.69   99.69   99.70    1.00\n",
      " 14    2600        469.71    651.79   99.79   99.80   99.78    1.00\n",
      " 16    2800        494.04    596.37   99.81   99.94   99.69    1.00\n",
      " 19    3000        514.20    472.77   99.84   99.78   99.89    1.00\n",
      " 21    3200        540.41    457.70   99.78   99.76   99.81    1.00\n",
      " 24    3400        469.69    473.10   99.88   99.87   99.89    1.00\n",
      " 26    3600        514.41    461.79   99.84   99.98   99.71    1.00\n",
      " 29    3800        486.45    374.41   99.90   99.90   99.89    1.00\n",
      " 31    4000        563.15    357.00   99.81   99.69   99.94    1.00\n",
      " 34    4200        603.81    340.67   99.91   99.92   99.90    1.00\n",
      " 36    4400        707.97    355.66   99.89   99.97   99.80    1.00\n",
      " 39    4600        739.55    353.76   99.90   99.91   99.89    1.00\n",
      " 41    4800        675.41    326.19   99.92   99.89   99.95    1.00\n",
      " 43    5000        669.30    272.54   99.89   99.87   99.91    1.00\n",
      " 46    5200        931.93    290.98   99.93   99.92   99.93    1.00\n",
      " 48    5400        731.01    282.18   99.92   99.90   99.93    1.00\n",
      " 51    5600        733.37    275.85   99.90   99.92   99.87    1.00\n",
      " 53    5800        736.20    244.27   99.92   99.88   99.95    1.00\n",
      " 56    6000       1010.77    266.87   99.89   99.85   99.93    1.00\n",
      " 58    6200        849.23    268.73   99.86   99.82   99.89    1.00\n",
      " 61    6400        996.06    254.19   99.87   99.76   99.98    1.00\n",
      " 63    6600        833.48    244.65   99.92   99.86   99.98    1.00\n",
      " 66    6800       1066.45    252.15   99.92   99.95   99.89    1.00\n",
      "[+] Saved pipeline to output directory\n",
      "output\\model-last\n",
      "\n",
      "Total keywords:  249\n",
      "List of Keywords:\n",
      "\n",
      " ['cheese', 'chicken', 'milk', 'butter', 'cream', 'fruit', 'rice', 'water', 'garlic', 'bread', 'sugar', 'salt', 'chocolate', 'fish', 'beef', 'yogurt', 'almond milk', 'greens', 'granola', 'nuts', 'chia seeds', 'onions', 'apples', 'peanut butter', 'squash', 'soda', 'flour', 'garlic powder', 'buttermilk', 'potatoes', 'cottage cheese', 'sour cream', 'turkey', 'beans', 'cream cheese', 'bagel', 'pretzels', 'celery', 'white wine', 'margarine', 'whipped cream', 'ice cream', 'pineapple', 'whipped topping', 'plantains', 'veal', 'mustard', 'corned beef', 'rye', 'fried chicken', 'gravy', 'tuna', 'vegetables', 'eggs', 'rotisserie chicken', 'hot dogs', 'crackers', 'dips', 'meats', 'frozen entrees', 'bacon', 'pasta', 'pizza', 'potato chips', 'avocados', 'pork', 'sunflower seeds', 'lentils', 'lean fish', 'cauliflower', 'asparagus', 'almonds', 'cooked fish', 'honey', 'kimchi', 'herbs', 'dates', 'scallops', 'yuzu', 'corn syrup', 'baking soda', 'molasses', 'yeast', 'cornmeal', 'vinegar', 'parsley', 'worcestershire sauce', 'mushrooms', 'broth', 'peppers', 'oats', 'guava', 'coconut', 'cheesecake', 'cinnamon', 'muffin', 'pies', 'tomato sauce', 'pickles', 'goat', 'lamb', 'seafood', 'olives', 'baking powder', 'sesame seeds', 'raspberries', 'cornstarch', 'hot sauce', 'grits', 'chives', 'coconut milk', 'tamarind', 'tomatoes', 'cumin', 'chili powder', 'onion powder', 'black pepper', 'pie crust', 'cooked rice', 'nutmeg', 'peas', 'refried beans', 'bananas', 'okra', 'cabbage', 'syrup', 'juice concentrates', 'basil', 'fruits', 'horseradish', 'lettuce', 'pesto', 'soy milk', 'hoisin sauce', 'sesame oil', 'peanuts', 'ham', 'bacon bits', 'chutney', 'sun dried tomatoes', 'sausage', 'coffee', 'pasta salad', 'cereal', 'grapes', 'cashews', 'tea', 'pudding', 'coconut cream', 'coconut water', 'apple juice', 'fruit cocktail', 'walnuts', 'dough', 'roasted red peppers', 'whole wheat bread', 'thyme', 'mayonnaise', 'oregano', 'leftovers', 'strawberries', 'berries', 'coleslaw', 'cilantro', 'guacamole', 'tomato paste', 'canola oil', 'mung bean', 'lemon juice', 'ghee', 'avocado oil', 'almond oil', 'grapeseed oil', 'spelt', 'lime juice', 'pure vanilla extract', 'butter flavor', 'string cheese', 'salsa', 'puff pastry', 'biscuits', 'orange juice', 'vegetable soup', 'caviar', 'pine nuts', 'coconut oil', 'quail', 'kefir', 'cookie dough', 'base', 'meat products', 'chicken parts', 'cornish hens', 'canned chicken', 'fatty fish', 'miso', 'barley', 'whole wheat flour', 'cream pies', 'quiche', 'sugar substitutes', 'cookies', 'potato salad', 'brussels sprouts', 'cherry tomatoes', 'taro', 'aioli', 'salami', 'prosciutto', 'chocolate syrup', 'pectin', 'tortillas', 'rice milk', 'coconuts', 'turkey bacon', 'black bean sauce', 'tofu', 'oyster sauce', 'rosemary', 'powdered milk', 'popcorn', 'almond butter', 'cashew butter', 'hummus', 'jerky', 'kohlrabi', 'cantaloupe', 'farro', 'lemongrass', 'canadian bacon', 'pecans', 'mint', 'hot peppers', 'swiss chard', 'cranberry sauce', 'pate', 'buckwheat', 'cheese curds', 'bratwurst', 'bulgur', 'eggplant', 'coconut flour', 'kale', 'zucchini', 'cherries', 'polenta', 'balsamic vinegar', 'anchovies', 'arugula'] \n",
      "\n",
      "\n",
      "[[30 14]\n",
      " [ 3 36]]\n",
      "              precision    recall  f1-score   support\n",
      "\n",
      "           1       0.91      0.68      0.78        44\n",
      "           0       0.72      0.92      0.81        39\n",
      "\n",
      "    accuracy                           0.80        83\n",
      "   macro avg       0.81      0.80      0.79        83\n",
      "weighted avg       0.82      0.80      0.79        83\n",
      "\n",
      "Total keywords:  335\n",
      "Total Tweets:  2004\n",
      "List of Keywords:\n",
      "\n",
      " ['cheese', 'chicken', 'milk', 'butter', 'cream', 'fruit', 'rice', 'water', 'garlic', 'bread', 'sugar', 'salt', 'chocolate', 'fish', 'beef', 'yogurt', 'almond milk', 'greens', 'granola', 'nuts', 'chia seeds', 'onions', 'apples', 'peanut butter', 'squash', 'soda', 'flour', 'garlic powder', 'buttermilk', 'potatoes', 'cottage cheese', 'sour cream', 'turkey', 'beans', 'cream cheese', 'bagel', 'pretzels', 'celery', 'white wine', 'margarine', 'whipped cream', 'ice cream', 'pineapple', 'whipped topping', 'plantains', 'veal', 'mustard', 'corned beef', 'rye', 'fried chicken', 'gravy', 'tuna', 'vegetables', 'eggs', 'rotisserie chicken', 'hot dogs', 'crackers', 'dips', 'meats', 'frozen entrees', 'bacon', 'pasta', 'pizza', 'potato chips', 'avocados', 'pork', 'sunflower seeds', 'lentils', 'lean fish', 'cauliflower', 'asparagus', 'almonds', 'cooked fish', 'honey', 'kimchi', 'herbs', 'dates', 'scallops', 'yuzu', 'corn syrup', 'baking soda', 'molasses', 'yeast', 'cornmeal', 'vinegar', 'parsley', 'worcestershire sauce', 'mushrooms', 'broth', 'peppers', 'oats', 'guava', 'coconut', 'cheesecake', 'cinnamon', 'muffin', 'pies', 'tomato sauce', 'pickles', 'goat', 'lamb', 'seafood', 'olives', 'baking powder', 'sesame seeds', 'raspberries', 'cornstarch', 'hot sauce', 'grits', 'chives', 'coconut milk', 'tamarind', 'tomatoes', 'cumin', 'chili powder', 'onion powder', 'black pepper', 'pie crust', 'cooked rice', 'nutmeg', 'peas', 'refried beans', 'bananas', 'okra', 'cabbage', 'syrup', 'juice concentrates', 'basil', 'fruits', 'horseradish', 'lettuce', 'pesto', 'soy milk', 'hoisin sauce', 'sesame oil', 'peanuts', 'ham', 'bacon bits', 'chutney', 'sun dried tomatoes', 'sausage', 'coffee', 'pasta salad', 'cereal', 'grapes', 'cashews', 'tea', 'pudding', 'coconut cream', 'coconut water', 'apple juice', 'fruit cocktail', 'walnuts', 'dough', 'roasted red peppers', 'whole wheat bread', 'thyme', 'mayonnaise', 'oregano', 'leftovers', 'strawberries', 'berries', 'coleslaw', 'cilantro', 'guacamole', 'tomato paste', 'canola oil', 'mung bean', 'lemon juice', 'ghee', 'avocado oil', 'almond oil', 'grapeseed oil', 'spelt', 'lime juice', 'pure vanilla extract', 'butter flavor', 'string cheese', 'salsa', 'puff pastry', 'biscuits', 'orange juice', 'vegetable soup', 'caviar', 'pine nuts', 'coconut oil', 'quail', 'kefir', 'cookie dough', 'base', 'meat products', 'chicken parts', 'cornish hens', 'canned chicken', 'fatty fish', 'miso', 'barley', 'whole wheat flour', 'cream pies', 'quiche', 'sugar substitutes', 'cookies', 'potato salad', 'brussels sprouts', 'cherry tomatoes', 'taro', 'aioli', 'salami', 'prosciutto', 'chocolate syrup', 'pectin', 'tortillas', 'rice milk', 'coconuts', 'turkey bacon', 'black bean sauce', 'tofu', 'oyster sauce', 'rosemary', 'powdered milk', 'popcorn', 'almond butter', 'cashew butter', 'hummus', 'jerky', 'kohlrabi', 'cantaloupe', 'farro', 'lemongrass', 'canadian bacon', 'pecans', 'mint', 'hot peppers', 'swiss chard', 'cranberry sauce', 'pate', 'buckwheat', 'cheese curds', 'bratwurst', 'bulgur', 'eggplant', 'coconut flour', 'kale', 'zucchini', 'cherries', 'polenta', 'balsamic vinegar', 'anchovies', 'arugula', 'oils', 'pumpkin seeds', 'flaxseed', 'herring', 'coffee creamer', 'apple cider vinegar', 'ricotta', 'pistachios', 'beets', 'sausages', 'venison', 'leeks', 'rabbit', 'pastrami', 'chicken salad', 'dinners', 'goose', 'applesauce', 'capon', 'blueberries', 'quinoa', 'cucumbers', 'red wine', 'canned goods', 'croutons', 'soy flour', 'cooked pasta', 'edamame', 'casseroles', 'fruit pies', 'tamarind paste', 'nectar', 'duck fat', 'apricots', 'pomegranate', 'cranberries', 'cherimoya', 'kiwi fruit', 'honeydew', 'tapenade', 'bamboo shoots', 'millet', 'beans and peas', 'radishes', 'rhubarb', 'bok choy', 'jicama', 'turnips', 'melons', 'pork rinds', 'squid', 'tempeh', 'marinades', 'capers', 'barbecue sauce', 'chorizo', 'apple cider', 'tahini', 'egg salad', 'cinnamon rolls', 'ham salad', 'nacho cheese', 'pork roll', 'macadamias', 'bacon grease', 'baby carrots', 'celery root', 'spaghetti sauce', 'sunflower oil', 'almond extract', 'lemon extract', 'carrot juice', 'bean sprouts', 'macaroons', 'spaghetti squash', 'vegetable juice', 'marinated vegetables', 'teff', 'garam masala', 'fresh pasta', 'ginger root', 'breadcrumbs', 'pimento cheese', 'cooking wine', 'yuzu juice', 'radicchio'] \n",
      "\n",
      "\n",
      "~~~~~~~~~~~~~~~~~4~~~~~~~~~~~~~~~~~\n"
     ]
    },
    {
     "name": "stdout",
     "output_type": "stream",
     "text": [
      "Model loaded...\n"
     ]
    },
    {
     "name": "stderr",
     "output_type": "stream",
     "text": [
      "  9%|████████▌                                                                                 | 277/2923 [00:00<00:01, 1399.44it/s]"
     ]
    },
    {
     "name": "stdout",
     "output_type": "stream",
     "text": [
      "Skipping entity\n",
      "Skipping entity\n",
      "Skipping entity\n",
      "Skipping entity\n",
      "Skipping entity\n",
      "Skipping entity\n",
      "Skipping entity\n",
      "Skipping entity\n",
      "Skipping entity\n",
      "Skipping entity\n",
      "Skipping entity\n",
      "Skipping entity\n",
      "Skipping entity\n"
     ]
    },
    {
     "name": "stderr",
     "output_type": "stream",
     "text": [
      " 25%|██████████████████████▉                                                                   | 745/2923 [00:00<00:01, 1539.97it/s]"
     ]
    },
    {
     "name": "stdout",
     "output_type": "stream",
     "text": [
      "Skipping entity\n",
      "Skipping entity\n",
      "Skipping entity\n",
      "Skipping entity\n",
      "Skipping entity\n",
      "Skipping entity\n",
      "Skipping entity\n",
      "Skipping entity\n"
     ]
    },
    {
     "name": "stderr",
     "output_type": "stream",
     "text": [
      " 44%|██████████████████████████████████████▊                                                  | 1276/2923 [00:00<00:00, 1702.37it/s]"
     ]
    },
    {
     "name": "stdout",
     "output_type": "stream",
     "text": [
      "Skipping entity\n",
      "Skipping entity\n",
      "Skipping entity\n",
      "Skipping entity\n",
      "Skipping entity\n",
      "Skipping entity\n",
      "Skipping entity\n",
      "Skipping entity\n",
      "Skipping entity\n",
      "Skipping entity\n",
      "Skipping entity\n",
      "Skipping entity\n",
      "Skipping entity\n",
      "Skipping entity\n",
      "Skipping entity\n",
      "Skipping entity\n",
      "Skipping entity\n"
     ]
    },
    {
     "name": "stderr",
     "output_type": "stream",
     "text": [
      " 62%|███████████████████████████████████████████████████████                                  | 1809/2923 [00:01<00:00, 1752.79it/s]"
     ]
    },
    {
     "name": "stdout",
     "output_type": "stream",
     "text": [
      "Skipping entity\n",
      "Skipping entity\n",
      "Skipping entity\n",
      "Skipping entity\n",
      "Skipping entity\n",
      "Skipping entity\n",
      "Skipping entity\n",
      "Skipping entity\n",
      "Skipping entity\n",
      "Skipping entity\n",
      "Skipping entity\n",
      "Skipping entity\n",
      "Skipping entity\n",
      "Skipping entity\n"
     ]
    },
    {
     "name": "stderr",
     "output_type": "stream",
     "text": [
      " 87%|█████████████████████████████████████████████████████████████████████████████            | 2530/2923 [00:01<00:00, 1783.21it/s]"
     ]
    },
    {
     "name": "stdout",
     "output_type": "stream",
     "text": [
      "Skipping entity\n",
      "Skipping entity\n",
      "Skipping entity\n",
      "Skipping entity\n",
      "Skipping entity\n",
      "Skipping entity\n",
      "Skipping entity\n",
      "Skipping entity\n",
      "Skipping entity\n",
      "Skipping entity\n",
      "Skipping entity\n"
     ]
    },
    {
     "name": "stderr",
     "output_type": "stream",
     "text": [
      "100%|█████████████████████████████████████████████████████████████████████████████████████████| 2923/2923 [00:01<00:00, 1697.47it/s]"
     ]
    },
    {
     "name": "stdout",
     "output_type": "stream",
     "text": [
      "Skipping entity\n",
      "Skipping entity\n",
      "Skipping entity\n",
      "Skipping entity\n",
      "Skipping entity\n",
      "Skipping entity\n",
      "Skipping entity\n",
      "Skipping entity\n",
      "Skipping entity\n",
      "Skipping entity\n",
      "Skipping entity\n",
      "Skipping entity\n",
      "Skipping entity\n",
      "Skipping entity\n"
     ]
    },
    {
     "name": "stderr",
     "output_type": "stream",
     "text": [
      "\n"
     ]
    },
    {
     "name": "stdout",
     "output_type": "stream",
     "text": [
      "[i] Saving to output directory: output\n",
      "[i] Using CPU\n",
      "\u001b[1m\n",
      "=========================== Initializing pipeline ===========================\u001b[0m\n",
      "[+] Initialized pipeline\n",
      "\u001b[1m\n",
      "============================= Training pipeline =============================\u001b[0m\n",
      "[i] Pipeline: ['tok2vec', 'ner']\n",
      "[i] Initial learn rate: 0.001\n",
      "E    #       LOSS TOK2VEC  LOSS NER  ENTS_F  ENTS_P  ENTS_R  SCORE \n",
      "---  ------  ------------  --------  ------  ------  ------  ------\n",
      "  0       0          0.00     38.83    0.00    0.00    0.00    0.00\n",
      "  0     200        101.58   2674.06   83.01   81.21   84.89    0.83\n",
      "  0     400         88.64   1482.91   85.89   85.79   85.98    0.86\n",
      "  0     600        101.59   1468.01   90.26   85.51   95.57    0.90\n",
      "  0     800        103.72   1728.55   91.52   86.75   96.85    0.92\n",
      "  1    1000        114.53   1640.66   93.34   89.25   97.81    0.93\n",
      "  1    1200        159.35   1808.17   94.18   90.56   98.10    0.94\n",
      "  2    1400        199.41   1751.57   95.58   94.50   96.68    0.96\n",
      "  3    1600        235.71   1919.52   96.54   94.22   98.98    0.97\n",
      "  4    1800        324.77   1745.34   97.89   97.07   98.73    0.98\n",
      "  5    2000        430.17   1637.22   98.35   97.67   99.03    0.98\n",
      "  6    2200        603.92   1571.80   98.92   98.49   99.36    0.99\n",
      "  8    2400        622.27   1410.47   99.20   98.68   99.73    0.99\n",
      " 10    2600        667.75   1148.32   99.52   99.31   99.72    1.00\n",
      " 11    2800        605.76    932.84   99.69   99.62   99.77    1.00\n",
      " 13    3000        581.50    811.39   99.79   99.78   99.80    1.00\n",
      " 15    3200        548.10    707.04   99.75   99.63   99.88    1.00\n",
      " 16    3400        589.21    657.40   99.83   99.74   99.91    1.00\n",
      " 18    3600        557.48    590.42   99.76   99.88   99.64    1.00\n",
      " 20    3800        595.53    546.64   99.72   99.53   99.91    1.00\n",
      " 22    4000        632.88    556.27   99.86   99.84   99.88    1.00\n",
      " 23    4200        647.81    506.01   99.83   99.74   99.92    1.00\n",
      " 25    4400        711.22    491.72   99.84   99.78   99.91    1.00\n",
      " 27    4600        671.30    457.39   99.89   99.84   99.94    1.00\n",
      " 29    4800        665.86    437.27   99.80   99.74   99.86    1.00\n",
      " 30    5000        656.40    422.88   99.94   99.94   99.93    1.00\n",
      " 32    5200        561.39    408.50   99.90   99.93   99.88    1.00\n",
      " 34    5400        722.32    379.76   99.92   99.89   99.96    1.00\n",
      " 35    5600        696.74    358.88   99.93   99.91   99.96    1.00\n",
      " 37    5800        765.18    379.63   99.92   99.97   99.87    1.00\n",
      " 39    6000        684.27    319.10   99.96   99.95   99.96    1.00\n",
      " 41    6200        746.71    346.95   99.96   99.95   99.97    1.00\n",
      " 42    6400        647.67    323.90   99.96   99.97   99.95    1.00\n",
      " 44    6600        744.10    299.89   99.92   99.95   99.89    1.00\n",
      " 46    6800        906.99    252.76   99.90   99.90   99.91    1.00\n",
      " 48    7000        877.01    292.65   99.93   99.88   99.98    1.00\n",
      " 49    7200        897.84    315.06   99.97   99.95  100.00    1.00\n",
      " 51    7400        808.52    275.49   99.93   99.87   99.98    1.00\n",
      " 53    7600       1100.88    267.20   99.94   99.93   99.96    1.00\n",
      " 54    7800       1025.97    244.80   99.96   99.94   99.99    1.00\n",
      " 56    8000       1087.90    276.02   99.95   99.91   99.98    1.00\n",
      " 58    8200        797.45    239.45   99.96   99.95   99.96    1.00\n",
      " 60    8400       1222.68    308.25   99.95   99.91   99.98    1.00\n",
      " 61    8600        918.29    219.80   99.96   99.94   99.99    1.00\n",
      " 63    8800       1168.09    244.44   99.96   99.93   99.98    1.00\n",
      "[+] Saved pipeline to output directory\n",
      "output\\model-last\n",
      "\n",
      "Total keywords:  335\n",
      "List of Keywords:\n",
      "\n",
      " ['cheese', 'chicken', 'milk', 'butter', 'cream', 'fruit', 'rice', 'water', 'garlic', 'bread', 'sugar', 'salt', 'chocolate', 'fish', 'beef', 'yogurt', 'almond milk', 'greens', 'granola', 'nuts', 'chia seeds', 'onions', 'apples', 'peanut butter', 'squash', 'soda', 'flour', 'garlic powder', 'buttermilk', 'potatoes', 'cottage cheese', 'sour cream', 'turkey', 'beans', 'cream cheese', 'bagel', 'pretzels', 'celery', 'white wine', 'margarine', 'whipped cream', 'ice cream', 'pineapple', 'whipped topping', 'plantains', 'veal', 'mustard', 'corned beef', 'rye', 'fried chicken', 'gravy', 'tuna', 'vegetables', 'eggs', 'rotisserie chicken', 'hot dogs', 'crackers', 'dips', 'meats', 'frozen entrees', 'bacon', 'pasta', 'pizza', 'potato chips', 'avocados', 'pork', 'sunflower seeds', 'lentils', 'lean fish', 'cauliflower', 'asparagus', 'almonds', 'cooked fish', 'honey', 'kimchi', 'herbs', 'dates', 'scallops', 'yuzu', 'corn syrup', 'baking soda', 'molasses', 'yeast', 'cornmeal', 'vinegar', 'parsley', 'worcestershire sauce', 'mushrooms', 'broth', 'peppers', 'oats', 'guava', 'coconut', 'cheesecake', 'cinnamon', 'muffin', 'pies', 'tomato sauce', 'pickles', 'goat', 'lamb', 'seafood', 'olives', 'baking powder', 'sesame seeds', 'raspberries', 'cornstarch', 'hot sauce', 'grits', 'chives', 'coconut milk', 'tamarind', 'tomatoes', 'cumin', 'chili powder', 'onion powder', 'black pepper', 'pie crust', 'cooked rice', 'nutmeg', 'peas', 'refried beans', 'bananas', 'okra', 'cabbage', 'syrup', 'juice concentrates', 'basil', 'fruits', 'horseradish', 'lettuce', 'pesto', 'soy milk', 'hoisin sauce', 'sesame oil', 'peanuts', 'ham', 'bacon bits', 'chutney', 'sun dried tomatoes', 'sausage', 'coffee', 'pasta salad', 'cereal', 'grapes', 'cashews', 'tea', 'pudding', 'coconut cream', 'coconut water', 'apple juice', 'fruit cocktail', 'walnuts', 'dough', 'roasted red peppers', 'whole wheat bread', 'thyme', 'mayonnaise', 'oregano', 'leftovers', 'strawberries', 'berries', 'coleslaw', 'cilantro', 'guacamole', 'tomato paste', 'canola oil', 'mung bean', 'lemon juice', 'ghee', 'avocado oil', 'almond oil', 'grapeseed oil', 'spelt', 'lime juice', 'pure vanilla extract', 'butter flavor', 'string cheese', 'salsa', 'puff pastry', 'biscuits', 'orange juice', 'vegetable soup', 'caviar', 'pine nuts', 'coconut oil', 'quail', 'kefir', 'cookie dough', 'base', 'meat products', 'chicken parts', 'cornish hens', 'canned chicken', 'fatty fish', 'miso', 'barley', 'whole wheat flour', 'cream pies', 'quiche', 'sugar substitutes', 'cookies', 'potato salad', 'brussels sprouts', 'cherry tomatoes', 'taro', 'aioli', 'salami', 'prosciutto', 'chocolate syrup', 'pectin', 'tortillas', 'rice milk', 'coconuts', 'turkey bacon', 'black bean sauce', 'tofu', 'oyster sauce', 'rosemary', 'powdered milk', 'popcorn', 'almond butter', 'cashew butter', 'hummus', 'jerky', 'kohlrabi', 'cantaloupe', 'farro', 'lemongrass', 'canadian bacon', 'pecans', 'mint', 'hot peppers', 'swiss chard', 'cranberry sauce', 'pate', 'buckwheat', 'cheese curds', 'bratwurst', 'bulgur', 'eggplant', 'coconut flour', 'kale', 'zucchini', 'cherries', 'polenta', 'balsamic vinegar', 'anchovies', 'arugula', 'oils', 'pumpkin seeds', 'flaxseed', 'herring', 'coffee creamer', 'apple cider vinegar', 'ricotta', 'pistachios', 'beets', 'sausages', 'venison', 'leeks', 'rabbit', 'pastrami', 'chicken salad', 'dinners', 'goose', 'applesauce', 'capon', 'blueberries', 'quinoa', 'cucumbers', 'red wine', 'canned goods', 'croutons', 'soy flour', 'cooked pasta', 'edamame', 'casseroles', 'fruit pies', 'tamarind paste', 'nectar', 'duck fat', 'apricots', 'pomegranate', 'cranberries', 'cherimoya', 'kiwi fruit', 'honeydew', 'tapenade', 'bamboo shoots', 'millet', 'beans and peas', 'radishes', 'rhubarb', 'bok choy', 'jicama', 'turnips', 'melons', 'pork rinds', 'squid', 'tempeh', 'marinades', 'capers', 'barbecue sauce', 'chorizo', 'apple cider', 'tahini', 'egg salad', 'cinnamon rolls', 'ham salad', 'nacho cheese', 'pork roll', 'macadamias', 'bacon grease', 'baby carrots', 'celery root', 'spaghetti sauce', 'sunflower oil', 'almond extract', 'lemon extract', 'carrot juice', 'bean sprouts', 'macaroons', 'spaghetti squash', 'vegetable juice', 'marinated vegetables', 'teff', 'garam masala', 'fresh pasta', 'ginger root', 'breadcrumbs', 'pimento cheese', 'cooking wine', 'yuzu juice', 'radicchio'] \n",
      "\n",
      "\n",
      "[[31 13]\n",
      " [ 7 32]]\n",
      "              precision    recall  f1-score   support\n",
      "\n",
      "           1       0.82      0.70      0.76        44\n",
      "           0       0.71      0.82      0.76        39\n",
      "\n",
      "    accuracy                           0.76        83\n",
      "   macro avg       0.76      0.76      0.76        83\n",
      "weighted avg       0.77      0.76      0.76        83\n",
      "\n",
      "Total keywords:  349\n",
      "Total Tweets:  2923\n",
      "List of Keywords:\n",
      "\n",
      " ['cheese', 'chicken', 'milk', 'butter', 'cream', 'fruit', 'rice', 'water', 'garlic', 'bread', 'sugar', 'salt', 'chocolate', 'fish', 'beef', 'yogurt', 'almond milk', 'greens', 'granola', 'nuts', 'chia seeds', 'onions', 'apples', 'peanut butter', 'squash', 'soda', 'flour', 'garlic powder', 'buttermilk', 'potatoes', 'cottage cheese', 'sour cream', 'turkey', 'beans', 'cream cheese', 'bagel', 'pretzels', 'celery', 'white wine', 'margarine', 'whipped cream', 'ice cream', 'pineapple', 'whipped topping', 'plantains', 'veal', 'mustard', 'corned beef', 'rye', 'fried chicken', 'gravy', 'tuna', 'vegetables', 'eggs', 'rotisserie chicken', 'hot dogs', 'crackers', 'dips', 'meats', 'frozen entrees', 'bacon', 'pasta', 'pizza', 'potato chips', 'avocados', 'pork', 'sunflower seeds', 'lentils', 'lean fish', 'cauliflower', 'asparagus', 'almonds', 'cooked fish', 'honey', 'kimchi', 'herbs', 'dates', 'scallops', 'yuzu', 'corn syrup', 'baking soda', 'molasses', 'yeast', 'cornmeal', 'vinegar', 'parsley', 'worcestershire sauce', 'mushrooms', 'broth', 'peppers', 'oats', 'guava', 'coconut', 'cheesecake', 'cinnamon', 'muffin', 'pies', 'tomato sauce', 'pickles', 'goat', 'lamb', 'seafood', 'olives', 'baking powder', 'sesame seeds', 'raspberries', 'cornstarch', 'hot sauce', 'grits', 'chives', 'coconut milk', 'tamarind', 'tomatoes', 'cumin', 'chili powder', 'onion powder', 'black pepper', 'pie crust', 'cooked rice', 'nutmeg', 'peas', 'refried beans', 'bananas', 'okra', 'cabbage', 'syrup', 'juice concentrates', 'basil', 'fruits', 'horseradish', 'lettuce', 'pesto', 'soy milk', 'hoisin sauce', 'sesame oil', 'peanuts', 'ham', 'bacon bits', 'chutney', 'sun dried tomatoes', 'sausage', 'coffee', 'pasta salad', 'cereal', 'grapes', 'cashews', 'tea', 'pudding', 'coconut cream', 'coconut water', 'apple juice', 'fruit cocktail', 'walnuts', 'dough', 'roasted red peppers', 'whole wheat bread', 'thyme', 'mayonnaise', 'oregano', 'leftovers', 'strawberries', 'berries', 'coleslaw', 'cilantro', 'guacamole', 'tomato paste', 'canola oil', 'mung bean', 'lemon juice', 'ghee', 'avocado oil', 'almond oil', 'grapeseed oil', 'spelt', 'lime juice', 'pure vanilla extract', 'butter flavor', 'string cheese', 'salsa', 'puff pastry', 'biscuits', 'orange juice', 'vegetable soup', 'caviar', 'pine nuts', 'coconut oil', 'quail', 'kefir', 'cookie dough', 'base', 'meat products', 'chicken parts', 'cornish hens', 'canned chicken', 'fatty fish', 'miso', 'barley', 'whole wheat flour', 'cream pies', 'quiche', 'sugar substitutes', 'cookies', 'potato salad', 'brussels sprouts', 'cherry tomatoes', 'taro', 'aioli', 'salami', 'prosciutto', 'chocolate syrup', 'pectin', 'tortillas', 'rice milk', 'coconuts', 'turkey bacon', 'black bean sauce', 'tofu', 'oyster sauce', 'rosemary', 'powdered milk', 'popcorn', 'almond butter', 'cashew butter', 'hummus', 'jerky', 'kohlrabi', 'cantaloupe', 'farro', 'lemongrass', 'canadian bacon', 'pecans', 'mint', 'hot peppers', 'swiss chard', 'cranberry sauce', 'pate', 'buckwheat', 'cheese curds', 'bratwurst', 'bulgur', 'eggplant', 'coconut flour', 'kale', 'zucchini', 'cherries', 'polenta', 'balsamic vinegar', 'anchovies', 'arugula', 'oils', 'pumpkin seeds', 'flaxseed', 'herring', 'coffee creamer', 'apple cider vinegar', 'ricotta', 'pistachios', 'beets', 'sausages', 'venison', 'leeks', 'rabbit', 'pastrami', 'chicken salad', 'dinners', 'goose', 'applesauce', 'capon', 'blueberries', 'quinoa', 'cucumbers', 'red wine', 'canned goods', 'croutons', 'soy flour', 'cooked pasta', 'edamame', 'casseroles', 'fruit pies', 'tamarind paste', 'nectar', 'duck fat', 'apricots', 'pomegranate', 'cranberries', 'cherimoya', 'kiwi fruit', 'honeydew', 'tapenade', 'bamboo shoots', 'millet', 'beans and peas', 'radishes', 'rhubarb', 'bok choy', 'jicama', 'turnips', 'melons', 'pork rinds', 'squid', 'tempeh', 'marinades', 'capers', 'barbecue sauce', 'chorizo', 'apple cider', 'tahini', 'egg salad', 'cinnamon rolls', 'ham salad', 'nacho cheese', 'pork roll', 'macadamias', 'bacon grease', 'baby carrots', 'celery root', 'spaghetti sauce', 'sunflower oil', 'almond extract', 'lemon extract', 'carrot juice', 'bean sprouts', 'macaroons', 'spaghetti squash', 'vegetable juice', 'marinated vegetables', 'teff', 'garam masala', 'fresh pasta', 'ginger root', 'breadcrumbs', 'pimento cheese', 'cooking wine', 'yuzu juice', 'radicchio', 'egg dishes', 'lobster tails', 'fruit cake', 'citrus fruit', 'watermelon', 'rutabagas', 'marshmallows', 'seafood salads', 'amaranth', 'kumquats', 'relish', 'prickly pear', 'cinnamon extract', 'crab legs'] \n",
      "\n",
      "\n",
      "~~~~~~~~~~~~~~~~~5~~~~~~~~~~~~~~~~~\n"
     ]
    },
    {
     "name": "stdout",
     "output_type": "stream",
     "text": [
      "Model loaded...\n"
     ]
    },
    {
     "name": "stderr",
     "output_type": "stream",
     "text": [
      " 13%|███████████▍                                                                              | 425/3344 [00:00<00:02, 1436.67it/s]"
     ]
    },
    {
     "name": "stdout",
     "output_type": "stream",
     "text": [
      "Skipping entity\n",
      "Skipping entity\n",
      "Skipping entity\n",
      "Skipping entity\n",
      "Skipping entity\n",
      "Skipping entity\n",
      "Skipping entity\n",
      "Skipping entity\n",
      "Skipping entity\n",
      "Skipping entity\n",
      "Skipping entity\n",
      "Skipping entity\n",
      "Skipping entity\n",
      "Skipping entity\n"
     ]
    },
    {
     "name": "stderr",
     "output_type": "stream",
     "text": [
      " 28%|████████████████████████▊                                                                 | 922/3344 [00:00<00:01, 1611.65it/s]"
     ]
    },
    {
     "name": "stdout",
     "output_type": "stream",
     "text": [
      "Skipping entity\n",
      "Skipping entity\n",
      "Skipping entity\n",
      "Skipping entity\n",
      "Skipping entity\n",
      "Skipping entity\n",
      "Skipping entity\n",
      "Skipping entity\n",
      "Skipping entity\n",
      "Skipping entity\n",
      "Skipping entity\n",
      "Skipping entity\n",
      "Skipping entity\n",
      "Skipping entity\n",
      "Skipping entity\n"
     ]
    },
    {
     "name": "stderr",
     "output_type": "stream",
     "text": [
      " 43%|██████████████████████████████████████▌                                                  | 1448/3344 [00:00<00:01, 1705.27it/s]"
     ]
    },
    {
     "name": "stdout",
     "output_type": "stream",
     "text": [
      "Skipping entity\n",
      "Skipping entity\n",
      "Skipping entity\n",
      "Skipping entity\n",
      "Skipping entity\n",
      "Skipping entity\n",
      "Skipping entity\n",
      "Skipping entity\n",
      "Skipping entity\n",
      "Skipping entity\n",
      "Skipping entity\n",
      "Skipping entity\n",
      "Skipping entity\n",
      "Skipping entity\n",
      "Skipping entity\n",
      "Skipping entity\n",
      "Skipping entity\n"
     ]
    },
    {
     "name": "stderr",
     "output_type": "stream",
     "text": [
      " 59%|████████████████████████████████████████████████████▉                                    | 1987/3344 [00:01<00:00, 1769.24it/s]"
     ]
    },
    {
     "name": "stdout",
     "output_type": "stream",
     "text": [
      "Skipping entity\n",
      "Skipping entity\n",
      "Skipping entity\n",
      "Skipping entity\n",
      "Skipping entity\n",
      "Skipping entity\n",
      "Skipping entity\n",
      "Skipping entity\n",
      "Skipping entity\n",
      "Skipping entity\n",
      "Skipping entity\n",
      "Skipping entity\n",
      "Skipping entity\n",
      "Skipping entity\n",
      "Skipping entity\n",
      "Skipping entity\n",
      "Skipping entity\n",
      "Skipping entity\n",
      "Skipping entity\n"
     ]
    },
    {
     "name": "stderr",
     "output_type": "stream",
     "text": [
      " 76%|███████████████████████████████████████████████████████████████████▌                     | 2537/3344 [00:01<00:00, 1811.05it/s]"
     ]
    },
    {
     "name": "stdout",
     "output_type": "stream",
     "text": [
      "Skipping entity\n",
      "Skipping entity\n",
      "Skipping entity\n",
      "Skipping entity\n",
      "Skipping entity\n",
      "Skipping entity\n",
      "Skipping entity\n",
      "Skipping entity\n",
      "Skipping entity\n",
      "Skipping entity\n"
     ]
    },
    {
     "name": "stderr",
     "output_type": "stream",
     "text": [
      " 92%|██████████████████████████████████████████████████████████████████████████████████▏      | 3087/3344 [00:01<00:00, 1819.42it/s]"
     ]
    },
    {
     "name": "stdout",
     "output_type": "stream",
     "text": [
      "Skipping entity\n",
      "Skipping entity\n",
      "Skipping entity\n",
      "Skipping entity\n",
      "Skipping entity\n",
      "Skipping entity\n",
      "Skipping entity\n",
      "Skipping entity\n",
      "Skipping entity\n",
      "Skipping entity\n",
      "Skipping entity\n",
      "Skipping entity\n",
      "Skipping entity\n",
      "Skipping entity\n",
      "Skipping entity\n",
      "Skipping entity\n",
      "Skipping entity\n"
     ]
    },
    {
     "name": "stderr",
     "output_type": "stream",
     "text": [
      "100%|█████████████████████████████████████████████████████████████████████████████████████████| 3344/3344 [00:01<00:00, 1720.02it/s]\n"
     ]
    },
    {
     "name": "stdout",
     "output_type": "stream",
     "text": [
      "Skipping entity\n",
      "Skipping entity\n",
      "Skipping entity\n",
      "Skipping entity\n",
      "Skipping entity\n",
      "Skipping entity\n",
      "Skipping entity\n",
      "Skipping entity\n",
      "Skipping entity\n",
      "Skipping entity\n",
      "[i] Saving to output directory: output\n",
      "[i] Using CPU\n",
      "\u001b[1m\n",
      "=========================== Initializing pipeline ===========================\u001b[0m\n",
      "[+] Initialized pipeline\n",
      "\u001b[1m\n",
      "============================= Training pipeline =============================\u001b[0m\n",
      "[i] Pipeline: ['tok2vec', 'ner']\n",
      "[i] Initial learn rate: 0.001\n",
      "E    #       LOSS TOK2VEC  LOSS NER  ENTS_F  ENTS_P  ENTS_R  SCORE \n",
      "---  ------  ------------  --------  ------  ------  ------  ------\n",
      "  0       0          0.00     38.33    0.00    0.00    0.00    0.00\n",
      "  0     200        110.68   2743.56   81.51   79.88   83.21    0.82\n",
      "  0     400         79.19   1395.62   87.96   83.58   92.83    0.88\n",
      "  0     600         82.18   1606.36   89.26   87.44   91.16    0.89\n",
      "  0     800         81.57   1576.54   91.59   87.69   95.84    0.92\n",
      "  1    1000         97.37   1491.33   93.10   89.18   97.38    0.93\n",
      "  1    1200        135.58   1795.41   93.90   92.94   94.87    0.94\n",
      "  2    1400        153.75   1970.09   95.26   93.36   97.24    0.95\n",
      "  2    1600        222.98   2076.27   96.05   94.54   97.62    0.96\n",
      "  3    1800        273.07   1893.90   97.37   96.40   98.36    0.97\n",
      "  4    2000        380.87   1901.79   98.22   97.42   99.02    0.98\n",
      "  5    2200        471.88   1792.84   98.85   98.43   99.29    0.99\n",
      "  7    2400        618.69   1560.71   99.10   98.81   99.39    0.99\n",
      "  8    2600        655.49   1448.81   99.55   99.43   99.66    1.00\n",
      " 10    2800        593.44   1099.05   99.51   99.49   99.54    1.00\n",
      " 12    3000        627.27   1063.72   99.62   99.60   99.64    1.00\n",
      " 13    3200        592.98    873.64   99.64   99.76   99.53    1.00\n",
      " 15    3400        668.69    838.52   99.75   99.80   99.69    1.00\n",
      " 16    3600        654.22    761.34   99.72   99.63   99.81    1.00\n",
      " 18    3800        625.11    718.61   99.80   99.68   99.92    1.00\n",
      " 19    4000        634.97    659.96   99.81   99.76   99.86    1.00\n",
      " 21    4200        575.15    560.25   99.82   99.78   99.86    1.00\n",
      " 22    4400        679.94    575.95   99.82   99.77   99.87    1.00\n",
      " 24    4600        579.75    548.88   99.86   99.83   99.89    1.00\n",
      " 25    4800        682.42    538.83   99.85   99.78   99.91    1.00\n",
      " 27    5000        611.10    474.04   99.86   99.84   99.88    1.00\n",
      " 28    5200        738.44    504.75   99.87   99.81   99.93    1.00\n",
      " 30    5400        770.49    455.31   99.84   99.71   99.96    1.00\n",
      " 32    5600        666.66    483.28   99.87   99.83   99.92    1.00\n",
      " 33    5800        657.29    435.43   99.91   99.92   99.89    1.00\n",
      " 35    6000        653.27    396.63   99.86   99.87   99.84    1.00\n",
      " 36    6200        769.23    428.27   99.82   99.86   99.78    1.00\n",
      " 38    6400        748.91    359.16   99.89   99.92   99.86    1.00\n",
      " 39    6600        816.60    397.49   99.94   99.96   99.92    1.00\n",
      " 41    6800        700.13    381.15   99.95   99.92   99.97    1.00\n",
      " 42    7000        855.11    366.46   99.87   99.89   99.85    1.00\n",
      " 44    7200        953.92    382.04   99.89   99.80   99.97    1.00\n",
      " 45    7400        981.16    353.44   99.85   99.71   99.99    1.00\n",
      " 47    7600        666.84    327.68   99.90   99.85   99.96    1.00\n",
      " 48    7800        802.33    342.56   99.94   99.93   99.94    1.00\n",
      " 50    8000        745.26    287.93   99.86   99.85   99.86    1.00\n",
      " 52    8200       1037.25    313.08   99.90   99.84   99.96    1.00\n",
      " 53    8400       1022.25    296.09   99.90   99.90   99.90    1.00\n",
      "[+] Saved pipeline to output directory\n",
      "output\\model-last\n",
      "\n",
      "Total keywords:  349\n",
      "List of Keywords:\n",
      "\n",
      " ['cheese', 'chicken', 'milk', 'butter', 'cream', 'fruit', 'rice', 'water', 'garlic', 'bread', 'sugar', 'salt', 'chocolate', 'fish', 'beef', 'yogurt', 'almond milk', 'greens', 'granola', 'nuts', 'chia seeds', 'onions', 'apples', 'peanut butter', 'squash', 'soda', 'flour', 'garlic powder', 'buttermilk', 'potatoes', 'cottage cheese', 'sour cream', 'turkey', 'beans', 'cream cheese', 'bagel', 'pretzels', 'celery', 'white wine', 'margarine', 'whipped cream', 'ice cream', 'pineapple', 'whipped topping', 'plantains', 'veal', 'mustard', 'corned beef', 'rye', 'fried chicken', 'gravy', 'tuna', 'vegetables', 'eggs', 'rotisserie chicken', 'hot dogs', 'crackers', 'dips', 'meats', 'frozen entrees', 'bacon', 'pasta', 'pizza', 'potato chips', 'avocados', 'pork', 'sunflower seeds', 'lentils', 'lean fish', 'cauliflower', 'asparagus', 'almonds', 'cooked fish', 'honey', 'kimchi', 'herbs', 'dates', 'scallops', 'yuzu', 'corn syrup', 'baking soda', 'molasses', 'yeast', 'cornmeal', 'vinegar', 'parsley', 'worcestershire sauce', 'mushrooms', 'broth', 'peppers', 'oats', 'guava', 'coconut', 'cheesecake', 'cinnamon', 'muffin', 'pies', 'tomato sauce', 'pickles', 'goat', 'lamb', 'seafood', 'olives', 'baking powder', 'sesame seeds', 'raspberries', 'cornstarch', 'hot sauce', 'grits', 'chives', 'coconut milk', 'tamarind', 'tomatoes', 'cumin', 'chili powder', 'onion powder', 'black pepper', 'pie crust', 'cooked rice', 'nutmeg', 'peas', 'refried beans', 'bananas', 'okra', 'cabbage', 'syrup', 'juice concentrates', 'basil', 'fruits', 'horseradish', 'lettuce', 'pesto', 'soy milk', 'hoisin sauce', 'sesame oil', 'peanuts', 'ham', 'bacon bits', 'chutney', 'sun dried tomatoes', 'sausage', 'coffee', 'pasta salad', 'cereal', 'grapes', 'cashews', 'tea', 'pudding', 'coconut cream', 'coconut water', 'apple juice', 'fruit cocktail', 'walnuts', 'dough', 'roasted red peppers', 'whole wheat bread', 'thyme', 'mayonnaise', 'oregano', 'leftovers', 'strawberries', 'berries', 'coleslaw', 'cilantro', 'guacamole', 'tomato paste', 'canola oil', 'mung bean', 'lemon juice', 'ghee', 'avocado oil', 'almond oil', 'grapeseed oil', 'spelt', 'lime juice', 'pure vanilla extract', 'butter flavor', 'string cheese', 'salsa', 'puff pastry', 'biscuits', 'orange juice', 'vegetable soup', 'caviar', 'pine nuts', 'coconut oil', 'quail', 'kefir', 'cookie dough', 'base', 'meat products', 'chicken parts', 'cornish hens', 'canned chicken', 'fatty fish', 'miso', 'barley', 'whole wheat flour', 'cream pies', 'quiche', 'sugar substitutes', 'cookies', 'potato salad', 'brussels sprouts', 'cherry tomatoes', 'taro', 'aioli', 'salami', 'prosciutto', 'chocolate syrup', 'pectin', 'tortillas', 'rice milk', 'coconuts', 'turkey bacon', 'black bean sauce', 'tofu', 'oyster sauce', 'rosemary', 'powdered milk', 'popcorn', 'almond butter', 'cashew butter', 'hummus', 'jerky', 'kohlrabi', 'cantaloupe', 'farro', 'lemongrass', 'canadian bacon', 'pecans', 'mint', 'hot peppers', 'swiss chard', 'cranberry sauce', 'pate', 'buckwheat', 'cheese curds', 'bratwurst', 'bulgur', 'eggplant', 'coconut flour', 'kale', 'zucchini', 'cherries', 'polenta', 'balsamic vinegar', 'anchovies', 'arugula', 'oils', 'pumpkin seeds', 'flaxseed', 'herring', 'coffee creamer', 'apple cider vinegar', 'ricotta', 'pistachios', 'beets', 'sausages', 'venison', 'leeks', 'rabbit', 'pastrami', 'chicken salad', 'dinners', 'goose', 'applesauce', 'capon', 'blueberries', 'quinoa', 'cucumbers', 'red wine', 'canned goods', 'croutons', 'soy flour', 'cooked pasta', 'edamame', 'casseroles', 'fruit pies', 'tamarind paste', 'nectar', 'duck fat', 'apricots', 'pomegranate', 'cranberries', 'cherimoya', 'kiwi fruit', 'honeydew', 'tapenade', 'bamboo shoots', 'millet', 'beans and peas', 'radishes', 'rhubarb', 'bok choy', 'jicama', 'turnips', 'melons', 'pork rinds', 'squid', 'tempeh', 'marinades', 'capers', 'barbecue sauce', 'chorizo', 'apple cider', 'tahini', 'egg salad', 'cinnamon rolls', 'ham salad', 'nacho cheese', 'pork roll', 'macadamias', 'bacon grease', 'baby carrots', 'celery root', 'spaghetti sauce', 'sunflower oil', 'almond extract', 'lemon extract', 'carrot juice', 'bean sprouts', 'macaroons', 'spaghetti squash', 'vegetable juice', 'marinated vegetables', 'teff', 'garam masala', 'fresh pasta', 'ginger root', 'breadcrumbs', 'pimento cheese', 'cooking wine', 'yuzu juice', 'radicchio', 'egg dishes', 'lobster tails', 'fruit cake', 'citrus fruit', 'watermelon', 'rutabagas', 'marshmallows', 'seafood salads', 'amaranth', 'kumquats', 'relish', 'prickly pear', 'cinnamon extract', 'crab legs'] \n",
      "\n",
      "\n",
      "[[34 10]\n",
      " [ 4 35]]\n",
      "              precision    recall  f1-score   support\n",
      "\n",
      "           1       0.89      0.77      0.83        44\n",
      "           0       0.78      0.90      0.83        39\n",
      "\n",
      "    accuracy                           0.83        83\n",
      "   macro avg       0.84      0.84      0.83        83\n",
      "weighted avg       0.84      0.83      0.83        83\n",
      "\n",
      "Total keywords:  358\n",
      "Total Tweets:  3344\n",
      "List of Keywords:\n",
      "\n",
      " ['cheese', 'chicken', 'milk', 'butter', 'cream', 'fruit', 'rice', 'water', 'garlic', 'bread', 'sugar', 'salt', 'chocolate', 'fish', 'beef', 'yogurt', 'almond milk', 'greens', 'granola', 'nuts', 'chia seeds', 'onions', 'apples', 'peanut butter', 'squash', 'soda', 'flour', 'garlic powder', 'buttermilk', 'potatoes', 'cottage cheese', 'sour cream', 'turkey', 'beans', 'cream cheese', 'bagel', 'pretzels', 'celery', 'white wine', 'margarine', 'whipped cream', 'ice cream', 'pineapple', 'whipped topping', 'plantains', 'veal', 'mustard', 'corned beef', 'rye', 'fried chicken', 'gravy', 'tuna', 'vegetables', 'eggs', 'rotisserie chicken', 'hot dogs', 'crackers', 'dips', 'meats', 'frozen entrees', 'bacon', 'pasta', 'pizza', 'potato chips', 'avocados', 'pork', 'sunflower seeds', 'lentils', 'lean fish', 'cauliflower', 'asparagus', 'almonds', 'cooked fish', 'honey', 'kimchi', 'herbs', 'dates', 'scallops', 'yuzu', 'corn syrup', 'baking soda', 'molasses', 'yeast', 'cornmeal', 'vinegar', 'parsley', 'worcestershire sauce', 'mushrooms', 'broth', 'peppers', 'oats', 'guava', 'coconut', 'cheesecake', 'cinnamon', 'muffin', 'pies', 'tomato sauce', 'pickles', 'goat', 'lamb', 'seafood', 'olives', 'baking powder', 'sesame seeds', 'raspberries', 'cornstarch', 'hot sauce', 'grits', 'chives', 'coconut milk', 'tamarind', 'tomatoes', 'cumin', 'chili powder', 'onion powder', 'black pepper', 'pie crust', 'cooked rice', 'nutmeg', 'peas', 'refried beans', 'bananas', 'okra', 'cabbage', 'syrup', 'juice concentrates', 'basil', 'fruits', 'horseradish', 'lettuce', 'pesto', 'soy milk', 'hoisin sauce', 'sesame oil', 'peanuts', 'ham', 'bacon bits', 'chutney', 'sun dried tomatoes', 'sausage', 'coffee', 'pasta salad', 'cereal', 'grapes', 'cashews', 'tea', 'pudding', 'coconut cream', 'coconut water', 'apple juice', 'fruit cocktail', 'walnuts', 'dough', 'roasted red peppers', 'whole wheat bread', 'thyme', 'mayonnaise', 'oregano', 'leftovers', 'strawberries', 'berries', 'coleslaw', 'cilantro', 'guacamole', 'tomato paste', 'canola oil', 'mung bean', 'lemon juice', 'ghee', 'avocado oil', 'almond oil', 'grapeseed oil', 'spelt', 'lime juice', 'pure vanilla extract', 'butter flavor', 'string cheese', 'salsa', 'puff pastry', 'biscuits', 'orange juice', 'vegetable soup', 'caviar', 'pine nuts', 'coconut oil', 'quail', 'kefir', 'cookie dough', 'base', 'meat products', 'chicken parts', 'cornish hens', 'canned chicken', 'fatty fish', 'miso', 'barley', 'whole wheat flour', 'cream pies', 'quiche', 'sugar substitutes', 'cookies', 'potato salad', 'brussels sprouts', 'cherry tomatoes', 'taro', 'aioli', 'salami', 'prosciutto', 'chocolate syrup', 'pectin', 'tortillas', 'rice milk', 'coconuts', 'turkey bacon', 'black bean sauce', 'tofu', 'oyster sauce', 'rosemary', 'powdered milk', 'popcorn', 'almond butter', 'cashew butter', 'hummus', 'jerky', 'kohlrabi', 'cantaloupe', 'farro', 'lemongrass', 'canadian bacon', 'pecans', 'mint', 'hot peppers', 'swiss chard', 'cranberry sauce', 'pate', 'buckwheat', 'cheese curds', 'bratwurst', 'bulgur', 'eggplant', 'coconut flour', 'kale', 'zucchini', 'cherries', 'polenta', 'balsamic vinegar', 'anchovies', 'arugula', 'oils', 'pumpkin seeds', 'flaxseed', 'herring', 'coffee creamer', 'apple cider vinegar', 'ricotta', 'pistachios', 'beets', 'sausages', 'venison', 'leeks', 'rabbit', 'pastrami', 'chicken salad', 'dinners', 'goose', 'applesauce', 'capon', 'blueberries', 'quinoa', 'cucumbers', 'red wine', 'canned goods', 'croutons', 'soy flour', 'cooked pasta', 'edamame', 'casseroles', 'fruit pies', 'tamarind paste', 'nectar', 'duck fat', 'apricots', 'pomegranate', 'cranberries', 'cherimoya', 'kiwi fruit', 'honeydew', 'tapenade', 'bamboo shoots', 'millet', 'beans and peas', 'radishes', 'rhubarb', 'bok choy', 'jicama', 'turnips', 'melons', 'pork rinds', 'squid', 'tempeh', 'marinades', 'capers', 'barbecue sauce', 'chorizo', 'apple cider', 'tahini', 'egg salad', 'cinnamon rolls', 'ham salad', 'nacho cheese', 'pork roll', 'macadamias', 'bacon grease', 'baby carrots', 'celery root', 'spaghetti sauce', 'sunflower oil', 'almond extract', 'lemon extract', 'carrot juice', 'bean sprouts', 'macaroons', 'spaghetti squash', 'vegetable juice', 'marinated vegetables', 'teff', 'garam masala', 'fresh pasta', 'ginger root', 'breadcrumbs', 'pimento cheese', 'cooking wine', 'yuzu juice', 'radicchio', 'egg dishes', 'lobster tails', 'fruit cake', 'citrus fruit', 'watermelon', 'rutabagas', 'marshmallows', 'seafood salads', 'amaranth', 'kumquats', 'relish', 'prickly pear', 'cinnamon extract', 'crab legs', 'gelatin', 'duckling', 'nut oils', 'pumpkins', 'salad dressings', 'formula', 'soup mixes', 'bison', 'coconut flavor'] \n",
      "\n",
      "\n",
      "~~~~~~~~~~~~~~~~~6~~~~~~~~~~~~~~~~~\n"
     ]
    },
    {
     "name": "stdout",
     "output_type": "stream",
     "text": [
      "Model loaded...\n"
     ]
    },
    {
     "name": "stderr",
     "output_type": "stream",
     "text": [
      " 12%|██████████▉                                                                               | 424/3488 [00:00<00:02, 1431.69it/s]"
     ]
    },
    {
     "name": "stdout",
     "output_type": "stream",
     "text": [
      "Skipping entity\n",
      "Skipping entity\n",
      "Skipping entity\n",
      "Skipping entity\n",
      "Skipping entity\n",
      "Skipping entity\n",
      "Skipping entity\n",
      "Skipping entity\n",
      "Skipping entity\n",
      "Skipping entity\n",
      "Skipping entity\n",
      "Skipping entity\n",
      "Skipping entity\n"
     ]
    },
    {
     "name": "stderr",
     "output_type": "stream",
     "text": [
      " 26%|███████████████████████▋                                                                  | 916/3488 [00:00<00:01, 1592.07it/s]"
     ]
    },
    {
     "name": "stdout",
     "output_type": "stream",
     "text": [
      "Skipping entity\n",
      "Skipping entity\n",
      "Skipping entity\n",
      "Skipping entity\n",
      "Skipping entity\n",
      "Skipping entity\n",
      "Skipping entity\n",
      "Skipping entity\n",
      "Skipping entity\n",
      "Skipping entity\n",
      "Skipping entity\n",
      "Skipping entity\n",
      "Skipping entity\n",
      "Skipping entity\n"
     ]
    },
    {
     "name": "stderr",
     "output_type": "stream",
     "text": [
      " 42%|█████████████████████████████████████                                                    | 1452/3488 [00:00<00:01, 1724.34it/s]"
     ]
    },
    {
     "name": "stdout",
     "output_type": "stream",
     "text": [
      "Skipping entity\n",
      "Skipping entity\n",
      "Skipping entity\n",
      "Skipping entity\n",
      "Skipping entity\n",
      "Skipping entity\n",
      "Skipping entity\n",
      "Skipping entity\n",
      "Skipping entity\n"
     ]
    },
    {
     "name": "stderr",
     "output_type": "stream",
     "text": [
      " 57%|██████████████████████████████████████████████████▊                                      | 1992/3488 [00:01<00:00, 1775.90it/s]"
     ]
    },
    {
     "name": "stdout",
     "output_type": "stream",
     "text": [
      "Skipping entity\n",
      "Skipping entity\n",
      "Skipping entity\n",
      "Skipping entity\n",
      "Skipping entity\n",
      "Skipping entity\n",
      "Skipping entity\n",
      "Skipping entity\n",
      "Skipping entity\n",
      "Skipping entity\n",
      "Skipping entity\n",
      "Skipping entity\n",
      "Skipping entity\n",
      "Skipping entity\n",
      "Skipping entity\n",
      "Skipping entity\n",
      "Skipping entity\n"
     ]
    },
    {
     "name": "stderr",
     "output_type": "stream",
     "text": [
      " 68%|████████████████████████████████████████████████████████████▏                            | 2361/3488 [00:01<00:00, 1809.11it/s]"
     ]
    },
    {
     "name": "stdout",
     "output_type": "stream",
     "text": [
      "Skipping entity\n",
      "Skipping entity\n",
      "Skipping entity\n",
      "Skipping entity\n",
      "Skipping entity\n",
      "Skipping entity\n",
      "Skipping entity\n",
      "Skipping entity\n"
     ]
    },
    {
     "name": "stderr",
     "output_type": "stream",
     "text": [
      " 89%|██████████████████████████████████████████████████████████████████████████████▉          | 3096/3488 [00:01<00:00, 1821.94it/s]"
     ]
    },
    {
     "name": "stdout",
     "output_type": "stream",
     "text": [
      "Skipping entity\n",
      "Skipping entity\n",
      "Skipping entity\n",
      "Skipping entity\n",
      "Skipping entity\n",
      "Skipping entity\n",
      "Skipping entity\n",
      "Skipping entity\n",
      "Skipping entity\n",
      "Skipping entity\n",
      "Skipping entity\n",
      "Skipping entity\n"
     ]
    },
    {
     "name": "stderr",
     "output_type": "stream",
     "text": [
      "100%|█████████████████████████████████████████████████████████████████████████████████████████| 3488/3488 [00:02<00:00, 1728.67it/s]"
     ]
    },
    {
     "name": "stdout",
     "output_type": "stream",
     "text": [
      "Skipping entity\n",
      "Skipping entity\n",
      "Skipping entity\n",
      "Skipping entity\n",
      "Skipping entity\n",
      "Skipping entity\n",
      "Skipping entity\n",
      "Skipping entity\n",
      "Skipping entity\n",
      "Skipping entity\n",
      "Skipping entity\n",
      "Skipping entity\n",
      "Skipping entity\n"
     ]
    },
    {
     "name": "stderr",
     "output_type": "stream",
     "text": [
      "\n"
     ]
    },
    {
     "name": "stdout",
     "output_type": "stream",
     "text": [
      "[i] Saving to output directory: output\n",
      "[i] Using CPU\n",
      "\u001b[1m\n",
      "=========================== Initializing pipeline ===========================\u001b[0m\n",
      "[+] Initialized pipeline\n",
      "\u001b[1m\n",
      "============================= Training pipeline =============================\u001b[0m\n",
      "[i] Pipeline: ['tok2vec', 'ner']\n",
      "[i] Initial learn rate: 0.001\n",
      "E    #       LOSS TOK2VEC  LOSS NER  ENTS_F  ENTS_P  ENTS_R  SCORE \n",
      "---  ------  ------------  --------  ------  ------  ------  ------\n",
      "  0       0          0.00     27.00    0.00    0.00    0.00    0.00\n",
      "  0     200         81.25   2735.76   80.82   78.13   83.71    0.81\n",
      "  0     400         68.47   1412.99   88.20   83.42   93.57    0.88\n",
      "  0     600         84.95   1466.95   90.30   85.72   95.40    0.90\n",
      "  0     800         80.41   1667.62   90.58   88.37   92.90    0.91\n",
      "  1    1000         95.85   1797.97   92.34   88.42   96.62    0.92\n",
      "  1    1200        119.88   1815.78   93.87   91.06   96.85    0.94\n",
      "  2    1400        135.40   2053.10   95.00   92.16   98.03    0.95\n",
      "  2    1600        206.65   2021.02   96.37   95.11   97.66    0.96\n",
      "  3    1800        274.96   2070.77   97.21   96.00   98.45    0.97\n",
      "  4    2000        355.76   2015.29   97.72   97.89   97.54    0.98\n",
      "  5    2200        465.94   1951.31   98.65   98.02   99.28    0.99\n",
      "  7    2400        540.86   1779.41   98.96   98.39   99.55    0.99\n",
      "  8    2600        561.30   1400.52   99.39   99.24   99.55    0.99\n",
      " 10    2800        626.25   1267.51   99.56   99.63   99.50    1.00\n",
      " 11    3000        587.06    964.44   99.56   99.47   99.65    1.00\n",
      " 12    3200        582.89    967.30   99.72   99.59   99.85    1.00\n",
      " 14    3400        597.97    820.31   99.65   99.75   99.55    1.00\n",
      " 15    3600        620.23    845.00   99.73   99.87   99.59    1.00\n",
      " 17    3800        634.11    722.82   99.76   99.77   99.75    1.00\n",
      " 18    4000        592.25    651.53   99.75   99.81   99.68    1.00\n",
      " 20    4200        536.11    587.19   99.80   99.77   99.84    1.00\n",
      " 21    4400        604.95    631.94   99.80   99.81   99.80    1.00\n",
      " 23    4600        590.96    566.09   99.81   99.77   99.84    1.00\n",
      " 24    4800        572.05    525.85   99.87   99.85   99.88    1.00\n",
      " 26    5000        524.29    462.69   99.85   99.73   99.97    1.00\n",
      " 27    5200        668.19    473.35   99.84   99.84   99.84    1.00\n",
      " 29    5400        617.06    494.56   99.86   99.84   99.88    1.00\n",
      " 30    5600        656.76    403.52   99.88   99.85   99.91    1.00\n",
      " 32    5800        655.92    469.43   99.89   99.90   99.88    1.00\n",
      " 33    6000        592.50    408.48   99.92   99.90   99.93    1.00\n",
      " 35    6200        770.19    409.31   99.92   99.90   99.95    1.00\n",
      " 36    6400        629.85    350.24   99.88   99.85   99.91    1.00\n",
      " 37    6600        730.59    407.44   99.88   99.81   99.94    1.00\n",
      " 39    6800        731.77    354.24   99.90   99.90   99.90    1.00\n",
      " 40    7000        766.21    349.13   99.92   99.92   99.91    1.00\n",
      " 42    7200        898.57    400.31   99.91   99.85   99.96    1.00\n",
      " 43    7400        864.00    340.90   99.87   99.82   99.92    1.00\n",
      " 45    7600        851.18    351.66   99.93   99.92   99.95    1.00\n",
      " 46    7800        997.89    329.99   99.91   99.88   99.94    1.00\n",
      " 48    8000        976.73    337.78   99.90   99.84   99.95    1.00\n",
      " 49    8200        951.19    309.45   99.91   99.88   99.94    1.00\n",
      " 51    8400       1030.03    323.61   99.87   99.81   99.92    1.00\n",
      " 52    8600        906.92    296.01   99.90   99.84   99.95    1.00\n",
      " 54    8800        990.12    314.08   99.94   99.93   99.95    1.00\n",
      " 55    9000        964.79    288.09   99.91   99.93   99.90    1.00\n",
      " 57    9200       1118.71    287.54   99.91   99.92   99.90    1.00\n",
      " 58    9400        994.54    292.20   99.92   99.90   99.95    1.00\n",
      " 60    9600       1025.76    236.88   99.90   99.92   99.87    1.00\n",
      " 61    9800       1300.15    288.43   99.94   99.93   99.95    1.00\n",
      " 62   10000       1387.82    282.16   99.94   99.93   99.96    1.00\n",
      " 64   10200        918.43    289.59   99.93   99.91   99.95    1.00\n",
      " 65   10400       1140.64    237.37   99.95   99.94   99.95    1.00\n",
      " 67   10600       1367.23    236.59   99.94   99.90   99.99    1.00\n",
      " 68   10800       1306.96    210.16   99.94   99.94   99.95    1.00\n",
      " 70   11000       1539.41    242.28   99.94   99.97   99.91    1.00\n",
      " 71   11200       1473.35    260.34   99.94   99.92   99.96    1.00\n",
      " 73   11400       1341.45    263.44   99.94   99.92   99.95    1.00\n",
      " 74   11600       1142.36    249.16   99.94   99.97   99.91    1.00\n",
      " 76   11800       1260.95    222.59   99.93   99.94   99.92    1.00\n",
      " 77   12000       1320.09    225.33   99.94   99.92   99.95    1.00\n",
      "[+] Saved pipeline to output directory\n",
      "output\\model-last\n",
      "\n",
      "Total keywords:  358\n",
      "List of Keywords:\n",
      "\n",
      " ['cheese', 'chicken', 'milk', 'butter', 'cream', 'fruit', 'rice', 'water', 'garlic', 'bread', 'sugar', 'salt', 'chocolate', 'fish', 'beef', 'yogurt', 'almond milk', 'greens', 'granola', 'nuts', 'chia seeds', 'onions', 'apples', 'peanut butter', 'squash', 'soda', 'flour', 'garlic powder', 'buttermilk', 'potatoes', 'cottage cheese', 'sour cream', 'turkey', 'beans', 'cream cheese', 'bagel', 'pretzels', 'celery', 'white wine', 'margarine', 'whipped cream', 'ice cream', 'pineapple', 'whipped topping', 'plantains', 'veal', 'mustard', 'corned beef', 'rye', 'fried chicken', 'gravy', 'tuna', 'vegetables', 'eggs', 'rotisserie chicken', 'hot dogs', 'crackers', 'dips', 'meats', 'frozen entrees', 'bacon', 'pasta', 'pizza', 'potato chips', 'avocados', 'pork', 'sunflower seeds', 'lentils', 'lean fish', 'cauliflower', 'asparagus', 'almonds', 'cooked fish', 'honey', 'kimchi', 'herbs', 'dates', 'scallops', 'yuzu', 'corn syrup', 'baking soda', 'molasses', 'yeast', 'cornmeal', 'vinegar', 'parsley', 'worcestershire sauce', 'mushrooms', 'broth', 'peppers', 'oats', 'guava', 'coconut', 'cheesecake', 'cinnamon', 'muffin', 'pies', 'tomato sauce', 'pickles', 'goat', 'lamb', 'seafood', 'olives', 'baking powder', 'sesame seeds', 'raspberries', 'cornstarch', 'hot sauce', 'grits', 'chives', 'coconut milk', 'tamarind', 'tomatoes', 'cumin', 'chili powder', 'onion powder', 'black pepper', 'pie crust', 'cooked rice', 'nutmeg', 'peas', 'refried beans', 'bananas', 'okra', 'cabbage', 'syrup', 'juice concentrates', 'basil', 'fruits', 'horseradish', 'lettuce', 'pesto', 'soy milk', 'hoisin sauce', 'sesame oil', 'peanuts', 'ham', 'bacon bits', 'chutney', 'sun dried tomatoes', 'sausage', 'coffee', 'pasta salad', 'cereal', 'grapes', 'cashews', 'tea', 'pudding', 'coconut cream', 'coconut water', 'apple juice', 'fruit cocktail', 'walnuts', 'dough', 'roasted red peppers', 'whole wheat bread', 'thyme', 'mayonnaise', 'oregano', 'leftovers', 'strawberries', 'berries', 'coleslaw', 'cilantro', 'guacamole', 'tomato paste', 'canola oil', 'mung bean', 'lemon juice', 'ghee', 'avocado oil', 'almond oil', 'grapeseed oil', 'spelt', 'lime juice', 'pure vanilla extract', 'butter flavor', 'string cheese', 'salsa', 'puff pastry', 'biscuits', 'orange juice', 'vegetable soup', 'caviar', 'pine nuts', 'coconut oil', 'quail', 'kefir', 'cookie dough', 'base', 'meat products', 'chicken parts', 'cornish hens', 'canned chicken', 'fatty fish', 'miso', 'barley', 'whole wheat flour', 'cream pies', 'quiche', 'sugar substitutes', 'cookies', 'potato salad', 'brussels sprouts', 'cherry tomatoes', 'taro', 'aioli', 'salami', 'prosciutto', 'chocolate syrup', 'pectin', 'tortillas', 'rice milk', 'coconuts', 'turkey bacon', 'black bean sauce', 'tofu', 'oyster sauce', 'rosemary', 'powdered milk', 'popcorn', 'almond butter', 'cashew butter', 'hummus', 'jerky', 'kohlrabi', 'cantaloupe', 'farro', 'lemongrass', 'canadian bacon', 'pecans', 'mint', 'hot peppers', 'swiss chard', 'cranberry sauce', 'pate', 'buckwheat', 'cheese curds', 'bratwurst', 'bulgur', 'eggplant', 'coconut flour', 'kale', 'zucchini', 'cherries', 'polenta', 'balsamic vinegar', 'anchovies', 'arugula', 'oils', 'pumpkin seeds', 'flaxseed', 'herring', 'coffee creamer', 'apple cider vinegar', 'ricotta', 'pistachios', 'beets', 'sausages', 'venison', 'leeks', 'rabbit', 'pastrami', 'chicken salad', 'dinners', 'goose', 'applesauce', 'capon', 'blueberries', 'quinoa', 'cucumbers', 'red wine', 'canned goods', 'croutons', 'soy flour', 'cooked pasta', 'edamame', 'casseroles', 'fruit pies', 'tamarind paste', 'nectar', 'duck fat', 'apricots', 'pomegranate', 'cranberries', 'cherimoya', 'kiwi fruit', 'honeydew', 'tapenade', 'bamboo shoots', 'millet', 'beans and peas', 'radishes', 'rhubarb', 'bok choy', 'jicama', 'turnips', 'melons', 'pork rinds', 'squid', 'tempeh', 'marinades', 'capers', 'barbecue sauce', 'chorizo', 'apple cider', 'tahini', 'egg salad', 'cinnamon rolls', 'ham salad', 'nacho cheese', 'pork roll', 'macadamias', 'bacon grease', 'baby carrots', 'celery root', 'spaghetti sauce', 'sunflower oil', 'almond extract', 'lemon extract', 'carrot juice', 'bean sprouts', 'macaroons', 'spaghetti squash', 'vegetable juice', 'marinated vegetables', 'teff', 'garam masala', 'fresh pasta', 'ginger root', 'breadcrumbs', 'pimento cheese', 'cooking wine', 'yuzu juice', 'radicchio', 'egg dishes', 'lobster tails', 'fruit cake', 'citrus fruit', 'watermelon', 'rutabagas', 'marshmallows', 'seafood salads', 'amaranth', 'kumquats', 'relish', 'prickly pear', 'cinnamon extract', 'crab legs', 'gelatin', 'duckling', 'nut oils', 'pumpkins', 'salad dressings', 'formula', 'soup mixes', 'bison', 'coconut flavor'] \n",
      "\n",
      "\n"
     ]
    },
    {
     "name": "stdout",
     "output_type": "stream",
     "text": [
      "[[31 13]\n",
      " [ 7 32]]\n",
      "              precision    recall  f1-score   support\n",
      "\n",
      "           1       0.82      0.70      0.76        44\n",
      "           0       0.71      0.82      0.76        39\n",
      "\n",
      "    accuracy                           0.76        83\n",
      "   macro avg       0.76      0.76      0.76        83\n",
      "weighted avg       0.77      0.76      0.76        83\n",
      "\n",
      "Total keywords:  361\n",
      "Total Tweets:  3488\n",
      "List of Keywords:\n",
      "\n",
      " ['cheese', 'chicken', 'milk', 'butter', 'cream', 'fruit', 'rice', 'water', 'garlic', 'bread', 'sugar', 'salt', 'chocolate', 'fish', 'beef', 'yogurt', 'almond milk', 'greens', 'granola', 'nuts', 'chia seeds', 'onions', 'apples', 'peanut butter', 'squash', 'soda', 'flour', 'garlic powder', 'buttermilk', 'potatoes', 'cottage cheese', 'sour cream', 'turkey', 'beans', 'cream cheese', 'bagel', 'pretzels', 'celery', 'white wine', 'margarine', 'whipped cream', 'ice cream', 'pineapple', 'whipped topping', 'plantains', 'veal', 'mustard', 'corned beef', 'rye', 'fried chicken', 'gravy', 'tuna', 'vegetables', 'eggs', 'rotisserie chicken', 'hot dogs', 'crackers', 'dips', 'meats', 'frozen entrees', 'bacon', 'pasta', 'pizza', 'potato chips', 'avocados', 'pork', 'sunflower seeds', 'lentils', 'lean fish', 'cauliflower', 'asparagus', 'almonds', 'cooked fish', 'honey', 'kimchi', 'herbs', 'dates', 'scallops', 'yuzu', 'corn syrup', 'baking soda', 'molasses', 'yeast', 'cornmeal', 'vinegar', 'parsley', 'worcestershire sauce', 'mushrooms', 'broth', 'peppers', 'oats', 'guava', 'coconut', 'cheesecake', 'cinnamon', 'muffin', 'pies', 'tomato sauce', 'pickles', 'goat', 'lamb', 'seafood', 'olives', 'baking powder', 'sesame seeds', 'raspberries', 'cornstarch', 'hot sauce', 'grits', 'chives', 'coconut milk', 'tamarind', 'tomatoes', 'cumin', 'chili powder', 'onion powder', 'black pepper', 'pie crust', 'cooked rice', 'nutmeg', 'peas', 'refried beans', 'bananas', 'okra', 'cabbage', 'syrup', 'juice concentrates', 'basil', 'fruits', 'horseradish', 'lettuce', 'pesto', 'soy milk', 'hoisin sauce', 'sesame oil', 'peanuts', 'ham', 'bacon bits', 'chutney', 'sun dried tomatoes', 'sausage', 'coffee', 'pasta salad', 'cereal', 'grapes', 'cashews', 'tea', 'pudding', 'coconut cream', 'coconut water', 'apple juice', 'fruit cocktail', 'walnuts', 'dough', 'roasted red peppers', 'whole wheat bread', 'thyme', 'mayonnaise', 'oregano', 'leftovers', 'strawberries', 'berries', 'coleslaw', 'cilantro', 'guacamole', 'tomato paste', 'canola oil', 'mung bean', 'lemon juice', 'ghee', 'avocado oil', 'almond oil', 'grapeseed oil', 'spelt', 'lime juice', 'pure vanilla extract', 'butter flavor', 'string cheese', 'salsa', 'puff pastry', 'biscuits', 'orange juice', 'vegetable soup', 'caviar', 'pine nuts', 'coconut oil', 'quail', 'kefir', 'cookie dough', 'base', 'meat products', 'chicken parts', 'cornish hens', 'canned chicken', 'fatty fish', 'miso', 'barley', 'whole wheat flour', 'cream pies', 'quiche', 'sugar substitutes', 'cookies', 'potato salad', 'brussels sprouts', 'cherry tomatoes', 'taro', 'aioli', 'salami', 'prosciutto', 'chocolate syrup', 'pectin', 'tortillas', 'rice milk', 'coconuts', 'turkey bacon', 'black bean sauce', 'tofu', 'oyster sauce', 'rosemary', 'powdered milk', 'popcorn', 'almond butter', 'cashew butter', 'hummus', 'jerky', 'kohlrabi', 'cantaloupe', 'farro', 'lemongrass', 'canadian bacon', 'pecans', 'mint', 'hot peppers', 'swiss chard', 'cranberry sauce', 'pate', 'buckwheat', 'cheese curds', 'bratwurst', 'bulgur', 'eggplant', 'coconut flour', 'kale', 'zucchini', 'cherries', 'polenta', 'balsamic vinegar', 'anchovies', 'arugula', 'oils', 'pumpkin seeds', 'flaxseed', 'herring', 'coffee creamer', 'apple cider vinegar', 'ricotta', 'pistachios', 'beets', 'sausages', 'venison', 'leeks', 'rabbit', 'pastrami', 'chicken salad', 'dinners', 'goose', 'applesauce', 'capon', 'blueberries', 'quinoa', 'cucumbers', 'red wine', 'canned goods', 'croutons', 'soy flour', 'cooked pasta', 'edamame', 'casseroles', 'fruit pies', 'tamarind paste', 'nectar', 'duck fat', 'apricots', 'pomegranate', 'cranberries', 'cherimoya', 'kiwi fruit', 'honeydew', 'tapenade', 'bamboo shoots', 'millet', 'beans and peas', 'radishes', 'rhubarb', 'bok choy', 'jicama', 'turnips', 'melons', 'pork rinds', 'squid', 'tempeh', 'marinades', 'capers', 'barbecue sauce', 'chorizo', 'apple cider', 'tahini', 'egg salad', 'cinnamon rolls', 'ham salad', 'nacho cheese', 'pork roll', 'macadamias', 'bacon grease', 'baby carrots', 'celery root', 'spaghetti sauce', 'sunflower oil', 'almond extract', 'lemon extract', 'carrot juice', 'bean sprouts', 'macaroons', 'spaghetti squash', 'vegetable juice', 'marinated vegetables', 'teff', 'garam masala', 'fresh pasta', 'ginger root', 'breadcrumbs', 'pimento cheese', 'cooking wine', 'yuzu juice', 'radicchio', 'egg dishes', 'lobster tails', 'fruit cake', 'citrus fruit', 'watermelon', 'rutabagas', 'marshmallows', 'seafood salads', 'amaranth', 'kumquats', 'relish', 'prickly pear', 'cinnamon extract', 'crab legs', 'gelatin', 'duckling', 'nut oils', 'pumpkins', 'salad dressings', 'formula', 'soup mixes', 'bison', 'coconut flavor', 'star fruit', 'sorghum', 'doughnuts'] \n",
      "\n",
      "\n",
      "~~~~~~~~~~~~~~~~~7~~~~~~~~~~~~~~~~~\n",
      "Model loaded...\n"
     ]
    },
    {
     "name": "stderr",
     "output_type": "stream",
     "text": [
      " 12%|██████████▊                                                                               | 422/3509 [00:00<00:02, 1421.11it/s]"
     ]
    },
    {
     "name": "stdout",
     "output_type": "stream",
     "text": [
      "Skipping entity\n",
      "Skipping entity\n",
      "Skipping entity\n",
      "Skipping entity\n",
      "Skipping entity\n",
      "Skipping entity\n",
      "Skipping entity\n",
      "Skipping entity\n",
      "Skipping entity\n",
      "Skipping entity\n",
      "Skipping entity\n",
      "Skipping entity\n",
      "Skipping entity\n",
      "Skipping entity\n"
     ]
    },
    {
     "name": "stderr",
     "output_type": "stream",
     "text": [
      " 21%|███████████████████▏                                                                      | 747/3509 [00:00<00:01, 1548.04it/s]"
     ]
    },
    {
     "name": "stdout",
     "output_type": "stream",
     "text": [
      "Skipping entity\n",
      "Skipping entity\n",
      "Skipping entity\n",
      "Skipping entity\n",
      "Skipping entity\n",
      "Skipping entity\n",
      "Skipping entity\n",
      "Skipping entity\n",
      "Skipping entity\n",
      "Skipping entity\n",
      "Skipping entity\n",
      "Skipping entity\n",
      "Skipping entity\n",
      "Skipping entity\n",
      "Skipping entity\n"
     ]
    },
    {
     "name": "stderr",
     "output_type": "stream",
     "text": [
      " 41%|████████████████████████████████████▋                                                    | 1445/3509 [00:00<00:01, 1700.28it/s]"
     ]
    },
    {
     "name": "stdout",
     "output_type": "stream",
     "text": [
      "Skipping entity\n",
      "Skipping entity\n",
      "Skipping entity\n",
      "Skipping entity\n",
      "Skipping entity\n",
      "Skipping entity\n",
      "Skipping entity\n",
      "Skipping entity\n",
      "Skipping entity\n",
      "Skipping entity\n",
      "Skipping entity\n",
      "Skipping entity\n",
      "Skipping entity\n",
      "Skipping entity\n",
      "Skipping entity\n",
      "Skipping entity\n",
      "Skipping entity\n"
     ]
    },
    {
     "name": "stderr",
     "output_type": "stream",
     "text": [
      " 57%|██████████████████████████████████████████████████▍                                      | 1989/3509 [00:01<00:00, 1772.94it/s]"
     ]
    },
    {
     "name": "stdout",
     "output_type": "stream",
     "text": [
      "Skipping entity\n",
      "Skipping entity\n",
      "Skipping entity\n",
      "Skipping entity\n",
      "Skipping entity\n",
      "Skipping entity\n",
      "Skipping entity\n",
      "Skipping entity\n",
      "Skipping entity\n",
      "Skipping entity\n",
      "Skipping entity\n",
      "Skipping entity\n",
      "Skipping entity\n",
      "Skipping entity\n",
      "Skipping entity\n",
      "Skipping entity\n",
      "Skipping entity\n"
     ]
    },
    {
     "name": "stderr",
     "output_type": "stream",
     "text": [
      " 72%|████████████████████████████████████████████████████████████████▎                        | 2538/3509 [00:01<00:00, 1810.45it/s]"
     ]
    },
    {
     "name": "stdout",
     "output_type": "stream",
     "text": [
      "Skipping entity\n",
      "Skipping entity\n",
      "Skipping entity\n",
      "Skipping entity\n",
      "Skipping entity\n",
      "Skipping entity\n",
      "Skipping entity\n",
      "Skipping entity\n",
      "Skipping entity\n",
      "Skipping entity\n",
      "Skipping entity\n",
      "Skipping entity\n",
      "Skipping entity\n",
      "Skipping entity\n"
     ]
    },
    {
     "name": "stderr",
     "output_type": "stream",
     "text": [
      " 88%|██████████████████████████████████████████████████████████████████████████████▍          | 3091/3509 [00:01<00:00, 1825.58it/s]"
     ]
    },
    {
     "name": "stdout",
     "output_type": "stream",
     "text": [
      "Skipping entity\n",
      "Skipping entity\n",
      "Skipping entity\n",
      "Skipping entity\n",
      "Skipping entity\n",
      "Skipping entity\n",
      "Skipping entity\n",
      "Skipping entity\n",
      "Skipping entity\n",
      "Skipping entity\n",
      "Skipping entity\n",
      "Skipping entity\n",
      "Skipping entity\n",
      "Skipping entity\n",
      "Skipping entity\n"
     ]
    },
    {
     "name": "stderr",
     "output_type": "stream",
     "text": [
      "100%|█████████████████████████████████████████████████████████████████████████████████████████| 3509/3509 [00:02<00:00, 1724.12it/s]"
     ]
    },
    {
     "name": "stdout",
     "output_type": "stream",
     "text": [
      "Skipping entity\n",
      "Skipping entity\n",
      "Skipping entity\n",
      "Skipping entity\n",
      "Skipping entity\n",
      "Skipping entity\n",
      "Skipping entity\n",
      "Skipping entity\n",
      "Skipping entity\n",
      "Skipping entity\n",
      "Skipping entity\n",
      "Skipping entity\n",
      "Skipping entity\n",
      "Skipping entity\n"
     ]
    },
    {
     "name": "stderr",
     "output_type": "stream",
     "text": [
      "\n"
     ]
    },
    {
     "name": "stdout",
     "output_type": "stream",
     "text": [
      "[i] Saving to output directory: output\n",
      "[i] Using CPU\n",
      "\u001b[1m\n",
      "=========================== Initializing pipeline ===========================\u001b[0m\n",
      "[+] Initialized pipeline\n",
      "\u001b[1m\n",
      "============================= Training pipeline =============================\u001b[0m\n",
      "[i] Pipeline: ['tok2vec', 'ner']\n",
      "[i] Initial learn rate: 0.001\n",
      "E    #       LOSS TOK2VEC  LOSS NER  ENTS_F  ENTS_P  ENTS_R  SCORE \n",
      "---  ------  ------------  --------  ------  ------  ------  ------\n",
      "  0       0          0.00     28.67    0.00    0.00    0.00    0.00\n",
      "  0     200         97.46   2808.28   81.54   78.24   85.14    0.82\n",
      "  0     400         85.06   1515.82   87.57   84.31   91.09    0.88\n",
      "  0     600        102.28   1465.25   89.10   85.67   92.81    0.89\n",
      "  0     800         84.54   1628.01   91.69   87.74   96.01    0.92\n",
      "  1    1000         93.49   1634.11   92.16   88.42   96.23    0.92\n",
      "  1    1200        113.37   1779.25   93.99   91.47   96.65    0.94\n",
      "  2    1400        145.19   2044.28   94.88   92.23   97.68    0.95\n",
      "  2    1600        229.65   1984.22   96.36   94.84   97.94    0.96\n",
      "  3    1800        284.38   2038.56   97.19   95.70   98.73    0.97\n",
      "  4    2000        364.08   1935.21   97.80   97.06   98.56    0.98\n",
      "  5    2200        506.96   1957.89   98.61   98.49   98.74    0.99\n",
      "  7    2400        587.71   1825.29   99.06   98.59   99.53    0.99\n",
      "  8    2600        652.67   1365.85   99.29   99.04   99.55    0.99\n",
      "  9    2800        696.06   1267.89   99.37   99.56   99.19    0.99\n",
      " 11    3000        633.07    979.54   99.37   99.15   99.60    0.99\n",
      " 12    3200        722.23    966.80   99.73   99.65   99.81    1.00\n",
      " 14    3400        649.58    858.99   99.72   99.70   99.75    1.00\n",
      " 15    3600        682.66    789.75   99.79   99.85   99.72    1.00\n",
      " 17    3800        588.53    645.85   99.75   99.70   99.81    1.00\n",
      " 18    4000        631.77    606.37   99.79   99.87   99.71    1.00\n",
      " 20    4200        635.70    623.87   99.78   99.68   99.89    1.00\n",
      " 21    4400        658.57    591.51   99.80   99.70   99.89    1.00\n",
      " 23    4600        602.93    584.90   99.81   99.86   99.76    1.00\n",
      " 24    4800        580.53    486.28   99.88   99.85   99.91    1.00\n",
      " 26    5000        741.57    503.83   99.88   99.87   99.88    1.00\n",
      " 27    5200        567.63    432.50   99.85   99.76   99.94    1.00\n",
      " 28    5400        667.82    514.27   99.81   99.95   99.66    1.00\n",
      " 30    5600        608.83    416.22   99.85   99.75   99.95    1.00\n",
      " 31    5800        579.13    404.05   99.85   99.79   99.91    1.00\n",
      " 33    6000        719.85    444.67   99.88   99.86   99.90    1.00\n",
      " 34    6200        747.45    388.05   99.88   99.83   99.93    1.00\n",
      " 36    6400        874.18    396.72   99.92   99.91   99.94    1.00\n",
      " 37    6600        729.58    362.42   99.91   99.94   99.88    1.00\n",
      " 39    6800        819.96    381.23   99.90   99.88   99.93    1.00\n",
      " 40    7000        922.07    356.74   99.91   99.87   99.95    1.00\n",
      " 42    7200        868.44    377.89   99.90   99.91   99.89    1.00\n",
      " 43    7400        882.91    377.07   99.89   99.92   99.86    1.00\n",
      " 45    7600        830.87    336.75   99.93   99.95   99.92    1.00\n",
      " 46    7800        815.29    325.32   99.88   99.96   99.81    1.00\n",
      " 47    8000       1002.24    365.83   99.92   99.87   99.97    1.00\n",
      " 49    8200        830.60    293.95   99.91   99.89   99.93    1.00\n",
      " 50    8400        815.07    324.18   99.94   99.94   99.95    1.00\n",
      " 52    8600        782.83    245.35   99.92   99.88   99.95    1.00\n",
      " 53    8800       1120.98    310.52   99.93   99.90   99.96    1.00\n",
      " 55    9000       1183.79    292.71   99.92   99.94   99.90    1.00\n",
      " 56    9200       1231.57    290.28   99.94   99.92   99.96    1.00\n",
      " 58    9400       1006.82    269.38   99.95   99.92   99.97    1.00\n",
      " 59    9600        969.96    272.49   99.93   99.95   99.91    1.00\n",
      " 61    9800       1181.10    288.19   99.92   99.86   99.98    1.00\n",
      " 62   10000       1210.67    286.16   99.93   99.91   99.96    1.00\n",
      " 64   10200       1376.88    294.50   99.92   99.94   99.90    1.00\n",
      " 65   10400       1348.47    279.02   99.89   99.84   99.95    1.00\n",
      " 66   10600       1154.49    246.01   99.88   99.86   99.90    1.00\n",
      " 68   10800       1312.36    275.65   99.91   99.90   99.92    1.00\n",
      " 69   11000       1163.07    243.22   99.94   99.98   99.90    1.00\n",
      "[+] Saved pipeline to output directory\n",
      "output\\model-last\n",
      "\n",
      "Total keywords:  361\n",
      "List of Keywords:\n",
      "\n",
      " ['cheese', 'chicken', 'milk', 'butter', 'cream', 'fruit', 'rice', 'water', 'garlic', 'bread', 'sugar', 'salt', 'chocolate', 'fish', 'beef', 'yogurt', 'almond milk', 'greens', 'granola', 'nuts', 'chia seeds', 'onions', 'apples', 'peanut butter', 'squash', 'soda', 'flour', 'garlic powder', 'buttermilk', 'potatoes', 'cottage cheese', 'sour cream', 'turkey', 'beans', 'cream cheese', 'bagel', 'pretzels', 'celery', 'white wine', 'margarine', 'whipped cream', 'ice cream', 'pineapple', 'whipped topping', 'plantains', 'veal', 'mustard', 'corned beef', 'rye', 'fried chicken', 'gravy', 'tuna', 'vegetables', 'eggs', 'rotisserie chicken', 'hot dogs', 'crackers', 'dips', 'meats', 'frozen entrees', 'bacon', 'pasta', 'pizza', 'potato chips', 'avocados', 'pork', 'sunflower seeds', 'lentils', 'lean fish', 'cauliflower', 'asparagus', 'almonds', 'cooked fish', 'honey', 'kimchi', 'herbs', 'dates', 'scallops', 'yuzu', 'corn syrup', 'baking soda', 'molasses', 'yeast', 'cornmeal', 'vinegar', 'parsley', 'worcestershire sauce', 'mushrooms', 'broth', 'peppers', 'oats', 'guava', 'coconut', 'cheesecake', 'cinnamon', 'muffin', 'pies', 'tomato sauce', 'pickles', 'goat', 'lamb', 'seafood', 'olives', 'baking powder', 'sesame seeds', 'raspberries', 'cornstarch', 'hot sauce', 'grits', 'chives', 'coconut milk', 'tamarind', 'tomatoes', 'cumin', 'chili powder', 'onion powder', 'black pepper', 'pie crust', 'cooked rice', 'nutmeg', 'peas', 'refried beans', 'bananas', 'okra', 'cabbage', 'syrup', 'juice concentrates', 'basil', 'fruits', 'horseradish', 'lettuce', 'pesto', 'soy milk', 'hoisin sauce', 'sesame oil', 'peanuts', 'ham', 'bacon bits', 'chutney', 'sun dried tomatoes', 'sausage', 'coffee', 'pasta salad', 'cereal', 'grapes', 'cashews', 'tea', 'pudding', 'coconut cream', 'coconut water', 'apple juice', 'fruit cocktail', 'walnuts', 'dough', 'roasted red peppers', 'whole wheat bread', 'thyme', 'mayonnaise', 'oregano', 'leftovers', 'strawberries', 'berries', 'coleslaw', 'cilantro', 'guacamole', 'tomato paste', 'canola oil', 'mung bean', 'lemon juice', 'ghee', 'avocado oil', 'almond oil', 'grapeseed oil', 'spelt', 'lime juice', 'pure vanilla extract', 'butter flavor', 'string cheese', 'salsa', 'puff pastry', 'biscuits', 'orange juice', 'vegetable soup', 'caviar', 'pine nuts', 'coconut oil', 'quail', 'kefir', 'cookie dough', 'base', 'meat products', 'chicken parts', 'cornish hens', 'canned chicken', 'fatty fish', 'miso', 'barley', 'whole wheat flour', 'cream pies', 'quiche', 'sugar substitutes', 'cookies', 'potato salad', 'brussels sprouts', 'cherry tomatoes', 'taro', 'aioli', 'salami', 'prosciutto', 'chocolate syrup', 'pectin', 'tortillas', 'rice milk', 'coconuts', 'turkey bacon', 'black bean sauce', 'tofu', 'oyster sauce', 'rosemary', 'powdered milk', 'popcorn', 'almond butter', 'cashew butter', 'hummus', 'jerky', 'kohlrabi', 'cantaloupe', 'farro', 'lemongrass', 'canadian bacon', 'pecans', 'mint', 'hot peppers', 'swiss chard', 'cranberry sauce', 'pate', 'buckwheat', 'cheese curds', 'bratwurst', 'bulgur', 'eggplant', 'coconut flour', 'kale', 'zucchini', 'cherries', 'polenta', 'balsamic vinegar', 'anchovies', 'arugula', 'oils', 'pumpkin seeds', 'flaxseed', 'herring', 'coffee creamer', 'apple cider vinegar', 'ricotta', 'pistachios', 'beets', 'sausages', 'venison', 'leeks', 'rabbit', 'pastrami', 'chicken salad', 'dinners', 'goose', 'applesauce', 'capon', 'blueberries', 'quinoa', 'cucumbers', 'red wine', 'canned goods', 'croutons', 'soy flour', 'cooked pasta', 'edamame', 'casseroles', 'fruit pies', 'tamarind paste', 'nectar', 'duck fat', 'apricots', 'pomegranate', 'cranberries', 'cherimoya', 'kiwi fruit', 'honeydew', 'tapenade', 'bamboo shoots', 'millet', 'beans and peas', 'radishes', 'rhubarb', 'bok choy', 'jicama', 'turnips', 'melons', 'pork rinds', 'squid', 'tempeh', 'marinades', 'capers', 'barbecue sauce', 'chorizo', 'apple cider', 'tahini', 'egg salad', 'cinnamon rolls', 'ham salad', 'nacho cheese', 'pork roll', 'macadamias', 'bacon grease', 'baby carrots', 'celery root', 'spaghetti sauce', 'sunflower oil', 'almond extract', 'lemon extract', 'carrot juice', 'bean sprouts', 'macaroons', 'spaghetti squash', 'vegetable juice', 'marinated vegetables', 'teff', 'garam masala', 'fresh pasta', 'ginger root', 'breadcrumbs', 'pimento cheese', 'cooking wine', 'yuzu juice', 'radicchio', 'egg dishes', 'lobster tails', 'fruit cake', 'citrus fruit', 'watermelon', 'rutabagas', 'marshmallows', 'seafood salads', 'amaranth', 'kumquats', 'relish', 'prickly pear', 'cinnamon extract', 'crab legs', 'gelatin', 'duckling', 'nut oils', 'pumpkins', 'salad dressings', 'formula', 'soup mixes', 'bison', 'coconut flavor', 'star fruit', 'sorghum', 'doughnuts'] \n",
      "\n",
      "\n"
     ]
    },
    {
     "name": "stdout",
     "output_type": "stream",
     "text": [
      "[[32 12]\n",
      " [ 7 32]]\n",
      "              precision    recall  f1-score   support\n",
      "\n",
      "           1       0.82      0.73      0.77        44\n",
      "           0       0.73      0.82      0.77        39\n",
      "\n",
      "    accuracy                           0.77        83\n",
      "   macro avg       0.77      0.77      0.77        83\n",
      "weighted avg       0.78      0.77      0.77        83\n",
      "\n",
      "Total keywords:  362\n",
      "Total Tweets:  3509\n",
      "List of Keywords:\n",
      "\n",
      " ['cheese', 'chicken', 'milk', 'butter', 'cream', 'fruit', 'rice', 'water', 'garlic', 'bread', 'sugar', 'salt', 'chocolate', 'fish', 'beef', 'yogurt', 'almond milk', 'greens', 'granola', 'nuts', 'chia seeds', 'onions', 'apples', 'peanut butter', 'squash', 'soda', 'flour', 'garlic powder', 'buttermilk', 'potatoes', 'cottage cheese', 'sour cream', 'turkey', 'beans', 'cream cheese', 'bagel', 'pretzels', 'celery', 'white wine', 'margarine', 'whipped cream', 'ice cream', 'pineapple', 'whipped topping', 'plantains', 'veal', 'mustard', 'corned beef', 'rye', 'fried chicken', 'gravy', 'tuna', 'vegetables', 'eggs', 'rotisserie chicken', 'hot dogs', 'crackers', 'dips', 'meats', 'frozen entrees', 'bacon', 'pasta', 'pizza', 'potato chips', 'avocados', 'pork', 'sunflower seeds', 'lentils', 'lean fish', 'cauliflower', 'asparagus', 'almonds', 'cooked fish', 'honey', 'kimchi', 'herbs', 'dates', 'scallops', 'yuzu', 'corn syrup', 'baking soda', 'molasses', 'yeast', 'cornmeal', 'vinegar', 'parsley', 'worcestershire sauce', 'mushrooms', 'broth', 'peppers', 'oats', 'guava', 'coconut', 'cheesecake', 'cinnamon', 'muffin', 'pies', 'tomato sauce', 'pickles', 'goat', 'lamb', 'seafood', 'olives', 'baking powder', 'sesame seeds', 'raspberries', 'cornstarch', 'hot sauce', 'grits', 'chives', 'coconut milk', 'tamarind', 'tomatoes', 'cumin', 'chili powder', 'onion powder', 'black pepper', 'pie crust', 'cooked rice', 'nutmeg', 'peas', 'refried beans', 'bananas', 'okra', 'cabbage', 'syrup', 'juice concentrates', 'basil', 'fruits', 'horseradish', 'lettuce', 'pesto', 'soy milk', 'hoisin sauce', 'sesame oil', 'peanuts', 'ham', 'bacon bits', 'chutney', 'sun dried tomatoes', 'sausage', 'coffee', 'pasta salad', 'cereal', 'grapes', 'cashews', 'tea', 'pudding', 'coconut cream', 'coconut water', 'apple juice', 'fruit cocktail', 'walnuts', 'dough', 'roasted red peppers', 'whole wheat bread', 'thyme', 'mayonnaise', 'oregano', 'leftovers', 'strawberries', 'berries', 'coleslaw', 'cilantro', 'guacamole', 'tomato paste', 'canola oil', 'mung bean', 'lemon juice', 'ghee', 'avocado oil', 'almond oil', 'grapeseed oil', 'spelt', 'lime juice', 'pure vanilla extract', 'butter flavor', 'string cheese', 'salsa', 'puff pastry', 'biscuits', 'orange juice', 'vegetable soup', 'caviar', 'pine nuts', 'coconut oil', 'quail', 'kefir', 'cookie dough', 'base', 'meat products', 'chicken parts', 'cornish hens', 'canned chicken', 'fatty fish', 'miso', 'barley', 'whole wheat flour', 'cream pies', 'quiche', 'sugar substitutes', 'cookies', 'potato salad', 'brussels sprouts', 'cherry tomatoes', 'taro', 'aioli', 'salami', 'prosciutto', 'chocolate syrup', 'pectin', 'tortillas', 'rice milk', 'coconuts', 'turkey bacon', 'black bean sauce', 'tofu', 'oyster sauce', 'rosemary', 'powdered milk', 'popcorn', 'almond butter', 'cashew butter', 'hummus', 'jerky', 'kohlrabi', 'cantaloupe', 'farro', 'lemongrass', 'canadian bacon', 'pecans', 'mint', 'hot peppers', 'swiss chard', 'cranberry sauce', 'pate', 'buckwheat', 'cheese curds', 'bratwurst', 'bulgur', 'eggplant', 'coconut flour', 'kale', 'zucchini', 'cherries', 'polenta', 'balsamic vinegar', 'anchovies', 'arugula', 'oils', 'pumpkin seeds', 'flaxseed', 'herring', 'coffee creamer', 'apple cider vinegar', 'ricotta', 'pistachios', 'beets', 'sausages', 'venison', 'leeks', 'rabbit', 'pastrami', 'chicken salad', 'dinners', 'goose', 'applesauce', 'capon', 'blueberries', 'quinoa', 'cucumbers', 'red wine', 'canned goods', 'croutons', 'soy flour', 'cooked pasta', 'edamame', 'casseroles', 'fruit pies', 'tamarind paste', 'nectar', 'duck fat', 'apricots', 'pomegranate', 'cranberries', 'cherimoya', 'kiwi fruit', 'honeydew', 'tapenade', 'bamboo shoots', 'millet', 'beans and peas', 'radishes', 'rhubarb', 'bok choy', 'jicama', 'turnips', 'melons', 'pork rinds', 'squid', 'tempeh', 'marinades', 'capers', 'barbecue sauce', 'chorizo', 'apple cider', 'tahini', 'egg salad', 'cinnamon rolls', 'ham salad', 'nacho cheese', 'pork roll', 'macadamias', 'bacon grease', 'baby carrots', 'celery root', 'spaghetti sauce', 'sunflower oil', 'almond extract', 'lemon extract', 'carrot juice', 'bean sprouts', 'macaroons', 'spaghetti squash', 'vegetable juice', 'marinated vegetables', 'teff', 'garam masala', 'fresh pasta', 'ginger root', 'breadcrumbs', 'pimento cheese', 'cooking wine', 'yuzu juice', 'radicchio', 'egg dishes', 'lobster tails', 'fruit cake', 'citrus fruit', 'watermelon', 'rutabagas', 'marshmallows', 'seafood salads', 'amaranth', 'kumquats', 'relish', 'prickly pear', 'cinnamon extract', 'crab legs', 'gelatin', 'duckling', 'nut oils', 'pumpkins', 'salad dressings', 'formula', 'soup mixes', 'bison', 'coconut flavor', 'star fruit', 'sorghum', 'doughnuts', 'pheasant'] \n",
      "\n",
      "\n",
      "~~~~~~~~~~~~~~~~~8~~~~~~~~~~~~~~~~~\n",
      "Model loaded...\n"
     ]
    },
    {
     "name": "stderr",
     "output_type": "stream",
     "text": [
      " 12%|██████████▋                                                                               | 417/3513 [00:00<00:02, 1403.20it/s]"
     ]
    },
    {
     "name": "stdout",
     "output_type": "stream",
     "text": [
      "Skipping entity\n",
      "Skipping entity\n",
      "Skipping entity\n",
      "Skipping entity\n",
      "Skipping entity\n",
      "Skipping entity\n",
      "Skipping entity\n",
      "Skipping entity\n",
      "Skipping entity\n",
      "Skipping entity\n",
      "Skipping entity\n"
     ]
    },
    {
     "name": "stderr",
     "output_type": "stream",
     "text": [
      " 21%|██████████████████▊                                                                       | 735/3513 [00:00<00:01, 1519.97it/s]"
     ]
    },
    {
     "name": "stdout",
     "output_type": "stream",
     "text": [
      "Skipping entity\n",
      "Skipping entity\n",
      "Skipping entity\n",
      "Skipping entity\n",
      "Skipping entity\n",
      "Skipping entity\n",
      "Skipping entity\n",
      "Skipping entity\n",
      "Skipping entity\n",
      "Skipping entity\n",
      "Skipping entity\n",
      "Skipping entity\n",
      "Skipping entity\n"
     ]
    },
    {
     "name": "stderr",
     "output_type": "stream",
     "text": [
      " 40%|███████████████████████████████████▊                                                     | 1415/3513 [00:00<00:01, 1668.19it/s]"
     ]
    },
    {
     "name": "stdout",
     "output_type": "stream",
     "text": [
      "Skipping entity\n",
      "Skipping entity\n",
      "Skipping entity\n",
      "Skipping entity\n",
      "Skipping entity\n",
      "Skipping entity\n",
      "Skipping entity\n",
      "Skipping entity\n",
      "Skipping entity\n",
      "Skipping entity\n",
      "Skipping entity\n"
     ]
    },
    {
     "name": "stderr",
     "output_type": "stream",
     "text": [
      " 55%|█████████████████████████████████████████████████▏                                       | 1941/3513 [00:01<00:00, 1726.55it/s]"
     ]
    },
    {
     "name": "stdout",
     "output_type": "stream",
     "text": [
      "Skipping entity\n",
      "Skipping entity\n",
      "Skipping entity\n",
      "Skipping entity\n",
      "Skipping entity\n",
      "Skipping entity\n",
      "Skipping entity\n",
      "Skipping entity\n",
      "Skipping entity\n",
      "Skipping entity\n",
      "Skipping entity\n",
      "Skipping entity\n",
      "Skipping entity\n",
      "Skipping entity\n",
      "Skipping entity\n"
     ]
    },
    {
     "name": "stderr",
     "output_type": "stream",
     "text": [
      " 66%|██████████████████████████████████████████████████████████▎                              | 2303/3513 [00:01<00:00, 1767.70it/s]"
     ]
    },
    {
     "name": "stdout",
     "output_type": "stream",
     "text": [
      "Skipping entity\n",
      "Skipping entity\n",
      "Skipping entity\n",
      "Skipping entity\n",
      "Skipping entity\n",
      "Skipping entity\n",
      "Skipping entity\n",
      "Skipping entity\n",
      "Skipping entity\n"
     ]
    },
    {
     "name": "stderr",
     "output_type": "stream",
     "text": [
      " 86%|████████████████████████████████████████████████████████████████████████████▉            | 3036/3513 [00:01<00:00, 1798.04it/s]"
     ]
    },
    {
     "name": "stdout",
     "output_type": "stream",
     "text": [
      "Skipping entity\n",
      "Skipping entity\n",
      "Skipping entity\n",
      "Skipping entity\n",
      "Skipping entity\n",
      "Skipping entity\n",
      "Skipping entity\n",
      "Skipping entity\n",
      "Skipping entity\n",
      "Skipping entity\n",
      "Skipping entity\n",
      "Skipping entity\n"
     ]
    },
    {
     "name": "stderr",
     "output_type": "stream",
     "text": [
      "100%|█████████████████████████████████████████████████████████████████████████████████████████| 3513/3513 [00:02<00:00, 1694.01it/s]"
     ]
    },
    {
     "name": "stdout",
     "output_type": "stream",
     "text": [
      "Skipping entity\n",
      "Skipping entity\n",
      "Skipping entity\n",
      "Skipping entity\n",
      "Skipping entity\n",
      "Skipping entity\n",
      "Skipping entity\n",
      "Skipping entity\n",
      "Skipping entity\n",
      "Skipping entity\n",
      "Skipping entity\n",
      "Skipping entity\n",
      "Skipping entity\n",
      "Skipping entity\n",
      "Skipping entity\n",
      "Skipping entity\n"
     ]
    },
    {
     "name": "stderr",
     "output_type": "stream",
     "text": [
      "\n"
     ]
    },
    {
     "name": "stdout",
     "output_type": "stream",
     "text": [
      "[i] Saving to output directory: output\n",
      "[i] Using CPU\n",
      "\u001b[1m\n",
      "=========================== Initializing pipeline ===========================\u001b[0m\n",
      "[+] Initialized pipeline\n",
      "\u001b[1m\n",
      "============================= Training pipeline =============================\u001b[0m\n",
      "[i] Pipeline: ['tok2vec', 'ner']\n",
      "[i] Initial learn rate: 0.001\n",
      "E    #       LOSS TOK2VEC  LOSS NER  ENTS_F  ENTS_P  ENTS_R  SCORE \n",
      "---  ------  ------------  --------  ------  ------  ------  ------\n",
      "  0       0          0.00     31.33    0.23    0.78    0.13    0.00\n",
      "  0     200         83.63   2648.01   80.03   76.36   84.08    0.80\n",
      "  0     400         93.86   1419.53   85.76   80.21   92.13    0.86\n",
      "  0     600         94.05   1516.47   89.96   86.12   94.17    0.90\n",
      "  0     800         86.14   1691.96   91.37   86.30   97.08    0.91\n",
      "  1    1000        105.08   1575.57   92.89   89.49   96.57    0.93\n",
      "  1    1200        132.94   1825.23   94.07   92.60   95.59    0.94\n",
      "  2    1400        149.54   2024.45   94.78   91.78   97.97    0.95\n",
      "  2    1600        203.88   1985.45   96.28   95.47   97.10    0.96\n",
      "  3    1800        268.98   2057.62   97.17   96.88   97.46    0.97\n",
      "  4    2000        323.96   2004.96   98.15   97.30   99.01    0.98\n",
      "  5    2200        450.75   1863.84   98.71   98.05   99.38    0.99\n",
      "  7    2400        586.20   1702.28   99.22   98.90   99.53    0.99\n",
      "  8    2600        605.12   1334.75   99.44   99.41   99.46    0.99\n",
      " 10    2800        631.99   1172.73   99.57   99.55   99.59    1.00\n",
      " 11    3000        598.00    929.76   99.56   99.61   99.51    1.00\n",
      " 12    3200        663.17    960.75   99.73   99.61   99.86    1.00\n",
      " 14    3400        673.73    782.77   99.71   99.56   99.86    1.00\n",
      " 15    3600        643.82    781.08   99.68   99.60   99.77    1.00\n",
      " 17    3800        566.60    659.21   99.83   99.80   99.86    1.00\n",
      " 18    4000        617.89    664.10   99.87   99.85   99.88    1.00\n",
      " 20    4200        568.64    571.31   99.87   99.86   99.88    1.00\n",
      " 21    4400        649.94    546.92   99.80   99.67   99.93    1.00\n",
      " 23    4600        654.34    545.12   99.86   99.82   99.91    1.00\n",
      " 24    4800        667.01    563.45   99.86   99.84   99.88    1.00\n",
      " 26    5000        646.84    501.59   99.86   99.83   99.89    1.00\n",
      " 27    5200        552.88    422.69   99.89   99.84   99.94    1.00\n",
      " 29    5400        684.97    444.67   99.88   99.84   99.92    1.00\n",
      " 30    5600        688.58    416.01   99.90   99.88   99.92    1.00\n",
      " 31    5800        612.94    399.41   99.89   99.80   99.97    1.00\n",
      " 33    6000        649.29    401.88   99.92   99.88   99.95    1.00\n",
      " 34    6200        662.55    407.38   99.95   99.97   99.93    1.00\n",
      " 36    6400        625.33    363.08   99.90   99.89   99.91    1.00\n",
      " 37    6600        804.40    385.64   99.91   99.86   99.97    1.00\n",
      " 39    6800        791.76    340.37   99.95   99.95   99.96    1.00\n",
      " 40    7000        810.64    350.35   99.90   99.95   99.85    1.00\n",
      " 42    7200        738.49    325.80   99.92   99.97   99.87    1.00\n",
      " 43    7400        744.02    293.93   99.92   99.94   99.90    1.00\n",
      " 45    7600        952.02    357.33   99.82   99.80   99.84    1.00\n",
      " 46    7800        823.44    345.03   99.90   99.90   99.91    1.00\n",
      " 48    8000        926.17    335.28   99.66   99.69   99.63    1.00\n",
      " 49    8200        986.36    284.87   99.94   99.98   99.90    1.00\n",
      " 51    8400       1081.84    281.86   99.95   99.92   99.98    1.00\n",
      " 52    8600        862.44    269.51   99.90   99.85   99.95    1.00\n",
      " 53    8800        894.80    285.77   99.93   99.97   99.90    1.00\n",
      " 55    9000        878.86    236.01   99.95   99.90   99.99    1.00\n",
      " 56    9200       1065.66    248.74   99.95   99.98   99.91    1.00\n",
      " 58    9400        981.94    252.17   99.97   99.94   99.99    1.00\n",
      " 59    9600       1191.81    294.50   99.95   99.95   99.96    1.00\n",
      " 61    9800       1192.84    251.36   99.97   99.98   99.96    1.00\n",
      " 62   10000       1197.77    245.46   99.95   99.93   99.97    1.00\n",
      " 64   10200       1149.36    237.75   99.93   99.88   99.98    1.00\n",
      " 65   10400       1485.88    257.58   99.97   99.98   99.97    1.00\n",
      " 67   10600       1389.49    228.27   99.94   99.93   99.95    1.00\n",
      " 68   10800       1296.37    230.14   99.96   99.95   99.97    1.00\n",
      " 70   11000       1768.30    264.93   99.97   99.96   99.98    1.00\n",
      " 71   11200       1712.78    201.00   99.94   99.93   99.95    1.00\n",
      " 72   11400       1302.35    208.53   99.96   99.95   99.96    1.00\n",
      " 74   11600       1538.08    241.83   99.96   99.94   99.98    1.00\n",
      " 75   11800       1391.08    230.67   99.96   99.95   99.97    1.00\n",
      " 77   12000       1787.24    228.69   99.95   99.92   99.97    1.00\n",
      "[+] Saved pipeline to output directory\n",
      "output\\model-last\n",
      "\n",
      "Total keywords:  362\n",
      "List of Keywords:\n",
      "\n",
      " ['cheese', 'chicken', 'milk', 'butter', 'cream', 'fruit', 'rice', 'water', 'garlic', 'bread', 'sugar', 'salt', 'chocolate', 'fish', 'beef', 'yogurt', 'almond milk', 'greens', 'granola', 'nuts', 'chia seeds', 'onions', 'apples', 'peanut butter', 'squash', 'soda', 'flour', 'garlic powder', 'buttermilk', 'potatoes', 'cottage cheese', 'sour cream', 'turkey', 'beans', 'cream cheese', 'bagel', 'pretzels', 'celery', 'white wine', 'margarine', 'whipped cream', 'ice cream', 'pineapple', 'whipped topping', 'plantains', 'veal', 'mustard', 'corned beef', 'rye', 'fried chicken', 'gravy', 'tuna', 'vegetables', 'eggs', 'rotisserie chicken', 'hot dogs', 'crackers', 'dips', 'meats', 'frozen entrees', 'bacon', 'pasta', 'pizza', 'potato chips', 'avocados', 'pork', 'sunflower seeds', 'lentils', 'lean fish', 'cauliflower', 'asparagus', 'almonds', 'cooked fish', 'honey', 'kimchi', 'herbs', 'dates', 'scallops', 'yuzu', 'corn syrup', 'baking soda', 'molasses', 'yeast', 'cornmeal', 'vinegar', 'parsley', 'worcestershire sauce', 'mushrooms', 'broth', 'peppers', 'oats', 'guava', 'coconut', 'cheesecake', 'cinnamon', 'muffin', 'pies', 'tomato sauce', 'pickles', 'goat', 'lamb', 'seafood', 'olives', 'baking powder', 'sesame seeds', 'raspberries', 'cornstarch', 'hot sauce', 'grits', 'chives', 'coconut milk', 'tamarind', 'tomatoes', 'cumin', 'chili powder', 'onion powder', 'black pepper', 'pie crust', 'cooked rice', 'nutmeg', 'peas', 'refried beans', 'bananas', 'okra', 'cabbage', 'syrup', 'juice concentrates', 'basil', 'fruits', 'horseradish', 'lettuce', 'pesto', 'soy milk', 'hoisin sauce', 'sesame oil', 'peanuts', 'ham', 'bacon bits', 'chutney', 'sun dried tomatoes', 'sausage', 'coffee', 'pasta salad', 'cereal', 'grapes', 'cashews', 'tea', 'pudding', 'coconut cream', 'coconut water', 'apple juice', 'fruit cocktail', 'walnuts', 'dough', 'roasted red peppers', 'whole wheat bread', 'thyme', 'mayonnaise', 'oregano', 'leftovers', 'strawberries', 'berries', 'coleslaw', 'cilantro', 'guacamole', 'tomato paste', 'canola oil', 'mung bean', 'lemon juice', 'ghee', 'avocado oil', 'almond oil', 'grapeseed oil', 'spelt', 'lime juice', 'pure vanilla extract', 'butter flavor', 'string cheese', 'salsa', 'puff pastry', 'biscuits', 'orange juice', 'vegetable soup', 'caviar', 'pine nuts', 'coconut oil', 'quail', 'kefir', 'cookie dough', 'base', 'meat products', 'chicken parts', 'cornish hens', 'canned chicken', 'fatty fish', 'miso', 'barley', 'whole wheat flour', 'cream pies', 'quiche', 'sugar substitutes', 'cookies', 'potato salad', 'brussels sprouts', 'cherry tomatoes', 'taro', 'aioli', 'salami', 'prosciutto', 'chocolate syrup', 'pectin', 'tortillas', 'rice milk', 'coconuts', 'turkey bacon', 'black bean sauce', 'tofu', 'oyster sauce', 'rosemary', 'powdered milk', 'popcorn', 'almond butter', 'cashew butter', 'hummus', 'jerky', 'kohlrabi', 'cantaloupe', 'farro', 'lemongrass', 'canadian bacon', 'pecans', 'mint', 'hot peppers', 'swiss chard', 'cranberry sauce', 'pate', 'buckwheat', 'cheese curds', 'bratwurst', 'bulgur', 'eggplant', 'coconut flour', 'kale', 'zucchini', 'cherries', 'polenta', 'balsamic vinegar', 'anchovies', 'arugula', 'oils', 'pumpkin seeds', 'flaxseed', 'herring', 'coffee creamer', 'apple cider vinegar', 'ricotta', 'pistachios', 'beets', 'sausages', 'venison', 'leeks', 'rabbit', 'pastrami', 'chicken salad', 'dinners', 'goose', 'applesauce', 'capon', 'blueberries', 'quinoa', 'cucumbers', 'red wine', 'canned goods', 'croutons', 'soy flour', 'cooked pasta', 'edamame', 'casseroles', 'fruit pies', 'tamarind paste', 'nectar', 'duck fat', 'apricots', 'pomegranate', 'cranberries', 'cherimoya', 'kiwi fruit', 'honeydew', 'tapenade', 'bamboo shoots', 'millet', 'beans and peas', 'radishes', 'rhubarb', 'bok choy', 'jicama', 'turnips', 'melons', 'pork rinds', 'squid', 'tempeh', 'marinades', 'capers', 'barbecue sauce', 'chorizo', 'apple cider', 'tahini', 'egg salad', 'cinnamon rolls', 'ham salad', 'nacho cheese', 'pork roll', 'macadamias', 'bacon grease', 'baby carrots', 'celery root', 'spaghetti sauce', 'sunflower oil', 'almond extract', 'lemon extract', 'carrot juice', 'bean sprouts', 'macaroons', 'spaghetti squash', 'vegetable juice', 'marinated vegetables', 'teff', 'garam masala', 'fresh pasta', 'ginger root', 'breadcrumbs', 'pimento cheese', 'cooking wine', 'yuzu juice', 'radicchio', 'egg dishes', 'lobster tails', 'fruit cake', 'citrus fruit', 'watermelon', 'rutabagas', 'marshmallows', 'seafood salads', 'amaranth', 'kumquats', 'relish', 'prickly pear', 'cinnamon extract', 'crab legs', 'gelatin', 'duckling', 'nut oils', 'pumpkins', 'salad dressings', 'formula', 'soup mixes', 'bison', 'coconut flavor', 'star fruit', 'sorghum', 'doughnuts', 'pheasant'] \n",
      "\n",
      "\n"
     ]
    },
    {
     "name": "stdout",
     "output_type": "stream",
     "text": [
      "Decreasing entityCheckCount variable by 1\n",
      "entityCheckCount =  2\n",
      "[[34 10]\n",
      " [ 4 35]]\n",
      "              precision    recall  f1-score   support\n",
      "\n",
      "           1       0.89      0.77      0.83        44\n",
      "           0       0.78      0.90      0.83        39\n",
      "\n",
      "    accuracy                           0.83        83\n",
      "   macro avg       0.84      0.84      0.83        83\n",
      "weighted avg       0.84      0.83      0.83        83\n",
      "\n",
      "Total keywords:  362\n",
      "Total Tweets:  3513\n",
      "List of Keywords:\n",
      "\n",
      " ['cheese', 'chicken', 'milk', 'butter', 'cream', 'fruit', 'rice', 'water', 'garlic', 'bread', 'sugar', 'salt', 'chocolate', 'fish', 'beef', 'yogurt', 'almond milk', 'greens', 'granola', 'nuts', 'chia seeds', 'onions', 'apples', 'peanut butter', 'squash', 'soda', 'flour', 'garlic powder', 'buttermilk', 'potatoes', 'cottage cheese', 'sour cream', 'turkey', 'beans', 'cream cheese', 'bagel', 'pretzels', 'celery', 'white wine', 'margarine', 'whipped cream', 'ice cream', 'pineapple', 'whipped topping', 'plantains', 'veal', 'mustard', 'corned beef', 'rye', 'fried chicken', 'gravy', 'tuna', 'vegetables', 'eggs', 'rotisserie chicken', 'hot dogs', 'crackers', 'dips', 'meats', 'frozen entrees', 'bacon', 'pasta', 'pizza', 'potato chips', 'avocados', 'pork', 'sunflower seeds', 'lentils', 'lean fish', 'cauliflower', 'asparagus', 'almonds', 'cooked fish', 'honey', 'kimchi', 'herbs', 'dates', 'scallops', 'yuzu', 'corn syrup', 'baking soda', 'molasses', 'yeast', 'cornmeal', 'vinegar', 'parsley', 'worcestershire sauce', 'mushrooms', 'broth', 'peppers', 'oats', 'guava', 'coconut', 'cheesecake', 'cinnamon', 'muffin', 'pies', 'tomato sauce', 'pickles', 'goat', 'lamb', 'seafood', 'olives', 'baking powder', 'sesame seeds', 'raspberries', 'cornstarch', 'hot sauce', 'grits', 'chives', 'coconut milk', 'tamarind', 'tomatoes', 'cumin', 'chili powder', 'onion powder', 'black pepper', 'pie crust', 'cooked rice', 'nutmeg', 'peas', 'refried beans', 'bananas', 'okra', 'cabbage', 'syrup', 'juice concentrates', 'basil', 'fruits', 'horseradish', 'lettuce', 'pesto', 'soy milk', 'hoisin sauce', 'sesame oil', 'peanuts', 'ham', 'bacon bits', 'chutney', 'sun dried tomatoes', 'sausage', 'coffee', 'pasta salad', 'cereal', 'grapes', 'cashews', 'tea', 'pudding', 'coconut cream', 'coconut water', 'apple juice', 'fruit cocktail', 'walnuts', 'dough', 'roasted red peppers', 'whole wheat bread', 'thyme', 'mayonnaise', 'oregano', 'leftovers', 'strawberries', 'berries', 'coleslaw', 'cilantro', 'guacamole', 'tomato paste', 'canola oil', 'mung bean', 'lemon juice', 'ghee', 'avocado oil', 'almond oil', 'grapeseed oil', 'spelt', 'lime juice', 'pure vanilla extract', 'butter flavor', 'string cheese', 'salsa', 'puff pastry', 'biscuits', 'orange juice', 'vegetable soup', 'caviar', 'pine nuts', 'coconut oil', 'quail', 'kefir', 'cookie dough', 'base', 'meat products', 'chicken parts', 'cornish hens', 'canned chicken', 'fatty fish', 'miso', 'barley', 'whole wheat flour', 'cream pies', 'quiche', 'sugar substitutes', 'cookies', 'potato salad', 'brussels sprouts', 'cherry tomatoes', 'taro', 'aioli', 'salami', 'prosciutto', 'chocolate syrup', 'pectin', 'tortillas', 'rice milk', 'coconuts', 'turkey bacon', 'black bean sauce', 'tofu', 'oyster sauce', 'rosemary', 'powdered milk', 'popcorn', 'almond butter', 'cashew butter', 'hummus', 'jerky', 'kohlrabi', 'cantaloupe', 'farro', 'lemongrass', 'canadian bacon', 'pecans', 'mint', 'hot peppers', 'swiss chard', 'cranberry sauce', 'pate', 'buckwheat', 'cheese curds', 'bratwurst', 'bulgur', 'eggplant', 'coconut flour', 'kale', 'zucchini', 'cherries', 'polenta', 'balsamic vinegar', 'anchovies', 'arugula', 'oils', 'pumpkin seeds', 'flaxseed', 'herring', 'coffee creamer', 'apple cider vinegar', 'ricotta', 'pistachios', 'beets', 'sausages', 'venison', 'leeks', 'rabbit', 'pastrami', 'chicken salad', 'dinners', 'goose', 'applesauce', 'capon', 'blueberries', 'quinoa', 'cucumbers', 'red wine', 'canned goods', 'croutons', 'soy flour', 'cooked pasta', 'edamame', 'casseroles', 'fruit pies', 'tamarind paste', 'nectar', 'duck fat', 'apricots', 'pomegranate', 'cranberries', 'cherimoya', 'kiwi fruit', 'honeydew', 'tapenade', 'bamboo shoots', 'millet', 'beans and peas', 'radishes', 'rhubarb', 'bok choy', 'jicama', 'turnips', 'melons', 'pork rinds', 'squid', 'tempeh', 'marinades', 'capers', 'barbecue sauce', 'chorizo', 'apple cider', 'tahini', 'egg salad', 'cinnamon rolls', 'ham salad', 'nacho cheese', 'pork roll', 'macadamias', 'bacon grease', 'baby carrots', 'celery root', 'spaghetti sauce', 'sunflower oil', 'almond extract', 'lemon extract', 'carrot juice', 'bean sprouts', 'macaroons', 'spaghetti squash', 'vegetable juice', 'marinated vegetables', 'teff', 'garam masala', 'fresh pasta', 'ginger root', 'breadcrumbs', 'pimento cheese', 'cooking wine', 'yuzu juice', 'radicchio', 'egg dishes', 'lobster tails', 'fruit cake', 'citrus fruit', 'watermelon', 'rutabagas', 'marshmallows', 'seafood salads', 'amaranth', 'kumquats', 'relish', 'prickly pear', 'cinnamon extract', 'crab legs', 'gelatin', 'duckling', 'nut oils', 'pumpkins', 'salad dressings', 'formula', 'soup mixes', 'bison', 'coconut flavor', 'star fruit', 'sorghum', 'doughnuts', 'pheasant'] \n",
      "\n",
      "\n",
      "~~~~~~~~~~~~~~~~~9~~~~~~~~~~~~~~~~~\n",
      "Model loaded...\n"
     ]
    },
    {
     "name": "stderr",
     "output_type": "stream",
     "text": [
      "  7%|██████▎                                                                                   | 444/6286 [00:00<00:03, 1497.41it/s]"
     ]
    },
    {
     "name": "stdout",
     "output_type": "stream",
     "text": [
      "Skipping entity\n",
      "Skipping entity\n",
      "Skipping entity\n",
      "Skipping entity\n",
      "Skipping entity\n",
      "Skipping entity\n",
      "Skipping entity\n",
      "Skipping entity\n",
      "Skipping entity\n",
      "Skipping entity\n",
      "Skipping entity\n"
     ]
    },
    {
     "name": "stderr",
     "output_type": "stream",
     "text": [
      " 12%|██████████▉                                                                               | 762/6286 [00:00<00:03, 1553.50it/s]"
     ]
    },
    {
     "name": "stdout",
     "output_type": "stream",
     "text": [
      "Skipping entity\n",
      "Skipping entity\n",
      "Skipping entity\n",
      "Skipping entity\n",
      "Skipping entity\n",
      "Skipping entity\n",
      "Skipping entity\n",
      "Skipping entity\n",
      "Skipping entity\n",
      "Skipping entity\n",
      "Skipping entity\n",
      "Skipping entity"
     ]
    },
    {
     "name": "stderr",
     "output_type": "stream",
     "text": [
      " 17%|███████████████▍                                                                         | 1094/6286 [00:00<00:03, 1615.77it/s]"
     ]
    },
    {
     "name": "stdout",
     "output_type": "stream",
     "text": [
      "\n",
      "Skipping entity\n",
      "Skipping entity\n",
      "Skipping entity\n",
      "Skipping entity\n",
      "Skipping entity"
     ]
    },
    {
     "name": "stderr",
     "output_type": "stream",
     "text": [
      " 26%|██████████████████████▊                                                                  | 1614/6286 [00:01<00:02, 1695.59it/s]"
     ]
    },
    {
     "name": "stdout",
     "output_type": "stream",
     "text": [
      "\n",
      "Skipping entity\n",
      "Skipping entity\n",
      "Skipping entity\n",
      "Skipping entity\n",
      "Skipping entity\n",
      "Skipping entity\n",
      "Skipping entity\n",
      "Skipping entity\n",
      "Skipping entity\n",
      "Skipping entity\n",
      "Skipping entity\n",
      "Skipping entity\n",
      "Skipping entity\n",
      "Skipping entity\n",
      "Skipping entity\n",
      "Skipping entity"
     ]
    },
    {
     "name": "stderr",
     "output_type": "stream",
     "text": [
      " 31%|████████████████████████████                                                             | 1979/6286 [00:01<00:02, 1757.61it/s]"
     ]
    },
    {
     "name": "stdout",
     "output_type": "stream",
     "text": [
      "\n",
      "Skipping entity\n",
      "Skipping entity\n",
      "Skipping entity\n",
      "Skipping entity\n",
      "Skipping entity\n",
      "Skipping entity\n",
      "Skipping entity\n"
     ]
    },
    {
     "name": "stderr",
     "output_type": "stream",
     "text": [
      " 43%|██████████████████████████████████████▎                                                  | 2706/6286 [00:01<00:02, 1774.37it/s]"
     ]
    },
    {
     "name": "stdout",
     "output_type": "stream",
     "text": [
      "Skipping entity\n",
      "Skipping entity\n",
      "Skipping entity\n",
      "Skipping entity\n",
      "Skipping entity\n",
      "Skipping entity\n",
      "Skipping entity\n",
      "Skipping entity\n",
      "Skipping entity\n",
      "Skipping entity\n",
      "Skipping entity\n",
      "Skipping entity\n",
      "Skipping entity\n",
      "Skipping entity\n",
      "Skipping entity\n",
      "Skipping entity\n",
      "Skipping entity\n",
      "Skipping entity\n"
     ]
    },
    {
     "name": "stderr",
     "output_type": "stream",
     "text": [
      " 52%|██████████████████████████████████████████████▎                                          | 3273/6286 [00:01<00:01, 1848.77it/s]"
     ]
    },
    {
     "name": "stdout",
     "output_type": "stream",
     "text": [
      "Skipping entity\n",
      "Skipping entity\n",
      "Skipping entity\n",
      "Skipping entity\n",
      "Skipping entity\n",
      "Skipping entity\n",
      "Skipping entity\n",
      "Skipping entity\n",
      "Skipping entity\n",
      "Skipping entity\n",
      "Skipping entity\n",
      "Skipping entity\n",
      "Skipping entity\n",
      "Skipping entity\n",
      "Skipping entity\n",
      "Skipping entity\n",
      "Skipping entity\n",
      "Skipping entity\n",
      "Skipping entity\n",
      "Skipping entity\n",
      "Skipping entity\n",
      "Skipping entity"
     ]
    },
    {
     "name": "stderr",
     "output_type": "stream",
     "text": [
      " 61%|██████████████████████████████████████████████████████▎                                  | 3836/6286 [00:02<00:01, 1868.10it/s]"
     ]
    },
    {
     "name": "stdout",
     "output_type": "stream",
     "text": [
      "\n",
      "Skipping entity\n",
      "Skipping entity\n",
      "Skipping entity\n",
      "Skipping entity\n",
      "Skipping entity\n",
      "Skipping entity\n"
     ]
    },
    {
     "name": "stderr",
     "output_type": "stream",
     "text": [
      " 67%|███████████████████████████████████████████████████████████▋                             | 4217/6286 [00:02<00:01, 1887.23it/s]"
     ]
    },
    {
     "name": "stdout",
     "output_type": "stream",
     "text": [
      "Skipping entity\n",
      "Skipping entity\n",
      "Skipping entity\n",
      "Skipping entity\n",
      "Skipping entity\n",
      "Skipping entity\n",
      "Skipping entity\n",
      "Skipping entity\n",
      "Skipping entity\n",
      "Skipping entity\n",
      "Skipping entity"
     ]
    },
    {
     "name": "stderr",
     "output_type": "stream",
     "text": [
      " 79%|██████████████████████████████████████████████████████████████████████▌                  | 4981/6286 [00:02<00:00, 1878.67it/s]"
     ]
    },
    {
     "name": "stdout",
     "output_type": "stream",
     "text": [
      "\n",
      "Skipping entity\n",
      "Skipping entity\n",
      "Skipping entity\n",
      "Skipping entity\n",
      "Skipping entity\n",
      "Skipping entity\n",
      "Skipping entity\n",
      "Skipping entity\n",
      "Skipping entity\n",
      "Skipping entity\n",
      "Skipping entity\n",
      "Skipping entity\n",
      "Skipping entity\n",
      "Skipping entity\n"
     ]
    },
    {
     "name": "stderr",
     "output_type": "stream",
     "text": [
      " 88%|██████████████████████████████████████████████████████████████████████████████▌          | 5550/6286 [00:03<00:00, 1888.86it/s]"
     ]
    },
    {
     "name": "stdout",
     "output_type": "stream",
     "text": [
      "Skipping entity\n",
      "Skipping entity\n",
      "Skipping entity\n",
      "Skipping entity\n",
      "Skipping entity\n",
      "Skipping entity\n",
      "Skipping entity\n",
      "Skipping entity\n",
      "Skipping entity\n",
      "Skipping entity\n",
      "Skipping entity\n",
      "Skipping entity\n",
      "Skipping entity\n"
     ]
    },
    {
     "name": "stderr",
     "output_type": "stream",
     "text": [
      " 94%|███████████████████████████████████████████████████████████████████████████████████▉     | 5928/6286 [00:03<00:00, 1886.64it/s]"
     ]
    },
    {
     "name": "stdout",
     "output_type": "stream",
     "text": [
      "Skipping entity\n",
      "Skipping entity\n",
      "Skipping entity\n",
      "Skipping entity\n",
      "Skipping entity\n",
      "Skipping entity\n",
      "Skipping entity\n",
      "Skipping entity\n",
      "Skipping entity\n",
      "Skipping entity\n",
      "Skipping entity"
     ]
    },
    {
     "name": "stderr",
     "output_type": "stream",
     "text": [
      "100%|█████████████████████████████████████████████████████████████████████████████████████████| 6286/6286 [00:03<00:00, 1793.18it/s]\n"
     ]
    },
    {
     "name": "stdout",
     "output_type": "stream",
     "text": [
      "\n",
      "Skipping entity\n",
      "Skipping entity\n",
      "Skipping entity\n",
      "Skipping entity\n",
      "Skipping entity\n",
      "Skipping entity\n",
      "Skipping entity\n",
      "Skipping entity\n",
      "[i] Saving to output directory: output\n",
      "[i] Using CPU\n",
      "\u001b[1m\n",
      "=========================== Initializing pipeline ===========================\u001b[0m\n",
      "[+] Initialized pipeline\n",
      "\u001b[1m\n",
      "============================= Training pipeline =============================\u001b[0m\n",
      "[i] Pipeline: ['tok2vec', 'ner']\n",
      "[i] Initial learn rate: 0.001\n",
      "E    #       LOSS TOK2VEC  LOSS NER  ENTS_F  ENTS_P  ENTS_R  SCORE \n",
      "---  ------  ------------  --------  ------  ------  ------  ------\n",
      "  0       0          0.00     17.67    0.77    0.75    0.79    0.01\n",
      "  0     200         90.11   2571.37   75.26   78.14   72.58    0.75\n",
      "  0     400         79.92   1449.29   85.90   80.55   92.00    0.86\n",
      "  0     600         74.54   1337.83   88.23   83.58   93.43    0.88\n",
      "  0     800         90.84   1561.81   89.13   83.79   95.20    0.89\n",
      "  0    1000         97.38   1832.50   91.00   87.39   94.91    0.91\n",
      "  0    1200        103.82   1962.63   91.71   86.56   97.51    0.92\n",
      "  1    1400        132.77   2009.11   92.19   89.79   94.73    0.92\n",
      "  1    1600        157.51   2434.89   93.04   89.20   97.23    0.93\n",
      "  2    1800        213.81   2868.53   94.47   91.96   97.12    0.94\n",
      "  2    2000        287.68   2799.16   95.41   92.95   98.01    0.95\n",
      "  3    2200        389.47   2940.39   96.13   95.41   96.87    0.96\n",
      "  4    2400        510.85   3237.70   97.14   96.10   98.20    0.97\n",
      "  5    2600        552.49   2731.06   97.64   96.96   98.33    0.98\n",
      "  5    2800        616.05   2395.67   98.07   98.24   97.90    0.98\n",
      "  6    3000        625.57   2125.60   98.54   97.89   99.19    0.99\n",
      "  7    3200        675.16   1857.23   98.45   97.52   99.40    0.98\n",
      "  8    3400        734.71   1679.30   98.88   98.20   99.57    0.99\n",
      "  9    3600        789.75   1540.41   98.90   98.21   99.59    0.99\n",
      " 10    3800        667.38   1445.54   99.00   98.61   99.38    0.99\n",
      " 11    4000        690.46   1332.74   99.31   99.33   99.30    0.99\n",
      " 12    4200        913.46   1209.90   99.47   99.40   99.54    0.99\n",
      " 12    4400        767.84   1112.84   99.52   99.31   99.73    1.00\n",
      " 13    4600        764.43   1034.95   99.55   99.43   99.66    1.00\n",
      " 14    4800        775.15    980.77   99.65   99.56   99.74    1.00\n",
      " 15    5000        649.71    908.09   99.62   99.47   99.77    1.00\n",
      " 16    5200        705.92    858.30   99.56   99.34   99.78    1.00\n",
      " 17    5400        805.37    882.27   99.66   99.47   99.85    1.00\n",
      " 18    5600        674.66    822.63   99.69   99.60   99.79    1.00\n",
      " 19    5800        737.33    751.32   99.64   99.53   99.75    1.00\n",
      " 19    6000        805.65    766.17   99.74   99.72   99.76    1.00\n",
      " 20    6200        679.79    701.72   99.75   99.64   99.86    1.00\n",
      " 21    6400        725.86    639.63   99.79   99.79   99.80    1.00\n",
      " 22    6600        766.72    679.29   99.65   99.64   99.65    1.00\n",
      " 23    6800        753.60    594.47   99.73   99.81   99.65    1.00\n",
      " 24    7000        822.48    618.76   99.76   99.83   99.70    1.00\n",
      " 25    7200        699.40    587.46   99.74   99.59   99.90    1.00\n",
      " 26    7400        850.17    556.29   99.82   99.81   99.84    1.00\n",
      " 26    7600        822.73    542.23   99.82   99.75   99.89    1.00\n",
      " 27    7800        771.08    520.26   99.82   99.76   99.89    1.00\n",
      " 28    8000        733.98    512.18   99.83   99.84   99.81    1.00\n",
      " 29    8200        748.53    489.65   99.81   99.81   99.82    1.00\n",
      " 30    8400        846.85    566.35   99.83   99.77   99.89    1.00\n",
      " 31    8600        803.85    519.39   99.84   99.87   99.81    1.00\n",
      " 32    8800        810.42    511.71   99.85   99.81   99.90    1.00\n",
      " 33    9000        900.35    499.58   99.89   99.88   99.91    1.00\n",
      " 33    9200        759.22    431.53   99.86   99.85   99.87    1.00\n",
      " 34    9400        910.89    442.10   99.87   99.85   99.89    1.00\n",
      " 35    9600        794.39    443.27   99.88   99.83   99.94    1.00\n",
      " 36    9800        994.57    435.62   99.90   99.89   99.91    1.00\n",
      " 37   10000        866.84    418.72   99.82   99.71   99.93    1.00\n",
      " 38   10200        787.75    455.05   99.82   99.70   99.94    1.00\n",
      " 39   10400        945.43    376.18   99.89   99.89   99.89    1.00\n",
      " 40   10600        930.13    423.02   99.88   99.84   99.93    1.00\n",
      " 40   10800        800.32    350.61   99.87   99.94   99.81    1.00\n",
      " 41   11000        992.13    394.41   99.90   99.95   99.86    1.00\n",
      " 42   11200       1102.59    396.34   99.87   99.85   99.89    1.00\n",
      " 43   11400       1004.61    363.77   99.88   99.81   99.96    1.00\n",
      " 44   11600       1042.43    385.80   99.82   99.68   99.96    1.00\n",
      " 45   11800       1179.69    396.49   99.88   99.92   99.84    1.00\n",
      " 46   12000       1171.31    392.06   99.90   99.92   99.88    1.00\n",
      " 47   12200       1070.99    404.32   99.88   99.80   99.97    1.00\n",
      " 47   12400       1304.64    338.13   99.85   99.84   99.85    1.00\n",
      " 48   12600       1453.43    352.45   99.90   99.86   99.95    1.00\n",
      "[+] Saved pipeline to output directory\n",
      "output\\model-last\n",
      "\n",
      "Total keywords:  362\n",
      "List of Keywords:\n",
      "\n",
      " ['cheese', 'chicken', 'milk', 'butter', 'cream', 'fruit', 'rice', 'water', 'garlic', 'bread', 'sugar', 'salt', 'chocolate', 'fish', 'beef', 'yogurt', 'almond milk', 'greens', 'granola', 'nuts', 'chia seeds', 'onions', 'apples', 'peanut butter', 'squash', 'soda', 'flour', 'garlic powder', 'buttermilk', 'potatoes', 'cottage cheese', 'sour cream', 'turkey', 'beans', 'cream cheese', 'bagel', 'pretzels', 'celery', 'white wine', 'margarine', 'whipped cream', 'ice cream', 'pineapple', 'whipped topping', 'plantains', 'veal', 'mustard', 'corned beef', 'rye', 'fried chicken', 'gravy', 'tuna', 'vegetables', 'eggs', 'rotisserie chicken', 'hot dogs', 'crackers', 'dips', 'meats', 'frozen entrees', 'bacon', 'pasta', 'pizza', 'potato chips', 'avocados', 'pork', 'sunflower seeds', 'lentils', 'lean fish', 'cauliflower', 'asparagus', 'almonds', 'cooked fish', 'honey', 'kimchi', 'herbs', 'dates', 'scallops', 'yuzu', 'corn syrup', 'baking soda', 'molasses', 'yeast', 'cornmeal', 'vinegar', 'parsley', 'worcestershire sauce', 'mushrooms', 'broth', 'peppers', 'oats', 'guava', 'coconut', 'cheesecake', 'cinnamon', 'muffin', 'pies', 'tomato sauce', 'pickles', 'goat', 'lamb', 'seafood', 'olives', 'baking powder', 'sesame seeds', 'raspberries', 'cornstarch', 'hot sauce', 'grits', 'chives', 'coconut milk', 'tamarind', 'tomatoes', 'cumin', 'chili powder', 'onion powder', 'black pepper', 'pie crust', 'cooked rice', 'nutmeg', 'peas', 'refried beans', 'bananas', 'okra', 'cabbage', 'syrup', 'juice concentrates', 'basil', 'fruits', 'horseradish', 'lettuce', 'pesto', 'soy milk', 'hoisin sauce', 'sesame oil', 'peanuts', 'ham', 'bacon bits', 'chutney', 'sun dried tomatoes', 'sausage', 'coffee', 'pasta salad', 'cereal', 'grapes', 'cashews', 'tea', 'pudding', 'coconut cream', 'coconut water', 'apple juice', 'fruit cocktail', 'walnuts', 'dough', 'roasted red peppers', 'whole wheat bread', 'thyme', 'mayonnaise', 'oregano', 'leftovers', 'strawberries', 'berries', 'coleslaw', 'cilantro', 'guacamole', 'tomato paste', 'canola oil', 'mung bean', 'lemon juice', 'ghee', 'avocado oil', 'almond oil', 'grapeseed oil', 'spelt', 'lime juice', 'pure vanilla extract', 'butter flavor', 'string cheese', 'salsa', 'puff pastry', 'biscuits', 'orange juice', 'vegetable soup', 'caviar', 'pine nuts', 'coconut oil', 'quail', 'kefir', 'cookie dough', 'base', 'meat products', 'chicken parts', 'cornish hens', 'canned chicken', 'fatty fish', 'miso', 'barley', 'whole wheat flour', 'cream pies', 'quiche', 'sugar substitutes', 'cookies', 'potato salad', 'brussels sprouts', 'cherry tomatoes', 'taro', 'aioli', 'salami', 'prosciutto', 'chocolate syrup', 'pectin', 'tortillas', 'rice milk', 'coconuts', 'turkey bacon', 'black bean sauce', 'tofu', 'oyster sauce', 'rosemary', 'powdered milk', 'popcorn', 'almond butter', 'cashew butter', 'hummus', 'jerky', 'kohlrabi', 'cantaloupe', 'farro', 'lemongrass', 'canadian bacon', 'pecans', 'mint', 'hot peppers', 'swiss chard', 'cranberry sauce', 'pate', 'buckwheat', 'cheese curds', 'bratwurst', 'bulgur', 'eggplant', 'coconut flour', 'kale', 'zucchini', 'cherries', 'polenta', 'balsamic vinegar', 'anchovies', 'arugula', 'oils', 'pumpkin seeds', 'flaxseed', 'herring', 'coffee creamer', 'apple cider vinegar', 'ricotta', 'pistachios', 'beets', 'sausages', 'venison', 'leeks', 'rabbit', 'pastrami', 'chicken salad', 'dinners', 'goose', 'applesauce', 'capon', 'blueberries', 'quinoa', 'cucumbers', 'red wine', 'canned goods', 'croutons', 'soy flour', 'cooked pasta', 'edamame', 'casseroles', 'fruit pies', 'tamarind paste', 'nectar', 'duck fat', 'apricots', 'pomegranate', 'cranberries', 'cherimoya', 'kiwi fruit', 'honeydew', 'tapenade', 'bamboo shoots', 'millet', 'beans and peas', 'radishes', 'rhubarb', 'bok choy', 'jicama', 'turnips', 'melons', 'pork rinds', 'squid', 'tempeh', 'marinades', 'capers', 'barbecue sauce', 'chorizo', 'apple cider', 'tahini', 'egg salad', 'cinnamon rolls', 'ham salad', 'nacho cheese', 'pork roll', 'macadamias', 'bacon grease', 'baby carrots', 'celery root', 'spaghetti sauce', 'sunflower oil', 'almond extract', 'lemon extract', 'carrot juice', 'bean sprouts', 'macaroons', 'spaghetti squash', 'vegetable juice', 'marinated vegetables', 'teff', 'garam masala', 'fresh pasta', 'ginger root', 'breadcrumbs', 'pimento cheese', 'cooking wine', 'yuzu juice', 'radicchio', 'egg dishes', 'lobster tails', 'fruit cake', 'citrus fruit', 'watermelon', 'rutabagas', 'marshmallows', 'seafood salads', 'amaranth', 'kumquats', 'relish', 'prickly pear', 'cinnamon extract', 'crab legs', 'gelatin', 'duckling', 'nut oils', 'pumpkins', 'salad dressings', 'formula', 'soup mixes', 'bison', 'coconut flavor', 'star fruit', 'sorghum', 'doughnuts', 'pheasant'] \n",
      "\n",
      "\n"
     ]
    },
    {
     "name": "stdout",
     "output_type": "stream",
     "text": [
      "[[34 10]\n",
      " [ 6 33]]\n",
      "              precision    recall  f1-score   support\n",
      "\n",
      "           1       0.85      0.77      0.81        44\n",
      "           0       0.77      0.85      0.80        39\n",
      "\n",
      "    accuracy                           0.81        83\n",
      "   macro avg       0.81      0.81      0.81        83\n",
      "weighted avg       0.81      0.81      0.81        83\n",
      "\n",
      "Total keywords:  370\n",
      "Total Tweets:  6286\n",
      "List of Keywords:\n",
      "\n",
      " ['cheese', 'chicken', 'milk', 'butter', 'cream', 'fruit', 'rice', 'water', 'garlic', 'bread', 'sugar', 'salt', 'chocolate', 'fish', 'beef', 'yogurt', 'almond milk', 'greens', 'granola', 'nuts', 'chia seeds', 'onions', 'apples', 'peanut butter', 'squash', 'soda', 'flour', 'garlic powder', 'buttermilk', 'potatoes', 'cottage cheese', 'sour cream', 'turkey', 'beans', 'cream cheese', 'bagel', 'pretzels', 'celery', 'white wine', 'margarine', 'whipped cream', 'ice cream', 'pineapple', 'whipped topping', 'plantains', 'veal', 'mustard', 'corned beef', 'rye', 'fried chicken', 'gravy', 'tuna', 'vegetables', 'eggs', 'rotisserie chicken', 'hot dogs', 'crackers', 'dips', 'meats', 'frozen entrees', 'bacon', 'pasta', 'pizza', 'potato chips', 'avocados', 'pork', 'sunflower seeds', 'lentils', 'lean fish', 'cauliflower', 'asparagus', 'almonds', 'cooked fish', 'honey', 'kimchi', 'herbs', 'dates', 'scallops', 'yuzu', 'corn syrup', 'baking soda', 'molasses', 'yeast', 'cornmeal', 'vinegar', 'parsley', 'worcestershire sauce', 'mushrooms', 'broth', 'peppers', 'oats', 'guava', 'coconut', 'cheesecake', 'cinnamon', 'muffin', 'pies', 'tomato sauce', 'pickles', 'goat', 'lamb', 'seafood', 'olives', 'baking powder', 'sesame seeds', 'raspberries', 'cornstarch', 'hot sauce', 'grits', 'chives', 'coconut milk', 'tamarind', 'tomatoes', 'cumin', 'chili powder', 'onion powder', 'black pepper', 'pie crust', 'cooked rice', 'nutmeg', 'peas', 'refried beans', 'bananas', 'okra', 'cabbage', 'syrup', 'juice concentrates', 'basil', 'fruits', 'horseradish', 'lettuce', 'pesto', 'soy milk', 'hoisin sauce', 'sesame oil', 'peanuts', 'ham', 'bacon bits', 'chutney', 'sun dried tomatoes', 'sausage', 'coffee', 'pasta salad', 'cereal', 'grapes', 'cashews', 'tea', 'pudding', 'coconut cream', 'coconut water', 'apple juice', 'fruit cocktail', 'walnuts', 'dough', 'roasted red peppers', 'whole wheat bread', 'thyme', 'mayonnaise', 'oregano', 'leftovers', 'strawberries', 'berries', 'coleslaw', 'cilantro', 'guacamole', 'tomato paste', 'canola oil', 'mung bean', 'lemon juice', 'ghee', 'avocado oil', 'almond oil', 'grapeseed oil', 'spelt', 'lime juice', 'pure vanilla extract', 'butter flavor', 'string cheese', 'salsa', 'puff pastry', 'biscuits', 'orange juice', 'vegetable soup', 'caviar', 'pine nuts', 'coconut oil', 'quail', 'kefir', 'cookie dough', 'base', 'meat products', 'chicken parts', 'cornish hens', 'canned chicken', 'fatty fish', 'miso', 'barley', 'whole wheat flour', 'cream pies', 'quiche', 'sugar substitutes', 'cookies', 'potato salad', 'brussels sprouts', 'cherry tomatoes', 'taro', 'aioli', 'salami', 'prosciutto', 'chocolate syrup', 'pectin', 'tortillas', 'rice milk', 'coconuts', 'turkey bacon', 'black bean sauce', 'tofu', 'oyster sauce', 'rosemary', 'powdered milk', 'popcorn', 'almond butter', 'cashew butter', 'hummus', 'jerky', 'kohlrabi', 'cantaloupe', 'farro', 'lemongrass', 'canadian bacon', 'pecans', 'mint', 'hot peppers', 'swiss chard', 'cranberry sauce', 'pate', 'buckwheat', 'cheese curds', 'bratwurst', 'bulgur', 'eggplant', 'coconut flour', 'kale', 'zucchini', 'cherries', 'polenta', 'balsamic vinegar', 'anchovies', 'arugula', 'oils', 'pumpkin seeds', 'flaxseed', 'herring', 'coffee creamer', 'apple cider vinegar', 'ricotta', 'pistachios', 'beets', 'sausages', 'venison', 'leeks', 'rabbit', 'pastrami', 'chicken salad', 'dinners', 'goose', 'applesauce', 'capon', 'blueberries', 'quinoa', 'cucumbers', 'red wine', 'canned goods', 'croutons', 'soy flour', 'cooked pasta', 'edamame', 'casseroles', 'fruit pies', 'tamarind paste', 'nectar', 'duck fat', 'apricots', 'pomegranate', 'cranberries', 'cherimoya', 'kiwi fruit', 'honeydew', 'tapenade', 'bamboo shoots', 'millet', 'beans and peas', 'radishes', 'rhubarb', 'bok choy', 'jicama', 'turnips', 'melons', 'pork rinds', 'squid', 'tempeh', 'marinades', 'capers', 'barbecue sauce', 'chorizo', 'apple cider', 'tahini', 'egg salad', 'cinnamon rolls', 'ham salad', 'nacho cheese', 'pork roll', 'macadamias', 'bacon grease', 'baby carrots', 'celery root', 'spaghetti sauce', 'sunflower oil', 'almond extract', 'lemon extract', 'carrot juice', 'bean sprouts', 'macaroons', 'spaghetti squash', 'vegetable juice', 'marinated vegetables', 'teff', 'garam masala', 'fresh pasta', 'ginger root', 'breadcrumbs', 'pimento cheese', 'cooking wine', 'yuzu juice', 'radicchio', 'egg dishes', 'lobster tails', 'fruit cake', 'citrus fruit', 'watermelon', 'rutabagas', 'marshmallows', 'seafood salads', 'amaranth', 'kumquats', 'relish', 'prickly pear', 'cinnamon extract', 'crab legs', 'gelatin', 'duckling', 'nut oils', 'pumpkins', 'salad dressings', 'formula', 'soup mixes', 'bison', 'coconut flavor', 'star fruit', 'sorghum', 'doughnuts', 'pheasant', 'giblets', 'turducken', 'crab meat', 'shortening', 'ice pops', 'salad dressing', 'quark', 'hard liquors'] \n",
      "\n",
      "\n",
      "~~~~~~~~~~~~~~~~~10~~~~~~~~~~~~~~~~~\n",
      "Model loaded...\n"
     ]
    },
    {
     "name": "stderr",
     "output_type": "stream",
     "text": [
      "  5%|████▎                                                                                     | 289/5956 [00:00<00:03, 1458.75it/s]"
     ]
    },
    {
     "name": "stdout",
     "output_type": "stream",
     "text": [
      "Skipping entity\n",
      "Skipping entity\n",
      "Skipping entity\n",
      "Skipping entity\n",
      "Skipping entity\n"
     ]
    },
    {
     "name": "stderr",
     "output_type": "stream",
     "text": [
      " 16%|██████████████▏                                                                           | 940/5956 [00:00<00:03, 1612.31it/s]"
     ]
    },
    {
     "name": "stdout",
     "output_type": "stream",
     "text": [
      "Skipping entity\n",
      "Skipping entity\n",
      "Skipping entity\n",
      "Skipping entity\n",
      "Skipping entity\n",
      "Skipping entity\n",
      "Skipping entity\n",
      "Skipping entity\n",
      "Skipping entity\n",
      "Skipping entity\n",
      "Skipping entity\n",
      "Skipping entity\n",
      "Skipping entity\n"
     ]
    },
    {
     "name": "stderr",
     "output_type": "stream",
     "text": [
      " 25%|█████████████████████▉                                                                   | 1466/5956 [00:00<00:02, 1714.76it/s]"
     ]
    },
    {
     "name": "stdout",
     "output_type": "stream",
     "text": [
      "Skipping entity\n",
      "Skipping entity\n",
      "Skipping entity\n",
      "Skipping entity\n",
      "Skipping entity\n",
      "Skipping entity\n",
      "Skipping entity\n",
      "Skipping entity\n",
      "Skipping entity\n",
      "Skipping entity\n",
      "Skipping entity\n",
      "Skipping entity\n"
     ]
    },
    {
     "name": "stderr",
     "output_type": "stream",
     "text": [
      " 34%|██████████████████████████████                                                           | 2014/5956 [00:01<00:02, 1788.82it/s]"
     ]
    },
    {
     "name": "stdout",
     "output_type": "stream",
     "text": [
      "Skipping entity\n",
      "Skipping entity\n",
      "Skipping entity\n",
      "Skipping entity\n"
     ]
    },
    {
     "name": "stderr",
     "output_type": "stream",
     "text": [
      " 40%|███████████████████████████████████▌                                                     | 2381/5956 [00:01<00:01, 1798.59it/s]"
     ]
    },
    {
     "name": "stdout",
     "output_type": "stream",
     "text": [
      "Skipping entity\n",
      "Skipping entity\n",
      "Skipping entity\n",
      "Skipping entity\n",
      "Skipping entity\n",
      "Skipping entity\n",
      "Skipping entity\n",
      "Skipping entity\n",
      "Skipping entity\n"
     ]
    },
    {
     "name": "stderr",
     "output_type": "stream",
     "text": [
      " 53%|██████████████████████████████████████████████▉                                          | 3138/5956 [00:01<00:01, 1879.05it/s]"
     ]
    },
    {
     "name": "stdout",
     "output_type": "stream",
     "text": [
      "Skipping entity\n",
      "Skipping entity\n",
      "Skipping entity\n",
      "Skipping entity\n",
      "Skipping entity\n",
      "Skipping entity\n",
      "Skipping entity\n",
      "Skipping entity\n",
      "Skipping entity\n",
      "Skipping entity\n",
      "Skipping entity\n",
      "Skipping entity\n",
      "Skipping entity\n"
     ]
    },
    {
     "name": "stderr",
     "output_type": "stream",
     "text": [
      " 62%|███████████████████████████████████████████████████████▍                                 | 3706/5956 [00:02<00:01, 1879.56it/s]"
     ]
    },
    {
     "name": "stdout",
     "output_type": "stream",
     "text": [
      "Skipping entity\n",
      "Skipping entity\n",
      "Skipping entity\n",
      "Skipping entity\n",
      "Skipping entity\n",
      "Skipping entity\n",
      "Skipping entity\n",
      "Skipping entity\n",
      "Skipping entity\n",
      "Skipping entity\n",
      "Skipping entity\n",
      "Skipping entity\n",
      "Skipping entity\n",
      "Skipping entity\n",
      "Skipping entity\n"
     ]
    },
    {
     "name": "stderr",
     "output_type": "stream",
     "text": [
      " 69%|█████████████████████████████████████████████████████████████                            | 4090/5956 [00:02<00:00, 1901.10it/s]"
     ]
    },
    {
     "name": "stdout",
     "output_type": "stream",
     "text": [
      "Skipping entity\n",
      "Skipping entity\n",
      "Skipping entity\n",
      "Skipping entity\n",
      "Skipping entity\n",
      "Skipping entity\n",
      "Skipping entity\n",
      "Skipping entity\n",
      "Skipping entity\n",
      "Skipping entity\n"
     ]
    },
    {
     "name": "stderr",
     "output_type": "stream",
     "text": [
      " 78%|█████████████████████████████████████████████████████████████████████▌                   | 4658/5956 [00:02<00:00, 1861.36it/s]"
     ]
    },
    {
     "name": "stdout",
     "output_type": "stream",
     "text": [
      "Skipping entity\n",
      "Skipping entity\n",
      "Skipping entity\n",
      "Skipping entity\n",
      "Skipping entity\n",
      "Skipping entity\n",
      "Skipping entity\n",
      "Skipping entity"
     ]
    },
    {
     "name": "stderr",
     "output_type": "stream",
     "text": [
      " 88%|██████████████████████████████████████████████████████████████████████████████▏          | 5229/5956 [00:02<00:00, 1882.44it/s]"
     ]
    },
    {
     "name": "stdout",
     "output_type": "stream",
     "text": [
      "\n",
      "Skipping entity\n",
      "Skipping entity\n",
      "Skipping entity\n",
      "Skipping entity\n",
      "Skipping entity\n",
      "Skipping entity\n",
      "Skipping entity\n"
     ]
    },
    {
     "name": "stderr",
     "output_type": "stream",
     "text": [
      " 97%|██████████████████████████████████████████████████████████████████████████████████████▌  | 5795/5956 [00:03<00:00, 1875.24it/s]"
     ]
    },
    {
     "name": "stdout",
     "output_type": "stream",
     "text": [
      "Skipping entity\n",
      "Skipping entity\n",
      "Skipping entity\n",
      "Skipping entity\n",
      "Skipping entity\n",
      "Skipping entity\n",
      "Skipping entity\n",
      "Skipping entity\n",
      "Skipping entity\n",
      "Skipping entity\n",
      "Skipping entity\n",
      "Skipping entity\n"
     ]
    },
    {
     "name": "stderr",
     "output_type": "stream",
     "text": [
      "100%|█████████████████████████████████████████████████████████████████████████████████████████| 5956/5956 [00:03<00:00, 1802.21it/s]\n"
     ]
    },
    {
     "name": "stdout",
     "output_type": "stream",
     "text": [
      "Skipping entity\n",
      "Skipping entity\n",
      "Skipping entity\n",
      "Skipping entity\n",
      "Skipping entity\n",
      "Skipping entity\n",
      "[i] Saving to output directory: output\n",
      "[i] Using CPU\n",
      "\u001b[1m\n",
      "=========================== Initializing pipeline ===========================\u001b[0m\n",
      "[+] Initialized pipeline\n",
      "\u001b[1m\n",
      "============================= Training pipeline =============================\u001b[0m\n",
      "[i] Pipeline: ['tok2vec', 'ner']\n",
      "[i] Initial learn rate: 0.001\n",
      "E    #       LOSS TOK2VEC  LOSS NER  ENTS_F  ENTS_P  ENTS_R  SCORE \n",
      "---  ------  ------------  --------  ------  ------  ------  ------\n",
      "  0       0          0.00     37.17    0.15    1.00    0.08    0.00\n",
      "  0     200         86.57   2654.16   81.23   80.01   82.48    0.81\n",
      "  0     400         73.82   1344.28   87.75   84.59   91.16    0.88\n",
      "  0     600         65.42   1321.66   88.79   83.69   94.56    0.89\n",
      "  0     800         90.29   1431.64   91.16   87.22   95.48    0.91\n",
      "  0    1000        124.08   1700.62   91.34   86.96   96.19    0.91\n",
      "  0    1200        407.63   1910.31   92.56   88.30   97.24    0.93\n",
      "  1    1400        308.91   1987.98   93.60   90.00   97.50    0.94\n",
      "  1    1600        140.61   2335.63   94.64   91.57   97.92    0.95\n",
      "  2    1800        162.99   2293.72   95.49   93.73   97.31    0.95\n",
      "  2    2000        251.76   2625.58   96.42   94.52   98.39    0.96\n",
      "  3    2200        326.88   2613.59   97.05   95.75   98.37    0.97\n",
      "  4    2400        808.77   2660.94   97.70   96.24   99.19    0.98\n",
      "  5    2600        472.34   2358.94   98.20   98.00   98.41    0.98\n",
      "  6    2800        660.77   2009.56   98.56   97.71   99.43    0.99\n",
      "  7    3000        705.35   1778.38   98.66   97.70   99.64    0.99\n",
      "  8    3200        507.97   1576.52   99.13   98.84   99.43    0.99\n",
      "  9    3400        574.02   1402.15   99.13   98.93   99.33    0.99\n",
      " 10    3600        559.54   1245.04   99.08   98.44   99.72    0.99\n",
      " 10    3800        604.95   1136.98   99.29   98.84   99.75    0.99\n",
      " 11    4000        533.72   1025.60   99.32   99.00   99.65    0.99\n",
      " 12    4200        572.70    986.15   99.58   99.37   99.78    1.00\n",
      " 13    4400        619.04    910.25   99.45   99.04   99.86    0.99\n",
      " 14    4600        740.89    911.01   99.55   99.38   99.72    1.00\n",
      " 15    4800        601.17    846.15   99.63   99.43   99.82    1.00\n",
      " 16    5000        559.48    763.19   99.73   99.64   99.82    1.00\n",
      " 17    5200        615.45    729.90   99.68   99.49   99.87    1.00\n",
      " 18    5400        562.62    677.44   99.68   99.56   99.80    1.00\n",
      " 19    5600        686.73    666.19   99.71   99.57   99.86    1.00\n",
      " 20    5800        626.51    658.22   99.79   99.76   99.82    1.00\n",
      " 21    6000        677.76    647.02   99.84   99.78   99.91    1.00\n",
      " 22    6200        605.16    596.37   99.78   99.74   99.82    1.00\n",
      " 22    6400        581.74    569.75   99.82   99.83   99.82    1.00\n",
      " 23    6600        833.54    576.08   99.83   99.87   99.79    1.00\n",
      " 24    6800        572.85    511.45   99.84   99.78   99.90    1.00\n",
      " 25    7000        672.33    482.52   99.86   99.86   99.85    1.00\n",
      " 26    7200        731.67    510.43   99.82   99.73   99.91    1.00\n",
      " 27    7400        708.78    472.48   99.79   99.67   99.90    1.00\n",
      " 28    7600        735.13    531.13   99.84   99.73   99.96    1.00\n",
      " 29    7800        618.72    431.23   99.88   99.84   99.91    1.00\n",
      " 30    8000        751.02    476.08   99.86   99.80   99.93    1.00\n",
      " 31    8200       1117.54    464.31   99.82   99.77   99.86    1.00\n",
      " 32    8400        688.68    442.32   99.89   99.89   99.89    1.00\n",
      " 33    8600        872.43    432.91   99.88   99.82   99.93    1.00\n",
      " 33    8800        896.99    428.49   99.90   99.87   99.94    1.00\n",
      " 34    9000        850.32    428.58   99.92   99.92   99.91    1.00\n",
      " 35    9200        764.10    362.55   99.89   99.81   99.96    1.00\n",
      " 36    9400        984.30    398.13   99.88   99.80   99.95    1.00\n",
      " 37    9600        680.63    359.80   99.90   99.88   99.91    1.00\n",
      " 38    9800        841.11    378.91   99.90   99.89   99.92    1.00\n",
      " 39   10000        984.72    355.54   99.89   99.87   99.90    1.00\n",
      " 40   10200        937.51    349.38   99.86   99.75   99.97    1.00\n",
      " 41   10400       1025.97    370.47   99.90   99.85   99.95    1.00\n",
      " 42   10600       1105.26    416.66   99.89   99.81   99.98    1.00\n",
      "[+] Saved pipeline to output directory\n",
      "output\\model-last\n",
      "\n",
      "Total keywords:  370\n",
      "List of Keywords:\n",
      "\n",
      " ['cheese', 'chicken', 'milk', 'butter', 'cream', 'fruit', 'rice', 'water', 'garlic', 'bread', 'sugar', 'salt', 'chocolate', 'fish', 'beef', 'yogurt', 'almond milk', 'greens', 'granola', 'nuts', 'chia seeds', 'onions', 'apples', 'peanut butter', 'squash', 'soda', 'flour', 'garlic powder', 'buttermilk', 'potatoes', 'cottage cheese', 'sour cream', 'turkey', 'beans', 'cream cheese', 'bagel', 'pretzels', 'celery', 'white wine', 'margarine', 'whipped cream', 'ice cream', 'pineapple', 'whipped topping', 'plantains', 'veal', 'mustard', 'corned beef', 'rye', 'fried chicken', 'gravy', 'tuna', 'vegetables', 'eggs', 'rotisserie chicken', 'hot dogs', 'crackers', 'dips', 'meats', 'frozen entrees', 'bacon', 'pasta', 'pizza', 'potato chips', 'avocados', 'pork', 'sunflower seeds', 'lentils', 'lean fish', 'cauliflower', 'asparagus', 'almonds', 'cooked fish', 'honey', 'kimchi', 'herbs', 'dates', 'scallops', 'yuzu', 'corn syrup', 'baking soda', 'molasses', 'yeast', 'cornmeal', 'vinegar', 'parsley', 'worcestershire sauce', 'mushrooms', 'broth', 'peppers', 'oats', 'guava', 'coconut', 'cheesecake', 'cinnamon', 'muffin', 'pies', 'tomato sauce', 'pickles', 'goat', 'lamb', 'seafood', 'olives', 'baking powder', 'sesame seeds', 'raspberries', 'cornstarch', 'hot sauce', 'grits', 'chives', 'coconut milk', 'tamarind', 'tomatoes', 'cumin', 'chili powder', 'onion powder', 'black pepper', 'pie crust', 'cooked rice', 'nutmeg', 'peas', 'refried beans', 'bananas', 'okra', 'cabbage', 'syrup', 'juice concentrates', 'basil', 'fruits', 'horseradish', 'lettuce', 'pesto', 'soy milk', 'hoisin sauce', 'sesame oil', 'peanuts', 'ham', 'bacon bits', 'chutney', 'sun dried tomatoes', 'sausage', 'coffee', 'pasta salad', 'cereal', 'grapes', 'cashews', 'tea', 'pudding', 'coconut cream', 'coconut water', 'apple juice', 'fruit cocktail', 'walnuts', 'dough', 'roasted red peppers', 'whole wheat bread', 'thyme', 'mayonnaise', 'oregano', 'leftovers', 'strawberries', 'berries', 'coleslaw', 'cilantro', 'guacamole', 'tomato paste', 'canola oil', 'mung bean', 'lemon juice', 'ghee', 'avocado oil', 'almond oil', 'grapeseed oil', 'spelt', 'lime juice', 'pure vanilla extract', 'butter flavor', 'string cheese', 'salsa', 'puff pastry', 'biscuits', 'orange juice', 'vegetable soup', 'caviar', 'pine nuts', 'coconut oil', 'quail', 'kefir', 'cookie dough', 'base', 'meat products', 'chicken parts', 'cornish hens', 'canned chicken', 'fatty fish', 'miso', 'barley', 'whole wheat flour', 'cream pies', 'quiche', 'sugar substitutes', 'cookies', 'potato salad', 'brussels sprouts', 'cherry tomatoes', 'taro', 'aioli', 'salami', 'prosciutto', 'chocolate syrup', 'pectin', 'tortillas', 'rice milk', 'coconuts', 'turkey bacon', 'black bean sauce', 'tofu', 'oyster sauce', 'rosemary', 'powdered milk', 'popcorn', 'almond butter', 'cashew butter', 'hummus', 'jerky', 'kohlrabi', 'cantaloupe', 'farro', 'lemongrass', 'canadian bacon', 'pecans', 'mint', 'hot peppers', 'swiss chard', 'cranberry sauce', 'pate', 'buckwheat', 'cheese curds', 'bratwurst', 'bulgur', 'eggplant', 'coconut flour', 'kale', 'zucchini', 'cherries', 'polenta', 'balsamic vinegar', 'anchovies', 'arugula', 'oils', 'pumpkin seeds', 'flaxseed', 'herring', 'coffee creamer', 'apple cider vinegar', 'ricotta', 'pistachios', 'beets', 'sausages', 'venison', 'leeks', 'rabbit', 'pastrami', 'chicken salad', 'dinners', 'goose', 'applesauce', 'capon', 'blueberries', 'quinoa', 'cucumbers', 'red wine', 'canned goods', 'croutons', 'soy flour', 'cooked pasta', 'edamame', 'casseroles', 'fruit pies', 'tamarind paste', 'nectar', 'duck fat', 'apricots', 'pomegranate', 'cranberries', 'cherimoya', 'kiwi fruit', 'honeydew', 'tapenade', 'bamboo shoots', 'millet', 'beans and peas', 'radishes', 'rhubarb', 'bok choy', 'jicama', 'turnips', 'melons', 'pork rinds', 'squid', 'tempeh', 'marinades', 'capers', 'barbecue sauce', 'chorizo', 'apple cider', 'tahini', 'egg salad', 'cinnamon rolls', 'ham salad', 'nacho cheese', 'pork roll', 'macadamias', 'bacon grease', 'baby carrots', 'celery root', 'spaghetti sauce', 'sunflower oil', 'almond extract', 'lemon extract', 'carrot juice', 'bean sprouts', 'macaroons', 'spaghetti squash', 'vegetable juice', 'marinated vegetables', 'teff', 'garam masala', 'fresh pasta', 'ginger root', 'breadcrumbs', 'pimento cheese', 'cooking wine', 'yuzu juice', 'radicchio', 'egg dishes', 'lobster tails', 'fruit cake', 'citrus fruit', 'watermelon', 'rutabagas', 'marshmallows', 'seafood salads', 'amaranth', 'kumquats', 'relish', 'prickly pear', 'cinnamon extract', 'crab legs', 'gelatin', 'duckling', 'nut oils', 'pumpkins', 'salad dressings', 'formula', 'soup mixes', 'bison', 'coconut flavor', 'star fruit', 'sorghum', 'doughnuts', 'pheasant', 'giblets', 'turducken', 'crab meat', 'shortening', 'ice pops', 'salad dressing', 'quark', 'hard liquors'] \n",
      "\n",
      "\n"
     ]
    },
    {
     "name": "stdout",
     "output_type": "stream",
     "text": [
      "[[37  7]\n",
      " [ 5 34]]\n",
      "              precision    recall  f1-score   support\n",
      "\n",
      "           1       0.88      0.84      0.86        44\n",
      "           0       0.83      0.87      0.85        39\n",
      "\n",
      "    accuracy                           0.86        83\n",
      "   macro avg       0.86      0.86      0.86        83\n",
      "weighted avg       0.86      0.86      0.86        83\n",
      "\n",
      "Total keywords:  373\n",
      "Total Tweets:  5956\n",
      "List of Keywords:\n",
      "\n",
      " ['cheese', 'chicken', 'milk', 'butter', 'cream', 'fruit', 'rice', 'water', 'garlic', 'bread', 'sugar', 'salt', 'chocolate', 'fish', 'beef', 'yogurt', 'almond milk', 'greens', 'granola', 'nuts', 'chia seeds', 'onions', 'apples', 'peanut butter', 'squash', 'soda', 'flour', 'garlic powder', 'buttermilk', 'potatoes', 'cottage cheese', 'sour cream', 'turkey', 'beans', 'cream cheese', 'bagel', 'pretzels', 'celery', 'white wine', 'margarine', 'whipped cream', 'ice cream', 'pineapple', 'whipped topping', 'plantains', 'veal', 'mustard', 'corned beef', 'rye', 'fried chicken', 'gravy', 'tuna', 'vegetables', 'eggs', 'rotisserie chicken', 'hot dogs', 'crackers', 'dips', 'meats', 'frozen entrees', 'bacon', 'pasta', 'pizza', 'potato chips', 'avocados', 'pork', 'sunflower seeds', 'lentils', 'lean fish', 'cauliflower', 'asparagus', 'almonds', 'cooked fish', 'honey', 'kimchi', 'herbs', 'dates', 'scallops', 'yuzu', 'corn syrup', 'baking soda', 'molasses', 'yeast', 'cornmeal', 'vinegar', 'parsley', 'worcestershire sauce', 'mushrooms', 'broth', 'peppers', 'oats', 'guava', 'coconut', 'cheesecake', 'cinnamon', 'muffin', 'pies', 'tomato sauce', 'pickles', 'goat', 'lamb', 'seafood', 'olives', 'baking powder', 'sesame seeds', 'raspberries', 'cornstarch', 'hot sauce', 'grits', 'chives', 'coconut milk', 'tamarind', 'tomatoes', 'cumin', 'chili powder', 'onion powder', 'black pepper', 'pie crust', 'cooked rice', 'nutmeg', 'peas', 'refried beans', 'bananas', 'okra', 'cabbage', 'syrup', 'juice concentrates', 'basil', 'fruits', 'horseradish', 'lettuce', 'pesto', 'soy milk', 'hoisin sauce', 'sesame oil', 'peanuts', 'ham', 'bacon bits', 'chutney', 'sun dried tomatoes', 'sausage', 'coffee', 'pasta salad', 'cereal', 'grapes', 'cashews', 'tea', 'pudding', 'coconut cream', 'coconut water', 'apple juice', 'fruit cocktail', 'walnuts', 'dough', 'roasted red peppers', 'whole wheat bread', 'thyme', 'mayonnaise', 'oregano', 'leftovers', 'strawberries', 'berries', 'coleslaw', 'cilantro', 'guacamole', 'tomato paste', 'canola oil', 'mung bean', 'lemon juice', 'ghee', 'avocado oil', 'almond oil', 'grapeseed oil', 'spelt', 'lime juice', 'pure vanilla extract', 'butter flavor', 'string cheese', 'salsa', 'puff pastry', 'biscuits', 'orange juice', 'vegetable soup', 'caviar', 'pine nuts', 'coconut oil', 'quail', 'kefir', 'cookie dough', 'base', 'meat products', 'chicken parts', 'cornish hens', 'canned chicken', 'fatty fish', 'miso', 'barley', 'whole wheat flour', 'cream pies', 'quiche', 'sugar substitutes', 'cookies', 'potato salad', 'brussels sprouts', 'cherry tomatoes', 'taro', 'aioli', 'salami', 'prosciutto', 'chocolate syrup', 'pectin', 'tortillas', 'rice milk', 'coconuts', 'turkey bacon', 'black bean sauce', 'tofu', 'oyster sauce', 'rosemary', 'powdered milk', 'popcorn', 'almond butter', 'cashew butter', 'hummus', 'jerky', 'kohlrabi', 'cantaloupe', 'farro', 'lemongrass', 'canadian bacon', 'pecans', 'mint', 'hot peppers', 'swiss chard', 'cranberry sauce', 'pate', 'buckwheat', 'cheese curds', 'bratwurst', 'bulgur', 'eggplant', 'coconut flour', 'kale', 'zucchini', 'cherries', 'polenta', 'balsamic vinegar', 'anchovies', 'arugula', 'oils', 'pumpkin seeds', 'flaxseed', 'herring', 'coffee creamer', 'apple cider vinegar', 'ricotta', 'pistachios', 'beets', 'sausages', 'venison', 'leeks', 'rabbit', 'pastrami', 'chicken salad', 'dinners', 'goose', 'applesauce', 'capon', 'blueberries', 'quinoa', 'cucumbers', 'red wine', 'canned goods', 'croutons', 'soy flour', 'cooked pasta', 'edamame', 'casseroles', 'fruit pies', 'tamarind paste', 'nectar', 'duck fat', 'apricots', 'pomegranate', 'cranberries', 'cherimoya', 'kiwi fruit', 'honeydew', 'tapenade', 'bamboo shoots', 'millet', 'beans and peas', 'radishes', 'rhubarb', 'bok choy', 'jicama', 'turnips', 'melons', 'pork rinds', 'squid', 'tempeh', 'marinades', 'capers', 'barbecue sauce', 'chorizo', 'apple cider', 'tahini', 'egg salad', 'cinnamon rolls', 'ham salad', 'nacho cheese', 'pork roll', 'macadamias', 'bacon grease', 'baby carrots', 'celery root', 'spaghetti sauce', 'sunflower oil', 'almond extract', 'lemon extract', 'carrot juice', 'bean sprouts', 'macaroons', 'spaghetti squash', 'vegetable juice', 'marinated vegetables', 'teff', 'garam masala', 'fresh pasta', 'ginger root', 'breadcrumbs', 'pimento cheese', 'cooking wine', 'yuzu juice', 'radicchio', 'egg dishes', 'lobster tails', 'fruit cake', 'citrus fruit', 'watermelon', 'rutabagas', 'marshmallows', 'seafood salads', 'amaranth', 'kumquats', 'relish', 'prickly pear', 'cinnamon extract', 'crab legs', 'gelatin', 'duckling', 'nut oils', 'pumpkins', 'salad dressings', 'formula', 'soup mixes', 'bison', 'coconut flavor', 'star fruit', 'sorghum', 'doughnuts', 'pheasant', 'giblets', 'turducken', 'crab meat', 'shortening', 'ice pops', 'salad dressing', 'quark', 'hard liquors', 'egg substitutes', 'dry egg noodles', 'toaster pastries'] \n",
      "\n",
      "\n",
      "~~~~~~~~~~~~~~~~~11~~~~~~~~~~~~~~~~~\n",
      "Model loaded...\n"
     ]
    },
    {
     "name": "stderr",
     "output_type": "stream",
     "text": [
      "  4%|███▉                                                                                      | 286/6580 [00:00<00:04, 1442.88it/s]"
     ]
    },
    {
     "name": "stdout",
     "output_type": "stream",
     "text": [
      "Skipping entity\n",
      "Skipping entity\n",
      "Skipping entity\n",
      "Skipping entity\n",
      "Skipping entity\n",
      "Skipping entity\n",
      "Skipping entity\n",
      "Skipping entity\n",
      "Skipping entity\n",
      "Skipping entity\n",
      "Skipping entity\n"
     ]
    },
    {
     "name": "stderr",
     "output_type": "stream",
     "text": [
      " 14%|████████████▍                                                                             | 913/6580 [00:00<00:03, 1560.30it/s]"
     ]
    },
    {
     "name": "stdout",
     "output_type": "stream",
     "text": [
      "Skipping entity\n",
      "Skipping entity\n",
      "Skipping entity\n",
      "Skipping entity\n",
      "Skipping entity\n",
      "Skipping entity\n",
      "Skipping entity\n",
      "Skipping entity\n",
      "Skipping entity\n",
      "Skipping entity\n"
     ]
    },
    {
     "name": "stderr",
     "output_type": "stream",
     "text": [
      " 21%|███████████████████                                                                      | 1411/6580 [00:00<00:03, 1629.54it/s]"
     ]
    },
    {
     "name": "stdout",
     "output_type": "stream",
     "text": [
      "Skipping entity\n",
      "Skipping entity\n",
      "Skipping entity\n",
      "Skipping entity\n",
      "Skipping entity\n",
      "Skipping entity\n",
      "Skipping entity\n",
      "Skipping entity\n",
      "Skipping entity\n",
      "Skipping entity\n",
      "Skipping entity\n",
      "Skipping entity\n",
      "Skipping entity\n",
      "Skipping entity\n"
     ]
    },
    {
     "name": "stderr",
     "output_type": "stream",
     "text": [
      " 29%|██████████████████████████                                                               | 1931/6580 [00:01<00:02, 1715.84it/s]"
     ]
    },
    {
     "name": "stdout",
     "output_type": "stream",
     "text": [
      "Skipping entity\n",
      "Skipping entity\n",
      "Skipping entity\n",
      "Skipping entity\n",
      "Skipping entity\n",
      "Skipping entity\n",
      "Skipping entity\n",
      "Skipping entity\n",
      "Skipping entity\n"
     ]
    },
    {
     "name": "stderr",
     "output_type": "stream",
     "text": [
      " 35%|███████████████████████████████                                                          | 2297/6580 [00:01<00:02, 1773.65it/s]"
     ]
    },
    {
     "name": "stdout",
     "output_type": "stream",
     "text": [
      "Skipping entity\n",
      "Skipping entity\n",
      "Skipping entity\n",
      "Skipping entity\n",
      "Skipping entity\n",
      "Skipping entity\n",
      "Skipping entity\n",
      "Skipping entity\n",
      "Skipping entity\n",
      "Skipping entity\n",
      "Skipping entity\n",
      "Skipping entity\n"
     ]
    },
    {
     "name": "stderr",
     "output_type": "stream",
     "text": [
      " 46%|████████████████████████████████████████▉                                                | 3028/6580 [00:01<00:01, 1811.24it/s]"
     ]
    },
    {
     "name": "stdout",
     "output_type": "stream",
     "text": [
      "Skipping entity\n",
      "Skipping entity\n",
      "Skipping entity\n",
      "Skipping entity\n",
      "Skipping entity\n",
      "Skipping entity\n",
      "Skipping entity\n",
      "Skipping entity\n",
      "Skipping entity\n",
      "Skipping entity\n"
     ]
    },
    {
     "name": "stderr",
     "output_type": "stream",
     "text": [
      " 52%|█████████████████████████████████████████████▉                                           | 3396/6580 [00:02<00:01, 1824.96it/s]"
     ]
    },
    {
     "name": "stdout",
     "output_type": "stream",
     "text": [
      "Skipping entity\n",
      "Skipping entity\n",
      "Skipping entity\n",
      "Skipping entity\n",
      "Skipping entity\n",
      "Skipping entity\n",
      "Skipping entity\n",
      "Skipping entity\n",
      "Skipping entity\n",
      "Skipping entity\n",
      "Skipping entity\n",
      "Skipping entity\n",
      "Skipping entity\n",
      "Skipping entity\n",
      "Skipping entity\n",
      "Skipping entity\n",
      "Skipping entity\n",
      "Skipping entity\n",
      "Skipping entity\n"
     ]
    },
    {
     "name": "stderr",
     "output_type": "stream",
     "text": [
      " 60%|█████████████████████████████████████████████████████▍                                   | 3949/6580 [00:02<00:01, 1813.73it/s]"
     ]
    },
    {
     "name": "stdout",
     "output_type": "stream",
     "text": [
      "Skipping entity\n",
      "Skipping entity\n",
      "Skipping entity\n",
      "Skipping entity\n",
      "Skipping entity\n",
      "Skipping entity\n",
      "Skipping entity\n",
      "Skipping entity\n",
      "Skipping entity\n",
      "Skipping entity\n",
      "Skipping entity\n",
      "Skipping entity\n",
      "Skipping entity"
     ]
    },
    {
     "name": "stderr",
     "output_type": "stream",
     "text": [
      " 69%|█████████████████████████████████████████████████████████████                            | 4512/6580 [00:02<00:01, 1857.16it/s]"
     ]
    },
    {
     "name": "stdout",
     "output_type": "stream",
     "text": [
      "\n",
      "Skipping entity\n",
      "Skipping entity\n"
     ]
    },
    {
     "name": "stderr",
     "output_type": "stream",
     "text": [
      " 74%|██████████████████████████████████████████████████████████████████                       | 4884/6580 [00:02<00:00, 1832.06it/s]"
     ]
    },
    {
     "name": "stdout",
     "output_type": "stream",
     "text": [
      "Skipping entity\n",
      "Skipping entity\n",
      "Skipping entity\n",
      "Skipping entity\n",
      "Skipping entity\n",
      "Skipping entity\n",
      "Skipping entity\n",
      "Skipping entity\n",
      "Skipping entity\n",
      "Skipping entity\n",
      "Skipping entity\n",
      "Skipping entity\n",
      "Skipping entity"
     ]
    },
    {
     "name": "stderr",
     "output_type": "stream",
     "text": [
      " 82%|█████████████████████████████████████████████████████████████████████████▍               | 5427/6580 [00:03<00:00, 1779.87it/s]"
     ]
    },
    {
     "name": "stdout",
     "output_type": "stream",
     "text": [
      "\n",
      "Skipping entity\n",
      "Skipping entity\n",
      "Skipping entity\n",
      "Skipping entity\n",
      "Skipping entity\n",
      "Skipping entity\n"
     ]
    },
    {
     "name": "stderr",
     "output_type": "stream",
     "text": [
      " 91%|████████████████████████████████████████████████████████████████████████████████▊        | 5979/6580 [00:03<00:00, 1814.97it/s]"
     ]
    },
    {
     "name": "stdout",
     "output_type": "stream",
     "text": [
      "Skipping entity\n",
      "Skipping entity\n",
      "Skipping entity\n",
      "Skipping entity\n",
      "Skipping entity\n",
      "Skipping entity\n",
      "Skipping entity\n",
      "Skipping entity\n",
      "Skipping entity\n",
      "Skipping entity\n",
      "Skipping entity\n",
      "Skipping entity\n",
      "Skipping entity\n"
     ]
    },
    {
     "name": "stderr",
     "output_type": "stream",
     "text": [
      " 96%|█████████████████████████████████████████████████████████████████████████████████████▊   | 6345/6580 [00:03<00:00, 1821.81it/s]"
     ]
    },
    {
     "name": "stdout",
     "output_type": "stream",
     "text": [
      "Skipping entity\n",
      "Skipping entity\n",
      "Skipping entity\n",
      "Skipping entity\n",
      "Skipping entity\n",
      "Skipping entity\n",
      "Skipping entity\n",
      "Skipping entity\n",
      "Skipping entity\n",
      "Skipping entity\n",
      "Skipping entity\n",
      "Skipping entity\n",
      "Skipping entity\n",
      "Skipping entity\n"
     ]
    },
    {
     "name": "stderr",
     "output_type": "stream",
     "text": [
      "100%|█████████████████████████████████████████████████████████████████████████████████████████| 6580/6580 [00:03<00:00, 1750.13it/s]\n"
     ]
    },
    {
     "name": "stdout",
     "output_type": "stream",
     "text": [
      "Skipping entity\n",
      "Skipping entity\n",
      "Skipping entity\n",
      "[i] Saving to output directory: output\n",
      "[i] Using CPU\n",
      "\u001b[1m\n",
      "=========================== Initializing pipeline ===========================\u001b[0m\n",
      "[+] Initialized pipeline\n",
      "\u001b[1m\n",
      "============================= Training pipeline =============================\u001b[0m\n",
      "[i] Pipeline: ['tok2vec', 'ner']\n",
      "[i] Initial learn rate: 0.001\n",
      "E    #       LOSS TOK2VEC  LOSS NER  ENTS_F  ENTS_P  ENTS_R  SCORE \n",
      "---  ------  ------------  --------  ------  ------  ------  ------\n",
      "  0       0          0.00     41.50    0.00    0.00    0.00    0.00\n",
      "  0     200         76.50   2455.72   79.16   76.04   82.55    0.79\n",
      "  0     400         78.09   1414.87   85.38   79.18   92.63    0.85\n",
      "  0     600         73.82   1344.33   88.09   85.17   91.23    0.88\n",
      "  0     800         92.90   1538.68   89.77   84.99   95.12    0.90\n",
      "  0    1000         91.11   1620.63   90.58   85.23   96.65    0.91\n",
      "  0    1200         98.04   1974.11   91.89   88.24   95.87    0.92\n",
      "  1    1400        125.08   2158.46   92.77   90.28   95.40    0.93\n",
      "  1    1600        134.51   2367.97   93.48   90.35   96.82    0.93\n",
      "  1    1800        171.84   2695.21   94.37   92.03   96.84    0.94\n",
      "  2    2000        233.91   2611.45   95.27   92.66   98.03    0.95\n",
      "  3    2200        292.34   3343.68   96.09   94.55   97.68    0.96\n",
      "  4    2400        385.76   3209.87   96.79   94.79   98.87    0.97\n",
      "  4    2600        456.31   2812.36   97.29   96.28   98.32    0.97\n",
      "  5    2800        498.97   2466.84   97.88   96.88   98.89    0.98\n",
      "  6    3000        490.32   2190.44   98.21   97.26   99.18    0.98\n",
      "  7    3200        557.80   1979.22   98.48   97.98   99.00    0.98\n",
      "  8    3400        577.33   1800.24   98.70   98.78   98.61    0.99\n",
      "  9    3600        613.34   1744.15   98.84   98.13   99.56    0.99\n",
      "  9    3800        568.22   1498.93   99.18   98.75   99.62    0.99\n",
      " 10    4000        597.28   1373.46   99.17   98.68   99.66    0.99\n",
      " 11    4200        632.14   1261.96   99.36   99.11   99.62    0.99\n",
      " 12    4400        621.96   1272.07   99.40   99.27   99.54    0.99\n",
      " 13    4600        582.16   1115.83   99.48   99.43   99.52    0.99\n",
      " 14    4800        585.54   1033.87   99.61   99.54   99.69    1.00\n",
      " 14    5000        595.60    985.60   99.57   99.61   99.53    1.00\n",
      " 15    5200        637.07    900.64   99.58   99.65   99.52    1.00\n",
      " 16    5400        613.49    859.32   99.61   99.44   99.79    1.00\n",
      " 17    5600        593.50    810.51   99.58   99.60   99.56    1.00\n",
      " 18    5800        621.28    883.18   99.68   99.72   99.65    1.00\n",
      " 19    6000        612.42    813.02   99.44   99.03   99.85    0.99\n",
      " 19    6200        647.70    784.62   99.72   99.66   99.79    1.00\n",
      " 20    6400        575.08    670.35   99.71   99.61   99.81    1.00\n",
      " 21    6600        591.23    639.48   99.76   99.73   99.79    1.00\n",
      " 22    6800        618.36    660.36   99.72   99.57   99.86    1.00\n",
      " 23    7000        585.29    668.82   99.76   99.67   99.84    1.00\n",
      " 24    7200        724.48    666.27   99.79   99.77   99.80    1.00\n",
      " 24    7400        591.15    578.73   99.81   99.70   99.91    1.00\n",
      " 25    7600        685.62    574.34   99.80   99.77   99.82    1.00\n",
      " 26    7800        718.43    553.26   99.83   99.76   99.89    1.00\n",
      " 27    8000        615.52    577.11   99.84   99.81   99.87    1.00\n",
      " 28    8200        663.45    519.68   99.85   99.84   99.86    1.00\n",
      " 29    8400        760.93    562.32   99.85   99.85   99.85    1.00\n",
      " 29    8600        719.00    515.43   99.90   99.88   99.93    1.00\n",
      " 30    8800        672.12    488.10   99.87   99.88   99.86    1.00\n",
      " 31    9000        668.22    440.77   99.76   99.70   99.82    1.00\n",
      " 32    9200        710.74    481.88   99.84   99.89   99.80    1.00\n",
      " 33    9400        680.62    491.58   99.77   99.62   99.93    1.00\n",
      " 34    9600        686.50    447.90   99.83   99.74   99.93    1.00\n",
      " 34    9800        959.88    480.55   99.85   99.85   99.86    1.00\n",
      " 35   10000        667.08    409.28   99.90   99.91   99.89    1.00\n",
      " 36   10200        714.59    428.10   99.86   99.79   99.93    1.00\n",
      "[+] Saved pipeline to output directory\n",
      "output\\model-last\n",
      "\n",
      "Total keywords:  373\n",
      "List of Keywords:\n",
      "\n",
      " ['cheese', 'chicken', 'milk', 'butter', 'cream', 'fruit', 'rice', 'water', 'garlic', 'bread', 'sugar', 'salt', 'chocolate', 'fish', 'beef', 'yogurt', 'almond milk', 'greens', 'granola', 'nuts', 'chia seeds', 'onions', 'apples', 'peanut butter', 'squash', 'soda', 'flour', 'garlic powder', 'buttermilk', 'potatoes', 'cottage cheese', 'sour cream', 'turkey', 'beans', 'cream cheese', 'bagel', 'pretzels', 'celery', 'white wine', 'margarine', 'whipped cream', 'ice cream', 'pineapple', 'whipped topping', 'plantains', 'veal', 'mustard', 'corned beef', 'rye', 'fried chicken', 'gravy', 'tuna', 'vegetables', 'eggs', 'rotisserie chicken', 'hot dogs', 'crackers', 'dips', 'meats', 'frozen entrees', 'bacon', 'pasta', 'pizza', 'potato chips', 'avocados', 'pork', 'sunflower seeds', 'lentils', 'lean fish', 'cauliflower', 'asparagus', 'almonds', 'cooked fish', 'honey', 'kimchi', 'herbs', 'dates', 'scallops', 'yuzu', 'corn syrup', 'baking soda', 'molasses', 'yeast', 'cornmeal', 'vinegar', 'parsley', 'worcestershire sauce', 'mushrooms', 'broth', 'peppers', 'oats', 'guava', 'coconut', 'cheesecake', 'cinnamon', 'muffin', 'pies', 'tomato sauce', 'pickles', 'goat', 'lamb', 'seafood', 'olives', 'baking powder', 'sesame seeds', 'raspberries', 'cornstarch', 'hot sauce', 'grits', 'chives', 'coconut milk', 'tamarind', 'tomatoes', 'cumin', 'chili powder', 'onion powder', 'black pepper', 'pie crust', 'cooked rice', 'nutmeg', 'peas', 'refried beans', 'bananas', 'okra', 'cabbage', 'syrup', 'juice concentrates', 'basil', 'fruits', 'horseradish', 'lettuce', 'pesto', 'soy milk', 'hoisin sauce', 'sesame oil', 'peanuts', 'ham', 'bacon bits', 'chutney', 'sun dried tomatoes', 'sausage', 'coffee', 'pasta salad', 'cereal', 'grapes', 'cashews', 'tea', 'pudding', 'coconut cream', 'coconut water', 'apple juice', 'fruit cocktail', 'walnuts', 'dough', 'roasted red peppers', 'whole wheat bread', 'thyme', 'mayonnaise', 'oregano', 'leftovers', 'strawberries', 'berries', 'coleslaw', 'cilantro', 'guacamole', 'tomato paste', 'canola oil', 'mung bean', 'lemon juice', 'ghee', 'avocado oil', 'almond oil', 'grapeseed oil', 'spelt', 'lime juice', 'pure vanilla extract', 'butter flavor', 'string cheese', 'salsa', 'puff pastry', 'biscuits', 'orange juice', 'vegetable soup', 'caviar', 'pine nuts', 'coconut oil', 'quail', 'kefir', 'cookie dough', 'base', 'meat products', 'chicken parts', 'cornish hens', 'canned chicken', 'fatty fish', 'miso', 'barley', 'whole wheat flour', 'cream pies', 'quiche', 'sugar substitutes', 'cookies', 'potato salad', 'brussels sprouts', 'cherry tomatoes', 'taro', 'aioli', 'salami', 'prosciutto', 'chocolate syrup', 'pectin', 'tortillas', 'rice milk', 'coconuts', 'turkey bacon', 'black bean sauce', 'tofu', 'oyster sauce', 'rosemary', 'powdered milk', 'popcorn', 'almond butter', 'cashew butter', 'hummus', 'jerky', 'kohlrabi', 'cantaloupe', 'farro', 'lemongrass', 'canadian bacon', 'pecans', 'mint', 'hot peppers', 'swiss chard', 'cranberry sauce', 'pate', 'buckwheat', 'cheese curds', 'bratwurst', 'bulgur', 'eggplant', 'coconut flour', 'kale', 'zucchini', 'cherries', 'polenta', 'balsamic vinegar', 'anchovies', 'arugula', 'oils', 'pumpkin seeds', 'flaxseed', 'herring', 'coffee creamer', 'apple cider vinegar', 'ricotta', 'pistachios', 'beets', 'sausages', 'venison', 'leeks', 'rabbit', 'pastrami', 'chicken salad', 'dinners', 'goose', 'applesauce', 'capon', 'blueberries', 'quinoa', 'cucumbers', 'red wine', 'canned goods', 'croutons', 'soy flour', 'cooked pasta', 'edamame', 'casseroles', 'fruit pies', 'tamarind paste', 'nectar', 'duck fat', 'apricots', 'pomegranate', 'cranberries', 'cherimoya', 'kiwi fruit', 'honeydew', 'tapenade', 'bamboo shoots', 'millet', 'beans and peas', 'radishes', 'rhubarb', 'bok choy', 'jicama', 'turnips', 'melons', 'pork rinds', 'squid', 'tempeh', 'marinades', 'capers', 'barbecue sauce', 'chorizo', 'apple cider', 'tahini', 'egg salad', 'cinnamon rolls', 'ham salad', 'nacho cheese', 'pork roll', 'macadamias', 'bacon grease', 'baby carrots', 'celery root', 'spaghetti sauce', 'sunflower oil', 'almond extract', 'lemon extract', 'carrot juice', 'bean sprouts', 'macaroons', 'spaghetti squash', 'vegetable juice', 'marinated vegetables', 'teff', 'garam masala', 'fresh pasta', 'ginger root', 'breadcrumbs', 'pimento cheese', 'cooking wine', 'yuzu juice', 'radicchio', 'egg dishes', 'lobster tails', 'fruit cake', 'citrus fruit', 'watermelon', 'rutabagas', 'marshmallows', 'seafood salads', 'amaranth', 'kumquats', 'relish', 'prickly pear', 'cinnamon extract', 'crab legs', 'gelatin', 'duckling', 'nut oils', 'pumpkins', 'salad dressings', 'formula', 'soup mixes', 'bison', 'coconut flavor', 'star fruit', 'sorghum', 'doughnuts', 'pheasant', 'giblets', 'turducken', 'crab meat', 'shortening', 'ice pops', 'salad dressing', 'quark', 'hard liquors', 'egg substitutes', 'dry egg noodles', 'toaster pastries'] \n",
      "\n",
      "\n"
     ]
    },
    {
     "name": "stdout",
     "output_type": "stream",
     "text": [
      "[[36  8]\n",
      " [ 6 33]]\n",
      "              precision    recall  f1-score   support\n",
      "\n",
      "           1       0.86      0.82      0.84        44\n",
      "           0       0.80      0.85      0.83        39\n",
      "\n",
      "    accuracy                           0.83        83\n",
      "   macro avg       0.83      0.83      0.83        83\n",
      "weighted avg       0.83      0.83      0.83        83\n",
      "\n",
      "Total keywords:  375\n",
      "Total Tweets:  6580\n",
      "List of Keywords:\n",
      "\n",
      " ['cheese', 'chicken', 'milk', 'butter', 'cream', 'fruit', 'rice', 'water', 'garlic', 'bread', 'sugar', 'salt', 'chocolate', 'fish', 'beef', 'yogurt', 'almond milk', 'greens', 'granola', 'nuts', 'chia seeds', 'onions', 'apples', 'peanut butter', 'squash', 'soda', 'flour', 'garlic powder', 'buttermilk', 'potatoes', 'cottage cheese', 'sour cream', 'turkey', 'beans', 'cream cheese', 'bagel', 'pretzels', 'celery', 'white wine', 'margarine', 'whipped cream', 'ice cream', 'pineapple', 'whipped topping', 'plantains', 'veal', 'mustard', 'corned beef', 'rye', 'fried chicken', 'gravy', 'tuna', 'vegetables', 'eggs', 'rotisserie chicken', 'hot dogs', 'crackers', 'dips', 'meats', 'frozen entrees', 'bacon', 'pasta', 'pizza', 'potato chips', 'avocados', 'pork', 'sunflower seeds', 'lentils', 'lean fish', 'cauliflower', 'asparagus', 'almonds', 'cooked fish', 'honey', 'kimchi', 'herbs', 'dates', 'scallops', 'yuzu', 'corn syrup', 'baking soda', 'molasses', 'yeast', 'cornmeal', 'vinegar', 'parsley', 'worcestershire sauce', 'mushrooms', 'broth', 'peppers', 'oats', 'guava', 'coconut', 'cheesecake', 'cinnamon', 'muffin', 'pies', 'tomato sauce', 'pickles', 'goat', 'lamb', 'seafood', 'olives', 'baking powder', 'sesame seeds', 'raspberries', 'cornstarch', 'hot sauce', 'grits', 'chives', 'coconut milk', 'tamarind', 'tomatoes', 'cumin', 'chili powder', 'onion powder', 'black pepper', 'pie crust', 'cooked rice', 'nutmeg', 'peas', 'refried beans', 'bananas', 'okra', 'cabbage', 'syrup', 'juice concentrates', 'basil', 'fruits', 'horseradish', 'lettuce', 'pesto', 'soy milk', 'hoisin sauce', 'sesame oil', 'peanuts', 'ham', 'bacon bits', 'chutney', 'sun dried tomatoes', 'sausage', 'coffee', 'pasta salad', 'cereal', 'grapes', 'cashews', 'tea', 'pudding', 'coconut cream', 'coconut water', 'apple juice', 'fruit cocktail', 'walnuts', 'dough', 'roasted red peppers', 'whole wheat bread', 'thyme', 'mayonnaise', 'oregano', 'leftovers', 'strawberries', 'berries', 'coleslaw', 'cilantro', 'guacamole', 'tomato paste', 'canola oil', 'mung bean', 'lemon juice', 'ghee', 'avocado oil', 'almond oil', 'grapeseed oil', 'spelt', 'lime juice', 'pure vanilla extract', 'butter flavor', 'string cheese', 'salsa', 'puff pastry', 'biscuits', 'orange juice', 'vegetable soup', 'caviar', 'pine nuts', 'coconut oil', 'quail', 'kefir', 'cookie dough', 'base', 'meat products', 'chicken parts', 'cornish hens', 'canned chicken', 'fatty fish', 'miso', 'barley', 'whole wheat flour', 'cream pies', 'quiche', 'sugar substitutes', 'cookies', 'potato salad', 'brussels sprouts', 'cherry tomatoes', 'taro', 'aioli', 'salami', 'prosciutto', 'chocolate syrup', 'pectin', 'tortillas', 'rice milk', 'coconuts', 'turkey bacon', 'black bean sauce', 'tofu', 'oyster sauce', 'rosemary', 'powdered milk', 'popcorn', 'almond butter', 'cashew butter', 'hummus', 'jerky', 'kohlrabi', 'cantaloupe', 'farro', 'lemongrass', 'canadian bacon', 'pecans', 'mint', 'hot peppers', 'swiss chard', 'cranberry sauce', 'pate', 'buckwheat', 'cheese curds', 'bratwurst', 'bulgur', 'eggplant', 'coconut flour', 'kale', 'zucchini', 'cherries', 'polenta', 'balsamic vinegar', 'anchovies', 'arugula', 'oils', 'pumpkin seeds', 'flaxseed', 'herring', 'coffee creamer', 'apple cider vinegar', 'ricotta', 'pistachios', 'beets', 'sausages', 'venison', 'leeks', 'rabbit', 'pastrami', 'chicken salad', 'dinners', 'goose', 'applesauce', 'capon', 'blueberries', 'quinoa', 'cucumbers', 'red wine', 'canned goods', 'croutons', 'soy flour', 'cooked pasta', 'edamame', 'casseroles', 'fruit pies', 'tamarind paste', 'nectar', 'duck fat', 'apricots', 'pomegranate', 'cranberries', 'cherimoya', 'kiwi fruit', 'honeydew', 'tapenade', 'bamboo shoots', 'millet', 'beans and peas', 'radishes', 'rhubarb', 'bok choy', 'jicama', 'turnips', 'melons', 'pork rinds', 'squid', 'tempeh', 'marinades', 'capers', 'barbecue sauce', 'chorizo', 'apple cider', 'tahini', 'egg salad', 'cinnamon rolls', 'ham salad', 'nacho cheese', 'pork roll', 'macadamias', 'bacon grease', 'baby carrots', 'celery root', 'spaghetti sauce', 'sunflower oil', 'almond extract', 'lemon extract', 'carrot juice', 'bean sprouts', 'macaroons', 'spaghetti squash', 'vegetable juice', 'marinated vegetables', 'teff', 'garam masala', 'fresh pasta', 'ginger root', 'breadcrumbs', 'pimento cheese', 'cooking wine', 'yuzu juice', 'radicchio', 'egg dishes', 'lobster tails', 'fruit cake', 'citrus fruit', 'watermelon', 'rutabagas', 'marshmallows', 'seafood salads', 'amaranth', 'kumquats', 'relish', 'prickly pear', 'cinnamon extract', 'crab legs', 'gelatin', 'duckling', 'nut oils', 'pumpkins', 'salad dressings', 'formula', 'soup mixes', 'bison', 'coconut flavor', 'star fruit', 'sorghum', 'doughnuts', 'pheasant', 'giblets', 'turducken', 'crab meat', 'shortening', 'ice pops', 'salad dressing', 'quark', 'hard liquors', 'egg substitutes', 'dry egg noodles', 'toaster pastries', 'seasoning blends', 'frying oil'] \n",
      "\n",
      "\n",
      "~~~~~~~~~~~~~~~~~12~~~~~~~~~~~~~~~~~\n",
      "Model loaded...\n"
     ]
    },
    {
     "name": "stderr",
     "output_type": "stream",
     "text": [
      "  4%|███▊                                                                                      | 270/6289 [00:00<00:04, 1364.71it/s]"
     ]
    },
    {
     "name": "stdout",
     "output_type": "stream",
     "text": [
      "Skipping entity\n",
      "Skipping entity\n",
      "Skipping entity\n",
      "Skipping entity\n",
      "Skipping entity\n",
      "Skipping entity\n"
     ]
    },
    {
     "name": "stderr",
     "output_type": "stream",
     "text": [
      " 11%|██████████▎                                                                               | 720/6289 [00:00<00:03, 1470.95it/s]"
     ]
    },
    {
     "name": "stdout",
     "output_type": "stream",
     "text": [
      "Skipping entity\n",
      "Skipping entity\n",
      "Skipping entity\n",
      "Skipping entity\n",
      "Skipping entity\n",
      "Skipping entity\n",
      "Skipping entity\n",
      "Skipping entity\n",
      "Skipping entity\n",
      "Skipping entity\n"
     ]
    },
    {
     "name": "stderr",
     "output_type": "stream",
     "text": [
      " 19%|████████████████▊                                                                        | 1192/6289 [00:00<00:03, 1548.99it/s]"
     ]
    },
    {
     "name": "stdout",
     "output_type": "stream",
     "text": [
      "Skipping entity\n",
      "Skipping entity\n",
      "Skipping entity\n",
      "Skipping entity\n",
      "Skipping entity"
     ]
    },
    {
     "name": "stderr",
     "output_type": "stream",
     "text": [
      " 32%|████████████████████████████▋                                                            | 2030/6289 [00:01<00:02, 1666.88it/s]"
     ]
    },
    {
     "name": "stdout",
     "output_type": "stream",
     "text": [
      "\n",
      "Skipping entity\n",
      "Skipping entity\n",
      "Skipping entity\n",
      "Skipping entity\n",
      "Skipping entity\n",
      "Skipping entity\n",
      "Skipping entity\n",
      "Skipping entity\n",
      "Skipping entity\n",
      "Skipping entity\n",
      "Skipping entity\n",
      "Skipping entity\n",
      "Skipping entity\n",
      "Skipping entity\n"
     ]
    },
    {
     "name": "stderr",
     "output_type": "stream",
     "text": [
      " 38%|█████████████████████████████████▋                                                       | 2379/6289 [00:01<00:02, 1709.44it/s]"
     ]
    },
    {
     "name": "stdout",
     "output_type": "stream",
     "text": [
      "Skipping entity\n",
      "Skipping entity\n",
      "Skipping entity\n",
      "Skipping entity\n",
      "Skipping entity\n",
      "Skipping entity\n",
      "Skipping entity\n",
      "Skipping entity"
     ]
    },
    {
     "name": "stderr",
     "output_type": "stream",
     "text": [
      " 43%|██████████████████████████████████████▌                                                  | 2724/6289 [00:01<00:02, 1707.21it/s]"
     ]
    },
    {
     "name": "stdout",
     "output_type": "stream",
     "text": [
      "\n",
      "Skipping entity\n",
      "Skipping entity\n",
      "Skipping entity\n",
      "Skipping entity\n",
      "Skipping entity"
     ]
    },
    {
     "name": "stderr",
     "output_type": "stream",
     "text": [
      " 52%|██████████████████████████████████████████████▏                                          | 3260/6289 [00:02<00:01, 1755.05it/s]"
     ]
    },
    {
     "name": "stdout",
     "output_type": "stream",
     "text": [
      "\n",
      "Skipping entity\n",
      "Skipping entity\n",
      "Skipping entity\n",
      "Skipping entity\n",
      "Skipping entity\n",
      "Skipping entity\n",
      "Skipping entity\n",
      "Skipping entity\n",
      "Skipping entity\n",
      "Skipping entity\n",
      "Skipping entity\n",
      "Skipping entity\n"
     ]
    },
    {
     "name": "stderr",
     "output_type": "stream",
     "text": [
      " 61%|█████████████████████████████████████████████████████▊                                   | 3806/6289 [00:02<00:01, 1797.40it/s]"
     ]
    },
    {
     "name": "stdout",
     "output_type": "stream",
     "text": [
      "Skipping entity\n",
      "Skipping entity\n",
      "Skipping entity\n",
      "Skipping entity\n",
      "Skipping entity\n",
      "Skipping entity\n",
      "Skipping entity\n",
      "Skipping entity\n",
      "Skipping entity\n",
      "Skipping entity\n",
      "Skipping entity\n"
     ]
    },
    {
     "name": "stderr",
     "output_type": "stream",
     "text": [
      " 66%|███████████████████████████████████████████████████████████                              | 4173/6289 [00:02<00:01, 1813.19it/s]"
     ]
    },
    {
     "name": "stdout",
     "output_type": "stream",
     "text": [
      "Skipping entity\n",
      "Skipping entity\n",
      "Skipping entity\n",
      "Skipping entity\n",
      "Skipping entity\n",
      "Skipping entity\n",
      "Skipping entity\n"
     ]
    },
    {
     "name": "stderr",
     "output_type": "stream",
     "text": [
      " 72%|████████████████████████████████████████████████████████████████▏                        | 4537/6289 [00:02<00:00, 1802.37it/s]"
     ]
    },
    {
     "name": "stdout",
     "output_type": "stream",
     "text": [
      "Skipping entity\n",
      "Skipping entity\n",
      "Skipping entity\n",
      "Skipping entity\n",
      "Skipping entity\n",
      "Skipping entity\n",
      "Skipping entity\n",
      "Skipping entity\n",
      "Skipping entity\n",
      "Skipping entity\n",
      "Skipping entity\n",
      "Skipping entity"
     ]
    },
    {
     "name": "stderr",
     "output_type": "stream",
     "text": [
      " 78%|█████████████████████████████████████████████████████████████████████▎                   | 4897/6289 [00:02<00:00, 1776.68it/s]"
     ]
    },
    {
     "name": "stdout",
     "output_type": "stream",
     "text": [
      "\n",
      "Skipping entity\n",
      "Skipping entity\n",
      "Skipping entity\n",
      "Skipping entity\n",
      "Skipping entity"
     ]
    },
    {
     "name": "stderr",
     "output_type": "stream",
     "text": [
      " 86%|████████████████████████████████████████████████████████████████████████████▉            | 5439/6289 [00:03<00:00, 1784.43it/s]"
     ]
    },
    {
     "name": "stdout",
     "output_type": "stream",
     "text": [
      "\n",
      "Skipping entity\n",
      "Skipping entity\n",
      "Skipping entity\n",
      "Skipping entity\n",
      "Skipping entity\n",
      "Skipping entity\n",
      "Skipping entity\n"
     ]
    },
    {
     "name": "stderr",
     "output_type": "stream",
     "text": [
      " 95%|████████████████████████████████████████████████████████████████████████████████████▌    | 5974/6289 [00:03<00:00, 1766.32it/s]"
     ]
    },
    {
     "name": "stdout",
     "output_type": "stream",
     "text": [
      "Skipping entity\n",
      "Skipping entity\n",
      "Skipping entity\n",
      "Skipping entity\n",
      "Skipping entity\n",
      "Skipping entity\n",
      "Skipping entity\n",
      "Skipping entity\n",
      "Skipping entity\n",
      "Skipping entity\n"
     ]
    },
    {
     "name": "stderr",
     "output_type": "stream",
     "text": [
      "100%|█████████████████████████████████████████████████████████████████████████████████████████| 6289/6289 [00:03<00:00, 1702.18it/s]\n"
     ]
    },
    {
     "name": "stdout",
     "output_type": "stream",
     "text": [
      "Skipping entity\n",
      "Skipping entity\n",
      "Skipping entity\n",
      "Skipping entity\n",
      "Skipping entity\n",
      "Skipping entity\n",
      "Skipping entity\n",
      "Skipping entity\n",
      "[i] Saving to output directory: output\n",
      "[i] Using CPU\n",
      "\u001b[1m\n",
      "=========================== Initializing pipeline ===========================\u001b[0m\n",
      "[+] Initialized pipeline\n",
      "\u001b[1m\n",
      "============================= Training pipeline =============================\u001b[0m\n",
      "[i] Pipeline: ['tok2vec', 'ner']\n",
      "[i] Initial learn rate: 0.001\n",
      "E    #       LOSS TOK2VEC  LOSS NER  ENTS_F  ENTS_P  ENTS_R  SCORE \n",
      "---  ------  ------------  --------  ------  ------  ------  ------\n",
      "  0       0          0.00     33.00    0.67    1.73    0.41    0.01\n",
      "  0     200         79.56   2551.88   76.85   79.08   74.74    0.77\n",
      "  0     400         68.77   1357.91   84.85   80.70   89.46    0.85\n",
      "  0     600         62.17   1357.26   89.17   85.95   92.65    0.89\n",
      "  0     800         74.72   1462.79   89.61   84.09   95.91    0.90\n",
      "  0    1000         86.86   1620.86   91.67   87.72   95.99    0.92\n",
      "  0    1200         97.23   1967.74   92.84   88.37   97.78    0.93\n",
      "  1    1400        120.71   1857.27   93.01   88.52   97.97    0.93\n",
      "  1    1600        169.74   2196.41   94.19   90.74   97.92    0.94\n",
      "  2    1800        179.17   2573.46   95.21   93.01   97.52    0.95\n",
      "  2    2000        259.79   2591.28   95.85   93.60   98.20    0.96\n",
      "  3    2200        325.57   2795.92   96.87   95.96   97.80    0.97\n",
      "  4    2400        404.31   2792.77   97.60   96.77   98.44    0.98\n",
      "  5    2600        474.35   2529.46   97.85   96.37   99.37    0.98\n",
      "  5    2800        503.84   2139.90   98.21   96.83   99.64    0.98\n",
      "  6    3000        558.34   1804.93   98.79   98.23   99.36    0.99\n",
      "  7    3200        540.02   1622.84   98.54   97.55   99.56    0.99\n",
      "  8    3400        583.35   1566.15   98.91   98.23   99.60    0.99\n",
      "  9    3600        567.10   1305.27   99.12   98.66   99.58    0.99\n",
      " 10    3800        622.37   1250.45   99.26   98.83   99.69    0.99\n",
      " 11    4000        640.88   1170.40   99.43   99.34   99.52    0.99\n",
      " 12    4200        624.47   1127.43   99.50   99.35   99.66    1.00\n",
      " 12    4400        675.74    991.62   99.51   99.30   99.71    1.00\n",
      " 13    4600        628.36    904.68   99.55   99.50   99.60    1.00\n",
      " 14    4800        610.55    819.77   99.65   99.58   99.73    1.00\n",
      " 15    5000        659.37    820.67   99.62   99.55   99.70    1.00\n",
      " 16    5200        607.19    787.35   99.63   99.41   99.86    1.00\n",
      " 17    5400        571.85    820.07   99.56   99.23   99.89    1.00\n",
      " 18    5600        602.80    724.99   99.76   99.78   99.73    1.00\n",
      " 19    5800        619.88    683.81   99.76   99.71   99.81    1.00\n",
      " 19    6000        644.07    688.60   99.80   99.75   99.85    1.00\n",
      " 20    6200        621.33    609.21   99.78   99.76   99.81    1.00\n",
      " 21    6400        759.64    664.21   99.75   99.64   99.86    1.00\n",
      " 22    6600        583.31    556.15   99.80   99.76   99.83    1.00\n",
      " 23    6800        775.31    603.02   99.81   99.85   99.76    1.00\n",
      " 24    7000        597.28    547.84   99.84   99.82   99.86    1.00\n",
      " 25    7200        712.55    516.19   99.82   99.80   99.84    1.00\n",
      " 26    7400        694.63    517.83   99.87   99.83   99.92    1.00\n",
      " 26    7600        827.01    547.94   99.86   99.83   99.88    1.00\n",
      " 27    7800        775.36    492.69   99.87   99.83   99.90    1.00\n",
      " 28    8000        683.31    489.70   99.86   99.82   99.91    1.00\n",
      " 29    8200        655.15    467.34   99.82   99.72   99.91    1.00\n",
      " 30    8400        988.98    494.62   99.82   99.75   99.88    1.00\n",
      " 31    8600        967.89    480.52   99.84   99.82   99.86    1.00\n",
      " 32    8800        833.72    419.16   99.82   99.69   99.95    1.00\n",
      " 33    9000        889.38    458.67   99.88   99.90   99.86    1.00\n",
      " 33    9200        715.21    424.58   99.80   99.72   99.87    1.00\n",
      " 34    9400        823.20    409.72   99.88   99.94   99.82    1.00\n",
      " 35    9600        785.53    425.26   99.90   99.90   99.89    1.00\n",
      " 36    9800        739.53    356.83   99.89   99.87   99.91    1.00\n",
      " 37   10000        815.97    415.47   99.87   99.87   99.88    1.00\n",
      " 38   10200        898.56    397.74   99.88   99.88   99.88    1.00\n",
      " 39   10400        991.42    405.53   99.88   99.79   99.98    1.00\n",
      " 40   10600        960.57    453.50   99.91   99.87   99.95    1.00\n",
      " 40   10800        962.11    406.98   99.87   99.85   99.88    1.00\n",
      " 41   11000        951.87    376.16   99.92   99.92   99.92    1.00\n",
      " 42   11200        854.41    337.36   99.86   99.75   99.97    1.00\n",
      " 43   11400        818.08    295.01   99.90   99.89   99.90    1.00\n",
      " 44   11600       1250.42    337.08   99.87   99.84   99.90    1.00\n",
      " 45   11800       1196.80    355.92   99.92   99.86   99.97    1.00\n",
      " 46   12000       1274.50    348.04   99.91   99.94   99.88    1.00\n",
      " 47   12200       1102.05    341.52   99.92   99.90   99.94    1.00\n",
      " 47   12400       1047.79    345.62   99.89   99.89   99.88    1.00\n",
      " 48   12600       1273.38    359.69   99.92   99.91   99.94    1.00\n",
      " 49   12800       1291.30    320.07   99.90   99.87   99.93    1.00\n",
      " 50   13000       1088.78    305.58   99.91   99.92   99.90    1.00\n",
      " 51   13200       1455.95    318.15   99.87   99.81   99.93    1.00\n",
      " 52   13400       1313.75    331.07   99.91   99.89   99.94    1.00\n",
      " 53   13600       1188.22    307.69   99.91   99.89   99.93    1.00\n",
      " 54   13800       1319.10    302.43   99.92   99.86   99.98    1.00\n",
      " 54   14000       1202.60    274.10   99.89   99.96   99.82    1.00\n",
      " 55   14200       1427.15    291.25   99.93   99.88   99.98    1.00\n",
      " 56   14400       1556.95    310.32   99.90   99.92   99.88    1.00\n",
      " 57   14600       1379.05    282.25   99.94   99.91   99.97    1.00\n",
      " 58   14800       1627.62    285.70   99.89   99.93   99.84    1.00\n",
      " 59   15000       1420.67    280.79   99.91   99.86   99.96    1.00\n",
      " 60   15200       1477.54    277.74   99.90   99.92   99.88    1.00\n",
      " 61   15400       1453.66    259.91   99.93   99.93   99.94    1.00\n",
      " 61   15600       1742.02    247.18   99.92   99.89   99.94    1.00\n",
      " 62   15800       1662.80    286.02   99.93   99.92   99.95    1.00\n",
      " 63   16000       1758.78    294.50   99.90   99.84   99.97    1.00\n",
      " 64   16200       1579.64    255.23   99.88   99.84   99.92    1.00\n",
      "[+] Saved pipeline to output directory\n",
      "output\\model-last\n",
      "\n",
      "Total keywords:  375\n",
      "List of Keywords:\n",
      "\n",
      " ['cheese', 'chicken', 'milk', 'butter', 'cream', 'fruit', 'rice', 'water', 'garlic', 'bread', 'sugar', 'salt', 'chocolate', 'fish', 'beef', 'yogurt', 'almond milk', 'greens', 'granola', 'nuts', 'chia seeds', 'onions', 'apples', 'peanut butter', 'squash', 'soda', 'flour', 'garlic powder', 'buttermilk', 'potatoes', 'cottage cheese', 'sour cream', 'turkey', 'beans', 'cream cheese', 'bagel', 'pretzels', 'celery', 'white wine', 'margarine', 'whipped cream', 'ice cream', 'pineapple', 'whipped topping', 'plantains', 'veal', 'mustard', 'corned beef', 'rye', 'fried chicken', 'gravy', 'tuna', 'vegetables', 'eggs', 'rotisserie chicken', 'hot dogs', 'crackers', 'dips', 'meats', 'frozen entrees', 'bacon', 'pasta', 'pizza', 'potato chips', 'avocados', 'pork', 'sunflower seeds', 'lentils', 'lean fish', 'cauliflower', 'asparagus', 'almonds', 'cooked fish', 'honey', 'kimchi', 'herbs', 'dates', 'scallops', 'yuzu', 'corn syrup', 'baking soda', 'molasses', 'yeast', 'cornmeal', 'vinegar', 'parsley', 'worcestershire sauce', 'mushrooms', 'broth', 'peppers', 'oats', 'guava', 'coconut', 'cheesecake', 'cinnamon', 'muffin', 'pies', 'tomato sauce', 'pickles', 'goat', 'lamb', 'seafood', 'olives', 'baking powder', 'sesame seeds', 'raspberries', 'cornstarch', 'hot sauce', 'grits', 'chives', 'coconut milk', 'tamarind', 'tomatoes', 'cumin', 'chili powder', 'onion powder', 'black pepper', 'pie crust', 'cooked rice', 'nutmeg', 'peas', 'refried beans', 'bananas', 'okra', 'cabbage', 'syrup', 'juice concentrates', 'basil', 'fruits', 'horseradish', 'lettuce', 'pesto', 'soy milk', 'hoisin sauce', 'sesame oil', 'peanuts', 'ham', 'bacon bits', 'chutney', 'sun dried tomatoes', 'sausage', 'coffee', 'pasta salad', 'cereal', 'grapes', 'cashews', 'tea', 'pudding', 'coconut cream', 'coconut water', 'apple juice', 'fruit cocktail', 'walnuts', 'dough', 'roasted red peppers', 'whole wheat bread', 'thyme', 'mayonnaise', 'oregano', 'leftovers', 'strawberries', 'berries', 'coleslaw', 'cilantro', 'guacamole', 'tomato paste', 'canola oil', 'mung bean', 'lemon juice', 'ghee', 'avocado oil', 'almond oil', 'grapeseed oil', 'spelt', 'lime juice', 'pure vanilla extract', 'butter flavor', 'string cheese', 'salsa', 'puff pastry', 'biscuits', 'orange juice', 'vegetable soup', 'caviar', 'pine nuts', 'coconut oil', 'quail', 'kefir', 'cookie dough', 'base', 'meat products', 'chicken parts', 'cornish hens', 'canned chicken', 'fatty fish', 'miso', 'barley', 'whole wheat flour', 'cream pies', 'quiche', 'sugar substitutes', 'cookies', 'potato salad', 'brussels sprouts', 'cherry tomatoes', 'taro', 'aioli', 'salami', 'prosciutto', 'chocolate syrup', 'pectin', 'tortillas', 'rice milk', 'coconuts', 'turkey bacon', 'black bean sauce', 'tofu', 'oyster sauce', 'rosemary', 'powdered milk', 'popcorn', 'almond butter', 'cashew butter', 'hummus', 'jerky', 'kohlrabi', 'cantaloupe', 'farro', 'lemongrass', 'canadian bacon', 'pecans', 'mint', 'hot peppers', 'swiss chard', 'cranberry sauce', 'pate', 'buckwheat', 'cheese curds', 'bratwurst', 'bulgur', 'eggplant', 'coconut flour', 'kale', 'zucchini', 'cherries', 'polenta', 'balsamic vinegar', 'anchovies', 'arugula', 'oils', 'pumpkin seeds', 'flaxseed', 'herring', 'coffee creamer', 'apple cider vinegar', 'ricotta', 'pistachios', 'beets', 'sausages', 'venison', 'leeks', 'rabbit', 'pastrami', 'chicken salad', 'dinners', 'goose', 'applesauce', 'capon', 'blueberries', 'quinoa', 'cucumbers', 'red wine', 'canned goods', 'croutons', 'soy flour', 'cooked pasta', 'edamame', 'casseroles', 'fruit pies', 'tamarind paste', 'nectar', 'duck fat', 'apricots', 'pomegranate', 'cranberries', 'cherimoya', 'kiwi fruit', 'honeydew', 'tapenade', 'bamboo shoots', 'millet', 'beans and peas', 'radishes', 'rhubarb', 'bok choy', 'jicama', 'turnips', 'melons', 'pork rinds', 'squid', 'tempeh', 'marinades', 'capers', 'barbecue sauce', 'chorizo', 'apple cider', 'tahini', 'egg salad', 'cinnamon rolls', 'ham salad', 'nacho cheese', 'pork roll', 'macadamias', 'bacon grease', 'baby carrots', 'celery root', 'spaghetti sauce', 'sunflower oil', 'almond extract', 'lemon extract', 'carrot juice', 'bean sprouts', 'macaroons', 'spaghetti squash', 'vegetable juice', 'marinated vegetables', 'teff', 'garam masala', 'fresh pasta', 'ginger root', 'breadcrumbs', 'pimento cheese', 'cooking wine', 'yuzu juice', 'radicchio', 'egg dishes', 'lobster tails', 'fruit cake', 'citrus fruit', 'watermelon', 'rutabagas', 'marshmallows', 'seafood salads', 'amaranth', 'kumquats', 'relish', 'prickly pear', 'cinnamon extract', 'crab legs', 'gelatin', 'duckling', 'nut oils', 'pumpkins', 'salad dressings', 'formula', 'soup mixes', 'bison', 'coconut flavor', 'star fruit', 'sorghum', 'doughnuts', 'pheasant', 'giblets', 'turducken', 'crab meat', 'shortening', 'ice pops', 'salad dressing', 'quark', 'hard liquors', 'egg substitutes', 'dry egg noodles', 'toaster pastries', 'seasoning blends', 'frying oil'] \n",
      "\n",
      "\n"
     ]
    },
    {
     "name": "stdout",
     "output_type": "stream",
     "text": [
      "Decreasing entityCheckCount variable by 1\n",
      "entityCheckCount =  1\n",
      "[[37  7]\n",
      " [ 4 35]]\n",
      "              precision    recall  f1-score   support\n",
      "\n",
      "           1       0.90      0.84      0.87        44\n",
      "           0       0.83      0.90      0.86        39\n",
      "\n",
      "    accuracy                           0.87        83\n",
      "   macro avg       0.87      0.87      0.87        83\n",
      "weighted avg       0.87      0.87      0.87        83\n",
      "\n",
      "Total keywords:  375\n",
      "Total Tweets:  6289\n",
      "List of Keywords:\n",
      "\n",
      " ['cheese', 'chicken', 'milk', 'butter', 'cream', 'fruit', 'rice', 'water', 'garlic', 'bread', 'sugar', 'salt', 'chocolate', 'fish', 'beef', 'yogurt', 'almond milk', 'greens', 'granola', 'nuts', 'chia seeds', 'onions', 'apples', 'peanut butter', 'squash', 'soda', 'flour', 'garlic powder', 'buttermilk', 'potatoes', 'cottage cheese', 'sour cream', 'turkey', 'beans', 'cream cheese', 'bagel', 'pretzels', 'celery', 'white wine', 'margarine', 'whipped cream', 'ice cream', 'pineapple', 'whipped topping', 'plantains', 'veal', 'mustard', 'corned beef', 'rye', 'fried chicken', 'gravy', 'tuna', 'vegetables', 'eggs', 'rotisserie chicken', 'hot dogs', 'crackers', 'dips', 'meats', 'frozen entrees', 'bacon', 'pasta', 'pizza', 'potato chips', 'avocados', 'pork', 'sunflower seeds', 'lentils', 'lean fish', 'cauliflower', 'asparagus', 'almonds', 'cooked fish', 'honey', 'kimchi', 'herbs', 'dates', 'scallops', 'yuzu', 'corn syrup', 'baking soda', 'molasses', 'yeast', 'cornmeal', 'vinegar', 'parsley', 'worcestershire sauce', 'mushrooms', 'broth', 'peppers', 'oats', 'guava', 'coconut', 'cheesecake', 'cinnamon', 'muffin', 'pies', 'tomato sauce', 'pickles', 'goat', 'lamb', 'seafood', 'olives', 'baking powder', 'sesame seeds', 'raspberries', 'cornstarch', 'hot sauce', 'grits', 'chives', 'coconut milk', 'tamarind', 'tomatoes', 'cumin', 'chili powder', 'onion powder', 'black pepper', 'pie crust', 'cooked rice', 'nutmeg', 'peas', 'refried beans', 'bananas', 'okra', 'cabbage', 'syrup', 'juice concentrates', 'basil', 'fruits', 'horseradish', 'lettuce', 'pesto', 'soy milk', 'hoisin sauce', 'sesame oil', 'peanuts', 'ham', 'bacon bits', 'chutney', 'sun dried tomatoes', 'sausage', 'coffee', 'pasta salad', 'cereal', 'grapes', 'cashews', 'tea', 'pudding', 'coconut cream', 'coconut water', 'apple juice', 'fruit cocktail', 'walnuts', 'dough', 'roasted red peppers', 'whole wheat bread', 'thyme', 'mayonnaise', 'oregano', 'leftovers', 'strawberries', 'berries', 'coleslaw', 'cilantro', 'guacamole', 'tomato paste', 'canola oil', 'mung bean', 'lemon juice', 'ghee', 'avocado oil', 'almond oil', 'grapeseed oil', 'spelt', 'lime juice', 'pure vanilla extract', 'butter flavor', 'string cheese', 'salsa', 'puff pastry', 'biscuits', 'orange juice', 'vegetable soup', 'caviar', 'pine nuts', 'coconut oil', 'quail', 'kefir', 'cookie dough', 'base', 'meat products', 'chicken parts', 'cornish hens', 'canned chicken', 'fatty fish', 'miso', 'barley', 'whole wheat flour', 'cream pies', 'quiche', 'sugar substitutes', 'cookies', 'potato salad', 'brussels sprouts', 'cherry tomatoes', 'taro', 'aioli', 'salami', 'prosciutto', 'chocolate syrup', 'pectin', 'tortillas', 'rice milk', 'coconuts', 'turkey bacon', 'black bean sauce', 'tofu', 'oyster sauce', 'rosemary', 'powdered milk', 'popcorn', 'almond butter', 'cashew butter', 'hummus', 'jerky', 'kohlrabi', 'cantaloupe', 'farro', 'lemongrass', 'canadian bacon', 'pecans', 'mint', 'hot peppers', 'swiss chard', 'cranberry sauce', 'pate', 'buckwheat', 'cheese curds', 'bratwurst', 'bulgur', 'eggplant', 'coconut flour', 'kale', 'zucchini', 'cherries', 'polenta', 'balsamic vinegar', 'anchovies', 'arugula', 'oils', 'pumpkin seeds', 'flaxseed', 'herring', 'coffee creamer', 'apple cider vinegar', 'ricotta', 'pistachios', 'beets', 'sausages', 'venison', 'leeks', 'rabbit', 'pastrami', 'chicken salad', 'dinners', 'goose', 'applesauce', 'capon', 'blueberries', 'quinoa', 'cucumbers', 'red wine', 'canned goods', 'croutons', 'soy flour', 'cooked pasta', 'edamame', 'casseroles', 'fruit pies', 'tamarind paste', 'nectar', 'duck fat', 'apricots', 'pomegranate', 'cranberries', 'cherimoya', 'kiwi fruit', 'honeydew', 'tapenade', 'bamboo shoots', 'millet', 'beans and peas', 'radishes', 'rhubarb', 'bok choy', 'jicama', 'turnips', 'melons', 'pork rinds', 'squid', 'tempeh', 'marinades', 'capers', 'barbecue sauce', 'chorizo', 'apple cider', 'tahini', 'egg salad', 'cinnamon rolls', 'ham salad', 'nacho cheese', 'pork roll', 'macadamias', 'bacon grease', 'baby carrots', 'celery root', 'spaghetti sauce', 'sunflower oil', 'almond extract', 'lemon extract', 'carrot juice', 'bean sprouts', 'macaroons', 'spaghetti squash', 'vegetable juice', 'marinated vegetables', 'teff', 'garam masala', 'fresh pasta', 'ginger root', 'breadcrumbs', 'pimento cheese', 'cooking wine', 'yuzu juice', 'radicchio', 'egg dishes', 'lobster tails', 'fruit cake', 'citrus fruit', 'watermelon', 'rutabagas', 'marshmallows', 'seafood salads', 'amaranth', 'kumquats', 'relish', 'prickly pear', 'cinnamon extract', 'crab legs', 'gelatin', 'duckling', 'nut oils', 'pumpkins', 'salad dressings', 'formula', 'soup mixes', 'bison', 'coconut flavor', 'star fruit', 'sorghum', 'doughnuts', 'pheasant', 'giblets', 'turducken', 'crab meat', 'shortening', 'ice pops', 'salad dressing', 'quark', 'hard liquors', 'egg substitutes', 'dry egg noodles', 'toaster pastries', 'seasoning blends', 'frying oil'] \n",
      "\n",
      "\n",
      "~~~~~~~~~~~~~~~~~13~~~~~~~~~~~~~~~~~\n",
      "Model loaded...\n"
     ]
    },
    {
     "name": "stderr",
     "output_type": "stream",
     "text": [
      "  4%|███▍                                                                                     | 491/12783 [00:00<00:07, 1649.60it/s]"
     ]
    },
    {
     "name": "stdout",
     "output_type": "stream",
     "text": [
      "Skipping entity\n",
      "Skipping entity\n",
      "Skipping entity\n",
      "Skipping entity\n",
      "Skipping entity\n",
      "Skipping entity\n",
      "Skipping entity\n",
      "Skipping entity\n",
      "Skipping entity\n",
      "Skipping entity\n"
     ]
    },
    {
     "name": "stderr",
     "output_type": "stream",
     "text": [
      "  8%|███████                                                                                 | 1019/12783 [00:00<00:06, 1714.67it/s]"
     ]
    },
    {
     "name": "stdout",
     "output_type": "stream",
     "text": [
      "Skipping entity\n",
      "Skipping entity\n",
      "Skipping entity\n",
      "Skipping entity\n",
      "Skipping entity\n"
     ]
    },
    {
     "name": "stderr",
     "output_type": "stream",
     "text": [
      " 12%|██████████▌                                                                             | 1540/12783 [00:00<00:06, 1681.33it/s]"
     ]
    },
    {
     "name": "stdout",
     "output_type": "stream",
     "text": [
      "Skipping entity\n",
      "Skipping entity\n",
      "Skipping entity\n",
      "Skipping entity\n",
      "Skipping entity\n"
     ]
    },
    {
     "name": "stderr",
     "output_type": "stream",
     "text": [
      " 15%|█████████████                                                                           | 1891/12783 [00:01<00:06, 1719.65it/s]"
     ]
    },
    {
     "name": "stdout",
     "output_type": "stream",
     "text": [
      "Skipping entity\n",
      "Skipping entity\n",
      "Skipping entity\n",
      "Skipping entity\n",
      "Skipping entity\n",
      "Skipping entity\n",
      "Skipping entity\n",
      "Skipping entity\n",
      "Skipping entity\n"
     ]
    },
    {
     "name": "stderr",
     "output_type": "stream",
     "text": [
      " 21%|██████████████████                                                                      | 2632/12783 [00:01<00:05, 1819.12it/s]"
     ]
    },
    {
     "name": "stdout",
     "output_type": "stream",
     "text": [
      "Skipping entity\n",
      "Skipping entity\n",
      "Skipping entity\n",
      "Skipping entity\n",
      "Skipping entity\n",
      "Skipping entity\n",
      "Skipping entity\n",
      "Skipping entity\n"
     ]
    },
    {
     "name": "stderr",
     "output_type": "stream",
     "text": [
      " 23%|████████████████████▋                                                                   | 3000/12783 [00:01<00:05, 1829.87it/s]"
     ]
    },
    {
     "name": "stdout",
     "output_type": "stream",
     "text": [
      "Skipping entity\n",
      "Skipping entity\n",
      "Skipping entity\n",
      "Skipping entity\n",
      "Skipping entity\n",
      "Skipping entity\n",
      "Skipping entity\n",
      "Skipping entity\n",
      "Skipping entity\n",
      "Skipping entity\n",
      "Skipping entity\n",
      "Skipping entity\n",
      "Skipping entity\n",
      "Skipping entity"
     ]
    },
    {
     "name": "stderr",
     "output_type": "stream",
     "text": [
      " 28%|████████████████████████▌                                                               | 3560/12783 [00:02<00:04, 1847.16it/s]"
     ]
    },
    {
     "name": "stdout",
     "output_type": "stream",
     "text": [
      "\n",
      "Skipping entity\n",
      "Skipping entity\n",
      "Skipping entity\n",
      "Skipping entity\n",
      "Skipping entity\n",
      "Skipping entity\n",
      "Skipping entity\n",
      "Skipping entity\n"
     ]
    },
    {
     "name": "stderr",
     "output_type": "stream",
     "text": [
      " 34%|█████████████████████████████▊                                                          | 4331/12783 [00:02<00:04, 1911.35it/s]"
     ]
    },
    {
     "name": "stdout",
     "output_type": "stream",
     "text": [
      "Skipping entity\n",
      "Skipping entity\n",
      "Skipping entity\n",
      "Skipping entity\n",
      "Skipping entity\n",
      "Skipping entity\n"
     ]
    },
    {
     "name": "stderr",
     "output_type": "stream",
     "text": [
      " 38%|█████████████████████████████████▊                                                      | 4910/12783 [00:02<00:04, 1918.28it/s]"
     ]
    },
    {
     "name": "stdout",
     "output_type": "stream",
     "text": [
      "Skipping entity\n",
      "Skipping entity\n",
      "Skipping entity\n",
      "Skipping entity\n",
      "Skipping entity\n",
      "Skipping entity\n",
      "Skipping entity\n",
      "Skipping entity\n",
      "Skipping entity\n"
     ]
    },
    {
     "name": "stderr",
     "output_type": "stream",
     "text": [
      " 43%|█████████████████████████████████████▊                                                  | 5501/12783 [00:03<00:03, 1932.32it/s]"
     ]
    },
    {
     "name": "stdout",
     "output_type": "stream",
     "text": [
      "Skipping entity\n",
      "Skipping entity\n",
      "Skipping entity\n",
      "Skipping entity\n",
      "Skipping entity\n",
      "Skipping entity\n",
      "Skipping entity\n",
      "Skipping entity\n",
      "Skipping entity\n",
      "Skipping entity\n",
      "Skipping entity\n",
      "Skipping entity\n"
     ]
    },
    {
     "name": "stderr",
     "output_type": "stream",
     "text": [
      " 48%|█████████████████████████████████████████▉                                              | 6088/12783 [00:03<00:03, 1936.03it/s]"
     ]
    },
    {
     "name": "stdout",
     "output_type": "stream",
     "text": [
      "Skipping entity\n",
      "Skipping entity\n",
      "Skipping entity\n",
      "Skipping entity\n",
      "Skipping entity\n",
      "Skipping entity\n",
      "Skipping entity\n",
      "Skipping entity\n",
      "Skipping entity\n"
     ]
    },
    {
     "name": "stderr",
     "output_type": "stream",
     "text": [
      " 52%|██████████████████████████████████████████████                                          | 6690/12783 [00:03<00:03, 1985.83it/s]"
     ]
    },
    {
     "name": "stdout",
     "output_type": "stream",
     "text": [
      "Skipping entity\n",
      "Skipping entity\n",
      "Skipping entity\n",
      "Skipping entity\n",
      "Skipping entity\n",
      "Skipping entity\n",
      "Skipping entity\n",
      "Skipping entity\n"
     ]
    },
    {
     "name": "stderr",
     "output_type": "stream",
     "text": [
      " 55%|████████████████████████████████████████████████▊                                       | 7091/12783 [00:03<00:02, 1983.58it/s]"
     ]
    },
    {
     "name": "stdout",
     "output_type": "stream",
     "text": [
      "Skipping entity\n",
      "Skipping entity\n",
      "Skipping entity\n",
      "Skipping entity\n",
      "Skipping entity\n",
      "Skipping entity\n",
      "Skipping entity\n",
      "Skipping entity\n",
      "Skipping entity\n",
      "Skipping entity\n",
      "Skipping entity\n",
      "Skipping entity\n",
      "Skipping entity\n",
      "Skipping entity\n",
      "Skipping entity\n",
      "Skipping entity"
     ]
    },
    {
     "name": "stderr",
     "output_type": "stream",
     "text": [
      " 60%|████████████████████████████████████████████████████▉                                   | 7692/12783 [00:04<00:02, 1984.86it/s]"
     ]
    },
    {
     "name": "stdout",
     "output_type": "stream",
     "text": [
      "\n",
      "Skipping entity\n",
      "Skipping entity\n"
     ]
    },
    {
     "name": "stderr",
     "output_type": "stream",
     "text": [
      " 64%|███████████████████████████████████████████████████████▉                                | 8119/12783 [00:04<00:02, 2032.23it/s]"
     ]
    },
    {
     "name": "stdout",
     "output_type": "stream",
     "text": [
      "Skipping entity\n",
      "Skipping entity\n",
      "Skipping entity\n",
      "Skipping entity\n",
      "Skipping entity\n",
      "Skipping entity\n",
      "Skipping entity\n",
      "Skipping entity\n",
      "Skipping entity\n",
      "Skipping entity\n",
      "Skipping entity\n",
      "Skipping entity\n",
      "Skipping entity\n"
     ]
    },
    {
     "name": "stderr",
     "output_type": "stream",
     "text": [
      " 68%|████████████████████████████████████████████████████████████                            | 8730/12783 [00:04<00:02, 2025.45it/s]"
     ]
    },
    {
     "name": "stdout",
     "output_type": "stream",
     "text": [
      "Skipping entity\n",
      "Skipping entity\n",
      "Skipping entity"
     ]
    },
    {
     "name": "stderr",
     "output_type": "stream",
     "text": [
      " 76%|███████████████████████████████████████████████████████████████████                     | 9737/12783 [00:05<00:01, 1973.32it/s]"
     ]
    },
    {
     "name": "stdout",
     "output_type": "stream",
     "text": [
      "\n",
      "Skipping entity\n",
      "Skipping entity\n",
      "Skipping entity\n",
      "Skipping entity\n",
      "Skipping entity\n",
      "Skipping entity\n",
      "Skipping entity\n",
      "Skipping entity\n",
      "Skipping entity\n",
      "Skipping entity\n",
      "Skipping entity\n",
      "Skipping entity\n"
     ]
    },
    {
     "name": "stderr",
     "output_type": "stream",
     "text": [
      " 81%|██████████████████████████████████████████████████████████████████████▎                | 10335/12783 [00:05<00:01, 1984.35it/s]"
     ]
    },
    {
     "name": "stdout",
     "output_type": "stream",
     "text": [
      "Skipping entity\n",
      "Skipping entity\n",
      "Skipping entity\n",
      "Skipping entity\n",
      "Skipping entity\n",
      "Skipping entity\n",
      "Skipping entity\n"
     ]
    },
    {
     "name": "stderr",
     "output_type": "stream",
     "text": [
      " 86%|██████████████████████████████████████████████████████████████████████████▍            | 10930/12783 [00:05<00:00, 1963.11it/s]"
     ]
    },
    {
     "name": "stdout",
     "output_type": "stream",
     "text": [
      "Skipping entity\n",
      "Skipping entity\n",
      "Skipping entity\n",
      "Skipping entity\n",
      "Skipping entity\n",
      "Skipping entity\n",
      "Skipping entity\n"
     ]
    },
    {
     "name": "stderr",
     "output_type": "stream",
     "text": [
      " 89%|█████████████████████████████████████████████████████████████████████████████▏         | 11333/12783 [00:05<00:00, 1989.88it/s]"
     ]
    },
    {
     "name": "stdout",
     "output_type": "stream",
     "text": [
      "Skipping entity\n",
      "Skipping entity\n",
      "Skipping entity\n",
      "Skipping entity\n",
      "Skipping entity\n",
      "Skipping entity\n",
      "Skipping entity\n",
      "Skipping entity\n",
      "Skipping entity\n"
     ]
    },
    {
     "name": "stderr",
     "output_type": "stream",
     "text": [
      " 93%|█████████████████████████████████████████████████████████████████████████████████▏     | 11933/12783 [00:06<00:00, 1979.55it/s]"
     ]
    },
    {
     "name": "stdout",
     "output_type": "stream",
     "text": [
      "Skipping entity\n",
      "Skipping entity\n",
      "Skipping entity\n",
      "Skipping entity\n",
      "Skipping entity\n",
      "Skipping entity\n",
      "Skipping entity\n",
      "Skipping entity"
     ]
    },
    {
     "name": "stderr",
     "output_type": "stream",
     "text": [
      " 98%|█████████████████████████████████████████████████████████████████████████████████████▎ | 12528/12783 [00:06<00:00, 1968.15it/s]"
     ]
    },
    {
     "name": "stdout",
     "output_type": "stream",
     "text": [
      "\n",
      "Skipping entity\n",
      "Skipping entity\n",
      "Skipping entity\n",
      "Skipping entity\n",
      "Skipping entity\n",
      "Skipping entity\n",
      "Skipping entity\n",
      "Skipping entity\n",
      "Skipping entity\n",
      "Skipping entity\n",
      "Skipping entity\n",
      "Skipping entity\n",
      "Skipping entity\n",
      "Skipping entity\n",
      "Skipping entity\n",
      "Skipping entity\n",
      "Skipping entity"
     ]
    },
    {
     "name": "stderr",
     "output_type": "stream",
     "text": [
      "100%|███████████████████████████████████████████████████████████████████████████████████████| 12783/12783 [00:06<00:00, 1907.98it/s]\n"
     ]
    },
    {
     "name": "stdout",
     "output_type": "stream",
     "text": [
      "\n",
      "[i] Saving to output directory: output\n",
      "[i] Using CPU\n",
      "\u001b[1m\n",
      "=========================== Initializing pipeline ===========================\u001b[0m\n",
      "[+] Initialized pipeline\n",
      "\u001b[1m\n",
      "============================= Training pipeline =============================\u001b[0m\n",
      "[i] Pipeline: ['tok2vec', 'ner']\n",
      "[i] Initial learn rate: 0.001\n",
      "E    #       LOSS TOK2VEC  LOSS NER  ENTS_F  ENTS_P  ENTS_R  SCORE \n",
      "---  ------  ------------  --------  ------  ------  ------  ------\n",
      "  0       0          0.00     30.33    0.00    0.00    0.00    0.00\n",
      "  0     200         82.57   2399.29   72.75   81.02   66.02    0.73\n",
      "  0     400         70.26   1252.15   84.67   80.48   89.31    0.85\n",
      "  0     600         67.85   1249.39   87.50   82.34   93.36    0.88\n",
      "  0     800         77.50   1357.19   88.66   83.07   95.05    0.89\n",
      "  0    1000         78.73   1593.03   90.27   85.48   95.63    0.90\n",
      "  0    1200         87.31   1657.41   91.23   87.40   95.41    0.91\n",
      "  0    1400        106.24   1984.89   92.21   87.83   97.05    0.92\n",
      "  0    1600        120.91   2306.28   92.28   87.68   97.39    0.92\n",
      "  1    1800        132.43   2571.55   92.95   88.57   97.78    0.93\n",
      "  1    2000        191.49   2965.04   93.69   90.48   97.14    0.94\n",
      "  1    2200        193.99   3481.58   94.22   91.32   97.30    0.94\n",
      "  2    2400        269.95   3510.77   94.48   91.17   98.05    0.94\n",
      "  2    2600        303.68   3647.88   95.52   93.56   97.57    0.96\n",
      "  3    2800        365.85   3183.69   95.68   92.94   98.59    0.96\n",
      "  3    3000        330.40   3043.20   95.90   93.21   98.75    0.96\n",
      "  4    3200        384.49   2736.39   96.63   95.08   98.23    0.97\n",
      "  4    3400        473.00   2735.89   96.73   94.95   98.58    0.97\n",
      "  5    3600        379.31   2359.73   97.15   95.89   98.44    0.97\n",
      "  5    3800        450.76   2438.79   97.27   95.57   99.04    0.97\n",
      "  6    4000        464.35   2158.45   97.69   96.87   98.54    0.98\n",
      "  6    4200        495.17   2126.60   97.76   96.69   98.86    0.98\n",
      "  7    4400        531.73   1857.60   97.87   96.63   99.14    0.98\n",
      "  7    4600        544.22   1925.42   98.13   97.67   98.61    0.98\n",
      "  8    4800        735.80   1652.66   98.16   97.26   99.09    0.98\n",
      "  8    5000        791.54   1703.68   98.54   97.94   99.15    0.99\n",
      "  9    5200        565.64   1567.36   98.60   98.04   99.17    0.99\n",
      "  9    5400        578.31   1577.25   98.72   98.10   99.35    0.99\n",
      " 10    5600        598.08   1420.64   98.51   97.43   99.63    0.99\n",
      " 10    5800        582.69   1397.03   98.85   98.30   99.40    0.99\n",
      " 11    6000        606.17   1290.09   98.89   98.36   99.43    0.99\n",
      " 11    6200        631.45   1291.78   99.08   98.85   99.32    0.99\n",
      " 12    6400        666.81   1238.94   99.00   98.52   99.48    0.99\n",
      " 12    6600        603.01   1160.35   99.14   99.16   99.13    0.99\n",
      " 13    6800        686.82   1136.64   99.21   98.94   99.48    0.99\n",
      " 13    7000        663.18   1113.05   99.25   99.35   99.15    0.99\n",
      " 14    7200        652.95   1040.49   99.42   99.16   99.68    0.99\n",
      " 14    7400        691.09   1047.12   99.25   98.79   99.72    0.99\n",
      " 15    7600        677.61    954.26   99.33   98.90   99.76    0.99\n",
      " 15    7800        683.17    919.07   99.46   99.26   99.66    0.99\n",
      " 16    8000        744.18    910.36   99.39   99.04   99.74    0.99\n",
      " 16    8200        758.41    874.98   99.29   98.81   99.79    0.99\n",
      " 17    8400        649.73    854.38   99.55   99.49   99.61    1.00\n",
      " 17    8600        701.60    819.40   99.54   99.35   99.74    1.00\n",
      " 18    8800        737.90    828.76   99.59   99.40   99.77    1.00\n",
      " 18    9000        687.72    780.85   99.42   99.03   99.82    0.99\n",
      " 19    9200        745.41    792.68   99.47   99.18   99.76    0.99\n",
      " 19    9400        721.39    759.22   99.54   99.29   99.78    1.00\n",
      " 20    9600        719.42    727.95   99.39   99.06   99.71    0.99\n",
      " 20    9800        882.78    767.07   99.66   99.65   99.67    1.00\n",
      " 21   10000        728.99    731.64   99.56   99.41   99.72    1.00\n",
      " 21   10200        819.72    672.25   99.66   99.64   99.68    1.00\n",
      " 22   10400        792.30    690.25   99.70   99.72   99.67    1.00\n",
      " 22   10600        786.07    633.17   99.63   99.40   99.86    1.00\n",
      " 23   10800        693.78    665.72   99.67   99.53   99.81    1.00\n",
      " 23   11000        853.01    662.30   99.65   99.41   99.89    1.00\n",
      " 24   11200        793.61    645.68   99.66   99.45   99.86    1.00\n",
      " 24   11400        856.17    615.63   99.72   99.63   99.80    1.00\n",
      " 25   11600        884.06    626.87   99.73   99.71   99.75    1.00\n",
      " 25   11800        920.81    584.69   99.75   99.81   99.70    1.00\n",
      " 26   12000        824.19    630.49   99.72   99.79   99.65    1.00\n",
      " 26   12200        865.75    564.96   99.72   99.63   99.82    1.00\n",
      " 27   12400       1034.85    632.18   99.72   99.76   99.68    1.00\n",
      " 27   12600        869.25    601.42   99.78   99.75   99.81    1.00\n",
      " 28   12800        805.87    543.87   99.75   99.62   99.89    1.00\n",
      " 28   13000        861.20    523.84   99.74   99.58   99.90    1.00\n",
      " 29   13200        861.37    579.30   99.76   99.66   99.86    1.00\n",
      " 29   13400        947.56    551.80   99.76   99.66   99.86    1.00\n",
      " 30   13600        890.70    552.44   99.68   99.79   99.58    1.00\n",
      " 30   13800        803.67    478.31   99.77   99.81   99.73    1.00\n",
      " 31   14000        828.60    508.30   99.80   99.84   99.76    1.00\n",
      " 31   14200        954.97    492.78   99.75   99.73   99.77    1.00\n",
      " 32   14400       1099.48    508.33   99.74   99.58   99.90    1.00\n",
      " 32   14600       1137.62    446.56   99.79   99.83   99.76    1.00\n",
      " 33   14800        997.67    569.29   99.82   99.69   99.94    1.00\n",
      " 33   15000        924.76    460.08   99.81   99.76   99.86    1.00\n",
      " 34   15200       1082.53    526.58   99.79   99.83   99.74    1.00\n",
      " 34   15400        935.14    462.58   99.81   99.76   99.86    1.00\n",
      " 35   15600        945.89    488.25   99.85   99.80   99.90    1.00\n",
      " 35   15800        952.64    425.03   99.79   99.75   99.84    1.00\n",
      " 36   16000        988.03    524.23   99.88   99.83   99.92    1.00\n",
      " 36   16200        908.53    425.36   99.77   99.70   99.85    1.00\n",
      " 37   16400       1101.73    471.43   99.87   99.82   99.93    1.00\n",
      " 37   16600       1078.06    420.31   99.82   99.79   99.85    1.00\n",
      " 37   16800       1012.28    445.48   99.82   99.66   99.98    1.00\n",
      " 38   17000       1197.22    387.59   99.78   99.68   99.89    1.00\n",
      " 38   17200       1507.46    476.19   99.87   99.81   99.92    1.00\n",
      " 39   17400       1175.64    439.56   99.81   99.67   99.94    1.00\n",
      " 39   17600       1157.47    437.52   99.80   99.65   99.95    1.00\n",
      "[+] Saved pipeline to output directory\n",
      "output\\model-last\n",
      "\n",
      "Total keywords:  375\n",
      "List of Keywords:\n",
      "\n",
      " ['cheese', 'chicken', 'milk', 'butter', 'cream', 'fruit', 'rice', 'water', 'garlic', 'bread', 'sugar', 'salt', 'chocolate', 'fish', 'beef', 'yogurt', 'almond milk', 'greens', 'granola', 'nuts', 'chia seeds', 'onions', 'apples', 'peanut butter', 'squash', 'soda', 'flour', 'garlic powder', 'buttermilk', 'potatoes', 'cottage cheese', 'sour cream', 'turkey', 'beans', 'cream cheese', 'bagel', 'pretzels', 'celery', 'white wine', 'margarine', 'whipped cream', 'ice cream', 'pineapple', 'whipped topping', 'plantains', 'veal', 'mustard', 'corned beef', 'rye', 'fried chicken', 'gravy', 'tuna', 'vegetables', 'eggs', 'rotisserie chicken', 'hot dogs', 'crackers', 'dips', 'meats', 'frozen entrees', 'bacon', 'pasta', 'pizza', 'potato chips', 'avocados', 'pork', 'sunflower seeds', 'lentils', 'lean fish', 'cauliflower', 'asparagus', 'almonds', 'cooked fish', 'honey', 'kimchi', 'herbs', 'dates', 'scallops', 'yuzu', 'corn syrup', 'baking soda', 'molasses', 'yeast', 'cornmeal', 'vinegar', 'parsley', 'worcestershire sauce', 'mushrooms', 'broth', 'peppers', 'oats', 'guava', 'coconut', 'cheesecake', 'cinnamon', 'muffin', 'pies', 'tomato sauce', 'pickles', 'goat', 'lamb', 'seafood', 'olives', 'baking powder', 'sesame seeds', 'raspberries', 'cornstarch', 'hot sauce', 'grits', 'chives', 'coconut milk', 'tamarind', 'tomatoes', 'cumin', 'chili powder', 'onion powder', 'black pepper', 'pie crust', 'cooked rice', 'nutmeg', 'peas', 'refried beans', 'bananas', 'okra', 'cabbage', 'syrup', 'juice concentrates', 'basil', 'fruits', 'horseradish', 'lettuce', 'pesto', 'soy milk', 'hoisin sauce', 'sesame oil', 'peanuts', 'ham', 'bacon bits', 'chutney', 'sun dried tomatoes', 'sausage', 'coffee', 'pasta salad', 'cereal', 'grapes', 'cashews', 'tea', 'pudding', 'coconut cream', 'coconut water', 'apple juice', 'fruit cocktail', 'walnuts', 'dough', 'roasted red peppers', 'whole wheat bread', 'thyme', 'mayonnaise', 'oregano', 'leftovers', 'strawberries', 'berries', 'coleslaw', 'cilantro', 'guacamole', 'tomato paste', 'canola oil', 'mung bean', 'lemon juice', 'ghee', 'avocado oil', 'almond oil', 'grapeseed oil', 'spelt', 'lime juice', 'pure vanilla extract', 'butter flavor', 'string cheese', 'salsa', 'puff pastry', 'biscuits', 'orange juice', 'vegetable soup', 'caviar', 'pine nuts', 'coconut oil', 'quail', 'kefir', 'cookie dough', 'base', 'meat products', 'chicken parts', 'cornish hens', 'canned chicken', 'fatty fish', 'miso', 'barley', 'whole wheat flour', 'cream pies', 'quiche', 'sugar substitutes', 'cookies', 'potato salad', 'brussels sprouts', 'cherry tomatoes', 'taro', 'aioli', 'salami', 'prosciutto', 'chocolate syrup', 'pectin', 'tortillas', 'rice milk', 'coconuts', 'turkey bacon', 'black bean sauce', 'tofu', 'oyster sauce', 'rosemary', 'powdered milk', 'popcorn', 'almond butter', 'cashew butter', 'hummus', 'jerky', 'kohlrabi', 'cantaloupe', 'farro', 'lemongrass', 'canadian bacon', 'pecans', 'mint', 'hot peppers', 'swiss chard', 'cranberry sauce', 'pate', 'buckwheat', 'cheese curds', 'bratwurst', 'bulgur', 'eggplant', 'coconut flour', 'kale', 'zucchini', 'cherries', 'polenta', 'balsamic vinegar', 'anchovies', 'arugula', 'oils', 'pumpkin seeds', 'flaxseed', 'herring', 'coffee creamer', 'apple cider vinegar', 'ricotta', 'pistachios', 'beets', 'sausages', 'venison', 'leeks', 'rabbit', 'pastrami', 'chicken salad', 'dinners', 'goose', 'applesauce', 'capon', 'blueberries', 'quinoa', 'cucumbers', 'red wine', 'canned goods', 'croutons', 'soy flour', 'cooked pasta', 'edamame', 'casseroles', 'fruit pies', 'tamarind paste', 'nectar', 'duck fat', 'apricots', 'pomegranate', 'cranberries', 'cherimoya', 'kiwi fruit', 'honeydew', 'tapenade', 'bamboo shoots', 'millet', 'beans and peas', 'radishes', 'rhubarb', 'bok choy', 'jicama', 'turnips', 'melons', 'pork rinds', 'squid', 'tempeh', 'marinades', 'capers', 'barbecue sauce', 'chorizo', 'apple cider', 'tahini', 'egg salad', 'cinnamon rolls', 'ham salad', 'nacho cheese', 'pork roll', 'macadamias', 'bacon grease', 'baby carrots', 'celery root', 'spaghetti sauce', 'sunflower oil', 'almond extract', 'lemon extract', 'carrot juice', 'bean sprouts', 'macaroons', 'spaghetti squash', 'vegetable juice', 'marinated vegetables', 'teff', 'garam masala', 'fresh pasta', 'ginger root', 'breadcrumbs', 'pimento cheese', 'cooking wine', 'yuzu juice', 'radicchio', 'egg dishes', 'lobster tails', 'fruit cake', 'citrus fruit', 'watermelon', 'rutabagas', 'marshmallows', 'seafood salads', 'amaranth', 'kumquats', 'relish', 'prickly pear', 'cinnamon extract', 'crab legs', 'gelatin', 'duckling', 'nut oils', 'pumpkins', 'salad dressings', 'formula', 'soup mixes', 'bison', 'coconut flavor', 'star fruit', 'sorghum', 'doughnuts', 'pheasant', 'giblets', 'turducken', 'crab meat', 'shortening', 'ice pops', 'salad dressing', 'quark', 'hard liquors', 'egg substitutes', 'dry egg noodles', 'toaster pastries', 'seasoning blends', 'frying oil'] \n",
      "\n",
      "\n"
     ]
    },
    {
     "name": "stdout",
     "output_type": "stream",
     "text": [
      "[[37  7]\n",
      " [ 3 36]]\n",
      "              precision    recall  f1-score   support\n",
      "\n",
      "           1       0.93      0.84      0.88        44\n",
      "           0       0.84      0.92      0.88        39\n",
      "\n",
      "    accuracy                           0.88        83\n",
      "   macro avg       0.88      0.88      0.88        83\n",
      "weighted avg       0.88      0.88      0.88        83\n",
      "\n",
      "Total keywords:  385\n",
      "Total Tweets:  12783\n",
      "List of Keywords:\n",
      "\n",
      " ['cheese', 'chicken', 'milk', 'butter', 'cream', 'fruit', 'rice', 'water', 'garlic', 'bread', 'sugar', 'salt', 'chocolate', 'fish', 'beef', 'yogurt', 'almond milk', 'greens', 'granola', 'nuts', 'chia seeds', 'onions', 'apples', 'peanut butter', 'squash', 'soda', 'flour', 'garlic powder', 'buttermilk', 'potatoes', 'cottage cheese', 'sour cream', 'turkey', 'beans', 'cream cheese', 'bagel', 'pretzels', 'celery', 'white wine', 'margarine', 'whipped cream', 'ice cream', 'pineapple', 'whipped topping', 'plantains', 'veal', 'mustard', 'corned beef', 'rye', 'fried chicken', 'gravy', 'tuna', 'vegetables', 'eggs', 'rotisserie chicken', 'hot dogs', 'crackers', 'dips', 'meats', 'frozen entrees', 'bacon', 'pasta', 'pizza', 'potato chips', 'avocados', 'pork', 'sunflower seeds', 'lentils', 'lean fish', 'cauliflower', 'asparagus', 'almonds', 'cooked fish', 'honey', 'kimchi', 'herbs', 'dates', 'scallops', 'yuzu', 'corn syrup', 'baking soda', 'molasses', 'yeast', 'cornmeal', 'vinegar', 'parsley', 'worcestershire sauce', 'mushrooms', 'broth', 'peppers', 'oats', 'guava', 'coconut', 'cheesecake', 'cinnamon', 'muffin', 'pies', 'tomato sauce', 'pickles', 'goat', 'lamb', 'seafood', 'olives', 'baking powder', 'sesame seeds', 'raspberries', 'cornstarch', 'hot sauce', 'grits', 'chives', 'coconut milk', 'tamarind', 'tomatoes', 'cumin', 'chili powder', 'onion powder', 'black pepper', 'pie crust', 'cooked rice', 'nutmeg', 'peas', 'refried beans', 'bananas', 'okra', 'cabbage', 'syrup', 'juice concentrates', 'basil', 'fruits', 'horseradish', 'lettuce', 'pesto', 'soy milk', 'hoisin sauce', 'sesame oil', 'peanuts', 'ham', 'bacon bits', 'chutney', 'sun dried tomatoes', 'sausage', 'coffee', 'pasta salad', 'cereal', 'grapes', 'cashews', 'tea', 'pudding', 'coconut cream', 'coconut water', 'apple juice', 'fruit cocktail', 'walnuts', 'dough', 'roasted red peppers', 'whole wheat bread', 'thyme', 'mayonnaise', 'oregano', 'leftovers', 'strawberries', 'berries', 'coleslaw', 'cilantro', 'guacamole', 'tomato paste', 'canola oil', 'mung bean', 'lemon juice', 'ghee', 'avocado oil', 'almond oil', 'grapeseed oil', 'spelt', 'lime juice', 'pure vanilla extract', 'butter flavor', 'string cheese', 'salsa', 'puff pastry', 'biscuits', 'orange juice', 'vegetable soup', 'caviar', 'pine nuts', 'coconut oil', 'quail', 'kefir', 'cookie dough', 'base', 'meat products', 'chicken parts', 'cornish hens', 'canned chicken', 'fatty fish', 'miso', 'barley', 'whole wheat flour', 'cream pies', 'quiche', 'sugar substitutes', 'cookies', 'potato salad', 'brussels sprouts', 'cherry tomatoes', 'taro', 'aioli', 'salami', 'prosciutto', 'chocolate syrup', 'pectin', 'tortillas', 'rice milk', 'coconuts', 'turkey bacon', 'black bean sauce', 'tofu', 'oyster sauce', 'rosemary', 'powdered milk', 'popcorn', 'almond butter', 'cashew butter', 'hummus', 'jerky', 'kohlrabi', 'cantaloupe', 'farro', 'lemongrass', 'canadian bacon', 'pecans', 'mint', 'hot peppers', 'swiss chard', 'cranberry sauce', 'pate', 'buckwheat', 'cheese curds', 'bratwurst', 'bulgur', 'eggplant', 'coconut flour', 'kale', 'zucchini', 'cherries', 'polenta', 'balsamic vinegar', 'anchovies', 'arugula', 'oils', 'pumpkin seeds', 'flaxseed', 'herring', 'coffee creamer', 'apple cider vinegar', 'ricotta', 'pistachios', 'beets', 'sausages', 'venison', 'leeks', 'rabbit', 'pastrami', 'chicken salad', 'dinners', 'goose', 'applesauce', 'capon', 'blueberries', 'quinoa', 'cucumbers', 'red wine', 'canned goods', 'croutons', 'soy flour', 'cooked pasta', 'edamame', 'casseroles', 'fruit pies', 'tamarind paste', 'nectar', 'duck fat', 'apricots', 'pomegranate', 'cranberries', 'cherimoya', 'kiwi fruit', 'honeydew', 'tapenade', 'bamboo shoots', 'millet', 'beans and peas', 'radishes', 'rhubarb', 'bok choy', 'jicama', 'turnips', 'melons', 'pork rinds', 'squid', 'tempeh', 'marinades', 'capers', 'barbecue sauce', 'chorizo', 'apple cider', 'tahini', 'egg salad', 'cinnamon rolls', 'ham salad', 'nacho cheese', 'pork roll', 'macadamias', 'bacon grease', 'baby carrots', 'celery root', 'spaghetti sauce', 'sunflower oil', 'almond extract', 'lemon extract', 'carrot juice', 'bean sprouts', 'macaroons', 'spaghetti squash', 'vegetable juice', 'marinated vegetables', 'teff', 'garam masala', 'fresh pasta', 'ginger root', 'breadcrumbs', 'pimento cheese', 'cooking wine', 'yuzu juice', 'radicchio', 'egg dishes', 'lobster tails', 'fruit cake', 'citrus fruit', 'watermelon', 'rutabagas', 'marshmallows', 'seafood salads', 'amaranth', 'kumquats', 'relish', 'prickly pear', 'cinnamon extract', 'crab legs', 'gelatin', 'duckling', 'nut oils', 'pumpkins', 'salad dressings', 'formula', 'soup mixes', 'bison', 'coconut flavor', 'star fruit', 'sorghum', 'doughnuts', 'pheasant', 'giblets', 'turducken', 'crab meat', 'shortening', 'ice pops', 'salad dressing', 'quark', 'hard liquors', 'egg substitutes', 'dry egg noodles', 'toaster pastries', 'seasoning blends', 'frying oil', 'eggnog', 'variety meats', 'tapiocas', 'frozen potato products', 'frozen pretzels', 'sauce mixes', 'pudding mixes', 'bagged greens', 'vegan cheddar cheese', 'kugel'] \n",
      "\n",
      "\n",
      "~~~~~~~~~~~~~~~~~14~~~~~~~~~~~~~~~~~\n",
      "Model loaded...\n"
     ]
    },
    {
     "name": "stderr",
     "output_type": "stream",
     "text": [
      "  4%|███▌                                                                                     | 500/12355 [00:00<00:06, 1697.67it/s]"
     ]
    },
    {
     "name": "stdout",
     "output_type": "stream",
     "text": [
      "Skipping entity\n",
      "Skipping entity\n",
      "Skipping entity\n",
      "Skipping entity\n",
      "Skipping entity\n",
      "Skipping entity\n",
      "Skipping entity\n",
      "Skipping entity\n",
      "Skipping entity\n"
     ]
    },
    {
     "name": "stderr",
     "output_type": "stream",
     "text": [
      "  8%|███████▎                                                                                | 1032/12355 [00:00<00:06, 1768.11it/s]"
     ]
    },
    {
     "name": "stdout",
     "output_type": "stream",
     "text": [
      "Skipping entity\n",
      "Skipping entity\n"
     ]
    },
    {
     "name": "stderr",
     "output_type": "stream",
     "text": [
      " 13%|███████████▏                                                                            | 1572/12355 [00:00<00:06, 1775.22it/s]"
     ]
    },
    {
     "name": "stdout",
     "output_type": "stream",
     "text": [
      "Skipping entity\n",
      "Skipping entity\n",
      "Skipping entity\n",
      "Skipping entity\n"
     ]
    },
    {
     "name": "stderr",
     "output_type": "stream",
     "text": [
      " 17%|███████████████▏                                                                        | 2132/12355 [00:01<00:05, 1845.22it/s]"
     ]
    },
    {
     "name": "stdout",
     "output_type": "stream",
     "text": [
      "Skipping entity\n",
      "Skipping entity\n",
      "Skipping entity\n",
      "Skipping entity\n",
      "Skipping entity\n",
      "Skipping entity\n",
      "Skipping entity\n",
      "Skipping entity\n",
      "Skipping entity\n",
      "Skipping entity\n"
     ]
    },
    {
     "name": "stderr",
     "output_type": "stream",
     "text": [
      " 20%|█████████████████▉                                                                      | 2512/12355 [00:01<00:05, 1869.07it/s]"
     ]
    },
    {
     "name": "stdout",
     "output_type": "stream",
     "text": [
      "Skipping entity\n",
      "Skipping entity\n"
     ]
    },
    {
     "name": "stderr",
     "output_type": "stream",
     "text": [
      " 27%|███████████████████████▎                                                                | 3275/12355 [00:01<00:04, 1905.12it/s]"
     ]
    },
    {
     "name": "stdout",
     "output_type": "stream",
     "text": [
      "Skipping entity\n",
      "Skipping entity\n",
      "Skipping entity\n",
      "Skipping entity\n",
      "Skipping entity\n",
      "Skipping entity\n",
      "Skipping entity\n",
      "Skipping entity\n",
      "Skipping entity\n",
      "Skipping entity\n",
      "Skipping entity\n",
      "Skipping entity\n"
     ]
    },
    {
     "name": "stderr",
     "output_type": "stream",
     "text": [
      " 31%|███████████████████████████▍                                                            | 3857/12355 [00:02<00:04, 1903.03it/s]"
     ]
    },
    {
     "name": "stdout",
     "output_type": "stream",
     "text": [
      "Skipping entity\n",
      "Skipping entity\n",
      "Skipping entity\n",
      "Skipping entity\n",
      "Skipping entity\n",
      "Skipping entity\n"
     ]
    },
    {
     "name": "stderr",
     "output_type": "stream",
     "text": [
      " 36%|███████████████████████████████▋                                                        | 4451/12355 [00:02<00:04, 1940.25it/s]"
     ]
    },
    {
     "name": "stdout",
     "output_type": "stream",
     "text": [
      "Skipping entity\n",
      "Skipping entity\n",
      "Skipping entity\n",
      "Skipping entity\n",
      "Skipping entity\n",
      "Skipping entity\n"
     ]
    },
    {
     "name": "stderr",
     "output_type": "stream",
     "text": [
      " 41%|████████████████████████████████████                                                    | 5059/12355 [00:02<00:03, 1992.75it/s]"
     ]
    },
    {
     "name": "stdout",
     "output_type": "stream",
     "text": [
      "Skipping entity\n",
      "Skipping entity\n",
      "Skipping entity\n",
      "Skipping entity\n",
      "Skipping entity\n",
      "Skipping entity\n"
     ]
    },
    {
     "name": "stderr",
     "output_type": "stream",
     "text": [
      " 44%|██████████████████████████████████████▉                                                 | 5458/12355 [00:02<00:03, 1978.35it/s]"
     ]
    },
    {
     "name": "stdout",
     "output_type": "stream",
     "text": [
      "Skipping entity\n",
      "Skipping entity\n",
      "Skipping entity\n",
      "Skipping entity\n",
      "Skipping entity\n",
      "Skipping entity\n",
      "Skipping entity\n",
      "Skipping entity\n"
     ]
    },
    {
     "name": "stderr",
     "output_type": "stream",
     "text": [
      " 51%|████████████████████████████████████████████▋                                           | 6267/12355 [00:03<00:03, 2003.31it/s]"
     ]
    },
    {
     "name": "stdout",
     "output_type": "stream",
     "text": [
      "Skipping entity\n",
      "Skipping entity\n",
      "Skipping entity\n",
      "Skipping entity\n",
      "Skipping entity\n",
      "Skipping entity\n",
      "Skipping entity\n",
      "Skipping entity\n",
      "Skipping entity\n"
     ]
    },
    {
     "name": "stderr",
     "output_type": "stream",
     "text": [
      " 56%|████████████████████████████████████████████████▉                                       | 6879/12355 [00:03<00:02, 2028.00it/s]"
     ]
    },
    {
     "name": "stdout",
     "output_type": "stream",
     "text": [
      "Skipping entity\n",
      "Skipping entity\n",
      "Skipping entity\n",
      "Skipping entity\n",
      "Skipping entity\n",
      "Skipping entity\n",
      "Skipping entity\n",
      "Skipping entity\n",
      "Skipping entity\n",
      "Skipping entity\n",
      "Skipping entity\n"
     ]
    },
    {
     "name": "stderr",
     "output_type": "stream",
     "text": [
      " 59%|███████████████████████████████████████████████████▉                                    | 7285/12355 [00:03<00:02, 2014.85it/s]"
     ]
    },
    {
     "name": "stdout",
     "output_type": "stream",
     "text": [
      "Skipping entity\n",
      "Skipping entity\n",
      "Skipping entity\n",
      "Skipping entity\n",
      "Skipping entity\n",
      "Skipping entity\n"
     ]
    },
    {
     "name": "stderr",
     "output_type": "stream",
     "text": [
      " 66%|█████████████████████████████████████████████████████████▉                              | 8133/12355 [00:04<00:02, 2065.28it/s]"
     ]
    },
    {
     "name": "stdout",
     "output_type": "stream",
     "text": [
      "Skipping entity\n",
      "Skipping entity\n",
      "Skipping entity\n",
      "Skipping entity\n",
      "Skipping entity\n",
      "Skipping entity\n",
      "Skipping entity\n",
      "Skipping entity\n",
      "Skipping entity\n",
      "Skipping entity\n",
      "Skipping entity\n",
      "Skipping entity\n",
      "Skipping entity\n"
     ]
    },
    {
     "name": "stderr",
     "output_type": "stream",
     "text": [
      " 71%|██████████████████████████████████████████████████████████████▍                         | 8758/12355 [00:04<00:01, 2058.01it/s]"
     ]
    },
    {
     "name": "stdout",
     "output_type": "stream",
     "text": [
      "Skipping entity\n",
      "Skipping entity\n",
      "Skipping entity"
     ]
    },
    {
     "name": "stderr",
     "output_type": "stream",
     "text": [
      " 76%|██████████████████████████████████████████████████████████████████▊                     | 9372/12355 [00:04<00:01, 2015.24it/s]"
     ]
    },
    {
     "name": "stdout",
     "output_type": "stream",
     "text": [
      "\n",
      "Skipping entity\n",
      "Skipping entity\n",
      "Skipping entity\n",
      "Skipping entity\n",
      "Skipping entity\n",
      "Skipping entity\n",
      "Skipping entity\n",
      "Skipping entity\n",
      "Skipping entity\n"
     ]
    },
    {
     "name": "stderr",
     "output_type": "stream",
     "text": [
      " 81%|███████████████████████████████████████████████████████████████████████                 | 9980/12355 [00:05<00:01, 2013.93it/s]"
     ]
    },
    {
     "name": "stdout",
     "output_type": "stream",
     "text": [
      "Skipping entity\n",
      "Skipping entity\n",
      "Skipping entity\n",
      "Skipping entity\n",
      "Skipping entity\n",
      "Skipping entity\n"
     ]
    },
    {
     "name": "stderr",
     "output_type": "stream",
     "text": [
      " 86%|██████████████████████████████████████████████████████████████████████████▌            | 10582/12355 [00:05<00:00, 1982.53it/s]"
     ]
    },
    {
     "name": "stdout",
     "output_type": "stream",
     "text": [
      "Skipping entity\n",
      "Skipping entity\n",
      "Skipping entity\n",
      "Skipping entity\n",
      "Skipping entity\n",
      "Skipping entity\n",
      "Skipping entity\n",
      "Skipping entity\n",
      "Skipping entity\n"
     ]
    },
    {
     "name": "stderr",
     "output_type": "stream",
     "text": [
      " 91%|██████████████████████████████████████████████████████████████████████████████▊        | 11198/12355 [00:05<00:00, 2026.57it/s]"
     ]
    },
    {
     "name": "stdout",
     "output_type": "stream",
     "text": [
      "Skipping entity\n",
      "Skipping entity\n",
      "Skipping entity\n",
      "Skipping entity\n",
      "Skipping entity\n",
      "Skipping entity\n",
      "Skipping entity\n"
     ]
    },
    {
     "name": "stderr",
     "output_type": "stream",
     "text": [
      " 94%|█████████████████████████████████████████████████████████████████████████████████▋     | 11605/12355 [00:05<00:00, 2013.55it/s]"
     ]
    },
    {
     "name": "stdout",
     "output_type": "stream",
     "text": [
      "Skipping entity\n",
      "Skipping entity\n",
      "Skipping entity\n",
      "Skipping entity\n",
      "Skipping entity\n",
      "Skipping entity\n",
      "Skipping entity\n",
      "Skipping entity\n"
     ]
    },
    {
     "name": "stderr",
     "output_type": "stream",
     "text": [
      "100%|███████████████████████████████████████████████████████████████████████████████████████| 12355/12355 [00:06<00:00, 1952.46it/s]"
     ]
    },
    {
     "name": "stdout",
     "output_type": "stream",
     "text": [
      "Skipping entity\n",
      "Skipping entity\n",
      "Skipping entity\n",
      "Skipping entity\n",
      "Skipping entity\n",
      "Skipping entity\n",
      "Skipping entity\n",
      "Skipping entity\n",
      "Skipping entity\n",
      "Skipping entity\n",
      "Skipping entity\n"
     ]
    },
    {
     "name": "stderr",
     "output_type": "stream",
     "text": [
      "\n"
     ]
    },
    {
     "name": "stdout",
     "output_type": "stream",
     "text": [
      "[i] Saving to output directory: output\n",
      "[i] Using CPU\n",
      "\u001b[1m\n",
      "=========================== Initializing pipeline ===========================\u001b[0m\n",
      "[+] Initialized pipeline\n",
      "\u001b[1m\n",
      "============================= Training pipeline =============================\u001b[0m\n",
      "[i] Pipeline: ['tok2vec', 'ner']\n",
      "[i] Initial learn rate: 0.001\n",
      "E    #       LOSS TOK2VEC  LOSS NER  ENTS_F  ENTS_P  ENTS_R  SCORE \n",
      "---  ------  ------------  --------  ------  ------  ------  ------\n",
      "  0       0          0.00     38.50    0.00    0.00    0.00    0.00\n",
      "  0     200         72.30   2485.37   74.89   76.97   72.93    0.75\n",
      "  0     400         66.15   1302.31   85.83   81.75   90.33    0.86\n",
      "  0     600         69.20   1264.43   87.27   82.45   92.68    0.87\n",
      "  0     800         78.99   1260.53   90.43   85.88   95.49    0.90\n",
      "  0    1000         80.60   1535.29   91.60   87.46   96.15    0.92\n",
      "  0    1200         76.54   1666.45   92.43   87.77   97.61    0.92\n",
      "  0    1400        104.16   1734.92   93.20   89.37   97.37    0.93\n",
      "  0    1600        129.37   2146.94   93.45   89.83   97.38    0.93\n",
      "  1    1800        157.49   2347.43   93.72   89.85   97.95    0.94\n",
      "  1    2000        164.65   2564.27   94.32   91.45   97.37    0.94\n",
      "  1    2200        198.05   3387.96   94.89   91.94   98.03    0.95\n",
      "  2    2400        253.09   3346.88   95.55   93.09   98.15    0.96\n",
      "  2    2600        278.22   3296.20   95.91   93.73   98.20    0.96\n",
      "  3    2800        333.39   2701.44   96.15   93.50   98.96    0.96\n",
      "  4    3000        328.34   2934.75   96.72   94.71   98.82    0.97\n",
      "  4    3200        389.14   2566.30   97.14   95.55   98.78    0.97\n",
      "  5    3400        376.87   2346.32   97.57   96.26   98.92    0.98\n",
      "  5    3600        468.00   2053.18   97.47   96.06   98.92    0.97\n",
      "  6    3800        436.45   2158.21   97.60   95.96   99.30    0.98\n",
      "  6    4000        464.04   1960.85   98.20   97.59   98.83    0.98\n",
      "  7    4200        505.60   1864.14   98.11   97.77   98.46    0.98\n",
      "  7    4400        492.24   1686.64   98.16   97.01   99.33    0.98\n",
      "  8    4600        479.86   1703.44   98.52   98.05   99.00    0.99\n",
      "  8    4800        529.69   1566.58   98.58   97.86   99.32    0.99\n",
      "  9    5000        540.95   1520.58   98.78   98.16   99.41    0.99\n",
      "  9    5200        539.88   1420.09   98.81   98.26   99.37    0.99\n",
      " 10    5400        582.76   1450.99   98.67   97.91   99.45    0.99\n",
      " 10    5600        626.34   1256.33   99.01   98.66   99.35    0.99\n",
      " 11    5800        624.95   1247.82   98.98   98.50   99.47    0.99\n",
      " 11    6000        629.46   1219.51   99.04   98.62   99.46    0.99\n",
      " 12    6200        601.10   1117.79   99.10   98.63   99.56    0.99\n",
      " 12    6400        670.25   1056.07   99.31   99.13   99.49    0.99\n",
      " 13    6600        642.31    985.31   99.12   98.57   99.68    0.99\n",
      " 13    6800        654.69   1091.66   99.31   98.94   99.68    0.99\n",
      " 14    7000        641.95    983.51   99.25   98.84   99.66    0.99\n",
      " 14    7200        700.03   1005.62   99.38   99.11   99.65    0.99\n",
      " 15    7400        618.33    921.19   99.38   99.10   99.66    0.99\n",
      " 15    7600        701.61    952.94   99.47   99.20   99.75    0.99\n",
      " 16    7800        712.98    778.86   99.56   99.40   99.71    1.00\n",
      " 16    8000        844.02    842.52   99.51   99.27   99.76    1.00\n",
      " 17    8200        605.86    736.71   99.52   99.32   99.72    1.00\n",
      " 17    8400        718.38    844.85   99.62   99.49   99.76    1.00\n",
      " 18    8600        715.02    759.66   99.34   99.00   99.68    0.99\n",
      " 18    8800        742.52    790.44   99.62   99.66   99.58    1.00\n",
      " 19    9000        728.36    676.36   99.57   99.31   99.83    1.00\n",
      " 19    9200        711.91    778.29   99.57   99.25   99.91    1.00\n",
      " 20    9400        676.94    639.81   99.67   99.64   99.70    1.00\n",
      " 20    9600        689.96    727.69   99.69   99.61   99.77    1.00\n",
      " 21    9800        672.59    597.09   99.67   99.61   99.72    1.00\n",
      " 21   10000        777.54    746.12   99.62   99.45   99.78    1.00\n",
      " 22   10200        815.29    620.20   99.63   99.61   99.65    1.00\n",
      " 22   10400        887.13    690.80   99.62   99.81   99.44    1.00\n",
      " 23   10600        772.01    531.68   99.77   99.68   99.85    1.00\n",
      " 24   10800        848.13    621.59   99.76   99.67   99.85    1.00\n",
      " 24   11000        796.31    591.47   99.75   99.65   99.85    1.00\n",
      " 25   11200        791.61    614.89   99.75   99.65   99.85    1.00\n",
      " 25   11400        768.51    543.36   99.80   99.78   99.83    1.00\n",
      " 26   11600        844.13    603.48   99.67   99.42   99.92    1.00\n",
      " 26   11800        933.32    561.78   99.80   99.75   99.85    1.00\n",
      " 27   12000        741.90    522.06   99.78   99.70   99.87    1.00\n",
      " 27   12200        787.50    523.58   99.79   99.70   99.89    1.00\n",
      " 28   12400        785.00    541.32   99.74   99.56   99.92    1.00\n",
      " 28   12600        866.01    460.81   99.75   99.71   99.79    1.00\n",
      " 29   12800       1090.24    563.58   99.81   99.73   99.90    1.00\n",
      " 29   13000       1043.65    451.93   99.74   99.69   99.80    1.00\n",
      " 30   13200        888.73    490.88   99.82   99.80   99.84    1.00\n",
      " 30   13400        877.44    502.10   99.80   99.83   99.77    1.00\n",
      " 31   13600       1003.46    469.27   99.66   99.42   99.91    1.00\n",
      " 31   13800       1163.67    496.19   99.82   99.79   99.86    1.00\n",
      " 32   14000        955.65    451.31   99.80   99.74   99.87    1.00\n",
      " 32   14200        893.20    472.75   99.84   99.76   99.92    1.00\n",
      " 33   14400       1009.59    431.61   99.79   99.76   99.81    1.00\n",
      " 33   14600       1028.32    458.39   99.83   99.78   99.88    1.00\n",
      " 34   14800       1205.90    440.51   99.83   99.86   99.81    1.00\n",
      " 34   15000       1166.80    423.28   99.82   99.78   99.87    1.00\n",
      " 35   15200        978.75    422.82   99.88   99.86   99.89    1.00\n",
      " 35   15400       1271.05    483.91   99.72   99.54   99.91    1.00\n",
      " 36   15600       1083.00    442.06   99.84   99.82   99.86    1.00\n",
      " 36   15800       1177.86    437.64   99.86   99.94   99.79    1.00\n",
      " 37   16000       1068.29    365.36   99.87   99.88   99.87    1.00\n",
      " 37   16200       1569.41    427.81   99.83   99.74   99.91    1.00\n",
      " 38   16400       1487.26    374.79   99.85   99.85   99.85    1.00\n",
      " 38   16600       1350.43    477.58   99.82   99.81   99.84    1.00\n",
      " 39   16800       1295.19    415.47   99.87   99.77   99.96    1.00\n",
      "[+] Saved pipeline to output directory\n",
      "output\\model-last\n",
      "\n",
      "Total keywords:  385\n",
      "List of Keywords:\n",
      "\n",
      " ['cheese', 'chicken', 'milk', 'butter', 'cream', 'fruit', 'rice', 'water', 'garlic', 'bread', 'sugar', 'salt', 'chocolate', 'fish', 'beef', 'yogurt', 'almond milk', 'greens', 'granola', 'nuts', 'chia seeds', 'onions', 'apples', 'peanut butter', 'squash', 'soda', 'flour', 'garlic powder', 'buttermilk', 'potatoes', 'cottage cheese', 'sour cream', 'turkey', 'beans', 'cream cheese', 'bagel', 'pretzels', 'celery', 'white wine', 'margarine', 'whipped cream', 'ice cream', 'pineapple', 'whipped topping', 'plantains', 'veal', 'mustard', 'corned beef', 'rye', 'fried chicken', 'gravy', 'tuna', 'vegetables', 'eggs', 'rotisserie chicken', 'hot dogs', 'crackers', 'dips', 'meats', 'frozen entrees', 'bacon', 'pasta', 'pizza', 'potato chips', 'avocados', 'pork', 'sunflower seeds', 'lentils', 'lean fish', 'cauliflower', 'asparagus', 'almonds', 'cooked fish', 'honey', 'kimchi', 'herbs', 'dates', 'scallops', 'yuzu', 'corn syrup', 'baking soda', 'molasses', 'yeast', 'cornmeal', 'vinegar', 'parsley', 'worcestershire sauce', 'mushrooms', 'broth', 'peppers', 'oats', 'guava', 'coconut', 'cheesecake', 'cinnamon', 'muffin', 'pies', 'tomato sauce', 'pickles', 'goat', 'lamb', 'seafood', 'olives', 'baking powder', 'sesame seeds', 'raspberries', 'cornstarch', 'hot sauce', 'grits', 'chives', 'coconut milk', 'tamarind', 'tomatoes', 'cumin', 'chili powder', 'onion powder', 'black pepper', 'pie crust', 'cooked rice', 'nutmeg', 'peas', 'refried beans', 'bananas', 'okra', 'cabbage', 'syrup', 'juice concentrates', 'basil', 'fruits', 'horseradish', 'lettuce', 'pesto', 'soy milk', 'hoisin sauce', 'sesame oil', 'peanuts', 'ham', 'bacon bits', 'chutney', 'sun dried tomatoes', 'sausage', 'coffee', 'pasta salad', 'cereal', 'grapes', 'cashews', 'tea', 'pudding', 'coconut cream', 'coconut water', 'apple juice', 'fruit cocktail', 'walnuts', 'dough', 'roasted red peppers', 'whole wheat bread', 'thyme', 'mayonnaise', 'oregano', 'leftovers', 'strawberries', 'berries', 'coleslaw', 'cilantro', 'guacamole', 'tomato paste', 'canola oil', 'mung bean', 'lemon juice', 'ghee', 'avocado oil', 'almond oil', 'grapeseed oil', 'spelt', 'lime juice', 'pure vanilla extract', 'butter flavor', 'string cheese', 'salsa', 'puff pastry', 'biscuits', 'orange juice', 'vegetable soup', 'caviar', 'pine nuts', 'coconut oil', 'quail', 'kefir', 'cookie dough', 'base', 'meat products', 'chicken parts', 'cornish hens', 'canned chicken', 'fatty fish', 'miso', 'barley', 'whole wheat flour', 'cream pies', 'quiche', 'sugar substitutes', 'cookies', 'potato salad', 'brussels sprouts', 'cherry tomatoes', 'taro', 'aioli', 'salami', 'prosciutto', 'chocolate syrup', 'pectin', 'tortillas', 'rice milk', 'coconuts', 'turkey bacon', 'black bean sauce', 'tofu', 'oyster sauce', 'rosemary', 'powdered milk', 'popcorn', 'almond butter', 'cashew butter', 'hummus', 'jerky', 'kohlrabi', 'cantaloupe', 'farro', 'lemongrass', 'canadian bacon', 'pecans', 'mint', 'hot peppers', 'swiss chard', 'cranberry sauce', 'pate', 'buckwheat', 'cheese curds', 'bratwurst', 'bulgur', 'eggplant', 'coconut flour', 'kale', 'zucchini', 'cherries', 'polenta', 'balsamic vinegar', 'anchovies', 'arugula', 'oils', 'pumpkin seeds', 'flaxseed', 'herring', 'coffee creamer', 'apple cider vinegar', 'ricotta', 'pistachios', 'beets', 'sausages', 'venison', 'leeks', 'rabbit', 'pastrami', 'chicken salad', 'dinners', 'goose', 'applesauce', 'capon', 'blueberries', 'quinoa', 'cucumbers', 'red wine', 'canned goods', 'croutons', 'soy flour', 'cooked pasta', 'edamame', 'casseroles', 'fruit pies', 'tamarind paste', 'nectar', 'duck fat', 'apricots', 'pomegranate', 'cranberries', 'cherimoya', 'kiwi fruit', 'honeydew', 'tapenade', 'bamboo shoots', 'millet', 'beans and peas', 'radishes', 'rhubarb', 'bok choy', 'jicama', 'turnips', 'melons', 'pork rinds', 'squid', 'tempeh', 'marinades', 'capers', 'barbecue sauce', 'chorizo', 'apple cider', 'tahini', 'egg salad', 'cinnamon rolls', 'ham salad', 'nacho cheese', 'pork roll', 'macadamias', 'bacon grease', 'baby carrots', 'celery root', 'spaghetti sauce', 'sunflower oil', 'almond extract', 'lemon extract', 'carrot juice', 'bean sprouts', 'macaroons', 'spaghetti squash', 'vegetable juice', 'marinated vegetables', 'teff', 'garam masala', 'fresh pasta', 'ginger root', 'breadcrumbs', 'pimento cheese', 'cooking wine', 'yuzu juice', 'radicchio', 'egg dishes', 'lobster tails', 'fruit cake', 'citrus fruit', 'watermelon', 'rutabagas', 'marshmallows', 'seafood salads', 'amaranth', 'kumquats', 'relish', 'prickly pear', 'cinnamon extract', 'crab legs', 'gelatin', 'duckling', 'nut oils', 'pumpkins', 'salad dressings', 'formula', 'soup mixes', 'bison', 'coconut flavor', 'star fruit', 'sorghum', 'doughnuts', 'pheasant', 'giblets', 'turducken', 'crab meat', 'shortening', 'ice pops', 'salad dressing', 'quark', 'hard liquors', 'egg substitutes', 'dry egg noodles', 'toaster pastries', 'seasoning blends', 'frying oil', 'eggnog', 'variety meats', 'tapiocas', 'frozen potato products', 'frozen pretzels', 'sauce mixes', 'pudding mixes', 'bagged greens', 'vegan cheddar cheese', 'kugel'] \n",
      "\n",
      "\n"
     ]
    },
    {
     "name": "stdout",
     "output_type": "stream",
     "text": [
      "[[37  7]\n",
      " [ 3 36]]\n",
      "              precision    recall  f1-score   support\n",
      "\n",
      "           1       0.93      0.84      0.88        44\n",
      "           0       0.84      0.92      0.88        39\n",
      "\n",
      "    accuracy                           0.88        83\n",
      "   macro avg       0.88      0.88      0.88        83\n",
      "weighted avg       0.88      0.88      0.88        83\n",
      "\n",
      "Total keywords:  385\n",
      "Total Tweets:  12355\n",
      "List of Keywords:\n",
      "\n",
      " ['cheese', 'chicken', 'milk', 'butter', 'cream', 'fruit', 'rice', 'water', 'garlic', 'bread', 'sugar', 'salt', 'chocolate', 'fish', 'beef', 'yogurt', 'almond milk', 'greens', 'granola', 'nuts', 'chia seeds', 'onions', 'apples', 'peanut butter', 'squash', 'soda', 'flour', 'garlic powder', 'buttermilk', 'potatoes', 'cottage cheese', 'sour cream', 'turkey', 'beans', 'cream cheese', 'bagel', 'pretzels', 'celery', 'white wine', 'margarine', 'whipped cream', 'ice cream', 'pineapple', 'whipped topping', 'plantains', 'veal', 'mustard', 'corned beef', 'rye', 'fried chicken', 'gravy', 'tuna', 'vegetables', 'eggs', 'rotisserie chicken', 'hot dogs', 'crackers', 'dips', 'meats', 'frozen entrees', 'bacon', 'pasta', 'pizza', 'potato chips', 'avocados', 'pork', 'sunflower seeds', 'lentils', 'lean fish', 'cauliflower', 'asparagus', 'almonds', 'cooked fish', 'honey', 'kimchi', 'herbs', 'dates', 'scallops', 'yuzu', 'corn syrup', 'baking soda', 'molasses', 'yeast', 'cornmeal', 'vinegar', 'parsley', 'worcestershire sauce', 'mushrooms', 'broth', 'peppers', 'oats', 'guava', 'coconut', 'cheesecake', 'cinnamon', 'muffin', 'pies', 'tomato sauce', 'pickles', 'goat', 'lamb', 'seafood', 'olives', 'baking powder', 'sesame seeds', 'raspberries', 'cornstarch', 'hot sauce', 'grits', 'chives', 'coconut milk', 'tamarind', 'tomatoes', 'cumin', 'chili powder', 'onion powder', 'black pepper', 'pie crust', 'cooked rice', 'nutmeg', 'peas', 'refried beans', 'bananas', 'okra', 'cabbage', 'syrup', 'juice concentrates', 'basil', 'fruits', 'horseradish', 'lettuce', 'pesto', 'soy milk', 'hoisin sauce', 'sesame oil', 'peanuts', 'ham', 'bacon bits', 'chutney', 'sun dried tomatoes', 'sausage', 'coffee', 'pasta salad', 'cereal', 'grapes', 'cashews', 'tea', 'pudding', 'coconut cream', 'coconut water', 'apple juice', 'fruit cocktail', 'walnuts', 'dough', 'roasted red peppers', 'whole wheat bread', 'thyme', 'mayonnaise', 'oregano', 'leftovers', 'strawberries', 'berries', 'coleslaw', 'cilantro', 'guacamole', 'tomato paste', 'canola oil', 'mung bean', 'lemon juice', 'ghee', 'avocado oil', 'almond oil', 'grapeseed oil', 'spelt', 'lime juice', 'pure vanilla extract', 'butter flavor', 'string cheese', 'salsa', 'puff pastry', 'biscuits', 'orange juice', 'vegetable soup', 'caviar', 'pine nuts', 'coconut oil', 'quail', 'kefir', 'cookie dough', 'base', 'meat products', 'chicken parts', 'cornish hens', 'canned chicken', 'fatty fish', 'miso', 'barley', 'whole wheat flour', 'cream pies', 'quiche', 'sugar substitutes', 'cookies', 'potato salad', 'brussels sprouts', 'cherry tomatoes', 'taro', 'aioli', 'salami', 'prosciutto', 'chocolate syrup', 'pectin', 'tortillas', 'rice milk', 'coconuts', 'turkey bacon', 'black bean sauce', 'tofu', 'oyster sauce', 'rosemary', 'powdered milk', 'popcorn', 'almond butter', 'cashew butter', 'hummus', 'jerky', 'kohlrabi', 'cantaloupe', 'farro', 'lemongrass', 'canadian bacon', 'pecans', 'mint', 'hot peppers', 'swiss chard', 'cranberry sauce', 'pate', 'buckwheat', 'cheese curds', 'bratwurst', 'bulgur', 'eggplant', 'coconut flour', 'kale', 'zucchini', 'cherries', 'polenta', 'balsamic vinegar', 'anchovies', 'arugula', 'oils', 'pumpkin seeds', 'flaxseed', 'herring', 'coffee creamer', 'apple cider vinegar', 'ricotta', 'pistachios', 'beets', 'sausages', 'venison', 'leeks', 'rabbit', 'pastrami', 'chicken salad', 'dinners', 'goose', 'applesauce', 'capon', 'blueberries', 'quinoa', 'cucumbers', 'red wine', 'canned goods', 'croutons', 'soy flour', 'cooked pasta', 'edamame', 'casseroles', 'fruit pies', 'tamarind paste', 'nectar', 'duck fat', 'apricots', 'pomegranate', 'cranberries', 'cherimoya', 'kiwi fruit', 'honeydew', 'tapenade', 'bamboo shoots', 'millet', 'beans and peas', 'radishes', 'rhubarb', 'bok choy', 'jicama', 'turnips', 'melons', 'pork rinds', 'squid', 'tempeh', 'marinades', 'capers', 'barbecue sauce', 'chorizo', 'apple cider', 'tahini', 'egg salad', 'cinnamon rolls', 'ham salad', 'nacho cheese', 'pork roll', 'macadamias', 'bacon grease', 'baby carrots', 'celery root', 'spaghetti sauce', 'sunflower oil', 'almond extract', 'lemon extract', 'carrot juice', 'bean sprouts', 'macaroons', 'spaghetti squash', 'vegetable juice', 'marinated vegetables', 'teff', 'garam masala', 'fresh pasta', 'ginger root', 'breadcrumbs', 'pimento cheese', 'cooking wine', 'yuzu juice', 'radicchio', 'egg dishes', 'lobster tails', 'fruit cake', 'citrus fruit', 'watermelon', 'rutabagas', 'marshmallows', 'seafood salads', 'amaranth', 'kumquats', 'relish', 'prickly pear', 'cinnamon extract', 'crab legs', 'gelatin', 'duckling', 'nut oils', 'pumpkins', 'salad dressings', 'formula', 'soup mixes', 'bison', 'coconut flavor', 'star fruit', 'sorghum', 'doughnuts', 'pheasant', 'giblets', 'turducken', 'crab meat', 'shortening', 'ice pops', 'salad dressing', 'quark', 'hard liquors', 'egg substitutes', 'dry egg noodles', 'toaster pastries', 'seasoning blends', 'frying oil', 'eggnog', 'variety meats', 'tapiocas', 'frozen potato products', 'frozen pretzels', 'sauce mixes', 'pudding mixes', 'bagged greens', 'vegan cheddar cheese', 'kugel'] \n",
      "\n",
      "\n",
      "Training Done...\n"
     ]
    }
   ],
   "source": [
    "trainModel(training_data)\n",
    "#print(keywords)  \n"
   ]
  },
  {
   "cell_type": "code",
   "execution_count": null,
   "metadata": {},
   "outputs": [
    {
     "name": "stdout",
     "output_type": "stream",
     "text": [
      "@feelsosscatterd PROPN\n",
      "BILLIE PROPN\n",
      "IS AUX\n",
      "BUTTER PROPN\n",
      "? PUNCT\n",
      "@coffeespoonie PROPN\n",
      "Green PROPN\n",
      "yogurt NOUN\n",
      "smoothie NOUN\n",
      "— PUNCT\n",
      "yogurt PROPN\n",
      "w/ PROPN\n",
      "almond PROPN\n",
      "milk NOUN\n",
      ", PUNCT\n",
      "fruit NOUN\n",
      ", PUNCT\n",
      "greens NOUN\n",
      ". PUNCT\n",
      "Blend PROPN\n",
      ". PUNCT\n",
      "Then ADV\n",
      "add VERB\n",
      "granola NOUN\n",
      ", PUNCT\n",
      "nuts NOUN\n",
      ", PUNCT\n",
      "chia ADJ\n",
      "seeds NOUN\n",
      ". PUNCT\n",
      "Smoked ADJ\n",
      "salmon NOUN\n",
      "on ADP\n",
      "sliced PROPN\n",
      "cucumber PROPN\n",
      "& CCONJ\n",
      "amp PROPN\n",
      "; PUNCT\n",
      "whole ADJ\n",
      "wheat NOUN\n",
      "toast NOUN\n",
      "w/ NOUN\n",
      "sliced VERB\n",
      "raw ADJ\n",
      "purple NOUN\n",
      "( PUNCT\n",
      "red ADJ\n",
      ") PUNCT\n",
      "onions NOUN\n",
      "& CCONJ\n",
      "amp PROPN\n",
      "; PUNCT\n",
      "a DET\n",
      "dash NOUN\n",
      "of ADP\n",
      "lemon NOUN\n",
      "pepper NOUN\n",
      ". PUNCT\n",
      "Apples NOUN\n",
      "or CCONJ\n",
      "chocolate VERB\n",
      "w/ NOUN\n",
      "peanut NOUN\n",
      "butter NOUN\n",
      ". PUNCT\n",
      "Jarred PROPN\n",
      "peaches VERB\n",
      "w/ PROPN\n",
      "yogurt PROPN\n",
      ". PUNCT\n",
      "https://t.co/t7ouQvMU8 PROPN\n",
      "m VERB\n",
      "@LuLuRoche PROPN\n",
      "Or CCONJ\n",
      "2 X\n",
      ". PUNCT\n",
      "Mix VERB\n",
      "the DET\n",
      "egg NOUN\n",
      "in ADP\n",
      "milk NOUN\n",
      ". PUNCT\n",
      "In ADP\n",
      "the DET\n",
      "meantime NOUN\n",
      "crush NOUN\n",
      "up ADP\n",
      "soda NOUN\n",
      "crackers NOUN\n",
      "with ADP\n",
      "flour NOUN\n",
      ". PUNCT\n",
      "Crush VERB\n",
      "the DET\n",
      "crackers NOUN\n",
      "really ADV\n",
      "well ADV\n",
      ". PUNCT\n",
      "Put VERB\n",
      "your PRON\n",
      "mushrooms NOUN\n",
      "in ADP\n",
      "the DET\n",
      "egg NOUN\n",
      "and CCONJ\n",
      "milk NOUN\n",
      "mixture NOUN\n",
      ", PUNCT\n",
      "then ADV\n",
      "dipped VERB\n",
      "into ADP\n",
      "flour NOUN\n",
      "/ SYM\n",
      "cracker NOUN\n",
      "mixture NOUN\n",
      ". PUNCT\n",
      "Fry PROPN\n",
      "in ADP\n",
      "real ADJ\n",
      "butter NOUN\n",
      ". PUNCT\n",
      "Cook VERB\n",
      "them PRON\n",
      "good ADJ\n",
      ". PUNCT\n",
      "They PRON\n",
      "'re VERB\n",
      "delicious ADJ\n",
      ". PUNCT\n",
      "@jillian_kern X\n",
      "Steamed ADJ\n",
      "and CCONJ\n",
      "tossed VERB\n",
      "on ADP\n",
      "butter NOUN\n",
      "@FFSKarz PRON\n",
      "And CCONJ\n",
      "I PRON\n",
      "would AUX\n",
      "say VERB\n",
      "I PRON\n",
      "do AUX\n",
      "n’t PART\n",
      "mind VERB\n",
      ". PUNCT\n",
      "If SCONJ\n",
      "you PRON\n",
      "want VERB\n",
      "to PART\n",
      "cover VERB\n",
      "yourself PRON\n",
      "up ADP\n",
      "in ADP\n",
      "butter NOUN\n",
      "and CCONJ\n",
      "get VERB\n",
      "dressed VERB\n",
      "up ADP\n",
      "in ADP\n",
      "latex NOUN\n",
      "and CCONJ\n",
      "whap NOUN\n",
      "each DET\n",
      "other ADJ\n",
      "as ADV\n",
      "long ADV\n",
      "as ADP\n",
      "you PRON\n",
      "do AUX\n",
      "n’t PART\n",
      "bother VERB\n",
      "the DET\n",
      "neighbours NOUN\n",
      "I PRON\n",
      "wish VERB\n",
      "you PRON\n",
      "all DET\n",
      "the DET\n",
      "best ADJ\n",
      ". PUNCT\n",
      "Nothing PRON\n",
      "of ADP\n",
      "my PRON\n",
      "business NOUN\n",
      ". PUNCT\n",
      "A DET\n",
      "very ADV\n",
      "special ADJ\n",
      "Friday PROPN\n",
      "evening NOUN\n",
      ".... PUNCT\n",
      "many ADJ\n",
      "will AUX\n",
      "enjoy VERB\n",
      "a DET\n",
      "relaxing ADJ\n",
      "glass NOUN\n",
      "of ADP\n",
      "..... PUNCT\n",
      "coffee NOUN\n",
      "! PUNCT\n",
      "# SYM\n",
      "lavathejavadog NOUN\n",
      "will AUX\n",
      "enjoy VERB\n",
      "the DET\n",
      "remnants NOUN\n",
      "of ADP\n",
      "a DET\n",
      "crunchie NOUN\n",
      "peanut NOUN\n",
      "butter NOUN\n",
      "jar NOUN\n",
      ". PUNCT\n",
      "Life NOUN\n",
      "may AUX\n",
      "throw VERB\n",
      "stuff NOUN\n",
      "at ADP\n",
      "us PRON\n",
      "all DET\n",
      ".... PUNCT\n",
      "let VERB\n",
      "’s PRON\n",
      "all DET\n",
      "eat VERB\n",
      "peanut NOUN\n",
      "butter NOUN\n",
      "! PUNCT\n",
      "Enjoy VERB\n",
      "your PRON\n",
      "weekend NOUN\n",
      "! PUNCT\n",
      "https://t.co/JME6ZmhZYN NUM\n",
      "a DET\n",
      "concept NOUN\n",
      ": PUNCT\n",
      "creamy PROPN\n",
      "cashew PROPN\n",
      "butter NOUN\n",
      "with ADP\n",
      "mixed ADJ\n",
      "berry NOUN\n",
      "preserves NOUN\n",
      "on ADP\n",
      "ciabatta PROPN\n",
      "bread NOUN\n",
      "\" PUNCT\n",
      "The DET\n",
      "Anasa PROPN\n",
      "Life PROPN\n",
      "Coco PROPN\n",
      "Smooth PROPN\n",
      "Body PROPN\n",
      "Butter PROPN\n",
      "is AUX\n",
      "soooo NOUN\n",
      "amazing ADJ\n",
      ". PUNCT\n",
      "I PRON\n",
      "got VERB\n",
      "the DET\n",
      "Yuce PROPN\n",
      "scent NOUN\n",
      ", PUNCT\n",
      "which DET\n",
      "is VERB\n",
      "light ADJ\n",
      "and CCONJ\n",
      "citrusy NOUN\n",
      ". PUNCT\n",
      "The DET\n",
      "texture NOUN\n",
      "is AUX\n",
      "so ADV\n",
      "soft ADJ\n",
      ", PUNCT\n",
      "and CCONJ\n",
      "not PART\n",
      "too ADV\n",
      "heavy ADJ\n",
      "or CCONJ\n",
      "oily ADJ\n",
      ". PUNCT\n",
      "It PRON\n",
      "'s AUX\n",
      "absolutely ADV\n",
      "perfect ADJ\n",
      ". PUNCT\n",
      "If SCONJ\n",
      "you PRON\n",
      "love VERB\n",
      "natural ADJ\n",
      ", PUNCT\n",
      "quality NOUN\n",
      "body NOUN\n",
      "products NOUN\n",
      ", PUNCT\n",
      "get VERB\n",
      "this DET\n",
      "... PUNCT\n",
      "\" PUNCT\n",
      "- PUNCT\n",
      "Arielle PROPN\n",
      "B. PROPN\n",
      "Butter PROPN\n",
      "Bath PROPN\n",
      "- PUNCT\n",
      "Stray PROPN\n",
      "Cats NOUN\n",
      "@lisboninthesun PROPN\n",
      "@jamesdoleman PROPN\n",
      "For ADP\n",
      "that DET\n",
      "cake NOUN\n",
      ", PUNCT\n",
      "6 NUM\n",
      "egs NOUN\n",
      ", PUNCT\n",
      "6 NUM\n",
      "oz NOUN\n",
      "of ADP\n",
      "butter NOUN\n",
      ", PUNCT\n",
      "6 NUM\n",
      "oz NOUN\n",
      "of ADP\n",
      "four NUM\n",
      ", PUNCT\n",
      "6 NUM\n",
      "oz NOUN\n",
      "of ADP\n",
      "sugar PROPN\n",
      "😉 PROPN\n",
      "😉 PROPN\n",
      "  SPACE\n",
      "# SYM\n",
      "bakeoff NOUN\n",
      "0\n",
      "['enjoy', 'add', 'sliced', 'chocolate', 'peaches', 'm', 'Mix', 'Crush', 'Put', 'dipped']\n"
     ]
    }
   ],
   "source": [
    "def getCommonVerbs():\n",
    "    import en_core_web_sm\n",
    "    nlp2 = spacy.load(\"en_core_web_sm\")\n",
    "    count = 0\n",
    "    myVerbs = {}\n",
    "    for i in range(10): #(len(training_data)):\n",
    "        doc = nlp2(training_data[0][i])\n",
    "        for token in doc:\n",
    "            print(token, token.pos_)\n",
    "            if token.pos_ == \"VERB\":\n",
    "                if token.text in myVerbs:\n",
    "                    myVerbs[token.text] = myVerbs[token.text] + 1\n",
    "                else:\n",
    "                    if token.text not in nlp2.Defaults.stop_words:\n",
    "                        myVerbs[token.text] = 1\n",
    "        \n",
    "    print(count)\n",
    "    topVerbs = dict(sorted(myVerbs.items(), key = lambda item: item[1], reverse=True)[:10])\n",
    "    return [key for key in topVerbs]\n",
    "print(getCommonVerbs())"
   ]
  },
  {
   "cell_type": "code",
   "execution_count": null,
   "metadata": {},
   "outputs": [
    {
     "data": {
      "text/html": [
       "<span class=\"tex2jax_ignore\"><div class=\"entities\" style=\"line-height: 2.5; direction: ltr\">\n",
       "<mark class=\"entity\" style=\"background: #ddd; padding: 0.45em 0.6em; margin: 0 0.25em; line-height: 1; border-radius: 0.35em;\">\n",
       "    chicken\n",
       "    <span style=\"font-size: 0.8em; font-weight: bold; line-height: 1; border-radius: 0.35em; vertical-align: middle; margin-left: 0.5rem\">FOOD</span>\n",
       "</mark>\n",
       " curry with \n",
       "<mark class=\"entity\" style=\"background: #ddd; padding: 0.45em 0.6em; margin: 0 0.25em; line-height: 1; border-radius: 0.35em;\">\n",
       "    coconut cream\n",
       "    <span style=\"font-size: 0.8em; font-weight: bold; line-height: 1; border-radius: 0.35em; vertical-align: middle; margin-left: 0.5rem\">FOOD</span>\n",
       "</mark>\n",
       " rice cake made with \n",
       "<mark class=\"entity\" style=\"background: #ddd; padding: 0.45em 0.6em; margin: 0 0.25em; line-height: 1; border-radius: 0.35em;\">\n",
       "    coconut\n",
       "    <span style=\"font-size: 0.8em; font-weight: bold; line-height: 1; border-radius: 0.35em; vertical-align: middle; margin-left: 0.5rem\">FOOD</span>\n",
       "</mark>\n",
       " \n",
       "<mark class=\"entity\" style=\"background: #ddd; padding: 0.45em 0.6em; margin: 0 0.25em; line-height: 1; border-radius: 0.35em;\">\n",
       "    water\n",
       "    <span style=\"font-size: 0.8em; font-weight: bold; line-height: 1; border-radius: 0.35em; vertical-align: middle; margin-left: 0.5rem\">FOOD</span>\n",
       "</mark>\n",
       " topped with salted egg sweet bean and candied baby coconut dessert topped with fresh shaved ice leche flan made with duck \n",
       "<mark class=\"entity\" style=\"background: #ddd; padding: 0.45em 0.6em; margin: 0 0.25em; line-height: 1; border-radius: 0.35em;\">\n",
       "    eggs\n",
       "    <span style=\"font-size: 0.8em; font-weight: bold; line-height: 1; border-radius: 0.35em; vertical-align: middle; margin-left: 0.5rem\">FOOD</span>\n",
       "</mark>\n",
       " and lime zest pastillas de leche made with \n",
       "<mark class=\"entity\" style=\"background: #ddd; padding: 0.45em 0.6em; margin: 0 0.25em; line-height: 1; border-radius: 0.35em;\">\n",
       "    carabao\n",
       "    <span style=\"font-size: 0.8em; font-weight: bold; line-height: 1; border-radius: 0.35em; vertical-align: middle; margin-left: 0.5rem\">FOOD</span>\n",
       "</mark>\n",
       " \n",
       "<mark class=\"entity\" style=\"background: #ddd; padding: 0.45em 0.6em; margin: 0 0.25em; line-height: 1; border-radius: 0.35em;\">\n",
       "    milk\n",
       "    <span style=\"font-size: 0.8em; font-weight: bold; line-height: 1; border-radius: 0.35em; vertical-align: middle; margin-left: 0.5rem\">FOOD</span>\n",
       "</mark>\n",
       "</div></span>"
      ],
      "text/plain": [
       "<IPython.core.display.HTML object>"
      ]
     },
     "metadata": {},
     "output_type": "display_data"
    }
   ],
   "source": [
    "nlp = spacy.load(MODEL_PATH)\n",
    "myTweet = \"My chicken is tasty\"\n",
    "ent_recognize(\"chicken curry with coconut cream rice cake made with coconut water topped with salted egg sweet bean and candied baby coconut dessert topped with fresh shaved ice leche flan made with duck eggs and lime zest pastillas de leche made with carabao milk\")\n",
    "# x = nlp(myTweet)\n",
    "# splitSent = myTweet.split()\n",
    "# for i in range(len(x.ents)):\n",
    "#     if str(x.ents[i]) in splitSent:\n",
    "#         print(splitSent.index(str(x.ents[i])))\n",
    "        \n",
    "# print(x.doc.ents)\n",
    "# print(splitSent)"
   ]
  },
  {
   "cell_type": "code",
   "execution_count": null,
   "metadata": {},
   "outputs": [],
   "source": [
    "#def findPreviousNextWord(tweets, keywords):\n",
    "foodKeeperKeywords = foodKeeperInfo()\n",
    "commonWords = {}\n",
    "commonPairWords = {}\n",
    "nlp2 = spacy.load(\"en_core_web_sm\")\n",
    "for i in range(len(training_data)):\n",
    "    #Preprocess and remove stop words from each tweet\n",
    "    myTweet = preProcess(training_data[0][i]).split()\n",
    "    myTweet = [word for word in myTweet if not word in nlp2.Defaults.stop_words]\n",
    "    \n",
    "    for i in range(len(myTweet)):\n",
    "        if myTweet[i] in foodKeeperKeywords:\n",
    "            try:\n",
    "                leftWord = myTweet[i-1]\n",
    "                if leftWord in commonWords:\n",
    "                    commonWords[leftWord] += 1\n",
    "                else:\n",
    "                    commonWords[leftWord] = 1\n",
    "            except:\n",
    "                pass\n",
    "            try: \n",
    "                rightWord = myTweet[i+1]\n",
    "                if rightWord in commonWords:\n",
    "                    commonWords[rightWord] += 1\n",
    "                else:\n",
    "                    commonWords[rightWord] = 1\n",
    "            except:\n",
    "                pass\n",
    "            try:\n",
    "                if (leftWord, rightWord) in commonPairWords:\n",
    "                    commonPairWords[(leftWord,rightWord)] += 1\n",
    "                else:\n",
    "                    commonPairWords[(leftWord,rightWord)] = 1\n",
    "            except:\n",
    "                pass\n",
    "\n",
    "#commonWords are words that occur before and after a keyword\n",
    "commonWords = dict(sorted(commonWords.items(), key = lambda item: item[1], reverse=True))\n",
    "commonWords = [key for key in commonWords]\n",
    "\n",
    "#commonPairWords are pairs or words that occur before and after a keyword\n",
    "commonPairWords = dict(sorted(commonPairWords.items(), key = lambda item: item[1], reverse=True))\n",
    "#print(training_data[0][1000])\n",
    "#print(foodKeeperKeywords)"
   ]
  },
  {
   "cell_type": "code",
   "execution_count": null,
   "metadata": {},
   "outputs": [],
   "source": [
    "#print(commonWords[:25])\n",
    "myIter= iter(commonPairWords)\n",
    "for iter1 in iter(commonPairWords):\n",
    "    print(iter1, commonPairWords[iter1])"
   ]
  },
  {
   "cell_type": "code",
   "execution_count": null,
   "metadata": {},
   "outputs": [
    {
     "name": "stdout",
     "output_type": "stream",
     "text": [
      "Biword: almond milk\n",
      "Biword: chia seeds\n",
      "Biword: peanut butter\n",
      "Biword: peanut butter\n",
      "Biword: cashew butter\n"
     ]
    }
   ],
   "source": [
    "import re\n",
    "#count all words and adjacent\n",
    "def findAdjacentWords(data,keywords):\n",
    "    allWords = {}\n",
    "    count = 0\n",
    "    for tweet in data[0][:10]:\n",
    "        splitTweet = preProcess(tweet).split()\n",
    "        for i in range(len(splitTweet)):\n",
    "            word = splitTweet[i]\n",
    "            try:\n",
    "                biword = word + \" \" + splitTweet[i + 1]\n",
    "                if biword in keywords:\n",
    "                    print(\"Biword:\", biword)\n",
    "                    continue\n",
    "            except:\n",
    "                pass\n",
    "            try:\n",
    "                triword = word + \" \" + splitTweet[i + 1] + \" \" + splitTweet[i + 2]\n",
    "                if triword in keywords:\n",
    "                    print(\"Triword:\", triword)\n",
    "                    continue\n",
    "            except:\n",
    "                pass\n",
    "            \n",
    "        \n",
    "    \n",
    "    '''mySent = \"I am eating chicken for breakfast lunch and dinner tonight.\"\n",
    "    mySearch = re.search('chicken', mySent)\n",
    "    mySpan = mySearch.span()\n",
    "    print(mySent[mySpan[0]:mySpan[1]])\n",
    "    '''\n",
    "findAdjacentWords(training_data, foodKeeperKeywords)"
   ]
  },
  {
   "cell_type": "markdown",
   "metadata": {},
   "source": [
    "# Test Data with 1.6 Million Tweet Dataset"
   ]
  },
  {
   "cell_type": "code",
   "execution_count": null,
   "metadata": {},
   "outputs": [
    {
     "name": "stdout",
     "output_type": "stream",
     "text": [
      "0     just microwaved a kashi chicken and spinach th...\n",
      "1      thats really sad i wolud hate that! but i had...\n",
      "2      and it took me my entire walk to the train st...\n",
      "3     just finished cooking spag bol from scratch in...\n",
      "4     oh noooooo kath is back from annual leave!!!!!...\n",
      "                            ...                        \n",
      "78    sick roomie gave me her cold my throats sore (...\n",
      "79    no flying to ponca city today for breakfast oa...\n",
      "80    just walked by marksandspencers food n didn't ...\n",
      "81    if lucas till and taylor swift start dating i ...\n",
      "82                             bed time back to reality\n",
      "Name: tweet, Length: 83, dtype: object\n"
     ]
    }
   ],
   "source": [
    "# print(live_tweets[5][:10])\n",
    "print(test_data['tweet'])"
   ]
  },
  {
   "cell_type": "markdown",
   "metadata": {},
   "source": [
    "# See what keywords are found by the created model"
   ]
  },
  {
   "cell_type": "code",
   "execution_count": null,
   "metadata": {},
   "outputs": [],
   "source": [
    "keywordsFound = []\n",
    "nlp = spacy.load(MODEL_PATH)\n",
    "# print(nlp.pipeline)\n",
    "for tweet in live_tweets[5]: #test_data['tweet']:\n",
    "    modeledTweet = nlp(preProcess(tweet))\n",
    "    for token in modeledTweet.doc.ents:\n",
    "        if str(token) in keywordsFound: continue\n",
    "        keywordsFound.append(str(token))"
   ]
  },
  {
   "cell_type": "markdown",
   "metadata": {},
   "source": [
    "# If the model finds food keywords print the Tweet\n",
    "To help visualize which keywords are being found this loop iterates through the Tweets testing the model to see what keywords it finds. If it finds a keyword in the Tweet it will print the Tweet and highlight the keyword"
   ]
  },
  {
   "cell_type": "code",
   "execution_count": null,
   "metadata": {},
   "outputs": [
    {
     "data": {
      "text/html": [
       "<span class=\"tex2jax_ignore\"><div class=\"entities\" style=\"line-height: 2.5; direction: ltr\">   awww that's a bummer  you shoulda got david carr of third day to do it ;d</div></span>"
      ],
      "text/plain": [
       "<IPython.core.display.HTML object>"
      ]
     },
     "metadata": {},
     "output_type": "display_data"
    },
    {
     "data": {
      "text/html": [
       "<span class=\"tex2jax_ignore\"><div class=\"entities\" style=\"line-height: 2.5; direction: ltr\">is upset that he can't update his facebook by texting it and might cry as a result  school today also blah!</div></span>"
      ],
      "text/plain": [
       "<IPython.core.display.HTML object>"
      ]
     },
     "metadata": {},
     "output_type": "display_data"
    },
    {
     "data": {
      "text/html": [
       "<span class=\"tex2jax_ignore\"><div class=\"entities\" style=\"line-height: 2.5; direction: ltr\"> i dived many times for the ball managed to save 50%  the rest go out of bounds</div></span>"
      ],
      "text/plain": [
       "<IPython.core.display.HTML object>"
      ]
     },
     "metadata": {},
     "output_type": "display_data"
    },
    {
     "data": {
      "text/html": [
       "<span class=\"tex2jax_ignore\"><div class=\"entities\" style=\"line-height: 2.5; direction: ltr\">my whole body feels itchy and like its on fire </div></span>"
      ],
      "text/plain": [
       "<IPython.core.display.HTML object>"
      ]
     },
     "metadata": {},
     "output_type": "display_data"
    },
    {
     "data": {
      "text/html": [
       "<span class=\"tex2jax_ignore\"><div class=\"entities\" style=\"line-height: 2.5; direction: ltr\"> no it's not behaving at all i'm mad why am i here? because i can't see you all over there </div></span>"
      ],
      "text/plain": [
       "<IPython.core.display.HTML object>"
      ]
     },
     "metadata": {},
     "output_type": "display_data"
    },
    {
     "data": {
      "text/html": [
       "<span class=\"tex2jax_ignore\"><div class=\"entities\" style=\"line-height: 2.5; direction: ltr\"> not the whole crew </div></span>"
      ],
      "text/plain": [
       "<IPython.core.display.HTML object>"
      ]
     },
     "metadata": {},
     "output_type": "display_data"
    },
    {
     "data": {
      "text/html": [
       "<span class=\"tex2jax_ignore\"><div class=\"entities\" style=\"line-height: 2.5; direction: ltr\">need a hug </div></span>"
      ],
      "text/plain": [
       "<IPython.core.display.HTML object>"
      ]
     },
     "metadata": {},
     "output_type": "display_data"
    },
    {
     "data": {
      "text/html": [
       "<span class=\"tex2jax_ignore\"><div class=\"entities\" style=\"line-height: 2.5; direction: ltr\"> hey  long time no see! yes rains a bit only a bit  lol  i'm fine thanks  how's you ?</div></span>"
      ],
      "text/plain": [
       "<IPython.core.display.HTML object>"
      ]
     },
     "metadata": {},
     "output_type": "display_data"
    },
    {
     "data": {
      "text/html": [
       "<span class=\"tex2jax_ignore\"><div class=\"entities\" style=\"line-height: 2.5; direction: ltr\"> nope they didn't have it </div></span>"
      ],
      "text/plain": [
       "<IPython.core.display.HTML object>"
      ]
     },
     "metadata": {},
     "output_type": "display_data"
    },
    {
     "data": {
      "text/html": [
       "<span class=\"tex2jax_ignore\"><div class=\"entities\" style=\"line-height: 2.5; direction: ltr\"> que me muera ? </div></span>"
      ],
      "text/plain": [
       "<IPython.core.display.HTML object>"
      ]
     },
     "metadata": {},
     "output_type": "display_data"
    },
    {
     "data": {
      "text/html": [
       "<span class=\"tex2jax_ignore\"><div class=\"entities\" style=\"line-height: 2.5; direction: ltr\">spring break in plain city it's snowing </div></span>"
      ],
      "text/plain": [
       "<IPython.core.display.HTML object>"
      ]
     },
     "metadata": {},
     "output_type": "display_data"
    },
    {
     "data": {
      "text/html": [
       "<span class=\"tex2jax_ignore\"><div class=\"entities\" style=\"line-height: 2.5; direction: ltr\">i just repierced my ears </div></span>"
      ],
      "text/plain": [
       "<IPython.core.display.HTML object>"
      ]
     },
     "metadata": {},
     "output_type": "display_data"
    },
    {
     "data": {
      "text/html": [
       "<span class=\"tex2jax_ignore\"><div class=\"entities\" style=\"line-height: 2.5; direction: ltr\"> i couldn't bear to watch it  and i thought the ua loss was embarrassing     </div></span>"
      ],
      "text/plain": [
       "<IPython.core.display.HTML object>"
      ]
     },
     "metadata": {},
     "output_type": "display_data"
    },
    {
     "data": {
      "text/html": [
       "<span class=\"tex2jax_ignore\"><div class=\"entities\" style=\"line-height: 2.5; direction: ltr\"> it it counts idk why i did either you never talk to me anymore </div></span>"
      ],
      "text/plain": [
       "<IPython.core.display.HTML object>"
      ]
     },
     "metadata": {},
     "output_type": "display_data"
    },
    {
     "data": {
      "text/html": [
       "<span class=\"tex2jax_ignore\"><div class=\"entities\" style=\"line-height: 2.5; direction: ltr\"> i would've been the first but i didn't have a gun    not really though zac snyder's just a doucheclown</div></span>"
      ],
      "text/plain": [
       "<IPython.core.display.HTML object>"
      ]
     },
     "metadata": {},
     "output_type": "display_data"
    },
    {
     "data": {
      "text/html": [
       "<span class=\"tex2jax_ignore\"><div class=\"entities\" style=\"line-height: 2.5; direction: ltr\"> i wish i got to watch it with you!! i miss you and   how was the premiere?!</div></span>"
      ],
      "text/plain": [
       "<IPython.core.display.HTML object>"
      ]
     },
     "metadata": {},
     "output_type": "display_data"
    },
    {
     "data": {
      "text/html": [
       "<span class=\"tex2jax_ignore\"><div class=\"entities\" style=\"line-height: 2.5; direction: ltr\">hollis' death scene will hurt me severely to watch on film  wry is directors cut not out now?</div></span>"
      ],
      "text/plain": [
       "<IPython.core.display.HTML object>"
      ]
     },
     "metadata": {},
     "output_type": "display_data"
    },
    {
     "data": {
      "text/html": [
       "<span class=\"tex2jax_ignore\"><div class=\"entities\" style=\"line-height: 2.5; direction: ltr\">about to file taxes </div></span>"
      ],
      "text/plain": [
       "<IPython.core.display.HTML object>"
      ]
     },
     "metadata": {},
     "output_type": "display_data"
    },
    {
     "data": {
      "text/html": [
       "<span class=\"tex2jax_ignore\"><div class=\"entities\" style=\"line-height: 2.5; direction: ltr\"> ahh ive always wanted to see rent  love the soundtrack!!</div></span>"
      ],
      "text/plain": [
       "<IPython.core.display.HTML object>"
      ]
     },
     "metadata": {},
     "output_type": "display_data"
    },
    {
     "data": {
      "text/html": [
       "<span class=\"tex2jax_ignore\"><div class=\"entities\" style=\"line-height: 2.5; direction: ltr\"> oh dear were you drinking out of the forgotten table drinks? </div></span>"
      ],
      "text/plain": [
       "<IPython.core.display.HTML object>"
      ]
     },
     "metadata": {},
     "output_type": "display_data"
    },
    {
     "data": {
      "text/html": [
       "<span class=\"tex2jax_ignore\"><div class=\"entities\" style=\"line-height: 2.5; direction: ltr\"> i was out most of the day so didn't get much done </div></span>"
      ],
      "text/plain": [
       "<IPython.core.display.HTML object>"
      ]
     },
     "metadata": {},
     "output_type": "display_data"
    },
    {
     "data": {
      "text/html": [
       "<span class=\"tex2jax_ignore\"><div class=\"entities\" style=\"line-height: 2.5; direction: ltr\">one of my friend called me and asked to meet with her at mid valley todaybut i've no time *sigh* </div></span>"
      ],
      "text/plain": [
       "<IPython.core.display.HTML object>"
      ]
     },
     "metadata": {},
     "output_type": "display_data"
    },
    {
     "data": {
      "text/html": [
       "<span class=\"tex2jax_ignore\"><div class=\"entities\" style=\"line-height: 2.5; direction: ltr\"> i baked you a cake but i ated it </div></span>"
      ],
      "text/plain": [
       "<IPython.core.display.HTML object>"
      ]
     },
     "metadata": {},
     "output_type": "display_data"
    },
    {
     "data": {
      "text/html": [
       "<span class=\"tex2jax_ignore\"><div class=\"entities\" style=\"line-height: 2.5; direction: ltr\">this week is not going as i had hoped </div></span>"
      ],
      "text/plain": [
       "<IPython.core.display.HTML object>"
      ]
     },
     "metadata": {},
     "output_type": "display_data"
    },
    {
     "data": {
      "text/html": [
       "<span class=\"tex2jax_ignore\"><div class=\"entities\" style=\"line-height: 2.5; direction: ltr\">blagh class at 8 tomorrow </div></span>"
      ],
      "text/plain": [
       "<IPython.core.display.HTML object>"
      ]
     },
     "metadata": {},
     "output_type": "display_data"
    },
    {
     "data": {
      "text/html": [
       "<span class=\"tex2jax_ignore\"><div class=\"entities\" style=\"line-height: 2.5; direction: ltr\">i hate when i have to call and wake people up </div></span>"
      ],
      "text/plain": [
       "<IPython.core.display.HTML object>"
      ]
     },
     "metadata": {},
     "output_type": "display_data"
    },
    {
     "data": {
      "text/html": [
       "<span class=\"tex2jax_ignore\"><div class=\"entities\" style=\"line-height: 2.5; direction: ltr\">just going to cry myself to sleep after watching marley and me  </div></span>"
      ],
      "text/plain": [
       "<IPython.core.display.HTML object>"
      ]
     },
     "metadata": {},
     "output_type": "display_data"
    },
    {
     "data": {
      "text/html": [
       "<span class=\"tex2jax_ignore\"><div class=\"entities\" style=\"line-height: 2.5; direction: ltr\">im sad now  misslilly</div></span>"
      ],
      "text/plain": [
       "<IPython.core.display.HTML object>"
      ]
     },
     "metadata": {},
     "output_type": "display_data"
    },
    {
     "data": {
      "text/html": [
       "<span class=\"tex2jax_ignore\"><div class=\"entities\" style=\"line-height: 2.5; direction: ltr\">ooooh lol  that leslie and ok i won't do it again so leslie won't  get mad again </div></span>"
      ],
      "text/plain": [
       "<IPython.core.display.HTML object>"
      ]
     },
     "metadata": {},
     "output_type": "display_data"
    },
    {
     "data": {
      "text/html": [
       "<span class=\"tex2jax_ignore\"><div class=\"entities\" style=\"line-height: 2.5; direction: ltr\">meh almost lover is the exception this track gets me depressed every time </div></span>"
      ],
      "text/plain": [
       "<IPython.core.display.HTML object>"
      ]
     },
     "metadata": {},
     "output_type": "display_data"
    },
    {
     "data": {
      "text/html": [
       "<span class=\"tex2jax_ignore\"><div class=\"entities\" style=\"line-height: 2.5; direction: ltr\">some1 hacked my account on aim  now i have to make a new one</div></span>"
      ],
      "text/plain": [
       "<IPython.core.display.HTML object>"
      ]
     },
     "metadata": {},
     "output_type": "display_data"
    },
    {
     "data": {
      "text/html": [
       "<span class=\"tex2jax_ignore\"><div class=\"entities\" style=\"line-height: 2.5; direction: ltr\"> i want to go to promote gear and groove but unfornately no ride there  i may b going to the one in anaheim in may though</div></span>"
      ],
      "text/plain": [
       "<IPython.core.display.HTML object>"
      ]
     },
     "metadata": {},
     "output_type": "display_data"
    },
    {
     "data": {
      "text/html": [
       "<span class=\"tex2jax_ignore\"><div class=\"entities\" style=\"line-height: 2.5; direction: ltr\">thought sleeping in was an option tomorrow but realizing that it now is not evaluations in the morning and work in the afternoon! </div></span>"
      ],
      "text/plain": [
       "<IPython.core.display.HTML object>"
      ]
     },
     "metadata": {},
     "output_type": "display_data"
    },
    {
     "data": {
      "text/html": [
       "<span class=\"tex2jax_ignore\"><div class=\"entities\" style=\"line-height: 2.5; direction: ltr\"> awe i love you too!!!! 1 am here  i miss you</div></span>"
      ],
      "text/plain": [
       "<IPython.core.display.HTML object>"
      ]
     },
     "metadata": {},
     "output_type": "display_data"
    },
    {
     "data": {
      "text/html": [
       "<span class=\"tex2jax_ignore\"><div class=\"entities\" style=\"line-height: 2.5; direction: ltr\"> i cry my asian eyes to sleep at night </div></span>"
      ],
      "text/plain": [
       "<IPython.core.display.HTML object>"
      ]
     },
     "metadata": {},
     "output_type": "display_data"
    },
    {
     "data": {
      "text/html": [
       "<span class=\"tex2jax_ignore\"><div class=\"entities\" style=\"line-height: 2.5; direction: ltr\">ok i'm sick and spent an hour sitting in the shower cause i was too sick to stand and held back the puke like a champ bed now </div></span>"
      ],
      "text/plain": [
       "<IPython.core.display.HTML object>"
      ]
     },
     "metadata": {},
     "output_type": "display_data"
    },
    {
     "data": {
      "text/html": [
       "<span class=\"tex2jax_ignore\"><div class=\"entities\" style=\"line-height: 2.5; direction: ltr\"> ill tell ya the story later  not a good day and ill be workin for like three more hours</div></span>"
      ],
      "text/plain": [
       "<IPython.core.display.HTML object>"
      ]
     },
     "metadata": {},
     "output_type": "display_data"
    },
    {
     "data": {
      "text/html": [
       "<span class=\"tex2jax_ignore\"><div class=\"entities\" style=\"line-height: 2.5; direction: ltr\"> sorry! bed time came here (gmt+1)   </div></span>"
      ],
      "text/plain": [
       "<IPython.core.display.HTML object>"
      ]
     },
     "metadata": {},
     "output_type": "display_data"
    },
    {
     "data": {
      "text/html": [
       "<span class=\"tex2jax_ignore\"><div class=\"entities\" style=\"line-height: 2.5; direction: ltr\"> i don't either its depressing i don't think i even want to know about the kids in suitcases </div></span>"
      ],
      "text/plain": [
       "<IPython.core.display.HTML object>"
      ]
     },
     "metadata": {},
     "output_type": "display_data"
    },
    {
     "data": {
      "text/html": [
       "<span class=\"tex2jax_ignore\"><div class=\"entities\" style=\"line-height: 2.5; direction: ltr\">bed class 812 work 123 gym 35 or 6 then class 610 another day that's gonna fly by i miss my girlfriend </div></span>"
      ],
      "text/plain": [
       "<IPython.core.display.HTML object>"
      ]
     },
     "metadata": {},
     "output_type": "display_data"
    },
    {
     "data": {
      "text/html": [
       "<span class=\"tex2jax_ignore\"><div class=\"entities\" style=\"line-height: 2.5; direction: ltr\">really don't feel like getting up today but got to study to for tomorrows practical exam </div></span>"
      ],
      "text/plain": [
       "<IPython.core.display.HTML object>"
      ]
     },
     "metadata": {},
     "output_type": "display_data"
    },
    {
     "data": {
      "text/html": [
       "<span class=\"tex2jax_ignore\"><div class=\"entities\" style=\"line-height: 2.5; direction: ltr\">he's the reason for the teardrops on my guitar the only one who has enough of me to break my heart </div></span>"
      ],
      "text/plain": [
       "<IPython.core.display.HTML object>"
      ]
     },
     "metadata": {},
     "output_type": "display_data"
    },
    {
     "data": {
      "text/html": [
       "<span class=\"tex2jax_ignore\"><div class=\"entities\" style=\"line-height: 2.5; direction: ltr\">sad sad sad i don't know why but i hate this feeling  i wanna sleep and i still can't!</div></span>"
      ],
      "text/plain": [
       "<IPython.core.display.HTML object>"
      ]
     },
     "metadata": {},
     "output_type": "display_data"
    },
    {
     "data": {
      "text/html": [
       "<span class=\"tex2jax_ignore\"><div class=\"entities\" style=\"line-height: 2.5; direction: ltr\"> awww i soo wish i was there to see you finally comfortable! im sad that i missed it </div></span>"
      ],
      "text/plain": [
       "<IPython.core.display.HTML object>"
      ]
     },
     "metadata": {},
     "output_type": "display_data"
    },
    {
     "data": {
      "text/html": [
       "<span class=\"tex2jax_ignore\"><div class=\"entities\" style=\"line-height: 2.5; direction: ltr\">falling asleep just heard about that tracy girl's body being found how sad  my heart breaks for that family</div></span>"
      ],
      "text/plain": [
       "<IPython.core.display.HTML object>"
      ]
     },
     "metadata": {},
     "output_type": "display_data"
    },
    {
     "data": {
      "text/html": [
       "<span class=\"tex2jax_ignore\"><div class=\"entities\" style=\"line-height: 2.5; direction: ltr\"> yay! i'm happy for you with your job! but that also means less time for me and you </div></span>"
      ],
      "text/plain": [
       "<IPython.core.display.HTML object>"
      ]
     },
     "metadata": {},
     "output_type": "display_data"
    },
    {
     "data": {
      "text/html": [
       "<span class=\"tex2jax_ignore\"><div class=\"entities\" style=\"line-height: 2.5; direction: ltr\">just checked my user timeline on my blackberry it looks like the twanking is still happening  are ppl still having probs w/ bgs and uids?</div></span>"
      ],
      "text/plain": [
       "<IPython.core.display.HTML object>"
      ]
     },
     "metadata": {},
     "output_type": "display_data"
    },
    {
     "data": {
      "text/html": [
       "<span class=\"tex2jax_ignore\"><div class=\"entities\" style=\"line-height: 2.5; direction: ltr\">oh manwas ironing 's fave top to wear to a meeting burnt it </div></span>"
      ],
      "text/plain": [
       "<IPython.core.display.HTML object>"
      ]
     },
     "metadata": {},
     "output_type": "display_data"
    },
    {
     "data": {
      "text/html": [
       "<span class=\"tex2jax_ignore\"><div class=\"entities\" style=\"line-height: 2.5; direction: ltr\">is strangely sad about lilo and \n",
       "<mark class=\"entity\" style=\"background: #ddd; padding: 0.45em 0.6em; margin: 0 0.25em; line-height: 1; border-radius: 0.35em;\">\n",
       "    samro\n",
       "    <span style=\"font-size: 0.8em; font-weight: bold; line-height: 1; border-radius: 0.35em; vertical-align: middle; margin-left: 0.5rem\">FOOD</span>\n",
       "</mark>\n",
       " breaking up </div></span>"
      ],
      "text/plain": [
       "<IPython.core.display.HTML object>"
      ]
     },
     "metadata": {},
     "output_type": "display_data"
    },
    {
     "data": {
      "text/html": [
       "<span class=\"tex2jax_ignore\"><div class=\"entities\" style=\"line-height: 2.5; direction: ltr\"> oh! i'm so sorry  i didn't think about that before retweeting</div></span>"
      ],
      "text/plain": [
       "<IPython.core.display.HTML object>"
      ]
     },
     "metadata": {},
     "output_type": "display_data"
    },
    {
     "data": {
      "text/html": [
       "<span class=\"tex2jax_ignore\"><div class=\"entities\" style=\"line-height: 2.5; direction: ltr\">broadband plan 'a massive broken promise'  via wwwdiigocom/~tautao still waiting for broadband we are </div></span>"
      ],
      "text/plain": [
       "<IPython.core.display.HTML object>"
      ]
     },
     "metadata": {},
     "output_type": "display_data"
    },
    {
     "data": {
      "text/html": [
       "<span class=\"tex2jax_ignore\"><div class=\"entities\" style=\"line-height: 2.5; direction: ltr\"> wow tons of replies from you may have to unfollow so i can see my friends' tweets you're scrolling the feed a lot </div></span>"
      ],
      "text/plain": [
       "<IPython.core.display.HTML object>"
      ]
     },
     "metadata": {},
     "output_type": "display_data"
    },
    {
     "data": {
      "text/html": [
       "<span class=\"tex2jax_ignore\"><div class=\"entities\" style=\"line-height: 2.5; direction: ltr\">our duck and \n",
       "<mark class=\"entity\" style=\"background: #ddd; padding: 0.45em 0.6em; margin: 0 0.25em; line-height: 1; border-radius: 0.35em;\">\n",
       "    chicken\n",
       "    <span style=\"font-size: 0.8em; font-weight: bold; line-height: 1; border-radius: 0.35em; vertical-align: middle; margin-left: 0.5rem\">FOOD</span>\n",
       "</mark>\n",
       " are taking wayyy too long to hatch </div></span>"
      ],
      "text/plain": [
       "<IPython.core.display.HTML object>"
      ]
     },
     "metadata": {},
     "output_type": "display_data"
    },
    {
     "data": {
      "text/html": [
       "<span class=\"tex2jax_ignore\"><div class=\"entities\" style=\"line-height: 2.5; direction: ltr\">put vacation photos online a few yrs ago pc crashed and now i forget the name of the site </div></span>"
      ],
      "text/plain": [
       "<IPython.core.display.HTML object>"
      ]
     },
     "metadata": {},
     "output_type": "display_data"
    },
    {
     "data": {
      "text/html": [
       "<span class=\"tex2jax_ignore\"><div class=\"entities\" style=\"line-height: 2.5; direction: ltr\">i need a hug </div></span>"
      ],
      "text/plain": [
       "<IPython.core.display.HTML object>"
      ]
     },
     "metadata": {},
     "output_type": "display_data"
    },
    {
     "data": {
      "text/html": [
       "<span class=\"tex2jax_ignore\"><div class=\"entities\" style=\"line-height: 2.5; direction: ltr\"> not sure what they are only that they are pos! as much as i want to i dont think can trade away company assets sorry andy! </div></span>"
      ],
      "text/plain": [
       "<IPython.core.display.HTML object>"
      ]
     },
     "metadata": {},
     "output_type": "display_data"
    },
    {
     "data": {
      "text/html": [
       "<span class=\"tex2jax_ignore\"><div class=\"entities\" style=\"line-height: 2.5; direction: ltr\"> i hate when that happens </div></span>"
      ],
      "text/plain": [
       "<IPython.core.display.HTML object>"
      ]
     },
     "metadata": {},
     "output_type": "display_data"
    },
    {
     "data": {
      "text/html": [
       "<span class=\"tex2jax_ignore\"><div class=\"entities\" style=\"line-height: 2.5; direction: ltr\">i have a sad feeling that dallas is not going to show up  i gotta say though you'd think more shows would use music from the game mmm</div></span>"
      ],
      "text/plain": [
       "<IPython.core.display.HTML object>"
      ]
     },
     "metadata": {},
     "output_type": "display_data"
    },
    {
     "data": {
      "text/html": [
       "<span class=\"tex2jax_ignore\"><div class=\"entities\" style=\"line-height: 2.5; direction: ltr\">ugh92 degrees tomorrow </div></span>"
      ],
      "text/plain": [
       "<IPython.core.display.HTML object>"
      ]
     },
     "metadata": {},
     "output_type": "display_data"
    },
    {
     "data": {
      "text/html": [
       "<span class=\"tex2jax_ignore\"><div class=\"entities\" style=\"line-height: 2.5; direction: ltr\">where did u move to?  i thought u were already in sd ?? hmmm random u found me glad to hear yer doing well</div></span>"
      ],
      "text/plain": [
       "<IPython.core.display.HTML object>"
      ]
     },
     "metadata": {},
     "output_type": "display_data"
    },
    {
     "data": {
      "text/html": [
       "<span class=\"tex2jax_ignore\"><div class=\"entities\" style=\"line-height: 2.5; direction: ltr\"> i miss my ps3 it's out of commission  wutcha playing? have you copped 'blood on the sand'?</div></span>"
      ],
      "text/plain": [
       "<IPython.core.display.HTML object>"
      ]
     },
     "metadata": {},
     "output_type": "display_data"
    },
    {
     "data": {
      "text/html": [
       "<span class=\"tex2jax_ignore\"><div class=\"entities\" style=\"line-height: 2.5; direction: ltr\">just leaving the parking lot of work! </div></span>"
      ],
      "text/plain": [
       "<IPython.core.display.HTML object>"
      ]
     },
     "metadata": {},
     "output_type": "display_data"
    },
    {
     "data": {
      "text/html": [
       "<span class=\"tex2jax_ignore\"><div class=\"entities\" style=\"line-height: 2.5; direction: ltr\">the life is cool but not for me </div></span>"
      ],
      "text/plain": [
       "<IPython.core.display.HTML object>"
      ]
     },
     "metadata": {},
     "output_type": "display_data"
    },
    {
     "data": {
      "text/html": [
       "<span class=\"tex2jax_ignore\"><div class=\"entities\" style=\"line-height: 2.5; direction: ltr\">sadly though i've never gotten to experience the post coitus cigarette before and now i never will </div></span>"
      ],
      "text/plain": [
       "<IPython.core.display.HTML object>"
      ]
     },
     "metadata": {},
     "output_type": "display_data"
    },
    {
     "data": {
      "text/html": [
       "<span class=\"tex2jax_ignore\"><div class=\"entities\" style=\"line-height: 2.5; direction: ltr\">i had such a nice day too bad the rain comes in tomorrow at 5am </div></span>"
      ],
      "text/plain": [
       "<IPython.core.display.HTML object>"
      ]
     },
     "metadata": {},
     "output_type": "display_data"
    },
    {
     "data": {
      "text/html": [
       "<span class=\"tex2jax_ignore\"><div class=\"entities\" style=\"line-height: 2.5; direction: ltr\"> too bad i won't be around i lost my job and can't even pay my phone bill lmao aw shucks </div></span>"
      ],
      "text/plain": [
       "<IPython.core.display.HTML object>"
      ]
     },
     "metadata": {},
     "output_type": "display_data"
    },
    {
     "data": {
      "text/html": [
       "<span class=\"tex2jax_ignore\"><div class=\"entities\" style=\"line-height: 2.5; direction: ltr\">damm back to school tomorrow </div></span>"
      ],
      "text/plain": [
       "<IPython.core.display.HTML object>"
      ]
     },
     "metadata": {},
     "output_type": "display_data"
    },
    {
     "data": {
      "text/html": [
       "<span class=\"tex2jax_ignore\"><div class=\"entities\" style=\"line-height: 2.5; direction: ltr\">mo jobs no money  how in the hell is min wage here 4 f'n clams an hour?</div></span>"
      ],
      "text/plain": [
       "<IPython.core.display.HTML object>"
      ]
     },
     "metadata": {},
     "output_type": "display_data"
    },
    {
     "data": {
      "text/html": [
       "<span class=\"tex2jax_ignore\"><div class=\"entities\" style=\"line-height: 2.5; direction: ltr\">  not forever see you soon!</div></span>"
      ],
      "text/plain": [
       "<IPython.core.display.HTML object>"
      ]
     },
     "metadata": {},
     "output_type": "display_data"
    },
    {
     "data": {
      "text/html": [
       "<span class=\"tex2jax_ignore\"><div class=\"entities\" style=\"line-height: 2.5; direction: ltr\"> agreed i saw the failwhale allllll day today </div></span>"
      ],
      "text/plain": [
       "<IPython.core.display.HTML object>"
      ]
     },
     "metadata": {},
     "output_type": "display_data"
    },
    {
     "data": {
      "text/html": [
       "<span class=\"tex2jax_ignore\"><div class=\"entities\" style=\"line-height: 2.5; direction: ltr\"> oh! haha dude i dont really look at em unless someone says hey i added you sorry  i'm so terrible at that i need a pop up!</div></span>"
      ],
      "text/plain": [
       "<IPython.core.display.HTML object>"
      ]
     },
     "metadata": {},
     "output_type": "display_data"
    },
    {
     "data": {
      "text/html": [
       "<span class=\"tex2jax_ignore\"><div class=\"entities\" style=\"line-height: 2.5; direction: ltr\"> i'm sure you're right    i need to start working out with you and the nikster or jared at least!</div></span>"
      ],
      "text/plain": [
       "<IPython.core.display.HTML object>"
      ]
     },
     "metadata": {},
     "output_type": "display_data"
    },
    {
     "data": {
      "text/html": [
       "<span class=\"tex2jax_ignore\"><div class=\"entities\" style=\"line-height: 2.5; direction: ltr\">i really hate how people diss my bands!  trace is clearly not ugly!</div></span>"
      ],
      "text/plain": [
       "<IPython.core.display.HTML object>"
      ]
     },
     "metadata": {},
     "output_type": "display_data"
    },
    {
     "data": {
      "text/html": [
       "<span class=\"tex2jax_ignore\"><div class=\"entities\" style=\"line-height: 2.5; direction: ltr\">gym attire today was: puma singlet \n",
       "<mark class=\"entity\" style=\"background: #ddd; padding: 0.45em 0.6em; margin: 0 0.25em; line-height: 1; border-radius: 0.35em;\">\n",
       "    adidas\n",
       "    <span style=\"font-size: 0.8em; font-weight: bold; line-height: 1; border-radius: 0.35em; vertical-align: middle; margin-left: 0.5rem\">FOOD</span>\n",
       "</mark>\n",
       " shortsand black business socks and leather shoes  lucky did not run into any cute girls</div></span>"
      ],
      "text/plain": [
       "<IPython.core.display.HTML object>"
      ]
     },
     "metadata": {},
     "output_type": "display_data"
    },
    {
     "data": {
      "text/html": [
       "<span class=\"tex2jax_ignore\"><div class=\"entities\" style=\"line-height: 2.5; direction: ltr\">why won't you show my location?!   </div></span>"
      ],
      "text/plain": [
       "<IPython.core.display.HTML object>"
      ]
     },
     "metadata": {},
     "output_type": "display_data"
    },
    {
     "data": {
      "text/html": [
       "<span class=\"tex2jax_ignore\"><div class=\"entities\" style=\"line-height: 2.5; direction: ltr\">no picnic  my phone smells like citrus</div></span>"
      ],
      "text/plain": [
       "<IPython.core.display.HTML object>"
      ]
     },
     "metadata": {},
     "output_type": "display_data"
    },
    {
     "data": {
      "text/html": [
       "<span class=\"tex2jax_ignore\"><div class=\"entities\" style=\"line-height: 2.5; direction: ltr\"> my donkey is sensitive about such comments nevertheless he'd (and me'd) be glad to see your mug asap charger is still awol </div></span>"
      ],
      "text/plain": [
       "<IPython.core.display.HTML object>"
      ]
     },
     "metadata": {},
     "output_type": "display_data"
    },
    {
     "data": {
      "text/html": [
       "<span class=\"tex2jax_ignore\"><div class=\"entities\" style=\"line-height: 2.5; direction: ltr\">no new csi tonight  fml</div></span>"
      ],
      "text/plain": [
       "<IPython.core.display.HTML object>"
      ]
     },
     "metadata": {},
     "output_type": "display_data"
    },
    {
     "data": {
      "text/html": [
       "<span class=\"tex2jax_ignore\"><div class=\"entities\" style=\"line-height: 2.5; direction: ltr\">i think my arms are sore from tennis </div></span>"
      ],
      "text/plain": [
       "<IPython.core.display.HTML object>"
      ]
     },
     "metadata": {},
     "output_type": "display_data"
    },
    {
     "data": {
      "text/html": [
       "<span class=\"tex2jax_ignore\"><div class=\"entities\" style=\"line-height: 2.5; direction: ltr\">wonders why someone that u like so much can make you so unhappy in a split seccond  depressed  </div></span>"
      ],
      "text/plain": [
       "<IPython.core.display.HTML object>"
      ]
     },
     "metadata": {},
     "output_type": "display_data"
    },
    {
     "data": {
      "text/html": [
       "<span class=\"tex2jax_ignore\"><div class=\"entities\" style=\"line-height: 2.5; direction: ltr\">sleep soon i just hate saying bye and see you tomorrow for the night </div></span>"
      ],
      "text/plain": [
       "<IPython.core.display.HTML object>"
      ]
     },
     "metadata": {},
     "output_type": "display_data"
    },
    {
     "data": {
      "text/html": [
       "<span class=\"tex2jax_ignore\"><div class=\"entities\" style=\"line-height: 2.5; direction: ltr\"> just got ur newsletter those fares really are unbelievable shame i already booked and paid for mine </div></span>"
      ],
      "text/plain": [
       "<IPython.core.display.HTML object>"
      ]
     },
     "metadata": {},
     "output_type": "display_data"
    },
    {
     "data": {
      "text/html": [
       "<span class=\"tex2jax_ignore\"><div class=\"entities\" style=\"line-height: 2.5; direction: ltr\">missin' the boo </div></span>"
      ],
      "text/plain": [
       "<IPython.core.display.HTML object>"
      ]
     },
     "metadata": {},
     "output_type": "display_data"
    },
    {
     "data": {
      "text/html": [
       "<span class=\"tex2jax_ignore\"><div class=\"entities\" style=\"line-height: 2.5; direction: ltr\"> me too  #itm</div></span>"
      ],
      "text/plain": [
       "<IPython.core.display.HTML object>"
      ]
     },
     "metadata": {},
     "output_type": "display_data"
    },
    {
     "data": {
      "text/html": [
       "<span class=\"tex2jax_ignore\"><div class=\"entities\" style=\"line-height: 2.5; direction: ltr\">damn i don't have any chalk! my chalkboard is useless </div></span>"
      ],
      "text/plain": [
       "<IPython.core.display.HTML object>"
      ]
     },
     "metadata": {},
     "output_type": "display_data"
    },
    {
     "data": {
      "text/html": [
       "<span class=\"tex2jax_ignore\"><div class=\"entities\" style=\"line-height: 2.5; direction: ltr\">had a blast at the getty villa but hates that she's had a sore throat all day it's just getting worse too </div></span>"
      ],
      "text/plain": [
       "<IPython.core.display.HTML object>"
      ]
     },
     "metadata": {},
     "output_type": "display_data"
    },
    {
     "data": {
      "text/html": [
       "<span class=\"tex2jax_ignore\"><div class=\"entities\" style=\"line-height: 2.5; direction: ltr\"> hey missed ya at the meeting  sup mama</div></span>"
      ],
      "text/plain": [
       "<IPython.core.display.HTML object>"
      ]
     },
     "metadata": {},
     "output_type": "display_data"
    },
    {
     "data": {
      "text/html": [
       "<span class=\"tex2jax_ignore\"><div class=\"entities\" style=\"line-height: 2.5; direction: ltr\">my tummy hurts  i wonder if the hypnosis has anything to do with it? if so it's working i get it stop smoking!!!</div></span>"
      ],
      "text/plain": [
       "<IPython.core.display.HTML object>"
      ]
     },
     "metadata": {},
     "output_type": "display_data"
    },
    {
     "data": {
      "text/html": [
       "<span class=\"tex2jax_ignore\"><div class=\"entities\" style=\"line-height: 2.5; direction: ltr\">why is it always the fat ones?! </div></span>"
      ],
      "text/plain": [
       "<IPython.core.display.HTML object>"
      ]
     },
     "metadata": {},
     "output_type": "display_data"
    },
    {
     "data": {
      "text/html": [
       "<span class=\"tex2jax_ignore\"><div class=\"entities\" style=\"line-height: 2.5; direction: ltr\"> sorry babe!!  my fam annoys me too thankfully they're asleep right now muahaha *evil laugh*</div></span>"
      ],
      "text/plain": [
       "<IPython.core.display.HTML object>"
      ]
     },
     "metadata": {},
     "output_type": "display_data"
    },
    {
     "data": {
      "text/html": [
       "<span class=\"tex2jax_ignore\"><div class=\"entities\" style=\"line-height: 2.5; direction: ltr\"> i should have paid more attention when we covered photoshop in my webpage design class in undergrad </div></span>"
      ],
      "text/plain": [
       "<IPython.core.display.HTML object>"
      ]
     },
     "metadata": {},
     "output_type": "display_data"
    },
    {
     "data": {
      "text/html": [
       "<span class=\"tex2jax_ignore\"><div class=\"entities\" style=\"line-height: 2.5; direction: ltr\">wednesday my bday! don't know what 2 do!! </div></span>"
      ],
      "text/plain": [
       "<IPython.core.display.HTML object>"
      ]
     },
     "metadata": {},
     "output_type": "display_data"
    },
    {
     "data": {
      "text/html": [
       "<span class=\"tex2jax_ignore\"><div class=\"entities\" style=\"line-height: 2.5; direction: ltr\">poor cameron (the hills) </div></span>"
      ],
      "text/plain": [
       "<IPython.core.display.HTML object>"
      ]
     },
     "metadata": {},
     "output_type": "display_data"
    },
    {
     "data": {
      "text/html": [
       "<span class=\"tex2jax_ignore\"><div class=\"entities\" style=\"line-height: 2.5; direction: ltr\">pray for me please the ex is threatening to start sh** at my/our babies 1st birthday party what a jerk and i still have a headache </div></span>"
      ],
      "text/plain": [
       "<IPython.core.display.HTML object>"
      ]
     },
     "metadata": {},
     "output_type": "display_data"
    },
    {
     "data": {
      "text/html": [
       "<span class=\"tex2jax_ignore\"><div class=\"entities\" style=\"line-height: 2.5; direction: ltr\"> hmm   do u really enjoy being with him ? if the problems are too constants u should think things more  find someone ulike</div></span>"
      ],
      "text/plain": [
       "<IPython.core.display.HTML object>"
      ]
     },
     "metadata": {},
     "output_type": "display_data"
    },
    {
     "data": {
      "text/html": [
       "<span class=\"tex2jax_ignore\"><div class=\"entities\" style=\"line-height: 2.5; direction: ltr\">strider is a sick little puppy  </div></span>"
      ],
      "text/plain": [
       "<IPython.core.display.HTML object>"
      ]
     },
     "metadata": {},
     "output_type": "display_data"
    },
    {
     "data": {
      "text/html": [
       "<span class=\"tex2jax_ignore\"><div class=\"entities\" style=\"line-height: 2.5; direction: ltr\">so ryleegracewana go steve's party or not?? sadly since its easter i wnt b able 2 do much  but ohh well</div></span>"
      ],
      "text/plain": [
       "<IPython.core.display.HTML object>"
      ]
     },
     "metadata": {},
     "output_type": "display_data"
    },
    {
     "data": {
      "text/html": [
       "<span class=\"tex2jax_ignore\"><div class=\"entities\" style=\"line-height: 2.5; direction: ltr\">hey i actually won one of my bracket pools! too bad it wasn't the one for money </div></span>"
      ],
      "text/plain": [
       "<IPython.core.display.HTML object>"
      ]
     },
     "metadata": {},
     "output_type": "display_data"
    },
    {
     "data": {
      "text/html": [
       "<span class=\"tex2jax_ignore\"><div class=\"entities\" style=\"line-height: 2.5; direction: ltr\"> you don't follow me either  and i work for you!</div></span>"
      ],
      "text/plain": [
       "<IPython.core.display.HTML object>"
      ]
     },
     "metadata": {},
     "output_type": "display_data"
    },
    {
     "data": {
      "text/html": [
       "<span class=\"tex2jax_ignore\"><div class=\"entities\" style=\"line-height: 2.5; direction: ltr\">a bad nite for the favorite teams: astros and spartans lose  the nite out with tw was good</div></span>"
      ],
      "text/plain": [
       "<IPython.core.display.HTML object>"
      ]
     },
     "metadata": {},
     "output_type": "display_data"
    },
    {
     "data": {
      "text/html": [
       "<span class=\"tex2jax_ignore\"><div class=\"entities\" style=\"line-height: 2.5; direction: ltr\"> body of missing northern calif girl found: police have found the remains of a missing northern california girl  </div></span>"
      ],
      "text/plain": [
       "<IPython.core.display.HTML object>"
      ]
     },
     "metadata": {},
     "output_type": "display_data"
    },
    {
     "data": {
      "text/html": [
       "<span class=\"tex2jax_ignore\"><div class=\"entities\" style=\"line-height: 2.5; direction: ltr\"> i hope they will increase the capacity fast yesterday was such a pain got the fail whale +15 times in 2 hours </div></span>"
      ],
      "text/plain": [
       "<IPython.core.display.HTML object>"
      ]
     },
     "metadata": {},
     "output_type": "display_data"
    },
    {
     "data": {
      "text/html": [
       "<span class=\"tex2jax_ignore\"><div class=\"entities\" style=\"line-height: 2.5; direction: ltr\">behind on my classes for work </div></span>"
      ],
      "text/plain": [
       "<IPython.core.display.HTML object>"
      ]
     },
     "metadata": {},
     "output_type": "display_data"
    },
    {
     "data": {
      "text/html": [
       "<span class=\"tex2jax_ignore\"><div class=\"entities\" style=\"line-height: 2.5; direction: ltr\">watching &amp;quot;house&amp;quot; </div></span>"
      ],
      "text/plain": [
       "<IPython.core.display.HTML object>"
      ]
     },
     "metadata": {},
     "output_type": "display_data"
    },
    {
     "data": {
      "text/html": [
       "<span class=\"tex2jax_ignore\"><div class=\"entities\" style=\"line-height: 2.5; direction: ltr\"> remember my bum leg? strikes back this time its serious </div></span>"
      ],
      "text/plain": [
       "<IPython.core.display.HTML object>"
      ]
     },
     "metadata": {},
     "output_type": "display_data"
    },
    {
     "data": {
      "text/html": [
       "<span class=\"tex2jax_ignore\"><div class=\"entities\" style=\"line-height: 2.5; direction: ltr\"> cool i will their are all kinds of complaints about this laptop online about overheating but no recalls </div></span>"
      ],
      "text/plain": [
       "<IPython.core.display.HTML object>"
      ]
     },
     "metadata": {},
     "output_type": "display_data"
    },
    {
     "data": {
      "text/html": [
       "<span class=\"tex2jax_ignore\"><div class=\"entities\" style=\"line-height: 2.5; direction: ltr\">emily will be glad when mommy is done training at her new job she misses her  </div></span>"
      ],
      "text/plain": [
       "<IPython.core.display.HTML object>"
      ]
     },
     "metadata": {},
     "output_type": "display_data"
    },
    {
     "data": {
      "text/html": [
       "<span class=\"tex2jax_ignore\"><div class=\"entities\" style=\"line-height: 2.5; direction: ltr\">would rather the first party send bad messages than the 3rd party send mixed ones  sophmore year all over again?</div></span>"
      ],
      "text/plain": [
       "<IPython.core.display.HTML object>"
      ]
     },
     "metadata": {},
     "output_type": "display_data"
    },
    {
     "data": {
      "text/html": [
       "<span class=\"tex2jax_ignore\"><div class=\"entities\" style=\"line-height: 2.5; direction: ltr\"> it's overrated </div></span>"
      ],
      "text/plain": [
       "<IPython.core.display.HTML object>"
      ]
     },
     "metadata": {},
     "output_type": "display_data"
    },
    {
     "data": {
      "text/html": [
       "<span class=\"tex2jax_ignore\"><div class=\"entities\" style=\"line-height: 2.5; direction: ltr\"> i know! i heard it this afternoon and wondered the same thing moscow is so behind the times </div></span>"
      ],
      "text/plain": [
       "<IPython.core.display.HTML object>"
      ]
     },
     "metadata": {},
     "output_type": "display_data"
    },
    {
     "data": {
      "text/html": [
       "<span class=\"tex2jax_ignore\"><div class=\"entities\" style=\"line-height: 2.5; direction: ltr\">laying in bed with no voice </div></span>"
      ],
      "text/plain": [
       "<IPython.core.display.HTML object>"
      ]
     },
     "metadata": {},
     "output_type": "display_data"
    },
    {
     "data": {
      "text/html": [
       "<span class=\"tex2jax_ignore\"><div class=\"entities\" style=\"line-height: 2.5; direction: ltr\">i'm sooo sad!!! they killed off kutner on house  whyyyyyyyy</div></span>"
      ],
      "text/plain": [
       "<IPython.core.display.HTML object>"
      ]
     },
     "metadata": {},
     "output_type": "display_data"
    },
    {
     "data": {
      "text/html": [
       "<span class=\"tex2jax_ignore\"><div class=\"entities\" style=\"line-height: 2.5; direction: ltr\"> sorry  tell them mea culpa from me and that i really am sorry</div></span>"
      ],
      "text/plain": [
       "<IPython.core.display.HTML object>"
      ]
     },
     "metadata": {},
     "output_type": "display_data"
    },
    {
     "data": {
      "text/html": [
       "<span class=\"tex2jax_ignore\"><div class=\"entities\" style=\"line-height: 2.5; direction: ltr\"> it didn't make any sense to me the suicide thing i refuse to believe that that is actually what happened </div></span>"
      ],
      "text/plain": [
       "<IPython.core.display.HTML object>"
      ]
     },
     "metadata": {},
     "output_type": "display_data"
    },
    {
     "data": {
      "text/html": [
       "<span class=\"tex2jax_ignore\"><div class=\"entities\" style=\"line-height: 2.5; direction: ltr\">  hope your ok</div></span>"
      ],
      "text/plain": [
       "<IPython.core.display.HTML object>"
      ]
     },
     "metadata": {},
     "output_type": "display_data"
    },
    {
     "data": {
      "text/html": [
       "<span class=\"tex2jax_ignore\"><div class=\"entities\" style=\"line-height: 2.5; direction: ltr\"> damn! the grind is inspirational and saddening at the same time  don't want you to stop cuz i like what u do! much love</div></span>"
      ],
      "text/plain": [
       "<IPython.core.display.HTML object>"
      ]
     },
     "metadata": {},
     "output_type": "display_data"
    },
    {
     "data": {
      "text/html": [
       "<span class=\"tex2jax_ignore\"><div class=\"entities\" style=\"line-height: 2.5; direction: ltr\"> yeah aw but i know i \n",
       "<mark class=\"entity\" style=\"background: #ddd; padding: 0.45em 0.6em; margin: 0 0.25em; line-height: 1; border-radius: 0.35em;\">\n",
       "    wudnt\n",
       "    <span style=\"font-size: 0.8em; font-weight: bold; line-height: 1; border-radius: 0.35em; vertical-align: middle; margin-left: 0.5rem\">FOOD</span>\n",
       "</mark>\n",
       " stand a chance </div></span>"
      ],
      "text/plain": [
       "<IPython.core.display.HTML object>"
      ]
     },
     "metadata": {},
     "output_type": "display_data"
    },
    {
     "data": {
      "text/html": [
       "<span class=\"tex2jax_ignore\"><div class=\"entities\" style=\"line-height: 2.5; direction: ltr\">ugh cant sleep its 1:30am </div></span>"
      ],
      "text/plain": [
       "<IPython.core.display.HTML object>"
      ]
     },
     "metadata": {},
     "output_type": "display_data"
    },
    {
     "data": {
      "text/html": [
       "<span class=\"tex2jax_ignore\"><div class=\"entities\" style=\"line-height: 2.5; direction: ltr\">hanging in crooners wanna sing can't sucks </div></span>"
      ],
      "text/plain": [
       "<IPython.core.display.HTML object>"
      ]
     },
     "metadata": {},
     "output_type": "display_data"
    },
    {
     "data": {
      "text/html": [
       "<span class=\"tex2jax_ignore\"><div class=\"entities\" style=\"line-height: 2.5; direction: ltr\"> aaw i miss ya all too im leaving to bh tomorrow &amp;quot;morning&amp;quot; i think aww i wanna go to the beach w u girls!! </div></span>"
      ],
      "text/plain": [
       "<IPython.core.display.HTML object>"
      ]
     },
     "metadata": {},
     "output_type": "display_data"
    },
    {
     "data": {
      "text/html": [
       "<span class=\"tex2jax_ignore\"><div class=\"entities\" style=\"line-height: 2.5; direction: ltr\">is pissed off that there's no asba's for a radio station </div></span>"
      ],
      "text/plain": [
       "<IPython.core.display.HTML object>"
      ]
     },
     "metadata": {},
     "output_type": "display_data"
    },
    {
     "data": {
      "text/html": [
       "<span class=\"tex2jax_ignore\"><div class=\"entities\" style=\"line-height: 2.5; direction: ltr\">wednesday my bday n don't know what 2 do!  </div></span>"
      ],
      "text/plain": [
       "<IPython.core.display.HTML object>"
      ]
     },
     "metadata": {},
     "output_type": "display_data"
    },
    {
     "data": {
      "text/html": [
       "<span class=\"tex2jax_ignore\"><div class=\"entities\" style=\"line-height: 2.5; direction: ltr\">i know my life has been flipped upside down when i just thought in my head that some ramen sounds good </div></span>"
      ],
      "text/plain": [
       "<IPython.core.display.HTML object>"
      ]
     },
     "metadata": {},
     "output_type": "display_data"
    },
    {
     "data": {
      "text/html": [
       "<span class=\"tex2jax_ignore\"><div class=\"entities\" style=\"line-height: 2.5; direction: ltr\">i am in pain my back and sides hurt not to mention crying is made of fail </div></span>"
      ],
      "text/plain": [
       "<IPython.core.display.HTML object>"
      ]
     },
     "metadata": {},
     "output_type": "display_data"
    },
    {
     "data": {
      "text/html": [
       "<span class=\"tex2jax_ignore\"><div class=\"entities\" style=\"line-height: 2.5; direction: ltr\">late night snack glass of oj b/c i'm &amp;quot;down with the sickness&amp;quot; then back to sleepugh i hate getting sick </div></span>"
      ],
      "text/plain": [
       "<IPython.core.display.HTML object>"
      ]
     },
     "metadata": {},
     "output_type": "display_data"
    },
    {
     "data": {
      "text/html": [
       "<span class=\"tex2jax_ignore\"><div class=\"entities\" style=\"line-height: 2.5; direction: ltr\"> but but but i'm not a big fan on camilla belle </div></span>"
      ],
      "text/plain": [
       "<IPython.core.display.HTML object>"
      ]
     },
     "metadata": {},
     "output_type": "display_data"
    },
    {
     "data": {
      "text/html": [
       "<span class=\"tex2jax_ignore\"><div class=\"entities\" style=\"line-height: 2.5; direction: ltr\"> wah i can't see clip must be elstupido work filters can't wait 'till i get a 'puter something else 2 blame ex 4 he broke mine </div></span>"
      ],
      "text/plain": [
       "<IPython.core.display.HTML object>"
      ]
     },
     "metadata": {},
     "output_type": "display_data"
    },
    {
     "data": {
      "text/html": [
       "<span class=\"tex2jax_ignore\"><div class=\"entities\" style=\"line-height: 2.5; direction: ltr\">this week just seems to get longer and longer in terms of how much i need to do and how much i'm actually going to get done </div></span>"
      ],
      "text/plain": [
       "<IPython.core.display.HTML object>"
      ]
     },
     "metadata": {},
     "output_type": "display_data"
    },
    {
     "data": {
      "text/html": [
       "<span class=\"tex2jax_ignore\"><div class=\"entities\" style=\"line-height: 2.5; direction: ltr\">i'm so cold </div></span>"
      ],
      "text/plain": [
       "<IPython.core.display.HTML object>"
      ]
     },
     "metadata": {},
     "output_type": "display_data"
    },
    {
     "data": {
      "text/html": [
       "<span class=\"tex2jax_ignore\"><div class=\"entities\" style=\"line-height: 2.5; direction: ltr\"> ehhh don't weather's gonna take a turn for the ugly tomorrow </div></span>"
      ],
      "text/plain": [
       "<IPython.core.display.HTML object>"
      ]
     },
     "metadata": {},
     "output_type": "display_data"
    },
    {
     "data": {
      "text/html": [
       "<span class=\"tex2jax_ignore\"><div class=\"entities\" style=\"line-height: 2.5; direction: ltr\"> haha its so cooooold in the d! and no  but you should still go to the show they do some incredible stuff</div></span>"
      ],
      "text/plain": [
       "<IPython.core.display.HTML object>"
      ]
     },
     "metadata": {},
     "output_type": "display_data"
    },
    {
     "data": {
      "text/html": [
       "<span class=\"tex2jax_ignore\"><div class=\"entities\" style=\"line-height: 2.5; direction: ltr\">hoping the tummy rumbles go away soon </div></span>"
      ],
      "text/plain": [
       "<IPython.core.display.HTML object>"
      ]
     },
     "metadata": {},
     "output_type": "display_data"
    },
    {
     "data": {
      "text/html": [
       "<span class=\"tex2jax_ignore\"><div class=\"entities\" style=\"line-height: 2.5; direction: ltr\"> no no notice they told me i'd be working tomorrow and then i called the agency to follow up and they said it was over </div></span>"
      ],
      "text/plain": [
       "<IPython.core.display.HTML object>"
      ]
     },
     "metadata": {},
     "output_type": "display_data"
    },
    {
     "data": {
      "text/html": [
       "<span class=\"tex2jax_ignore\"><div class=\"entities\" style=\"line-height: 2.5; direction: ltr\">almost bedtime </div></span>"
      ],
      "text/plain": [
       "<IPython.core.display.HTML object>"
      ]
     },
     "metadata": {},
     "output_type": "display_data"
    },
    {
     "data": {
      "text/html": [
       "<span class=\"tex2jax_ignore\"><div class=\"entities\" style=\"line-height: 2.5; direction: ltr\">i'm missing you babe  but as long as your alive i'm happy yawwwnn i'm tired my love imma try to sleep hopefully you had a headstart</div></span>"
      ],
      "text/plain": [
       "<IPython.core.display.HTML object>"
      ]
     },
     "metadata": {},
     "output_type": "display_data"
    },
    {
     "data": {
      "text/html": [
       "<span class=\"tex2jax_ignore\"><div class=\"entities\" style=\"line-height: 2.5; direction: ltr\">aghsnow!!! </div></span>"
      ],
      "text/plain": [
       "<IPython.core.display.HTML object>"
      ]
     },
     "metadata": {},
     "output_type": "display_data"
    },
    {
     "data": {
      "text/html": [
       "<span class=\"tex2jax_ignore\"><div class=\"entities\" style=\"line-height: 2.5; direction: ltr\">i miss kenny powers </div></span>"
      ],
      "text/plain": [
       "<IPython.core.display.HTML object>"
      ]
     },
     "metadata": {},
     "output_type": "display_data"
    },
    {
     "data": {
      "text/html": [
       "<span class=\"tex2jax_ignore\"><div class=\"entities\" style=\"line-height: 2.5; direction: ltr\"> thank you for letting people know but now i'm sad that the direct message i got wasn't actually from bridget </div></span>"
      ],
      "text/plain": [
       "<IPython.core.display.HTML object>"
      ]
     },
     "metadata": {},
     "output_type": "display_data"
    },
    {
     "data": {
      "text/html": [
       "<span class=\"tex2jax_ignore\"><div class=\"entities\" style=\"line-height: 2.5; direction: ltr\">and india missed out its 100th test victory n 10th consecutive win without a loss </div></span>"
      ],
      "text/plain": [
       "<IPython.core.display.HTML object>"
      ]
     },
     "metadata": {},
     "output_type": "display_data"
    },
    {
     "data": {
      "text/html": [
       "<span class=\"tex2jax_ignore\"><div class=\"entities\" style=\"line-height: 2.5; direction: ltr\"> i guess that's a no then </div></span>"
      ],
      "text/plain": [
       "<IPython.core.display.HTML object>"
      ]
     },
     "metadata": {},
     "output_type": "display_data"
    },
    {
     "data": {
      "text/html": [
       "<span class=\"tex2jax_ignore\"><div class=\"entities\" style=\"line-height: 2.5; direction: ltr\">sadly is going to bed </div></span>"
      ],
      "text/plain": [
       "<IPython.core.display.HTML object>"
      ]
     },
     "metadata": {},
     "output_type": "display_data"
    },
    {
     "data": {
      "text/html": [
       "<span class=\"tex2jax_ignore\"><div class=\"entities\" style=\"line-height: 2.5; direction: ltr\"> shame to hear this stephan </div></span>"
      ],
      "text/plain": [
       "<IPython.core.display.HTML object>"
      ]
     },
     "metadata": {},
     "output_type": "display_data"
    },
    {
     "data": {
      "text/html": [
       "<span class=\"tex2jax_ignore\"><div class=\"entities\" style=\"line-height: 2.5; direction: ltr\"> hey! i'm leavin in the morning </div></span>"
      ],
      "text/plain": [
       "<IPython.core.display.HTML object>"
      ]
     },
     "metadata": {},
     "output_type": "display_data"
    },
    {
     "data": {
      "text/html": [
       "<span class=\"tex2jax_ignore\"><div class=\"entities\" style=\"line-height: 2.5; direction: ltr\">was intending to finish editing my 536page novel manuscript tonight but that will probably not happen and only 12 pages are left </div></span>"
      ],
      "text/plain": [
       "<IPython.core.display.HTML object>"
      ]
     },
     "metadata": {},
     "output_type": "display_data"
    },
    {
     "data": {
      "text/html": [
       "<span class=\"tex2jax_ignore\"><div class=\"entities\" style=\"line-height: 2.5; direction: ltr\">laid around too much today now my head hurts </div></span>"
      ],
      "text/plain": [
       "<IPython.core.display.HTML object>"
      ]
     },
     "metadata": {},
     "output_type": "display_data"
    },
    {
     "data": {
      "text/html": [
       "<span class=\"tex2jax_ignore\"><div class=\"entities\" style=\"line-height: 2.5; direction: ltr\"> i still haven't read the 9thand10th princess diaries  saving francesca made me cry at the end hmm those are easy books</div></span>"
      ],
      "text/plain": [
       "<IPython.core.display.HTML object>"
      ]
     },
     "metadata": {},
     "output_type": "display_data"
    },
    {
     "data": {
      "text/html": [
       "<span class=\"tex2jax_ignore\"><div class=\"entities\" style=\"line-height: 2.5; direction: ltr\">my nokia 1110 died  </div></span>"
      ],
      "text/plain": [
       "<IPython.core.display.HTML object>"
      ]
     },
     "metadata": {},
     "output_type": "display_data"
    },
    {
     "data": {
      "text/html": [
       "<span class=\"tex2jax_ignore\"><div class=\"entities\" style=\"line-height: 2.5; direction: ltr\">my mom might have breast cancer won't find out anything for like a week i'm so worried! </div></span>"
      ],
      "text/plain": [
       "<IPython.core.display.HTML object>"
      ]
     },
     "metadata": {},
     "output_type": "display_data"
    },
    {
     "data": {
      "text/html": [
       "<span class=\"tex2jax_ignore\"><div class=\"entities\" style=\"line-height: 2.5; direction: ltr\">going to sleep hoping tomorrow is a better day </div></span>"
      ],
      "text/plain": [
       "<IPython.core.display.HTML object>"
      ]
     },
     "metadata": {},
     "output_type": "display_data"
    },
    {
     "data": {
      "text/html": [
       "<span class=\"tex2jax_ignore\"><div class=\"entities\" style=\"line-height: 2.5; direction: ltr\"> lol wish they understood daylight savings has ended though and breakfast is an hour later  they keep waking the kids up too</div></span>"
      ],
      "text/plain": [
       "<IPython.core.display.HTML object>"
      ]
     },
     "metadata": {},
     "output_type": "display_data"
    },
    {
     "data": {
      "text/html": [
       "<span class=\"tex2jax_ignore\"><div class=\"entities\" style=\"line-height: 2.5; direction: ltr\"> that is lame </div></span>"
      ],
      "text/plain": [
       "<IPython.core.display.HTML object>"
      ]
     },
     "metadata": {},
     "output_type": "display_data"
    },
    {
     "data": {
      "text/html": [
       "<span class=\"tex2jax_ignore\"><div class=\"entities\" style=\"line-height: 2.5; direction: ltr\">i don't understand i really don't </div></span>"
      ],
      "text/plain": [
       "<IPython.core.display.HTML object>"
      ]
     },
     "metadata": {},
     "output_type": "display_data"
    },
    {
     "data": {
      "text/html": [
       "<span class=\"tex2jax_ignore\"><div class=\"entities\" style=\"line-height: 2.5; direction: ltr\">heroes just isn't doing it for me this season </div></span>"
      ],
      "text/plain": [
       "<IPython.core.display.HTML object>"
      ]
     },
     "metadata": {},
     "output_type": "display_data"
    },
    {
     "data": {
      "text/html": [
       "<span class=\"tex2jax_ignore\"><div class=\"entities\" style=\"line-height: 2.5; direction: ltr\">living not downtown sure isn't much fun  </div></span>"
      ],
      "text/plain": [
       "<IPython.core.display.HTML object>"
      ]
     },
     "metadata": {},
     "output_type": "display_data"
    },
    {
     "data": {
      "text/html": [
       "<span class=\"tex2jax_ignore\"><div class=\"entities\" style=\"line-height: 2.5; direction: ltr\"> not calorie wise   i wish junk food was calorie free! i ate a thing of sour skittles and a big ass cherry coke!</div></span>"
      ],
      "text/plain": [
       "<IPython.core.display.HTML object>"
      ]
     },
     "metadata": {},
     "output_type": "display_data"
    },
    {
     "data": {
      "text/html": [
       "<span class=\"tex2jax_ignore\"><div class=\"entities\" style=\"line-height: 2.5; direction: ltr\">man work is hard </div></span>"
      ],
      "text/plain": [
       "<IPython.core.display.HTML object>"
      ]
     },
     "metadata": {},
     "output_type": "display_data"
    },
    {
     "data": {
      "text/html": [
       "<span class=\"tex2jax_ignore\"><div class=\"entities\" style=\"line-height: 2.5; direction: ltr\">getting sick  time for some hot \n",
       "<mark class=\"entity\" style=\"background: #ddd; padding: 0.45em 0.6em; margin: 0 0.25em; line-height: 1; border-radius: 0.35em;\">\n",
       "    tea\n",
       "    <span style=\"font-size: 0.8em; font-weight: bold; line-height: 1; border-radius: 0.35em; vertical-align: middle; margin-left: 0.5rem\">FOOD</span>\n",
       "</mark>\n",
       " studying and then sleeeep</div></span>"
      ],
      "text/plain": [
       "<IPython.core.display.HTML object>"
      ]
     },
     "metadata": {},
     "output_type": "display_data"
    },
    {
     "data": {
      "text/html": [
       "<span class=\"tex2jax_ignore\"><div class=\"entities\" style=\"line-height: 2.5; direction: ltr\">getting eyebrows waxed more pain </div></span>"
      ],
      "text/plain": [
       "<IPython.core.display.HTML object>"
      ]
     },
     "metadata": {},
     "output_type": "display_data"
    },
    {
     "data": {
      "text/html": [
       "<span class=\"tex2jax_ignore\"><div class=\"entities\" style=\"line-height: 2.5; direction: ltr\">no phantasy star yesterday  going to work</div></span>"
      ],
      "text/plain": [
       "<IPython.core.display.HTML object>"
      ]
     },
     "metadata": {},
     "output_type": "display_data"
    },
    {
     "data": {
      "text/html": [
       "<span class=\"tex2jax_ignore\"><div class=\"entities\" style=\"line-height: 2.5; direction: ltr\">oh  just got all my macheist 30 apps  sweet didn't get the espresso serial no though although they said they sent it  oh well </div></span>"
      ],
      "text/plain": [
       "<IPython.core.display.HTML object>"
      ]
     },
     "metadata": {},
     "output_type": "display_data"
    },
    {
     "data": {
      "text/html": [
       "<span class=\"tex2jax_ignore\"><div class=\"entities\" style=\"line-height: 2.5; direction: ltr\">picked mich st to win it all from the get go  was feeling pretty good about that pick all the way up untiltonight  a's lost too </div></span>"
      ],
      "text/plain": [
       "<IPython.core.display.HTML object>"
      ]
     },
     "metadata": {},
     "output_type": "display_data"
    },
    {
     "data": {
      "text/html": [
       "<span class=\"tex2jax_ignore\"><div class=\"entities\" style=\"line-height: 2.5; direction: ltr\">is alone downstairsworking </div></span>"
      ],
      "text/plain": [
       "<IPython.core.display.HTML object>"
      ]
     },
     "metadata": {},
     "output_type": "display_data"
    },
    {
     "data": {
      "text/html": [
       "<span class=\"tex2jax_ignore\"><div class=\"entities\" style=\"line-height: 2.5; direction: ltr\">i feel bad for doing it </div></span>"
      ],
      "text/plain": [
       "<IPython.core.display.HTML object>"
      ]
     },
     "metadata": {},
     "output_type": "display_data"
    },
    {
     "data": {
      "text/html": [
       "<span class=\"tex2jax_ignore\"><div class=\"entities\" style=\"line-height: 2.5; direction: ltr\"> is it just me or she hates anoop i mean seriously she's kinda mean to him </div></span>"
      ],
      "text/plain": [
       "<IPython.core.display.HTML object>"
      ]
     },
     "metadata": {},
     "output_type": "display_data"
    },
    {
     "data": {
      "text/html": [
       "<span class=\"tex2jax_ignore\"><div class=\"entities\" style=\"line-height: 2.5; direction: ltr\"> yes sprint has 4g only in baltimore and chicago so far </div></span>"
      ],
      "text/plain": [
       "<IPython.core.display.HTML object>"
      ]
     },
     "metadata": {},
     "output_type": "display_data"
    },
    {
     "data": {
      "text/html": [
       "<span class=\"tex2jax_ignore\"><div class=\"entities\" style=\"line-height: 2.5; direction: ltr\">i'm stuck awake in the middle of the night for the second day in a row and i felt terrible yesterday </div></span>"
      ],
      "text/plain": [
       "<IPython.core.display.HTML object>"
      ]
     },
     "metadata": {},
     "output_type": "display_data"
    },
    {
     "data": {
      "text/html": [
       "<span class=\"tex2jax_ignore\"><div class=\"entities\" style=\"line-height: 2.5; direction: ltr\">thanks for bursting my bubble </div></span>"
      ],
      "text/plain": [
       "<IPython.core.display.HTML object>"
      ]
     },
     "metadata": {},
     "output_type": "display_data"
    },
    {
     "data": {
      "text/html": [
       "<span class=\"tex2jax_ignore\"><div class=\"entities\" style=\"line-height: 2.5; direction: ltr\">going to school soon can't find anything to wear!! gosh it's so hard </div></span>"
      ],
      "text/plain": [
       "<IPython.core.display.HTML object>"
      ]
     },
     "metadata": {},
     "output_type": "display_data"
    },
    {
     "data": {
      "text/html": [
       "<span class=\"tex2jax_ignore\"><div class=\"entities\" style=\"line-height: 2.5; direction: ltr\"> i was serious  lol</div></span>"
      ],
      "text/plain": [
       "<IPython.core.display.HTML object>"
      ]
     },
     "metadata": {},
     "output_type": "display_data"
    },
    {
     "data": {
      "text/html": [
       "<span class=\"tex2jax_ignore\"><div class=\"entities\" style=\"line-height: 2.5; direction: ltr\"> i had on my page for sooooo long!!! until it got deleted  sad day in history</div></span>"
      ],
      "text/plain": [
       "<IPython.core.display.HTML object>"
      ]
     },
     "metadata": {},
     "output_type": "display_data"
    },
    {
     "data": {
      "text/html": [
       "<span class=\"tex2jax_ignore\"><div class=\"entities\" style=\"line-height: 2.5; direction: ltr\">crazy wind today = no birding  </div></span>"
      ],
      "text/plain": [
       "<IPython.core.display.HTML object>"
      ]
     },
     "metadata": {},
     "output_type": "display_data"
    },
    {
     "data": {
      "text/html": [
       "<span class=\"tex2jax_ignore\"><div class=\"entities\" style=\"line-height: 2.5; direction: ltr\">currently at work </div></span>"
      ],
      "text/plain": [
       "<IPython.core.display.HTML object>"
      ]
     },
     "metadata": {},
     "output_type": "display_data"
    },
    {
     "data": {
      "text/html": [
       "<span class=\"tex2jax_ignore\"><div class=\"entities\" style=\"line-height: 2.5; direction: ltr\">grrr my ipods acting weird too! jai ho and thinking of you aren't playing the full songs ughh </div></span>"
      ],
      "text/plain": [
       "<IPython.core.display.HTML object>"
      ]
     },
     "metadata": {},
     "output_type": "display_data"
    },
    {
     "data": {
      "text/html": [
       "<span class=\"tex2jax_ignore\"><div class=\"entities\" style=\"line-height: 2.5; direction: ltr\"> send me the dvd cos i have missed out on heaps  not happy about that!</div></span>"
      ],
      "text/plain": [
       "<IPython.core.display.HTML object>"
      ]
     },
     "metadata": {},
     "output_type": "display_data"
    },
    {
     "data": {
      "text/html": [
       "<span class=\"tex2jax_ignore\"><div class=\"entities\" style=\"line-height: 2.5; direction: ltr\">i don't see the big deal with this website </div></span>"
      ],
      "text/plain": [
       "<IPython.core.display.HTML object>"
      ]
     },
     "metadata": {},
     "output_type": "display_data"
    },
    {
     "data": {
      "text/html": [
       "<span class=\"tex2jax_ignore\"><div class=\"entities\" style=\"line-height: 2.5; direction: ltr\"> i'm so sorry you're having to go through this again  #therapyfail</div></span>"
      ],
      "text/plain": [
       "<IPython.core.display.HTML object>"
      ]
     },
     "metadata": {},
     "output_type": "display_data"
    },
    {
     "data": {
      "text/html": [
       "<span class=\"tex2jax_ignore\"><div class=\"entities\" style=\"line-height: 2.5; direction: ltr\"> far too out of the way for rail  any other tips?</div></span>"
      ],
      "text/plain": [
       "<IPython.core.display.HTML object>"
      ]
     },
     "metadata": {},
     "output_type": "display_data"
    },
    {
     "data": {
      "text/html": [
       "<span class=\"tex2jax_ignore\"><div class=\"entities\" style=\"line-height: 2.5; direction: ltr\">i'm not still up i swear why do i keep losing gaining losing gaining tweeps?  so heart wrenching</div></span>"
      ],
      "text/plain": [
       "<IPython.core.display.HTML object>"
      ]
     },
     "metadata": {},
     "output_type": "display_data"
    },
    {
     "data": {
      "text/html": [
       "<span class=\"tex2jax_ignore\"><div class=\"entities\" style=\"line-height: 2.5; direction: ltr\">today i realized i am too good at hiding things even i can't find it </div></span>"
      ],
      "text/plain": [
       "<IPython.core.display.HTML object>"
      ]
     },
     "metadata": {},
     "output_type": "display_data"
    },
    {
     "data": {
      "text/html": [
       "<span class=\"tex2jax_ignore\"><div class=\"entities\" style=\"line-height: 2.5; direction: ltr\">staying at a friends househouse sitting neighbors are so loudhaving a party </div></span>"
      ],
      "text/plain": [
       "<IPython.core.display.HTML object>"
      ]
     },
     "metadata": {},
     "output_type": "display_data"
    },
    {
     "data": {
      "text/html": [
       "<span class=\"tex2jax_ignore\"><div class=\"entities\" style=\"line-height: 2.5; direction: ltr\"> danny im upset that i wasnt here to watch the live chat  i was in a car for 3 hours on a trip im soooo upset!!</div></span>"
      ],
      "text/plain": [
       "<IPython.core.display.HTML object>"
      ]
     },
     "metadata": {},
     "output_type": "display_data"
    },
    {
     "data": {
      "text/html": [
       "<span class=\"tex2jax_ignore\"><div class=\"entities\" style=\"line-height: 2.5; direction: ltr\">check out my mug  obscurablogspotcom</div></span>"
      ],
      "text/plain": [
       "<IPython.core.display.HTML object>"
      ]
     },
     "metadata": {},
     "output_type": "display_data"
    },
    {
     "data": {
      "text/html": [
       "<span class=\"tex2jax_ignore\"><div class=\"entities\" style=\"line-height: 2.5; direction: ltr\">borders closed at 10 </div></span>"
      ],
      "text/plain": [
       "<IPython.core.display.HTML object>"
      ]
     },
     "metadata": {},
     "output_type": "display_data"
    },
    {
     "data": {
      "text/html": [
       "<span class=\"tex2jax_ignore\"><div class=\"entities\" style=\"line-height: 2.5; direction: ltr\">downloading nin's new album &amp;quot;the slip&amp;quot;  when the hell did this come out? i'm so behind the times these days </div></span>"
      ],
      "text/plain": [
       "<IPython.core.display.HTML object>"
      ]
     },
     "metadata": {},
     "output_type": "display_data"
    },
    {
     "data": {
      "text/html": [
       "<span class=\"tex2jax_ignore\"><div class=\"entities\" style=\"line-height: 2.5; direction: ltr\">just woke up an already have written some email i've to go early at university today as i have to teach at 8:30 am! </div></span>"
      ],
      "text/plain": [
       "<IPython.core.display.HTML object>"
      ]
     },
     "metadata": {},
     "output_type": "display_data"
    },
    {
     "data": {
      "text/html": [
       "<span class=\"tex2jax_ignore\"><div class=\"entities\" style=\"line-height: 2.5; direction: ltr\">is watching the hill   and its making me sad </div></span>"
      ],
      "text/plain": [
       "<IPython.core.display.HTML object>"
      ]
     },
     "metadata": {},
     "output_type": "display_data"
    },
    {
     "data": {
      "text/html": [
       "<span class=\"tex2jax_ignore\"><div class=\"entities\" style=\"line-height: 2.5; direction: ltr\">so many channels yet so so boring lazy day again  may have to find a hobby</div></span>"
      ],
      "text/plain": [
       "<IPython.core.display.HTML object>"
      ]
     },
     "metadata": {},
     "output_type": "display_data"
    },
    {
     "data": {
      "text/html": [
       "<span class=\"tex2jax_ignore\"><div class=\"entities\" style=\"line-height: 2.5; direction: ltr\"> i miss my buddy  ill be in ny on the 25th</div></span>"
      ],
      "text/plain": [
       "<IPython.core.display.HTML object>"
      ]
     },
     "metadata": {},
     "output_type": "display_data"
    },
    {
     "data": {
      "text/html": [
       "<span class=\"tex2jax_ignore\"><div class=\"entities\" style=\"line-height: 2.5; direction: ltr\">  love the french i tell people here in the south i'm qtr french and they snarl at me  french are beautiful people</div></span>"
      ],
      "text/plain": [
       "<IPython.core.display.HTML object>"
      ]
     },
     "metadata": {},
     "output_type": "display_data"
    },
    {
     "data": {
      "text/html": [
       "<span class=\"tex2jax_ignore\"><div class=\"entities\" style=\"line-height: 2.5; direction: ltr\">opps as i said i still got one day remain and now problem come </div></span>"
      ],
      "text/plain": [
       "<IPython.core.display.HTML object>"
      ]
     },
     "metadata": {},
     "output_type": "display_data"
    },
    {
     "data": {
      "text/html": [
       "<span class=\"tex2jax_ignore\"><div class=\"entities\" style=\"line-height: 2.5; direction: ltr\">i activated my selfcontrol block early meaning i can't check out the new qc  regularizing my internal clock is might be difficult #fb</div></span>"
      ],
      "text/plain": [
       "<IPython.core.display.HTML object>"
      ]
     },
     "metadata": {},
     "output_type": "display_data"
    },
    {
     "data": {
      "text/html": [
       "<span class=\"tex2jax_ignore\"><div class=\"entities\" style=\"line-height: 2.5; direction: ltr\">  oh no</div></span>"
      ],
      "text/plain": [
       "<IPython.core.display.HTML object>"
      ]
     },
     "metadata": {},
     "output_type": "display_data"
    },
    {
     "data": {
      "text/html": [
       "<span class=\"tex2jax_ignore\"><div class=\"entities\" style=\"line-height: 2.5; direction: ltr\">spencer is not a good guy </div></span>"
      ],
      "text/plain": [
       "<IPython.core.display.HTML object>"
      ]
     },
     "metadata": {},
     "output_type": "display_data"
    },
    {
     "data": {
      "text/html": [
       "<span class=\"tex2jax_ignore\"><div class=\"entities\" style=\"line-height: 2.5; direction: ltr\"> what about reese dying on #ttsc? and season finale next week  #24 boring madame president is a crazy woman</div></span>"
      ],
      "text/plain": [
       "<IPython.core.display.HTML object>"
      ]
     },
     "metadata": {},
     "output_type": "display_data"
    },
    {
     "data": {
      "text/html": [
       "<span class=\"tex2jax_ignore\"><div class=\"entities\" style=\"line-height: 2.5; direction: ltr\"> i hate the limited letterstoohope you and the guys are fine?i pray for my dogshe�s not well </div></span>"
      ],
      "text/plain": [
       "<IPython.core.display.HTML object>"
      ]
     },
     "metadata": {},
     "output_type": "display_data"
    },
    {
     "data": {
      "text/html": [
       "<span class=\"tex2jax_ignore\"><div class=\"entities\" style=\"line-height: 2.5; direction: ltr\">didn't get shit done today ~ i'm so screwed </div></span>"
      ],
      "text/plain": [
       "<IPython.core.display.HTML object>"
      ]
     },
     "metadata": {},
     "output_type": "display_data"
    },
    {
     "data": {
      "text/html": [
       "<span class=\"tex2jax_ignore\"><div class=\"entities\" style=\"line-height: 2.5; direction: ltr\">wanttss to go out </div></span>"
      ],
      "text/plain": [
       "<IPython.core.display.HTML object>"
      ]
     },
     "metadata": {},
     "output_type": "display_data"
    },
    {
     "data": {
      "text/html": [
       "<span class=\"tex2jax_ignore\"><div class=\"entities\" style=\"line-height: 2.5; direction: ltr\">is not going to sleep tonite </div></span>"
      ],
      "text/plain": [
       "<IPython.core.display.HTML object>"
      ]
     },
     "metadata": {},
     "output_type": "display_data"
    },
    {
     "data": {
      "text/html": [
       "<span class=\"tex2jax_ignore\"><div class=\"entities\" style=\"line-height: 2.5; direction: ltr\">too worried and tired to post tonight </div></span>"
      ],
      "text/plain": [
       "<IPython.core.display.HTML object>"
      ]
     },
     "metadata": {},
     "output_type": "display_data"
    },
    {
     "data": {
      "text/html": [
       "<span class=\"tex2jax_ignore\"><div class=\"entities\" style=\"line-height: 2.5; direction: ltr\">couldn't get shit done today ~ i'm so screwed </div></span>"
      ],
      "text/plain": [
       "<IPython.core.display.HTML object>"
      ]
     },
     "metadata": {},
     "output_type": "display_data"
    },
    {
     "data": {
      "text/html": [
       "<span class=\"tex2jax_ignore\"><div class=\"entities\" style=\"line-height: 2.5; direction: ltr\">job interview in cardiff today wish me luck! got about 3 hours sleep </div></span>"
      ],
      "text/plain": [
       "<IPython.core.display.HTML object>"
      ]
     },
     "metadata": {},
     "output_type": "display_data"
    },
    {
     "data": {
      "text/html": [
       "<span class=\"tex2jax_ignore\"><div class=\"entities\" style=\"line-height: 2.5; direction: ltr\"> your show is whack way worse than whack it's wiggetywhack    :*(:*(:*(</div></span>"
      ],
      "text/plain": [
       "<IPython.core.display.HTML object>"
      ]
     },
     "metadata": {},
     "output_type": "display_data"
    },
    {
     "data": {
      "text/html": [
       "<span class=\"tex2jax_ignore\"><div class=\"entities\" style=\"line-height: 2.5; direction: ltr\"> i really don't think people choose to be that way but i think he chose not to accept my family's help   he might be dead by now</div></span>"
      ],
      "text/plain": [
       "<IPython.core.display.HTML object>"
      ]
     },
     "metadata": {},
     "output_type": "display_data"
    },
    {
     "data": {
      "text/html": [
       "<span class=\"tex2jax_ignore\"><div class=\"entities\" style=\"line-height: 2.5; direction: ltr\"> you're going to kill me but i've not seen ds9 i've been waiting till i can do it in one solid week sitting </div></span>"
      ],
      "text/plain": [
       "<IPython.core.display.HTML object>"
      ]
     },
     "metadata": {},
     "output_type": "display_data"
    },
    {
     "data": {
      "text/html": [
       "<span class=\"tex2jax_ignore\"><div class=\"entities\" style=\"line-height: 2.5; direction: ltr\"> i think ur right!! hahaha!! 45 hrs now!! </div></span>"
      ],
      "text/plain": [
       "<IPython.core.display.HTML object>"
      ]
     },
     "metadata": {},
     "output_type": "display_data"
    },
    {
     "data": {
      "text/html": [
       "<span class=\"tex2jax_ignore\"><div class=\"entities\" style=\"line-height: 2.5; direction: ltr\">i hate to see the spartans so sad </div></span>"
      ],
      "text/plain": [
       "<IPython.core.display.HTML object>"
      ]
     },
     "metadata": {},
     "output_type": "display_data"
    },
    {
     "data": {
      "text/html": [
       "<span class=\"tex2jax_ignore\"><div class=\"entities\" style=\"line-height: 2.5; direction: ltr\">my mind and body are severely protesting this &amp;quot;getting up&amp;quot;  thing had nightmares to boot </div></span>"
      ],
      "text/plain": [
       "<IPython.core.display.HTML object>"
      ]
     },
     "metadata": {},
     "output_type": "display_data"
    },
    {
     "data": {
      "text/html": [
       "<span class=\"tex2jax_ignore\"><div class=\"entities\" style=\"line-height: 2.5; direction: ltr\"> i'm goin' to follow u since u didn't  lol  go angels!</div></span>"
      ],
      "text/plain": [
       "<IPython.core.display.HTML object>"
      ]
     },
     "metadata": {},
     "output_type": "display_data"
    },
    {
     "data": {
      "text/html": [
       "<span class=\"tex2jax_ignore\"><div class=\"entities\" style=\"line-height: 2.5; direction: ltr\"> </div></span>"
      ],
      "text/plain": [
       "<IPython.core.display.HTML object>"
      ]
     },
     "metadata": {},
     "output_type": "display_data"
    },
    {
     "data": {
      "text/html": [
       "<span class=\"tex2jax_ignore\"><div class=\"entities\" style=\"line-height: 2.5; direction: ltr\"> i think i want to read some books but the library doesn't have them </div></span>"
      ],
      "text/plain": [
       "<IPython.core.display.HTML object>"
      ]
     },
     "metadata": {},
     "output_type": "display_data"
    },
    {
     "data": {
      "text/html": [
       "<span class=\"tex2jax_ignore\"><div class=\"entities\" style=\"line-height: 2.5; direction: ltr\">my nap was interrupted so many times today  going out for japanese with the 'rents again</div></span>"
      ],
      "text/plain": [
       "<IPython.core.display.HTML object>"
      ]
     },
     "metadata": {},
     "output_type": "display_data"
    },
    {
     "data": {
      "text/html": [
       "<span class=\"tex2jax_ignore\"><div class=\"entities\" style=\"line-height: 2.5; direction: ltr\">kind of longs for the bus that shows up at the end of ghost world right now ugh </div></span>"
      ],
      "text/plain": [
       "<IPython.core.display.HTML object>"
      ]
     },
     "metadata": {},
     "output_type": "display_data"
    },
    {
     "data": {
      "text/html": [
       "<span class=\"tex2jax_ignore\"><div class=\"entities\" style=\"line-height: 2.5; direction: ltr\"> but this is canada  canada is weird we're supposed to get snow through wednesday ugh</div></span>"
      ],
      "text/plain": [
       "<IPython.core.display.HTML object>"
      ]
     },
     "metadata": {},
     "output_type": "display_data"
    },
    {
     "data": {
      "text/html": [
       "<span class=\"tex2jax_ignore\"><div class=\"entities\" style=\"line-height: 2.5; direction: ltr\">awwh babs you look so sad underneith that shop entrance of &amp;quot;yesterday's musik&amp;quot;  o: i like the look of the new transformer movie </div></span>"
      ],
      "text/plain": [
       "<IPython.core.display.HTML object>"
      ]
     },
     "metadata": {},
     "output_type": "display_data"
    },
    {
     "data": {
      "text/html": [
       "<span class=\"tex2jax_ignore\"><div class=\"entities\" style=\"line-height: 2.5; direction: ltr\">sad that the 'feet' of my macbook just fell off </div></span>"
      ],
      "text/plain": [
       "<IPython.core.display.HTML object>"
      ]
     },
     "metadata": {},
     "output_type": "display_data"
    },
    {
     "data": {
      "text/html": [
       "<span class=\"tex2jax_ignore\"><div class=\"entities\" style=\"line-height: 2.5; direction: ltr\">i'm gonna get up late tomorrow and it's 132am here i gonna get tipsy by my lonesome that'sthat's just sad </div></span>"
      ],
      "text/plain": [
       "<IPython.core.display.HTML object>"
      ]
     },
     "metadata": {},
     "output_type": "display_data"
    },
    {
     "data": {
      "text/html": [
       "<span class=\"tex2jax_ignore\"><div class=\"entities\" style=\"line-height: 2.5; direction: ltr\">i'm sweating my forthcoming trip to e3  if i can't find someone to crash with while i'm out there i may be screwed  </div></span>"
      ],
      "text/plain": [
       "<IPython.core.display.HTML object>"
      ]
     },
     "metadata": {},
     "output_type": "display_data"
    },
    {
     "data": {
      "text/html": [
       "<span class=\"tex2jax_ignore\"><div class=\"entities\" style=\"line-height: 2.5; direction: ltr\">has now gotten somebody to read his tweets but cant get them to make an account </div></span>"
      ],
      "text/plain": [
       "<IPython.core.display.HTML object>"
      ]
     },
     "metadata": {},
     "output_type": "display_data"
    },
    {
     "data": {
      "text/html": [
       "<span class=\"tex2jax_ignore\"><div class=\"entities\" style=\"line-height: 2.5; direction: ltr\">  omgawd i couldnt handle my cat being in heat all the time d: d:</div></span>"
      ],
      "text/plain": [
       "<IPython.core.display.HTML object>"
      ]
     },
     "metadata": {},
     "output_type": "display_data"
    },
    {
     "data": {
      "text/html": [
       "<span class=\"tex2jax_ignore\"><div class=\"entities\" style=\"line-height: 2.5; direction: ltr\"> i hope i can make it to the auburn show but its not looking good for me </div></span>"
      ],
      "text/plain": [
       "<IPython.core.display.HTML object>"
      ]
     },
     "metadata": {},
     "output_type": "display_data"
    },
    {
     "data": {
      "text/html": [
       "<span class=\"tex2jax_ignore\"><div class=\"entities\" style=\"line-height: 2.5; direction: ltr\"> *thats people mag haha i couldnt fit it all in i dont think those pictures ever made it in the magazine tho!  haha</div></span>"
      ],
      "text/plain": [
       "<IPython.core.display.HTML object>"
      ]
     },
     "metadata": {},
     "output_type": "display_data"
    },
    {
     "data": {
      "text/html": [
       "<span class=\"tex2jax_ignore\"><div class=\"entities\" style=\"line-height: 2.5; direction: ltr\"> congrats!!  i totally forgot to submit photos </div></span>"
      ],
      "text/plain": [
       "<IPython.core.display.HTML object>"
      ]
     },
     "metadata": {},
     "output_type": "display_data"
    },
    {
     "data": {
      "text/html": [
       "<span class=\"tex2jax_ignore\"><div class=\"entities\" style=\"line-height: 2.5; direction: ltr\"> awww good luck paula!! please don't work too hard  but i hope you have fun  your new album is gonna be amazing!  xxx</div></span>"
      ],
      "text/plain": [
       "<IPython.core.display.HTML object>"
      ]
     },
     "metadata": {},
     "output_type": "display_data"
    },
    {
     "data": {
      "text/html": [
       "<span class=\"tex2jax_ignore\"><div class=\"entities\" style=\"line-height: 2.5; direction: ltr\"> now your leaving me   gets sad</div></span>"
      ],
      "text/plain": [
       "<IPython.core.display.HTML object>"
      ]
     },
     "metadata": {},
     "output_type": "display_data"
    },
    {
     "data": {
      "text/html": [
       "<span class=\"tex2jax_ignore\"><div class=\"entities\" style=\"line-height: 2.5; direction: ltr\">i miss you twitter my phone broke now i'm using a stupid nokia phone \n",
       "<mark class=\"entity\" style=\"background: #ddd; padding: 0.45em 0.6em; margin: 0 0.25em; line-height: 1; border-radius: 0.35em;\">\n",
       "    ughhh\n",
       "    <span style=\"font-size: 0.8em; font-weight: bold; line-height: 1; border-radius: 0.35em; vertical-align: middle; margin-left: 0.5rem\">FOOD</span>\n",
       "</mark>\n",
       " i miss my advance phone </div></span>"
      ],
      "text/plain": [
       "<IPython.core.display.HTML object>"
      ]
     },
     "metadata": {},
     "output_type": "display_data"
    },
    {
     "data": {
      "text/html": [
       "<span class=\"tex2jax_ignore\"><div class=\"entities\" style=\"line-height: 2.5; direction: ltr\">shooting outside my house :o not kidding! so scared </div></span>"
      ],
      "text/plain": [
       "<IPython.core.display.HTML object>"
      ]
     },
     "metadata": {},
     "output_type": "display_data"
    },
    {
     "data": {
      "text/html": [
       "<span class=\"tex2jax_ignore\"><div class=\"entities\" style=\"line-height: 2.5; direction: ltr\">tuesday�ll start with reflection �n then a lecture in stress reducing techniques that sure \n",
       "<mark class=\"entity\" style=\"background: #ddd; padding: 0.45em 0.6em; margin: 0 0.25em; line-height: 1; border-radius: 0.35em;\">\n",
       "    might become\n",
       "    <span style=\"font-size: 0.8em; font-weight: bold; line-height: 1; border-radius: 0.35em; vertical-align: middle; margin-left: 0.5rem\">FOOD</span>\n",
       "</mark>\n",
       " very useful for us accompaniers </div></span>"
      ],
      "text/plain": [
       "<IPython.core.display.HTML object>"
      ]
     },
     "metadata": {},
     "output_type": "display_data"
    },
    {
     "data": {
      "text/html": [
       "<span class=\"tex2jax_ignore\"><div class=\"entities\" style=\"line-height: 2.5; direction: ltr\">what tragedy and disaster in the news this week </div></span>"
      ],
      "text/plain": [
       "<IPython.core.display.HTML object>"
      ]
     },
     "metadata": {},
     "output_type": "display_data"
    },
    {
     "data": {
      "text/html": [
       "<span class=\"tex2jax_ignore\"><div class=\"entities\" style=\"line-height: 2.5; direction: ltr\">yes yes still trying to find a picture that will upload correclty </div></span>"
      ],
      "text/plain": [
       "<IPython.core.display.HTML object>"
      ]
     },
     "metadata": {},
     "output_type": "display_data"
    },
    {
     "data": {
      "text/html": [
       "<span class=\"tex2jax_ignore\"><div class=\"entities\" style=\"line-height: 2.5; direction: ltr\">why oh why was the red sox game rained out? i was so looking forward to opening day </div></span>"
      ],
      "text/plain": [
       "<IPython.core.display.HTML object>"
      ]
     },
     "metadata": {},
     "output_type": "display_data"
    },
    {
     "data": {
      "text/html": [
       "<span class=\"tex2jax_ignore\"><div class=\"entities\" style=\"line-height: 2.5; direction: ltr\">i still can't find my keys </div></span>"
      ],
      "text/plain": [
       "<IPython.core.display.HTML object>"
      ]
     },
     "metadata": {},
     "output_type": "display_data"
    },
    {
     "data": {
      "text/html": [
       "<span class=\"tex2jax_ignore\"><div class=\"entities\" style=\"line-height: 2.5; direction: ltr\"> i know right i dunno what is going on with twitter </div></span>"
      ],
      "text/plain": [
       "<IPython.core.display.HTML object>"
      ]
     },
     "metadata": {},
     "output_type": "display_data"
    },
    {
     "data": {
      "text/html": [
       "<span class=\"tex2jax_ignore\"><div class=\"entities\" style=\"line-height: 2.5; direction: ltr\">might be getting a sore throat again </div></span>"
      ],
      "text/plain": [
       "<IPython.core.display.HTML object>"
      ]
     },
     "metadata": {},
     "output_type": "display_data"
    },
    {
     "data": {
      "text/html": [
       "<span class=\"tex2jax_ignore\"><div class=\"entities\" style=\"line-height: 2.5; direction: ltr\">   my home town my mammy called all depressd  pls explain y a parent let their 8yr old child walk alone? hello? its 2009!</div></span>"
      ],
      "text/plain": [
       "<IPython.core.display.HTML object>"
      ]
     },
     "metadata": {},
     "output_type": "display_data"
    },
    {
     "data": {
      "text/html": [
       "<span class=\"tex2jax_ignore\"><div class=\"entities\" style=\"line-height: 2.5; direction: ltr\">  i think i need to find better antidepressants  i think this paxil/wellbutrin combo is losing its efficacy  </div></span>"
      ],
      "text/plain": [
       "<IPython.core.display.HTML object>"
      ]
     },
     "metadata": {},
     "output_type": "display_data"
    },
    {
     "data": {
      "text/html": [
       "<span class=\"tex2jax_ignore\"><div class=\"entities\" style=\"line-height: 2.5; direction: ltr\"> restaurant called woodntap has competitive eating tourney round tourney time we place 2nd </div></span>"
      ],
      "text/plain": [
       "<IPython.core.display.HTML object>"
      ]
     },
     "metadata": {},
     "output_type": "display_data"
    },
    {
     "data": {
      "text/html": [
       "<span class=\"tex2jax_ignore\"><div class=\"entities\" style=\"line-height: 2.5; direction: ltr\">is in the bathroom wake up lakin </div></span>"
      ],
      "text/plain": [
       "<IPython.core.display.HTML object>"
      ]
     },
     "metadata": {},
     "output_type": "display_data"
    },
    {
     "data": {
      "text/html": [
       "<span class=\"tex2jax_ignore\"><div class=\"entities\" style=\"line-height: 2.5; direction: ltr\"> i want tacos and margarhitas  telll gay i say hello&amp;lt;3</div></span>"
      ],
      "text/plain": [
       "<IPython.core.display.HTML object>"
      ]
     },
     "metadata": {},
     "output_type": "display_data"
    },
    {
     "data": {
      "text/html": [
       "<span class=\"tex2jax_ignore\"><div class=\"entities\" style=\"line-height: 2.5; direction: ltr\">im lonely  keep me company! 22 female california</div></span>"
      ],
      "text/plain": [
       "<IPython.core.display.HTML object>"
      ]
     },
     "metadata": {},
     "output_type": "display_data"
    },
    {
     "data": {
      "text/html": [
       "<span class=\"tex2jax_ignore\"><div class=\"entities\" style=\"line-height: 2.5; direction: ltr\">bad day at the betfair office </div></span>"
      ],
      "text/plain": [
       "<IPython.core.display.HTML object>"
      ]
     },
     "metadata": {},
     "output_type": "display_data"
    },
    {
     "data": {
      "text/html": [
       "<span class=\"tex2jax_ignore\"><div class=\"entities\" style=\"line-height: 2.5; direction: ltr\">i miss him  can't wait to celebrate the tar heel win this weekend though!!</div></span>"
      ],
      "text/plain": [
       "<IPython.core.display.HTML object>"
      ]
     },
     "metadata": {},
     "output_type": "display_data"
    },
    {
     "data": {
      "text/html": [
       "<span class=\"tex2jax_ignore\"><div class=\"entities\" style=\"line-height: 2.5; direction: ltr\">i'm really cold i don't want to go to sleep yet but there's nothing to do </div></span>"
      ],
      "text/plain": [
       "<IPython.core.display.HTML object>"
      ]
     },
     "metadata": {},
     "output_type": "display_data"
    },
    {
     "data": {
      "text/html": [
       "<span class=\"tex2jax_ignore\"><div class=\"entities\" style=\"line-height: 2.5; direction: ltr\"> is this it 4 u? its ' officially over ' 4 me this go round! </div></span>"
      ],
      "text/plain": [
       "<IPython.core.display.HTML object>"
      ]
     },
     "metadata": {},
     "output_type": "display_data"
    },
    {
     "data": {
      "text/html": [
       "<span class=\"tex2jax_ignore\"><div class=\"entities\" style=\"line-height: 2.5; direction: ltr\">monkeys??? i just found out you my twin and you wont even write back  i'm heartbroken</div></span>"
      ],
      "text/plain": [
       "<IPython.core.display.HTML object>"
      ]
     },
     "metadata": {},
     "output_type": "display_data"
    },
    {
     "data": {
      "text/html": [
       "<span class=\"tex2jax_ignore\"><div class=\"entities\" style=\"line-height: 2.5; direction: ltr\"> aww  i know i felt like that yesterday at work </div></span>"
      ],
      "text/plain": [
       "<IPython.core.display.HTML object>"
      ]
     },
     "metadata": {},
     "output_type": "display_data"
    },
    {
     "data": {
      "text/html": [
       "<span class=\"tex2jax_ignore\"><div class=\"entities\" style=\"line-height: 2.5; direction: ltr\"> treaty isn't defined </div></span>"
      ],
      "text/plain": [
       "<IPython.core.display.HTML object>"
      ]
     },
     "metadata": {},
     "output_type": "display_data"
    },
    {
     "data": {
      "text/html": [
       "<span class=\"tex2jax_ignore\"><div class=\"entities\" style=\"line-height: 2.5; direction: ltr\">missed brent at praise band   no fun to not have the your lead guitarist  &amp;lt;pout&amp;gt;</div></span>"
      ],
      "text/plain": [
       "<IPython.core.display.HTML object>"
      ]
     },
     "metadata": {},
     "output_type": "display_data"
    },
    {
     "data": {
      "text/html": [
       "<span class=\"tex2jax_ignore\"><div class=\"entities\" style=\"line-height: 2.5; direction: ltr\"> poor john  this is what happens when you play with \n",
       "<mark class=\"entity\" style=\"background: #ddd; padding: 0.45em 0.6em; margin: 0 0.25em; line-height: 1; border-radius: 0.35em;\">\n",
       "    fruit\n",
       "    <span style=\"font-size: 0.8em; font-weight: bold; line-height: 1; border-radius: 0.35em; vertical-align: middle; margin-left: 0.5rem\">FOOD</span>\n",
       "</mark>\n",
       " and a microwave! seriously though have you seen a doctor?? xxx</div></span>"
      ],
      "text/plain": [
       "<IPython.core.display.HTML object>"
      ]
     },
     "metadata": {},
     "output_type": "display_data"
    },
    {
     "data": {
      "text/html": [
       "<span class=\"tex2jax_ignore\"><div class=\"entities\" style=\"line-height: 2.5; direction: ltr\">missing my bff  watching home and away it reminds me of her and me  we &amp;lt;3 it shout out to u courts</div></span>"
      ],
      "text/plain": [
       "<IPython.core.display.HTML object>"
      ]
     },
     "metadata": {},
     "output_type": "display_data"
    },
    {
     "data": {
      "text/html": [
       "<span class=\"tex2jax_ignore\"><div class=\"entities\" style=\"line-height: 2.5; direction: ltr\">   </div></span>"
      ],
      "text/plain": [
       "<IPython.core.display.HTML object>"
      ]
     },
     "metadata": {},
     "output_type": "display_data"
    },
    {
     "data": {
      "text/html": [
       "<span class=\"tex2jax_ignore\"><div class=\"entities\" style=\"line-height: 2.5; direction: ltr\">new video card is doa </div></span>"
      ],
      "text/plain": [
       "<IPython.core.display.HTML object>"
      ]
     },
     "metadata": {},
     "output_type": "display_data"
    },
    {
     "data": {
      "text/html": [
       "<span class=\"tex2jax_ignore\"><div class=\"entities\" style=\"line-height: 2.5; direction: ltr\">feeling lost naked and confused (jk sort of)no iphone for me </div></span>"
      ],
      "text/plain": [
       "<IPython.core.display.HTML object>"
      ]
     },
     "metadata": {},
     "output_type": "display_data"
    },
    {
     "data": {
      "text/html": [
       "<span class=\"tex2jax_ignore\"><div class=\"entities\" style=\"line-height: 2.5; direction: ltr\">damn i am so late at filling this appraisal form people have almost sent it  i was so occupied in work </div></span>"
      ],
      "text/plain": [
       "<IPython.core.display.HTML object>"
      ]
     },
     "metadata": {},
     "output_type": "display_data"
    },
    {
     "data": {
      "text/html": [
       "<span class=\"tex2jax_ignore\"><div class=\"entities\" style=\"line-height: 2.5; direction: ltr\">missed brent at praise band  no fun to not have your lead guitarist &amp;lt;pout&amp;gt;</div></span>"
      ],
      "text/plain": [
       "<IPython.core.display.HTML object>"
      ]
     },
     "metadata": {},
     "output_type": "display_data"
    },
    {
     "data": {
      "text/html": [
       "<span class=\"tex2jax_ignore\"><div class=\"entities\" style=\"line-height: 2.5; direction: ltr\">i think to much on the past i cant change it i deserved so much more then wat i got but why am i still thinking about him  gah</div></span>"
      ],
      "text/plain": [
       "<IPython.core.display.HTML object>"
      ]
     },
     "metadata": {},
     "output_type": "display_data"
    },
    {
     "data": {
      "text/html": [
       "<span class=\"tex2jax_ignore\"><div class=\"entities\" style=\"line-height: 2.5; direction: ltr\">has lost his ring it's nowhere to be seen </div></span>"
      ],
      "text/plain": [
       "<IPython.core.display.HTML object>"
      ]
     },
     "metadata": {},
     "output_type": "display_data"
    },
    {
     "data": {
      "text/html": [
       "<span class=\"tex2jax_ignore\"><div class=\"entities\" style=\"line-height: 2.5; direction: ltr\"> ooooooh! *sealclap* see i download shitloads of zip folders off 4chan i have no internet moneys  fuck yeah alicia and mikey</div></span>"
      ],
      "text/plain": [
       "<IPython.core.display.HTML object>"
      ]
     },
     "metadata": {},
     "output_type": "display_data"
    },
    {
     "data": {
      "text/html": [
       "<span class=\"tex2jax_ignore\"><div class=\"entities\" style=\"line-height: 2.5; direction: ltr\">is still nursing my nile but glad he is feeling better i hate when my baby is sick </div></span>"
      ],
      "text/plain": [
       "<IPython.core.display.HTML object>"
      ]
     },
     "metadata": {},
     "output_type": "display_data"
    },
    {
     "data": {
      "text/html": [
       "<span class=\"tex2jax_ignore\"><div class=\"entities\" style=\"line-height: 2.5; direction: ltr\">is fucked to go back to ic </div></span>"
      ],
      "text/plain": [
       "<IPython.core.display.HTML object>"
      ]
     },
     "metadata": {},
     "output_type": "display_data"
    },
    {
     "data": {
      "text/html": [
       "<span class=\"tex2jax_ignore\"><div class=\"entities\" style=\"line-height: 2.5; direction: ltr\"> \n",
       "<mark class=\"entity\" style=\"background: #ddd; padding: 0.45em 0.6em; margin: 0 0.25em; line-height: 1; border-radius: 0.35em;\">\n",
       "    yoyoyo\n",
       "    <span style=\"font-size: 0.8em; font-weight: bold; line-height: 1; border-radius: 0.35em; vertical-align: middle; margin-left: 0.5rem\">FOOD</span>\n",
       "</mark>\n",
       " my internet has been rude tonight it just reconnected and i'm about to go to bed </div></span>"
      ],
      "text/plain": [
       "<IPython.core.display.HTML object>"
      ]
     },
     "metadata": {},
     "output_type": "display_data"
    },
    {
     "data": {
      "text/html": [
       "<span class=\"tex2jax_ignore\"><div class=\"entities\" style=\"line-height: 2.5; direction: ltr\"> well i have uni stuff and netball  but after netbal if i've done uni stuff we can</div></span>"
      ],
      "text/plain": [
       "<IPython.core.display.HTML object>"
      ]
     },
     "metadata": {},
     "output_type": "display_data"
    },
    {
     "data": {
      "text/html": [
       "<span class=\"tex2jax_ignore\"><div class=\"entities\" style=\"line-height: 2.5; direction: ltr\"> me too i is poor </div></span>"
      ],
      "text/plain": [
       "<IPython.core.display.HTML object>"
      ]
     },
     "metadata": {},
     "output_type": "display_data"
    },
    {
     "data": {
      "text/html": [
       "<span class=\"tex2jax_ignore\"><div class=\"entities\" style=\"line-height: 2.5; direction: ltr\">help me forget 8th april and 13th july! </div></span>"
      ],
      "text/plain": [
       "<IPython.core.display.HTML object>"
      ]
     },
     "metadata": {},
     "output_type": "display_data"
    },
    {
     "data": {
      "text/html": [
       "<span class=\"tex2jax_ignore\"><div class=\"entities\" style=\"line-height: 2.5; direction: ltr\">\n",
       "<mark class=\"entity\" style=\"background: #ddd; padding: 0.45em 0.6em; margin: 0 0.25em; line-height: 1; border-radius: 0.35em;\">\n",
       "    dierks\n",
       "    <span style=\"font-size: 0.8em; font-weight: bold; line-height: 1; border-radius: 0.35em; vertical-align: middle; margin-left: 0.5rem\">FOOD</span>\n",
       "</mark>\n",
       " bentley is comin' to columbus oh!! i wanna go so bad </div></span>"
      ],
      "text/plain": [
       "<IPython.core.display.HTML object>"
      ]
     },
     "metadata": {},
     "output_type": "display_data"
    },
    {
     "data": {
      "text/html": [
       "<span class=\"tex2jax_ignore\"><div class=\"entities\" style=\"line-height: 2.5; direction: ltr\">i have to take my sidekick back </div></span>"
      ],
      "text/plain": [
       "<IPython.core.display.HTML object>"
      ]
     },
     "metadata": {},
     "output_type": "display_data"
    },
    {
     "data": {
      "text/html": [
       "<span class=\"tex2jax_ignore\"><div class=\"entities\" style=\"line-height: 2.5; direction: ltr\"> congrats! i'm totally jealous! only wish my xm was working </div></span>"
      ],
      "text/plain": [
       "<IPython.core.display.HTML object>"
      ]
     },
     "metadata": {},
     "output_type": "display_data"
    },
    {
     "data": {
      "text/html": [
       "<span class=\"tex2jax_ignore\"><div class=\"entities\" style=\"line-height: 2.5; direction: ltr\">gr8t my face is very itchy </div></span>"
      ],
      "text/plain": [
       "<IPython.core.display.HTML object>"
      ]
     },
     "metadata": {},
     "output_type": "display_data"
    },
    {
     "data": {
      "text/html": [
       "<span class=\"tex2jax_ignore\"><div class=\"entities\" style=\"line-height: 2.5; direction: ltr\">poor socks  luvvvvv the golden retriever!! i want one sighhhh</div></span>"
      ],
      "text/plain": [
       "<IPython.core.display.HTML object>"
      ]
     },
     "metadata": {},
     "output_type": "display_data"
    },
    {
     "data": {
      "text/html": [
       "<span class=\"tex2jax_ignore\"><div class=\"entities\" style=\"line-height: 2.5; direction: ltr\">i just saw that they found that tracy girl in a piece of luggage how fucking terrible </div></span>"
      ],
      "text/plain": [
       "<IPython.core.display.HTML object>"
      ]
     },
     "metadata": {},
     "output_type": "display_data"
    },
    {
     "data": {
      "text/html": [
       "<span class=\"tex2jax_ignore\"><div class=\"entities\" style=\"line-height: 2.5; direction: ltr\">aaaaand the nausea is back </div></span>"
      ],
      "text/plain": [
       "<IPython.core.display.HTML object>"
      ]
     },
     "metadata": {},
     "output_type": "display_data"
    },
    {
     "data": {
      "text/html": [
       "<span class=\"tex2jax_ignore\"><div class=\"entities\" style=\"line-height: 2.5; direction: ltr\"> ooh i�m excited and not even going 2 be there  long love youtube!</div></span>"
      ],
      "text/plain": [
       "<IPython.core.display.HTML object>"
      ]
     },
     "metadata": {},
     "output_type": "display_data"
    },
    {
     "data": {
      "text/html": [
       "<span class=\"tex2jax_ignore\"><div class=\"entities\" style=\"line-height: 2.5; direction: ltr\">spent 1 hour to reach to axis bank only to find out today is holiday for mahavir jayanti  contd</div></span>"
      ],
      "text/plain": [
       "<IPython.core.display.HTML object>"
      ]
     },
     "metadata": {},
     "output_type": "display_data"
    },
    {
     "data": {
      "text/html": [
       "<span class=\"tex2jax_ignore\"><div class=\"entities\" style=\"line-height: 2.5; direction: ltr\">  i agree the jobros dont update theres very often </div></span>"
      ],
      "text/plain": [
       "<IPython.core.display.HTML object>"
      ]
     },
     "metadata": {},
     "output_type": "display_data"
    },
    {
     "data": {
      "text/html": [
       "<span class=\"tex2jax_ignore\"><div class=\"entities\" style=\"line-height: 2.5; direction: ltr\"> it is hilarious and i linked the clip from lj some time ago but when i went back just now it was a dead link </div></span>"
      ],
      "text/plain": [
       "<IPython.core.display.HTML object>"
      ]
     },
     "metadata": {},
     "output_type": "display_data"
    },
    {
     "data": {
      "text/html": [
       "<span class=\"tex2jax_ignore\"><div class=\"entities\" style=\"line-height: 2.5; direction: ltr\"> oooooooo who with? (im not neither but thats because i need to study  )</div></span>"
      ],
      "text/plain": [
       "<IPython.core.display.HTML object>"
      ]
     },
     "metadata": {},
     "output_type": "display_data"
    },
    {
     "data": {
      "text/html": [
       "<span class=\"tex2jax_ignore\"><div class=\"entities\" style=\"line-height: 2.5; direction: ltr\">haven't tweeted nearly all day  posted my website tonight hopefully that goes well  night time!</div></span>"
      ],
      "text/plain": [
       "<IPython.core.display.HTML object>"
      ]
     },
     "metadata": {},
     "output_type": "display_data"
    },
    {
     "data": {
      "text/html": [
       "<span class=\"tex2jax_ignore\"><div class=\"entities\" style=\"line-height: 2.5; direction: ltr\"> i miss bentley </div></span>"
      ],
      "text/plain": [
       "<IPython.core.display.HTML object>"
      ]
     },
     "metadata": {},
     "output_type": "display_data"
    },
    {
     "data": {
      "text/html": [
       "<span class=\"tex2jax_ignore\"><div class=\"entities\" style=\"line-height: 2.5; direction: ltr\">seriously needs to finish these job applications </div></span>"
      ],
      "text/plain": [
       "<IPython.core.display.HTML object>"
      ]
     },
     "metadata": {},
     "output_type": "display_data"
    },
    {
     "data": {
      "text/html": [
       "<span class=\"tex2jax_ignore\"><div class=\"entities\" style=\"line-height: 2.5; direction: ltr\">my son vincas is sick so i stay at home  just three tense days at work and i am back on holiday with kids</div></span>"
      ],
      "text/plain": [
       "<IPython.core.display.HTML object>"
      ]
     },
     "metadata": {},
     "output_type": "display_data"
    },
    {
     "data": {
      "text/html": [
       "<span class=\"tex2jax_ignore\"><div class=\"entities\" style=\"line-height: 2.5; direction: ltr\">whinging my clientandboss don't understand english well rewrote some text unreadable it's written by v good writerandreviewed correctly </div></span>"
      ],
      "text/plain": [
       "<IPython.core.display.HTML object>"
      ]
     },
     "metadata": {},
     "output_type": "display_data"
    },
    {
     "data": {
      "text/html": [
       "<span class=\"tex2jax_ignore\"><div class=\"entities\" style=\"line-height: 2.5; direction: ltr\"> i don't want him to ever punch me  </div></span>"
      ],
      "text/plain": [
       "<IPython.core.display.HTML object>"
      ]
     },
     "metadata": {},
     "output_type": "display_data"
    },
    {
     "data": {
      "text/html": [
       "<span class=\"tex2jax_ignore\"><div class=\"entities\" style=\"line-height: 2.5; direction: ltr\">sooo sick of the snow  ughh</div></span>"
      ],
      "text/plain": [
       "<IPython.core.display.HTML object>"
      ]
     },
     "metadata": {},
     "output_type": "display_data"
    },
    {
     "data": {
      "text/html": [
       "<span class=\"tex2jax_ignore\"><div class=\"entities\" style=\"line-height: 2.5; direction: ltr\">  </div></span>"
      ],
      "text/plain": [
       "<IPython.core.display.HTML object>"
      ]
     },
     "metadata": {},
     "output_type": "display_data"
    },
    {
     "data": {
      "text/html": [
       "<span class=\"tex2jax_ignore\"><div class=\"entities\" style=\"line-height: 2.5; direction: ltr\"> it doesn't work your fan is upset </div></span>"
      ],
      "text/plain": [
       "<IPython.core.display.HTML object>"
      ]
     },
     "metadata": {},
     "output_type": "display_data"
    },
    {
     "data": {
      "text/html": [
       "<span class=\"tex2jax_ignore\"><div class=\"entities\" style=\"line-height: 2.5; direction: ltr\">i would like to apologize for the repeated video games live related tweets i am going to have a stern discussion with koodo soon stern </div></span>"
      ],
      "text/plain": [
       "<IPython.core.display.HTML object>"
      ]
     },
     "metadata": {},
     "output_type": "display_data"
    },
    {
     "data": {
      "text/html": [
       "<span class=\"tex2jax_ignore\"><div class=\"entities\" style=\"line-height: 2.5; direction: ltr\"> but i cant figure out how to get there / back / pay for a hotel etc </div></span>"
      ],
      "text/plain": [
       "<IPython.core.display.HTML object>"
      ]
     },
     "metadata": {},
     "output_type": "display_data"
    },
    {
     "data": {
      "text/html": [
       "<span class=\"tex2jax_ignore\"><div class=\"entities\" style=\"line-height: 2.5; direction: ltr\">fml: so much for seniority bc of technological ineptness i now have to &amp;quot;register&amp;quot; for classes again </div></span>"
      ],
      "text/plain": [
       "<IPython.core.display.HTML object>"
      ]
     },
     "metadata": {},
     "output_type": "display_data"
    },
    {
     "data": {
      "text/html": [
       "<span class=\"tex2jax_ignore\"><div class=\"entities\" style=\"line-height: 2.5; direction: ltr\">feels like she slept the day away    not looking forward to any more bouts with my gallbladder  at least i have pills now for the pain</div></span>"
      ],
      "text/plain": [
       "<IPython.core.display.HTML object>"
      ]
     },
     "metadata": {},
     "output_type": "display_data"
    },
    {
     "data": {
      "text/html": [
       "<span class=\"tex2jax_ignore\"><div class=\"entities\" style=\"line-height: 2.5; direction: ltr\"> but what i really want is my old bass back </div></span>"
      ],
      "text/plain": [
       "<IPython.core.display.HTML object>"
      ]
     },
     "metadata": {},
     "output_type": "display_data"
    },
    {
     "data": {
      "text/html": [
       "<span class=\"tex2jax_ignore\"><div class=\"entities\" style=\"line-height: 2.5; direction: ltr\">mad tired today callin it in early tonight  nighty night twittas</div></span>"
      ],
      "text/plain": [
       "<IPython.core.display.HTML object>"
      ]
     },
     "metadata": {},
     "output_type": "display_data"
    },
    {
     "data": {
      "text/html": [
       "<span class=\"tex2jax_ignore\"><div class=\"entities\" style=\"line-height: 2.5; direction: ltr\">: take it easy and be good to you </div></span>"
      ],
      "text/plain": [
       "<IPython.core.display.HTML object>"
      ]
     },
     "metadata": {},
     "output_type": "display_data"
    },
    {
     "data": {
      "text/html": [
       "<span class=\"tex2jax_ignore\"><div class=\"entities\" style=\"line-height: 2.5; direction: ltr\">i'm afraid i had bad code </div></span>"
      ],
      "text/plain": [
       "<IPython.core.display.HTML object>"
      ]
     },
     "metadata": {},
     "output_type": "display_data"
    },
    {
     "data": {
      "text/html": [
       "<span class=\"tex2jax_ignore\"><div class=\"entities\" style=\"line-height: 2.5; direction: ltr\">think i'm going to bed goodniight i hate this </div></span>"
      ],
      "text/plain": [
       "<IPython.core.display.HTML object>"
      ]
     },
     "metadata": {},
     "output_type": "display_data"
    },
    {
     "data": {
      "text/html": [
       "<span class=\"tex2jax_ignore\"><div class=\"entities\" style=\"line-height: 2.5; direction: ltr\">  i'm here friend and i love you</div></span>"
      ],
      "text/plain": [
       "<IPython.core.display.HTML object>"
      ]
     },
     "metadata": {},
     "output_type": "display_data"
    },
    {
     "data": {
      "text/html": [
       "<span class=\"tex2jax_ignore\"><div class=\"entities\" style=\"line-height: 2.5; direction: ltr\">  all this time you didn't notice i was gonejust needed db2 is it??</div></span>"
      ],
      "text/plain": [
       "<IPython.core.display.HTML object>"
      ]
     },
     "metadata": {},
     "output_type": "display_data"
    },
    {
     "data": {
      "text/html": [
       "<span class=\"tex2jax_ignore\"><div class=\"entities\" style=\"line-height: 2.5; direction: ltr\"> is in the bathroom and i have to pee!    </div></span>"
      ],
      "text/plain": [
       "<IPython.core.display.HTML object>"
      ]
     },
     "metadata": {},
     "output_type": "display_data"
    },
    {
     "data": {
      "text/html": [
       "<span class=\"tex2jax_ignore\"><div class=\"entities\" style=\"line-height: 2.5; direction: ltr\"> but i wanted a margarita too! </div></span>"
      ],
      "text/plain": [
       "<IPython.core.display.HTML object>"
      ]
     },
     "metadata": {},
     "output_type": "display_data"
    },
    {
     "data": {
      "text/html": [
       "<span class=\"tex2jax_ignore\"><div class=\"entities\" style=\"line-height: 2.5; direction: ltr\"> yup night workouts r the worst but unfortunetly my work schedule only allows me to go at night  its tough!</div></span>"
      ],
      "text/plain": [
       "<IPython.core.display.HTML object>"
      ]
     },
     "metadata": {},
     "output_type": "display_data"
    },
    {
     "data": {
      "text/html": [
       "<span class=\"tex2jax_ignore\"><div class=\"entities\" style=\"line-height: 2.5; direction: ltr\">just called hillsong again  they said they couldn't tell me where i was on the waiting list  i don't know if it's looking so good </div></span>"
      ],
      "text/plain": [
       "<IPython.core.display.HTML object>"
      ]
     },
     "metadata": {},
     "output_type": "display_data"
    },
    {
     "data": {
      "text/html": [
       "<span class=\"tex2jax_ignore\"><div class=\"entities\" style=\"line-height: 2.5; direction: ltr\">has 0g of milky bar left and around 200ml of coke </div></span>"
      ],
      "text/plain": [
       "<IPython.core.display.HTML object>"
      ]
     },
     "metadata": {},
     "output_type": "display_data"
    },
    {
     "data": {
      "text/html": [
       "<span class=\"tex2jax_ignore\"><div class=\"entities\" style=\"line-height: 2.5; direction: ltr\"> it stillllll hasn't arrived </div></span>"
      ],
      "text/plain": [
       "<IPython.core.display.HTML object>"
      ]
     },
     "metadata": {},
     "output_type": "display_data"
    },
    {
     "data": {
      "text/html": [
       "<span class=\"tex2jax_ignore\"><div class=\"entities\" style=\"line-height: 2.5; direction: ltr\">mraow i feel like dancing but first art school wants to rape me some more </div></span>"
      ],
      "text/plain": [
       "<IPython.core.display.HTML object>"
      ]
     },
     "metadata": {},
     "output_type": "display_data"
    },
    {
     "data": {
      "text/html": [
       "<span class=\"tex2jax_ignore\"><div class=\"entities\" style=\"line-height: 2.5; direction: ltr\"> ah! i bet it does i've been like craving to play softball or basketball !!! but i have noo time </div></span>"
      ],
      "text/plain": [
       "<IPython.core.display.HTML object>"
      ]
     },
     "metadata": {},
     "output_type": "display_data"
    },
    {
     "data": {
      "text/html": [
       "<span class=\"tex2jax_ignore\"><div class=\"entities\" style=\"line-height: 2.5; direction: ltr\">is terrified she accidentally deleted a reference in her management assignment and hopes she doesnt get in trouble when she gets back </div></span>"
      ],
      "text/plain": [
       "<IPython.core.display.HTML object>"
      ]
     },
     "metadata": {},
     "output_type": "display_data"
    },
    {
     "data": {
      "text/html": [
       "<span class=\"tex2jax_ignore\"><div class=\"entities\" style=\"line-height: 2.5; direction: ltr\">amazon s3 plugin not worked in my website  it need php 5  but my hosting provider has only php 44   very sad</div></span>"
      ],
      "text/plain": [
       "<IPython.core.display.HTML object>"
      ]
     },
     "metadata": {},
     "output_type": "display_data"
    },
    {
     "data": {
      "text/html": [
       "<span class=\"tex2jax_ignore\"><div class=\"entities\" style=\"line-height: 2.5; direction: ltr\">argh! i was suuuper sleepy an hour ago now i'm wide awake  hope i don't stay up all night :/</div></span>"
      ],
      "text/plain": [
       "<IPython.core.display.HTML object>"
      ]
     },
     "metadata": {},
     "output_type": "display_data"
    },
    {
     "data": {
      "text/html": [
       "<span class=\"tex2jax_ignore\"><div class=\"entities\" style=\"line-height: 2.5; direction: ltr\"> i wish i was!  sold out   if you have some time let me know i would love to hear more about what you are up to!</div></span>"
      ],
      "text/plain": [
       "<IPython.core.display.HTML object>"
      ]
     },
     "metadata": {},
     "output_type": "display_data"
    },
    {
     "data": {
      "text/html": [
       "<span class=\"tex2jax_ignore\"><div class=\"entities\" style=\"line-height: 2.5; direction: ltr\">just watched tropic thunder dreading tomorrow </div></span>"
      ],
      "text/plain": [
       "<IPython.core.display.HTML object>"
      ]
     },
     "metadata": {},
     "output_type": "display_data"
    },
    {
     "data": {
      "text/html": [
       "<span class=\"tex2jax_ignore\"><div class=\"entities\" style=\"line-height: 2.5; direction: ltr\"> nohe's still miss'n </div></span>"
      ],
      "text/plain": [
       "<IPython.core.display.HTML object>"
      ]
     },
     "metadata": {},
     "output_type": "display_data"
    },
    {
     "data": {
      "text/html": [
       "<span class=\"tex2jax_ignore\"><div class=\"entities\" style=\"line-height: 2.5; direction: ltr\">chiefdelphi is down </div></span>"
      ],
      "text/plain": [
       "<IPython.core.display.HTML object>"
      ]
     },
     "metadata": {},
     "output_type": "display_data"
    },
    {
     "data": {
      "text/html": [
       "<span class=\"tex2jax_ignore\"><div class=\"entities\" style=\"line-height: 2.5; direction: ltr\">  according to my bro our new puppy had a poo fight and was covered in poop  (picture stolen from him)</div></span>"
      ],
      "text/plain": [
       "<IPython.core.display.HTML object>"
      ]
     },
     "metadata": {},
     "output_type": "display_data"
    },
    {
     "data": {
      "text/html": [
       "<span class=\"tex2jax_ignore\"><div class=\"entities\" style=\"line-height: 2.5; direction: ltr\">playing game at home! my new boss didn't call me yet </div></span>"
      ],
      "text/plain": [
       "<IPython.core.display.HTML object>"
      ]
     },
     "metadata": {},
     "output_type": "display_data"
    },
    {
     "data": {
      "text/html": [
       "<span class=\"tex2jax_ignore\"><div class=\"entities\" style=\"line-height: 2.5; direction: ltr\">su yin huen tweeted i feel unbearable guilt i made my staff cry  </div></span>"
      ],
      "text/plain": [
       "<IPython.core.display.HTML object>"
      ]
     },
     "metadata": {},
     "output_type": "display_data"
    },
    {
     "data": {
      "text/html": [
       "<span class=\"tex2jax_ignore\"><div class=\"entities\" style=\"line-height: 2.5; direction: ltr\">poor joshy is sick???   those damn tejanos!</div></span>"
      ],
      "text/plain": [
       "<IPython.core.display.HTML object>"
      ]
     },
     "metadata": {},
     "output_type": "display_data"
    },
    {
     "data": {
      "text/html": [
       "<span class=\"tex2jax_ignore\"><div class=\"entities\" style=\"line-height: 2.5; direction: ltr\">my thoughts are with sandra cantu's family at this difficult and sad time </div></span>"
      ],
      "text/plain": [
       "<IPython.core.display.HTML object>"
      ]
     },
     "metadata": {},
     "output_type": "display_data"
    },
    {
     "data": {
      "text/html": [
       "<span class=\"tex2jax_ignore\"><div class=\"entities\" style=\"line-height: 2.5; direction: ltr\"> i know just wanted to let everybody know what was happening  </div></span>"
      ],
      "text/plain": [
       "<IPython.core.display.HTML object>"
      ]
     },
     "metadata": {},
     "output_type": "display_data"
    },
    {
     "data": {
      "text/html": [
       "<span class=\"tex2jax_ignore\"><div class=\"entities\" style=\"line-height: 2.5; direction: ltr\">michigan who?  i don't know them                   *sigh*   shameful!</div></span>"
      ],
      "text/plain": [
       "<IPython.core.display.HTML object>"
      ]
     },
     "metadata": {},
     "output_type": "display_data"
    },
    {
     "data": {
      "text/html": [
       "<span class=\"tex2jax_ignore\"><div class=\"entities\" style=\"line-height: 2.5; direction: ltr\">i have to fill two hours </div></span>"
      ],
      "text/plain": [
       "<IPython.core.display.HTML object>"
      ]
     },
     "metadata": {},
     "output_type": "display_data"
    },
    {
     "data": {
      "text/html": [
       "<span class=\"tex2jax_ignore\"><div class=\"entities\" style=\"line-height: 2.5; direction: ltr\"> so cuuute! hey i miss you na!  its not the same not seeing you girls everyday </div></span>"
      ],
      "text/plain": [
       "<IPython.core.display.HTML object>"
      ]
     },
     "metadata": {},
     "output_type": "display_data"
    },
    {
     "data": {
      "text/html": [
       "<span class=\"tex2jax_ignore\"><div class=\"entities\" style=\"line-height: 2.5; direction: ltr\"> oh! did i mention it? &amp;quot;gooooood moooorniiiiiiing&amp;quot;  from germany! im back in my cageor bettermy office </div></span>"
      ],
      "text/plain": [
       "<IPython.core.display.HTML object>"
      ]
     },
     "metadata": {},
     "output_type": "display_data"
    },
    {
     "data": {
      "text/html": [
       "<span class=\"tex2jax_ignore\"><div class=\"entities\" style=\"line-height: 2.5; direction: ltr\">throat is closing up and i had some \n",
       "<mark class=\"entity\" style=\"background: #ddd; padding: 0.45em 0.6em; margin: 0 0.25em; line-height: 1; border-radius: 0.35em;\">\n",
       "    string cheese\n",
       "    <span style=\"font-size: 0.8em; font-weight: bold; line-height: 1; border-radius: 0.35em; vertical-align: middle; margin-left: 0.5rem\">FOOD</span>\n",
       "</mark>\n",
       " not a good idea </div></span>"
      ],
      "text/plain": [
       "<IPython.core.display.HTML object>"
      ]
     },
     "metadata": {},
     "output_type": "display_data"
    },
    {
     "data": {
      "text/html": [
       "<span class=\"tex2jax_ignore\"><div class=\"entities\" style=\"line-height: 2.5; direction: ltr\">aww sandra cantu is found dead in a suitcase  missing children stories never seem to go good poor family</div></span>"
      ],
      "text/plain": [
       "<IPython.core.display.HTML object>"
      ]
     },
     "metadata": {},
     "output_type": "display_data"
    },
    {
     "data": {
      "text/html": [
       "<span class=\"tex2jax_ignore\"><div class=\"entities\" style=\"line-height: 2.5; direction: ltr\">wishing i was home underneath my covers </div></span>"
      ],
      "text/plain": [
       "<IPython.core.display.HTML object>"
      ]
     },
     "metadata": {},
     "output_type": "display_data"
    },
    {
     "data": {
      "text/html": [
       "<span class=\"tex2jax_ignore\"><div class=\"entities\" style=\"line-height: 2.5; direction: ltr\">walking home from school drains all my energy </div></span>"
      ],
      "text/plain": [
       "<IPython.core.display.HTML object>"
      ]
     },
     "metadata": {},
     "output_type": "display_data"
    },
    {
     "data": {
      "text/html": [
       "<span class=\"tex2jax_ignore\"><div class=\"entities\" style=\"line-height: 2.5; direction: ltr\"> i agree the shapeshifting is a copout i was so excited for angela's ep i thought it was this week  noah was awesome tho!</div></span>"
      ],
      "text/plain": [
       "<IPython.core.display.HTML object>"
      ]
     },
     "metadata": {},
     "output_type": "display_data"
    },
    {
     "data": {
      "text/html": [
       "<span class=\"tex2jax_ignore\"><div class=\"entities\" style=\"line-height: 2.5; direction: ltr\"> dang! i would have done this if i knew it was there earlier  any other outings planned?</div></span>"
      ],
      "text/plain": [
       "<IPython.core.display.HTML object>"
      ]
     },
     "metadata": {},
     "output_type": "display_data"
    },
    {
     "data": {
      "text/html": [
       "<span class=\"tex2jax_ignore\"><div class=\"entities\" style=\"line-height: 2.5; direction: ltr\">i wish i was better at writing it's taking me so long to write this paper </div></span>"
      ],
      "text/plain": [
       "<IPython.core.display.HTML object>"
      ]
     },
     "metadata": {},
     "output_type": "display_data"
    },
    {
     "data": {
      "text/html": [
       "<span class=\"tex2jax_ignore\"><div class=\"entities\" style=\"line-height: 2.5; direction: ltr\">and of course i have access to my halo 3 mythic map pack redownload but bad news not the \n",
       "<mark class=\"entity\" style=\"background: #ddd; padding: 0.45em 0.6em; margin: 0 0.25em; line-height: 1; border-radius: 0.35em;\">\n",
       "    legendary\n",
       "    <span style=\"font-size: 0.8em; font-weight: bold; line-height: 1; border-radius: 0.35em; vertical-align: middle; margin-left: 0.5rem\">FOOD</span>\n",
       "</mark>\n",
       " map pack ugh 600ms </div></span>"
      ],
      "text/plain": [
       "<IPython.core.display.HTML object>"
      ]
     },
     "metadata": {},
     "output_type": "display_data"
    },
    {
     "data": {
      "text/html": [
       "<span class=\"tex2jax_ignore\"><div class=\"entities\" style=\"line-height: 2.5; direction: ltr\"> not yet unfortunately another few weeks i've been told  how are you? i've been a little bit busy with my latest project</div></span>"
      ],
      "text/plain": [
       "<IPython.core.display.HTML object>"
      ]
     },
     "metadata": {},
     "output_type": "display_data"
    },
    {
     "data": {
      "text/html": [
       "<span class=\"tex2jax_ignore\"><div class=\"entities\" style=\"line-height: 2.5; direction: ltr\"> ha the sun's already gone </div></span>"
      ],
      "text/plain": [
       "<IPython.core.display.HTML object>"
      ]
     },
     "metadata": {},
     "output_type": "display_data"
    },
    {
     "data": {
      "text/html": [
       "<span class=\"tex2jax_ignore\"><div class=\"entities\" style=\"line-height: 2.5; direction: ltr\">day 2 a lot harder than day 1 let's see how day 3 goes tomorrow </div></span>"
      ],
      "text/plain": [
       "<IPython.core.display.HTML object>"
      ]
     },
     "metadata": {},
     "output_type": "display_data"
    },
    {
     "data": {
      "text/html": [
       "<span class=\"tex2jax_ignore\"><div class=\"entities\" style=\"line-height: 2.5; direction: ltr\">my man crush jake peavy let me down  #gayforpeavy</div></span>"
      ],
      "text/plain": [
       "<IPython.core.display.HTML object>"
      ]
     },
     "metadata": {},
     "output_type": "display_data"
    },
    {
     "data": {
      "text/html": [
       "<span class=\"tex2jax_ignore\"><div class=\"entities\" style=\"line-height: 2.5; direction: ltr\"> megafast trip you have time during day tom/weds? or you going out tonight? want to see you bad tried to warn you tech fail </div></span>"
      ],
      "text/plain": [
       "<IPython.core.display.HTML object>"
      ]
     },
     "metadata": {},
     "output_type": "display_data"
    },
    {
     "data": {
      "text/html": [
       "<span class=\"tex2jax_ignore\"><div class=\"entities\" style=\"line-height: 2.5; direction: ltr\">michigan state you make me sad </div></span>"
      ],
      "text/plain": [
       "<IPython.core.display.HTML object>"
      ]
     },
     "metadata": {},
     "output_type": "display_data"
    },
    {
     "data": {
      "text/html": [
       "<span class=\"tex2jax_ignore\"><div class=\"entities\" style=\"line-height: 2.5; direction: ltr\">omg my mouth is in so much pain  i just wanna sleep untill its time to take my braces off</div></span>"
      ],
      "text/plain": [
       "<IPython.core.display.HTML object>"
      ]
     },
     "metadata": {},
     "output_type": "display_data"
    },
    {
     "data": {
      "text/html": [
       "<span class=\"tex2jax_ignore\"><div class=\"entities\" style=\"line-height: 2.5; direction: ltr\">getting annoyed easily today  &amp;gt;&amp;gt;&amp;gt; biofuel proposal: getting annoyed easily today  &amp;gt;&amp;gt;&amp;gt; biof </div></span>"
      ],
      "text/plain": [
       "<IPython.core.display.HTML object>"
      ]
     },
     "metadata": {},
     "output_type": "display_data"
    },
    {
     "data": {
      "text/html": [
       "<span class=\"tex2jax_ignore\"><div class=\"entities\" style=\"line-height: 2.5; direction: ltr\"> hey girl the site is back  girlyvue is back and they have even more videos </div></span>"
      ],
      "text/plain": [
       "<IPython.core.display.HTML object>"
      ]
     },
     "metadata": {},
     "output_type": "display_data"
    },
    {
     "data": {
      "text/html": [
       "<span class=\"tex2jax_ignore\"><div class=\"entities\" style=\"line-height: 2.5; direction: ltr\"> i'm spending time with my grandma early tomorrow and i can't leave skittles by herself </div></span>"
      ],
      "text/plain": [
       "<IPython.core.display.HTML object>"
      ]
     },
     "metadata": {},
     "output_type": "display_data"
    },
    {
     "data": {
      "text/html": [
       "<span class=\"tex2jax_ignore\"><div class=\"entities\" style=\"line-height: 2.5; direction: ltr\">just got home from watching michigan state get tromped!   </div></span>"
      ],
      "text/plain": [
       "<IPython.core.display.HTML object>"
      ]
     },
     "metadata": {},
     "output_type": "display_data"
    },
    {
     "data": {
      "text/html": [
       "<span class=\"tex2jax_ignore\"><div class=\"entities\" style=\"line-height: 2.5; direction: ltr\">oh jewbus! two years worth of classes' work is alot to organize &amp;gt;_&amp;lt; i'm not finishing tonight it's not possiblemy bones ache </div></span>"
      ],
      "text/plain": [
       "<IPython.core.display.HTML object>"
      ]
     },
     "metadata": {},
     "output_type": "display_data"
    },
    {
     "data": {
      "text/html": [
       "<span class=\"tex2jax_ignore\"><div class=\"entities\" style=\"line-height: 2.5; direction: ltr\"> no exchanging for me my laptop hasn't arrived </div></span>"
      ],
      "text/plain": [
       "<IPython.core.display.HTML object>"
      ]
     },
     "metadata": {},
     "output_type": "display_data"
    },
    {
     "data": {
      "text/html": [
       "<span class=\"tex2jax_ignore\"><div class=\"entities\" style=\"line-height: 2.5; direction: ltr\"> i hope this doesn't last too long  i feel miserable!</div></span>"
      ],
      "text/plain": [
       "<IPython.core.display.HTML object>"
      ]
     },
     "metadata": {},
     "output_type": "display_data"
    },
    {
     "data": {
      "text/html": [
       "<span class=\"tex2jax_ignore\"><div class=\"entities\" style=\"line-height: 2.5; direction: ltr\"> rachel! hang outage is neccessary  i was gonna be home this wekend but dumb folk make me work   so im free f and sat until 4</div></span>"
      ],
      "text/plain": [
       "<IPython.core.display.HTML object>"
      ]
     },
     "metadata": {},
     "output_type": "display_data"
    },
    {
     "data": {
      "text/html": [
       "<span class=\"tex2jax_ignore\"><div class=\"entities\" style=\"line-height: 2.5; direction: ltr\"> not fun and furious? the new mantra for the bay 2 breakers? it was getting 2 rambunctious;the city overreacted and clamped down </div></span>"
      ],
      "text/plain": [
       "<IPython.core.display.HTML object>"
      ]
     },
     "metadata": {},
     "output_type": "display_data"
    },
    {
     "data": {
      "text/html": [
       "<span class=\"tex2jax_ignore\"><div class=\"entities\" style=\"line-height: 2.5; direction: ltr\">  my hubby (for some reason) thinks it's more important he has a good spot for red carpet for the trek movie premiere sod!</div></span>"
      ],
      "text/plain": [
       "<IPython.core.display.HTML object>"
      ]
     },
     "metadata": {},
     "output_type": "display_data"
    },
    {
     "data": {
      "text/html": [
       "<span class=\"tex2jax_ignore\"><div class=\"entities\" style=\"line-height: 2.5; direction: ltr\">i swear no matter how long i've been getting up at 5am it never gets any easier man my eyes hurts wah </div></span>"
      ],
      "text/plain": [
       "<IPython.core.display.HTML object>"
      ]
     },
     "metadata": {},
     "output_type": "display_data"
    },
    {
     "data": {
      "text/html": [
       "<span class=\"tex2jax_ignore\"><div class=\"entities\" style=\"line-height: 2.5; direction: ltr\"> jeffree! how do you keep your hair one color? my permanent dye fades within the week </div></span>"
      ],
      "text/plain": [
       "<IPython.core.display.HTML object>"
      ]
     },
     "metadata": {},
     "output_type": "display_data"
    },
    {
     "data": {
      "text/html": [
       "<span class=\"tex2jax_ignore\"><div class=\"entities\" style=\"line-height: 2.5; direction: ltr\"> my reaction too  whoa didn't see that coming</div></span>"
      ],
      "text/plain": [
       "<IPython.core.display.HTML object>"
      ]
     },
     "metadata": {},
     "output_type": "display_data"
    },
    {
     "data": {
      "text/html": [
       "<span class=\"tex2jax_ignore\"><div class=\"entities\" style=\"line-height: 2.5; direction: ltr\">still sick feeling a bit better got some new medicine hope i feel good after a night of sleep ohh and it's suppose to snow! wtf! </div></span>"
      ],
      "text/plain": [
       "<IPython.core.display.HTML object>"
      ]
     },
     "metadata": {},
     "output_type": "display_data"
    },
    {
     "data": {
      "text/html": [
       "<span class=\"tex2jax_ignore\"><div class=\"entities\" style=\"line-height: 2.5; direction: ltr\"> i think maybe you should get a couple more hours of sleep hon how productive can you be right now if ur dog tired? i worry </div></span>"
      ],
      "text/plain": [
       "<IPython.core.display.HTML object>"
      ]
     },
     "metadata": {},
     "output_type": "display_data"
    },
    {
     "data": {
      "text/html": [
       "<span class=\"tex2jax_ignore\"><div class=\"entities\" style=\"line-height: 2.5; direction: ltr\"> thanks a lot learned a lot of new words but didn't find what i was looking for </div></span>"
      ],
      "text/plain": [
       "<IPython.core.display.HTML object>"
      ]
     },
     "metadata": {},
     "output_type": "display_data"
    },
    {
     "data": {
      "text/html": [
       "<span class=\"tex2jax_ignore\"><div class=\"entities\" style=\"line-height: 2.5; direction: ltr\">wish i had all the xblm downloads all on the gamertag 'hitokyri' this 5 gamertag thing is nonsense and i'm tired of it </div></span>"
      ],
      "text/plain": [
       "<IPython.core.display.HTML object>"
      ]
     },
     "metadata": {},
     "output_type": "display_data"
    },
    {
     "data": {
      "text/html": [
       "<span class=\"tex2jax_ignore\"><div class=\"entities\" style=\"line-height: 2.5; direction: ltr\">new testament test at 9:30 am   </div></span>"
      ],
      "text/plain": [
       "<IPython.core.display.HTML object>"
      ]
     },
     "metadata": {},
     "output_type": "display_data"
    },
    {
     "data": {
      "text/html": [
       "<span class=\"tex2jax_ignore\"><div class=\"entities\" style=\"line-height: 2.5; direction: ltr\"> tons no hay troll? ahhhh </div></span>"
      ],
      "text/plain": [
       "<IPython.core.display.HTML object>"
      ]
     },
     "metadata": {},
     "output_type": "display_data"
    },
    {
     "data": {
      "text/html": [
       "<span class=\"tex2jax_ignore\"><div class=\"entities\" style=\"line-height: 2.5; direction: ltr\">stupid movies we watched mirrors ugggggh stooopeeed!!! rip off! </div></span>"
      ],
      "text/plain": [
       "<IPython.core.display.HTML object>"
      ]
     },
     "metadata": {},
     "output_type": "display_data"
    },
    {
     "data": {
      "text/html": [
       "<span class=\"tex2jax_ignore\"><div class=\"entities\" style=\"line-height: 2.5; direction: ltr\">  i love you buck </div></span>"
      ],
      "text/plain": [
       "<IPython.core.display.HTML object>"
      ]
     },
     "metadata": {},
     "output_type": "display_data"
    },
    {
     "data": {
      "text/html": [
       "<span class=\"tex2jax_ignore\"><div class=\"entities\" style=\"line-height: 2.5; direction: ltr\">last one!!! but still not done!!! </div></span>"
      ],
      "text/plain": [
       "<IPython.core.display.HTML object>"
      ]
     },
     "metadata": {},
     "output_type": "display_data"
    },
    {
     "data": {
      "text/html": [
       "<span class=\"tex2jax_ignore\"><div class=\"entities\" style=\"line-height: 2.5; direction: ltr\">homework </div></span>"
      ],
      "text/plain": [
       "<IPython.core.display.HTML object>"
      ]
     },
     "metadata": {},
     "output_type": "display_data"
    },
    {
     "data": {
      "text/html": [
       "<span class=\"tex2jax_ignore\"><div class=\"entities\" style=\"line-height: 2.5; direction: ltr\">i don't understand why things get taken away i didn't have enough time with him its unfair i want him back!! he was like my baby </div></span>"
      ],
      "text/plain": [
       "<IPython.core.display.HTML object>"
      ]
     },
     "metadata": {},
     "output_type": "display_data"
    },
    {
     "data": {
      "text/html": [
       "<span class=\"tex2jax_ignore\"><div class=\"entities\" style=\"line-height: 2.5; direction: ltr\">scratch that: du in heif (two in a half) \n",
       "<mark class=\"entity\" style=\"background: #ddd; padding: 0.45em 0.6em; margin: 0 0.25em; line-height: 1; border-radius: 0.35em;\">\n",
       "    cookies\n",
       "    <span style=\"font-size: 0.8em; font-weight: bold; line-height: 1; border-radius: 0.35em; vertical-align: middle; margin-left: 0.5rem\">FOOD</span>\n",
       "</mark>\n",
       " my tum just can't take anymore shoog poots </div></span>"
      ],
      "text/plain": [
       "<IPython.core.display.HTML object>"
      ]
     },
     "metadata": {},
     "output_type": "display_data"
    },
    {
     "data": {
      "text/html": [
       "<span class=\"tex2jax_ignore\"><div class=\"entities\" style=\"line-height: 2.5; direction: ltr\"> i was just listening to the sweets for the first time in forever! i miss them so much  can we go to chi town for visits plz?</div></span>"
      ],
      "text/plain": [
       "<IPython.core.display.HTML object>"
      ]
     },
     "metadata": {},
     "output_type": "display_data"
    },
    {
     "data": {
      "text/html": [
       "<span class=\"tex2jax_ignore\"><div class=\"entities\" style=\"line-height: 2.5; direction: ltr\">geez what a busy afternoon meetings emails meetings and email and more meetings 6pm and the day is still going! ah its dark and </div></span>"
      ],
      "text/plain": [
       "<IPython.core.display.HTML object>"
      ]
     },
     "metadata": {},
     "output_type": "display_data"
    },
    {
     "data": {
      "text/html": [
       "<span class=\"tex2jax_ignore\"><div class=\"entities\" style=\"line-height: 2.5; direction: ltr\">dang!!! another spring break!!!  how cool is that???  too bad i have to work all week  oh well more money for a phone  ttyl everbody!!!</div></span>"
      ],
      "text/plain": [
       "<IPython.core.display.HTML object>"
      ]
     },
     "metadata": {},
     "output_type": "display_data"
    },
    {
     "data": {
      "text/html": [
       "<span class=\"tex2jax_ignore\"><div class=\"entities\" style=\"line-height: 2.5; direction: ltr\"> im afraid too  ( ur reply about uni from ages ago</div></span>"
      ],
      "text/plain": [
       "<IPython.core.display.HTML object>"
      ]
     },
     "metadata": {},
     "output_type": "display_data"
    },
    {
     "data": {
      "text/html": [
       "<span class=\"tex2jax_ignore\"><div class=\"entities\" style=\"line-height: 2.5; direction: ltr\">feeling down </div></span>"
      ],
      "text/plain": [
       "<IPython.core.display.HTML object>"
      ]
     },
     "metadata": {},
     "output_type": "display_data"
    },
    {
     "data": {
      "text/html": [
       "<span class=\"tex2jax_ignore\"><div class=\"entities\" style=\"line-height: 2.5; direction: ltr\"> lol they are some emotional ass men!! omg all this late night eating both of us are broke </div></span>"
      ],
      "text/plain": [
       "<IPython.core.display.HTML object>"
      ]
     },
     "metadata": {},
     "output_type": "display_data"
    },
    {
     "data": {
      "text/html": [
       "<span class=\"tex2jax_ignore\"><div class=\"entities\" style=\"line-height: 2.5; direction: ltr\"> aww nick!! i like your hair longer why did you cut it off?  break my heart</div></span>"
      ],
      "text/plain": [
       "<IPython.core.display.HTML object>"
      ]
     },
     "metadata": {},
     "output_type": "display_data"
    },
    {
     "data": {
      "text/html": [
       "<span class=\"tex2jax_ignore\"><div class=\"entities\" style=\"line-height: 2.5; direction: ltr\"> wonder if jon lost the net</div></span>"
      ],
      "text/plain": [
       "<IPython.core.display.HTML object>"
      ]
     },
     "metadata": {},
     "output_type": "display_data"
    },
    {
     "data": {
      "text/html": [
       "<span class=\"tex2jax_ignore\"><div class=\"entities\" style=\"line-height: 2.5; direction: ltr\">wow the most depressing thing in the world is losing a video that you've created in a matter of seconds  #fml</div></span>"
      ],
      "text/plain": [
       "<IPython.core.display.HTML object>"
      ]
     },
     "metadata": {},
     "output_type": "display_data"
    },
    {
     "data": {
      "text/html": [
       "<span class=\"tex2jax_ignore\"><div class=\"entities\" style=\"line-height: 2.5; direction: ltr\"> ?tid=395031 but all says not in stock </div></span>"
      ],
      "text/plain": [
       "<IPython.core.display.HTML object>"
      ]
     },
     "metadata": {},
     "output_type": "display_data"
    },
    {
     "data": {
      "text/html": [
       "<span class=\"tex2jax_ignore\"><div class=\"entities\" style=\"line-height: 2.5; direction: ltr\"> lmao im sorry poohpot i ate it all! </div></span>"
      ],
      "text/plain": [
       "<IPython.core.display.HTML object>"
      ]
     },
     "metadata": {},
     "output_type": "display_data"
    },
    {
     "data": {
      "text/html": [
       "<span class=\"tex2jax_ignore\"><div class=\"entities\" style=\"line-height: 2.5; direction: ltr\">any chance  softbelly (for ) isn't loud? </div></span>"
      ],
      "text/plain": [
       "<IPython.core.display.HTML object>"
      ]
     },
     "metadata": {},
     "output_type": "display_data"
    },
    {
     "data": {
      "text/html": [
       "<span class=\"tex2jax_ignore\"><div class=\"entities\" style=\"line-height: 2.5; direction: ltr\">time to move my posterior  and lose some fat my articulation are creaking so no more running  but i�m drool for some swimming</div></span>"
      ],
      "text/plain": [
       "<IPython.core.display.HTML object>"
      ]
     },
     "metadata": {},
     "output_type": "display_data"
    },
    {
     "data": {
      "text/html": [
       "<span class=\"tex2jax_ignore\"><div class=\"entities\" style=\"line-height: 2.5; direction: ltr\">listening to nathan cry </div></span>"
      ],
      "text/plain": [
       "<IPython.core.display.HTML object>"
      ]
     },
     "metadata": {},
     "output_type": "display_data"
    },
    {
     "data": {
      "text/html": [
       "<span class=\"tex2jax_ignore\"><div class=\"entities\" style=\"line-height: 2.5; direction: ltr\">today sucked i'm gonna die without chris and callum!  wahhh!</div></span>"
      ],
      "text/plain": [
       "<IPython.core.display.HTML object>"
      ]
     },
     "metadata": {},
     "output_type": "display_data"
    },
    {
     "data": {
      "text/html": [
       "<span class=\"tex2jax_ignore\"><div class=\"entities\" style=\"line-height: 2.5; direction: ltr\">stou site not update no info about 2/2552 exam and open course i must wait for mail notices and doc um </div></span>"
      ],
      "text/plain": [
       "<IPython.core.display.HTML object>"
      ]
     },
     "metadata": {},
     "output_type": "display_data"
    },
    {
     "data": {
      "text/html": [
       "<span class=\"tex2jax_ignore\"><div class=\"entities\" style=\"line-height: 2.5; direction: ltr\">i'm sorry i'm feeling kinda yucky myself 5am is going to come too quick </div></span>"
      ],
      "text/plain": [
       "<IPython.core.display.HTML object>"
      ]
     },
     "metadata": {},
     "output_type": "display_data"
    },
    {
     "data": {
      "text/html": [
       "<span class=\"tex2jax_ignore\"><div class=\"entities\" style=\"line-height: 2.5; direction: ltr\">is in love with scrappy and is missin him already </div></span>"
      ],
      "text/plain": [
       "<IPython.core.display.HTML object>"
      ]
     },
     "metadata": {},
     "output_type": "display_data"
    },
    {
     "data": {
      "text/html": [
       "<span class=\"tex2jax_ignore\"><div class=\"entities\" style=\"line-height: 2.5; direction: ltr\">wants to hear  's song but myspace is messing with me </div></span>"
      ],
      "text/plain": [
       "<IPython.core.display.HTML object>"
      ]
     },
     "metadata": {},
     "output_type": "display_data"
    },
    {
     "data": {
      "text/html": [
       "<span class=\"tex2jax_ignore\"><div class=\"entities\" style=\"line-height: 2.5; direction: ltr\">bad news was dad has cancer and is dying   good news new business started and  i am now a life coach practising holistic weight management</div></span>"
      ],
      "text/plain": [
       "<IPython.core.display.HTML object>"
      ]
     },
     "metadata": {},
     "output_type": "display_data"
    },
    {
     "data": {
      "text/html": [
       "<span class=\"tex2jax_ignore\"><div class=\"entities\" style=\"line-height: 2.5; direction: ltr\"> man intervention is soo sad </div></span>"
      ],
      "text/plain": [
       "<IPython.core.display.HTML object>"
      ]
     },
     "metadata": {},
     "output_type": "display_data"
    },
    {
     "data": {
      "text/html": [
       "<span class=\"tex2jax_ignore\"><div class=\"entities\" style=\"line-height: 2.5; direction: ltr\">help! i need a new boyfriend i'm stuck in a rut </div></span>"
      ],
      "text/plain": [
       "<IPython.core.display.HTML object>"
      ]
     },
     "metadata": {},
     "output_type": "display_data"
    },
    {
     "data": {
      "text/html": [
       "<span class=\"tex2jax_ignore\"><div class=\"entities\" style=\"line-height: 2.5; direction: ltr\">i feel like a complete idiot i'm the only one who doesn't get how this shit works  help me </div></span>"
      ],
      "text/plain": [
       "<IPython.core.display.HTML object>"
      ]
     },
     "metadata": {},
     "output_type": "display_data"
    },
    {
     "data": {
      "text/html": [
       "<span class=\"tex2jax_ignore\"><div class=\"entities\" style=\"line-height: 2.5; direction: ltr\">saw an ad on craigslist for a casting call for a female host on g4 i was totally psyched! but realized it was a hoax </div></span>"
      ],
      "text/plain": [
       "<IPython.core.display.HTML object>"
      ]
     },
     "metadata": {},
     "output_type": "display_data"
    },
    {
     "data": {
      "text/html": [
       "<span class=\"tex2jax_ignore\"><div class=\"entities\" style=\"line-height: 2.5; direction: ltr\">pepperoni rolls in la?: i called valentino's  they said that they had \n",
       "<mark class=\"entity\" style=\"background: #ddd; padding: 0.45em 0.6em; margin: 0 0.25em; line-height: 1; border-radius: 0.35em;\">\n",
       "    sausage\n",
       "    <span style=\"font-size: 0.8em; font-weight: bold; line-height: 1; border-radius: 0.35em; vertical-align: middle; margin-left: 0.5rem\">FOOD</span>\n",
       "</mark>\n",
       " rolls but no pepperoni rolls  </div></span>"
      ],
      "text/plain": [
       "<IPython.core.display.HTML object>"
      ]
     },
     "metadata": {},
     "output_type": "display_data"
    },
    {
     "data": {
      "text/html": [
       "<span class=\"tex2jax_ignore\"><div class=\"entities\" style=\"line-height: 2.5; direction: ltr\"> yes it will be it's only monday </div></span>"
      ],
      "text/plain": [
       "<IPython.core.display.HTML object>"
      ]
     },
     "metadata": {},
     "output_type": "display_data"
    },
    {
     "data": {
      "text/html": [
       "<span class=\"tex2jax_ignore\"><div class=\"entities\" style=\"line-height: 2.5; direction: ltr\">i want the new gg episode already </div></span>"
      ],
      "text/plain": [
       "<IPython.core.display.HTML object>"
      ]
     },
     "metadata": {},
     "output_type": "display_data"
    },
    {
     "data": {
      "text/html": [
       "<span class=\"tex2jax_ignore\"><div class=\"entities\" style=\"line-height: 2.5; direction: ltr\">i miss watching rocko's modern life </div></span>"
      ],
      "text/plain": [
       "<IPython.core.display.HTML object>"
      ]
     },
     "metadata": {},
     "output_type": "display_data"
    },
    {
     "data": {
      "text/html": [
       "<span class=\"tex2jax_ignore\"><div class=\"entities\" style=\"line-height: 2.5; direction: ltr\">rip sandraits so sad    how can someone do something like that??</div></span>"
      ],
      "text/plain": [
       "<IPython.core.display.HTML object>"
      ]
     },
     "metadata": {},
     "output_type": "display_data"
    },
    {
     "data": {
      "text/html": [
       "<span class=\"tex2jax_ignore\"><div class=\"entities\" style=\"line-height: 2.5; direction: ltr\">keeping my fingers crossed for my buddy    he is not feeling well</div></span>"
      ],
      "text/plain": [
       "<IPython.core.display.HTML object>"
      ]
     },
     "metadata": {},
     "output_type": "display_data"
    },
    {
     "data": {
      "text/html": [
       "<span class=\"tex2jax_ignore\"><div class=\"entities\" style=\"line-height: 2.5; direction: ltr\">wait should i eat?? or be skinny for vegas!! i'm hungry! </div></span>"
      ],
      "text/plain": [
       "<IPython.core.display.HTML object>"
      ]
     },
     "metadata": {},
     "output_type": "display_data"
    },
    {
     "data": {
      "text/html": [
       "<span class=\"tex2jax_ignore\"><div class=\"entities\" style=\"line-height: 2.5; direction: ltr\"> i tried tweetdeck once and i hated it with a passion or it hated me i'm not sure </div></span>"
      ],
      "text/plain": [
       "<IPython.core.display.HTML object>"
      ]
     },
     "metadata": {},
     "output_type": "display_data"
    },
    {
     "data": {
      "text/html": [
       "<span class=\"tex2jax_ignore\"><div class=\"entities\" style=\"line-height: 2.5; direction: ltr\"> btw my iphone is acting funny dying quickly and freezing and bs  i'm not admitting anything just sayin </div></span>"
      ],
      "text/plain": [
       "<IPython.core.display.HTML object>"
      ]
     },
     "metadata": {},
     "output_type": "display_data"
    },
    {
     "data": {
      "text/html": [
       "<span class=\"tex2jax_ignore\"><div class=\"entities\" style=\"line-height: 2.5; direction: ltr\">sitting here wondering why &amp;quot;ed&amp;quot; still has such a strong hold on me </div></span>"
      ],
      "text/plain": [
       "<IPython.core.display.HTML object>"
      ]
     },
     "metadata": {},
     "output_type": "display_data"
    },
    {
     "data": {
      "text/html": [
       "<span class=\"tex2jax_ignore\"><div class=\"entities\" style=\"line-height: 2.5; direction: ltr\"> im sorry i got you sick  lol going to bed too night!</div></span>"
      ],
      "text/plain": [
       "<IPython.core.display.HTML object>"
      ]
     },
     "metadata": {},
     "output_type": "display_data"
    },
    {
     "data": {
      "text/html": [
       "<span class=\"tex2jax_ignore\"><div class=\"entities\" style=\"line-height: 2.5; direction: ltr\"> no internet at home have to drive into ox to use internet because of builders! </div></span>"
      ],
      "text/plain": [
       "<IPython.core.display.HTML object>"
      ]
     },
     "metadata": {},
     "output_type": "display_data"
    },
    {
     "data": {
      "text/html": [
       "<span class=\"tex2jax_ignore\"><div class=\"entities\" style=\"line-height: 2.5; direction: ltr\"> the weather in canada is freezing </div></span>"
      ],
      "text/plain": [
       "<IPython.core.display.HTML object>"
      ]
     },
     "metadata": {},
     "output_type": "display_data"
    },
    {
     "data": {
      "text/html": [
       "<span class=\"tex2jax_ignore\"><div class=\"entities\" style=\"line-height: 2.5; direction: ltr\">twiggassssssss i been out of range all day  i'm back now and hopefully for good</div></span>"
      ],
      "text/plain": [
       "<IPython.core.display.HTML object>"
      ]
     },
     "metadata": {},
     "output_type": "display_data"
    },
    {
     "data": {
      "text/html": [
       "<span class=\"tex2jax_ignore\"><div class=\"entities\" style=\"line-height: 2.5; direction: ltr\"> </div></span>"
      ],
      "text/plain": [
       "<IPython.core.display.HTML object>"
      ]
     },
     "metadata": {},
     "output_type": "display_data"
    },
    {
     "data": {
      "text/html": [
       "<span class=\"tex2jax_ignore\"><div class=\"entities\" style=\"line-height: 2.5; direction: ltr\">anyone who reads this pray for my grandma she's in pain </div></span>"
      ],
      "text/plain": [
       "<IPython.core.display.HTML object>"
      ]
     },
     "metadata": {},
     "output_type": "display_data"
    },
    {
     "data": {
      "text/html": [
       "<span class=\"tex2jax_ignore\"><div class=\"entities\" style=\"line-height: 2.5; direction: ltr\">#3 woke up and was having an accident  &amp;quot;it's pushing it's pushing!&amp;quot; he was crying because he couldn't stop from wetting his pants  </div></span>"
      ],
      "text/plain": [
       "<IPython.core.display.HTML object>"
      ]
     },
     "metadata": {},
     "output_type": "display_data"
    },
    {
     "data": {
      "text/html": [
       "<span class=\"tex2jax_ignore\"><div class=\"entities\" style=\"line-height: 2.5; direction: ltr\">home from franklin street i almost jumped over a fire someone kicked it before i could  jenny lost her shoe</div></span>"
      ],
      "text/plain": [
       "<IPython.core.display.HTML object>"
      ]
     },
     "metadata": {},
     "output_type": "display_data"
    },
    {
     "data": {
      "text/html": [
       "<span class=\"tex2jax_ignore\"><div class=\"entities\" style=\"line-height: 2.5; direction: ltr\"> hey! you just changed your default </div></span>"
      ],
      "text/plain": [
       "<IPython.core.display.HTML object>"
      ]
     },
     "metadata": {},
     "output_type": "display_data"
    },
    {
     "data": {
      "text/html": [
       "<span class=\"tex2jax_ignore\"><div class=\"entities\" style=\"line-height: 2.5; direction: ltr\">finally gave in and was bored enough to start this thing i think the 140 is going to be a problem for me tho  its like a myspace status</div></span>"
      ],
      "text/plain": [
       "<IPython.core.display.HTML object>"
      ]
     },
     "metadata": {},
     "output_type": "display_data"
    },
    {
     "data": {
      "text/html": [
       "<span class=\"tex2jax_ignore\"><div class=\"entities\" style=\"line-height: 2.5; direction: ltr\"> if oooonly we were really so lucky eh? and awh  definitely too early for work</div></span>"
      ],
      "text/plain": [
       "<IPython.core.display.HTML object>"
      ]
     },
     "metadata": {},
     "output_type": "display_data"
    },
    {
     "data": {
      "text/html": [
       "<span class=\"tex2jax_ignore\"><div class=\"entities\" style=\"line-height: 2.5; direction: ltr\">buttload of homework! </div></span>"
      ],
      "text/plain": [
       "<IPython.core.display.HTML object>"
      ]
     },
     "metadata": {},
     "output_type": "display_data"
    },
    {
     "data": {
      "text/html": [
       "<span class=\"tex2jax_ignore\"><div class=\"entities\" style=\"line-height: 2.5; direction: ltr\">needs another copy of visual studio 2008 </div></span>"
      ],
      "text/plain": [
       "<IPython.core.display.HTML object>"
      ]
     },
     "metadata": {},
     "output_type": "display_data"
    },
    {
     "data": {
      "text/html": [
       "<span class=\"tex2jax_ignore\"><div class=\"entities\" style=\"line-height: 2.5; direction: ltr\">why to we the only school in the world be in this weekmy school is silly  anyway look on the bright side when i'm off u will be in</div></span>"
      ],
      "text/plain": [
       "<IPython.core.display.HTML object>"
      ]
     },
     "metadata": {},
     "output_type": "display_data"
    },
    {
     "data": {
      "text/html": [
       "<span class=\"tex2jax_ignore\"><div class=\"entities\" style=\"line-height: 2.5; direction: ltr\">omg i've an economics test and i dont know all the things i have to know and omg im gonna fail </div></span>"
      ],
      "text/plain": [
       "<IPython.core.display.HTML object>"
      ]
     },
     "metadata": {},
     "output_type": "display_data"
    },
    {
     "data": {
      "text/html": [
       "<span class=\"tex2jax_ignore\"><div class=\"entities\" style=\"line-height: 2.5; direction: ltr\"> once upon a time hundred islands was the pride of philippine tourism but coral/clam/rare \n",
       "<mark class=\"entity\" style=\"background: #ddd; padding: 0.45em 0.6em; margin: 0 0.25em; line-height: 1; border-radius: 0.35em;\">\n",
       "    fish\n",
       "    <span style=\"font-size: 0.8em; font-weight: bold; line-height: 1; border-radius: 0.35em; vertical-align: middle; margin-left: 0.5rem\">FOOD</span>\n",
       "</mark>\n",
       " poaching did it in kinda sad </div></span>"
      ],
      "text/plain": [
       "<IPython.core.display.HTML object>"
      ]
     },
     "metadata": {},
     "output_type": "display_data"
    },
    {
     "data": {
      "text/html": [
       "<span class=\"tex2jax_ignore\"><div class=\"entities\" style=\"line-height: 2.5; direction: ltr\"> yeah apparently i have really bad taste </div></span>"
      ],
      "text/plain": [
       "<IPython.core.display.HTML object>"
      ]
     },
     "metadata": {},
     "output_type": "display_data"
    },
    {
     "data": {
      "text/html": [
       "<span class=\"tex2jax_ignore\"><div class=\"entities\" style=\"line-height: 2.5; direction: ltr\"> i know! i was really surprised since everyone recommends them on youtube  i have to call them tomorrow and figure it all out</div></span>"
      ],
      "text/plain": [
       "<IPython.core.display.HTML object>"
      ]
     },
     "metadata": {},
     "output_type": "display_data"
    },
    {
     "data": {
      "text/html": [
       "<span class=\"tex2jax_ignore\"><div class=\"entities\" style=\"line-height: 2.5; direction: ltr\">waiting at the airport for my ride while i get harassed by 2 men trying to sell me ugly hats why me?!  i just want to sleep</div></span>"
      ],
      "text/plain": [
       "<IPython.core.display.HTML object>"
      ]
     },
     "metadata": {},
     "output_type": "display_data"
    },
    {
     "data": {
      "text/html": [
       "<span class=\"tex2jax_ignore\"><div class=\"entities\" style=\"line-height: 2.5; direction: ltr\">i left my ids at the location and now i can not go out to bars  fuckkkkkkkkkkkkk</div></span>"
      ],
      "text/plain": [
       "<IPython.core.display.HTML object>"
      ]
     },
     "metadata": {},
     "output_type": "display_data"
    },
    {
     "data": {
      "text/html": [
       "<span class=\"tex2jax_ignore\"><div class=\"entities\" style=\"line-height: 2.5; direction: ltr\"> i'm sorry i don't understand your last comment </div></span>"
      ],
      "text/plain": [
       "<IPython.core.display.HTML object>"
      ]
     },
     "metadata": {},
     "output_type": "display_data"
    },
    {
     "data": {
      "text/html": [
       "<span class=\"tex2jax_ignore\"><div class=\"entities\" style=\"line-height: 2.5; direction: ltr\"> when is the announcement? i stayed up late last night </div></span>"
      ],
      "text/plain": [
       "<IPython.core.display.HTML object>"
      ]
     },
     "metadata": {},
     "output_type": "display_data"
    },
    {
     "data": {
      "text/html": [
       "<span class=\"tex2jax_ignore\"><div class=\"entities\" style=\"line-height: 2.5; direction: ltr\"> this is strange illegal torrents avlbl everywhere legal dvd not in stock  what do i do now???</div></span>"
      ],
      "text/plain": [
       "<IPython.core.display.HTML object>"
      ]
     },
     "metadata": {},
     "output_type": "display_data"
    },
    {
     "data": {
      "text/html": [
       "<span class=\"tex2jax_ignore\"><div class=\"entities\" style=\"line-height: 2.5; direction: ltr\">its not enough to say that imiss u </div></span>"
      ],
      "text/plain": [
       "<IPython.core.display.HTML object>"
      ]
     },
     "metadata": {},
     "output_type": "display_data"
    },
    {
     "data": {
      "text/html": [
       "<span class=\"tex2jax_ignore\"><div class=\"entities\" style=\"line-height: 2.5; direction: ltr\">this \n",
       "<mark class=\"entity\" style=\"background: #ddd; padding: 0.45em 0.6em; margin: 0 0.25em; line-height: 1; border-radius: 0.35em;\">\n",
       "    trolley\n",
       "    <span style=\"font-size: 0.8em; font-weight: bold; line-height: 1; border-radius: 0.35em; vertical-align: middle; margin-left: 0.5rem\">FOOD</span>\n",
       "</mark>\n",
       " has up packed in like sardines! padre game and they remove a car?! good call mts </div></span>"
      ],
      "text/plain": [
       "<IPython.core.display.HTML object>"
      ]
     },
     "metadata": {},
     "output_type": "display_data"
    },
    {
     "data": {
      "text/html": [
       "<span class=\"tex2jax_ignore\"><div class=\"entities\" style=\"line-height: 2.5; direction: ltr\"> jeez i was just trying to help  haha</div></span>"
      ],
      "text/plain": [
       "<IPython.core.display.HTML object>"
      ]
     },
     "metadata": {},
     "output_type": "display_data"
    },
    {
     "data": {
      "text/html": [
       "<span class=\"tex2jax_ignore\"><div class=\"entities\" style=\"line-height: 2.5; direction: ltr\"> that happened to me saturday night along with my glittery green lighter! </div></span>"
      ],
      "text/plain": [
       "<IPython.core.display.HTML object>"
      ]
     },
     "metadata": {},
     "output_type": "display_data"
    },
    {
     "data": {
      "text/html": [
       "<span class=\"tex2jax_ignore\"><div class=\"entities\" style=\"line-height: 2.5; direction: ltr\">trying to reduce the number of cigarettes in each day! </div></span>"
      ],
      "text/plain": [
       "<IPython.core.display.HTML object>"
      ]
     },
     "metadata": {},
     "output_type": "display_data"
    },
    {
     "data": {
      "text/html": [
       "<span class=\"tex2jax_ignore\"><div class=\"entities\" style=\"line-height: 2.5; direction: ltr\">yea it is so quiet around here cuz everyone has to work im bored to death with nobody to talk to </div></span>"
      ],
      "text/plain": [
       "<IPython.core.display.HTML object>"
      ]
     },
     "metadata": {},
     "output_type": "display_data"
    },
    {
     "data": {
      "text/html": [
       "<span class=\"tex2jax_ignore\"><div class=\"entities\" style=\"line-height: 2.5; direction: ltr\">gotta do my cooking assignment  its too hard</div></span>"
      ],
      "text/plain": [
       "<IPython.core.display.HTML object>"
      ]
     },
     "metadata": {},
     "output_type": "display_data"
    },
    {
     "data": {
      "text/html": [
       "<span class=\"tex2jax_ignore\"><div class=\"entities\" style=\"line-height: 2.5; direction: ltr\"> okay about the applepears i've talked to a few people and they've all had them before no one ever told me never </div></span>"
      ],
      "text/plain": [
       "<IPython.core.display.HTML object>"
      ]
     },
     "metadata": {},
     "output_type": "display_data"
    },
    {
     "data": {
      "text/html": [
       "<span class=\"tex2jax_ignore\"><div class=\"entities\" style=\"line-height: 2.5; direction: ltr\"> i know!  i'm a night owl by nature hahaha am i a time zone behind you? it's almost 1 here</div></span>"
      ],
      "text/plain": [
       "<IPython.core.display.HTML object>"
      ]
     },
     "metadata": {},
     "output_type": "display_data"
    },
    {
     "data": {
      "text/html": [
       "<span class=\"tex2jax_ignore\"><div class=\"entities\" style=\"line-height: 2.5; direction: ltr\"> lol  nope! but i did have complete #camerafail </div></span>"
      ],
      "text/plain": [
       "<IPython.core.display.HTML object>"
      ]
     },
     "metadata": {},
     "output_type": "display_data"
    },
    {
     "data": {
      "text/html": [
       "<span class=\"tex2jax_ignore\"><div class=\"entities\" style=\"line-height: 2.5; direction: ltr\">  but! i'm useless if i don't sleep  it's not fair! i want all the fun as well!!!</div></span>"
      ],
      "text/plain": [
       "<IPython.core.display.HTML object>"
      ]
     },
     "metadata": {},
     "output_type": "display_data"
    },
    {
     "data": {
      "text/html": [
       "<span class=\"tex2jax_ignore\"><div class=\"entities\" style=\"line-height: 2.5; direction: ltr\">my pookie has a uti  i have to be nurse gabbie and get him back to 100%!!! no more sodas!!!!!!!!!!!!!!</div></span>"
      ],
      "text/plain": [
       "<IPython.core.display.HTML object>"
      ]
     },
     "metadata": {},
     "output_type": "display_data"
    },
    {
     "data": {
      "text/html": [
       "<span class=\"tex2jax_ignore\"><div class=\"entities\" style=\"line-height: 2.5; direction: ltr\"> tweet something damn it!  and hang out with me please? </div></span>"
      ],
      "text/plain": [
       "<IPython.core.display.HTML object>"
      ]
     },
     "metadata": {},
     "output_type": "display_data"
    },
    {
     "data": {
      "text/html": [
       "<span class=\"tex2jax_ignore\"><div class=\"entities\" style=\"line-height: 2.5; direction: ltr\"> </div></span>"
      ],
      "text/plain": [
       "<IPython.core.display.HTML object>"
      ]
     },
     "metadata": {},
     "output_type": "display_data"
    },
    {
     "data": {
      "text/html": [
       "<span class=\"tex2jax_ignore\"><div class=\"entities\" style=\"line-height: 2.5; direction: ltr\">i'm so behind in video games and everything for that matter i'm yesterday's news </div></span>"
      ],
      "text/plain": [
       "<IPython.core.display.HTML object>"
      ]
     },
     "metadata": {},
     "output_type": "display_data"
    },
    {
     "data": {
      "text/html": [
       "<span class=\"tex2jax_ignore\"><div class=\"entities\" style=\"line-height: 2.5; direction: ltr\"> i did it was the only one left but i got tempted and ate it soon as i got home  i had a \n",
       "<mark class=\"entity\" style=\"background: #ddd; padding: 0.45em 0.6em; margin: 0 0.25em; line-height: 1; border-radius: 0.35em;\">\n",
       "    chocolate\n",
       "    <span style=\"font-size: 0.8em; font-weight: bold; line-height: 1; border-radius: 0.35em; vertical-align: middle; margin-left: 0.5rem\">FOOD</span>\n",
       "</mark>\n",
       " velvet and ate d mocha</div></span>"
      ],
      "text/plain": [
       "<IPython.core.display.HTML object>"
      ]
     },
     "metadata": {},
     "output_type": "display_data"
    },
    {
     "data": {
      "text/html": [
       "<span class=\"tex2jax_ignore\"><div class=\"entities\" style=\"line-height: 2.5; direction: ltr\">is stressing out because my blackberry keeps flashing a red alert status for no reason!! its faking me out and i hate it!!! </div></span>"
      ],
      "text/plain": [
       "<IPython.core.display.HTML object>"
      ]
     },
     "metadata": {},
     "output_type": "display_data"
    },
    {
     "data": {
      "text/html": [
       "<span class=\"tex2jax_ignore\"><div class=\"entities\" style=\"line-height: 2.5; direction: ltr\">  i wanna wear my doc martens out! haven't worn them since december </div></span>"
      ],
      "text/plain": [
       "<IPython.core.display.HTML object>"
      ]
     },
     "metadata": {},
     "output_type": "display_data"
    },
    {
     "data": {
      "text/html": [
       "<span class=\"tex2jax_ignore\"><div class=\"entities\" style=\"line-height: 2.5; direction: ltr\">when to the shoe repair shop and the guy could not find my shoes!  so i have to go back and see if he can find them in a couple days </div></span>"
      ],
      "text/plain": [
       "<IPython.core.display.HTML object>"
      ]
     },
     "metadata": {},
     "output_type": "display_data"
    },
    {
     "data": {
      "text/html": [
       "<span class=\"tex2jax_ignore\"><div class=\"entities\" style=\"line-height: 2.5; direction: ltr\"> i did not really see that coming </div></span>"
      ],
      "text/plain": [
       "<IPython.core.display.HTML object>"
      ]
     },
     "metadata": {},
     "output_type": "display_data"
    },
    {
     "data": {
      "text/html": [
       "<span class=\"tex2jax_ignore\"><div class=\"entities\" style=\"line-height: 2.5; direction: ltr\">just woke up from the most vivid sketchy notcool dreams of my life time to stare at the wall with the lights on </div></span>"
      ],
      "text/plain": [
       "<IPython.core.display.HTML object>"
      ]
     },
     "metadata": {},
     "output_type": "display_data"
    },
    {
     "data": {
      "text/html": [
       "<span class=\"tex2jax_ignore\"><div class=\"entities\" style=\"line-height: 2.5; direction: ltr\">it'll take 3 days for my sister to get her passport </div></span>"
      ],
      "text/plain": [
       "<IPython.core.display.HTML object>"
      ]
     },
     "metadata": {},
     "output_type": "display_data"
    },
    {
     "data": {
      "text/html": [
       "<span class=\"tex2jax_ignore\"><div class=\"entities\" style=\"line-height: 2.5; direction: ltr\"> oh my yes!! i miss </div></span>"
      ],
      "text/plain": [
       "<IPython.core.display.HTML object>"
      ]
     },
     "metadata": {},
     "output_type": "display_data"
    },
    {
     "data": {
      "text/html": [
       "<span class=\"tex2jax_ignore\"><div class=\"entities\" style=\"line-height: 2.5; direction: ltr\">uh oh i think i am getting sick </div></span>"
      ],
      "text/plain": [
       "<IPython.core.display.HTML object>"
      ]
     },
     "metadata": {},
     "output_type": "display_data"
    },
    {
     "data": {
      "text/html": [
       "<span class=\"tex2jax_ignore\"><div class=\"entities\" style=\"line-height: 2.5; direction: ltr\">good god they ruined my belly button!!!  </div></span>"
      ],
      "text/plain": [
       "<IPython.core.display.HTML object>"
      ]
     },
     "metadata": {},
     "output_type": "display_data"
    },
    {
     "data": {
      "text/html": [
       "<span class=\"tex2jax_ignore\"><div class=\"entities\" style=\"line-height: 2.5; direction: ltr\">watching who framed roger \n",
       "<mark class=\"entity\" style=\"background: #ddd; padding: 0.45em 0.6em; margin: 0 0.25em; line-height: 1; border-radius: 0.35em;\">\n",
       "    rabbit\n",
       "    <span style=\"font-size: 0.8em; font-weight: bold; line-height: 1; border-radius: 0.35em; vertical-align: middle; margin-left: 0.5rem\">FOOD</span>\n",
       "</mark>\n",
       " makes me miss toon town </div></span>"
      ],
      "text/plain": [
       "<IPython.core.display.HTML object>"
      ]
     },
     "metadata": {},
     "output_type": "display_data"
    },
    {
     "data": {
      "text/html": [
       "<span class=\"tex2jax_ignore\"><div class=\"entities\" style=\"line-height: 2.5; direction: ltr\"> \n",
       "<mark class=\"entity\" style=\"background: #ddd; padding: 0.45em 0.6em; margin: 0 0.25em; line-height: 1; border-radius: 0.35em;\">\n",
       "    renting\n",
       "    <span style=\"font-size: 0.8em; font-weight: bold; line-height: 1; border-radius: 0.35em; vertical-align: middle; margin-left: 0.5rem\">FOOD</span>\n",
       "</mark>\n",
       " but very cheap renting and awesome house we had 3 buying attempts fall through </div></span>"
      ],
      "text/plain": [
       "<IPython.core.display.HTML object>"
      ]
     },
     "metadata": {},
     "output_type": "display_data"
    },
    {
     "data": {
      "text/html": [
       "<span class=\"tex2jax_ignore\"><div class=\"entities\" style=\"line-height: 2.5; direction: ltr\">running nose + spinning head = not a good combination for a meeting! </div></span>"
      ],
      "text/plain": [
       "<IPython.core.display.HTML object>"
      ]
     },
     "metadata": {},
     "output_type": "display_data"
    },
    {
     "data": {
      "text/html": [
       "<span class=\"tex2jax_ignore\"><div class=\"entities\" style=\"line-height: 2.5; direction: ltr\"> negative you lost my vote of confidence </div></span>"
      ],
      "text/plain": [
       "<IPython.core.display.HTML object>"
      ]
     },
     "metadata": {},
     "output_type": "display_data"
    },
    {
     "data": {
      "text/html": [
       "<span class=\"tex2jax_ignore\"><div class=\"entities\" style=\"line-height: 2.5; direction: ltr\">nasty budget due and my iphone is being sent to apple today </div></span>"
      ],
      "text/plain": [
       "<IPython.core.display.HTML object>"
      ]
     },
     "metadata": {},
     "output_type": "display_data"
    },
    {
     "data": {
      "text/html": [
       "<span class=\"tex2jax_ignore\"><div class=\"entities\" style=\"line-height: 2.5; direction: ltr\"> that�s bad </div></span>"
      ],
      "text/plain": [
       "<IPython.core.display.HTML object>"
      ]
     },
     "metadata": {},
     "output_type": "display_data"
    },
    {
     "data": {
      "text/html": [
       "<span class=\"tex2jax_ignore\"><div class=\"entities\" style=\"line-height: 2.5; direction: ltr\">dammit episode 3 of kings won't play for some reason  stopped in the middle now won't do anything</div></span>"
      ],
      "text/plain": [
       "<IPython.core.display.HTML object>"
      ]
     },
     "metadata": {},
     "output_type": "display_data"
    },
    {
     "data": {
      "text/html": [
       "<span class=\"tex2jax_ignore\"><div class=\"entities\" style=\"line-height: 2.5; direction: ltr\">i'm so upset that i missed my chat and quiz online because my free internet has ceased </div></span>"
      ],
      "text/plain": [
       "<IPython.core.display.HTML object>"
      ]
     },
     "metadata": {},
     "output_type": "display_data"
    },
    {
     "data": {
      "text/html": [
       "<span class=\"tex2jax_ignore\"><div class=\"entities\" style=\"line-height: 2.5; direction: ltr\">can't believe it! i'm in disbelief of it all in a way really how much can i take from people and always get hurt by others!! </div></span>"
      ],
      "text/plain": [
       "<IPython.core.display.HTML object>"
      ]
     },
     "metadata": {},
     "output_type": "display_data"
    },
    {
     "data": {
      "text/html": [
       "<span class=\"tex2jax_ignore\"><div class=\"entities\" style=\"line-height: 2.5; direction: ltr\">car show season has started without me </div></span>"
      ],
      "text/plain": [
       "<IPython.core.display.HTML object>"
      ]
     },
     "metadata": {},
     "output_type": "display_data"
    },
    {
     "data": {
      "text/html": [
       "<span class=\"tex2jax_ignore\"><div class=\"entities\" style=\"line-height: 2.5; direction: ltr\">my throat is raw </div></span>"
      ],
      "text/plain": [
       "<IPython.core.display.HTML object>"
      ]
     },
     "metadata": {},
     "output_type": "display_data"
    },
    {
     "data": {
      "text/html": [
       "<span class=\"tex2jax_ignore\"><div class=\"entities\" style=\"line-height: 2.5; direction: ltr\"> i just don't get it what in a persons mind could even have them on some ish like this???  my prayers are with her fam for real</div></span>"
      ],
      "text/plain": [
       "<IPython.core.display.HTML object>"
      ]
     },
     "metadata": {},
     "output_type": "display_data"
    },
    {
     "data": {
      "text/html": [
       "<span class=\"tex2jax_ignore\"><div class=\"entities\" style=\"line-height: 2.5; direction: ltr\"> i hate you i didn't need to see that i need to call my therapist now </div></span>"
      ],
      "text/plain": [
       "<IPython.core.display.HTML object>"
      ]
     },
     "metadata": {},
     "output_type": "display_data"
    },
    {
     "data": {
      "text/html": [
       "<span class=\"tex2jax_ignore\"><div class=\"entities\" style=\"line-height: 2.5; direction: ltr\">twilight didn't come yesterday  fingers crossed for today</div></span>"
      ],
      "text/plain": [
       "<IPython.core.display.HTML object>"
      ]
     },
     "metadata": {},
     "output_type": "display_data"
    },
    {
     "data": {
      "text/html": [
       "<span class=\"tex2jax_ignore\"><div class=\"entities\" style=\"line-height: 2.5; direction: ltr\"> glad i was able help you feel better i hate to see you sick  love you!</div></span>"
      ],
      "text/plain": [
       "<IPython.core.display.HTML object>"
      ]
     },
     "metadata": {},
     "output_type": "display_data"
    },
    {
     "data": {
      "text/html": [
       "<span class=\"tex2jax_ignore\"><div class=\"entities\" style=\"line-height: 2.5; direction: ltr\">is tireddddddd want to sleep but i have an assignment to finish and an exam tomorrow to study for </div></span>"
      ],
      "text/plain": [
       "<IPython.core.display.HTML object>"
      ]
     },
     "metadata": {},
     "output_type": "display_data"
    },
    {
     "data": {
      "text/html": [
       "<span class=\"tex2jax_ignore\"><div class=\"entities\" style=\"line-height: 2.5; direction: ltr\">you know i was thinking i need money </div></span>"
      ],
      "text/plain": [
       "<IPython.core.display.HTML object>"
      ]
     },
     "metadata": {},
     "output_type": "display_data"
    },
    {
     "data": {
      "text/html": [
       "<span class=\"tex2jax_ignore\"><div class=\"entities\" style=\"line-height: 2.5; direction: ltr\">omgits jst teusday </div></span>"
      ],
      "text/plain": [
       "<IPython.core.display.HTML object>"
      ]
     },
     "metadata": {},
     "output_type": "display_data"
    },
    {
     "data": {
      "text/html": [
       "<span class=\"tex2jax_ignore\"><div class=\"entities\" style=\"line-height: 2.5; direction: ltr\">  ummmmm i cant find it </div></span>"
      ],
      "text/plain": [
       "<IPython.core.display.HTML object>"
      ]
     },
     "metadata": {},
     "output_type": "display_data"
    },
    {
     "data": {
      "text/html": [
       "<span class=\"tex2jax_ignore\"><div class=\"entities\" style=\"line-height: 2.5; direction: ltr\">just heard that they found sandra cantu she was only 8 yrs old </div></span>"
      ],
      "text/plain": [
       "<IPython.core.display.HTML object>"
      ]
     },
     "metadata": {},
     "output_type": "display_data"
    },
    {
     "data": {
      "text/html": [
       "<span class=\"tex2jax_ignore\"><div class=\"entities\" style=\"line-height: 2.5; direction: ltr\"> ive forgotten how to snoosnoo  i wonder if snoosnoo and i will ever meet again</div></span>"
      ],
      "text/plain": [
       "<IPython.core.display.HTML object>"
      ]
     },
     "metadata": {},
     "output_type": "display_data"
    },
    {
     "data": {
      "text/html": [
       "<span class=\"tex2jax_ignore\"><div class=\"entities\" style=\"line-height: 2.5; direction: ltr\"> wow that last tweet made me seem like a giant sexistsorry about that </div></span>"
      ],
      "text/plain": [
       "<IPython.core.display.HTML object>"
      ]
     },
     "metadata": {},
     "output_type": "display_data"
    },
    {
     "data": {
      "text/html": [
       "<span class=\"tex2jax_ignore\"><div class=\"entities\" style=\"line-height: 2.5; direction: ltr\">my bathtub drain is fired: it haz 1 job 2 do and it iz fail i got all drano on its ass and iz still not draining i wanna shower dangit!! </div></span>"
      ],
      "text/plain": [
       "<IPython.core.display.HTML object>"
      ]
     },
     "metadata": {},
     "output_type": "display_data"
    },
    {
     "data": {
      "text/html": [
       "<span class=\"tex2jax_ignore\"><div class=\"entities\" style=\"line-height: 2.5; direction: ltr\">stuck at home </div></span>"
      ],
      "text/plain": [
       "<IPython.core.display.HTML object>"
      ]
     },
     "metadata": {},
     "output_type": "display_data"
    },
    {
     "data": {
      "text/html": [
       "<span class=\"tex2jax_ignore\"><div class=\"entities\" style=\"line-height: 2.5; direction: ltr\"> mine is 1/10  how do you get it up?</div></span>"
      ],
      "text/plain": [
       "<IPython.core.display.HTML object>"
      ]
     },
     "metadata": {},
     "output_type": "display_data"
    },
    {
     "data": {
      "text/html": [
       "<span class=\"tex2jax_ignore\"><div class=\"entities\" style=\"line-height: 2.5; direction: ltr\">\n",
       "<mark class=\"entity\" style=\"background: #ddd; padding: 0.45em 0.6em; margin: 0 0.25em; line-height: 1; border-radius: 0.35em;\">\n",
       "    duckling\n",
       "    <span style=\"font-size: 0.8em; font-weight: bold; line-height: 1; border-radius: 0.35em; vertical-align: middle; margin-left: 0.5rem\">FOOD</span>\n",
       "</mark>\n",
       " in famous children's book stolen from boston's public garden  the boston globe  via  oh no!! </div></span>"
      ],
      "text/plain": [
       "<IPython.core.display.HTML object>"
      ]
     },
     "metadata": {},
     "output_type": "display_data"
    },
    {
     "data": {
      "text/html": [
       "<span class=\"tex2jax_ignore\"><div class=\"entities\" style=\"line-height: 2.5; direction: ltr\"> thank you! however i hate to be on the same list that includes 2 convicts  </div></span>"
      ],
      "text/plain": [
       "<IPython.core.display.HTML object>"
      ]
     },
     "metadata": {},
     "output_type": "display_data"
    },
    {
     "data": {
      "text/html": [
       "<span class=\"tex2jax_ignore\"><div class=\"entities\" style=\"line-height: 2.5; direction: ltr\">heading to altrincham again! out of hours install </div></span>"
      ],
      "text/plain": [
       "<IPython.core.display.HTML object>"
      ]
     },
     "metadata": {},
     "output_type": "display_data"
    },
    {
     "data": {
      "text/html": [
       "<span class=\"tex2jax_ignore\"><div class=\"entities\" style=\"line-height: 2.5; direction: ltr\">morning!!! good im bloody knackered!!! work is not for me today  helppp!!!! xxx</div></span>"
      ],
      "text/plain": [
       "<IPython.core.display.HTML object>"
      ]
     },
     "metadata": {},
     "output_type": "display_data"
    },
    {
     "data": {
      "text/html": [
       "<span class=\"tex2jax_ignore\"><div class=\"entities\" style=\"line-height: 2.5; direction: ltr\">  i don't have a garage  but you can park in my driveway!</div></span>"
      ],
      "text/plain": [
       "<IPython.core.display.HTML object>"
      ]
     },
     "metadata": {},
     "output_type": "display_data"
    },
    {
     "data": {
      "text/html": [
       "<span class=\"tex2jax_ignore\"><div class=\"entities\" style=\"line-height: 2.5; direction: ltr\">  what happened?</div></span>"
      ],
      "text/plain": [
       "<IPython.core.display.HTML object>"
      ]
     },
     "metadata": {},
     "output_type": "display_data"
    },
    {
     "data": {
      "text/html": [
       "<span class=\"tex2jax_ignore\"><div class=\"entities\" style=\"line-height: 2.5; direction: ltr\">&amp;quot;on popular music&amp;quot; by twadorno is probably the most difficult reading ever prescribed i'm actually struggling to continue </div></span>"
      ],
      "text/plain": [
       "<IPython.core.display.HTML object>"
      ]
     },
     "metadata": {},
     "output_type": "display_data"
    },
    {
     "data": {
      "text/html": [
       "<span class=\"tex2jax_ignore\"><div class=\"entities\" style=\"line-height: 2.5; direction: ltr\">  cant see the flowers falling  i dont have a camera just my cellphone</div></span>"
      ],
      "text/plain": [
       "<IPython.core.display.HTML object>"
      ]
     },
     "metadata": {},
     "output_type": "display_data"
    },
    {
     "data": {
      "text/html": [
       "<span class=\"tex2jax_ignore\"><div class=\"entities\" style=\"line-height: 2.5; direction: ltr\">we've been good i'm not liking the snow right now was getting used to the nice springlike weather  how about you?</div></span>"
      ],
      "text/plain": [
       "<IPython.core.display.HTML object>"
      ]
     },
     "metadata": {},
     "output_type": "display_data"
    },
    {
     "data": {
      "text/html": [
       "<span class=\"tex2jax_ignore\"><div class=\"entities\" style=\"line-height: 2.5; direction: ltr\"> what a pity youtube is currently blocked in china  i can't see the vids </div></span>"
      ],
      "text/plain": [
       "<IPython.core.display.HTML object>"
      ]
     },
     "metadata": {},
     "output_type": "display_data"
    },
    {
     "data": {
      "text/html": [
       "<span class=\"tex2jax_ignore\"><div class=\"entities\" style=\"line-height: 2.5; direction: ltr\"> what happened to your show it was the hightlight of my life </div></span>"
      ],
      "text/plain": [
       "<IPython.core.display.HTML object>"
      ]
     },
     "metadata": {},
     "output_type": "display_data"
    },
    {
     "data": {
      "text/html": [
       "<span class=\"tex2jax_ignore\"><div class=\"entities\" style=\"line-height: 2.5; direction: ltr\">this is the best leather sofa in the world!  it's in the office though which means i'm still here working </div></span>"
      ],
      "text/plain": [
       "<IPython.core.display.HTML object>"
      ]
     },
     "metadata": {},
     "output_type": "display_data"
    },
    {
     "data": {
      "text/html": [
       "<span class=\"tex2jax_ignore\"><div class=\"entities\" style=\"line-height: 2.5; direction: ltr\">still 3 more days until my internet gets uncapped </div></span>"
      ],
      "text/plain": [
       "<IPython.core.display.HTML object>"
      ]
     },
     "metadata": {},
     "output_type": "display_data"
    },
    {
     "data": {
      "text/html": [
       "<span class=\"tex2jax_ignore\"><div class=\"entities\" style=\"line-height: 2.5; direction: ltr\">if he doesn't get better in a few days he could have something lodged in his belly </div></span>"
      ],
      "text/plain": [
       "<IPython.core.display.HTML object>"
      ]
     },
     "metadata": {},
     "output_type": "display_data"
    },
    {
     "data": {
      "text/html": [
       "<span class=\"tex2jax_ignore\"><div class=\"entities\" style=\"line-height: 2.5; direction: ltr\">i love my atekinzz so much andand i soo miss her </div></span>"
      ],
      "text/plain": [
       "<IPython.core.display.HTML object>"
      ]
     },
     "metadata": {},
     "output_type": "display_data"
    },
    {
     "data": {
      "text/html": [
       "<span class=\"tex2jax_ignore\"><div class=\"entities\" style=\"line-height: 2.5; direction: ltr\">i wanna sneak into the zoo and play with the kitties </div></span>"
      ],
      "text/plain": [
       "<IPython.core.display.HTML object>"
      ]
     },
     "metadata": {},
     "output_type": "display_data"
    },
    {
     "data": {
      "text/html": [
       "<span class=\"tex2jax_ignore\"><div class=\"entities\" style=\"line-height: 2.5; direction: ltr\"> oh no  hope you're not getting sick too!</div></span>"
      ],
      "text/plain": [
       "<IPython.core.display.HTML object>"
      ]
     },
     "metadata": {},
     "output_type": "display_data"
    },
    {
     "data": {
      "text/html": [
       "<span class=\"tex2jax_ignore\"><div class=\"entities\" style=\"line-height: 2.5; direction: ltr\"> i dont think i can cause its my cousins birthday party </div></span>"
      ],
      "text/plain": [
       "<IPython.core.display.HTML object>"
      ]
     },
     "metadata": {},
     "output_type": "display_data"
    },
    {
     "data": {
      "text/html": [
       "<span class=\"tex2jax_ignore\"><div class=\"entities\" style=\"line-height: 2.5; direction: ltr\">our sweet little man just fell asleep while waiting up for daddy and big brother to get home!  poor baby he missed them so much today!</div></span>"
      ],
      "text/plain": [
       "<IPython.core.display.HTML object>"
      ]
     },
     "metadata": {},
     "output_type": "display_data"
    },
    {
     "data": {
      "text/html": [
       "<span class=\"tex2jax_ignore\"><div class=\"entities\" style=\"line-height: 2.5; direction: ltr\">the angel is going to miss the athlete this weekend </div></span>"
      ],
      "text/plain": [
       "<IPython.core.display.HTML object>"
      ]
     },
     "metadata": {},
     "output_type": "display_data"
    },
    {
     "data": {
      "text/html": [
       "<span class=\"tex2jax_ignore\"><div class=\"entities\" style=\"line-height: 2.5; direction: ltr\">trust is hard </div></span>"
      ],
      "text/plain": [
       "<IPython.core.display.HTML object>"
      ]
     },
     "metadata": {},
     "output_type": "display_data"
    },
    {
     "data": {
      "text/html": [
       "<span class=\"tex2jax_ignore\"><div class=\"entities\" style=\"line-height: 2.5; direction: ltr\">have watched that considering today yaknow shawnna tomomorrow;i need my \n",
       "<mark class=\"entity\" style=\"background: #ddd; padding: 0.45em 0.6em; margin: 0 0.25em; line-height: 1; border-radius: 0.35em;\">\n",
       "    bestfriend\n",
       "    <span style=\"font-size: 0.8em; font-weight: bold; line-height: 1; border-radius: 0.35em; vertical-align: middle; margin-left: 0.5rem\">FOOD</span>\n",
       "</mark>\n",
       " </div></span>"
      ],
      "text/plain": [
       "<IPython.core.display.HTML object>"
      ]
     },
     "metadata": {},
     "output_type": "display_data"
    },
    {
     "data": {
      "text/html": [
       "<span class=\"tex2jax_ignore\"><div class=\"entities\" style=\"line-height: 2.5; direction: ltr\">grr i want to keep reading but if i do i wont have anything left to read </div></span>"
      ],
      "text/plain": [
       "<IPython.core.display.HTML object>"
      ]
     },
     "metadata": {},
     "output_type": "display_data"
    },
    {
     "data": {
      "text/html": [
       "<span class=\"tex2jax_ignore\"><div class=\"entities\" style=\"line-height: 2.5; direction: ltr\">atekinzz where in the world are you?? </div></span>"
      ],
      "text/plain": [
       "<IPython.core.display.HTML object>"
      ]
     },
     "metadata": {},
     "output_type": "display_data"
    },
    {
     "data": {
      "text/html": [
       "<span class=\"tex2jax_ignore\"><div class=\"entities\" style=\"line-height: 2.5; direction: ltr\"> no! u supposed to be my date </div></span>"
      ],
      "text/plain": [
       "<IPython.core.display.HTML object>"
      ]
     },
     "metadata": {},
     "output_type": "display_data"
    },
    {
     "data": {
      "text/html": [
       "<span class=\"tex2jax_ignore\"><div class=\"entities\" style=\"line-height: 2.5; direction: ltr\">pears and brie bottle of cabernet and &amp;quot;win a date with tad hamilton&amp;quot; oh gawwd my life flashed forward to when i'm 40 with my 75 cats </div></span>"
      ],
      "text/plain": [
       "<IPython.core.display.HTML object>"
      ]
     },
     "metadata": {},
     "output_type": "display_data"
    },
    {
     "data": {
      "text/html": [
       "<span class=\"tex2jax_ignore\"><div class=\"entities\" style=\"line-height: 2.5; direction: ltr\">crap i need more dresses too </div></span>"
      ],
      "text/plain": [
       "<IPython.core.display.HTML object>"
      ]
     },
     "metadata": {},
     "output_type": "display_data"
    },
    {
     "data": {
      "text/html": [
       "<span class=\"tex2jax_ignore\"><div class=\"entities\" style=\"line-height: 2.5; direction: ltr\"> yeah! i know! it was horrible!!!! ugh saddening </div></span>"
      ],
      "text/plain": [
       "<IPython.core.display.HTML object>"
      ]
     },
     "metadata": {},
     "output_type": "display_data"
    },
    {
     "data": {
      "text/html": [
       "<span class=\"tex2jax_ignore\"><div class=\"entities\" style=\"line-height: 2.5; direction: ltr\"> geez ur no fun are you </div></span>"
      ],
      "text/plain": [
       "<IPython.core.display.HTML object>"
      ]
     },
     "metadata": {},
     "output_type": "display_data"
    },
    {
     "data": {
      "text/html": [
       "<span class=\"tex2jax_ignore\"><div class=\"entities\" style=\"line-height: 2.5; direction: ltr\">i wanna be in a punk rock band again </div></span>"
      ],
      "text/plain": [
       "<IPython.core.display.HTML object>"
      ]
     },
     "metadata": {},
     "output_type": "display_data"
    },
    {
     "data": {
      "text/html": [
       "<span class=\"tex2jax_ignore\"><div class=\"entities\" style=\"line-height: 2.5; direction: ltr\"> that's a lot of angst for a tuesday afternoon </div></span>"
      ],
      "text/plain": [
       "<IPython.core.display.HTML object>"
      ]
     },
     "metadata": {},
     "output_type": "display_data"
    },
    {
     "data": {
      "text/html": [
       "<span class=\"tex2jax_ignore\"><div class=\"entities\" style=\"line-height: 2.5; direction: ltr\">i'm very glad britney isn't crazy anymore! that was one hell of a show! now i'm sad that it's over  next upap at cook county!</div></span>"
      ],
      "text/plain": [
       "<IPython.core.display.HTML object>"
      ]
     },
     "metadata": {},
     "output_type": "display_data"
    },
    {
     "data": {
      "text/html": [
       "<span class=\"tex2jax_ignore\"><div class=\"entities\" style=\"line-height: 2.5; direction: ltr\">has a huuuge headache! omg i feel like crap! </div></span>"
      ],
      "text/plain": [
       "<IPython.core.display.HTML object>"
      ]
     },
     "metadata": {},
     "output_type": "display_data"
    },
    {
     "data": {
      "text/html": [
       "<span class=\"tex2jax_ignore\"><div class=\"entities\" style=\"line-height: 2.5; direction: ltr\"> sorry </div></span>"
      ],
      "text/plain": [
       "<IPython.core.display.HTML object>"
      ]
     },
     "metadata": {},
     "output_type": "display_data"
    },
    {
     "data": {
      "text/html": [
       "<span class=\"tex2jax_ignore\"><div class=\"entities\" style=\"line-height: 2.5; direction: ltr\"> sorryi was rooting for them too </div></span>"
      ],
      "text/plain": [
       "<IPython.core.display.HTML object>"
      ]
     },
     "metadata": {},
     "output_type": "display_data"
    },
    {
     "data": {
      "text/html": [
       "<span class=\"tex2jax_ignore\"><div class=\"entities\" style=\"line-height: 2.5; direction: ltr\">man that took forever </div></span>"
      ],
      "text/plain": [
       "<IPython.core.display.HTML object>"
      ]
     },
     "metadata": {},
     "output_type": "display_data"
    },
    {
     "data": {
      "text/html": [
       "<span class=\"tex2jax_ignore\"><div class=\"entities\" style=\"line-height: 2.5; direction: ltr\">  i see</div></span>"
      ],
      "text/plain": [
       "<IPython.core.display.HTML object>"
      ]
     },
     "metadata": {},
     "output_type": "display_data"
    },
    {
     "data": {
      "text/html": [
       "<span class=\"tex2jax_ignore\"><div class=\"entities\" style=\"line-height: 2.5; direction: ltr\">i am listing more items on ebay to sell!  takes forevermeanwhile coleman is watching the hills season premier without me </div></span>"
      ],
      "text/plain": [
       "<IPython.core.display.HTML object>"
      ]
     },
     "metadata": {},
     "output_type": "display_data"
    },
    {
     "data": {
      "text/html": [
       "<span class=\"tex2jax_ignore\"><div class=\"entities\" style=\"line-height: 2.5; direction: ltr\">just got my presentation done 23 slides done  i'm crying for this week will be the hardest of all weeks</div></span>"
      ],
      "text/plain": [
       "<IPython.core.display.HTML object>"
      ]
     },
     "metadata": {},
     "output_type": "display_data"
    },
    {
     "data": {
      "text/html": [
       "<span class=\"tex2jax_ignore\"><div class=\"entities\" style=\"line-height: 2.5; direction: ltr\">just lost $160 </div></span>"
      ],
      "text/plain": [
       "<IPython.core.display.HTML object>"
      ]
     },
     "metadata": {},
     "output_type": "display_data"
    },
    {
     "data": {
      "text/html": [
       "<span class=\"tex2jax_ignore\"><div class=\"entities\" style=\"line-height: 2.5; direction: ltr\">i don't like the previously on skins thing that starts at season two i like it when it went straight into the intro like before </div></span>"
      ],
      "text/plain": [
       "<IPython.core.display.HTML object>"
      ]
     },
     "metadata": {},
     "output_type": "display_data"
    },
    {
     "data": {
      "text/html": [
       "<span class=\"tex2jax_ignore\"><div class=\"entities\" style=\"line-height: 2.5; direction: ltr\"> i wish i was therei'm pretty good at scaring the shit out of people </div></span>"
      ],
      "text/plain": [
       "<IPython.core.display.HTML object>"
      ]
     },
     "metadata": {},
     "output_type": "display_data"
    },
    {
     "data": {
      "text/html": [
       "<span class=\"tex2jax_ignore\"><div class=\"entities\" style=\"line-height: 2.5; direction: ltr\">going to sound vain but running out of my fav lip gloss </div></span>"
      ],
      "text/plain": [
       "<IPython.core.display.HTML object>"
      ]
     },
     "metadata": {},
     "output_type": "display_data"
    },
    {
     "data": {
      "text/html": [
       "<span class=\"tex2jax_ignore\"><div class=\"entities\" style=\"line-height: 2.5; direction: ltr\"> never again will i click on a link that screams &amp;quot;i'm a spider i'm a spider&amp;quot; i should have known better yucky </div></span>"
      ],
      "text/plain": [
       "<IPython.core.display.HTML object>"
      ]
     },
     "metadata": {},
     "output_type": "display_data"
    },
    {
     "data": {
      "text/html": [
       "<span class=\"tex2jax_ignore\"><div class=\"entities\" style=\"line-height: 2.5; direction: ltr\">why is that when you have time off from work you get sick? </div></span>"
      ],
      "text/plain": [
       "<IPython.core.display.HTML object>"
      ]
     },
     "metadata": {},
     "output_type": "display_data"
    },
    {
     "data": {
      "text/html": [
       "<span class=\"tex2jax_ignore\"><div class=\"entities\" style=\"line-height: 2.5; direction: ltr\"> same imac came out $320 more in indonesia than the states </div></span>"
      ],
      "text/plain": [
       "<IPython.core.display.HTML object>"
      ]
     },
     "metadata": {},
     "output_type": "display_data"
    },
    {
     "data": {
      "text/html": [
       "<span class=\"tex2jax_ignore\"><div class=\"entities\" style=\"line-height: 2.5; direction: ltr\">dammit i need to stop buying furniture </div></span>"
      ],
      "text/plain": [
       "<IPython.core.display.HTML object>"
      ]
     },
     "metadata": {},
     "output_type": "display_data"
    },
    {
     "data": {
      "text/html": [
       "<span class=\"tex2jax_ignore\"><div class=\"entities\" style=\"line-height: 2.5; direction: ltr\"> no i was half asleep and turned off the laptop after that </div></span>"
      ],
      "text/plain": [
       "<IPython.core.display.HTML object>"
      ]
     },
     "metadata": {},
     "output_type": "display_data"
    },
    {
     "data": {
      "text/html": [
       "<span class=\"tex2jax_ignore\"><div class=\"entities\" style=\"line-height: 2.5; direction: ltr\">death is peaceful  life however bites </div></span>"
      ],
      "text/plain": [
       "<IPython.core.display.HTML object>"
      ]
     },
     "metadata": {},
     "output_type": "display_data"
    },
    {
     "data": {
      "text/html": [
       "<span class=\"tex2jax_ignore\"><div class=\"entities\" style=\"line-height: 2.5; direction: ltr\"> i think  lost the net ? sure hope not</div></span>"
      ],
      "text/plain": [
       "<IPython.core.display.HTML object>"
      ]
     },
     "metadata": {},
     "output_type": "display_data"
    },
    {
     "data": {
      "text/html": [
       "<span class=\"tex2jax_ignore\"><div class=\"entities\" style=\"line-height: 2.5; direction: ltr\">   and    test footage with my girlfriend (in hd) the dark one is underxposed </div></span>"
      ],
      "text/plain": [
       "<IPython.core.display.HTML object>"
      ]
     },
     "metadata": {},
     "output_type": "display_data"
    },
    {
     "data": {
      "text/html": [
       "<span class=\"tex2jax_ignore\"><div class=\"entities\" style=\"line-height: 2.5; direction: ltr\">such a tough game to watch tonight for state  finally going to bed after also staying up to watch the season premiere of the hills!</div></span>"
      ],
      "text/plain": [
       "<IPython.core.display.HTML object>"
      ]
     },
     "metadata": {},
     "output_type": "display_data"
    },
    {
     "data": {
      "text/html": [
       "<span class=\"tex2jax_ignore\"><div class=\"entities\" style=\"line-height: 2.5; direction: ltr\">seems jruby support for hpricot is now two versions behind </div></span>"
      ],
      "text/plain": [
       "<IPython.core.display.HTML object>"
      ]
     },
     "metadata": {},
     "output_type": "display_data"
    },
    {
     "data": {
      "text/html": [
       "<span class=\"tex2jax_ignore\"><div class=\"entities\" style=\"line-height: 2.5; direction: ltr\"> unlike my sisteri still don't have one </div></span>"
      ],
      "text/plain": [
       "<IPython.core.display.HTML object>"
      ]
     },
     "metadata": {},
     "output_type": "display_data"
    },
    {
     "data": {
      "text/html": [
       "<span class=\"tex2jax_ignore\"><div class=\"entities\" style=\"line-height: 2.5; direction: ltr\">fraking app store is pissing me off   </div></span>"
      ],
      "text/plain": [
       "<IPython.core.display.HTML object>"
      ]
     },
     "metadata": {},
     "output_type": "display_data"
    },
    {
     "data": {
      "text/html": [
       "<span class=\"tex2jax_ignore\"><div class=\"entities\" style=\"line-height: 2.5; direction: ltr\">logging out i need to study </div></span>"
      ],
      "text/plain": [
       "<IPython.core.display.HTML object>"
      ]
     },
     "metadata": {},
     "output_type": "display_data"
    },
    {
     "data": {
      "text/html": [
       "<span class=\"tex2jax_ignore\"><div class=\"entities\" style=\"line-height: 2.5; direction: ltr\">anyone else having problems accessing ttb??? i cant get on!!! </div></span>"
      ],
      "text/plain": [
       "<IPython.core.display.HTML object>"
      ]
     },
     "metadata": {},
     "output_type": "display_data"
    },
    {
     "data": {
      "text/html": [
       "<span class=\"tex2jax_ignore\"><div class=\"entities\" style=\"line-height: 2.5; direction: ltr\">i strongly dislike people who make stupid comments and dont know the whole story </div></span>"
      ],
      "text/plain": [
       "<IPython.core.display.HTML object>"
      ]
     },
     "metadata": {},
     "output_type": "display_data"
    },
    {
     "data": {
      "text/html": [
       "<span class=\"tex2jax_ignore\"><div class=\"entities\" style=\"line-height: 2.5; direction: ltr\">  i'm sorry emma is swarley a goldfish? i'm sad for u</div></span>"
      ],
      "text/plain": [
       "<IPython.core.display.HTML object>"
      ]
     },
     "metadata": {},
     "output_type": "display_data"
    },
    {
     "data": {
      "text/html": [
       "<span class=\"tex2jax_ignore\"><div class=\"entities\" style=\"line-height: 2.5; direction: ltr\">all my tweets are already gone aren't they  missed you guys tonight</div></span>"
      ],
      "text/plain": [
       "<IPython.core.display.HTML object>"
      ]
     },
     "metadata": {},
     "output_type": "display_data"
    },
    {
     "data": {
      "text/html": [
       "<span class=\"tex2jax_ignore\"><div class=\"entities\" style=\"line-height: 2.5; direction: ltr\">can't sleep again face is kinda swollen don't let me be allergic to the thing that'll get me to thursday school tomorrow? doubtful </div></span>"
      ],
      "text/plain": [
       "<IPython.core.display.HTML object>"
      ]
     },
     "metadata": {},
     "output_type": "display_data"
    },
    {
     "data": {
      "text/html": [
       "<span class=\"tex2jax_ignore\"><div class=\"entities\" style=\"line-height: 2.5; direction: ltr\"> if izzy's on the cat tree she'll stare him down but if she's on the floor he chases and she runs </div></span>"
      ],
      "text/plain": [
       "<IPython.core.display.HTML object>"
      ]
     },
     "metadata": {},
     "output_type": "display_data"
    },
    {
     "data": {
      "text/html": [
       "<span class=\"tex2jax_ignore\"><div class=\"entities\" style=\"line-height: 2.5; direction: ltr\">i am officially banning godaddycom from my comp my head hurts from the small print and i wasted $10 that could've happily gone to boba </div></span>"
      ],
      "text/plain": [
       "<IPython.core.display.HTML object>"
      ]
     },
     "metadata": {},
     "output_type": "display_data"
    },
    {
     "data": {
      "text/html": [
       "<span class=\"tex2jax_ignore\"><div class=\"entities\" style=\"line-height: 2.5; direction: ltr\"> pretty much just scary for me </div></span>"
      ],
      "text/plain": [
       "<IPython.core.display.HTML object>"
      ]
     },
     "metadata": {},
     "output_type": "display_data"
    },
    {
     "data": {
      "text/html": [
       "<span class=\"tex2jax_ignore\"><div class=\"entities\" style=\"line-height: 2.5; direction: ltr\"> mines too i'm finding it well hard to get fit </div></span>"
      ],
      "text/plain": [
       "<IPython.core.display.HTML object>"
      ]
     },
     "metadata": {},
     "output_type": "display_data"
    },
    {
     "data": {
      "text/html": [
       "<span class=\"tex2jax_ignore\"><div class=\"entities\" style=\"line-height: 2.5; direction: ltr\">good morning! ready 2 go but i want 2 go back 2 bed </div></span>"
      ],
      "text/plain": [
       "<IPython.core.display.HTML object>"
      ]
     },
     "metadata": {},
     "output_type": "display_data"
    },
    {
     "data": {
      "text/html": [
       "<span class=\"tex2jax_ignore\"><div class=\"entities\" style=\"line-height: 2.5; direction: ltr\">hates waiting for mails </div></span>"
      ],
      "text/plain": [
       "<IPython.core.display.HTML object>"
      ]
     },
     "metadata": {},
     "output_type": "display_data"
    },
    {
     "data": {
      "text/html": [
       "<span class=\"tex2jax_ignore\"><div class=\"entities\" style=\"line-height: 2.5; direction: ltr\">wheat \n",
       "<mark class=\"entity\" style=\"background: #ddd; padding: 0.45em 0.6em; margin: 0 0.25em; line-height: 1; border-radius: 0.35em;\">\n",
       "    bread\n",
       "    <span style=\"font-size: 0.8em; font-weight: bold; line-height: 1; border-radius: 0.35em; vertical-align: middle; margin-left: 0.5rem\">FOOD</span>\n",
       "</mark>\n",
       " from the dollar store just doesn't toast nicely  going over my taxes and calling it an early night</div></span>"
      ],
      "text/plain": [
       "<IPython.core.display.HTML object>"
      ]
     },
     "metadata": {},
     "output_type": "display_data"
    },
    {
     "data": {
      "text/html": [
       "<span class=\"tex2jax_ignore\"><div class=\"entities\" style=\"line-height: 2.5; direction: ltr\">why kutner? i mean i knew something was going to happen to someone but it was so sad i &amp;lt;3 house and it was well done but i'm still sad </div></span>"
      ],
      "text/plain": [
       "<IPython.core.display.HTML object>"
      ]
     },
     "metadata": {},
     "output_type": "display_data"
    },
    {
     "data": {
      "text/html": [
       "<span class=\"tex2jax_ignore\"><div class=\"entities\" style=\"line-height: 2.5; direction: ltr\"> aw ok goonite  </div></span>"
      ],
      "text/plain": [
       "<IPython.core.display.HTML object>"
      ]
     },
     "metadata": {},
     "output_type": "display_data"
    },
    {
     "data": {
      "text/html": [
       "<span class=\"tex2jax_ignore\"><div class=\"entities\" style=\"line-height: 2.5; direction: ltr\">ill so i cant go to the cinema!! </div></span>"
      ],
      "text/plain": [
       "<IPython.core.display.HTML object>"
      ]
     },
     "metadata": {},
     "output_type": "display_data"
    },
    {
     "data": {
      "text/html": [
       "<span class=\"tex2jax_ignore\"><div class=\"entities\" style=\"line-height: 2.5; direction: ltr\">fell asleep    really didn't mean too  *christina*</div></span>"
      ],
      "text/plain": [
       "<IPython.core.display.HTML object>"
      ]
     },
     "metadata": {},
     "output_type": "display_data"
    },
    {
     "data": {
      "text/html": [
       "<span class=\"tex2jax_ignore\"><div class=\"entities\" style=\"line-height: 2.5; direction: ltr\"> hey you remember that time we used to be friends?? ;)  ugh vomit sick  i need sleep </div></span>"
      ],
      "text/plain": [
       "<IPython.core.display.HTML object>"
      ]
     },
     "metadata": {},
     "output_type": "display_data"
    },
    {
     "data": {
      "text/html": [
       "<span class=\"tex2jax_ignore\"><div class=\"entities\" style=\"line-height: 2.5; direction: ltr\">my lymph nodes are as massive as rahm emanuel's balls right now </div></span>"
      ],
      "text/plain": [
       "<IPython.core.display.HTML object>"
      ]
     },
     "metadata": {},
     "output_type": "display_data"
    },
    {
     "data": {
      "text/html": [
       "<span class=\"tex2jax_ignore\"><div class=\"entities\" style=\"line-height: 2.5; direction: ltr\">oh no my computer sucks i don't think i'll be able to listen to the xbox 360 fancast tonite </div></span>"
      ],
      "text/plain": [
       "<IPython.core.display.HTML object>"
      ]
     },
     "metadata": {},
     "output_type": "display_data"
    },
    {
     "data": {
      "text/html": [
       "<span class=\"tex2jax_ignore\"><div class=\"entities\" style=\"line-height: 2.5; direction: ltr\">is missing playing my trumpet </div></span>"
      ],
      "text/plain": [
       "<IPython.core.display.HTML object>"
      ]
     },
     "metadata": {},
     "output_type": "display_data"
    },
    {
     "data": {
      "text/html": [
       "<span class=\"tex2jax_ignore\"><div class=\"entities\" style=\"line-height: 2.5; direction: ltr\">my throat is still really sore i was meant to be going on a 5 day camp from friday but not so sure now </div></span>"
      ],
      "text/plain": [
       "<IPython.core.display.HTML object>"
      ]
     },
     "metadata": {},
     "output_type": "display_data"
    },
    {
     "data": {
      "text/html": [
       "<span class=\"tex2jax_ignore\"><div class=\"entities\" style=\"line-height: 2.5; direction: ltr\"> i know exactly how you feel! </div></span>"
      ],
      "text/plain": [
       "<IPython.core.display.HTML object>"
      ]
     },
     "metadata": {},
     "output_type": "display_data"
    },
    {
     "data": {
      "text/html": [
       "<span class=\"tex2jax_ignore\"><div class=\"entities\" style=\"line-height: 2.5; direction: ltr\">at work </div></span>"
      ],
      "text/plain": [
       "<IPython.core.display.HTML object>"
      ]
     },
     "metadata": {},
     "output_type": "display_data"
    },
    {
     "data": {
      "text/html": [
       "<span class=\"tex2jax_ignore\"><div class=\"entities\" style=\"line-height: 2.5; direction: ltr\">well bed time now 1 am *sighs* back to 6 am mornings for a week on wednesday </div></span>"
      ],
      "text/plain": [
       "<IPython.core.display.HTML object>"
      ]
     },
     "metadata": {},
     "output_type": "display_data"
    },
    {
     "data": {
      "text/html": [
       "<span class=\"tex2jax_ignore\"><div class=\"entities\" style=\"line-height: 2.5; direction: ltr\"> jesus camp? yeah </div></span>"
      ],
      "text/plain": [
       "<IPython.core.display.HTML object>"
      ]
     },
     "metadata": {},
     "output_type": "display_data"
    },
    {
     "data": {
      "text/html": [
       "<span class=\"tex2jax_ignore\"><div class=\"entities\" style=\"line-height: 2.5; direction: ltr\"> oh no! with everything that happened today i forgot we were going dress shopping for the opera tomorrow </div></span>"
      ],
      "text/plain": [
       "<IPython.core.display.HTML object>"
      ]
     },
     "metadata": {},
     "output_type": "display_data"
    },
    {
     "data": {
      "text/html": [
       "<span class=\"tex2jax_ignore\"><div class=\"entities\" style=\"line-height: 2.5; direction: ltr\">turtles are better than my mac  lasts longer and moves faster </div></span>"
      ],
      "text/plain": [
       "<IPython.core.display.HTML object>"
      ]
     },
     "metadata": {},
     "output_type": "display_data"
    },
    {
     "data": {
      "text/html": [
       "<span class=\"tex2jax_ignore\"><div class=\"entities\" style=\"line-height: 2.5; direction: ltr\">i am soaked this is not pleasant </div></span>"
      ],
      "text/plain": [
       "<IPython.core.display.HTML object>"
      ]
     },
     "metadata": {},
     "output_type": "display_data"
    },
    {
     "data": {
      "text/html": [
       "<span class=\"tex2jax_ignore\"><div class=\"entities\" style=\"line-height: 2.5; direction: ltr\"> sorry to hear about maggie    thoughts to your mum</div></span>"
      ],
      "text/plain": [
       "<IPython.core.display.HTML object>"
      ]
     },
     "metadata": {},
     "output_type": "display_data"
    },
    {
     "data": {
      "text/html": [
       "<span class=\"tex2jax_ignore\"><div class=\"entities\" style=\"line-height: 2.5; direction: ltr\"> you may have to email this one to me  i hope you feel better</div></span>"
      ],
      "text/plain": [
       "<IPython.core.display.HTML object>"
      ]
     },
     "metadata": {},
     "output_type": "display_data"
    },
    {
     "data": {
      "text/html": [
       "<span class=\"tex2jax_ignore\"><div class=\"entities\" style=\"line-height: 2.5; direction: ltr\"> dead  yu gettin on wen im leavin </div></span>"
      ],
      "text/plain": [
       "<IPython.core.display.HTML object>"
      ]
     },
     "metadata": {},
     "output_type": "display_data"
    },
    {
     "data": {
      "text/html": [
       "<span class=\"tex2jax_ignore\"><div class=\"entities\" style=\"line-height: 2.5; direction: ltr\"> please tell me that's somewhere close to california!!! lol! </div></span>"
      ],
      "text/plain": [
       "<IPython.core.display.HTML object>"
      ]
     },
     "metadata": {},
     "output_type": "display_data"
    },
    {
     "data": {
      "text/html": [
       "<span class=\"tex2jax_ignore\"><div class=\"entities\" style=\"line-height: 2.5; direction: ltr\"> where are you? </div></span>"
      ],
      "text/plain": [
       "<IPython.core.display.HTML object>"
      ]
     },
     "metadata": {},
     "output_type": "display_data"
    },
    {
     "data": {
      "text/html": [
       "<span class=\"tex2jax_ignore\"><div class=\"entities\" style=\"line-height: 2.5; direction: ltr\">stupid arranged marriages i'll convert so you can marry melove you! </div></span>"
      ],
      "text/plain": [
       "<IPython.core.display.HTML object>"
      ]
     },
     "metadata": {},
     "output_type": "display_data"
    },
    {
     "data": {
      "text/html": [
       "<span class=\"tex2jax_ignore\"><div class=\"entities\" style=\"line-height: 2.5; direction: ltr\"> well he said that he is a looser and that is what the show implies </div></span>"
      ],
      "text/plain": [
       "<IPython.core.display.HTML object>"
      ]
     },
     "metadata": {},
     "output_type": "display_data"
    },
    {
     "data": {
      "text/html": [
       "<span class=\"tex2jax_ignore\"><div class=\"entities\" style=\"line-height: 2.5; direction: ltr\">poor sandra cantu and the cantu family! my prayers go out to them! what a sick world we live in she was only 8 </div></span>"
      ],
      "text/plain": [
       "<IPython.core.display.HTML object>"
      ]
     },
     "metadata": {},
     "output_type": "display_data"
    },
    {
     "data": {
      "text/html": [
       "<span class=\"tex2jax_ignore\"><div class=\"entities\" style=\"line-height: 2.5; direction: ltr\">fuck omg  austins always there though man &amp;lt;3 love you</div></span>"
      ],
      "text/plain": [
       "<IPython.core.display.HTML object>"
      ]
     },
     "metadata": {},
     "output_type": "display_data"
    },
    {
     "data": {
      "text/html": [
       "<span class=\"tex2jax_ignore\"><div class=\"entities\" style=\"line-height: 2.5; direction: ltr\"> i cried so hard when matthew died </div></span>"
      ],
      "text/plain": [
       "<IPython.core.display.HTML object>"
      ]
     },
     "metadata": {},
     "output_type": "display_data"
    },
    {
     "data": {
      "text/html": [
       "<span class=\"tex2jax_ignore\"><div class=\"entities\" style=\"line-height: 2.5; direction: ltr\">sad that the 'feet' of my macbook just fell off : sad that the 'feet' of my macbook just fell off </div></span>"
      ],
      "text/plain": [
       "<IPython.core.display.HTML object>"
      ]
     },
     "metadata": {},
     "output_type": "display_data"
    },
    {
     "data": {
      "text/html": [
       "<span class=\"tex2jax_ignore\"><div class=\"entities\" style=\"line-height: 2.5; direction: ltr\">  why am i the last to find out about these things? like that you're on the twitter too </div></span>"
      ],
      "text/plain": [
       "<IPython.core.display.HTML object>"
      ]
     },
     "metadata": {},
     "output_type": "display_data"
    },
    {
     "data": {
      "text/html": [
       "<span class=\"tex2jax_ignore\"><div class=\"entities\" style=\"line-height: 2.5; direction: ltr\"> absolutely not!! </div></span>"
      ],
      "text/plain": [
       "<IPython.core.display.HTML object>"
      ]
     },
     "metadata": {},
     "output_type": "display_data"
    },
    {
     "data": {
      "text/html": [
       "<span class=\"tex2jax_ignore\"><div class=\"entities\" style=\"line-height: 2.5; direction: ltr\">  filled with curry  the true indian in me is coming out</div></span>"
      ],
      "text/plain": [
       "<IPython.core.display.HTML object>"
      ]
     },
     "metadata": {},
     "output_type": "display_data"
    },
    {
     "data": {
      "text/html": [
       "<span class=\"tex2jax_ignore\"><div class=\"entities\" style=\"line-height: 2.5; direction: ltr\">im soooo cold right now </div></span>"
      ],
      "text/plain": [
       "<IPython.core.display.HTML object>"
      ]
     },
     "metadata": {},
     "output_type": "display_data"
    },
    {
     "data": {
      "text/html": [
       "<span class=\"tex2jax_ignore\"><div class=\"entities\" style=\"line-height: 2.5; direction: ltr\"> lol i kant believe cam got beat upp sooo embarasssiiiin </div></span>"
      ],
      "text/plain": [
       "<IPython.core.display.HTML object>"
      ]
     },
     "metadata": {},
     "output_type": "display_data"
    },
    {
     "data": {
      "text/html": [
       "<span class=\"tex2jax_ignore\"><div class=\"entities\" style=\"line-height: 2.5; direction: ltr\"> good knight hun! looking forward to ur tweets again! hate that i keep missing out on the fun cuz of the time difference </div></span>"
      ],
      "text/plain": [
       "<IPython.core.display.HTML object>"
      ]
     },
     "metadata": {},
     "output_type": "display_data"
    },
    {
     "data": {
      "text/html": [
       "<span class=\"tex2jax_ignore\"><div class=\"entities\" style=\"line-height: 2.5; direction: ltr\">tumblr: this is exactly how it feels wearing a �tie�  </div></span>"
      ],
      "text/plain": [
       "<IPython.core.display.HTML object>"
      ]
     },
     "metadata": {},
     "output_type": "display_data"
    },
    {
     "data": {
      "text/html": [
       "<span class=\"tex2jax_ignore\"><div class=\"entities\" style=\"line-height: 2.5; direction: ltr\"> hahaa!! i just realized &amp;quot;impune&amp;quot; definitely isnt the word i wanted dang i'm so unclever </div></span>"
      ],
      "text/plain": [
       "<IPython.core.display.HTML object>"
      ]
     },
     "metadata": {},
     "output_type": "display_data"
    },
    {
     "data": {
      "text/html": [
       "<span class=\"tex2jax_ignore\"><div class=\"entities\" style=\"line-height: 2.5; direction: ltr\">watching old videos of dance team and such makes me miss it  </div></span>"
      ],
      "text/plain": [
       "<IPython.core.display.HTML object>"
      ]
     },
     "metadata": {},
     "output_type": "display_data"
    },
    {
     "data": {
      "text/html": [
       "<span class=\"tex2jax_ignore\"><div class=\"entities\" style=\"line-height: 2.5; direction: ltr\">wahh  no csi anywhere! dvr'ed i love money 2 though  gonna watch it then sleep  goodnight tweeters&amp;lt;3</div></span>"
      ],
      "text/plain": [
       "<IPython.core.display.HTML object>"
      ]
     },
     "metadata": {},
     "output_type": "display_data"
    },
    {
     "data": {
      "text/html": [
       "<span class=\"tex2jax_ignore\"><div class=\"entities\" style=\"line-height: 2.5; direction: ltr\">struggling hard with inventory </div></span>"
      ],
      "text/plain": [
       "<IPython.core.display.HTML object>"
      ]
     },
     "metadata": {},
     "output_type": "display_data"
    },
    {
     "data": {
      "text/html": [
       "<span class=\"tex2jax_ignore\"><div class=\"entities\" style=\"line-height: 2.5; direction: ltr\"> do you hate us?? please don't </div></span>"
      ],
      "text/plain": [
       "<IPython.core.display.HTML object>"
      ]
     },
     "metadata": {},
     "output_type": "display_data"
    },
    {
     "data": {
      "text/html": [
       "<span class=\"tex2jax_ignore\"><div class=\"entities\" style=\"line-height: 2.5; direction: ltr\"> haha im not that ballin i still got bills to paaaaay </div></span>"
      ],
      "text/plain": [
       "<IPython.core.display.HTML object>"
      ]
     },
     "metadata": {},
     "output_type": "display_data"
    },
    {
     "data": {
      "text/html": [
       "<span class=\"tex2jax_ignore\"><div class=\"entities\" style=\"line-height: 2.5; direction: ltr\">i'm in one of those days when i really just want to work from home  crap </div></span>"
      ],
      "text/plain": [
       "<IPython.core.display.HTML object>"
      ]
     },
     "metadata": {},
     "output_type": "display_data"
    },
    {
     "data": {
      "text/html": [
       "<span class=\"tex2jax_ignore\"><div class=\"entities\" style=\"line-height: 2.5; direction: ltr\"> waitis it a game or just episodes? i'm so confused </div></span>"
      ],
      "text/plain": [
       "<IPython.core.display.HTML object>"
      ]
     },
     "metadata": {},
     "output_type": "display_data"
    },
    {
     "data": {
      "text/html": [
       "<span class=\"tex2jax_ignore\"><div class=\"entities\" style=\"line-height: 2.5; direction: ltr\"> haha i cried  i guess he did</div></span>"
      ],
      "text/plain": [
       "<IPython.core.display.HTML object>"
      ]
     },
     "metadata": {},
     "output_type": "display_data"
    },
    {
     "data": {
      "text/html": [
       "<span class=\"tex2jax_ignore\"><div class=\"entities\" style=\"line-height: 2.5; direction: ltr\">i don't get statistics!  its all a bunch of mumbo jumbo for me</div></span>"
      ],
      "text/plain": [
       "<IPython.core.display.HTML object>"
      ]
     },
     "metadata": {},
     "output_type": "display_data"
    },
    {
     "data": {
      "text/html": [
       "<span class=\"tex2jax_ignore\"><div class=\"entities\" style=\"line-height: 2.5; direction: ltr\"> got it sadly only works for uk and us at the moment </div></span>"
      ],
      "text/plain": [
       "<IPython.core.display.HTML object>"
      ]
     },
     "metadata": {},
     "output_type": "display_data"
    },
    {
     "data": {
      "text/html": [
       "<span class=\"tex2jax_ignore\"><div class=\"entities\" style=\"line-height: 2.5; direction: ltr\">evicted </div></span>"
      ],
      "text/plain": [
       "<IPython.core.display.HTML object>"
      ]
     },
     "metadata": {},
     "output_type": "display_data"
    },
    {
     "data": {
      "text/html": [
       "<span class=\"tex2jax_ignore\"><div class=\"entities\" style=\"line-height: 2.5; direction: ltr\">doesn't enjoy learning css </div></span>"
      ],
      "text/plain": [
       "<IPython.core.display.HTML object>"
      ]
     },
     "metadata": {},
     "output_type": "display_data"
    },
    {
     "data": {
      "text/html": [
       "<span class=\"tex2jax_ignore\"><div class=\"entities\" style=\"line-height: 2.5; direction: ltr\"> brian don't make me fuck u up lol i replied 2 ur messagedid u get my # ? i miss u </div></span>"
      ],
      "text/plain": [
       "<IPython.core.display.HTML object>"
      ]
     },
     "metadata": {},
     "output_type": "display_data"
    },
    {
     "data": {
      "text/html": [
       "<span class=\"tex2jax_ignore\"><div class=\"entities\" style=\"line-height: 2.5; direction: ltr\"> i  dvr'd it and went to watch it apparently the dish network went down so i missed it    i will have to catch a rerun!</div></span>"
      ],
      "text/plain": [
       "<IPython.core.display.HTML object>"
      ]
     },
     "metadata": {},
     "output_type": "display_data"
    },
    {
     "data": {
      "text/html": [
       "<span class=\"tex2jax_ignore\"><div class=\"entities\" style=\"line-height: 2.5; direction: ltr\"> lmao u may have to wait for another season to come thru its summe boo hot nd dry ass weather </div></span>"
      ],
      "text/plain": [
       "<IPython.core.display.HTML object>"
      ]
     },
     "metadata": {},
     "output_type": "display_data"
    },
    {
     "data": {
      "text/html": [
       "<span class=\"tex2jax_ignore\"><div class=\"entities\" style=\"line-height: 2.5; direction: ltr\"> i can't set my feet on the ground the missing eyelid people might get me!  </div></span>"
      ],
      "text/plain": [
       "<IPython.core.display.HTML object>"
      ]
     },
     "metadata": {},
     "output_type": "display_data"
    },
    {
     "data": {
      "text/html": [
       "<span class=\"tex2jax_ignore\"><div class=\"entities\" style=\"line-height: 2.5; direction: ltr\"> my english professor would be ashamed </div></span>"
      ],
      "text/plain": [
       "<IPython.core.display.HTML object>"
      ]
     },
     "metadata": {},
     "output_type": "display_data"
    },
    {
     "data": {
      "text/html": [
       "<span class=\"tex2jax_ignore\"><div class=\"entities\" style=\"line-height: 2.5; direction: ltr\">[o] i wish the frogs weren't becoming extinct    </div></span>"
      ],
      "text/plain": [
       "<IPython.core.display.HTML object>"
      ]
     },
     "metadata": {},
     "output_type": "display_data"
    },
    {
     "data": {
      "text/html": [
       "<span class=\"tex2jax_ignore\"><div class=\"entities\" style=\"line-height: 2.5; direction: ltr\">came home from cross county tired as </div></span>"
      ],
      "text/plain": [
       "<IPython.core.display.HTML object>"
      ]
     },
     "metadata": {},
     "output_type": "display_data"
    },
    {
     "data": {
      "text/html": [
       "<span class=\"tex2jax_ignore\"><div class=\"entities\" style=\"line-height: 2.5; direction: ltr\">i don't want to walk home in this snow who wants to pick me up? </div></span>"
      ],
      "text/plain": [
       "<IPython.core.display.HTML object>"
      ]
     },
     "metadata": {},
     "output_type": "display_data"
    },
    {
     "data": {
      "text/html": [
       "<span class=\"tex2jax_ignore\"><div class=\"entities\" style=\"line-height: 2.5; direction: ltr\"> lauren is being stubborn she loves you you love her  i feel so bad for you though it made me cry  lol!</div></span>"
      ],
      "text/plain": [
       "<IPython.core.display.HTML object>"
      ]
     },
     "metadata": {},
     "output_type": "display_data"
    },
    {
     "data": {
      "text/html": [
       "<span class=\"tex2jax_ignore\"><div class=\"entities\" style=\"line-height: 2.5; direction: ltr\">is grouchy and wants bmar </div></span>"
      ],
      "text/plain": [
       "<IPython.core.display.HTML object>"
      ]
     },
     "metadata": {},
     "output_type": "display_data"
    },
    {
     "data": {
      "text/html": [
       "<span class=\"tex2jax_ignore\"><div class=\"entities\" style=\"line-height: 2.5; direction: ltr\">my heart is broken every morning dropping foo at pre school now i understand when moms say &amp;quot;he has my heart broken&amp;quot; </div></span>"
      ],
      "text/plain": [
       "<IPython.core.display.HTML object>"
      ]
     },
     "metadata": {},
     "output_type": "display_data"
    },
    {
     "data": {
      "text/html": [
       "<span class=\"tex2jax_ignore\"><div class=\"entities\" style=\"line-height: 2.5; direction: ltr\">not feeling well and back hurts </div></span>"
      ],
      "text/plain": [
       "<IPython.core.display.HTML object>"
      ]
     },
     "metadata": {},
     "output_type": "display_data"
    },
    {
     "data": {
      "text/html": [
       "<span class=\"tex2jax_ignore\"><div class=\"entities\" style=\"line-height: 2.5; direction: ltr\">im in the mood for some \n",
       "<mark class=\"entity\" style=\"background: #ddd; padding: 0.45em 0.6em; margin: 0 0.25em; line-height: 1; border-radius: 0.35em;\">\n",
       "    chocolate\n",
       "    <span style=\"font-size: 0.8em; font-weight: bold; line-height: 1; border-radius: 0.35em; vertical-align: middle; margin-left: 0.5rem\">FOOD</span>\n",
       "</mark>\n",
       " i want miniature reeses cups now </div></span>"
      ],
      "text/plain": [
       "<IPython.core.display.HTML object>"
      ]
     },
     "metadata": {},
     "output_type": "display_data"
    },
    {
     "data": {
      "text/html": [
       "<span class=\"tex2jax_ignore\"><div class=\"entities\" style=\"line-height: 2.5; direction: ltr\">i can't take this heat! it's like an oven in here i feel sick nwo </div></span>"
      ],
      "text/plain": [
       "<IPython.core.display.HTML object>"
      ]
     },
     "metadata": {},
     "output_type": "display_data"
    },
    {
     "data": {
      "text/html": [
       "<span class=\"tex2jax_ignore\"><div class=\"entities\" style=\"line-height: 2.5; direction: ltr\"> come to the chat  just 15 minutes  please? </div></span>"
      ],
      "text/plain": [
       "<IPython.core.display.HTML object>"
      ]
     },
     "metadata": {},
     "output_type": "display_data"
    },
    {
     "data": {
      "text/html": [
       "<span class=\"tex2jax_ignore\"><div class=\"entities\" style=\"line-height: 2.5; direction: ltr\">boredd \n",
       "<mark class=\"entity\" style=\"background: #ddd; padding: 0.45em 0.6em; margin: 0 0.25em; line-height: 1; border-radius: 0.35em;\">\n",
       "    colddd\n",
       "    <span style=\"font-size: 0.8em; font-weight: bold; line-height: 1; border-radius: 0.35em; vertical-align: middle; margin-left: 0.5rem\">FOOD</span>\n",
       "</mark>\n",
       "  internet keeps stuffing up</div></span>"
      ],
      "text/plain": [
       "<IPython.core.display.HTML object>"
      ]
     },
     "metadata": {},
     "output_type": "display_data"
    },
    {
     "data": {
      "text/html": [
       "<span class=\"tex2jax_ignore\"><div class=\"entities\" style=\"line-height: 2.5; direction: ltr\">i had a horrible nightmare last night which affected my sleep now i'm really tired </div></span>"
      ],
      "text/plain": [
       "<IPython.core.display.HTML object>"
      ]
     },
     "metadata": {},
     "output_type": "display_data"
    },
    {
     "data": {
      "text/html": [
       "<span class=\"tex2jax_ignore\"><div class=\"entities\" style=\"line-height: 2.5; direction: ltr\">im lonely  keep me company! 22 female new york</div></span>"
      ],
      "text/plain": [
       "<IPython.core.display.HTML object>"
      ]
     },
     "metadata": {},
     "output_type": "display_data"
    },
    {
     "data": {
      "text/html": [
       "<span class=\"tex2jax_ignore\"><div class=\"entities\" style=\"line-height: 2.5; direction: ltr\"> lost  and it was st ignacius prepatory school haha</div></span>"
      ],
      "text/plain": [
       "<IPython.core.display.HTML object>"
      ]
     },
     "metadata": {},
     "output_type": "display_data"
    },
    {
     "data": {
      "text/html": [
       "<span class=\"tex2jax_ignore\"><div class=\"entities\" style=\"line-height: 2.5; direction: ltr\"> yeah  it was really depressing stuff like that gets to me</div></span>"
      ],
      "text/plain": [
       "<IPython.core.display.HTML object>"
      ]
     },
     "metadata": {},
     "output_type": "display_data"
    },
    {
     "data": {
      "text/html": [
       "<span class=\"tex2jax_ignore\"><div class=\"entities\" style=\"line-height: 2.5; direction: ltr\"> no problem tongueincheek remark  lots of acronyms but no nz </div></span>"
      ],
      "text/plain": [
       "<IPython.core.display.HTML object>"
      ]
     },
     "metadata": {},
     "output_type": "display_data"
    },
    {
     "data": {
      "text/html": [
       "<span class=\"tex2jax_ignore\"><div class=\"entities\" style=\"line-height: 2.5; direction: ltr\"> hey you said matt was gonna go all ballistic i was disappointed  good ep tho mostly</div></span>"
      ],
      "text/plain": [
       "<IPython.core.display.HTML object>"
      ]
     },
     "metadata": {},
     "output_type": "display_data"
    },
    {
     "data": {
      "text/html": [
       "<span class=\"tex2jax_ignore\"><div class=\"entities\" style=\"line-height: 2.5; direction: ltr\">ugh horrible ending to the sandra \n",
       "<mark class=\"entity\" style=\"background: #ddd; padding: 0.45em 0.6em; margin: 0 0.25em; line-height: 1; border-radius: 0.35em;\">\n",
       "    kantu\n",
       "    <span style=\"font-size: 0.8em; font-weight: bold; line-height: 1; border-radius: 0.35em; vertical-align: middle; margin-left: 0.5rem\">FOOD</span>\n",
       "</mark>\n",
       " story  prayers go out</div></span>"
      ],
      "text/plain": [
       "<IPython.core.display.HTML object>"
      ]
     },
     "metadata": {},
     "output_type": "display_data"
    },
    {
     "data": {
      "text/html": [
       "<span class=\"tex2jax_ignore\"><div class=\"entities\" style=\"line-height: 2.5; direction: ltr\">   i hate 2 b allergic  i want a puppy soo bad that i've already thought some cool names</div></span>"
      ],
      "text/plain": [
       "<IPython.core.display.HTML object>"
      ]
     },
     "metadata": {},
     "output_type": "display_data"
    },
    {
     "data": {
      "text/html": [
       "<span class=\"tex2jax_ignore\"><div class=\"entities\" style=\"line-height: 2.5; direction: ltr\">morning folks 700 am yawn! up and away to see to horses  hope twitter is better behaved today!  last night was a travesty </div></span>"
      ],
      "text/plain": [
       "<IPython.core.display.HTML object>"
      ]
     },
     "metadata": {},
     "output_type": "display_data"
    },
    {
     "data": {
      "text/html": [
       "<span class=\"tex2jax_ignore\"><div class=\"entities\" style=\"line-height: 2.5; direction: ltr\"> i miss mine too! </div></span>"
      ],
      "text/plain": [
       "<IPython.core.display.HTML object>"
      ]
     },
     "metadata": {},
     "output_type": "display_data"
    },
    {
     "data": {
      "text/html": [
       "<span class=\"tex2jax_ignore\"><div class=\"entities\" style=\"line-height: 2.5; direction: ltr\"> sorry to hear about your loss     there have been many this year so far</div></span>"
      ],
      "text/plain": [
       "<IPython.core.display.HTML object>"
      ]
     },
     "metadata": {},
     "output_type": "display_data"
    },
    {
     "data": {
      "text/html": [
       "<span class=\"tex2jax_ignore\"><div class=\"entities\" style=\"line-height: 2.5; direction: ltr\"> gossip girl was a repeat </div></span>"
      ],
      "text/plain": [
       "<IPython.core.display.HTML object>"
      ]
     },
     "metadata": {},
     "output_type": "display_data"
    },
    {
     "data": {
      "text/html": [
       "<span class=\"tex2jax_ignore\"><div class=\"entities\" style=\"line-height: 2.5; direction: ltr\"> i reckon </div></span>"
      ],
      "text/plain": [
       "<IPython.core.display.HTML object>"
      ]
     },
     "metadata": {},
     "output_type": "display_data"
    },
    {
     "data": {
      "text/html": [
       "<span class=\"tex2jax_ignore\"><div class=\"entities\" style=\"line-height: 2.5; direction: ltr\">finding it really hard to use twitter </div></span>"
      ],
      "text/plain": [
       "<IPython.core.display.HTML object>"
      ]
     },
     "metadata": {},
     "output_type": "display_data"
    },
    {
     "data": {
      "text/html": [
       "<span class=\"tex2jax_ignore\"><div class=\"entities\" style=\"line-height: 2.5; direction: ltr\">i've been stuck in this house for two days </div></span>"
      ],
      "text/plain": [
       "<IPython.core.display.HTML object>"
      ]
     },
     "metadata": {},
     "output_type": "display_data"
    },
    {
     "data": {
      "text/html": [
       "<span class=\"tex2jax_ignore\"><div class=\"entities\" style=\"line-height: 2.5; direction: ltr\">is really sad and doesn't really know y!!??!!! </div></span>"
      ],
      "text/plain": [
       "<IPython.core.display.HTML object>"
      ]
     },
     "metadata": {},
     "output_type": "display_data"
    },
    {
     "data": {
      "text/html": [
       "<span class=\"tex2jax_ignore\"><div class=\"entities\" style=\"line-height: 2.5; direction: ltr\"> no </div></span>"
      ],
      "text/plain": [
       "<IPython.core.display.HTML object>"
      ]
     },
     "metadata": {},
     "output_type": "display_data"
    },
    {
     "data": {
      "text/html": [
       "<span class=\"tex2jax_ignore\"><div class=\"entities\" style=\"line-height: 2.5; direction: ltr\">maybe one of these years i'll get a tax return  a girl can dream right?</div></span>"
      ],
      "text/plain": [
       "<IPython.core.display.HTML object>"
      ]
     },
     "metadata": {},
     "output_type": "display_data"
    },
    {
     "data": {
      "text/html": [
       "<span class=\"tex2jax_ignore\"><div class=\"entities\" style=\"line-height: 2.5; direction: ltr\">back at work tired as hell and i feel a cold coming </div></span>"
      ],
      "text/plain": [
       "<IPython.core.display.HTML object>"
      ]
     },
     "metadata": {},
     "output_type": "display_data"
    },
    {
     "data": {
      "text/html": [
       "<span class=\"tex2jax_ignore\"><div class=\"entities\" style=\"line-height: 2.5; direction: ltr\">  april 9th isn't coming soon enough </div></span>"
      ],
      "text/plain": [
       "<IPython.core.display.HTML object>"
      ]
     },
     "metadata": {},
     "output_type": "display_data"
    },
    {
     "data": {
      "text/html": [
       "<span class=\"tex2jax_ignore\"><div class=\"entities\" style=\"line-height: 2.5; direction: ltr\"> \n",
       "<mark class=\"entity\" style=\"background: #ddd; padding: 0.45em 0.6em; margin: 0 0.25em; line-height: 1; border-radius: 0.35em;\">\n",
       "    cream\n",
       "    <span style=\"font-size: 0.8em; font-weight: bold; line-height: 1; border-radius: 0.35em; vertical-align: middle; margin-left: 0.5rem\">FOOD</span>\n",
       "</mark>\n",
       " for his eye and he may have herpes  not ocular herpes but a different strain    he's doing okay though</div></span>"
      ],
      "text/plain": [
       "<IPython.core.display.HTML object>"
      ]
     },
     "metadata": {},
     "output_type": "display_data"
    },
    {
     "data": {
      "text/html": [
       "<span class=\"tex2jax_ignore\"><div class=\"entities\" style=\"line-height: 2.5; direction: ltr\">gotta repeat  whole art folio cuz old one with a whole terms work got wet </div></span>"
      ],
      "text/plain": [
       "<IPython.core.display.HTML object>"
      ]
     },
     "metadata": {},
     "output_type": "display_data"
    },
    {
     "data": {
      "text/html": [
       "<span class=\"tex2jax_ignore\"><div class=\"entities\" style=\"line-height: 2.5; direction: ltr\">i'm ready for the weekend already it's only monday </div></span>"
      ],
      "text/plain": [
       "<IPython.core.display.HTML object>"
      ]
     },
     "metadata": {},
     "output_type": "display_data"
    },
    {
     "data": {
      "text/html": [
       "<span class=\"tex2jax_ignore\"><div class=\"entities\" style=\"line-height: 2.5; direction: ltr\"> umm nopethink im an insomniac plus i got the flui'lll be sleepin like a phuckin \n",
       "<mark class=\"entity\" style=\"background: #ddd; padding: 0.45em 0.6em; margin: 0 0.25em; line-height: 1; border-radius: 0.35em;\">\n",
       "    fish\n",
       "    <span style=\"font-size: 0.8em; font-weight: bold; line-height: 1; border-radius: 0.35em; vertical-align: middle; margin-left: 0.5rem\">FOOD</span>\n",
       "</mark>\n",
       " outta \n",
       "<mark class=\"entity\" style=\"background: #ddd; padding: 0.45em 0.6em; margin: 0 0.25em; line-height: 1; border-radius: 0.35em;\">\n",
       "    water\n",
       "    <span style=\"font-size: 0.8em; font-weight: bold; line-height: 1; border-radius: 0.35em; vertical-align: middle; margin-left: 0.5rem\">FOOD</span>\n",
       "</mark>\n",
       " any minute now! </div></span>"
      ],
      "text/plain": [
       "<IPython.core.display.HTML object>"
      ]
     },
     "metadata": {},
     "output_type": "display_data"
    },
    {
     "data": {
      "text/html": [
       "<span class=\"tex2jax_ignore\"><div class=\"entities\" style=\"line-height: 2.5; direction: ltr\">has finland sleeping for the night not really enough time </div></span>"
      ],
      "text/plain": [
       "<IPython.core.display.HTML object>"
      ]
     },
     "metadata": {},
     "output_type": "display_data"
    },
    {
     "data": {
      "text/html": [
       "<span class=\"tex2jax_ignore\"><div class=\"entities\" style=\"line-height: 2.5; direction: ltr\"> can't wait to try em but prolly have to wait until next weekend at the earliest </div></span>"
      ],
      "text/plain": [
       "<IPython.core.display.HTML object>"
      ]
     },
     "metadata": {},
     "output_type": "display_data"
    },
    {
     "data": {
      "text/html": [
       "<span class=\"tex2jax_ignore\"><div class=\"entities\" style=\"line-height: 2.5; direction: ltr\">shiner is taking up all my bed and blankets! </div></span>"
      ],
      "text/plain": [
       "<IPython.core.display.HTML object>"
      ]
     },
     "metadata": {},
     "output_type": "display_data"
    },
    {
     "data": {
      "text/html": [
       "<span class=\"tex2jax_ignore\"><div class=\"entities\" style=\"line-height: 2.5; direction: ltr\"> april 9th isn't coming soon enough </div></span>"
      ],
      "text/plain": [
       "<IPython.core.display.HTML object>"
      ]
     },
     "metadata": {},
     "output_type": "display_data"
    },
    {
     "data": {
      "text/html": [
       "<span class=\"tex2jax_ignore\"><div class=\"entities\" style=\"line-height: 2.5; direction: ltr\">wants to cry </div></span>"
      ],
      "text/plain": [
       "<IPython.core.display.HTML object>"
      ]
     },
     "metadata": {},
     "output_type": "display_data"
    },
    {
     "data": {
      "text/html": [
       "<span class=\"tex2jax_ignore\"><div class=\"entities\" style=\"line-height: 2.5; direction: ltr\">i need to go to the bank tomorrow before i go broke </div></span>"
      ],
      "text/plain": [
       "<IPython.core.display.HTML object>"
      ]
     },
     "metadata": {},
     "output_type": "display_data"
    },
    {
     "data": {
      "text/html": [
       "<span class=\"tex2jax_ignore\"><div class=\"entities\" style=\"line-height: 2.5; direction: ltr\">this earthquake in italy has me sadden  it's only three hours away from naples where my family is </div></span>"
      ],
      "text/plain": [
       "<IPython.core.display.HTML object>"
      ]
     },
     "metadata": {},
     "output_type": "display_data"
    },
    {
     "data": {
      "text/html": [
       "<span class=\"tex2jax_ignore\"><div class=\"entities\" style=\"line-height: 2.5; direction: ltr\">i should be sleeping i have a stressed out week coming to me </div></span>"
      ],
      "text/plain": [
       "<IPython.core.display.HTML object>"
      ]
     },
     "metadata": {},
     "output_type": "display_data"
    },
    {
     "data": {
      "text/html": [
       "<span class=\"tex2jax_ignore\"><div class=\"entities\" style=\"line-height: 2.5; direction: ltr\"> yea   i am working tp hack my server to do the 12player thing for folks</div></span>"
      ],
      "text/plain": [
       "<IPython.core.display.HTML object>"
      ]
     },
     "metadata": {},
     "output_type": "display_data"
    },
    {
     "data": {
      "text/html": [
       "<span class=\"tex2jax_ignore\"><div class=\"entities\" style=\"line-height: 2.5; direction: ltr\">has hurt her ankle!! and is going to the dr </div></span>"
      ],
      "text/plain": [
       "<IPython.core.display.HTML object>"
      ]
     },
     "metadata": {},
     "output_type": "display_data"
    },
    {
     "data": {
      "text/html": [
       "<span class=\"tex2jax_ignore\"><div class=\"entities\" style=\"line-height: 2.5; direction: ltr\"> oh noes how did you manage to send something to the trash can and empty it without noticing! i feel for ya </div></span>"
      ],
      "text/plain": [
       "<IPython.core.display.HTML object>"
      ]
     },
     "metadata": {},
     "output_type": "display_data"
    },
    {
     "data": {
      "text/html": [
       "<span class=\"tex2jax_ignore\"><div class=\"entities\" style=\"line-height: 2.5; direction: ltr\">lost my free copy of radioactive so can't put it on my ipod grr!and i can't go out + buy 'nother coz it came with that paper </div></span>"
      ],
      "text/plain": [
       "<IPython.core.display.HTML object>"
      ]
     },
     "metadata": {},
     "output_type": "display_data"
    },
    {
     "data": {
      "text/html": [
       "<span class=\"tex2jax_ignore\"><div class=\"entities\" style=\"line-height: 2.5; direction: ltr\">doing make up shit </div></span>"
      ],
      "text/plain": [
       "<IPython.core.display.HTML object>"
      ]
     },
     "metadata": {},
     "output_type": "display_data"
    },
    {
     "data": {
      "text/html": [
       "<span class=\"tex2jax_ignore\"><div class=\"entities\" style=\"line-height: 2.5; direction: ltr\">photoshop i hate it when you crash </div></span>"
      ],
      "text/plain": [
       "<IPython.core.display.HTML object>"
      ]
     },
     "metadata": {},
     "output_type": "display_data"
    },
    {
     "data": {
      "text/html": [
       "<span class=\"tex2jax_ignore\"><div class=\"entities\" style=\"line-height: 2.5; direction: ltr\">vacations makes me feel sick! </div></span>"
      ],
      "text/plain": [
       "<IPython.core.display.HTML object>"
      ]
     },
     "metadata": {},
     "output_type": "display_data"
    },
    {
     "data": {
      "text/html": [
       "<span class=\"tex2jax_ignore\"><div class=\"entities\" style=\"line-height: 2.5; direction: ltr\">you shouldn't have gone </div></span>"
      ],
      "text/plain": [
       "<IPython.core.display.HTML object>"
      ]
     },
     "metadata": {},
     "output_type": "display_data"
    },
    {
     "data": {
      "text/html": [
       "<span class=\"tex2jax_ignore\"><div class=\"entities\" style=\"line-height: 2.5; direction: ltr\">listening to murd and 9th wonder just chillen out missing my crazy sex life  </div></span>"
      ],
      "text/plain": [
       "<IPython.core.display.HTML object>"
      ]
     },
     "metadata": {},
     "output_type": "display_data"
    },
    {
     "data": {
      "text/html": [
       "<span class=\"tex2jax_ignore\"><div class=\"entities\" style=\"line-height: 2.5; direction: ltr\">: shooting!?!! be \n",
       "<mark class=\"entity\" style=\"background: #ddd; padding: 0.45em 0.6em; margin: 0 0.25em; line-height: 1; border-radius: 0.35em;\">\n",
       "    careful luisa\n",
       "    <span style=\"font-size: 0.8em; font-weight: bold; line-height: 1; border-radius: 0.35em; vertical-align: middle; margin-left: 0.5rem\">FOOD</span>\n",
       "</mark>\n",
       " </div></span>"
      ],
      "text/plain": [
       "<IPython.core.display.HTML object>"
      ]
     },
     "metadata": {},
     "output_type": "display_data"
    },
    {
     "data": {
      "text/html": [
       "<span class=\"tex2jax_ignore\"><div class=\"entities\" style=\"line-height: 2.5; direction: ltr\"> i'm sure everyone has ruined my gift to you  whitney has my serious cell #we doing easter as well?</div></span>"
      ],
      "text/plain": [
       "<IPython.core.display.HTML object>"
      ]
     },
     "metadata": {},
     "output_type": "display_data"
    },
    {
     "data": {
      "text/html": [
       "<span class=\"tex2jax_ignore\"><div class=\"entities\" style=\"line-height: 2.5; direction: ltr\">is at beso in hollywood so tired </div></span>"
      ],
      "text/plain": [
       "<IPython.core.display.HTML object>"
      ]
     },
     "metadata": {},
     "output_type": "display_data"
    },
    {
     "data": {
      "text/html": [
       "<span class=\"tex2jax_ignore\"><div class=\"entities\" style=\"line-height: 2.5; direction: ltr\">i don't want to wake up early tomorrow  damn you work!</div></span>"
      ],
      "text/plain": [
       "<IPython.core.display.HTML object>"
      ]
     },
     "metadata": {},
     "output_type": "display_data"
    },
    {
     "data": {
      "text/html": [
       "<span class=\"tex2jax_ignore\"><div class=\"entities\" style=\"line-height: 2.5; direction: ltr\">just finished watching the movie prayers for bobby broke my heart </div></span>"
      ],
      "text/plain": [
       "<IPython.core.display.HTML object>"
      ]
     },
     "metadata": {},
     "output_type": "display_data"
    },
    {
     "data": {
      "text/html": [
       "<span class=\"tex2jax_ignore\"><div class=\"entities\" style=\"line-height: 2.5; direction: ltr\"> is myki really horrible? </div></span>"
      ],
      "text/plain": [
       "<IPython.core.display.HTML object>"
      ]
     },
     "metadata": {},
     "output_type": "display_data"
    },
    {
     "data": {
      "text/html": [
       "<span class=\"tex2jax_ignore\"><div class=\"entities\" style=\"line-height: 2.5; direction: ltr\"> i had 2 put my dog down today too  someone ran her over</div></span>"
      ],
      "text/plain": [
       "<IPython.core.display.HTML object>"
      ]
     },
     "metadata": {},
     "output_type": "display_data"
    },
    {
     "data": {
      "text/html": [
       "<span class=\"tex2jax_ignore\"><div class=\"entities\" style=\"line-height: 2.5; direction: ltr\"> sorry to hear about your dnf run tonight always a risk to get bad coords on an ftf!! </div></span>"
      ],
      "text/plain": [
       "<IPython.core.display.HTML object>"
      ]
     },
     "metadata": {},
     "output_type": "display_data"
    },
    {
     "data": {
      "text/html": [
       "<span class=\"tex2jax_ignore\"><div class=\"entities\" style=\"line-height: 2.5; direction: ltr\"> i did get some disgruntled people when i wrote my esn but the 1000 hits in one day made up for it bill pulls in 250 tops </div></span>"
      ],
      "text/plain": [
       "<IPython.core.display.HTML object>"
      ]
     },
     "metadata": {},
     "output_type": "display_data"
    },
    {
     "data": {
      "text/html": [
       "<span class=\"tex2jax_ignore\"><div class=\"entities\" style=\"line-height: 2.5; direction: ltr\"> ohh! omg lmao i'm crying right now lol! kutnerrrr was the best! </div></span>"
      ],
      "text/plain": [
       "<IPython.core.display.HTML object>"
      ]
     },
     "metadata": {},
     "output_type": "display_data"
    },
    {
     "data": {
      "text/html": [
       "<span class=\"tex2jax_ignore\"><div class=\"entities\" style=\"line-height: 2.5; direction: ltr\">came back from running and took a showerwhy does my lower stomach still hurt after exercising? </div></span>"
      ],
      "text/plain": [
       "<IPython.core.display.HTML object>"
      ]
     },
     "metadata": {},
     "output_type": "display_data"
    },
    {
     "data": {
      "text/html": [
       "<span class=\"tex2jax_ignore\"><div class=\"entities\" style=\"line-height: 2.5; direction: ltr\">watching fallon with mom and working on a projectschool is hard </div></span>"
      ],
      "text/plain": [
       "<IPython.core.display.HTML object>"
      ]
     },
     "metadata": {},
     "output_type": "display_data"
    },
    {
     "data": {
      "text/html": [
       "<span class=\"tex2jax_ignore\"><div class=\"entities\" style=\"line-height: 2.5; direction: ltr\">56 min till home time and counting! i have a craving to visit the mac store but they will have closed by the time i get there </div></span>"
      ],
      "text/plain": [
       "<IPython.core.display.HTML object>"
      ]
     },
     "metadata": {},
     "output_type": "display_data"
    },
    {
     "data": {
      "text/html": [
       "<span class=\"tex2jax_ignore\"><div class=\"entities\" style=\"line-height: 2.5; direction: ltr\"> i am so sorry to hear that!  take care!</div></span>"
      ],
      "text/plain": [
       "<IPython.core.display.HTML object>"
      ]
     },
     "metadata": {},
     "output_type": "display_data"
    },
    {
     "data": {
      "text/html": [
       "<span class=\"tex2jax_ignore\"><div class=\"entities\" style=\"line-height: 2.5; direction: ltr\">  hmmmgreed is good when it motivates the individual to do betternot so much when it takes away from others </div></span>"
      ],
      "text/plain": [
       "<IPython.core.display.HTML object>"
      ]
     },
     "metadata": {},
     "output_type": "display_data"
    },
    {
     "data": {
      "text/html": [
       "<span class=\"tex2jax_ignore\"><div class=\"entities\" style=\"line-height: 2.5; direction: ltr\"> brat! you have to rub it in don't you i want a mocha </div></span>"
      ],
      "text/plain": [
       "<IPython.core.display.HTML object>"
      ]
     },
     "metadata": {},
     "output_type": "display_data"
    },
    {
     "data": {
      "text/html": [
       "<span class=\"tex2jax_ignore\"><div class=\"entities\" style=\"line-height: 2.5; direction: ltr\">kutnerrrr!  why??? why??????  and to think that 13 is still on the show?? ugh kutner/kal penn  you've been the bright star in ho </div></span>"
      ],
      "text/plain": [
       "<IPython.core.display.HTML object>"
      ]
     },
     "metadata": {},
     "output_type": "display_data"
    },
    {
     "data": {
      "text/html": [
       "<span class=\"tex2jax_ignore\"><div class=\"entities\" style=\"line-height: 2.5; direction: ltr\"> my mom has it i wish you the best of luck </div></span>"
      ],
      "text/plain": [
       "<IPython.core.display.HTML object>"
      ]
     },
     "metadata": {},
     "output_type": "display_data"
    },
    {
     "data": {
      "text/html": [
       "<span class=\"tex2jax_ignore\"><div class=\"entities\" style=\"line-height: 2.5; direction: ltr\">i so hate homeworks  my head hurts so bad </div></span>"
      ],
      "text/plain": [
       "<IPython.core.display.HTML object>"
      ]
     },
     "metadata": {},
     "output_type": "display_data"
    },
    {
     "data": {
      "text/html": [
       "<span class=\"tex2jax_ignore\"><div class=\"entities\" style=\"line-height: 2.5; direction: ltr\">got the ebay blues! item i want jumped from no bidders to over $100 in an hour still has 3 hours to go i'd better not get my hopes up </div></span>"
      ],
      "text/plain": [
       "<IPython.core.display.HTML object>"
      ]
     },
     "metadata": {},
     "output_type": "display_data"
    },
    {
     "data": {
      "text/html": [
       "<span class=\"tex2jax_ignore\"><div class=\"entities\" style=\"line-height: 2.5; direction: ltr\"> i know   was a little depressed that we ate so much last night there were no \n",
       "<mark class=\"entity\" style=\"background: #ddd; padding: 0.45em 0.6em; margin: 0 0.25em; line-height: 1; border-radius: 0.35em;\">\n",
       "    leftovers\n",
       "    <span style=\"font-size: 0.8em; font-weight: bold; line-height: 1; border-radius: 0.35em; vertical-align: middle; margin-left: 0.5rem\">FOOD</span>\n",
       "</mark>\n",
       " today </div></span>"
      ],
      "text/plain": [
       "<IPython.core.display.HTML object>"
      ]
     },
     "metadata": {},
     "output_type": "display_data"
    },
    {
     "data": {
      "text/html": [
       "<span class=\"tex2jax_ignore\"><div class=\"entities\" style=\"line-height: 2.5; direction: ltr\">well the pc in my living room suffered a fatal partion lost all my itunes library is gone and some docs with pics </div></span>"
      ],
      "text/plain": [
       "<IPython.core.display.HTML object>"
      ]
     },
     "metadata": {},
     "output_type": "display_data"
    },
    {
     "data": {
      "text/html": [
       "<span class=\"tex2jax_ignore\"><div class=\"entities\" style=\"line-height: 2.5; direction: ltr\">sad day: manu out for the season </div></span>"
      ],
      "text/plain": [
       "<IPython.core.display.HTML object>"
      ]
     },
     "metadata": {},
     "output_type": "display_data"
    },
    {
     "data": {
      "text/html": [
       "<span class=\"tex2jax_ignore\"><div class=\"entities\" style=\"line-height: 2.5; direction: ltr\"> you poor spunkyits so sadmy rotti made it to 10 and i had to go down the same pathi know how you feel </div></span>"
      ],
      "text/plain": [
       "<IPython.core.display.HTML object>"
      ]
     },
     "metadata": {},
     "output_type": "display_data"
    },
    {
     "data": {
      "text/html": [
       "<span class=\"tex2jax_ignore\"><div class=\"entities\" style=\"line-height: 2.5; direction: ltr\">im sooo sad right now  i need a hug</div></span>"
      ],
      "text/plain": [
       "<IPython.core.display.HTML object>"
      ]
     },
     "metadata": {},
     "output_type": "display_data"
    },
    {
     "data": {
      "text/html": [
       "<span class=\"tex2jax_ignore\"><div class=\"entities\" style=\"line-height: 2.5; direction: ltr\">wants her step brother home  im so worried you dont even know i hope he knows how much i care for him</div></span>"
      ],
      "text/plain": [
       "<IPython.core.display.HTML object>"
      ]
     },
     "metadata": {},
     "output_type": "display_data"
    },
    {
     "data": {
      "text/html": [
       "<span class=\"tex2jax_ignore\"><div class=\"entities\" style=\"line-height: 2.5; direction: ltr\"> just got done watching the hills! loved it! excited for the next episode! and im sad this is the last season! </div></span>"
      ],
      "text/plain": [
       "<IPython.core.display.HTML object>"
      ]
     },
     "metadata": {},
     "output_type": "display_data"
    },
    {
     "data": {
      "text/html": [
       "<span class=\"tex2jax_ignore\"><div class=\"entities\" style=\"line-height: 2.5; direction: ltr\"> aww that stinks!  *hugs*</div></span>"
      ],
      "text/plain": [
       "<IPython.core.display.HTML object>"
      ]
     },
     "metadata": {},
     "output_type": "display_data"
    },
    {
     "data": {
      "text/html": [
       "<span class=\"tex2jax_ignore\"><div class=\"entities\" style=\"line-height: 2.5; direction: ltr\">i'm tired i feel like crap and the world feels all crummy make me happy usb disco mouse </div></span>"
      ],
      "text/plain": [
       "<IPython.core.display.HTML object>"
      ]
     },
     "metadata": {},
     "output_type": "display_data"
    },
    {
     "data": {
      "text/html": [
       "<span class=\"tex2jax_ignore\"><div class=\"entities\" style=\"line-height: 2.5; direction: ltr\">i dont want to believe what im readingbuuso sad </div></span>"
      ],
      "text/plain": [
       "<IPython.core.display.HTML object>"
      ]
     },
     "metadata": {},
     "output_type": "display_data"
    },
    {
     "data": {
      "text/html": [
       "<span class=\"tex2jax_ignore\"><div class=\"entities\" style=\"line-height: 2.5; direction: ltr\">wondering why gamebattles is down </div></span>"
      ],
      "text/plain": [
       "<IPython.core.display.HTML object>"
      ]
     },
     "metadata": {},
     "output_type": "display_data"
    },
    {
     "data": {
      "text/html": [
       "<span class=\"tex2jax_ignore\"><div class=\"entities\" style=\"line-height: 2.5; direction: ltr\">\n",
       "<mark class=\"entity\" style=\"background: #ddd; padding: 0.45em 0.6em; margin: 0 0.25em; line-height: 1; border-radius: 0.35em;\">\n",
       "    white trash\n",
       "    <span style=\"font-size: 0.8em; font-weight: bold; line-height: 1; border-radius: 0.35em; vertical-align: middle; margin-left: 0.5rem\">FOOD</span>\n",
       "</mark>\n",
       " vs us we were outnumbered  </div></span>"
      ],
      "text/plain": [
       "<IPython.core.display.HTML object>"
      ]
     },
     "metadata": {},
     "output_type": "display_data"
    },
    {
     "data": {
      "text/html": [
       "<span class=\"tex2jax_ignore\"><div class=\"entities\" style=\"line-height: 2.5; direction: ltr\"> so true i have it and don't use it </div></span>"
      ],
      "text/plain": [
       "<IPython.core.display.HTML object>"
      ]
     },
     "metadata": {},
     "output_type": "display_data"
    },
    {
     "data": {
      "text/html": [
       "<span class=\"tex2jax_ignore\"><div class=\"entities\" style=\"line-height: 2.5; direction: ltr\">spring break is here at last but no one is here to celebrate </div></span>"
      ],
      "text/plain": [
       "<IPython.core.display.HTML object>"
      ]
     },
     "metadata": {},
     "output_type": "display_data"
    },
    {
     "data": {
      "text/html": [
       "<span class=\"tex2jax_ignore\"><div class=\"entities\" style=\"line-height: 2.5; direction: ltr\">morning! bah car won't start waiting for the anwb </div></span>"
      ],
      "text/plain": [
       "<IPython.core.display.HTML object>"
      ]
     },
     "metadata": {},
     "output_type": "display_data"
    },
    {
     "data": {
      "text/html": [
       "<span class=\"tex2jax_ignore\"><div class=\"entities\" style=\"line-height: 2.5; direction: ltr\"> which is pretty anti memorial tattoos   but for all but the strictest there's no official ban just disapproving family</div></span>"
      ],
      "text/plain": [
       "<IPython.core.display.HTML object>"
      ]
     },
     "metadata": {},
     "output_type": "display_data"
    },
    {
     "data": {
      "text/html": [
       "<span class=\"tex2jax_ignore\"><div class=\"entities\" style=\"line-height: 2.5; direction: ltr\">balamurugan a longterm member of the team is leaving this month we'll miss working with him  hope he does well in his next venture</div></span>"
      ],
      "text/plain": [
       "<IPython.core.display.HTML object>"
      ]
     },
     "metadata": {},
     "output_type": "display_data"
    },
    {
     "data": {
      "text/html": [
       "<span class=\"tex2jax_ignore\"><div class=\"entities\" style=\"line-height: 2.5; direction: ltr\"> its sad knowing how they found her body what a crazy world we live in no child deserves that ya know </div></span>"
      ],
      "text/plain": [
       "<IPython.core.display.HTML object>"
      ]
     },
     "metadata": {},
     "output_type": "display_data"
    },
    {
     "data": {
      "text/html": [
       "<span class=\"tex2jax_ignore\"><div class=\"entities\" style=\"line-height: 2.5; direction: ltr\">i wanna rock a maxi dress  coachella but lacking funding </div></span>"
      ],
      "text/plain": [
       "<IPython.core.display.HTML object>"
      ]
     },
     "metadata": {},
     "output_type": "display_data"
    },
    {
     "data": {
      "text/html": [
       "<span class=\"tex2jax_ignore\"><div class=\"entities\" style=\"line-height: 2.5; direction: ltr\">of course the baby is screaming in the crib the night before my first day back at work  so i let him cry it out? boooo</div></span>"
      ],
      "text/plain": [
       "<IPython.core.display.HTML object>"
      ]
     },
     "metadata": {},
     "output_type": "display_data"
    },
    {
     "data": {
      "text/html": [
       "<span class=\"tex2jax_ignore\"><div class=\"entities\" style=\"line-height: 2.5; direction: ltr\">i am home missing my baby  busy week ahead fri is a chill day with my guy and kids egg hunt sat spiral and dmb sat night and easter!</div></span>"
      ],
      "text/plain": [
       "<IPython.core.display.HTML object>"
      ]
     },
     "metadata": {},
     "output_type": "display_data"
    },
    {
     "data": {
      "text/html": [
       "<span class=\"tex2jax_ignore\"><div class=\"entities\" style=\"line-height: 2.5; direction: ltr\"> i never found her everytime i click on her twitter thing through your myspace it goes to some dude's page </div></span>"
      ],
      "text/plain": [
       "<IPython.core.display.HTML object>"
      ]
     },
     "metadata": {},
     "output_type": "display_data"
    },
    {
     "data": {
      "text/html": [
       "<span class=\"tex2jax_ignore\"><div class=\"entities\" style=\"line-height: 2.5; direction: ltr\"> that's horrible  sorryto hear that</div></span>"
      ],
      "text/plain": [
       "<IPython.core.display.HTML object>"
      ]
     },
     "metadata": {},
     "output_type": "display_data"
    },
    {
     "data": {
      "text/html": [
       "<span class=\"tex2jax_ignore\"><div class=\"entities\" style=\"line-height: 2.5; direction: ltr\"> i cant find it! it says dtmafiaofficial doesnt exist!there's jus 1 dtmafia i found n u dun seem to b followin it  wht to do?</div></span>"
      ],
      "text/plain": [
       "<IPython.core.display.HTML object>"
      ]
     },
     "metadata": {},
     "output_type": "display_data"
    },
    {
     "data": {
      "text/html": [
       "<span class=\"tex2jax_ignore\"><div class=\"entities\" style=\"line-height: 2.5; direction: ltr\">i thought you would support me on this </div></span>"
      ],
      "text/plain": [
       "<IPython.core.display.HTML object>"
      ]
     },
     "metadata": {},
     "output_type": "display_data"
    },
    {
     "data": {
      "text/html": [
       "<span class=\"tex2jax_ignore\"><div class=\"entities\" style=\"line-height: 2.5; direction: ltr\">augh eff sarth  i stole some of mil's nail polish its pretty! =o</div></span>"
      ],
      "text/plain": [
       "<IPython.core.display.HTML object>"
      ]
     },
     "metadata": {},
     "output_type": "display_data"
    },
    {
     "data": {
      "text/html": [
       "<span class=\"tex2jax_ignore\"><div class=\"entities\" style=\"line-height: 2.5; direction: ltr\">wishes i was on the spring fling tour with dawn and neecee sigh  g'knight</div></span>"
      ],
      "text/plain": [
       "<IPython.core.display.HTML object>"
      ]
     },
     "metadata": {},
     "output_type": "display_data"
    },
    {
     "data": {
      "text/html": [
       "<span class=\"tex2jax_ignore\"><div class=\"entities\" style=\"line-height: 2.5; direction: ltr\">the hoyts distribution nz website isn't working for me great and it has to be like this when i need it most </div></span>"
      ],
      "text/plain": [
       "<IPython.core.display.HTML object>"
      ]
     },
     "metadata": {},
     "output_type": "display_data"
    },
    {
     "data": {
      "text/html": [
       "<span class=\"tex2jax_ignore\"><div class=\"entities\" style=\"line-height: 2.5; direction: ltr\"> i don't like that they only had him in the first movie  cillian murphy is hot </div></span>"
      ],
      "text/plain": [
       "<IPython.core.display.HTML object>"
      ]
     },
     "metadata": {},
     "output_type": "display_data"
    },
    {
     "data": {
      "text/html": [
       "<span class=\"tex2jax_ignore\"><div class=\"entities\" style=\"line-height: 2.5; direction: ltr\">wishes for good old cartoons to come back ie: captain planet! where's wally! daria! (sadness  )</div></span>"
      ],
      "text/plain": [
       "<IPython.core.display.HTML object>"
      ]
     },
     "metadata": {},
     "output_type": "display_data"
    },
    {
     "data": {
      "text/html": [
       "<span class=\"tex2jax_ignore\"><div class=\"entities\" style=\"line-height: 2.5; direction: ltr\">not feeling v good abt myself </div></span>"
      ],
      "text/plain": [
       "<IPython.core.display.HTML object>"
      ]
     },
     "metadata": {},
     "output_type": "display_data"
    },
    {
     "data": {
      "text/html": [
       "<span class=\"tex2jax_ignore\"><div class=\"entities\" style=\"line-height: 2.5; direction: ltr\">i just got a text from sarah </div></span>"
      ],
      "text/plain": [
       "<IPython.core.display.HTML object>"
      ]
     },
     "metadata": {},
     "output_type": "display_data"
    },
    {
     "data": {
      "text/html": [
       "<span class=\"tex2jax_ignore\"><div class=\"entities\" style=\"line-height: 2.5; direction: ltr\">another day at centre point  this time an early start so guessing train will be rammed with commuters </div></span>"
      ],
      "text/plain": [
       "<IPython.core.display.HTML object>"
      ]
     },
     "metadata": {},
     "output_type": "display_data"
    },
    {
     "data": {
      "text/html": [
       "<span class=\"tex2jax_ignore\"><div class=\"entities\" style=\"line-height: 2.5; direction: ltr\">four games this fall: modern warfare 2 halo 3 odst brutal legend and bioshock 2 i need more cash </div></span>"
      ],
      "text/plain": [
       "<IPython.core.display.HTML object>"
      ]
     },
     "metadata": {},
     "output_type": "display_data"
    },
    {
     "data": {
      "text/html": [
       "<span class=\"tex2jax_ignore\"><div class=\"entities\" style=\"line-height: 2.5; direction: ltr\"> ugh that's disconcerting </div></span>"
      ],
      "text/plain": [
       "<IPython.core.display.HTML object>"
      ]
     },
     "metadata": {},
     "output_type": "display_data"
    },
    {
     "data": {
      "text/html": [
       "<span class=\"tex2jax_ignore\"><div class=\"entities\" style=\"line-height: 2.5; direction: ltr\"> actually the whole site has finally been taken over by those damn russians </div></span>"
      ],
      "text/plain": [
       "<IPython.core.display.HTML object>"
      ]
     },
     "metadata": {},
     "output_type": "display_data"
    },
    {
     "data": {
      "text/html": [
       "<span class=\"tex2jax_ignore\"><div class=\"entities\" style=\"line-height: 2.5; direction: ltr\">my tweets arent going through </div></span>"
      ],
      "text/plain": [
       "<IPython.core.display.HTML object>"
      ]
     },
     "metadata": {},
     "output_type": "display_data"
    },
    {
     "data": {
      "text/html": [
       "<span class=\"tex2jax_ignore\"><div class=\"entities\" style=\"line-height: 2.5; direction: ltr\">just finished a delicious breakfast my last in paris  i'll miss \n",
       "<mark class=\"entity\" style=\"background: #ddd; padding: 0.45em 0.6em; margin: 0 0.25em; line-height: 1; border-radius: 0.35em;\">\n",
       "    milk\n",
       "    <span style=\"font-size: 0.8em; font-weight: bold; line-height: 1; border-radius: 0.35em; vertical-align: middle; margin-left: 0.5rem\">FOOD</span>\n",
       "</mark>\n",
       " europe has the tastiest \n",
       "<mark class=\"entity\" style=\"background: #ddd; padding: 0.45em 0.6em; margin: 0 0.25em; line-height: 1; border-radius: 0.35em;\">\n",
       "    milk\n",
       "    <span style=\"font-size: 0.8em; font-weight: bold; line-height: 1; border-radius: 0.35em; vertical-align: middle; margin-left: 0.5rem\">FOOD</span>\n",
       "</mark>\n",
       " in the world i don't drink it in us</div></span>"
      ],
      "text/plain": [
       "<IPython.core.display.HTML object>"
      ]
     },
     "metadata": {},
     "output_type": "display_data"
    },
    {
     "data": {
      "text/html": [
       "<span class=\"tex2jax_ignore\"><div class=\"entities\" style=\"line-height: 2.5; direction: ltr\">ilearn is down and out great considering finals are this week </div></span>"
      ],
      "text/plain": [
       "<IPython.core.display.HTML object>"
      ]
     },
     "metadata": {},
     "output_type": "display_data"
    },
    {
     "data": {
      "text/html": [
       "<span class=\"tex2jax_ignore\"><div class=\"entities\" style=\"line-height: 2.5; direction: ltr\"> i'm stressed outttt </div></span>"
      ],
      "text/plain": [
       "<IPython.core.display.HTML object>"
      ]
     },
     "metadata": {},
     "output_type": "display_data"
    },
    {
     "data": {
      "text/html": [
       "<span class=\"tex2jax_ignore\"><div class=\"entities\" style=\"line-height: 2.5; direction: ltr\">also i shouldve bern asleep an hour ago </div></span>"
      ],
      "text/plain": [
       "<IPython.core.display.HTML object>"
      ]
     },
     "metadata": {},
     "output_type": "display_data"
    },
    {
     "data": {
      "text/html": [
       "<span class=\"tex2jax_ignore\"><div class=\"entities\" style=\"line-height: 2.5; direction: ltr\">trying to figure out this twitter thingnone of my friends are on  yet soo much to see</div></span>"
      ],
      "text/plain": [
       "<IPython.core.display.HTML object>"
      ]
     },
     "metadata": {},
     "output_type": "display_data"
    },
    {
     "data": {
      "text/html": [
       "<span class=\"tex2jax_ignore\"><div class=\"entities\" style=\"line-height: 2.5; direction: ltr\">repinging : custom icons i made! =] look cool but the edges could be less square  might look bad on a diff background</div></span>"
      ],
      "text/plain": [
       "<IPython.core.display.HTML object>"
      ]
     },
     "metadata": {},
     "output_type": "display_data"
    },
    {
     "data": {
      "text/html": [
       "<span class=\"tex2jax_ignore\"><div class=\"entities\" style=\"line-height: 2.5; direction: ltr\">i want to be back in la </div></span>"
      ],
      "text/plain": [
       "<IPython.core.display.HTML object>"
      ]
     },
     "metadata": {},
     "output_type": "display_data"
    },
    {
     "data": {
      "text/html": [
       "<span class=\"tex2jax_ignore\"><div class=\"entities\" style=\"line-height: 2.5; direction: ltr\"> i dunno how to use the forum and i get frustrated with it i'll miss talking to you on here </div></span>"
      ],
      "text/plain": [
       "<IPython.core.display.HTML object>"
      ]
     },
     "metadata": {},
     "output_type": "display_data"
    },
    {
     "data": {
      "text/html": [
       "<span class=\"tex2jax_ignore\"><div class=\"entities\" style=\"line-height: 2.5; direction: ltr\"> not an option </div></span>"
      ],
      "text/plain": [
       "<IPython.core.display.HTML object>"
      ]
     },
     "metadata": {},
     "output_type": "display_data"
    },
    {
     "data": {
      "text/html": [
       "<span class=\"tex2jax_ignore\"><div class=\"entities\" style=\"line-height: 2.5; direction: ltr\"> unfortunately one of those moments wasn't a giant \n",
       "<mark class=\"entity\" style=\"background: #ddd; padding: 0.45em 0.6em; margin: 0 0.25em; line-height: 1; border-radius: 0.35em;\">\n",
       "    squid\n",
       "    <span style=\"font-size: 0.8em; font-weight: bold; line-height: 1; border-radius: 0.35em; vertical-align: middle; margin-left: 0.5rem\">FOOD</span>\n",
       "</mark>\n",
       " monster </div></span>"
      ],
      "text/plain": [
       "<IPython.core.display.HTML object>"
      ]
     },
     "metadata": {},
     "output_type": "display_data"
    },
    {
     "data": {
      "text/html": [
       "<span class=\"tex2jax_ignore\"><div class=\"entities\" style=\"line-height: 2.5; direction: ltr\"> i want one too    is the branch in midv open too?</div></span>"
      ],
      "text/plain": [
       "<IPython.core.display.HTML object>"
      ]
     },
     "metadata": {},
     "output_type": "display_data"
    },
    {
     "data": {
      "text/html": [
       "<span class=\"tex2jax_ignore\"><div class=\"entities\" style=\"line-height: 2.5; direction: ltr\"> aw sorry to hear that </div></span>"
      ],
      "text/plain": [
       "<IPython.core.display.HTML object>"
      ]
     },
     "metadata": {},
     "output_type": "display_data"
    },
    {
     "data": {
      "text/html": [
       "<span class=\"tex2jax_ignore\"><div class=\"entities\" style=\"line-height: 2.5; direction: ltr\">change of plans we ordered macs instead time to hit the books! </div></span>"
      ],
      "text/plain": [
       "<IPython.core.display.HTML object>"
      ]
     },
     "metadata": {},
     "output_type": "display_data"
    },
    {
     "data": {
      "text/html": [
       "<span class=\"tex2jax_ignore\"><div class=\"entities\" style=\"line-height: 2.5; direction: ltr\"> yup </div></span>"
      ],
      "text/plain": [
       "<IPython.core.display.HTML object>"
      ]
     },
     "metadata": {},
     "output_type": "display_data"
    },
    {
     "data": {
      "text/html": [
       "<span class=\"tex2jax_ignore\"><div class=\"entities\" style=\"line-height: 2.5; direction: ltr\"> did you see donnie's tweet stats? almost 700  repliesand no jrk </div></span>"
      ],
      "text/plain": [
       "<IPython.core.display.HTML object>"
      ]
     },
     "metadata": {},
     "output_type": "display_data"
    },
    {
     "data": {
      "text/html": [
       "<span class=\"tex2jax_ignore\"><div class=\"entities\" style=\"line-height: 2.5; direction: ltr\"> nah i haven't received my stimulus yet </div></span>"
      ],
      "text/plain": [
       "<IPython.core.display.HTML object>"
      ]
     },
     "metadata": {},
     "output_type": "display_data"
    },
    {
     "data": {
      "text/html": [
       "<span class=\"tex2jax_ignore\"><div class=\"entities\" style=\"line-height: 2.5; direction: ltr\"> i just seen ur tweet  plz write bak if u get this i havnt got one reply bak </div></span>"
      ],
      "text/plain": [
       "<IPython.core.display.HTML object>"
      ]
     },
     "metadata": {},
     "output_type": "display_data"
    },
    {
     "data": {
      "text/html": [
       "<span class=\"tex2jax_ignore\"><div class=\"entities\" style=\"line-height: 2.5; direction: ltr\"> awwwww and you were trying to go to sleep 3 hours ago </div></span>"
      ],
      "text/plain": [
       "<IPython.core.display.HTML object>"
      ]
     },
     "metadata": {},
     "output_type": "display_data"
    },
    {
     "data": {
      "text/html": [
       "<span class=\"tex2jax_ignore\"><div class=\"entities\" style=\"line-height: 2.5; direction: ltr\"> i'm so sorry to hear that  it's always sad when we lose those close to us as we loved them</div></span>"
      ],
      "text/plain": [
       "<IPython.core.display.HTML object>"
      ]
     },
     "metadata": {},
     "output_type": "display_data"
    },
    {
     "data": {
      "text/html": [
       "<span class=\"tex2jax_ignore\"><div class=\"entities\" style=\"line-height: 2.5; direction: ltr\">cant sleep but im still feelin like a piece of shit </div></span>"
      ],
      "text/plain": [
       "<IPython.core.display.HTML object>"
      ]
     },
     "metadata": {},
     "output_type": "display_data"
    },
    {
     "data": {
      "text/html": [
       "<span class=\"tex2jax_ignore\"><div class=\"entities\" style=\"line-height: 2.5; direction: ltr\"> oh  my sympathies it's a hard decision i always hope my old border collie will go in her sleep she's 14 too *hug*</div></span>"
      ],
      "text/plain": [
       "<IPython.core.display.HTML object>"
      ]
     },
     "metadata": {},
     "output_type": "display_data"
    },
    {
     "data": {
      "text/html": [
       "<span class=\"tex2jax_ignore\"><div class=\"entities\" style=\"line-height: 2.5; direction: ltr\"> well there was this really cool part where i wont spoil it </div></span>"
      ],
      "text/plain": [
       "<IPython.core.display.HTML object>"
      ]
     },
     "metadata": {},
     "output_type": "display_data"
    },
    {
     "data": {
      "text/html": [
       "<span class=\"tex2jax_ignore\"><div class=\"entities\" style=\"line-height: 2.5; direction: ltr\"> i'm doing the time warp without you and am sad </div></span>"
      ],
      "text/plain": [
       "<IPython.core.display.HTML object>"
      ]
     },
     "metadata": {},
     "output_type": "display_data"
    },
    {
     "data": {
      "text/html": [
       "<span class=\"tex2jax_ignore\"><div class=\"entities\" style=\"line-height: 2.5; direction: ltr\"> this is true lol but it's still a slap in the face after such a warm end of march </div></span>"
      ],
      "text/plain": [
       "<IPython.core.display.HTML object>"
      ]
     },
     "metadata": {},
     "output_type": "display_data"
    },
    {
     "data": {
      "text/html": [
       "<span class=\"tex2jax_ignore\"><div class=\"entities\" style=\"line-height: 2.5; direction: ltr\">i hate converting movies just to put em on my itouch </div></span>"
      ],
      "text/plain": [
       "<IPython.core.display.HTML object>"
      ]
     },
     "metadata": {},
     "output_type": "display_data"
    },
    {
     "data": {
      "text/html": [
       "<span class=\"tex2jax_ignore\"><div class=\"entities\" style=\"line-height: 2.5; direction: ltr\">gross i have a pimple </div></span>"
      ],
      "text/plain": [
       "<IPython.core.display.HTML object>"
      ]
     },
     "metadata": {},
     "output_type": "display_data"
    },
    {
     "data": {
      "text/html": [
       "<span class=\"tex2jax_ignore\"><div class=\"entities\" style=\"line-height: 2.5; direction: ltr\"> yea  ma'naaaaaaaaaaaaaaaaaaaam (marwan accent) lol</div></span>"
      ],
      "text/plain": [
       "<IPython.core.display.HTML object>"
      ]
     },
     "metadata": {},
     "output_type": "display_data"
    },
    {
     "data": {
      "text/html": [
       "<span class=\"tex2jax_ignore\"><div class=\"entities\" style=\"line-height: 2.5; direction: ltr\">one less follower tonight </div></span>"
      ],
      "text/plain": [
       "<IPython.core.display.HTML object>"
      ]
     },
     "metadata": {},
     "output_type": "display_data"
    },
    {
     "data": {
      "text/html": [
       "<span class=\"tex2jax_ignore\"><div class=\"entities\" style=\"line-height: 2.5; direction: ltr\"> so did your mom last night  brb while i figure out whether i just burned you or myself the most</div></span>"
      ],
      "text/plain": [
       "<IPython.core.display.HTML object>"
      ]
     },
     "metadata": {},
     "output_type": "display_data"
    },
    {
     "data": {
      "text/html": [
       "<span class=\"tex2jax_ignore\"><div class=\"entities\" style=\"line-height: 2.5; direction: ltr\">i feel like i am the only &amp;quot;twitterer&amp;quot; not on tweetdeck </div></span>"
      ],
      "text/plain": [
       "<IPython.core.display.HTML object>"
      ]
     },
     "metadata": {},
     "output_type": "display_data"
    },
    {
     "data": {
      "text/html": [
       "<span class=\"tex2jax_ignore\"><div class=\"entities\" style=\"line-height: 2.5; direction: ltr\"> he has karate tournament in 8 weeks  </div></span>"
      ],
      "text/plain": [
       "<IPython.core.display.HTML object>"
      ]
     },
     "metadata": {},
     "output_type": "display_data"
    },
    {
     "data": {
      "text/html": [
       "<span class=\"tex2jax_ignore\"><div class=\"entities\" style=\"line-height: 2.5; direction: ltr\">going to sleep can't be up until 1am againand no i didn't finish my statistics homework! </div></span>"
      ],
      "text/plain": [
       "<IPython.core.display.HTML object>"
      ]
     },
     "metadata": {},
     "output_type": "display_data"
    },
    {
     "data": {
      "text/html": [
       "<span class=\"tex2jax_ignore\"><div class=\"entities\" style=\"line-height: 2.5; direction: ltr\">north carolina baby!! aint nothin \n",
       "<mark class=\"entity\" style=\"background: #ddd; padding: 0.45em 0.6em; margin: 0 0.25em; line-height: 1; border-radius: 0.35em;\">\n",
       "    stopping\n",
       "    <span style=\"font-size: 0.8em; font-weight: bold; line-height: 1; border-radius: 0.35em; vertical-align: middle; margin-left: 0.5rem\">FOOD</span>\n",
       "</mark>\n",
       " them but the nba draft </div></span>"
      ],
      "text/plain": [
       "<IPython.core.display.HTML object>"
      ]
     },
     "metadata": {},
     "output_type": "display_data"
    },
    {
     "data": {
      "text/html": [
       "<span class=\"tex2jax_ignore\"><div class=\"entities\" style=\"line-height: 2.5; direction: ltr\">can't sleep again </div></span>"
      ],
      "text/plain": [
       "<IPython.core.display.HTML object>"
      ]
     },
     "metadata": {},
     "output_type": "display_data"
    },
    {
     "data": {
      "text/html": [
       "<span class=\"tex2jax_ignore\"><div class=\"entities\" style=\"line-height: 2.5; direction: ltr\">i reaaly miss john mayer's twitters  fuck rude people remove him if you don't like his tweets bitchfucks</div></span>"
      ],
      "text/plain": [
       "<IPython.core.display.HTML object>"
      ]
     },
     "metadata": {},
     "output_type": "display_data"
    },
    {
     "data": {
      "text/html": [
       "<span class=\"tex2jax_ignore\"><div class=\"entities\" style=\"line-height: 2.5; direction: ltr\">is going to have a late one at mqu today </div></span>"
      ],
      "text/plain": [
       "<IPython.core.display.HTML object>"
      ]
     },
     "metadata": {},
     "output_type": "display_data"
    },
    {
     "data": {
      "text/html": [
       "<span class=\"tex2jax_ignore\"><div class=\"entities\" style=\"line-height: 2.5; direction: ltr\">im so tired of worki need a life </div></span>"
      ],
      "text/plain": [
       "<IPython.core.display.HTML object>"
      ]
     },
     "metadata": {},
     "output_type": "display_data"
    },
    {
     "data": {
      "text/html": [
       "<span class=\"tex2jax_ignore\"><div class=\"entities\" style=\"line-height: 2.5; direction: ltr\">just leavin work my feet hurt </div></span>"
      ],
      "text/plain": [
       "<IPython.core.display.HTML object>"
      ]
     },
     "metadata": {},
     "output_type": "display_data"
    },
    {
     "data": {
      "text/html": [
       "<span class=\"tex2jax_ignore\"><div class=\"entities\" style=\"line-height: 2.5; direction: ltr\"> that was so sad and unexpected  i totally cried haha</div></span>"
      ],
      "text/plain": [
       "<IPython.core.display.HTML object>"
      ]
     },
     "metadata": {},
     "output_type": "display_data"
    },
    {
     "data": {
      "text/html": [
       "<span class=\"tex2jax_ignore\"><div class=\"entities\" style=\"line-height: 2.5; direction: ltr\">superneej: morning! bah car won't start waiting for the anwb </div></span>"
      ],
      "text/plain": [
       "<IPython.core.display.HTML object>"
      ]
     },
     "metadata": {},
     "output_type": "display_data"
    },
    {
     "data": {
      "text/html": [
       "<span class=\"tex2jax_ignore\"><div class=\"entities\" style=\"line-height: 2.5; direction: ltr\">still doing my homework!!! </div></span>"
      ],
      "text/plain": [
       "<IPython.core.display.HTML object>"
      ]
     },
     "metadata": {},
     "output_type": "display_data"
    },
    {
     "data": {
      "text/html": [
       "<span class=\"tex2jax_ignore\"><div class=\"entities\" style=\"line-height: 2.5; direction: ltr\">a little sad </div></span>"
      ],
      "text/plain": [
       "<IPython.core.display.HTML object>"
      ]
     },
     "metadata": {},
     "output_type": "display_data"
    },
    {
     "data": {
      "text/html": [
       "<span class=\"tex2jax_ignore\"><div class=\"entities\" style=\"line-height: 2.5; direction: ltr\"> my mom and dad both get up around 6too early for me </div></span>"
      ],
      "text/plain": [
       "<IPython.core.display.HTML object>"
      ]
     },
     "metadata": {},
     "output_type": "display_data"
    },
    {
     "data": {
      "text/html": [
       "<span class=\"tex2jax_ignore\"><div class=\"entities\" style=\"line-height: 2.5; direction: ltr\">should've been asleep two hours ago </div></span>"
      ],
      "text/plain": [
       "<IPython.core.display.HTML object>"
      ]
     },
     "metadata": {},
     "output_type": "display_data"
    },
    {
     "data": {
      "text/html": [
       "<span class=\"tex2jax_ignore\"><div class=\"entities\" style=\"line-height: 2.5; direction: ltr\"> so sorry to hear about your dog </div></span>"
      ],
      "text/plain": [
       "<IPython.core.display.HTML object>"
      ]
     },
     "metadata": {},
     "output_type": "display_data"
    },
    {
     "data": {
      "text/html": [
       "<span class=\"tex2jax_ignore\"><div class=\"entities\" style=\"line-height: 2.5; direction: ltr\">funny how the little things make me homesick criminals breakn n2 a brownstone on lawnord ci made me misty </div></span>"
      ],
      "text/plain": [
       "<IPython.core.display.HTML object>"
      ]
     },
     "metadata": {},
     "output_type": "display_data"
    },
    {
     "data": {
      "text/html": [
       "<span class=\"tex2jax_ignore\"><div class=\"entities\" style=\"line-height: 2.5; direction: ltr\"> yeah great vid i had the 12&amp;quot; single but sold it a few years ago </div></span>"
      ],
      "text/plain": [
       "<IPython.core.display.HTML object>"
      ]
     },
     "metadata": {},
     "output_type": "display_data"
    },
    {
     "data": {
      "text/html": [
       "<span class=\"tex2jax_ignore\"><div class=\"entities\" style=\"line-height: 2.5; direction: ltr\">im on val's mac in iitsc clubroom still sweating </div></span>"
      ],
      "text/plain": [
       "<IPython.core.display.HTML object>"
      ]
     },
     "metadata": {},
     "output_type": "display_data"
    },
    {
     "data": {
      "text/html": [
       "<span class=\"tex2jax_ignore\"><div class=\"entities\" style=\"line-height: 2.5; direction: ltr\"> awww so sad!!!  i'm so sorry!!</div></span>"
      ],
      "text/plain": [
       "<IPython.core.display.HTML object>"
      ]
     },
     "metadata": {},
     "output_type": "display_data"
    },
    {
     "data": {
      "text/html": [
       "<span class=\"tex2jax_ignore\"><div class=\"entities\" style=\"line-height: 2.5; direction: ltr\">updatingffe  that gives me nothing to do for a good twenty minutes!</div></span>"
      ],
      "text/plain": [
       "<IPython.core.display.HTML object>"
      ]
     },
     "metadata": {},
     "output_type": "display_data"
    },
    {
     "data": {
      "text/html": [
       "<span class=\"tex2jax_ignore\"><div class=\"entities\" style=\"line-height: 2.5; direction: ltr\">hot compress not rily workng for pulled muscle  gng to bed good night</div></span>"
      ],
      "text/plain": [
       "<IPython.core.display.HTML object>"
      ]
     },
     "metadata": {},
     "output_type": "display_data"
    },
    {
     "data": {
      "text/html": [
       "<span class=\"tex2jax_ignore\"><div class=\"entities\" style=\"line-height: 2.5; direction: ltr\">have an invite for &amp;quot;healthy dining&amp;quot; session at ashok hotel today with exec chef rchopra but damn workload  will have to skip it! </div></span>"
      ],
      "text/plain": [
       "<IPython.core.display.HTML object>"
      ]
     },
     "metadata": {},
     "output_type": "display_data"
    },
    {
     "data": {
      "text/html": [
       "<span class=\"tex2jax_ignore\"><div class=\"entities\" style=\"line-height: 2.5; direction: ltr\"> i'm so sorry to hear about your dog   wishing you happier days to come!</div></span>"
      ],
      "text/plain": [
       "<IPython.core.display.HTML object>"
      ]
     },
     "metadata": {},
     "output_type": "display_data"
    },
    {
     "data": {
      "text/html": [
       "<span class=\"tex2jax_ignore\"><div class=\"entities\" style=\"line-height: 2.5; direction: ltr\"> i miss 'em too </div></span>"
      ],
      "text/plain": [
       "<IPython.core.display.HTML object>"
      ]
     },
     "metadata": {},
     "output_type": "display_data"
    },
    {
     "data": {
      "text/html": [
       "<span class=\"tex2jax_ignore\"><div class=\"entities\" style=\"line-height: 2.5; direction: ltr\"> cool  i have no tweet apps  for my razr 2</div></span>"
      ],
      "text/plain": [
       "<IPython.core.display.HTML object>"
      ]
     },
     "metadata": {},
     "output_type": "display_data"
    },
    {
     "data": {
      "text/html": [
       "<span class=\"tex2jax_ignore\"><div class=\"entities\" style=\"line-height: 2.5; direction: ltr\">i'm off too bed i gotta wake up hella early tomorrow morning </div></span>"
      ],
      "text/plain": [
       "<IPython.core.display.HTML object>"
      ]
     },
     "metadata": {},
     "output_type": "display_data"
    },
    {
     "data": {
      "text/html": [
       "<span class=\"tex2jax_ignore\"><div class=\"entities\" style=\"line-height: 2.5; direction: ltr\">still procrastinating i hate organizing my clothes  there's just so much</div></span>"
      ],
      "text/plain": [
       "<IPython.core.display.HTML object>"
      ]
     },
     "metadata": {},
     "output_type": "display_data"
    },
    {
     "data": {
      "text/html": [
       "<span class=\"tex2jax_ignore\"><div class=\"entities\" style=\"line-height: 2.5; direction: ltr\">just been playing with the new mobbler v040 and it adds some great new features but won't play music on my e71 like v035 did </div></span>"
      ],
      "text/plain": [
       "<IPython.core.display.HTML object>"
      ]
     },
     "metadata": {},
     "output_type": "display_data"
    },
    {
     "data": {
      "text/html": [
       "<span class=\"tex2jax_ignore\"><div class=\"entities\" style=\"line-height: 2.5; direction: ltr\"> oh but there's one bestie missing </div></span>"
      ],
      "text/plain": [
       "<IPython.core.display.HTML object>"
      ]
     },
     "metadata": {},
     "output_type": "display_data"
    },
    {
     "data": {
      "text/html": [
       "<span class=\"tex2jax_ignore\"><div class=\"entities\" style=\"line-height: 2.5; direction: ltr\"> time to come back to flawda for double \n",
       "<mark class=\"entity\" style=\"background: #ddd; padding: 0.45em 0.6em; margin: 0 0.25em; line-height: 1; border-radius: 0.35em;\">\n",
       "    dates\n",
       "    <span style=\"font-size: 0.8em; font-weight: bold; line-height: 1; border-radius: 0.35em; vertical-align: middle; margin-left: 0.5rem\">FOOD</span>\n",
       "</mark>\n",
       "! no seriously i'm sorry to hear that </div></span>"
      ],
      "text/plain": [
       "<IPython.core.display.HTML object>"
      ]
     },
     "metadata": {},
     "output_type": "display_data"
    },
    {
     "data": {
      "text/html": [
       "<span class=\"tex2jax_ignore\"><div class=\"entities\" style=\"line-height: 2.5; direction: ltr\">i'm up way to late to be working for a client 12:10 am  #fb</div></span>"
      ],
      "text/plain": [
       "<IPython.core.display.HTML object>"
      ]
     },
     "metadata": {},
     "output_type": "display_data"
    },
    {
     "data": {
      "text/html": [
       "<span class=\"tex2jax_ignore\"><div class=\"entities\" style=\"line-height: 2.5; direction: ltr\">blegghhhh i have to go to work </div></span>"
      ],
      "text/plain": [
       "<IPython.core.display.HTML object>"
      ]
     },
     "metadata": {},
     "output_type": "display_data"
    },
    {
     "data": {
      "text/html": [
       "<span class=\"tex2jax_ignore\"><div class=\"entities\" style=\"line-height: 2.5; direction: ltr\">back at work   john muir dr </div></span>"
      ],
      "text/plain": [
       "<IPython.core.display.HTML object>"
      ]
     },
     "metadata": {},
     "output_type": "display_data"
    },
    {
     "data": {
      "text/html": [
       "<span class=\"tex2jax_ignore\"><div class=\"entities\" style=\"line-height: 2.5; direction: ltr\"> i emailed you yesterday and u never responded </div></span>"
      ],
      "text/plain": [
       "<IPython.core.display.HTML object>"
      ]
     },
     "metadata": {},
     "output_type": "display_data"
    },
    {
     "data": {
      "text/html": [
       "<span class=\"tex2jax_ignore\"><div class=\"entities\" style=\"line-height: 2.5; direction: ltr\">it's going to be a long year for a's fans </div></span>"
      ],
      "text/plain": [
       "<IPython.core.display.HTML object>"
      ]
     },
     "metadata": {},
     "output_type": "display_data"
    },
    {
     "data": {
      "text/html": [
       "<span class=\"tex2jax_ignore\"><div class=\"entities\" style=\"line-height: 2.5; direction: ltr\">just got done watching the new house episodedefinitely one of the saddest episodes ever </div></span>"
      ],
      "text/plain": [
       "<IPython.core.display.HTML object>"
      ]
     },
     "metadata": {},
     "output_type": "display_data"
    },
    {
     "data": {
      "text/html": [
       "<span class=\"tex2jax_ignore\"><div class=\"entities\" style=\"line-height: 2.5; direction: ltr\">man taxes suck  i'm horrified that i did something wrong on them  turbotax decided to keep around a lot of the stuff i turned off  </div></span>"
      ],
      "text/plain": [
       "<IPython.core.display.HTML object>"
      ]
     },
     "metadata": {},
     "output_type": "display_data"
    },
    {
     "data": {
      "text/html": [
       "<span class=\"tex2jax_ignore\"><div class=\"entities\" style=\"line-height: 2.5; direction: ltr\">sleep time  tomorrow is gonna suck </div></span>"
      ],
      "text/plain": [
       "<IPython.core.display.HTML object>"
      ]
     },
     "metadata": {},
     "output_type": "display_data"
    },
    {
     "data": {
      "text/html": [
       "<span class=\"tex2jax_ignore\"><div class=\"entities\" style=\"line-height: 2.5; direction: ltr\">wtf not kutner!  oh i'm so pissed  house  i mean really wtf   </div></span>"
      ],
      "text/plain": [
       "<IPython.core.display.HTML object>"
      ]
     },
     "metadata": {},
     "output_type": "display_data"
    },
    {
     "data": {
      "text/html": [
       "<span class=\"tex2jax_ignore\"><div class=\"entities\" style=\"line-height: 2.5; direction: ltr\"> i know i dont know why i said that </div></span>"
      ],
      "text/plain": [
       "<IPython.core.display.HTML object>"
      ]
     },
     "metadata": {},
     "output_type": "display_data"
    },
    {
     "data": {
      "text/html": [
       "<span class=\"tex2jax_ignore\"><div class=\"entities\" style=\"line-height: 2.5; direction: ltr\">cash rules everything around me </div></span>"
      ],
      "text/plain": [
       "<IPython.core.display.HTML object>"
      ]
     },
     "metadata": {},
     "output_type": "display_data"
    },
    {
     "data": {
      "text/html": [
       "<span class=\"tex2jax_ignore\"><div class=\"entities\" style=\"line-height: 2.5; direction: ltr\">just picked up some \n",
       "<mark class=\"entity\" style=\"background: #ddd; padding: 0.45em 0.6em; margin: 0 0.25em; line-height: 1; border-radius: 0.35em;\">\n",
       "    oats\n",
       "    <span style=\"font-size: 0.8em; font-weight: bold; line-height: 1; border-radius: 0.35em; vertical-align: middle; margin-left: 0.5rem\">FOOD</span>\n",
       "</mark>\n",
       " from the market to eat for breakfast with my boy  now time to do work at usc late night </div></span>"
      ],
      "text/plain": [
       "<IPython.core.display.HTML object>"
      ]
     },
     "metadata": {},
     "output_type": "display_data"
    },
    {
     "data": {
      "text/html": [
       "<span class=\"tex2jax_ignore\"><div class=\"entities\" style=\"line-height: 2.5; direction: ltr\">i feel sick  too much icecream</div></span>"
      ],
      "text/plain": [
       "<IPython.core.display.HTML object>"
      ]
     },
     "metadata": {},
     "output_type": "display_data"
    },
    {
     "data": {
      "text/html": [
       "<span class=\"tex2jax_ignore\"><div class=\"entities\" style=\"line-height: 2.5; direction: ltr\">  this computer doesn't have shockwaveblah  no account yet</div></span>"
      ],
      "text/plain": [
       "<IPython.core.display.HTML object>"
      ]
     },
     "metadata": {},
     "output_type": "display_data"
    },
    {
     "data": {
      "text/html": [
       "<span class=\"tex2jax_ignore\"><div class=\"entities\" style=\"line-height: 2.5; direction: ltr\"> awww wish i could go! but its in sydney </div></span>"
      ],
      "text/plain": [
       "<IPython.core.display.HTML object>"
      ]
     },
     "metadata": {},
     "output_type": "display_data"
    },
    {
     "data": {
      "text/html": [
       "<span class=\"tex2jax_ignore\"><div class=\"entities\" style=\"line-height: 2.5; direction: ltr\"> hahaha suriously! i feel like everyone knows this show is a joke except lc! </div></span>"
      ],
      "text/plain": [
       "<IPython.core.display.HTML object>"
      ]
     },
     "metadata": {},
     "output_type": "display_data"
    },
    {
     "data": {
      "text/html": [
       "<span class=\"tex2jax_ignore\"><div class=\"entities\" style=\"line-height: 2.5; direction: ltr\">i just can't spell today i totally suck </div></span>"
      ],
      "text/plain": [
       "<IPython.core.display.HTML object>"
      ]
     },
     "metadata": {},
     "output_type": "display_data"
    },
    {
     "data": {
      "text/html": [
       "<span class=\"tex2jax_ignore\"><div class=\"entities\" style=\"line-height: 2.5; direction: ltr\">are you vaccinated against chickenpox?should i vaccinate my 3 yr old?i am so confused about this damn thing </div></span>"
      ],
      "text/plain": [
       "<IPython.core.display.HTML object>"
      ]
     },
     "metadata": {},
     "output_type": "display_data"
    },
    {
     "data": {
      "text/html": [
       "<span class=\"tex2jax_ignore\"><div class=\"entities\" style=\"line-height: 2.5; direction: ltr\"> school  at least last day!!!!!!</div></span>"
      ],
      "text/plain": [
       "<IPython.core.display.HTML object>"
      ]
     },
     "metadata": {},
     "output_type": "display_data"
    },
    {
     "data": {
      "text/html": [
       "<span class=\"tex2jax_ignore\"><div class=\"entities\" style=\"line-height: 2.5; direction: ltr\">yawwwn! gotta get up early tomorrow  who's ready for the weekend???</div></span>"
      ],
      "text/plain": [
       "<IPython.core.display.HTML object>"
      ]
     },
     "metadata": {},
     "output_type": "display_data"
    },
    {
     "data": {
      "text/html": [
       "<span class=\"tex2jax_ignore\"><div class=\"entities\" style=\"line-height: 2.5; direction: ltr\">i miss being at home for calving seasonsad that black one died this morning  wish i had some bottle calves!</div></span>"
      ],
      "text/plain": [
       "<IPython.core.display.HTML object>"
      ]
     },
     "metadata": {},
     "output_type": "display_data"
    },
    {
     "data": {
      "text/html": [
       "<span class=\"tex2jax_ignore\"><div class=\"entities\" style=\"line-height: 2.5; direction: ltr\"> i so sorry for your loss my brother dog sam is sick w/cushings disease </div></span>"
      ],
      "text/plain": [
       "<IPython.core.display.HTML object>"
      ]
     },
     "metadata": {},
     "output_type": "display_data"
    },
    {
     "data": {
      "text/html": [
       "<span class=\"tex2jax_ignore\"><div class=\"entities\" style=\"line-height: 2.5; direction: ltr\">back to work i get to spend the next 8 hours alone in the dispatch room </div></span>"
      ],
      "text/plain": [
       "<IPython.core.display.HTML object>"
      ]
     },
     "metadata": {},
     "output_type": "display_data"
    },
    {
     "data": {
      "text/html": [
       "<span class=\"tex2jax_ignore\"><div class=\"entities\" style=\"line-height: 2.5; direction: ltr\">there's a new kind of starburst: favereds sounds fab bc cherry and strawberry are my fav red's but they added watermellon and its yucky </div></span>"
      ],
      "text/plain": [
       "<IPython.core.display.HTML object>"
      ]
     },
     "metadata": {},
     "output_type": "display_data"
    },
    {
     "data": {
      "text/html": [
       "<span class=\"tex2jax_ignore\"><div class=\"entities\" style=\"line-height: 2.5; direction: ltr\">well so much for being productive on my 2 days off from angels </div></span>"
      ],
      "text/plain": [
       "<IPython.core.display.HTML object>"
      ]
     },
     "metadata": {},
     "output_type": "display_data"
    },
    {
     "data": {
      "text/html": [
       "<span class=\"tex2jax_ignore\"><div class=\"entities\" style=\"line-height: 2.5; direction: ltr\"> oh gee  insomnia sucks   have you tried melatonin?</div></span>"
      ],
      "text/plain": [
       "<IPython.core.display.HTML object>"
      ]
     },
     "metadata": {},
     "output_type": "display_data"
    },
    {
     "data": {
      "text/html": [
       "<span class=\"tex2jax_ignore\"><div class=\"entities\" style=\"line-height: 2.5; direction: ltr\"> good to hear that we have support in netbeans but then its netbeans you know </div></span>"
      ],
      "text/plain": [
       "<IPython.core.display.HTML object>"
      ]
     },
     "metadata": {},
     "output_type": "display_data"
    },
    {
     "data": {
      "text/html": [
       "<span class=\"tex2jax_ignore\"><div class=\"entities\" style=\"line-height: 2.5; direction: ltr\"> i wish we would get it the same time at the rest of world unfornately i am in cairo and have to wait for mtva to play it </div></span>"
      ],
      "text/plain": [
       "<IPython.core.display.HTML object>"
      ]
     },
     "metadata": {},
     "output_type": "display_data"
    },
    {
     "data": {
      "text/html": [
       "<span class=\"tex2jax_ignore\"><div class=\"entities\" style=\"line-height: 2.5; direction: ltr\">heartbroken over little sandra prayers are with the family </div></span>"
      ],
      "text/plain": [
       "<IPython.core.display.HTML object>"
      ]
     },
     "metadata": {},
     "output_type": "display_data"
    },
    {
     "data": {
      "text/html": [
       "<span class=\"tex2jax_ignore\"><div class=\"entities\" style=\"line-height: 2.5; direction: ltr\"> i'm at 900 words it's all can do  i'll finish tomorrow maybe</div></span>"
      ],
      "text/plain": [
       "<IPython.core.display.HTML object>"
      ]
     },
     "metadata": {},
     "output_type": "display_data"
    },
    {
     "data": {
      "text/html": [
       "<span class=\"tex2jax_ignore\"><div class=\"entities\" style=\"line-height: 2.5; direction: ltr\"> how come ur background covers the screen but mine is in the corner? </div></span>"
      ],
      "text/plain": [
       "<IPython.core.display.HTML object>"
      ]
     },
     "metadata": {},
     "output_type": "display_data"
    },
    {
     "data": {
      "text/html": [
       "<span class=\"tex2jax_ignore\"><div class=\"entities\" style=\"line-height: 2.5; direction: ltr\">wrote exactly three lines of dialogue tonight then gave up </div></span>"
      ],
      "text/plain": [
       "<IPython.core.display.HTML object>"
      ]
     },
     "metadata": {},
     "output_type": "display_data"
    },
    {
     "data": {
      "text/html": [
       "<span class=\"tex2jax_ignore\"><div class=\"entities\" style=\"line-height: 2.5; direction: ltr\"> my only complaint about facebook is they've changed it so much it's confusing </div></span>"
      ],
      "text/plain": [
       "<IPython.core.display.HTML object>"
      ]
     },
     "metadata": {},
     "output_type": "display_data"
    },
    {
     "data": {
      "text/html": [
       "<span class=\"tex2jax_ignore\"><div class=\"entities\" style=\"line-height: 2.5; direction: ltr\">sliced my finger </div></span>"
      ],
      "text/plain": [
       "<IPython.core.display.HTML object>"
      ]
     },
     "metadata": {},
     "output_type": "display_data"
    },
    {
     "data": {
      "text/html": [
       "<span class=\"tex2jax_ignore\"><div class=\"entities\" style=\"line-height: 2.5; direction: ltr\">going thru town and traffic on bypass is stink </div></span>"
      ],
      "text/plain": [
       "<IPython.core.display.HTML object>"
      ]
     },
     "metadata": {},
     "output_type": "display_data"
    },
    {
     "data": {
      "text/html": [
       "<span class=\"tex2jax_ignore\"><div class=\"entities\" style=\"line-height: 2.5; direction: ltr\">ugh can't sleep  wish i had a good cuddle to  make me ass out </div></span>"
      ],
      "text/plain": [
       "<IPython.core.display.HTML object>"
      ]
     },
     "metadata": {},
     "output_type": "display_data"
    },
    {
     "data": {
      "text/html": [
       "<span class=\"tex2jax_ignore\"><div class=\"entities\" style=\"line-height: 2.5; direction: ltr\">i hate when software update downloads updates without telling me i never know what's downloading when it is </div></span>"
      ],
      "text/plain": [
       "<IPython.core.display.HTML object>"
      ]
     },
     "metadata": {},
     "output_type": "display_data"
    },
    {
     "data": {
      "text/html": [
       "<span class=\"tex2jax_ignore\"><div class=\"entities\" style=\"line-height: 2.5; direction: ltr\">went to ihop again great for a diet   at least there were no kung foo pancakes this time rachel</div></span>"
      ],
      "text/plain": [
       "<IPython.core.display.HTML object>"
      ]
     },
     "metadata": {},
     "output_type": "display_data"
    },
    {
     "data": {
      "text/html": [
       "<span class=\"tex2jax_ignore\"><div class=\"entities\" style=\"line-height: 2.5; direction: ltr\">the internet is hating me night i s'pose </div></span>"
      ],
      "text/plain": [
       "<IPython.core.display.HTML object>"
      ]
     },
     "metadata": {},
     "output_type": "display_data"
    },
    {
     "data": {
      "text/html": [
       "<span class=\"tex2jax_ignore\"><div class=\"entities\" style=\"line-height: 2.5; direction: ltr\"> i'm so jealous  i missed all of opening day this year </div></span>"
      ],
      "text/plain": [
       "<IPython.core.display.HTML object>"
      ]
     },
     "metadata": {},
     "output_type": "display_data"
    },
    {
     "data": {
      "text/html": [
       "<span class=\"tex2jax_ignore\"><div class=\"entities\" style=\"line-height: 2.5; direction: ltr\">it's so cruel having to wait for reviews to come in  so far it looks like star trek will be the best film of the year!</div></span>"
      ],
      "text/plain": [
       "<IPython.core.display.HTML object>"
      ]
     },
     "metadata": {},
     "output_type": "display_data"
    },
    {
     "data": {
      "text/html": [
       "<span class=\"tex2jax_ignore\"><div class=\"entities\" style=\"line-height: 2.5; direction: ltr\">debating if i should just shower now so i can sleep a little later tomorrow </div></span>"
      ],
      "text/plain": [
       "<IPython.core.display.HTML object>"
      ]
     },
     "metadata": {},
     "output_type": "display_data"
    },
    {
     "data": {
      "text/html": [
       "<span class=\"tex2jax_ignore\"><div class=\"entities\" style=\"line-height: 2.5; direction: ltr\">my stress always culminates with physical pain  </div></span>"
      ],
      "text/plain": [
       "<IPython.core.display.HTML object>"
      ]
     },
     "metadata": {},
     "output_type": "display_data"
    },
    {
     "data": {
      "text/html": [
       "<span class=\"tex2jax_ignore\"><div class=\"entities\" style=\"line-height: 2.5; direction: ltr\">need to sleep but cant </div></span>"
      ],
      "text/plain": [
       "<IPython.core.display.HTML object>"
      ]
     },
     "metadata": {},
     "output_type": "display_data"
    },
    {
     "data": {
      "text/html": [
       "<span class=\"tex2jax_ignore\"><div class=\"entities\" style=\"line-height: 2.5; direction: ltr\">my little pinky finger hurts so much </div></span>"
      ],
      "text/plain": [
       "<IPython.core.display.HTML object>"
      ]
     },
     "metadata": {},
     "output_type": "display_data"
    },
    {
     "data": {
      "text/html": [
       "<span class=\"tex2jax_ignore\"><div class=\"entities\" style=\"line-height: 2.5; direction: ltr\"> i'm sorry your gift card ran out that suck </div></span>"
      ],
      "text/plain": [
       "<IPython.core.display.HTML object>"
      ]
     },
     "metadata": {},
     "output_type": "display_data"
    },
    {
     "data": {
      "text/html": [
       "<span class=\"tex2jax_ignore\"><div class=\"entities\" style=\"line-height: 2.5; direction: ltr\">home for spring break no one is home tho </div></span>"
      ],
      "text/plain": [
       "<IPython.core.display.HTML object>"
      ]
     },
     "metadata": {},
     "output_type": "display_data"
    },
    {
     "data": {
      "text/html": [
       "<span class=\"tex2jax_ignore\"><div class=\"entities\" style=\"line-height: 2.5; direction: ltr\">i accessed oneindiamobi from a google phone (android) it doesn't support indic languages </div></span>"
      ],
      "text/plain": [
       "<IPython.core.display.HTML object>"
      ]
     },
     "metadata": {},
     "output_type": "display_data"
    },
    {
     "data": {
      "text/html": [
       "<span class=\"tex2jax_ignore\"><div class=\"entities\" style=\"line-height: 2.5; direction: ltr\">why does school take over your life so much you don't get sleep anymore   i am still doing school work and have more to do as well</div></span>"
      ],
      "text/plain": [
       "<IPython.core.display.HTML object>"
      ]
     },
     "metadata": {},
     "output_type": "display_data"
    },
    {
     "data": {
      "text/html": [
       "<span class=\"tex2jax_ignore\"><div class=\"entities\" style=\"line-height: 2.5; direction: ltr\"> aw i wish i could! i can't really speak to my yia yia because she doesn't speak english </div></span>"
      ],
      "text/plain": [
       "<IPython.core.display.HTML object>"
      ]
     },
     "metadata": {},
     "output_type": "display_data"
    },
    {
     "data": {
      "text/html": [
       "<span class=\"tex2jax_ignore\"><div class=\"entities\" style=\"line-height: 2.5; direction: ltr\"> no free comp lol </div></span>"
      ],
      "text/plain": [
       "<IPython.core.display.HTML object>"
      ]
     },
     "metadata": {},
     "output_type": "display_data"
    },
    {
     "data": {
      "text/html": [
       "<span class=\"tex2jax_ignore\"><div class=\"entities\" style=\"line-height: 2.5; direction: ltr\">getting ready to clean the house from top to bottom </div></span>"
      ],
      "text/plain": [
       "<IPython.core.display.HTML object>"
      ]
     },
     "metadata": {},
     "output_type": "display_data"
    },
    {
     "data": {
      "text/html": [
       "<span class=\"tex2jax_ignore\"><div class=\"entities\" style=\"line-height: 2.5; direction: ltr\">crying  my friend is moving away tomorrow </div></span>"
      ],
      "text/plain": [
       "<IPython.core.display.HTML object>"
      ]
     },
     "metadata": {},
     "output_type": "display_data"
    },
    {
     "data": {
      "text/html": [
       "<span class=\"tex2jax_ignore\"><div class=\"entities\" style=\"line-height: 2.5; direction: ltr\"> stop nomnoms!!!! you didn't share!  night peoples!!</div></span>"
      ],
      "text/plain": [
       "<IPython.core.display.HTML object>"
      ]
     },
     "metadata": {},
     "output_type": "display_data"
    },
    {
     "data": {
      "text/html": [
       "<span class=\"tex2jax_ignore\"><div class=\"entities\" style=\"line-height: 2.5; direction: ltr\">thinks she is getting a cold that she caught from daddy  oh no my trip would be ruined </div></span>"
      ],
      "text/plain": [
       "<IPython.core.display.HTML object>"
      ]
     },
     "metadata": {},
     "output_type": "display_data"
    },
    {
     "data": {
      "text/html": [
       "<span class=\"tex2jax_ignore\"><div class=\"entities\" style=\"line-height: 2.5; direction: ltr\"> yeah  is it bcoz kal penn is a visiting lecturer somewhere n cant be on the show anymore? im gonna miss him </div></span>"
      ],
      "text/plain": [
       "<IPython.core.display.HTML object>"
      ]
     },
     "metadata": {},
     "output_type": "display_data"
    },
    {
     "data": {
      "text/html": [
       "<span class=\"tex2jax_ignore\"><div class=\"entities\" style=\"line-height: 2.5; direction: ltr\">so the procrastination starts early in the quarter i don't want to reaaaaad and write a paper </div></span>"
      ],
      "text/plain": [
       "<IPython.core.display.HTML object>"
      ]
     },
     "metadata": {},
     "output_type": "display_data"
    },
    {
     "data": {
      "text/html": [
       "<span class=\"tex2jax_ignore\"><div class=\"entities\" style=\"line-height: 2.5; direction: ltr\">what? apparently it's 52 degress at 11pm in washington state i miss winter already </div></span>"
      ],
      "text/plain": [
       "<IPython.core.display.HTML object>"
      ]
     },
     "metadata": {},
     "output_type": "display_data"
    },
    {
     "data": {
      "text/html": [
       "<span class=\"tex2jax_ignore\"><div class=\"entities\" style=\"line-height: 2.5; direction: ltr\">being bored at homee </div></span>"
      ],
      "text/plain": [
       "<IPython.core.display.HTML object>"
      ]
     },
     "metadata": {},
     "output_type": "display_data"
    },
    {
     "data": {
      "text/html": [
       "<span class=\"tex2jax_ignore\"><div class=\"entities\" style=\"line-height: 2.5; direction: ltr\">massage was great i just spilled coke all over my desk  lame watching the simpsons as i've finished all my hills \n",
       "<mark class=\"entity\" style=\"background: #ddd; padding: 0.45em 0.6em; margin: 0 0.25em; line-height: 1; border-radius: 0.35em;\">\n",
       "    dvds\n",
       "    <span style=\"font-size: 0.8em; font-weight: bold; line-height: 1; border-radius: 0.35em; vertical-align: middle; margin-left: 0.5rem\">FOOD</span>\n",
       "</mark>\n",
       "</div></span>"
      ],
      "text/plain": [
       "<IPython.core.display.HTML object>"
      ]
     },
     "metadata": {},
     "output_type": "display_data"
    },
    {
     "data": {
      "text/html": [
       "<span class=\"tex2jax_ignore\"><div class=\"entities\" style=\"line-height: 2.5; direction: ltr\"> i will wait for you at fanclub chat even tough you're not my favorite </div></span>"
      ],
      "text/plain": [
       "<IPython.core.display.HTML object>"
      ]
     },
     "metadata": {},
     "output_type": "display_data"
    },
    {
     "data": {
      "text/html": [
       "<span class=\"tex2jax_ignore\"><div class=\"entities\" style=\"line-height: 2.5; direction: ltr\">has a mild left inner ear infection and its got this irritating &amp;quot;blocked&amp;quot; feeling since sunday </div></span>"
      ],
      "text/plain": [
       "<IPython.core.display.HTML object>"
      ]
     },
     "metadata": {},
     "output_type": "display_data"
    },
    {
     "data": {
      "text/html": [
       "<span class=\"tex2jax_ignore\"><div class=\"entities\" style=\"line-height: 2.5; direction: ltr\"> hey there! nope my cuteness  is away for awhile </div></span>"
      ],
      "text/plain": [
       "<IPython.core.display.HTML object>"
      ]
     },
     "metadata": {},
     "output_type": "display_data"
    },
    {
     "data": {
      "text/html": [
       "<span class=\"tex2jax_ignore\"><div class=\"entities\" style=\"line-height: 2.5; direction: ltr\">it's only tuesday </div></span>"
      ],
      "text/plain": [
       "<IPython.core.display.HTML object>"
      ]
     },
     "metadata": {},
     "output_type": "display_data"
    },
    {
     "data": {
      "text/html": [
       "<span class=\"tex2jax_ignore\"><div class=\"entities\" style=\"line-height: 2.5; direction: ltr\">haha not even yo i just didn't know how to do that  to you on twitter  haha</div></span>"
      ],
      "text/plain": [
       "<IPython.core.display.HTML object>"
      ]
     },
     "metadata": {},
     "output_type": "display_data"
    },
    {
     "data": {
      "text/html": [
       "<span class=\"tex2jax_ignore\"><div class=\"entities\" style=\"line-height: 2.5; direction: ltr\">someones alarm clock or a phone woke me up at 3amstill got my headache from yesterday night </div></span>"
      ],
      "text/plain": [
       "<IPython.core.display.HTML object>"
      ]
     },
     "metadata": {},
     "output_type": "display_data"
    },
    {
     "data": {
      "text/html": [
       "<span class=\"tex2jax_ignore\"><div class=\"entities\" style=\"line-height: 2.5; direction: ltr\"> awww poor puppy is she ok? </div></span>"
      ],
      "text/plain": [
       "<IPython.core.display.HTML object>"
      ]
     },
     "metadata": {},
     "output_type": "display_data"
    },
    {
     "data": {
      "text/html": [
       "<span class=\"tex2jax_ignore\"><div class=\"entities\" style=\"line-height: 2.5; direction: ltr\">i might break down and eat some buffalo wings tomorrow </div></span>"
      ],
      "text/plain": [
       "<IPython.core.display.HTML object>"
      ]
     },
     "metadata": {},
     "output_type": "display_data"
    },
    {
     "data": {
      "text/html": [
       "<span class=\"tex2jax_ignore\"><div class=\"entities\" style=\"line-height: 2.5; direction: ltr\">sittin here w/kayla i really really reallly dislike having a brother  he doesn't know when to stop i'm waiting for the day when one of</div></span>"
      ],
      "text/plain": [
       "<IPython.core.display.HTML object>"
      ]
     },
     "metadata": {},
     "output_type": "display_data"
    },
    {
     "data": {
      "text/html": [
       "<span class=\"tex2jax_ignore\"><div class=\"entities\" style=\"line-height: 2.5; direction: ltr\">fed bokkie too many birthday treatssicko </div></span>"
      ],
      "text/plain": [
       "<IPython.core.display.HTML object>"
      ]
     },
     "metadata": {},
     "output_type": "display_data"
    },
    {
     "data": {
      "text/html": [
       "<span class=\"tex2jax_ignore\"><div class=\"entities\" style=\"line-height: 2.5; direction: ltr\">'s kinda bummed an agency just told me that i didn't have the 'look' that they were going for ladies please help me create the 'look' </div></span>"
      ],
      "text/plain": [
       "<IPython.core.display.HTML object>"
      ]
     },
     "metadata": {},
     "output_type": "display_data"
    },
    {
     "data": {
      "text/html": [
       "<span class=\"tex2jax_ignore\"><div class=\"entities\" style=\"line-height: 2.5; direction: ltr\">work laptop is officially dead  not happy at all </div></span>"
      ],
      "text/plain": [
       "<IPython.core.display.HTML object>"
      ]
     },
     "metadata": {},
     "output_type": "display_data"
    },
    {
     "data": {
      "text/html": [
       "<span class=\"tex2jax_ignore\"><div class=\"entities\" style=\"line-height: 2.5; direction: ltr\">my goodness it's freezing down here !!!!! </div></span>"
      ],
      "text/plain": [
       "<IPython.core.display.HTML object>"
      ]
     },
     "metadata": {},
     "output_type": "display_data"
    },
    {
     "data": {
      "text/html": [
       "<span class=\"tex2jax_ignore\"><div class=\"entities\" style=\"line-height: 2.5; direction: ltr\"> why do you put up with him!!!!!  you should listen to your mom </div></span>"
      ],
      "text/plain": [
       "<IPython.core.display.HTML object>"
      ]
     },
     "metadata": {},
     "output_type": "display_data"
    },
    {
     "data": {
      "text/html": [
       "<span class=\"tex2jax_ignore\"><div class=\"entities\" style=\"line-height: 2.5; direction: ltr\">is stucked in paris and can't even travel into france (for work) </div></span>"
      ],
      "text/plain": [
       "<IPython.core.display.HTML object>"
      ]
     },
     "metadata": {},
     "output_type": "display_data"
    },
    {
     "data": {
      "text/html": [
       "<span class=\"tex2jax_ignore\"><div class=\"entities\" style=\"line-height: 2.5; direction: ltr\"> i don't think there's one close by last time i checked the closest one was 70 miles away! </div></span>"
      ],
      "text/plain": [
       "<IPython.core.display.HTML object>"
      ]
     },
     "metadata": {},
     "output_type": "display_data"
    },
    {
     "data": {
      "text/html": [
       "<span class=\"tex2jax_ignore\"><div class=\"entities\" style=\"line-height: 2.5; direction: ltr\">aaaaand back to my literature review  at least i have a friendly cup of \n",
       "<mark class=\"entity\" style=\"background: #ddd; padding: 0.45em 0.6em; margin: 0 0.25em; line-height: 1; border-radius: 0.35em;\">\n",
       "    coffee\n",
       "    <span style=\"font-size: 0.8em; font-weight: bold; line-height: 1; border-radius: 0.35em; vertical-align: middle; margin-left: 0.5rem\">FOOD</span>\n",
       "</mark>\n",
       " to keep me company</div></span>"
      ],
      "text/plain": [
       "<IPython.core.display.HTML object>"
      ]
     },
     "metadata": {},
     "output_type": "display_data"
    },
    {
     "data": {
      "text/html": [
       "<span class=\"tex2jax_ignore\"><div class=\"entities\" style=\"line-height: 2.5; direction: ltr\">i am worried that i won't get my $900 even though i paid a buttload of tax last year ! </div></span>"
      ],
      "text/plain": [
       "<IPython.core.display.HTML object>"
      ]
     },
     "metadata": {},
     "output_type": "display_data"
    },
    {
     "data": {
      "text/html": [
       "<span class=\"tex2jax_ignore\"><div class=\"entities\" style=\"line-height: 2.5; direction: ltr\">okay so still no school!!!! </div></span>"
      ],
      "text/plain": [
       "<IPython.core.display.HTML object>"
      ]
     },
     "metadata": {},
     "output_type": "display_data"
    },
    {
     "data": {
      "text/html": [
       "<span class=\"tex2jax_ignore\"><div class=\"entities\" style=\"line-height: 2.5; direction: ltr\">is phoneless  now off too sleep</div></span>"
      ],
      "text/plain": [
       "<IPython.core.display.HTML object>"
      ]
     },
     "metadata": {},
     "output_type": "display_data"
    },
    {
     "data": {
      "text/html": [
       "<span class=\"tex2jax_ignore\"><div class=\"entities\" style=\"line-height: 2.5; direction: ltr\">reeked of alcohol at the dentist this morning + was drunk when i put on my tshirt realised it had a huge stain dentist looked disgusted </div></span>"
      ],
      "text/plain": [
       "<IPython.core.display.HTML object>"
      ]
     },
     "metadata": {},
     "output_type": "display_data"
    },
    {
     "data": {
      "text/html": [
       "<span class=\"tex2jax_ignore\"><div class=\"entities\" style=\"line-height: 2.5; direction: ltr\">it is really cold </div></span>"
      ],
      "text/plain": [
       "<IPython.core.display.HTML object>"
      ]
     },
     "metadata": {},
     "output_type": "display_data"
    },
    {
     "data": {
      "text/html": [
       "<span class=\"tex2jax_ignore\"><div class=\"entities\" style=\"line-height: 2.5; direction: ltr\">cant sleep  she wants to dream!!</div></span>"
      ],
      "text/plain": [
       "<IPython.core.display.HTML object>"
      ]
     },
     "metadata": {},
     "output_type": "display_data"
    },
    {
     "data": {
      "text/html": [
       "<span class=\"tex2jax_ignore\"><div class=\"entities\" style=\"line-height: 2.5; direction: ltr\">can't sleep  i hate these nights when i try to go to bed early and stay awake for hours poo!</div></span>"
      ],
      "text/plain": [
       "<IPython.core.display.HTML object>"
      ]
     },
     "metadata": {},
     "output_type": "display_data"
    },
    {
     "data": {
      "text/html": [
       "<span class=\"tex2jax_ignore\"><div class=\"entities\" style=\"line-height: 2.5; direction: ltr\"> yeah too bad people like a certain burritoeating man exist </div></span>"
      ],
      "text/plain": [
       "<IPython.core.display.HTML object>"
      ]
     },
     "metadata": {},
     "output_type": "display_data"
    },
    {
     "data": {
      "text/html": [
       "<span class=\"tex2jax_ignore\"><div class=\"entities\" style=\"line-height: 2.5; direction: ltr\">  that's sad</div></span>"
      ],
      "text/plain": [
       "<IPython.core.display.HTML object>"
      ]
     },
     "metadata": {},
     "output_type": "display_data"
    },
    {
     "data": {
      "text/html": [
       "<span class=\"tex2jax_ignore\"><div class=\"entities\" style=\"line-height: 2.5; direction: ltr\">just found out that my mum  and my adopted auntie are on twitter check them out my mum is tessm64 and my awesome as auntie is tania38</div></span>"
      ],
      "text/plain": [
       "<IPython.core.display.HTML object>"
      ]
     },
     "metadata": {},
     "output_type": "display_data"
    },
    {
     "data": {
      "text/html": [
       "<span class=\"tex2jax_ignore\"><div class=\"entities\" style=\"line-height: 2.5; direction: ltr\">cannot sleepwide \n",
       "<mark class=\"entity\" style=\"background: #ddd; padding: 0.45em 0.6em; margin: 0 0.25em; line-height: 1; border-radius: 0.35em;\">\n",
       "    awake!!and\n",
       "    <span style=\"font-size: 0.8em; font-weight: bold; line-height: 1; border-radius: 0.35em; vertical-align: middle; margin-left: 0.5rem\">FOOD</span>\n",
       "</mark>\n",
       " i gotta go to work later too boy am i going to have a crappy day </div></span>"
      ],
      "text/plain": [
       "<IPython.core.display.HTML object>"
      ]
     },
     "metadata": {},
     "output_type": "display_data"
    },
    {
     "data": {
      "text/html": [
       "<span class=\"tex2jax_ignore\"><div class=\"entities\" style=\"line-height: 2.5; direction: ltr\">struggling with eam law </div></span>"
      ],
      "text/plain": [
       "<IPython.core.display.HTML object>"
      ]
     },
     "metadata": {},
     "output_type": "display_data"
    },
    {
     "data": {
      "text/html": [
       "<span class=\"tex2jax_ignore\"><div class=\"entities\" style=\"line-height: 2.5; direction: ltr\">why can't i sleep like her  </div></span>"
      ],
      "text/plain": [
       "<IPython.core.display.HTML object>"
      ]
     },
     "metadata": {},
     "output_type": "display_data"
    },
    {
     "data": {
      "text/html": [
       "<span class=\"tex2jax_ignore\"><div class=\"entities\" style=\"line-height: 2.5; direction: ltr\">bouts to start 24 poor linny couldn't keep her eyes open  she tired and has to work tomorrow morning night </div></span>"
      ],
      "text/plain": [
       "<IPython.core.display.HTML object>"
      ]
     },
     "metadata": {},
     "output_type": "display_data"
    },
    {
     "data": {
      "text/html": [
       "<span class=\"tex2jax_ignore\"><div class=\"entities\" style=\"line-height: 2.5; direction: ltr\">my 4 year old (18 year old) is driving me around the twisti don't want to be like this </div></span>"
      ],
      "text/plain": [
       "<IPython.core.display.HTML object>"
      ]
     },
     "metadata": {},
     "output_type": "display_data"
    },
    {
     "data": {
      "text/html": [
       "<span class=\"tex2jax_ignore\"><div class=\"entities\" style=\"line-height: 2.5; direction: ltr\">well that sucked </div></span>"
      ],
      "text/plain": [
       "<IPython.core.display.HTML object>"
      ]
     },
     "metadata": {},
     "output_type": "display_data"
    },
    {
     "data": {
      "text/html": [
       "<span class=\"tex2jax_ignore\"><div class=\"entities\" style=\"line-height: 2.5; direction: ltr\">i have to be out of my place in 3 daysany help i can get packing/painting/cleaning is much appreciated oh and rip my wall  </div></span>"
      ],
      "text/plain": [
       "<IPython.core.display.HTML object>"
      ]
     },
     "metadata": {},
     "output_type": "display_data"
    },
    {
     "data": {
      "text/html": [
       "<span class=\"tex2jax_ignore\"><div class=\"entities\" style=\"line-height: 2.5; direction: ltr\">opening a partially frozen beer= beer on the toaster under the oven and all over the counter the kitchen smells like we run a speakeasy </div></span>"
      ],
      "text/plain": [
       "<IPython.core.display.HTML object>"
      ]
     },
     "metadata": {},
     "output_type": "display_data"
    },
    {
     "data": {
      "text/html": [
       "<span class=\"tex2jax_ignore\"><div class=\"entities\" style=\"line-height: 2.5; direction: ltr\"> no  i dont even know how to ride it</div></span>"
      ],
      "text/plain": [
       "<IPython.core.display.HTML object>"
      ]
     },
     "metadata": {},
     "output_type": "display_data"
    },
    {
     "data": {
      "text/html": [
       "<span class=\"tex2jax_ignore\"><div class=\"entities\" style=\"line-height: 2.5; direction: ltr\"> sadly yes i think i need counciling now </div></span>"
      ],
      "text/plain": [
       "<IPython.core.display.HTML object>"
      ]
     },
     "metadata": {},
     "output_type": "display_data"
    },
    {
     "data": {
      "text/html": [
       "<span class=\"tex2jax_ignore\"><div class=\"entities\" style=\"line-height: 2.5; direction: ltr\">making myself ready for schooldon't feel like going but have two tests </div></span>"
      ],
      "text/plain": [
       "<IPython.core.display.HTML object>"
      ]
     },
     "metadata": {},
     "output_type": "display_data"
    },
    {
     "data": {
      "text/html": [
       "<span class=\"tex2jax_ignore\"><div class=\"entities\" style=\"line-height: 2.5; direction: ltr\">smugness gone my train also failed to turn up so i'm heading for victoria followed by an unpleasant tube ride to the city </div></span>"
      ],
      "text/plain": [
       "<IPython.core.display.HTML object>"
      ]
     },
     "metadata": {},
     "output_type": "display_data"
    },
    {
     "data": {
      "text/html": [
       "<span class=\"tex2jax_ignore\"><div class=\"entities\" style=\"line-height: 2.5; direction: ltr\">anybody know where my ipod went? </div></span>"
      ],
      "text/plain": [
       "<IPython.core.display.HTML object>"
      ]
     },
     "metadata": {},
     "output_type": "display_data"
    },
    {
     "data": {
      "text/html": [
       "<span class=\"tex2jax_ignore\"><div class=\"entities\" style=\"line-height: 2.5; direction: ltr\">aww this earthquake in italy has made me sad  just saw the pics on the news it's terrible</div></span>"
      ],
      "text/plain": [
       "<IPython.core.display.HTML object>"
      ]
     },
     "metadata": {},
     "output_type": "display_data"
    },
    {
     "data": {
      "text/html": [
       "<span class=\"tex2jax_ignore\"><div class=\"entities\" style=\"line-height: 2.5; direction: ltr\"> never been able to afford to get them out i'd much rather go through the extraction than continue with what i deal with now </div></span>"
      ],
      "text/plain": [
       "<IPython.core.display.HTML object>"
      ]
     },
     "metadata": {},
     "output_type": "display_data"
    },
    {
     "data": {
      "text/html": [
       "<span class=\"tex2jax_ignore\"><div class=\"entities\" style=\"line-height: 2.5; direction: ltr\"> why do other pet care people try to run others out of business? or send suspicious emails fishing for info?</div></span>"
      ],
      "text/plain": [
       "<IPython.core.display.HTML object>"
      ]
     },
     "metadata": {},
     "output_type": "display_data"
    },
    {
     "data": {
      "text/html": [
       "<span class=\"tex2jax_ignore\"><div class=\"entities\" style=\"line-height: 2.5; direction: ltr\"> &amp;lt;33 codezthey've been mia tho </div></span>"
      ],
      "text/plain": [
       "<IPython.core.display.HTML object>"
      ]
     },
     "metadata": {},
     "output_type": "display_data"
    },
    {
     "data": {
      "text/html": [
       "<span class=\"tex2jax_ignore\"><div class=\"entities\" style=\"line-height: 2.5; direction: ltr\"> doesnt work on my cell  go to sleep! =p</div></span>"
      ],
      "text/plain": [
       "<IPython.core.display.HTML object>"
      ]
     },
     "metadata": {},
     "output_type": "display_data"
    },
    {
     "data": {
      "text/html": [
       "<span class=\"tex2jax_ignore\"><div class=\"entities\" style=\"line-height: 2.5; direction: ltr\">it's going to be nice again tomorrow and then the rain comes back no nice weather for my birthday </div></span>"
      ],
      "text/plain": [
       "<IPython.core.display.HTML object>"
      ]
     },
     "metadata": {},
     "output_type": "display_data"
    },
    {
     "data": {
      "text/html": [
       "<span class=\"tex2jax_ignore\"><div class=\"entities\" style=\"line-height: 2.5; direction: ltr\"> rock band is hardon expert!!! </div></span>"
      ],
      "text/plain": [
       "<IPython.core.display.HTML object>"
      ]
     },
     "metadata": {},
     "output_type": "display_data"
    },
    {
     "data": {
      "text/html": [
       "<span class=\"tex2jax_ignore\"><div class=\"entities\" style=\"line-height: 2.5; direction: ltr\">: roomie was home all day all he had to do was scratch at the door comforter has to goto large laundromat machines </div></span>"
      ],
      "text/plain": [
       "<IPython.core.display.HTML object>"
      ]
     },
     "metadata": {},
     "output_type": "display_data"
    },
    {
     "data": {
      "text/html": [
       "<span class=\"tex2jax_ignore\"><div class=\"entities\" style=\"line-height: 2.5; direction: ltr\">one of the hardest thing with this schedule no one i can chat with at the end of my day usually </div></span>"
      ],
      "text/plain": [
       "<IPython.core.display.HTML object>"
      ]
     },
     "metadata": {},
     "output_type": "display_data"
    },
    {
     "data": {
      "text/html": [
       "<span class=\"tex2jax_ignore\"><div class=\"entities\" style=\"line-height: 2.5; direction: ltr\">they killed off a character on one of my favorite shows and now i'm upset </div></span>"
      ],
      "text/plain": [
       "<IPython.core.display.HTML object>"
      ]
     },
     "metadata": {},
     "output_type": "display_data"
    },
    {
     "data": {
      "text/html": [
       "<span class=\"tex2jax_ignore\"><div class=\"entities\" style=\"line-height: 2.5; direction: ltr\">jealous of my friends who got to see the new star trek film in austin tonight </div></span>"
      ],
      "text/plain": [
       "<IPython.core.display.HTML object>"
      ]
     },
     "metadata": {},
     "output_type": "display_data"
    },
    {
     "data": {
      "text/html": [
       "<span class=\"tex2jax_ignore\"><div class=\"entities\" style=\"line-height: 2.5; direction: ltr\">listening to q! i got a really bad headache and a drivin lesson in ten mins lucky me  i just wana sleeep!  </div></span>"
      ],
      "text/plain": [
       "<IPython.core.display.HTML object>"
      ]
     },
     "metadata": {},
     "output_type": "display_data"
    },
    {
     "data": {
      "text/html": [
       "<span class=\"tex2jax_ignore\"><div class=\"entities\" style=\"line-height: 2.5; direction: ltr\"> shut up youi am hungry! and in britain home of the most boring suckassy breakfast in the world!  i miss dennys!!</div></span>"
      ],
      "text/plain": [
       "<IPython.core.display.HTML object>"
      ]
     },
     "metadata": {},
     "output_type": "display_data"
    },
    {
     "data": {
      "text/html": [
       "<span class=\"tex2jax_ignore\"><div class=\"entities\" style=\"line-height: 2.5; direction: ltr\">good morning everybody! pkoi y fais pas beau  bon \n",
       "<mark class=\"entity\" style=\"background: #ddd; padding: 0.45em 0.6em; margin: 0 0.25em; line-height: 1; border-radius: 0.35em;\">\n",
       "    coffee\n",
       "    <span style=\"font-size: 0.8em; font-weight: bold; line-height: 1; border-radius: 0.35em; vertical-align: middle; margin-left: 0.5rem\">FOOD</span>\n",
       "</mark>\n",
       " time!</div></span>"
      ],
      "text/plain": [
       "<IPython.core.display.HTML object>"
      ]
     },
     "metadata": {},
     "output_type": "display_data"
    },
    {
     "data": {
      "text/html": [
       "<span class=\"tex2jax_ignore\"><div class=\"entities\" style=\"line-height: 2.5; direction: ltr\">work again </div></span>"
      ],
      "text/plain": [
       "<IPython.core.display.HTML object>"
      ]
     },
     "metadata": {},
     "output_type": "display_data"
    },
    {
     "data": {
      "text/html": [
       "<span class=\"tex2jax_ignore\"><div class=\"entities\" style=\"line-height: 2.5; direction: ltr\">essay time </div></span>"
      ],
      "text/plain": [
       "<IPython.core.display.HTML object>"
      ]
     },
     "metadata": {},
     "output_type": "display_data"
    },
    {
     "data": {
      "text/html": [
       "<span class=\"tex2jax_ignore\"><div class=\"entities\" style=\"line-height: 2.5; direction: ltr\"> hey did u talk to mom r they home yet? i hope they r ok wish i was coming home 4 easter </div></span>"
      ],
      "text/plain": [
       "<IPython.core.display.HTML object>"
      ]
     },
     "metadata": {},
     "output_type": "display_data"
    },
    {
     "data": {
      "text/html": [
       "<span class=\"tex2jax_ignore\"><div class=\"entities\" style=\"line-height: 2.5; direction: ltr\"> i sure wish i could go with you guys tmrw but as per usual school interferes </div></span>"
      ],
      "text/plain": [
       "<IPython.core.display.HTML object>"
      ]
     },
     "metadata": {},
     "output_type": "display_data"
    },
    {
     "data": {
      "text/html": [
       "<span class=\"tex2jax_ignore\"><div class=\"entities\" style=\"line-height: 2.5; direction: ltr\"> say what??? kal penn's leaving house?! noooooo!!! awww i totally missed it tonight </div></span>"
      ],
      "text/plain": [
       "<IPython.core.display.HTML object>"
      ]
     },
     "metadata": {},
     "output_type": "display_data"
    },
    {
     "data": {
      "text/html": [
       "<span class=\"tex2jax_ignore\"><div class=\"entities\" style=\"line-height: 2.5; direction: ltr\">no! i lost a loyal </div></span>"
      ],
      "text/plain": [
       "<IPython.core.display.HTML object>"
      ]
     },
     "metadata": {},
     "output_type": "display_data"
    },
    {
     "data": {
      "text/html": [
       "<span class=\"tex2jax_ignore\"><div class=\"entities\" style=\"line-height: 2.5; direction: ltr\">played another hand very bad and lost half my stack </div></span>"
      ],
      "text/plain": [
       "<IPython.core.display.HTML object>"
      ]
     },
     "metadata": {},
     "output_type": "display_data"
    },
    {
     "data": {
      "text/html": [
       "<span class=\"tex2jax_ignore\"><div class=\"entities\" style=\"line-height: 2.5; direction: ltr\">it's 620pm  early days in a looooooong night at work </div></span>"
      ],
      "text/plain": [
       "<IPython.core.display.HTML object>"
      ]
     },
     "metadata": {},
     "output_type": "display_data"
    },
    {
     "data": {
      "text/html": [
       "<span class=\"tex2jax_ignore\"><div class=\"entities\" style=\"line-height: 2.5; direction: ltr\"> it's sad it's the last season  i wanna see when spencer calls lauren!</div></span>"
      ],
      "text/plain": [
       "<IPython.core.display.HTML object>"
      ]
     },
     "metadata": {},
     "output_type": "display_data"
    },
    {
     "data": {
      "text/html": [
       "<span class=\"tex2jax_ignore\"><div class=\"entities\" style=\"line-height: 2.5; direction: ltr\">so im done editing &amp;quot;the phipstape&amp;quot; back 2 crack a brew and see what we got no trees though </div></span>"
      ],
      "text/plain": [
       "<IPython.core.display.HTML object>"
      ]
     },
     "metadata": {},
     "output_type": "display_data"
    },
    {
     "data": {
      "text/html": [
       "<span class=\"tex2jax_ignore\"><div class=\"entities\" style=\"line-height: 2.5; direction: ltr\"> i don't know what half of that means </div></span>"
      ],
      "text/plain": [
       "<IPython.core.display.HTML object>"
      ]
     },
     "metadata": {},
     "output_type": "display_data"
    },
    {
     "data": {
      "text/html": [
       "<span class=\"tex2jax_ignore\"><div class=\"entities\" style=\"line-height: 2.5; direction: ltr\">homework homework homework </div></span>"
      ],
      "text/plain": [
       "<IPython.core.display.HTML object>"
      ]
     },
     "metadata": {},
     "output_type": "display_data"
    },
    {
     "data": {
      "text/html": [
       "<span class=\"tex2jax_ignore\"><div class=\"entities\" style=\"line-height: 2.5; direction: ltr\">worked his heart out today doubling my weight at each station result: stiff and pulled muscles ouch! </div></span>"
      ],
      "text/plain": [
       "<IPython.core.display.HTML object>"
      ]
     },
     "metadata": {},
     "output_type": "display_data"
    },
    {
     "data": {
      "text/html": [
       "<span class=\"tex2jax_ignore\"><div class=\"entities\" style=\"line-height: 2.5; direction: ltr\"> now i feel bad for unfollowing </div></span>"
      ],
      "text/plain": [
       "<IPython.core.display.HTML object>"
      ]
     },
     "metadata": {},
     "output_type": "display_data"
    },
    {
     "data": {
      "text/html": [
       "<span class=\"tex2jax_ignore\"><div class=\"entities\" style=\"line-height: 2.5; direction: ltr\">so tired god i hate the new job and only two days in </div></span>"
      ],
      "text/plain": [
       "<IPython.core.display.HTML object>"
      ]
     },
     "metadata": {},
     "output_type": "display_data"
    },
    {
     "data": {
      "text/html": [
       "<span class=\"tex2jax_ignore\"><div class=\"entities\" style=\"line-height: 2.5; direction: ltr\">sad about kutner being killed off my fav show house! </div></span>"
      ],
      "text/plain": [
       "<IPython.core.display.HTML object>"
      ]
     },
     "metadata": {},
     "output_type": "display_data"
    },
    {
     "data": {
      "text/html": [
       "<span class=\"tex2jax_ignore\"><div class=\"entities\" style=\"line-height: 2.5; direction: ltr\">happy for coach stringer (hof c/o 2009!)now if i can only finish my term paper on her </div></span>"
      ],
      "text/plain": [
       "<IPython.core.display.HTML object>"
      ]
     },
     "metadata": {},
     "output_type": "display_data"
    },
    {
     "data": {
      "text/html": [
       "<span class=\"tex2jax_ignore\"><div class=\"entities\" style=\"line-height: 2.5; direction: ltr\">i feel like shit this is not the way i want to spend my birthday's eve </div></span>"
      ],
      "text/plain": [
       "<IPython.core.display.HTML object>"
      ]
     },
     "metadata": {},
     "output_type": "display_data"
    },
    {
     "data": {
      "text/html": [
       "<span class=\"tex2jax_ignore\"><div class=\"entities\" style=\"line-height: 2.5; direction: ltr\">so far i have 311 on all my sites put together  most of them were me checking out the updates i made</div></span>"
      ],
      "text/plain": [
       "<IPython.core.display.HTML object>"
      ]
     },
     "metadata": {},
     "output_type": "display_data"
    },
    {
     "data": {
      "text/html": [
       "<span class=\"tex2jax_ignore\"><div class=\"entities\" style=\"line-height: 2.5; direction: ltr\">has a lot on her mind i needs to make some moneys and ideas nowhere is hiring! </div></span>"
      ],
      "text/plain": [
       "<IPython.core.display.HTML object>"
      ]
     },
     "metadata": {},
     "output_type": "display_data"
    },
    {
     "data": {
      "text/html": [
       "<span class=\"tex2jax_ignore\"><div class=\"entities\" style=\"line-height: 2.5; direction: ltr\"> miss you </div></span>"
      ],
      "text/plain": [
       "<IPython.core.display.HTML object>"
      ]
     },
     "metadata": {},
     "output_type": "display_data"
    },
    {
     "data": {
      "text/html": [
       "<span class=\"tex2jax_ignore\"><div class=\"entities\" style=\"line-height: 2.5; direction: ltr\"> i'm so sorry to hear about your dog </div></span>"
      ],
      "text/plain": [
       "<IPython.core.display.HTML object>"
      ]
     },
     "metadata": {},
     "output_type": "display_data"
    },
    {
     "data": {
      "text/html": [
       "<span class=\"tex2jax_ignore\"><div class=\"entities\" style=\"line-height: 2.5; direction: ltr\">too much internet how it plagues me </div></span>"
      ],
      "text/plain": [
       "<IPython.core.display.HTML object>"
      ]
     },
     "metadata": {},
     "output_type": "display_data"
    },
    {
     "data": {
      "text/html": [
       "<span class=\"tex2jax_ignore\"><div class=\"entities\" style=\"line-height: 2.5; direction: ltr\">i miss my ex soo much </div></span>"
      ],
      "text/plain": [
       "<IPython.core.display.HTML object>"
      ]
     },
     "metadata": {},
     "output_type": "display_data"
    },
    {
     "data": {
      "text/html": [
       "<span class=\"tex2jax_ignore\"><div class=\"entities\" style=\"line-height: 2.5; direction: ltr\">sodding m25   </div></span>"
      ],
      "text/plain": [
       "<IPython.core.display.HTML object>"
      ]
     },
     "metadata": {},
     "output_type": "display_data"
    },
    {
     "data": {
      "text/html": [
       "<span class=\"tex2jax_ignore\"><div class=\"entities\" style=\"line-height: 2.5; direction: ltr\">oh i thought the pirate bay trial verdict was today :s apparently it's in 10 days </div></span>"
      ],
      "text/plain": [
       "<IPython.core.display.HTML object>"
      ]
     },
     "metadata": {},
     "output_type": "display_data"
    },
    {
     "data": {
      "text/html": [
       "<span class=\"tex2jax_ignore\"><div class=\"entities\" style=\"line-height: 2.5; direction: ltr\"> call me back </div></span>"
      ],
      "text/plain": [
       "<IPython.core.display.HTML object>"
      ]
     },
     "metadata": {},
     "output_type": "display_data"
    },
    {
     "data": {
      "text/html": [
       "<span class=\"tex2jax_ignore\"><div class=\"entities\" style=\"line-height: 2.5; direction: ltr\">is in study hall now and i will log off immediately  </div></span>"
      ],
      "text/plain": [
       "<IPython.core.display.HTML object>"
      ]
     },
     "metadata": {},
     "output_type": "display_data"
    },
    {
     "data": {
      "text/html": [
       "<span class=\"tex2jax_ignore\"><div class=\"entities\" style=\"line-height: 2.5; direction: ltr\">it so tired that im crying for no reason at all im about to try to get an hour and a half in for tonight half what i got last night </div></span>"
      ],
      "text/plain": [
       "<IPython.core.display.HTML object>"
      ]
     },
     "metadata": {},
     "output_type": "display_data"
    },
    {
     "data": {
      "text/html": [
       "<span class=\"tex2jax_ignore\"><div class=\"entities\" style=\"line-height: 2.5; direction: ltr\">i totally have like  four girl options and none of them seem viable </div></span>"
      ],
      "text/plain": [
       "<IPython.core.display.HTML object>"
      ]
     },
     "metadata": {},
     "output_type": "display_data"
    },
    {
     "data": {
      "text/html": [
       "<span class=\"tex2jax_ignore\"><div class=\"entities\" style=\"line-height: 2.5; direction: ltr\">so far i have 311 veiws on all my sites put together  most of them were me checking out the updates i made</div></span>"
      ],
      "text/plain": [
       "<IPython.core.display.HTML object>"
      ]
     },
     "metadata": {},
     "output_type": "display_data"
    },
    {
     "data": {
      "text/html": [
       "<span class=\"tex2jax_ignore\"><div class=\"entities\" style=\"line-height: 2.5; direction: ltr\">listening to bjork's all is full of love crying </div></span>"
      ],
      "text/plain": [
       "<IPython.core.display.HTML object>"
      ]
     },
     "metadata": {},
     "output_type": "display_data"
    },
    {
     "data": {
      "text/html": [
       "<span class=\"tex2jax_ignore\"><div class=\"entities\" style=\"line-height: 2.5; direction: ltr\">omg the hills! then i love money2 aww i think becky buckwild goes </div></span>"
      ],
      "text/plain": [
       "<IPython.core.display.HTML object>"
      ]
     },
     "metadata": {},
     "output_type": "display_data"
    },
    {
     "data": {
      "text/html": [
       "<span class=\"tex2jax_ignore\"><div class=\"entities\" style=\"line-height: 2.5; direction: ltr\">is craving for some tantan nabe  </div></span>"
      ],
      "text/plain": [
       "<IPython.core.display.HTML object>"
      ]
     },
     "metadata": {},
     "output_type": "display_data"
    },
    {
     "data": {
      "text/html": [
       "<span class=\"tex2jax_ignore\"><div class=\"entities\" style=\"line-height: 2.5; direction: ltr\">c'mon sean man </div></span>"
      ],
      "text/plain": [
       "<IPython.core.display.HTML object>"
      ]
     },
     "metadata": {},
     "output_type": "display_data"
    },
    {
     "data": {
      "text/html": [
       "<span class=\"tex2jax_ignore\"><div class=\"entities\" style=\"line-height: 2.5; direction: ltr\">watching &amp;quot;a league of their own&amp;quot;makes me miss \n",
       "<mark class=\"entity\" style=\"background: #ddd; padding: 0.45em 0.6em; margin: 0 0.25em; line-height: 1; border-radius: 0.35em;\">\n",
       "    mint\n",
       "    <span style=\"font-size: 0.8em; font-weight: bold; line-height: 1; border-radius: 0.35em; vertical-align: middle; margin-left: 0.5rem\">FOOD</span>\n",
       "</mark>\n",
       " \n",
       "<mark class=\"entity\" style=\"background: #ddd; padding: 0.45em 0.6em; margin: 0 0.25em; line-height: 1; border-radius: 0.35em;\">\n",
       "    chocolate\n",
       "    <span style=\"font-size: 0.8em; font-weight: bold; line-height: 1; border-radius: 0.35em; vertical-align: middle; margin-left: 0.5rem\">FOOD</span>\n",
       "</mark>\n",
       " ice cream cones and my grand ma  fuck</div></span>"
      ],
      "text/plain": [
       "<IPython.core.display.HTML object>"
      ]
     },
     "metadata": {},
     "output_type": "display_data"
    },
    {
     "data": {
      "text/html": [
       "<span class=\"tex2jax_ignore\"><div class=\"entities\" style=\"line-height: 2.5; direction: ltr\">lost my phone some wheremaybe in the grass its just so long hope it doesn't rain </div></span>"
      ],
      "text/plain": [
       "<IPython.core.display.HTML object>"
      ]
     },
     "metadata": {},
     "output_type": "display_data"
    },
    {
     "ename": "KeyboardInterrupt",
     "evalue": "",
     "output_type": "error",
     "traceback": [
      "\u001b[1;31m---------------------------------------------------------------------------\u001b[0m",
      "\u001b[1;31mKeyboardInterrupt\u001b[0m                         Traceback (most recent call last)",
      "\u001b[1;32m<ipython-input-14-ccdf6e89218b>\u001b[0m in \u001b[0;36m<module>\u001b[1;34m\u001b[0m\n\u001b[0;32m      2\u001b[0m     \u001b[0ments\u001b[0m \u001b[1;33m=\u001b[0m \u001b[0mnlp\u001b[0m\u001b[1;33m(\u001b[0m\u001b[0mpreProcess\u001b[0m\u001b[1;33m(\u001b[0m\u001b[0mtweet\u001b[0m\u001b[1;33m)\u001b[0m\u001b[1;33m)\u001b[0m\u001b[1;33m\u001b[0m\u001b[1;33m\u001b[0m\u001b[0m\n\u001b[0;32m      3\u001b[0m     \u001b[1;31m#if ents.doc.ents:\u001b[0m\u001b[1;33m\u001b[0m\u001b[1;33m\u001b[0m\u001b[1;33m\u001b[0m\u001b[0m\n\u001b[1;32m----> 4\u001b[1;33m     \u001b[0ment_recognize\u001b[0m\u001b[1;33m(\u001b[0m\u001b[0mpreProcess\u001b[0m\u001b[1;33m(\u001b[0m\u001b[0mtweet\u001b[0m\u001b[1;33m)\u001b[0m\u001b[1;33m)\u001b[0m\u001b[1;33m\u001b[0m\u001b[1;33m\u001b[0m\u001b[0m\n\u001b[0m",
      "\u001b[1;32m<ipython-input-1-4249b95b2368>\u001b[0m in \u001b[0;36ment_recognize\u001b[1;34m(text)\u001b[0m\n\u001b[0;32m    418\u001b[0m \u001b[1;33m\u001b[0m\u001b[0m\n\u001b[0;32m    419\u001b[0m \u001b[1;32mdef\u001b[0m \u001b[0ment_recognize\u001b[0m\u001b[1;33m(\u001b[0m\u001b[0mtext\u001b[0m\u001b[1;33m)\u001b[0m\u001b[1;33m:\u001b[0m\u001b[1;33m\u001b[0m\u001b[1;33m\u001b[0m\u001b[0m\n\u001b[1;32m--> 420\u001b[1;33m     \u001b[0mdoc\u001b[0m \u001b[1;33m=\u001b[0m \u001b[0mnlp\u001b[0m\u001b[1;33m(\u001b[0m\u001b[0mtext\u001b[0m\u001b[1;33m)\u001b[0m\u001b[1;33m\u001b[0m\u001b[1;33m\u001b[0m\u001b[0m\n\u001b[0m\u001b[0;32m    421\u001b[0m     \u001b[0mdisplacy\u001b[0m\u001b[1;33m.\u001b[0m\u001b[0mrender\u001b[0m\u001b[1;33m(\u001b[0m\u001b[0mdoc\u001b[0m\u001b[1;33m,\u001b[0m\u001b[0mstyle\u001b[0m \u001b[1;33m=\u001b[0m \u001b[1;34m\"ent\"\u001b[0m\u001b[1;33m)\u001b[0m\u001b[1;33m\u001b[0m\u001b[1;33m\u001b[0m\u001b[0m\n\u001b[0;32m    422\u001b[0m \u001b[1;33m\u001b[0m\u001b[0m\n",
      "\u001b[1;32m~\\anaconda3\\lib\\site-packages\\spacy\\language.py\u001b[0m in \u001b[0;36m__call__\u001b[1;34m(self, text, disable, component_cfg)\u001b[0m\n\u001b[0;32m   1008\u001b[0m                 \u001b[0merror_handler\u001b[0m \u001b[1;33m=\u001b[0m \u001b[0mproc\u001b[0m\u001b[1;33m.\u001b[0m\u001b[0mget_error_handler\u001b[0m\u001b[1;33m(\u001b[0m\u001b[1;33m)\u001b[0m\u001b[1;33m\u001b[0m\u001b[1;33m\u001b[0m\u001b[0m\n\u001b[0;32m   1009\u001b[0m             \u001b[1;32mtry\u001b[0m\u001b[1;33m:\u001b[0m\u001b[1;33m\u001b[0m\u001b[1;33m\u001b[0m\u001b[0m\n\u001b[1;32m-> 1010\u001b[1;33m                 \u001b[0mdoc\u001b[0m \u001b[1;33m=\u001b[0m \u001b[0mproc\u001b[0m\u001b[1;33m(\u001b[0m\u001b[0mdoc\u001b[0m\u001b[1;33m,\u001b[0m \u001b[1;33m**\u001b[0m\u001b[0mcomponent_cfg\u001b[0m\u001b[1;33m.\u001b[0m\u001b[0mget\u001b[0m\u001b[1;33m(\u001b[0m\u001b[0mname\u001b[0m\u001b[1;33m,\u001b[0m \u001b[1;33m{\u001b[0m\u001b[1;33m}\u001b[0m\u001b[1;33m)\u001b[0m\u001b[1;33m)\u001b[0m  \u001b[1;31m# type: ignore[call-arg]\u001b[0m\u001b[1;33m\u001b[0m\u001b[1;33m\u001b[0m\u001b[0m\n\u001b[0m\u001b[0;32m   1011\u001b[0m             \u001b[1;32mexcept\u001b[0m \u001b[0mKeyError\u001b[0m \u001b[1;32mas\u001b[0m \u001b[0me\u001b[0m\u001b[1;33m:\u001b[0m\u001b[1;33m\u001b[0m\u001b[1;33m\u001b[0m\u001b[0m\n\u001b[0;32m   1012\u001b[0m                 \u001b[1;31m# This typically happens if a component is not initialized\u001b[0m\u001b[1;33m\u001b[0m\u001b[1;33m\u001b[0m\u001b[1;33m\u001b[0m\u001b[0m\n",
      "\u001b[1;32m~\\anaconda3\\lib\\site-packages\\spacy\\pipeline\\trainable_pipe.pyx\u001b[0m in \u001b[0;36mspacy.pipeline.trainable_pipe.TrainablePipe.__call__\u001b[1;34m()\u001b[0m\n",
      "\u001b[1;32m~\\anaconda3\\lib\\site-packages\\spacy\\pipeline\\tok2vec.py\u001b[0m in \u001b[0;36mpredict\u001b[1;34m(self, docs)\u001b[0m\n\u001b[0;32m    119\u001b[0m         \u001b[0mDOCS\u001b[0m\u001b[1;33m:\u001b[0m \u001b[0mhttps\u001b[0m\u001b[1;33m:\u001b[0m\u001b[1;33m//\u001b[0m\u001b[0mspacy\u001b[0m\u001b[1;33m.\u001b[0m\u001b[0mio\u001b[0m\u001b[1;33m/\u001b[0m\u001b[0mapi\u001b[0m\u001b[1;33m/\u001b[0m\u001b[0mtok2vec\u001b[0m\u001b[1;31m#predict\u001b[0m\u001b[1;33m\u001b[0m\u001b[1;33m\u001b[0m\u001b[0m\n\u001b[0;32m    120\u001b[0m         \"\"\"\n\u001b[1;32m--> 121\u001b[1;33m         \u001b[0mtokvecs\u001b[0m \u001b[1;33m=\u001b[0m \u001b[0mself\u001b[0m\u001b[1;33m.\u001b[0m\u001b[0mmodel\u001b[0m\u001b[1;33m.\u001b[0m\u001b[0mpredict\u001b[0m\u001b[1;33m(\u001b[0m\u001b[0mdocs\u001b[0m\u001b[1;33m)\u001b[0m\u001b[1;33m\u001b[0m\u001b[1;33m\u001b[0m\u001b[0m\n\u001b[0m\u001b[0;32m    122\u001b[0m         \u001b[0mbatch_id\u001b[0m \u001b[1;33m=\u001b[0m \u001b[0mTok2VecListener\u001b[0m\u001b[1;33m.\u001b[0m\u001b[0mget_batch_id\u001b[0m\u001b[1;33m(\u001b[0m\u001b[0mdocs\u001b[0m\u001b[1;33m)\u001b[0m\u001b[1;33m\u001b[0m\u001b[1;33m\u001b[0m\u001b[0m\n\u001b[0;32m    123\u001b[0m         \u001b[1;32mfor\u001b[0m \u001b[0mlistener\u001b[0m \u001b[1;32min\u001b[0m \u001b[0mself\u001b[0m\u001b[1;33m.\u001b[0m\u001b[0mlisteners\u001b[0m\u001b[1;33m:\u001b[0m\u001b[1;33m\u001b[0m\u001b[1;33m\u001b[0m\u001b[0m\n",
      "\u001b[1;32m~\\anaconda3\\lib\\site-packages\\thinc\\model.py\u001b[0m in \u001b[0;36mpredict\u001b[1;34m(self, X)\u001b[0m\n\u001b[0;32m    313\u001b[0m         \u001b[0monly\u001b[0m \u001b[0mthe\u001b[0m \u001b[0moutput\u001b[0m\u001b[1;33m,\u001b[0m \u001b[0minstead\u001b[0m \u001b[0mof\u001b[0m \u001b[0mthe\u001b[0m\u001b[0;31m \u001b[0m\u001b[0;31m`\u001b[0m\u001b[1;33m(\u001b[0m\u001b[0moutput\u001b[0m\u001b[1;33m,\u001b[0m \u001b[0mcallback\u001b[0m\u001b[1;33m)\u001b[0m\u001b[0;31m`\u001b[0m \u001b[0mtuple\u001b[0m\u001b[1;33m.\u001b[0m\u001b[1;33m\u001b[0m\u001b[1;33m\u001b[0m\u001b[0m\n\u001b[0;32m    314\u001b[0m         \"\"\"\n\u001b[1;32m--> 315\u001b[1;33m         \u001b[1;32mreturn\u001b[0m \u001b[0mself\u001b[0m\u001b[1;33m.\u001b[0m\u001b[0m_func\u001b[0m\u001b[1;33m(\u001b[0m\u001b[0mself\u001b[0m\u001b[1;33m,\u001b[0m \u001b[0mX\u001b[0m\u001b[1;33m,\u001b[0m \u001b[0mis_train\u001b[0m\u001b[1;33m=\u001b[0m\u001b[1;32mFalse\u001b[0m\u001b[1;33m)\u001b[0m\u001b[1;33m[\u001b[0m\u001b[1;36m0\u001b[0m\u001b[1;33m]\u001b[0m\u001b[1;33m\u001b[0m\u001b[1;33m\u001b[0m\u001b[0m\n\u001b[0m\u001b[0;32m    316\u001b[0m \u001b[1;33m\u001b[0m\u001b[0m\n\u001b[0;32m    317\u001b[0m     \u001b[1;32mdef\u001b[0m \u001b[0mfinish_update\u001b[0m\u001b[1;33m(\u001b[0m\u001b[0mself\u001b[0m\u001b[1;33m,\u001b[0m \u001b[0moptimizer\u001b[0m\u001b[1;33m:\u001b[0m \u001b[0mOptimizer\u001b[0m\u001b[1;33m)\u001b[0m \u001b[1;33m->\u001b[0m \u001b[1;32mNone\u001b[0m\u001b[1;33m:\u001b[0m\u001b[1;33m\u001b[0m\u001b[1;33m\u001b[0m\u001b[0m\n",
      "\u001b[1;32m~\\anaconda3\\lib\\site-packages\\thinc\\layers\\chain.py\u001b[0m in \u001b[0;36mforward\u001b[1;34m(model, X, is_train)\u001b[0m\n\u001b[0;32m     52\u001b[0m     \u001b[0mcallbacks\u001b[0m \u001b[1;33m=\u001b[0m \u001b[1;33m[\u001b[0m\u001b[1;33m]\u001b[0m\u001b[1;33m\u001b[0m\u001b[1;33m\u001b[0m\u001b[0m\n\u001b[0;32m     53\u001b[0m     \u001b[1;32mfor\u001b[0m \u001b[0mlayer\u001b[0m \u001b[1;32min\u001b[0m \u001b[0mmodel\u001b[0m\u001b[1;33m.\u001b[0m\u001b[0mlayers\u001b[0m\u001b[1;33m:\u001b[0m\u001b[1;33m\u001b[0m\u001b[1;33m\u001b[0m\u001b[0m\n\u001b[1;32m---> 54\u001b[1;33m         \u001b[0mY\u001b[0m\u001b[1;33m,\u001b[0m \u001b[0minc_layer_grad\u001b[0m \u001b[1;33m=\u001b[0m \u001b[0mlayer\u001b[0m\u001b[1;33m(\u001b[0m\u001b[0mX\u001b[0m\u001b[1;33m,\u001b[0m \u001b[0mis_train\u001b[0m\u001b[1;33m=\u001b[0m\u001b[0mis_train\u001b[0m\u001b[1;33m)\u001b[0m\u001b[1;33m\u001b[0m\u001b[1;33m\u001b[0m\u001b[0m\n\u001b[0m\u001b[0;32m     55\u001b[0m         \u001b[0mcallbacks\u001b[0m\u001b[1;33m.\u001b[0m\u001b[0mappend\u001b[0m\u001b[1;33m(\u001b[0m\u001b[0minc_layer_grad\u001b[0m\u001b[1;33m)\u001b[0m\u001b[1;33m\u001b[0m\u001b[1;33m\u001b[0m\u001b[0m\n\u001b[0;32m     56\u001b[0m         \u001b[0mX\u001b[0m \u001b[1;33m=\u001b[0m \u001b[0mY\u001b[0m\u001b[1;33m\u001b[0m\u001b[1;33m\u001b[0m\u001b[0m\n",
      "\u001b[1;32m~\\anaconda3\\lib\\site-packages\\thinc\\model.py\u001b[0m in \u001b[0;36m__call__\u001b[1;34m(self, X, is_train)\u001b[0m\n\u001b[0;32m    289\u001b[0m         \"\"\"Call the model's `forward` function, returning the output and a\n\u001b[0;32m    290\u001b[0m         callback to compute the gradients via backpropagation.\"\"\"\n\u001b[1;32m--> 291\u001b[1;33m         \u001b[1;32mreturn\u001b[0m \u001b[0mself\u001b[0m\u001b[1;33m.\u001b[0m\u001b[0m_func\u001b[0m\u001b[1;33m(\u001b[0m\u001b[0mself\u001b[0m\u001b[1;33m,\u001b[0m \u001b[0mX\u001b[0m\u001b[1;33m,\u001b[0m \u001b[0mis_train\u001b[0m\u001b[1;33m=\u001b[0m\u001b[0mis_train\u001b[0m\u001b[1;33m)\u001b[0m\u001b[1;33m\u001b[0m\u001b[1;33m\u001b[0m\u001b[0m\n\u001b[0m\u001b[0;32m    292\u001b[0m \u001b[1;33m\u001b[0m\u001b[0m\n\u001b[0;32m    293\u001b[0m     \u001b[1;32mdef\u001b[0m \u001b[0minitialize\u001b[0m\u001b[1;33m(\u001b[0m\u001b[0mself\u001b[0m\u001b[1;33m,\u001b[0m \u001b[0mX\u001b[0m\u001b[1;33m:\u001b[0m \u001b[0mOptional\u001b[0m\u001b[1;33m[\u001b[0m\u001b[0mInT\u001b[0m\u001b[1;33m]\u001b[0m \u001b[1;33m=\u001b[0m \u001b[1;32mNone\u001b[0m\u001b[1;33m,\u001b[0m \u001b[0mY\u001b[0m\u001b[1;33m:\u001b[0m \u001b[0mOptional\u001b[0m\u001b[1;33m[\u001b[0m\u001b[0mOutT\u001b[0m\u001b[1;33m]\u001b[0m \u001b[1;33m=\u001b[0m \u001b[1;32mNone\u001b[0m\u001b[1;33m)\u001b[0m \u001b[1;33m->\u001b[0m \u001b[1;34m\"Model\"\u001b[0m\u001b[1;33m:\u001b[0m\u001b[1;33m\u001b[0m\u001b[1;33m\u001b[0m\u001b[0m\n",
      "\u001b[1;32m~\\anaconda3\\lib\\site-packages\\thinc\\layers\\with_array.py\u001b[0m in \u001b[0;36mforward\u001b[1;34m(model, Xseq, is_train)\u001b[0m\n\u001b[0;32m     38\u001b[0m         \u001b[1;32mreturn\u001b[0m \u001b[0mmodel\u001b[0m\u001b[1;33m.\u001b[0m\u001b[0mlayers\u001b[0m\u001b[1;33m[\u001b[0m\u001b[1;36m0\u001b[0m\u001b[1;33m]\u001b[0m\u001b[1;33m(\u001b[0m\u001b[0mXseq\u001b[0m\u001b[1;33m,\u001b[0m \u001b[0mis_train\u001b[0m\u001b[1;33m)\u001b[0m\u001b[1;33m\u001b[0m\u001b[1;33m\u001b[0m\u001b[0m\n\u001b[0;32m     39\u001b[0m     \u001b[1;32melse\u001b[0m\u001b[1;33m:\u001b[0m\u001b[1;33m\u001b[0m\u001b[1;33m\u001b[0m\u001b[0m\n\u001b[1;32m---> 40\u001b[1;33m         \u001b[1;32mreturn\u001b[0m \u001b[0m_list_forward\u001b[0m\u001b[1;33m(\u001b[0m\u001b[0mcast\u001b[0m\u001b[1;33m(\u001b[0m\u001b[0mModel\u001b[0m\u001b[1;33m[\u001b[0m\u001b[0mList2d\u001b[0m\u001b[1;33m,\u001b[0m \u001b[0mList2d\u001b[0m\u001b[1;33m]\u001b[0m\u001b[1;33m,\u001b[0m \u001b[0mmodel\u001b[0m\u001b[1;33m)\u001b[0m\u001b[1;33m,\u001b[0m \u001b[0mXseq\u001b[0m\u001b[1;33m,\u001b[0m \u001b[0mis_train\u001b[0m\u001b[1;33m)\u001b[0m\u001b[1;33m\u001b[0m\u001b[1;33m\u001b[0m\u001b[0m\n\u001b[0m\u001b[0;32m     41\u001b[0m \u001b[1;33m\u001b[0m\u001b[0m\n\u001b[0;32m     42\u001b[0m \u001b[1;33m\u001b[0m\u001b[0m\n",
      "\u001b[1;32m~\\anaconda3\\lib\\site-packages\\thinc\\layers\\with_array.py\u001b[0m in \u001b[0;36m_list_forward\u001b[1;34m(model, Xs, is_train)\u001b[0m\n\u001b[0;32m     74\u001b[0m     \u001b[0mlengths\u001b[0m \u001b[1;33m=\u001b[0m \u001b[0mlayer\u001b[0m\u001b[1;33m.\u001b[0m\u001b[0mops\u001b[0m\u001b[1;33m.\u001b[0m\u001b[0masarray1i\u001b[0m\u001b[1;33m(\u001b[0m\u001b[1;33m[\u001b[0m\u001b[0mlen\u001b[0m\u001b[1;33m(\u001b[0m\u001b[0mseq\u001b[0m\u001b[1;33m)\u001b[0m \u001b[1;32mfor\u001b[0m \u001b[0mseq\u001b[0m \u001b[1;32min\u001b[0m \u001b[0mXs\u001b[0m\u001b[1;33m]\u001b[0m\u001b[1;33m)\u001b[0m\u001b[1;33m\u001b[0m\u001b[1;33m\u001b[0m\u001b[0m\n\u001b[0;32m     75\u001b[0m     \u001b[0mXf\u001b[0m \u001b[1;33m=\u001b[0m \u001b[0mlayer\u001b[0m\u001b[1;33m.\u001b[0m\u001b[0mops\u001b[0m\u001b[1;33m.\u001b[0m\u001b[0mflatten\u001b[0m\u001b[1;33m(\u001b[0m\u001b[0mXs\u001b[0m\u001b[1;33m,\u001b[0m \u001b[0mpad\u001b[0m\u001b[1;33m=\u001b[0m\u001b[0mpad\u001b[0m\u001b[1;33m)\u001b[0m  \u001b[1;31m# type: ignore\u001b[0m\u001b[1;33m\u001b[0m\u001b[1;33m\u001b[0m\u001b[0m\n\u001b[1;32m---> 76\u001b[1;33m     \u001b[0mYf\u001b[0m\u001b[1;33m,\u001b[0m \u001b[0mget_dXf\u001b[0m \u001b[1;33m=\u001b[0m \u001b[0mlayer\u001b[0m\u001b[1;33m(\u001b[0m\u001b[0mXf\u001b[0m\u001b[1;33m,\u001b[0m \u001b[0mis_train\u001b[0m\u001b[1;33m)\u001b[0m\u001b[1;33m\u001b[0m\u001b[1;33m\u001b[0m\u001b[0m\n\u001b[0m\u001b[0;32m     77\u001b[0m \u001b[1;33m\u001b[0m\u001b[0m\n\u001b[0;32m     78\u001b[0m     \u001b[1;32mdef\u001b[0m \u001b[0mbackprop\u001b[0m\u001b[1;33m(\u001b[0m\u001b[0mdYs\u001b[0m\u001b[1;33m:\u001b[0m \u001b[0mList2d\u001b[0m\u001b[1;33m)\u001b[0m \u001b[1;33m->\u001b[0m \u001b[0mList2d\u001b[0m\u001b[1;33m:\u001b[0m\u001b[1;33m\u001b[0m\u001b[1;33m\u001b[0m\u001b[0m\n",
      "\u001b[1;32m~\\anaconda3\\lib\\site-packages\\thinc\\model.py\u001b[0m in \u001b[0;36m__call__\u001b[1;34m(self, X, is_train)\u001b[0m\n\u001b[0;32m    289\u001b[0m         \"\"\"Call the model's `forward` function, returning the output and a\n\u001b[0;32m    290\u001b[0m         callback to compute the gradients via backpropagation.\"\"\"\n\u001b[1;32m--> 291\u001b[1;33m         \u001b[1;32mreturn\u001b[0m \u001b[0mself\u001b[0m\u001b[1;33m.\u001b[0m\u001b[0m_func\u001b[0m\u001b[1;33m(\u001b[0m\u001b[0mself\u001b[0m\u001b[1;33m,\u001b[0m \u001b[0mX\u001b[0m\u001b[1;33m,\u001b[0m \u001b[0mis_train\u001b[0m\u001b[1;33m=\u001b[0m\u001b[0mis_train\u001b[0m\u001b[1;33m)\u001b[0m\u001b[1;33m\u001b[0m\u001b[1;33m\u001b[0m\u001b[0m\n\u001b[0m\u001b[0;32m    292\u001b[0m \u001b[1;33m\u001b[0m\u001b[0m\n\u001b[0;32m    293\u001b[0m     \u001b[1;32mdef\u001b[0m \u001b[0minitialize\u001b[0m\u001b[1;33m(\u001b[0m\u001b[0mself\u001b[0m\u001b[1;33m,\u001b[0m \u001b[0mX\u001b[0m\u001b[1;33m:\u001b[0m \u001b[0mOptional\u001b[0m\u001b[1;33m[\u001b[0m\u001b[0mInT\u001b[0m\u001b[1;33m]\u001b[0m \u001b[1;33m=\u001b[0m \u001b[1;32mNone\u001b[0m\u001b[1;33m,\u001b[0m \u001b[0mY\u001b[0m\u001b[1;33m:\u001b[0m \u001b[0mOptional\u001b[0m\u001b[1;33m[\u001b[0m\u001b[0mOutT\u001b[0m\u001b[1;33m]\u001b[0m \u001b[1;33m=\u001b[0m \u001b[1;32mNone\u001b[0m\u001b[1;33m)\u001b[0m \u001b[1;33m->\u001b[0m \u001b[1;34m\"Model\"\u001b[0m\u001b[1;33m:\u001b[0m\u001b[1;33m\u001b[0m\u001b[1;33m\u001b[0m\u001b[0m\n",
      "\u001b[1;32m~\\anaconda3\\lib\\site-packages\\thinc\\layers\\chain.py\u001b[0m in \u001b[0;36mforward\u001b[1;34m(model, X, is_train)\u001b[0m\n\u001b[0;32m     52\u001b[0m     \u001b[0mcallbacks\u001b[0m \u001b[1;33m=\u001b[0m \u001b[1;33m[\u001b[0m\u001b[1;33m]\u001b[0m\u001b[1;33m\u001b[0m\u001b[1;33m\u001b[0m\u001b[0m\n\u001b[0;32m     53\u001b[0m     \u001b[1;32mfor\u001b[0m \u001b[0mlayer\u001b[0m \u001b[1;32min\u001b[0m \u001b[0mmodel\u001b[0m\u001b[1;33m.\u001b[0m\u001b[0mlayers\u001b[0m\u001b[1;33m:\u001b[0m\u001b[1;33m\u001b[0m\u001b[1;33m\u001b[0m\u001b[0m\n\u001b[1;32m---> 54\u001b[1;33m         \u001b[0mY\u001b[0m\u001b[1;33m,\u001b[0m \u001b[0minc_layer_grad\u001b[0m \u001b[1;33m=\u001b[0m \u001b[0mlayer\u001b[0m\u001b[1;33m(\u001b[0m\u001b[0mX\u001b[0m\u001b[1;33m,\u001b[0m \u001b[0mis_train\u001b[0m\u001b[1;33m=\u001b[0m\u001b[0mis_train\u001b[0m\u001b[1;33m)\u001b[0m\u001b[1;33m\u001b[0m\u001b[1;33m\u001b[0m\u001b[0m\n\u001b[0m\u001b[0;32m     55\u001b[0m         \u001b[0mcallbacks\u001b[0m\u001b[1;33m.\u001b[0m\u001b[0mappend\u001b[0m\u001b[1;33m(\u001b[0m\u001b[0minc_layer_grad\u001b[0m\u001b[1;33m)\u001b[0m\u001b[1;33m\u001b[0m\u001b[1;33m\u001b[0m\u001b[0m\n\u001b[0;32m     56\u001b[0m         \u001b[0mX\u001b[0m \u001b[1;33m=\u001b[0m \u001b[0mY\u001b[0m\u001b[1;33m\u001b[0m\u001b[1;33m\u001b[0m\u001b[0m\n",
      "\u001b[1;32m~\\anaconda3\\lib\\site-packages\\thinc\\model.py\u001b[0m in \u001b[0;36m__call__\u001b[1;34m(self, X, is_train)\u001b[0m\n\u001b[0;32m    289\u001b[0m         \"\"\"Call the model's `forward` function, returning the output and a\n\u001b[0;32m    290\u001b[0m         callback to compute the gradients via backpropagation.\"\"\"\n\u001b[1;32m--> 291\u001b[1;33m         \u001b[1;32mreturn\u001b[0m \u001b[0mself\u001b[0m\u001b[1;33m.\u001b[0m\u001b[0m_func\u001b[0m\u001b[1;33m(\u001b[0m\u001b[0mself\u001b[0m\u001b[1;33m,\u001b[0m \u001b[0mX\u001b[0m\u001b[1;33m,\u001b[0m \u001b[0mis_train\u001b[0m\u001b[1;33m=\u001b[0m\u001b[0mis_train\u001b[0m\u001b[1;33m)\u001b[0m\u001b[1;33m\u001b[0m\u001b[1;33m\u001b[0m\u001b[0m\n\u001b[0m\u001b[0;32m    292\u001b[0m \u001b[1;33m\u001b[0m\u001b[0m\n\u001b[0;32m    293\u001b[0m     \u001b[1;32mdef\u001b[0m \u001b[0minitialize\u001b[0m\u001b[1;33m(\u001b[0m\u001b[0mself\u001b[0m\u001b[1;33m,\u001b[0m \u001b[0mX\u001b[0m\u001b[1;33m:\u001b[0m \u001b[0mOptional\u001b[0m\u001b[1;33m[\u001b[0m\u001b[0mInT\u001b[0m\u001b[1;33m]\u001b[0m \u001b[1;33m=\u001b[0m \u001b[1;32mNone\u001b[0m\u001b[1;33m,\u001b[0m \u001b[0mY\u001b[0m\u001b[1;33m:\u001b[0m \u001b[0mOptional\u001b[0m\u001b[1;33m[\u001b[0m\u001b[0mOutT\u001b[0m\u001b[1;33m]\u001b[0m \u001b[1;33m=\u001b[0m \u001b[1;32mNone\u001b[0m\u001b[1;33m)\u001b[0m \u001b[1;33m->\u001b[0m \u001b[1;34m\"Model\"\u001b[0m\u001b[1;33m:\u001b[0m\u001b[1;33m\u001b[0m\u001b[1;33m\u001b[0m\u001b[0m\n",
      "\u001b[1;32m~\\anaconda3\\lib\\site-packages\\thinc\\layers\\residual.py\u001b[0m in \u001b[0;36mforward\u001b[1;34m(model, X, is_train)\u001b[0m\n\u001b[0;32m     38\u001b[0m             \u001b[1;32mreturn\u001b[0m \u001b[0md_output\u001b[0m \u001b[1;33m+\u001b[0m \u001b[0mdX\u001b[0m\u001b[1;33m\u001b[0m\u001b[1;33m\u001b[0m\u001b[0m\n\u001b[0;32m     39\u001b[0m \u001b[1;33m\u001b[0m\u001b[0m\n\u001b[1;32m---> 40\u001b[1;33m     \u001b[0mY\u001b[0m\u001b[1;33m,\u001b[0m \u001b[0mbackprop_layer\u001b[0m \u001b[1;33m=\u001b[0m \u001b[0mmodel\u001b[0m\u001b[1;33m.\u001b[0m\u001b[0mlayers\u001b[0m\u001b[1;33m[\u001b[0m\u001b[1;36m0\u001b[0m\u001b[1;33m]\u001b[0m\u001b[1;33m(\u001b[0m\u001b[0mX\u001b[0m\u001b[1;33m,\u001b[0m \u001b[0mis_train\u001b[0m\u001b[1;33m)\u001b[0m\u001b[1;33m\u001b[0m\u001b[1;33m\u001b[0m\u001b[0m\n\u001b[0m\u001b[0;32m     41\u001b[0m     \u001b[1;32mif\u001b[0m \u001b[0misinstance\u001b[0m\u001b[1;33m(\u001b[0m\u001b[0mX\u001b[0m\u001b[1;33m,\u001b[0m \u001b[0mlist\u001b[0m\u001b[1;33m)\u001b[0m\u001b[1;33m:\u001b[0m\u001b[1;33m\u001b[0m\u001b[1;33m\u001b[0m\u001b[0m\n\u001b[0;32m     42\u001b[0m         \u001b[1;32mreturn\u001b[0m \u001b[1;33m[\u001b[0m\u001b[0mX\u001b[0m\u001b[1;33m[\u001b[0m\u001b[0mi\u001b[0m\u001b[1;33m]\u001b[0m \u001b[1;33m+\u001b[0m \u001b[0mY\u001b[0m\u001b[1;33m[\u001b[0m\u001b[0mi\u001b[0m\u001b[1;33m]\u001b[0m \u001b[1;32mfor\u001b[0m \u001b[0mi\u001b[0m \u001b[1;32min\u001b[0m \u001b[0mrange\u001b[0m\u001b[1;33m(\u001b[0m\u001b[0mlen\u001b[0m\u001b[1;33m(\u001b[0m\u001b[0mX\u001b[0m\u001b[1;33m)\u001b[0m\u001b[1;33m)\u001b[0m\u001b[1;33m]\u001b[0m\u001b[1;33m,\u001b[0m \u001b[0mbackprop\u001b[0m\u001b[1;33m\u001b[0m\u001b[1;33m\u001b[0m\u001b[0m\n",
      "\u001b[1;32m~\\anaconda3\\lib\\site-packages\\thinc\\model.py\u001b[0m in \u001b[0;36m__call__\u001b[1;34m(self, X, is_train)\u001b[0m\n\u001b[0;32m    289\u001b[0m         \"\"\"Call the model's `forward` function, returning the output and a\n\u001b[0;32m    290\u001b[0m         callback to compute the gradients via backpropagation.\"\"\"\n\u001b[1;32m--> 291\u001b[1;33m         \u001b[1;32mreturn\u001b[0m \u001b[0mself\u001b[0m\u001b[1;33m.\u001b[0m\u001b[0m_func\u001b[0m\u001b[1;33m(\u001b[0m\u001b[0mself\u001b[0m\u001b[1;33m,\u001b[0m \u001b[0mX\u001b[0m\u001b[1;33m,\u001b[0m \u001b[0mis_train\u001b[0m\u001b[1;33m=\u001b[0m\u001b[0mis_train\u001b[0m\u001b[1;33m)\u001b[0m\u001b[1;33m\u001b[0m\u001b[1;33m\u001b[0m\u001b[0m\n\u001b[0m\u001b[0;32m    292\u001b[0m \u001b[1;33m\u001b[0m\u001b[0m\n\u001b[0;32m    293\u001b[0m     \u001b[1;32mdef\u001b[0m \u001b[0minitialize\u001b[0m\u001b[1;33m(\u001b[0m\u001b[0mself\u001b[0m\u001b[1;33m,\u001b[0m \u001b[0mX\u001b[0m\u001b[1;33m:\u001b[0m \u001b[0mOptional\u001b[0m\u001b[1;33m[\u001b[0m\u001b[0mInT\u001b[0m\u001b[1;33m]\u001b[0m \u001b[1;33m=\u001b[0m \u001b[1;32mNone\u001b[0m\u001b[1;33m,\u001b[0m \u001b[0mY\u001b[0m\u001b[1;33m:\u001b[0m \u001b[0mOptional\u001b[0m\u001b[1;33m[\u001b[0m\u001b[0mOutT\u001b[0m\u001b[1;33m]\u001b[0m \u001b[1;33m=\u001b[0m \u001b[1;32mNone\u001b[0m\u001b[1;33m)\u001b[0m \u001b[1;33m->\u001b[0m \u001b[1;34m\"Model\"\u001b[0m\u001b[1;33m:\u001b[0m\u001b[1;33m\u001b[0m\u001b[1;33m\u001b[0m\u001b[0m\n",
      "\u001b[1;32m~\\anaconda3\\lib\\site-packages\\thinc\\layers\\chain.py\u001b[0m in \u001b[0;36mforward\u001b[1;34m(model, X, is_train)\u001b[0m\n\u001b[0;32m     52\u001b[0m     \u001b[0mcallbacks\u001b[0m \u001b[1;33m=\u001b[0m \u001b[1;33m[\u001b[0m\u001b[1;33m]\u001b[0m\u001b[1;33m\u001b[0m\u001b[1;33m\u001b[0m\u001b[0m\n\u001b[0;32m     53\u001b[0m     \u001b[1;32mfor\u001b[0m \u001b[0mlayer\u001b[0m \u001b[1;32min\u001b[0m \u001b[0mmodel\u001b[0m\u001b[1;33m.\u001b[0m\u001b[0mlayers\u001b[0m\u001b[1;33m:\u001b[0m\u001b[1;33m\u001b[0m\u001b[1;33m\u001b[0m\u001b[0m\n\u001b[1;32m---> 54\u001b[1;33m         \u001b[0mY\u001b[0m\u001b[1;33m,\u001b[0m \u001b[0minc_layer_grad\u001b[0m \u001b[1;33m=\u001b[0m \u001b[0mlayer\u001b[0m\u001b[1;33m(\u001b[0m\u001b[0mX\u001b[0m\u001b[1;33m,\u001b[0m \u001b[0mis_train\u001b[0m\u001b[1;33m=\u001b[0m\u001b[0mis_train\u001b[0m\u001b[1;33m)\u001b[0m\u001b[1;33m\u001b[0m\u001b[1;33m\u001b[0m\u001b[0m\n\u001b[0m\u001b[0;32m     55\u001b[0m         \u001b[0mcallbacks\u001b[0m\u001b[1;33m.\u001b[0m\u001b[0mappend\u001b[0m\u001b[1;33m(\u001b[0m\u001b[0minc_layer_grad\u001b[0m\u001b[1;33m)\u001b[0m\u001b[1;33m\u001b[0m\u001b[1;33m\u001b[0m\u001b[0m\n\u001b[0;32m     56\u001b[0m         \u001b[0mX\u001b[0m \u001b[1;33m=\u001b[0m \u001b[0mY\u001b[0m\u001b[1;33m\u001b[0m\u001b[1;33m\u001b[0m\u001b[0m\n",
      "\u001b[1;32m~\\anaconda3\\lib\\site-packages\\thinc\\model.py\u001b[0m in \u001b[0;36m__call__\u001b[1;34m(self, X, is_train)\u001b[0m\n\u001b[0;32m    289\u001b[0m         \"\"\"Call the model's `forward` function, returning the output and a\n\u001b[0;32m    290\u001b[0m         callback to compute the gradients via backpropagation.\"\"\"\n\u001b[1;32m--> 291\u001b[1;33m         \u001b[1;32mreturn\u001b[0m \u001b[0mself\u001b[0m\u001b[1;33m.\u001b[0m\u001b[0m_func\u001b[0m\u001b[1;33m(\u001b[0m\u001b[0mself\u001b[0m\u001b[1;33m,\u001b[0m \u001b[0mX\u001b[0m\u001b[1;33m,\u001b[0m \u001b[0mis_train\u001b[0m\u001b[1;33m=\u001b[0m\u001b[0mis_train\u001b[0m\u001b[1;33m)\u001b[0m\u001b[1;33m\u001b[0m\u001b[1;33m\u001b[0m\u001b[0m\n\u001b[0m\u001b[0;32m    292\u001b[0m \u001b[1;33m\u001b[0m\u001b[0m\n\u001b[0;32m    293\u001b[0m     \u001b[1;32mdef\u001b[0m \u001b[0minitialize\u001b[0m\u001b[1;33m(\u001b[0m\u001b[0mself\u001b[0m\u001b[1;33m,\u001b[0m \u001b[0mX\u001b[0m\u001b[1;33m:\u001b[0m \u001b[0mOptional\u001b[0m\u001b[1;33m[\u001b[0m\u001b[0mInT\u001b[0m\u001b[1;33m]\u001b[0m \u001b[1;33m=\u001b[0m \u001b[1;32mNone\u001b[0m\u001b[1;33m,\u001b[0m \u001b[0mY\u001b[0m\u001b[1;33m:\u001b[0m \u001b[0mOptional\u001b[0m\u001b[1;33m[\u001b[0m\u001b[0mOutT\u001b[0m\u001b[1;33m]\u001b[0m \u001b[1;33m=\u001b[0m \u001b[1;32mNone\u001b[0m\u001b[1;33m)\u001b[0m \u001b[1;33m->\u001b[0m \u001b[1;34m\"Model\"\u001b[0m\u001b[1;33m:\u001b[0m\u001b[1;33m\u001b[0m\u001b[1;33m\u001b[0m\u001b[0m\n",
      "\u001b[1;32m~\\anaconda3\\lib\\site-packages\\thinc\\layers\\chain.py\u001b[0m in \u001b[0;36mforward\u001b[1;34m(model, X, is_train)\u001b[0m\n\u001b[0;32m     52\u001b[0m     \u001b[0mcallbacks\u001b[0m \u001b[1;33m=\u001b[0m \u001b[1;33m[\u001b[0m\u001b[1;33m]\u001b[0m\u001b[1;33m\u001b[0m\u001b[1;33m\u001b[0m\u001b[0m\n\u001b[0;32m     53\u001b[0m     \u001b[1;32mfor\u001b[0m \u001b[0mlayer\u001b[0m \u001b[1;32min\u001b[0m \u001b[0mmodel\u001b[0m\u001b[1;33m.\u001b[0m\u001b[0mlayers\u001b[0m\u001b[1;33m:\u001b[0m\u001b[1;33m\u001b[0m\u001b[1;33m\u001b[0m\u001b[0m\n\u001b[1;32m---> 54\u001b[1;33m         \u001b[0mY\u001b[0m\u001b[1;33m,\u001b[0m \u001b[0minc_layer_grad\u001b[0m \u001b[1;33m=\u001b[0m \u001b[0mlayer\u001b[0m\u001b[1;33m(\u001b[0m\u001b[0mX\u001b[0m\u001b[1;33m,\u001b[0m \u001b[0mis_train\u001b[0m\u001b[1;33m=\u001b[0m\u001b[0mis_train\u001b[0m\u001b[1;33m)\u001b[0m\u001b[1;33m\u001b[0m\u001b[1;33m\u001b[0m\u001b[0m\n\u001b[0m\u001b[0;32m     55\u001b[0m         \u001b[0mcallbacks\u001b[0m\u001b[1;33m.\u001b[0m\u001b[0mappend\u001b[0m\u001b[1;33m(\u001b[0m\u001b[0minc_layer_grad\u001b[0m\u001b[1;33m)\u001b[0m\u001b[1;33m\u001b[0m\u001b[1;33m\u001b[0m\u001b[0m\n\u001b[0;32m     56\u001b[0m         \u001b[0mX\u001b[0m \u001b[1;33m=\u001b[0m \u001b[0mY\u001b[0m\u001b[1;33m\u001b[0m\u001b[1;33m\u001b[0m\u001b[0m\n",
      "\u001b[1;32m~\\anaconda3\\lib\\site-packages\\thinc\\model.py\u001b[0m in \u001b[0;36m__call__\u001b[1;34m(self, X, is_train)\u001b[0m\n\u001b[0;32m    289\u001b[0m         \"\"\"Call the model's `forward` function, returning the output and a\n\u001b[0;32m    290\u001b[0m         callback to compute the gradients via backpropagation.\"\"\"\n\u001b[1;32m--> 291\u001b[1;33m         \u001b[1;32mreturn\u001b[0m \u001b[0mself\u001b[0m\u001b[1;33m.\u001b[0m\u001b[0m_func\u001b[0m\u001b[1;33m(\u001b[0m\u001b[0mself\u001b[0m\u001b[1;33m,\u001b[0m \u001b[0mX\u001b[0m\u001b[1;33m,\u001b[0m \u001b[0mis_train\u001b[0m\u001b[1;33m=\u001b[0m\u001b[0mis_train\u001b[0m\u001b[1;33m)\u001b[0m\u001b[1;33m\u001b[0m\u001b[1;33m\u001b[0m\u001b[0m\n\u001b[0m\u001b[0;32m    292\u001b[0m \u001b[1;33m\u001b[0m\u001b[0m\n\u001b[0;32m    293\u001b[0m     \u001b[1;32mdef\u001b[0m \u001b[0minitialize\u001b[0m\u001b[1;33m(\u001b[0m\u001b[0mself\u001b[0m\u001b[1;33m,\u001b[0m \u001b[0mX\u001b[0m\u001b[1;33m:\u001b[0m \u001b[0mOptional\u001b[0m\u001b[1;33m[\u001b[0m\u001b[0mInT\u001b[0m\u001b[1;33m]\u001b[0m \u001b[1;33m=\u001b[0m \u001b[1;32mNone\u001b[0m\u001b[1;33m,\u001b[0m \u001b[0mY\u001b[0m\u001b[1;33m:\u001b[0m \u001b[0mOptional\u001b[0m\u001b[1;33m[\u001b[0m\u001b[0mOutT\u001b[0m\u001b[1;33m]\u001b[0m \u001b[1;33m=\u001b[0m \u001b[1;32mNone\u001b[0m\u001b[1;33m)\u001b[0m \u001b[1;33m->\u001b[0m \u001b[1;34m\"Model\"\u001b[0m\u001b[1;33m:\u001b[0m\u001b[1;33m\u001b[0m\u001b[1;33m\u001b[0m\u001b[0m\n",
      "\u001b[1;32m~\\anaconda3\\lib\\site-packages\\thinc\\layers\\chain.py\u001b[0m in \u001b[0;36mforward\u001b[1;34m(model, X, is_train)\u001b[0m\n\u001b[0;32m     52\u001b[0m     \u001b[0mcallbacks\u001b[0m \u001b[1;33m=\u001b[0m \u001b[1;33m[\u001b[0m\u001b[1;33m]\u001b[0m\u001b[1;33m\u001b[0m\u001b[1;33m\u001b[0m\u001b[0m\n\u001b[0;32m     53\u001b[0m     \u001b[1;32mfor\u001b[0m \u001b[0mlayer\u001b[0m \u001b[1;32min\u001b[0m \u001b[0mmodel\u001b[0m\u001b[1;33m.\u001b[0m\u001b[0mlayers\u001b[0m\u001b[1;33m:\u001b[0m\u001b[1;33m\u001b[0m\u001b[1;33m\u001b[0m\u001b[0m\n\u001b[1;32m---> 54\u001b[1;33m         \u001b[0mY\u001b[0m\u001b[1;33m,\u001b[0m \u001b[0minc_layer_grad\u001b[0m \u001b[1;33m=\u001b[0m \u001b[0mlayer\u001b[0m\u001b[1;33m(\u001b[0m\u001b[0mX\u001b[0m\u001b[1;33m,\u001b[0m \u001b[0mis_train\u001b[0m\u001b[1;33m=\u001b[0m\u001b[0mis_train\u001b[0m\u001b[1;33m)\u001b[0m\u001b[1;33m\u001b[0m\u001b[1;33m\u001b[0m\u001b[0m\n\u001b[0m\u001b[0;32m     55\u001b[0m         \u001b[0mcallbacks\u001b[0m\u001b[1;33m.\u001b[0m\u001b[0mappend\u001b[0m\u001b[1;33m(\u001b[0m\u001b[0minc_layer_grad\u001b[0m\u001b[1;33m)\u001b[0m\u001b[1;33m\u001b[0m\u001b[1;33m\u001b[0m\u001b[0m\n\u001b[0;32m     56\u001b[0m         \u001b[0mX\u001b[0m \u001b[1;33m=\u001b[0m \u001b[0mY\u001b[0m\u001b[1;33m\u001b[0m\u001b[1;33m\u001b[0m\u001b[0m\n",
      "\u001b[1;32m~\\anaconda3\\lib\\site-packages\\thinc\\model.py\u001b[0m in \u001b[0;36m__call__\u001b[1;34m(self, X, is_train)\u001b[0m\n\u001b[0;32m    289\u001b[0m         \"\"\"Call the model's `forward` function, returning the output and a\n\u001b[0;32m    290\u001b[0m         callback to compute the gradients via backpropagation.\"\"\"\n\u001b[1;32m--> 291\u001b[1;33m         \u001b[1;32mreturn\u001b[0m \u001b[0mself\u001b[0m\u001b[1;33m.\u001b[0m\u001b[0m_func\u001b[0m\u001b[1;33m(\u001b[0m\u001b[0mself\u001b[0m\u001b[1;33m,\u001b[0m \u001b[0mX\u001b[0m\u001b[1;33m,\u001b[0m \u001b[0mis_train\u001b[0m\u001b[1;33m=\u001b[0m\u001b[0mis_train\u001b[0m\u001b[1;33m)\u001b[0m\u001b[1;33m\u001b[0m\u001b[1;33m\u001b[0m\u001b[0m\n\u001b[0m\u001b[0;32m    292\u001b[0m \u001b[1;33m\u001b[0m\u001b[0m\n\u001b[0;32m    293\u001b[0m     \u001b[1;32mdef\u001b[0m \u001b[0minitialize\u001b[0m\u001b[1;33m(\u001b[0m\u001b[0mself\u001b[0m\u001b[1;33m,\u001b[0m \u001b[0mX\u001b[0m\u001b[1;33m:\u001b[0m \u001b[0mOptional\u001b[0m\u001b[1;33m[\u001b[0m\u001b[0mInT\u001b[0m\u001b[1;33m]\u001b[0m \u001b[1;33m=\u001b[0m \u001b[1;32mNone\u001b[0m\u001b[1;33m,\u001b[0m \u001b[0mY\u001b[0m\u001b[1;33m:\u001b[0m \u001b[0mOptional\u001b[0m\u001b[1;33m[\u001b[0m\u001b[0mOutT\u001b[0m\u001b[1;33m]\u001b[0m \u001b[1;33m=\u001b[0m \u001b[1;32mNone\u001b[0m\u001b[1;33m)\u001b[0m \u001b[1;33m->\u001b[0m \u001b[1;34m\"Model\"\u001b[0m\u001b[1;33m:\u001b[0m\u001b[1;33m\u001b[0m\u001b[1;33m\u001b[0m\u001b[0m\n",
      "\u001b[1;32m~\\anaconda3\\lib\\site-packages\\thinc\\layers\\maxout.py\u001b[0m in \u001b[0;36mforward\u001b[1;34m(model, X, is_train)\u001b[0m\n\u001b[0;32m     47\u001b[0m     \u001b[0mW\u001b[0m \u001b[1;33m=\u001b[0m \u001b[0mmodel\u001b[0m\u001b[1;33m.\u001b[0m\u001b[0mget_param\u001b[0m\u001b[1;33m(\u001b[0m\u001b[1;34m\"W\"\u001b[0m\u001b[1;33m)\u001b[0m\u001b[1;33m\u001b[0m\u001b[1;33m\u001b[0m\u001b[0m\n\u001b[0;32m     48\u001b[0m     \u001b[0mW\u001b[0m \u001b[1;33m=\u001b[0m \u001b[0mmodel\u001b[0m\u001b[1;33m.\u001b[0m\u001b[0mops\u001b[0m\u001b[1;33m.\u001b[0m\u001b[0mreshape2f\u001b[0m\u001b[1;33m(\u001b[0m\u001b[0mW\u001b[0m\u001b[1;33m,\u001b[0m \u001b[0mnO\u001b[0m \u001b[1;33m*\u001b[0m \u001b[0mnP\u001b[0m\u001b[1;33m,\u001b[0m \u001b[0mnI\u001b[0m\u001b[1;33m)\u001b[0m\u001b[1;33m\u001b[0m\u001b[1;33m\u001b[0m\u001b[0m\n\u001b[1;32m---> 49\u001b[1;33m     \u001b[0mY\u001b[0m \u001b[1;33m=\u001b[0m \u001b[0mmodel\u001b[0m\u001b[1;33m.\u001b[0m\u001b[0mops\u001b[0m\u001b[1;33m.\u001b[0m\u001b[0mgemm\u001b[0m\u001b[1;33m(\u001b[0m\u001b[0mX\u001b[0m\u001b[1;33m,\u001b[0m \u001b[0mW\u001b[0m\u001b[1;33m,\u001b[0m \u001b[0mtrans2\u001b[0m\u001b[1;33m=\u001b[0m\u001b[1;32mTrue\u001b[0m\u001b[1;33m)\u001b[0m\u001b[1;33m\u001b[0m\u001b[1;33m\u001b[0m\u001b[0m\n\u001b[0m\u001b[0;32m     50\u001b[0m     \u001b[0mY\u001b[0m \u001b[1;33m+=\u001b[0m \u001b[0mmodel\u001b[0m\u001b[1;33m.\u001b[0m\u001b[0mops\u001b[0m\u001b[1;33m.\u001b[0m\u001b[0mreshape1f\u001b[0m\u001b[1;33m(\u001b[0m\u001b[0mb\u001b[0m\u001b[1;33m,\u001b[0m \u001b[0mnO\u001b[0m \u001b[1;33m*\u001b[0m \u001b[0mnP\u001b[0m\u001b[1;33m)\u001b[0m\u001b[1;33m\u001b[0m\u001b[1;33m\u001b[0m\u001b[0m\n\u001b[0;32m     51\u001b[0m     \u001b[0mZ\u001b[0m \u001b[1;33m=\u001b[0m \u001b[0mmodel\u001b[0m\u001b[1;33m.\u001b[0m\u001b[0mops\u001b[0m\u001b[1;33m.\u001b[0m\u001b[0mreshape3f\u001b[0m\u001b[1;33m(\u001b[0m\u001b[0mY\u001b[0m\u001b[1;33m,\u001b[0m \u001b[0mY\u001b[0m\u001b[1;33m.\u001b[0m\u001b[0mshape\u001b[0m\u001b[1;33m[\u001b[0m\u001b[1;36m0\u001b[0m\u001b[1;33m]\u001b[0m\u001b[1;33m,\u001b[0m \u001b[0mnO\u001b[0m\u001b[1;33m,\u001b[0m \u001b[0mnP\u001b[0m\u001b[1;33m)\u001b[0m\u001b[1;33m\u001b[0m\u001b[1;33m\u001b[0m\u001b[0m\n",
      "\u001b[1;31mKeyboardInterrupt\u001b[0m: "
     ]
    }
   ],
   "source": [
    "for tweet in live_tweets[5]: #test_data['tweet'][:500]:\n",
    "    ents = nlp(preProcess(tweet))\n",
    "    #if ents.doc.ents:\n",
    "    ent_recognize(preProcess(tweet))"
   ]
  },
  {
   "cell_type": "markdown",
   "metadata": {},
   "source": [
    "# Old Results (Don't Change Unless on Purpose!)"
   ]
  },
  {
   "cell_type": "code",
   "execution_count": null,
   "metadata": {},
   "outputs": [],
   "source": [
    "foodK1 = foodKeeperInfo()\n",
    "notInFoodKeeper = []\n",
    "inFoodKeeper = []\n",
    "for keyword in keywordsFound:\n",
    "    if keyword not in foodK1 and keyword not in notInFoodKeeper: notInFoodKeeper.append(keyword)\n",
    "    elif keyword in foodK1 and keyword not in inFoodKeeper: inFoodKeeper.append(keyword)\n",
    "        \n",
    "print(len(notInFoodKeeper), len(inFoodKeeper))\n",
    "print(inFoodKeeper)\n",
    "#Normal Process"
   ]
  },
  {
   "cell_type": "code",
   "execution_count": null,
   "metadata": {},
   "outputs": [
    {
     "name": "stdout",
     "output_type": "stream",
     "text": [
      "10443 316\n"
     ]
    }
   ],
   "source": [
    "foodK1 = foodKeeperInfo()\n",
    "notInFoodKeeper = []\n",
    "inFoodKeeper = []\n",
    "for keyword in keywordsFound:\n",
    "    if keyword not in foodK1 and keyword not in notInFoodKeeper: notInFoodKeeper.append(keyword)\n",
    "    elif keyword in foodK1 and keyword not in inFoodKeeper: inFoodKeeper.append(keyword)\n",
    "        \n",
    "print(len(notInFoodKeeper), len(inFoodKeeper))"
   ]
  },
  {
   "cell_type": "code",
   "execution_count": null,
   "metadata": {},
   "outputs": [],
   "source": []
  }
 ],
 "metadata": {
  "kernelspec": {
   "display_name": "Python 3 (ipykernel)",
   "language": "python",
   "name": "python3"
  },
  "language_info": {
   "codemirror_mode": {
    "name": "ipython",
    "version": 3
   },
   "file_extension": ".py",
   "mimetype": "text/x-python",
   "name": "python",
   "nbconvert_exporter": "python",
   "pygments_lexer": "ipython3",
   "version": "3.9.13"
  }
 },
 "nbformat": 4,
 "nbformat_minor": 4
}
